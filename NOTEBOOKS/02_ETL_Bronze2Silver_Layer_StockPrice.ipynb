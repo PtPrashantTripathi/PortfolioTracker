{
 "cells": [
  {
   "cell_type": "markdown",
   "metadata": {},
   "source": [
    "## BRONZE TO SILVER LAYER\n"
   ]
  },
  {
   "cell_type": "code",
   "execution_count": null,
   "metadata": {},
   "outputs": [],
   "source": [
    "import pandas as pd\n",
    "from common_utilities import replace_punctuation_from_columns\n",
    "from global_paths import StockPriceBronzeLayerPath, StockPriceSilverFilePath"
   ]
  },
  {
   "cell_type": "markdown",
   "metadata": {},
   "source": [
    "### Silver Layer - Stock Price History\n"
   ]
  },
  {
   "cell_type": "code",
   "execution_count": null,
   "metadata": {},
   "outputs": [],
   "source": [
    "# Initialize an empty list to store DataFrames\n",
    "df_StockPrice = []\n",
    "\n",
    "# Loop through List of all CSV files in the folder\n",
    "for file_path in StockPriceBronzeLayerPath.glob(\"*.NS.csv\"):\n",
    "    # Read the CSV file\n",
    "    df = pd.read_csv(file_path)\n",
    "\n",
    "    # stock name from file path\n",
    "    df[\"stock_name\"] = file_path.name.split(\".\")[0].upper().strip()\n",
    "\n",
    "    # Append the DataFrame to the list\n",
    "    df_StockPrice.append(df)\n",
    "\n",
    "# Concatenate all DataFrames into one\n",
    "df_StockPrice = pd.concat(df_StockPrice, ignore_index=True)\n",
    "df_StockPrice.columns = replace_punctuation_from_columns(df_StockPrice.columns)\n",
    "df_StockPrice.dropna(how=\"all\", axis=1, inplace=True)\n",
    "\n",
    "# round the numbers\n",
    "df_StockPrice = df_StockPrice.round(2)\n",
    "\n",
    "# sort the dataframe by date\n",
    "df_StockPrice = df_StockPrice.sort_values(by=[\"stock_name\", \"date\"])\n",
    "\n",
    "# Save the result as a csv file\n",
    "df_StockPrice = df_StockPrice[[\"date\", \"stock_name\", \"open\", \"high\", \"low\", \"close\"]]\n",
    "df_StockPrice.to_csv(StockPriceSilverFilePath, index=None)\n",
    "df_StockPrice.info()\n",
    "\n",
    "print(\"Silver Layer csv file for Stock Price history successfully created at:\")\n",
    "print(StockPriceSilverFilePath.resolve())"
   ]
  },
  {
   "cell_type": "code",
   "execution_count": null,
   "metadata": {},
   "outputs": [],
   "source": []
  }
 ],
 "metadata": {
  "kernelspec": {
   "display_name": "Python 3",
   "language": "python",
   "name": "python3"
  },
  "language_info": {
   "codemirror_mode": {
    "name": "ipython",
    "version": 3
   },
   "file_extension": ".py",
   "mimetype": "text/x-python",
   "name": "python",
   "nbconvert_exporter": "python",
   "pygments_lexer": "ipython3",
   "version": "3.11.4"
  }
 },
 "nbformat": 4,
 "nbformat_minor": 2
}
