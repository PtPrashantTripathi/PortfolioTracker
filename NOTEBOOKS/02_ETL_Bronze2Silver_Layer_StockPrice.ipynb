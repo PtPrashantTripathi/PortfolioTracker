{
 "cells": [
  {
   "cell_type": "markdown",
   "metadata": {},
   "source": [
    "## BRONZE TO SILVER LAYER\n"
   ]
  },
  {
   "cell_type": "code",
   "execution_count": 1,
   "metadata": {},
   "outputs": [],
   "source": [
    "import os\n",
    "import pathlib\n",
    "import pandas as pd"
   ]
  },
  {
   "cell_type": "code",
   "execution_count": 2,
   "metadata": {},
   "outputs": [],
   "source": [
    "## Folder and File path\n",
    "cwd = pathlib.Path(os.getcwd())\n",
    "\n",
    "bronze_data_path = cwd.joinpath(\"../DATA/BRONZE\").resolve()\n",
    "\n",
    "silver_path = cwd.joinpath(\"../DATA/SILVER\")\n",
    "silver_path.mkdir(parents=True, exist_ok=True)"
   ]
  },
  {
   "cell_type": "markdown",
   "metadata": {},
   "source": [
    "### Silver Layer - Stock Price History\n"
   ]
  },
  {
   "cell_type": "code",
   "execution_count": 3,
   "metadata": {},
   "outputs": [
    {
     "name": "stdout",
     "output_type": "stream",
     "text": [
      "<class 'pandas.core.frame.DataFrame'>\n",
      "Index: 1102 entries, 0 to 958\n",
      "Data columns (total 18 columns):\n",
      " #   Column      Non-Null Count  Dtype  \n",
      "---  ------      --------------  -----  \n",
      " 0   date        1102 non-null   object \n",
      " 1   BHAGERIA    950 non-null    float64\n",
      " 2   BPCL        950 non-null    float64\n",
      " 3   GOLDBEES    950 non-null    float64\n",
      " 4   HERANBA     655 non-null    float64\n",
      " 5   IDEA        950 non-null    float64\n",
      " 6   INFY        950 non-null    float64\n",
      " 7   IRCTC       9 non-null      float64\n",
      " 8   KPITTECH    9 non-null      float64\n",
      " 9   LICI        361 non-null    float64\n",
      " 10  NIFTYBEES   950 non-null    float64\n",
      " 11  PNB         950 non-null    float64\n",
      " 12  SBIN        950 non-null    float64\n",
      " 13  TATACHEM    950 non-null    float64\n",
      " 14  TATAMOTORS  1102 non-null   float64\n",
      " 15  TATAPOWER   1102 non-null   float64\n",
      " 16  VOLTAS      950 non-null    float64\n",
      " 17  YESBANK     950 non-null    float64\n",
      "dtypes: float64(17), object(1)\n",
      "memory usage: 195.9+ KB\n",
      "Silver Layer csv file for Stock Price history successfully created at:\n",
      "C:\\Users\\prashant.tripathi\\Code\\Unilever\\Upstox\\DATA\\SILVER\\StockPrice.csv\n"
     ]
    }
   ],
   "source": [
    "# Initialize an varible to store DataFrame\n",
    "df_stock_price = pd.DataFrame([{\"date\": \"2020-01-01\"}])\n",
    "\n",
    "# List all CSV files in the folder\n",
    "bronze_data_stock_price_file_path = bronze_data_path.joinpath(\"STOCK_PRICE\")\n",
    "csv_files = bronze_data_stock_price_file_path.glob(\"*.NS.csv\")\n",
    "\n",
    "# Loop through the CSV files\n",
    "for file_path in csv_files:\n",
    "    # Read the CSV file\n",
    "    df_bronze = pd.read_csv(file_path)\n",
    "\n",
    "    # stock name from file path\n",
    "    stock_name = file_path.name.split(\".\")[0].upper().strip()\n",
    "\n",
    "    # Rename Cols\n",
    "    df_bronze[\"date\"] = df_bronze[\"Date\"]\n",
    "    df_bronze[stock_name] = df_bronze[\"Close\"]\n",
    "    df_bronze = df_bronze[[\"date\", stock_name]]\n",
    "\n",
    "    # Marge the DataFrame\n",
    "    df_stock_price = pd.merge(df_stock_price, df_bronze, on=\"date\", how=\"outer\")\n",
    "\n",
    "# sort the dataframe by date\n",
    "df_stock_price = df_stock_price.sort_values(by=[\"date\"])\n",
    "\n",
    "# Save the result as a csv file\n",
    "silver_trade_history_file_path = silver_path.joinpath(\"StockPrice.csv\")\n",
    "df_stock_price.to_csv(silver_trade_history_file_path, orient=\"records\", indent=4)\n",
    "df_stock_price.info()\n",
    "\n",
    "print(\"Silver Layer csv file for Stock Price history successfully created at:\")\n",
    "print(silver_trade_history_file_path.resolve())"
   ]
  }
 ],
 "metadata": {
  "kernelspec": {
   "display_name": "Python 3",
   "language": "python",
   "name": "python3"
  },
  "language_info": {
   "codemirror_mode": {
    "name": "ipython",
    "version": 3
   },
   "file_extension": ".py",
   "mimetype": "text/x-python",
   "name": "python",
   "nbconvert_exporter": "python",
   "pygments_lexer": "ipython3",
   "version": "3.11.4"
  }
 },
 "nbformat": 4,
 "nbformat_minor": 2
}
