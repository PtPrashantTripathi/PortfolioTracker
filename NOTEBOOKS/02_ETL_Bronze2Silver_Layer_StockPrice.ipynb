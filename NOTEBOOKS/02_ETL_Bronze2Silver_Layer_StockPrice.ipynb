{
 "cells": [
  {
   "cell_type": "markdown",
   "metadata": {},
   "source": [
    "## BRONZE TO SILVER LAYER\n"
   ]
  },
  {
   "cell_type": "code",
   "execution_count": 4,
   "metadata": {},
   "outputs": [],
   "source": [
    "from global_paths import GlobalPaths\n",
    "import pandas as pd"
   ]
  },
  {
   "cell_type": "markdown",
   "metadata": {},
   "source": [
    "### StockPrice Paths\n"
   ]
  },
  {
   "cell_type": "code",
   "execution_count": 5,
   "metadata": {},
   "outputs": [],
   "source": [
    "# Initialize StockPrice Paths\n",
    "StockPricePath = GlobalPaths(source_name=\"DATA\", object_name=\"StockPrice\")\n",
    "StockPriceBronzePath = StockPricePath.createLayer(layer_name=\"BRONZE\")\n",
    "StockPriceSilverPath = StockPricePath.createLayer(layer_name=\"SILVER\")\n",
    "StockPriceSilverFile = StockPriceSilverPath.joinpath(\"StockPrice_data.csv\")"
   ]
  },
  {
   "cell_type": "markdown",
   "metadata": {},
   "source": [
    "### Silver Layer - Stock Price History\n"
   ]
  },
  {
   "cell_type": "code",
   "execution_count": 6,
   "metadata": {},
   "outputs": [
    {
     "name": "stdout",
     "output_type": "stream",
     "text": [
      "<class 'pandas.core.frame.DataFrame'>\n",
      "Index: 1102 entries, 0 to 958\n",
      "Data columns (total 18 columns):\n",
      " #   Column      Non-Null Count  Dtype  \n",
      "---  ------      --------------  -----  \n",
      " 0   date        1102 non-null   object \n",
      " 1   BHAGERIA    950 non-null    float64\n",
      " 2   BPCL        950 non-null    float64\n",
      " 3   GOLDBEES    950 non-null    float64\n",
      " 4   HERANBA     655 non-null    float64\n",
      " 5   IDEA        950 non-null    float64\n",
      " 6   INFY        950 non-null    float64\n",
      " 7   IRCTC       9 non-null      float64\n",
      " 8   KPITTECH    9 non-null      float64\n",
      " 9   LICI        361 non-null    float64\n",
      " 10  NIFTYBEES   950 non-null    float64\n",
      " 11  PNB         950 non-null    float64\n",
      " 12  SBIN        950 non-null    float64\n",
      " 13  TATACHEM    950 non-null    float64\n",
      " 14  TATAMOTORS  1102 non-null   float64\n",
      " 15  TATAPOWER   1102 non-null   float64\n",
      " 16  VOLTAS      950 non-null    float64\n",
      " 17  YESBANK     950 non-null    float64\n",
      "dtypes: float64(17), object(1)\n",
      "memory usage: 163.6+ KB\n",
      "Silver Layer csv file for Stock Price history successfully created at:\n",
      "C:\\Users\\prashant.tripathi\\Code\\Upstox\\DATA\\SILVER\\StockPrice\\StockPrice_data.csv\n"
     ]
    }
   ],
   "source": [
    "# Initialize an varible to store DataFrame\n",
    "df_StockPrice = pd.DataFrame([{\"date\": \"2020-01-01\"}])\n",
    "\n",
    "# Loop through List of all CSV files in the folder\n",
    "for file_path in StockPriceBronzePath.glob(\"*.NS.csv\"):\n",
    "    # Read the CSV file\n",
    "    df_bronze = pd.read_csv(file_path)\n",
    "\n",
    "    # stock name from file path\n",
    "    stock_name = file_path.name.split(\".\")[0].upper().strip()\n",
    "\n",
    "    # Rename Cols\n",
    "    df_bronze[\"date\"] = df_bronze[\"Date\"]\n",
    "    df_bronze[stock_name] = df_bronze[\"Close\"].astype(float).round(2)\n",
    "    df_bronze = df_bronze[[\"date\", stock_name]]\n",
    "\n",
    "    # Marge the DataFrame\n",
    "    df_StockPrice = pd.merge(df_StockPrice, df_bronze, on=\"date\", how=\"outer\")\n",
    "\n",
    "# sort the dataframe by date\n",
    "df_StockPrice = df_StockPrice.sort_values(by=[\"date\"])\n",
    "\n",
    "# Save the result as a csv file\n",
    "df_StockPrice.to_csv(StockPriceSilverFile, index=None)\n",
    "df_StockPrice.info()\n",
    "\n",
    "print(\"Silver Layer csv file for Stock Price history successfully created at:\")\n",
    "print(StockPriceSilverFile.resolve())"
   ]
  }
 ],
 "metadata": {
  "kernelspec": {
   "display_name": "Python 3",
   "language": "python",
   "name": "python3"
  },
  "language_info": {
   "codemirror_mode": {
    "name": "ipython",
    "version": 3
   },
   "file_extension": ".py",
   "mimetype": "text/x-python",
   "name": "python",
   "nbconvert_exporter": "python",
   "pygments_lexer": "ipython3",
   "version": "3.11.4"
  }
 },
 "nbformat": 4,
 "nbformat_minor": 2
}
