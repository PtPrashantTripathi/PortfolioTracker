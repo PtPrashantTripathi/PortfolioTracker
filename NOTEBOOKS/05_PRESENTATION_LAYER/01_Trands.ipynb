{
 "cells": [
  {
   "cell_type": "markdown",
   "id": "0",
   "metadata": {},
   "source": [
    "# 📈 Stock Price Prediction with LSTM (PyTorch)\n",
    "### Predict future stock prices using an LSTM-based deep learning model.\n"
   ]
  },
  {
   "cell_type": "code",
   "execution_count": null,
   "id": "1",
   "metadata": {},
   "outputs": [],
   "source": [
    "from datetime import datetime, timedelta\n",
    "\n",
    "import matplotlib.pyplot as plt\n",
    "import numpy as np\n",
    "import pandas as pd\n",
    "import torch\n",
    "import torch.nn as nn\n",
    "from sklearn.preprocessing import MinMaxScaler\n",
    "\n",
    "from StockETL.globalpath import GlobalPath"
   ]
  },
  {
   "cell_type": "code",
   "execution_count": null,
   "id": "2",
   "metadata": {},
   "outputs": [],
   "source": [
    "time_step = 60\n",
    "epochs = 50\n",
    "today = datetime.today()"
   ]
  },
  {
   "cell_type": "code",
   "execution_count": null,
   "id": "3",
   "metadata": {},
   "outputs": [],
   "source": [
    "# Load and Prepare Data\n",
    "holding_gold_file_path = GlobalPath(\"DATA/GOLD/Holding/Holding_data.csv\")\n",
    "df = pd.read_csv(holding_gold_file_path)\n",
    "\n",
    "# Convert datetime column to date and process data\n",
    "df[\"date\"] = pd.to_datetime(df[\"date\"], errors=\"coerce\")\n",
    "df[\"close_amount\"] = pd.to_numeric(df[\"close_amount\"], errors=\"coerce\")\n",
    "df[\"holding_amount\"] = pd.to_numeric(df[\"holding_amount\"], errors=\"coerce\")\n",
    "df[\"value\"] = df[\"close_amount\"] - df[\"holding_amount\"]\n",
    "df = df[df[\"date\"] >= (today - timedelta(days=365 * 2))]\n",
    "if df.empty:\n",
    "    raise ValueError(\"No data found for the selected symbol and date range.\")\n",
    "df[\"value\"] = df[\"close_amount\"] - df[\"holding_amount\"]\n",
    "df = df[[\"date\", \"value\"]]\n",
    "df = df.dropna(subset=[\"date\", \"value\"])\n",
    "df = df.groupby(\"date\").sum()\n",
    "df.tail()"
   ]
  },
  {
   "cell_type": "code",
   "execution_count": null,
   "id": "4",
   "metadata": {},
   "outputs": [],
   "source": [
    "print(\"\\nMissing values in Close column:\", df[\"value\"].isna().sum())\n",
    "print(\"\\nStatistical Summary:\")\n",
    "print(df.describe())"
   ]
  },
  {
   "cell_type": "code",
   "execution_count": null,
   "id": "5",
   "metadata": {},
   "outputs": [],
   "source": [
    "# Preprocess\n",
    "scaler = MinMaxScaler()\n",
    "scaled_data = scaler.fit_transform(df[\"value\"].values.reshape(-1, 1))\n",
    "train_size = int(len(scaled_data) * 0.8)\n",
    "train_data, test_data = scaled_data[:train_size], scaled_data[train_size:]\n",
    "\n",
    "\n",
    "def create_dataset(data, time_step):\n",
    "    X, y = [], []\n",
    "    for i in range(time_step, len(data)):\n",
    "        X.append(data[i - time_step : i, 0])\n",
    "        y.append(data[i, 0])\n",
    "    return np.array(X), np.array(y)\n",
    "\n",
    "\n",
    "X_train, y_train = create_dataset(train_data, time_step)\n",
    "X_test, y_test = create_dataset(test_data, time_step)\n",
    "\n",
    "X_train, y_train = torch.tensor(X_train).float(), torch.tensor(y_train).float()\n",
    "X_test, y_test = torch.tensor(X_test).float(), torch.tensor(y_test).float()"
   ]
  },
  {
   "cell_type": "code",
   "execution_count": null,
   "id": "6",
   "metadata": {},
   "outputs": [],
   "source": [
    "# LSTM model\n",
    "\n",
    "\n",
    "class LSTMModel(nn.Module):\n",
    "    def __init__(self, input_size=1, hidden_size=200, num_layers=2, output_size=1):\n",
    "        super().__init__()\n",
    "        self.lstm = nn.LSTM(input_size, hidden_size, num_layers, batch_first=True)\n",
    "        self.fc = nn.Linear(hidden_size, output_size)\n",
    "\n",
    "    def forward(self, x):\n",
    "        out, _ = self.lstm(x)\n",
    "        return self.fc(out[:, -1, :])\n",
    "\n",
    "\n",
    "model = LSTMModel()\n",
    "criterion = nn.MSELoss()\n",
    "optimizer = torch.optim.Adam(model.parameters(), lr=0.001)"
   ]
  },
  {
   "cell_type": "code",
   "execution_count": null,
   "id": "7",
   "metadata": {},
   "outputs": [],
   "source": [
    "# Train\n",
    "train_losses = []\n",
    "for epoch in range(epochs):\n",
    "    model.train()\n",
    "    optimizer.zero_grad()\n",
    "    output = model(X_train.unsqueeze(-1))\n",
    "    loss = criterion(output.squeeze(), y_train)\n",
    "    loss.backward()\n",
    "    optimizer.step()\n",
    "    train_losses.append(loss.item())"
   ]
  },
  {
   "cell_type": "code",
   "execution_count": null,
   "id": "8",
   "metadata": {},
   "outputs": [],
   "source": [
    "# Plot Training Loss\n",
    "plt.figure(figsize=(10, 4))\n",
    "plt.plot(train_losses, label=\"Training Loss\")\n",
    "plt.title(\"Training Loss per Epoch\")\n",
    "plt.xlabel(\"Epoch\")\n",
    "plt.ylabel(\"Loss\")\n",
    "plt.legend()\n",
    "plt.grid()\n",
    "plt.show()"
   ]
  },
  {
   "cell_type": "code",
   "execution_count": null,
   "id": "9",
   "metadata": {},
   "outputs": [],
   "source": [
    "# Test\n",
    "model.eval()\n",
    "with torch.no_grad():\n",
    "    predictions = model(X_test.unsqueeze(-1)).squeeze()\n",
    "    test_loss = criterion(predictions, y_test).item()\n",
    "print(f\"\\nTest Loss (MSE): {test_loss:.5f}\")"
   ]
  },
  {
   "cell_type": "code",
   "execution_count": null,
   "id": "10",
   "metadata": {},
   "outputs": [],
   "source": [
    "# Actual vs Predicted\n",
    "full_actual = scaler.inverse_transform(scaled_data)\n",
    "full_predicted = np.empty_like(full_actual)\n",
    "full_predicted[:] = np.nan\n",
    "test_start_index = train_size + time_step\n",
    "full_predicted[test_start_index : test_start_index + len(predictions)] = (\n",
    "    scaler.inverse_transform(predictions.detach().numpy().reshape(-1, 1))\n",
    ")"
   ]
  },
  {
   "cell_type": "code",
   "execution_count": null,
   "id": "11",
   "metadata": {},
   "outputs": [],
   "source": [
    "# Plot Actual vs Predicted\n",
    "plt.figure(figsize=(14, 5))\n",
    "plt.plot(df.index, full_actual, label=\"Actual\", color=\"black\")\n",
    "plt.plot(df.index, full_predicted, label=\"Predicted\", color=\"red\")\n",
    "plt.axvline(\n",
    "    df.index[train_size], color=\"blue\", linestyle=\"--\", label=\"Train/Test Split\"\n",
    ")\n",
    "plt.title(\"Stock Price Prediction\")\n",
    "plt.legend()\n",
    "plt.grid()\n",
    "plt.show()"
   ]
  },
  {
   "cell_type": "code",
   "execution_count": null,
   "id": "12",
   "metadata": {},
   "outputs": [],
   "source": [
    "# Future Forecast\n",
    "last_60_days = scaled_data[-time_step:].reshape(1, time_step, 1)\n",
    "future_predictions = []\n",
    "\n",
    "with torch.no_grad():\n",
    "    for _ in range(30):\n",
    "        input_tensor = torch.tensor(last_60_days).float()\n",
    "        predicted = model(input_tensor)\n",
    "        future_predictions.append(predicted.item())\n",
    "        last_60_days = np.roll(last_60_days, -1)\n",
    "        last_60_days[0, -1, 0] = predicted.item()\n",
    "\n",
    "future_predictions = scaler.inverse_transform(\n",
    "    np.array(future_predictions).reshape(-1, 1)\n",
    ")\n",
    "future_dates = pd.date_range(start=today + timedelta(days=1), periods=30)"
   ]
  },
  {
   "cell_type": "code",
   "execution_count": null,
   "id": "13",
   "metadata": {},
   "outputs": [],
   "source": [
    "# Plot future predictions\n",
    "plt.figure(figsize=(10, 4))\n",
    "plt.plot(future_dates, future_predictions, color=\"orange\", label=\"Future Prediction\")\n",
    "plt.title(\"Next 30 Days Stock Price Forecast\")\n",
    "plt.xlabel(\"Date\")\n",
    "plt.ylabel(\"Predicted Price\")\n",
    "plt.legend()\n",
    "plt.grid()\n",
    "plt.show()"
   ]
  }
 ],
 "metadata": {
  "kernelspec": {
   "display_name": "Python 3",
   "language": "python",
   "name": "python3"
  },
  "language_info": {
   "codemirror_mode": {
    "name": "ipython",
    "version": 3
   },
   "file_extension": ".py",
   "mimetype": "text/x-python",
   "name": "python",
   "nbconvert_exporter": "python",
   "pygments_lexer": "ipython3",
   "version": "3.13.5"
  }
 },
 "nbformat": 4,
 "nbformat_minor": 5
}
