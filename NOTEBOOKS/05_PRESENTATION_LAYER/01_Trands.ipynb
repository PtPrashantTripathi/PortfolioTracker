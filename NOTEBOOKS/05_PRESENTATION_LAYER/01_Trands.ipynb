{
 "cells": [
  {
   "cell_type": "markdown",
   "metadata": {},
   "source": [
    "<a href=\"https://github.com/PtPrashantTripathi/PortfolioTracker/blob/main/NOTEBOOKS/05_PRESENTATION_LAYER/01_Trands.ipynb\"><svg height=\"100px\" viewBox=\"0 0 367.4 90\"><g><rect width=\"367.4\" height=\"90\" style=\"fill: #fff;\"></rect><path style=\"fill: #1B1F24;\" d=\"M46.1,0C20.6,0,0,20.6,0,46.1c0,20.4,13.2,37.7,31.5,43.8c2.3,0.4,3.2-1,3.2-2.2c0-1.1-0.1-4.7-0.1-8.6,c-11.6,2.1-14.6-2.8-15.5-5.4c-0.5-1.3-2.8-5.4-4.7-6.5c-1.6-0.9-3.9-3-0.1-3.1c3.6-0.1,6.2,3.3,7.1,4.7c4.2,7,10.8,5,13.4,3.8,c0.4-3,1.6-5,2.9-6.2c-10.3-1.2-21-5.1-21-22.8c0-5,1.8-9.2,4.7-12.4c-0.5-1.2-2.1-5.9,0.5-12.2c0,0,3.9-1.2,12.7,4.7,c3.7-1,7.6-1.6,11.5-1.6c3.9,0,7.8,0.5,11.5,1.6c8.8-6,12.7-4.7,12.7-4.7c2.5,6.3,0.9,11.1,0.5,12.2c2.9,3.2,4.7,7.3,4.7,12.4,c0,17.7-10.8,21.6-21.1,22.8c1.7,1.4,3.1,4.2,3.1,8.5c0,6.2-0.1,11.1-0.1,12.7c0,1.2,0.9,2.7,3.2,2.2c18.2-6.1,31.4-23.4,31.4-43.8,C92.3,20.6,71.6,0,46.1,0z M221.6,67.1h-0.1C221.6,67.1,221.6,67.1,221.6,67.1L221.6,67.1L221.6,67.1z M221.6,67.1,c-0.5,0-1.8,0.3-3.2,0.3c-4.4,0-5.9-2-5.9-4.6V45.3h8.9c0.5,0,0.9-0.4,0.9-1.1v-9.5c0-0.5-0.4-0.9-0.9-0.9h-8.9V22.1,c0-0.4-0.3-0.7-0.8-0.7h-12c-0.5,0-0.8,0.3-0.8,0.7v12.1c0,0-6.1,1.5-6.5,1.6c-0.4,0.1-0.7,0.5-0.7,0.9v7.6c0,0.6,0.4,1.1,0.9,1.1,h6.2v18.3c0,13.6,9.5,15,16,15c3,0,6.5-0.9,7.1-1.2c0.3-0.1,0.5-0.5,0.5-0.9v-8.4C222.5,67.6,222.1,67.2,221.6,67.1z M353.8,54.9,c0-10.1-4.1-11.4-8.4-11c-3.3,0.2-6,1.9-6,1.9v19.6c0,0,2.7,1.9,6.8,2C352,67.6,353.8,65.5,353.8,54.9z M367.4,54,c0,19.1-6.2,24.6-17,24.6c-9.1,0-14.1-4.6-14.1-4.6s-0.2,2.6-0.5,2.9c-0.2,0.3-0.4,0.4-0.8,0.4h-8.3c-0.6,0-1.1-0.4-1.1-0.9l0.1-62,c0-0.5,0.4-0.9,0.9-0.9h11.9c0.5,0,0.9,0.4,0.9,0.9l-0.1,20.9c0,0,4.6-3,11.3-3h0.1C357.5,32.3,367.4,34.8,367.4,54z M318.7,33.8,H307c-0.6,0-0.9,0.4-0.9,1.1v30.3c0,0-3.1,2.2-7.3,2.2c-4.2,0-5.4-1.9-5.4-6.1V34.8c0-0.5-0.4-0.9-0.9-0.9h-11.9,c-0.5,0-0.9,0.4-0.9,0.9v28.5c0,12.3,6.9,15.3,16.3,15.3c7.8,0,14.1-4.3,14.1-4.3s0.3,2.2,0.4,2.5c0.1,0.3,0.5,0.5,0.9,0.5h7.5,c0.6,0,0.9-0.4,0.9-0.9l0.1-41.7C319.8,34.3,319.3,33.8,318.7,33.8z M186.5,33.8h-11.9c-0.5,0-0.9,0.5-0.9,1.1v40.9,c0,1.1,0.7,1.5,1.7,1.5h10.7c1.1,0,1.4-0.5,1.4-1.5V34.7C187.5,34.2,187,33.8,186.5,33.8z M180.7,14.9c-4.3,0-7.7,3.4-7.7,7.7,s3.4,7.7,7.7,7.7c4.2,0,7.6-3.4,7.6-7.7S184.9,14.9,180.7,14.9z M272.7,13.5h-11.8c-0.5,0-0.9,0.4-0.9,0.9v22.8h-18.5V14.5,c0-0.5-0.4-0.9-0.9-0.9h-11.9c-0.5,0-0.9,0.4-0.9,0.9v62c0,0.5,0.5,0.9,0.9,0.9h11.9c0.5,0,0.9-0.4,0.9-0.9V49.9h18.5l-0.1,26.5,c0,0.5,0.4,0.9,0.9,0.9h11.9c0.5,0,0.9-0.4,0.9-0.9v-62C273.6,14,273.2,13.5,272.7,13.5z M167.4,41v32c0,0.2-0.1,0.6-0.3,0.7,c0,0-7,5-18.5,5c-13.9,0-30.3-4.4-30.3-33c0-28.7,14.4-34.6,28.4-34.5c12.2,0,17.1,2.7,17.8,3.2c0.2,0.3,0.3,0.5,0.3,0.8l-2.3,9.9,c0,0.5-0.5,1.1-1.1,0.9c-2-0.6-5-1.8-12.1-1.8c-8.2,0-17,2.3-17,20.8s8.4,20.6,14.4,20.6c5.1,0,7-0.6,7-0.6V52.2h-8.2,c-0.6,0-1.1-0.4-1.1-0.9V41c0-0.5,0.4-0.9,1.1-0.9h20.9C167,40,167.4,40.5,167.4,41z\"/></g></svg></a>"
   ]
  },
  {
   "cell_type": "code",
   "execution_count": 1,
   "metadata": {
    "execution": {
     "iopub.execute_input": "2024-10-09T14:24:35.724069Z",
     "iopub.status.busy": "2024-10-09T14:24:35.724069Z",
     "iopub.status.idle": "2024-10-09T14:24:37.912917Z",
     "shell.execute_reply": "2024-10-09T14:24:37.912917Z"
    }
   },
   "outputs": [],
   "source": [
    "# Importing required libraries\n",
    "import matplotlib.pyplot as plt\n",
    "import pandas as pd\n",
    "\n",
    "from statsmodels.tsa.holtwinters import ExponentialSmoothing\n",
    "\n",
    "import warnings\n",
    "from statsmodels.tools.sm_exceptions import ConvergenceWarning\n",
    "from StockETL import GlobalPath"
   ]
  },
  {
   "cell_type": "code",
   "execution_count": 2,
   "metadata": {
    "execution": {
     "iopub.execute_input": "2024-10-09T14:24:37.912917Z",
     "iopub.status.busy": "2024-10-09T14:24:37.912917Z",
     "iopub.status.idle": "2024-10-09T14:24:38.119047Z",
     "shell.execute_reply": "2024-10-09T14:24:38.119047Z"
    }
   },
   "outputs": [],
   "source": [
    "# Import necessary utility functions\n",
    "%run ../COMMON/common_utility.ipynb"
   ]
  },
  {
   "cell_type": "code",
   "execution_count": 3,
   "metadata": {
    "execution": {
     "iopub.execute_input": "2024-10-09T14:24:38.119047Z",
     "iopub.status.busy": "2024-10-09T14:24:38.119047Z",
     "iopub.status.idle": "2024-10-09T14:24:38.124804Z",
     "shell.execute_reply": "2024-10-09T14:24:38.124804Z"
    }
   },
   "outputs": [],
   "source": [
    "# Ignore harmless warnings\n",
    "warnings.filterwarnings(\"ignore\")\n",
    "warnings.simplefilter(\"ignore\", ConvergenceWarning)"
   ]
  },
  {
   "cell_type": "markdown",
   "metadata": {},
   "source": [
    "### Step 1: Load and Prepare Data\n"
   ]
  },
  {
   "cell_type": "code",
   "execution_count": 4,
   "metadata": {
    "execution": {
     "iopub.execute_input": "2024-10-09T14:24:38.124804Z",
     "iopub.status.busy": "2024-10-09T14:24:38.124804Z",
     "iopub.status.idle": "2024-10-09T14:24:38.146697Z",
     "shell.execute_reply": "2024-10-09T14:24:38.146697Z"
    }
   },
   "outputs": [],
   "source": [
    "# Load and Prepare Data\n",
    "holding_gold_file_path = GlobalPath(\"DATA/GOLD/Holding/Holding_data.csv\")\n",
    "df = pd.read_csv(holding_gold_file_path)\n",
    "\n",
    "# Convert datetime column to date and process data\n",
    "df[\"date\"] = pd.to_datetime(df[\"date\"])\n",
    "df = df.groupby(\"date\").sum().reset_index()\n",
    "\n",
    "# Sort data by date and reset index\n",
    "df = df.sort_values(by=\"date\").reset_index(drop=True)\n",
    "\n",
    "# Calculate Moving Average\n",
    "df[\"moving_avg\"] = df[\"high_amount\"].rolling(window=52).mean()\n",
    "\n",
    "# Set the 'date' column as the index\n",
    "df.set_index(\"date\", inplace=True)\n",
    "\n",
    "df = df[[\"high_amount\", \"moving_avg\"]]\n",
    "# Fix Frequency Warning: Set frequency explicitly\n",
    "df = df.asfreq(\"D\")"
   ]
  },
  {
   "cell_type": "markdown",
   "metadata": {},
   "source": [
    "### Step 2: Prepare Forecasting Models"
   ]
  },
  {
   "cell_type": "code",
   "execution_count": null,
   "metadata": {
    "execution": {
     "iopub.execute_input": "2024-10-09T14:24:38.146697Z",
     "iopub.status.busy": "2024-10-09T14:24:38.146697Z",
     "iopub.status.idle": "2024-10-09T14:24:38.239848Z",
     "shell.execute_reply": "2024-10-09T14:24:38.239848Z"
    }
   },
   "outputs": [],
   "source": [
    "# Model : Holt-Winters (Triple Exponential Smoothing)\n",
    "holt_winters_model = ExponentialSmoothing(\n",
    "    df[\"high_amount\"],\n",
    "    trend=\"add\",\n",
    "    seasonal=\"add\",\n",
    "    seasonal_periods=52,\n",
    "    initialization_method=\"estimated\",\n",
    ")\n",
    "hw_fit = holt_winters_model.fit(optimized=True, remove_bias=True)\n",
    "predictions_hw = hw_fit.forecast(steps=365)\n",
    "forecast_hw = pd.DataFrame(data=predictions_hw, columns=[\"forcast\"])\n",
    "hw_fit.summary()"
   ]
  },
  {
   "cell_type": "markdown",
   "metadata": {},
   "source": [
    "### Step 3: Combine Forecasts\n"
   ]
  },
  {
   "cell_type": "code",
   "execution_count": 6,
   "metadata": {
    "execution": {
     "iopub.execute_input": "2024-10-09T14:24:38.264505Z",
     "iopub.status.busy": "2024-10-09T14:24:38.264505Z",
     "iopub.status.idle": "2024-10-09T14:24:38.275101Z",
     "shell.execute_reply": "2024-10-09T14:24:38.275101Z"
    }
   },
   "outputs": [],
   "source": [
    "# Combine forecasts into a single DataFrame\n",
    "df = pd.concat([df, forecast_hw], axis=1)\n",
    "df.to_csv(\"all_forecasts.csv\")"
   ]
  },
  {
   "cell_type": "markdown",
   "metadata": {},
   "source": [
    "### Step 4: Plot the Results\n"
   ]
  },
  {
   "cell_type": "code",
   "execution_count": null,
   "metadata": {
    "execution": {
     "iopub.execute_input": "2024-10-09T14:24:38.275101Z",
     "iopub.status.busy": "2024-10-09T14:24:38.275101Z",
     "iopub.status.idle": "2024-10-09T14:24:38.462832Z",
     "shell.execute_reply": "2024-10-09T14:24:38.462832Z"
    }
   },
   "outputs": [],
   "source": [
    "# Plot all forecasts and actual data\n",
    "plt.figure(figsize=(20, 6))\n",
    "\n",
    "# Plot actual data\n",
    "plt.plot(df)\n",
    "\n",
    "# Customize plot\n",
    "plt.title(\"Forecast Models\")\n",
    "plt.xlabel(\"Date\")\n",
    "plt.ylabel(\"Earnings Amount\")\n",
    "plt.legend(df.columns)\n",
    "plt.grid(True)\n",
    "plt.show()"
   ]
  }
 ],
 "metadata": {
  "application/vnd.databricks.v1+notebook": {
   "dashboards": [],
   "language": "python",
   "notebookMetadata": {
    "pythonIndentUnit": 4
   },
   "notebookName": "PRESENTATION_NOTEBOOK",
   "widgets": {}
  },
  "kernelspec": {
   "display_name": "Python 3",
   "language": "python",
   "name": "python3"
  },
  "language_debug": {
   "codemirror_mode": {
    "name": "ipython",
    "version": 3
   },
   "file_extension": ".py",
   "mimetype": "text/x-python",
   "name": "python",
   "nbconvert_exporter": "python",
   "pygments_lexer": "ipython3",
   "version": "3.11.4"
  },
  "language_info": {
   "codemirror_mode": {
    "name": "ipython",
    "version": 3
   },
   "file_extension": ".py",
   "mimetype": "text/x-python",
   "name": "python",
   "nbconvert_exporter": "python",
   "pygments_lexer": "ipython3",
   "version": "3.11.4"
  }
 },
 "nbformat": 4,
 "nbformat_minor": 4
}
