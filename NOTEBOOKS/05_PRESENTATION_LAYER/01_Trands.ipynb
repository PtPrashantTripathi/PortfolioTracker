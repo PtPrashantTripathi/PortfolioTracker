{
 "cells": [
  {
   "cell_type": "code",
   "execution_count": null,
   "metadata": {},
   "outputs": [],
   "source": [
    "# Importing Common Utility Function\n",
    "import matplotlib.dates as mdates\n",
    "import matplotlib.pyplot as plt\n",
    "import pandas as pd\n",
    "\n",
    "from StockETL import GlobalPath"
   ]
  },
  {
   "cell_type": "code",
   "execution_count": null,
   "metadata": {},
   "outputs": [],
   "source": [
    "# Import necessary libraries and utility functions\n",
    "%run ../COMMON/common_utility.ipynb"
   ]
  },
  {
   "cell_type": "code",
   "execution_count": null,
   "metadata": {},
   "outputs": [],
   "source": [
    "# Instantiate GlobalPath\n",
    "holdingshistory_gold_file_path = GlobalPath(\n",
    "    \"DATA/GOLD/Holdings/HoldingsHistory_data.csv\"\n",
    ")"
   ]
  },
  {
   "cell_type": "code",
   "execution_count": null,
   "metadata": {
    "application/vnd.databricks.v1+cell": {
     "cellMetadata": {},
     "inputWidgets": {},
     "nuid": "713af1a8-5ac3-449c-90c8-96f641c6828f",
     "showTitle": false,
     "title": ""
    }
   },
   "outputs": [],
   "source": [
    "## PRESENTATION LAYER\n",
    "df_holdings = pd.read_csv(holdingshistory_gold_file_path)\n",
    "\n",
    "# Convert datetime to date string\n",
    "df_holdings[\"date\"] = pd.to_datetime(df_holdings[\"date\"])\n",
    "\n",
    "df_holdings = (\n",
    "    df_holdings.groupby(\"date\")[\n",
    "        [\n",
    "            \"holding_amount\",\n",
    "            \"open_amount\",\n",
    "            \"high_amount\",\n",
    "            \"low_amount\",\n",
    "            \"close_amount\",\n",
    "        ]\n",
    "    ]\n",
    "    .sum()\n",
    "    .reset_index()\n",
    ")\n",
    "\n",
    "# setting date column as index\n",
    "df_holdings = df_holdings.sort_values(by=\"date\").reset_index(drop=True)\n",
    "\n",
    "df_holdings[\"pnl_amount\"] = df_holdings[\"close_amount\"] - df_holdings[\"holding_amount\"]\n",
    "df_holdings[\"pnl_percentage\"] = (\n",
    "    df_holdings[\"pnl_amount\"] / df_holdings[\"holding_amount\"]\n",
    ") * 100\n",
    "\n",
    "# Calculate the 30-day moving average of 'close_amount'\n",
    "df_holdings[\"ma30\"] = df_holdings[\"close_amount\"].rolling(window=30).mean()\n",
    "\n",
    "df_holdings.info()"
   ]
  },
  {
   "cell_type": "code",
   "execution_count": null,
   "metadata": {
    "application/vnd.databricks.v1+cell": {
     "cellMetadata": {
      "byteLimit": 2048000,
      "rowLimit": 10000
     },
     "inputWidgets": {},
     "nuid": "662dac6f-b7a0-4388-b647-9ff2a1e29102",
     "showTitle": false,
     "title": ""
    }
   },
   "outputs": [],
   "source": [
    "# plot the graph\n",
    "fig, ax = plt.subplots(figsize=(15, 5))\n",
    "\n",
    "# plot individual lines\n",
    "ax.plot(\n",
    "    df_holdings[\"date\"],\n",
    "    df_holdings[\"holding_amount\"],\n",
    "    label=\"Invested\",\n",
    "    color=\"steelblue\",\n",
    ")\n",
    "ax.plot(\n",
    "    df_holdings[\"date\"],\n",
    "    df_holdings[\"close_amount\"],\n",
    "    label=\"Current Value\",\n",
    "    color=\"green\",\n",
    ")\n",
    "\n",
    "ax.plot(\n",
    "    df_holdings[\"date\"],\n",
    "    df_holdings[\"ma30\"],\n",
    "    label=\"30 Days Moving Avg\",\n",
    "    color=\"orange\",\n",
    ")\n",
    "\n",
    "# set major ticks to months and format the ticks\n",
    "ax.xaxis.set_major_locator(mdates.MonthLocator())\n",
    "ax.xaxis.set_major_formatter(mdates.DateFormatter(\"%Y-%m\"))\n",
    "ax.xaxis.grid(True, which=\"major\", linestyle=\":\")\n",
    "plt.setp(ax.get_xticklabels(), rotation=45, ha=\"right\")\n",
    "\n",
    "# Add a grid to the y-axis\n",
    "ax.yaxis.grid(True, which=\"major\", linestyle=\"--\")\n",
    "\n",
    "# add axis labels and a title\n",
    "plt.ylabel(\"Price\")\n",
    "plt.xlabel(\"Period\")\n",
    "plt.title(\"Buy Price vs. Current Price\")\n",
    "ax.legend()\n",
    "\n",
    "# display plot\n",
    "plt.tight_layout()\n",
    "plt.show()"
   ]
  },
  {
   "cell_type": "code",
   "execution_count": null,
   "metadata": {
    "application/vnd.databricks.v1+cell": {
     "cellMetadata": {
      "byteLimit": 2048000,
      "rowLimit": 10000
     },
     "inputWidgets": {},
     "nuid": "82805232-15c8-4fae-8c85-c1560c0ba7f3",
     "showTitle": false,
     "title": ""
    }
   },
   "outputs": [],
   "source": [
    "# plot the graph\n",
    "fig, ax = plt.subplots(figsize=(15, 5))\n",
    "ax.plot(df_holdings[\"date\"], df_holdings[\"pnl_percentage\"], label=\"profit_loss\")\n",
    "\n",
    "# set major ticks to months and format the ticks\n",
    "ax.xaxis.set_major_locator(mdates.MonthLocator())\n",
    "ax.xaxis.set_major_formatter(mdates.DateFormatter(\"%Y-%m\"))\n",
    "ax.xaxis.grid(True, which=\"major\", linestyle=\":\")\n",
    "plt.setp(ax.get_xticklabels(), rotation=45, ha=\"right\")\n",
    "\n",
    "# Add a grid to the y-axis\n",
    "ax.yaxis.grid(True, which=\"major\", linestyle=\"--\")\n",
    "\n",
    "# add axis labels and a title\n",
    "plt.ylabel(\"Percentage\")\n",
    "plt.xlabel(\"Period\")\n",
    "plt.title(\"Profit/Loss Percentage\")\n",
    "ax.legend()\n",
    "\n",
    "# display plot\n",
    "plt.tight_layout()\n",
    "plt.show()"
   ]
  },
  {
   "cell_type": "code",
   "execution_count": null,
   "metadata": {},
   "outputs": [],
   "source": []
  }
 ],
 "metadata": {
  "application/vnd.databricks.v1+notebook": {
   "dashboards": [],
   "language": "python",
   "notebookMetadata": {
    "pythonIndentUnit": 4
   },
   "notebookName": "PRESENTATION_NOTEBOOK",
   "widgets": {}
  },
  "kernelspec": {
   "display_name": "Python 3 (ipykernel)",
   "language": "python",
   "name": "python3"
  },
  "language_debug": {
   "codemirror_mode": {
    "name": "ipython",
    "version": 3
   },
   "file_extension": ".py",
   "mimetype": "text/x-python",
   "name": "python",
   "nbconvert_exporter": "python",
   "pygments_lexer": "ipython3",
   "version": "3.11.4"
  },
  "language_info": {
   "codemirror_mode": {
    "name": "ipython",
    "version": 3
   },
   "file_extension": ".py",
   "mimetype": "text/x-python",
   "name": "python",
   "nbconvert_exporter": "python",
   "pygments_lexer": "ipython3",
   "version": "3.11.4"
  }
 },
 "nbformat": 4,
 "nbformat_minor": 4
}
