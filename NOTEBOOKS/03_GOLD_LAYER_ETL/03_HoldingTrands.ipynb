{
 "cells": [
  {
   "cell_type": "code",
   "execution_count": 1,
   "metadata": {
    "execution": {
     "iopub.execute_input": "2024-08-24T02:55:07.998606Z",
     "iopub.status.busy": "2024-08-24T02:55:07.998412Z",
     "iopub.status.idle": "2024-08-24T02:55:08.250676Z",
     "shell.execute_reply": "2024-08-24T02:55:08.250037Z"
    }
   },
   "outputs": [],
   "source": [
    "## Import necessary libraries and utility functions\n",
    "import pandas as pd\n",
    "\n",
    "from MyModules.globalpath import GlobalPath"
   ]
  },
  {
   "cell_type": "code",
   "execution_count": 2,
   "metadata": {
    "execution": {
     "iopub.execute_input": "2024-08-24T02:55:08.253493Z",
     "iopub.status.busy": "2024-08-24T02:55:08.253053Z",
     "iopub.status.idle": "2024-08-24T02:55:08.256464Z",
     "shell.execute_reply": "2024-08-24T02:55:08.256006Z"
    }
   },
   "outputs": [],
   "source": [
    "# Instantiate GlobalPath\n",
    "global_path = GlobalPath()\n",
    "# GLOBAL PATH\n",
    "holdings_gold_file_path = global_path.joinpath(\n",
    "    \"DATA/GOLD/Holdings/Holdings_data.csv\"\n",
    ")\n",
    "holdingstrands_gold_file_path = global_path.joinpath(\n",
    "    \"DATA/GOLD/Holdings/HoldingsTrands_data.csv\"\n",
    ")"
   ]
  },
  {
   "cell_type": "code",
   "execution_count": 3,
   "metadata": {
    "execution": {
     "iopub.execute_input": "2024-08-24T02:55:08.258603Z",
     "iopub.status.busy": "2024-08-24T02:55:08.258250Z",
     "iopub.status.idle": "2024-08-24T02:55:08.276072Z",
     "shell.execute_reply": "2024-08-24T02:55:08.275585Z"
    }
   },
   "outputs": [
    {
     "name": "stdout",
     "output_type": "stream",
     "text": [
      "Loaded GOLD Layer holdings data from: /home/runner/work/PortfolioTracker/PortfolioTracker/DATA/GOLD/Holdings/Holdings_data.csv\n"
     ]
    }
   ],
   "source": [
    "# Load holdings data from the GOLD layer\n",
    "df_holdings = pd.read_csv(holdings_gold_file_path)\n",
    "df_holdings[\"date\"] = pd.to_datetime(df_holdings[\"date\"])\n",
    "print(f\"Loaded GOLD Layer holdings data from: {holdings_gold_file_path}\")"
   ]
  },
  {
   "cell_type": "code",
   "execution_count": 4,
   "metadata": {
    "execution": {
     "iopub.execute_input": "2024-08-24T02:55:08.278069Z",
     "iopub.status.busy": "2024-08-24T02:55:08.277900Z",
     "iopub.status.idle": "2024-08-24T02:55:08.282810Z",
     "shell.execute_reply": "2024-08-24T02:55:08.282368Z"
    }
   },
   "outputs": [],
   "source": [
    "# Group by the 'date' column and calculate the sum for each date\n",
    "df_holdings_trands = (\n",
    "    df_holdings.groupby(\"date\")[\n",
    "        [\n",
    "            \"holding_amount\",\n",
    "            \"open_amount\",\n",
    "            \"high_amount\",\n",
    "            \"low_amount\",\n",
    "            \"close_amount\",\n",
    "        ]\n",
    "    ]\n",
    "    .sum()\n",
    "    .reset_index()\n",
    ")"
   ]
  },
  {
   "cell_type": "code",
   "execution_count": 5,
   "metadata": {
    "execution": {
     "iopub.execute_input": "2024-08-24T02:55:08.284963Z",
     "iopub.status.busy": "2024-08-24T02:55:08.284615Z",
     "iopub.status.idle": "2024-08-24T02:55:08.288199Z",
     "shell.execute_reply": "2024-08-24T02:55:08.287629Z"
    }
   },
   "outputs": [],
   "source": [
    "# Round the numeric columns to two decimal places for precision\n",
    "df_holdings_trands = df_holdings_trands.round(2)\n",
    "\n",
    "# Remove '_amount' suffix from column names for clarity\n",
    "df_holdings_trands = df_holdings_trands.rename(\n",
    "    columns={\n",
    "        col: col.replace(\"_amount\", \"\") for col in df_holdings_trands.columns\n",
    "    }\n",
    ")"
   ]
  },
  {
   "cell_type": "code",
   "execution_count": 6,
   "metadata": {
    "execution": {
     "iopub.execute_input": "2024-08-24T02:55:08.290521Z",
     "iopub.status.busy": "2024-08-24T02:55:08.290206Z",
     "iopub.status.idle": "2024-08-24T02:55:08.307325Z",
     "shell.execute_reply": "2024-08-24T02:55:08.306866Z"
    }
   },
   "outputs": [
    {
     "name": "stdout",
     "output_type": "stream",
     "text": [
      "GOLD Layer CSV file for Holdings successfully created at: /home/runner/work/PortfolioTracker/PortfolioTracker/DATA/GOLD/Holdings/HoldingsTrands_data.csv\n",
      "<class 'pandas.core.frame.DataFrame'>\n",
      "RangeIndex: 1587 entries, 0 to 1586\n",
      "Data columns (total 6 columns):\n",
      " #   Column   Non-Null Count  Dtype         \n",
      "---  ------   --------------  -----         \n",
      " 0   date     1587 non-null   datetime64[ns]\n",
      " 1   open     1587 non-null   float64       \n",
      " 2   high     1587 non-null   float64       \n",
      " 3   low      1587 non-null   float64       \n",
      " 4   close    1587 non-null   float64       \n",
      " 5   holding  1587 non-null   float64       \n",
      "dtypes: datetime64[ns](1), float64(5)\n",
      "memory usage: 74.5 KB\n"
     ]
    }
   ],
   "source": [
    "# Select and reorder columns for the final output format\n",
    "df_holdings_trands = df_holdings_trands[\n",
    "    [\n",
    "        \"date\",\n",
    "        \"open\",\n",
    "        \"high\",\n",
    "        \"low\",\n",
    "        \"close\",\n",
    "        \"holding\",\n",
    "    ]\n",
    "]\n",
    "\n",
    "# Sort the DataFrame by 'date' and reset the index for organized output\n",
    "df_holdings_trands = df_holdings_trands.sort_values(by=[\"date\"]).reset_index(\n",
    "    drop=True\n",
    ")\n",
    "\n",
    "# Save the processed DataFrame to a new CSV file\n",
    "df_holdings_trands.to_csv(holdingstrands_gold_file_path, index=False)\n",
    "print(\n",
    "    f\"GOLD Layer CSV file for Holdings successfully created at: {holdingstrands_gold_file_path}\"\n",
    ")\n",
    "\n",
    "# Display DataFrame debugrmation for verification\n",
    "df_holdings_trands.info()"
   ]
  }
 ],
 "metadata": {
  "kernelspec": {
   "display_name": "Python 3",
   "language": "python",
   "name": "python3"
  },
  "language_debug": {
   "codemirror_mode": {
    "name": "ipython",
    "version": 3
   },
   "file_extension": ".py",
   "mimetype": "text/x-python",
   "name": "python",
   "nbconvert_exporter": "python",
   "pygments_lexer": "ipython3",
   "version": "3.11.4"
  },
  "language_info": {
   "codemirror_mode": {
    "name": "ipython",
    "version": 3
   },
   "file_extension": ".py",
   "mimetype": "text/x-python",
   "name": "python",
   "nbconvert_exporter": "python",
   "pygments_lexer": "ipython3",
   "version": "3.12.5"
  }
 },
 "nbformat": 4,
 "nbformat_minor": 2
}
