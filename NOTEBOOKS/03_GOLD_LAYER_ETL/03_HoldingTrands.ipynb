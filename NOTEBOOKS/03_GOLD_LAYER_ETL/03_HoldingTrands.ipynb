{
 "cells": [
  {
   "cell_type": "code",
   "execution_count": 1,
   "metadata": {
    "execution": {
     "iopub.execute_input": "2024-08-19T08:28:49.423122Z",
     "iopub.status.busy": "2024-08-19T08:28:49.423122Z",
     "iopub.status.idle": "2024-08-19T08:28:49.826530Z",
     "shell.execute_reply": "2024-08-19T08:28:49.826530Z"
    }
   },
   "outputs": [],
   "source": [
    "## Import necessary libraries and utility functions\n",
    "import pandas as pd\n",
    "\n",
    "from PortfolioTracker.globalpath import GlobalPath"
   ]
  },
  {
   "cell_type": "code",
   "execution_count": 2,
   "metadata": {
    "execution": {
     "iopub.execute_input": "2024-08-19T08:28:49.829553Z",
     "iopub.status.busy": "2024-08-19T08:28:49.829553Z",
     "iopub.status.idle": "2024-08-19T08:28:49.834242Z",
     "shell.execute_reply": "2024-08-19T08:28:49.834242Z"
    }
   },
   "outputs": [],
   "source": [
    "# Instantiate GlobalPath\n",
    "global_path = GlobalPath(\"PortfolioTracker\")\n",
    "# GLOBAL PATH\n",
    "holdings_gold_file_path = global_path.joinpath(\n",
    "    \"DATA/GOLD/Holdings/Holdings_data.csv\"\n",
    ")\n",
    "holdingstrands_gold_file_path = global_path.joinpath(\n",
    "    \"DATA/GOLD/Holdings/HoldingsTrands_data.csv\"\n",
    ")"
   ]
  },
  {
   "cell_type": "code",
   "execution_count": 3,
   "metadata": {
    "execution": {
     "iopub.execute_input": "2024-08-19T08:28:49.835894Z",
     "iopub.status.busy": "2024-08-19T08:28:49.835894Z",
     "iopub.status.idle": "2024-08-19T08:28:49.860335Z",
     "shell.execute_reply": "2024-08-19T08:28:49.860335Z"
    }
   },
   "outputs": [
    {
     "name": "stdout",
     "output_type": "stream",
     "text": [
      "Loaded GOLD Layer holdings data from: C:\\Users\\prashant.tripathi\\Code\\PortfolioTracker\\DATA\\GOLD\\Holdings\\Holdings_data.csv\n"
     ]
    }
   ],
   "source": [
    "# Load holdings data from the GOLD layer\n",
    "df_holdings = pd.read_csv(holdings_gold_file_path)\n",
    "df_holdings[\"date\"] = pd.to_datetime(df_holdings[\"date\"])\n",
    "print(f\"Loaded GOLD Layer holdings data from: {holdings_gold_file_path}\")"
   ]
  },
  {
   "cell_type": "code",
   "execution_count": 4,
   "metadata": {
    "execution": {
     "iopub.execute_input": "2024-08-19T08:28:49.860335Z",
     "iopub.status.busy": "2024-08-19T08:28:49.860335Z",
     "iopub.status.idle": "2024-08-19T08:28:49.870133Z",
     "shell.execute_reply": "2024-08-19T08:28:49.870133Z"
    }
   },
   "outputs": [],
   "source": [
    "# Group by the 'date' column and calculate the sum for each date\n",
    "df_holdings_trands = (\n",
    "    df_holdings.groupby(\"date\")[\n",
    "        [\n",
    "            \"holding_amount\",\n",
    "            \"open_amount\",\n",
    "            \"high_amount\",\n",
    "            \"low_amount\",\n",
    "            \"close_amount\",\n",
    "        ]\n",
    "    ]\n",
    "    .sum()\n",
    "    .reset_index()\n",
    ")"
   ]
  },
  {
   "cell_type": "code",
   "execution_count": 5,
   "metadata": {
    "execution": {
     "iopub.execute_input": "2024-08-19T08:28:49.870133Z",
     "iopub.status.busy": "2024-08-19T08:28:49.870133Z",
     "iopub.status.idle": "2024-08-19T08:28:49.878956Z",
     "shell.execute_reply": "2024-08-19T08:28:49.878956Z"
    }
   },
   "outputs": [],
   "source": [
    "# Round the numeric columns to two decimal places for precision\n",
    "df_holdings_trands = df_holdings_trands.round(2)\n",
    "\n",
    "# Remove '_amount' suffix from column names for clarity\n",
    "df_holdings_trands = df_holdings_trands.rename(\n",
    "    columns={\n",
    "        col: col.replace(\"_amount\", \"\") for col in df_holdings_trands.columns\n",
    "    }\n",
    ")"
   ]
  },
  {
   "cell_type": "code",
   "execution_count": 6,
   "metadata": {
    "execution": {
     "iopub.execute_input": "2024-08-19T08:28:49.878956Z",
     "iopub.status.busy": "2024-08-19T08:28:49.878956Z",
     "iopub.status.idle": "2024-08-19T08:28:49.912605Z",
     "shell.execute_reply": "2024-08-19T08:28:49.912605Z"
    }
   },
   "outputs": [
    {
     "name": "stdout",
     "output_type": "stream",
     "text": [
      "GOLD Layer CSV file for Holdings successfully created at: C:\\Users\\prashant.tripathi\\Code\\PortfolioTracker\\DATA\\GOLD\\Holdings\\HoldingsTrands_data.csv\n",
      "<class 'pandas.core.frame.DataFrame'>\n",
      "RangeIndex: 1582 entries, 0 to 1581\n",
      "Data columns (total 6 columns):\n",
      " #   Column   Non-Null Count  Dtype         \n",
      "---  ------   --------------  -----         \n",
      " 0   date     1582 non-null   datetime64[ns]\n",
      " 1   open     1582 non-null   float64       \n",
      " 2   high     1582 non-null   float64       \n",
      " 3   low      1582 non-null   float64       \n",
      " 4   close    1582 non-null   float64       \n",
      " 5   holding  1582 non-null   float64       \n",
      "dtypes: datetime64[ns](1), float64(5)\n",
      "memory usage: 74.3 KB\n"
     ]
    }
   ],
   "source": [
    "# Select and reorder columns for the final output format\n",
    "df_holdings_trands = df_holdings_trands[\n",
    "    [\n",
    "        \"date\",\n",
    "        \"open\",\n",
    "        \"high\",\n",
    "        \"low\",\n",
    "        \"close\",\n",
    "        \"holding\",\n",
    "    ]\n",
    "]\n",
    "\n",
    "# Sort the DataFrame by 'date' and reset the index for organized output\n",
    "df_holdings_trands = df_holdings_trands.sort_values(by=[\"date\"]).reset_index(\n",
    "    drop=True\n",
    ")\n",
    "\n",
    "# Save the processed DataFrame to a new CSV file\n",
    "df_holdings_trands.to_csv(holdingstrands_gold_file_path, index=False)\n",
    "print(\n",
    "    f\"GOLD Layer CSV file for Holdings successfully created at: {holdingstrands_gold_file_path.resolve()}\"\n",
    ")\n",
    "\n",
    "# Display DataFrame debugrmation for verification\n",
    "df_holdings_trands.info()"
   ]
  }
 ],
 "metadata": {
  "kernelspec": {
   "display_name": "Python 3",
   "language": "python",
   "name": "python3"
  },
  "language_debug": {
   "codemirror_mode": {
    "name": "ipython",
    "version": 3
   },
   "file_extension": ".py",
   "mimetype": "text/x-python",
   "name": "python",
   "nbconvert_exporter": "python",
   "pygments_lexer": "ipython3",
   "version": "3.11.4"
  },
  "language_info": {
   "codemirror_mode": {
    "name": "ipython",
    "version": 3
   },
   "file_extension": ".py",
   "mimetype": "text/x-python",
   "name": "python",
   "nbconvert_exporter": "python",
   "pygments_lexer": "ipython3",
   "version": "3.11.4"
  }
 },
 "nbformat": 4,
 "nbformat_minor": 2
}
