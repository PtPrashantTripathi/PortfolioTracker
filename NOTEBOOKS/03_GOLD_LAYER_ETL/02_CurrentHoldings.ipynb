{
 "cells": [
  {
   "cell_type": "markdown",
   "metadata": {},
   "source": [
    "## SILVER TO GOLD LAYER\n",
    "\n",
    "### Gold Layer - Current Holdings\n"
   ]
  },
  {
   "cell_type": "code",
   "execution_count": 6,
   "metadata": {
    "execution": {
     "iopub.execute_input": "2024-08-26T09:04:25.439854Z",
     "iopub.status.busy": "2024-08-26T09:04:25.439854Z",
     "iopub.status.idle": "2024-08-26T09:04:26.542519Z",
     "shell.execute_reply": "2024-08-26T09:04:26.542519Z"
    }
   },
   "outputs": [],
   "source": [
    "## Import necessary libraries and utility functions\n",
    "import pandas as pd\n",
    "from ETLTools import GlobalPath, Portfolio"
   ]
  },
  {
   "cell_type": "code",
   "execution_count": 7,
   "metadata": {
    "execution": {
     "iopub.execute_input": "2024-08-26T09:04:26.550344Z",
     "iopub.status.busy": "2024-08-26T09:04:26.550344Z",
     "iopub.status.idle": "2024-08-26T09:04:26.563264Z",
     "shell.execute_reply": "2024-08-26T09:04:26.563264Z"
    }
   },
   "outputs": [],
   "source": [
    "# Instantiate GlobalPath\n",
    "tradehistory_silver_file_path = GlobalPath(\n",
    "    \"DATA/SILVER/TradeHistory/TradeHistory_data.csv\"\n",
    ")\n",
    "current_holding_records_file_path = GlobalPath(\n",
    "    \"DATA/GOLD/Holdings/CurrentHoldings_data.csv\"\n",
    ")"
   ]
  },
  {
   "cell_type": "markdown",
   "metadata": {},
   "source": [
    "### Data Processing\n",
    "\n",
    "- Read and sort trade history data.\n",
    "- Apply portfolio trade logic.\n"
   ]
  },
  {
   "cell_type": "code",
   "execution_count": 8,
   "metadata": {
    "execution": {
     "iopub.execute_input": "2024-08-26T09:04:26.567040Z",
     "iopub.status.busy": "2024-08-26T09:04:26.567040Z",
     "iopub.status.idle": "2024-08-26T09:04:26.591387Z",
     "shell.execute_reply": "2024-08-26T09:04:26.590371Z"
    }
   },
   "outputs": [
    {
     "name": "stdout",
     "output_type": "stream",
     "text": [
      "Read SILVER Layer trade history data from: DATA/SILVER/TradeHistory/TradeHistory_data.csv\n"
     ]
    }
   ],
   "source": [
    "# Read the CSV file\n",
    "df_trade_history = pd.read_csv(tradehistory_silver_file_path)\n",
    "\n",
    "# Filter the DataFrame to include only rows where the segment is 'EQ' (Equity) or 'MF' (Mutual Funds)\n",
    "df_trade_history = df_trade_history[\n",
    "    df_trade_history[\"segment\"].isin([\"EQ\", \"MF\"])\n",
    "]\n",
    "\n",
    "# Convert 'datetime' to datetime type\n",
    "df_trade_history[\"datetime\"] = pd.to_datetime(df_trade_history[\"datetime\"])\n",
    "\n",
    "# Sort the DataFrame by 'datetime'\n",
    "df_trade_history = df_trade_history.sort_values(by=\"datetime\")\n",
    "\n",
    "print(\n",
    "    f\"Read SILVER Layer trade history data from: {tradehistory_silver_file_path.relative_path()}\"\n",
    ")"
   ]
  },
  {
   "cell_type": "markdown",
   "metadata": {},
   "source": [
    "### Portfolio Logic Application\n",
    "\n",
    "- Instantiate Portfolio and apply trade logic.\n",
    "- Handle expired stocks\n"
   ]
  },
  {
   "cell_type": "code",
   "execution_count": 9,
   "metadata": {
    "execution": {
     "iopub.execute_input": "2024-08-26T09:04:26.591387Z",
     "iopub.status.busy": "2024-08-26T09:04:26.591387Z",
     "iopub.status.idle": "2024-08-26T09:04:26.643984Z",
     "shell.execute_reply": "2024-08-26T09:04:26.643984Z"
    }
   },
   "outputs": [],
   "source": [
    "# Apply the trade logic to each row of the DataFrame\n",
    "# Instantiate the Portfolio object\n",
    "portfolio = Portfolio()\n",
    "for record in df_trade_history.astype(str).to_dict(orient=\"records\"):\n",
    "    portfolio.trade(record)\n",
    "\n",
    "portfolio.check_expired_stocks()"
   ]
  },
  {
   "cell_type": "markdown",
   "metadata": {},
   "source": [
    "### Final Processing and Export\n",
    "\n",
    "- Select and sort relevant columns.\n",
    "- Save the processed data as a CSV file in the Gold layer.\n"
   ]
  },
  {
   "cell_type": "code",
   "execution_count": 10,
   "metadata": {
    "execution": {
     "iopub.execute_input": "2024-08-26T09:04:26.649530Z",
     "iopub.status.busy": "2024-08-26T09:04:26.649530Z",
     "iopub.status.idle": "2024-08-26T09:04:26.687866Z",
     "shell.execute_reply": "2024-08-26T09:04:26.687866Z"
    }
   },
   "outputs": [
    {
     "name": "stdout",
     "output_type": "stream",
     "text": [
      "GOLD Layer CSV file for ProfitLoss successfully created at:\n",
      "DATA/GOLD/Holdings/CurrentHoldings_data.csv\n",
      "<class 'pandas.core.frame.DataFrame'>\n",
      "RangeIndex: 16 entries, 0 to 15\n",
      "Data columns (total 9 columns):\n",
      " #   Column      Non-Null Count  Dtype         \n",
      "---  ------      --------------  -----         \n",
      " 0   scrip_name  16 non-null     object        \n",
      " 1   symbol      16 non-null     object        \n",
      " 2   exchange    16 non-null     object        \n",
      " 3   segment     16 non-null     object        \n",
      " 4   datetime    16 non-null     datetime64[ns]\n",
      " 5   side        16 non-null     object        \n",
      " 6   quantity    16 non-null     float64       \n",
      " 7   price       16 non-null     float64       \n",
      " 8   amount      16 non-null     float64       \n",
      "dtypes: datetime64[ns](1), float64(3), object(5)\n",
      "memory usage: 1.3+ KB\n"
     ]
    }
   ],
   "source": [
    "# Create a DataFrame from the processed data\n",
    "df_holding_records = pd.DataFrame(portfolio.get_current_holdings())\n",
    "\n",
    "# Remove '_amount' suffix from column names for clarity\n",
    "df_holding_records = df_holding_records.rename(\n",
    "    columns={\n",
    "        col: col.replace(\"open_\", \"\") for col in df_holding_records.columns\n",
    "    }\n",
    ")\n",
    "# Sort the DataFrame\n",
    "df_holding_records = df_holding_records.sort_values(\n",
    "    by=[\n",
    "        \"segment\",\n",
    "        \"exchange\",\n",
    "        \"symbol\",\n",
    "        \"scrip_name\",\n",
    "        \"datetime\",\n",
    "    ]\n",
    ")\n",
    "\n",
    "# Round the values in to two decimal places\n",
    "df_holding_records = df_holding_records.round(2)\n",
    "\n",
    "# Reset index to ensure it starts from 0\n",
    "df_holding_records = df_holding_records.reset_index(drop=True)\n",
    "\n",
    "# Select and reorder the columns for the final DataFrame\n",
    "df_holding_records = df_holding_records[\n",
    "    [\n",
    "        \"scrip_name\",\n",
    "        \"symbol\",\n",
    "        \"exchange\",\n",
    "        \"segment\",\n",
    "        \"datetime\",\n",
    "        \"side\",\n",
    "        \"quantity\",\n",
    "        \"price\",\n",
    "        \"amount\",\n",
    "    ]\n",
    "]\n",
    "\n",
    "# Save the final DataFrame to a CSV file\n",
    "df_holding_records.to_csv(current_holding_records_file_path, index=None)\n",
    "\n",
    "print(\"GOLD Layer CSV file for ProfitLoss successfully created at:\")\n",
    "print(current_holding_records_file_path.relative_path())\n",
    "\n",
    "# Display the DataFrame debugrmation\n",
    "df_holding_records.info()"
   ]
  }
 ],
 "metadata": {
  "kernelspec": {
   "display_name": "Python 3 (ipykernel)",
   "language": "python",
   "name": "python3"
  },
  "language_debug": {
   "codemirror_mode": {
    "name": "ipython",
    "version": 3
   },
   "file_extension": ".py",
   "mimetype": "text/x-python",
   "name": "python",
   "nbconvert_exporter": "python",
   "pygments_lexer": "ipython3",
   "version": "3.11.4"
  },
  "language_info": {
   "codemirror_mode": {
    "name": "ipython",
    "version": 3
   },
   "file_extension": ".py",
   "mimetype": "text/x-python",
   "name": "python",
   "nbconvert_exporter": "python",
   "pygments_lexer": "ipython3",
   "version": "3.11.4"
  }
 },
 "nbformat": 4,
 "nbformat_minor": 4
}
