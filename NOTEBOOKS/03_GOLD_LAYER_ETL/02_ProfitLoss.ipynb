{
 "cells": [
  {
   "cell_type": "markdown",
   "metadata": {},
   "source": [
    "## SILVER TO GOLD LAYER\n",
    "\n",
    "### Gold Layer - Profit and Loss"
   ]
  },
  {
   "cell_type": "code",
   "execution_count": 1,
   "metadata": {
    "execution": {
     "iopub.execute_input": "2024-09-13T05:33:57.266371Z",
     "iopub.status.busy": "2024-09-13T05:33:57.266371Z",
     "iopub.status.idle": "2024-09-13T05:33:58.409403Z",
     "shell.execute_reply": "2024-09-13T05:33:58.409403Z"
    }
   },
   "outputs": [],
   "source": [
    "## Import necessary libraries and utility functions\n",
    "import pandas as pd\n",
    "\n",
    "from ETLTools import GlobalPath, Portfolio"
   ]
  },
  {
   "cell_type": "code",
   "execution_count": 2,
   "metadata": {
    "execution": {
     "iopub.execute_input": "2024-09-13T05:33:58.413918Z",
     "iopub.status.busy": "2024-09-13T05:33:58.413918Z",
     "iopub.status.idle": "2024-09-13T05:33:58.427822Z",
     "shell.execute_reply": "2024-09-13T05:33:58.427822Z"
    }
   },
   "outputs": [],
   "source": [
    "# Instantiate GlobalPath\n",
    "tradehistory_silver_file_path = GlobalPath(\n",
    "    \"DATA/SILVER/TradeHistory/TradeHistory_data.csv\"\n",
    ")\n",
    "profitloss_gold_file_path = GlobalPath(\n",
    "    \"DATA/GOLD/ProfitLoss/ProfitLoss_data.csv\"\n",
    ")"
   ]
  },
  {
   "cell_type": "markdown",
   "metadata": {},
   "source": [
    "### Data Processing\n",
    "\n",
    "- Read and sort trade history data.\n",
    "- Apply portfolio trade logic.\n"
   ]
  },
  {
   "cell_type": "code",
   "execution_count": 3,
   "metadata": {
    "execution": {
     "iopub.execute_input": "2024-09-13T05:33:58.427822Z",
     "iopub.status.busy": "2024-09-13T05:33:58.427822Z",
     "iopub.status.idle": "2024-09-13T05:33:58.457246Z",
     "shell.execute_reply": "2024-09-13T05:33:58.457246Z"
    }
   },
   "outputs": [
    {
     "name": "stdout",
     "output_type": "stream",
     "text": [
      "Read SILVER Layer trade history data from: D:\\Study_Material\\Anudip_foundation\\Main_Projects\\Newfolder\\PortfolioTracker\\DATA\\SILVER\\TradeHistory\\TradeHistory_data.csv\n"
     ]
    }
   ],
   "source": [
    "# Read the CSV file\n",
    "df_trade_history = pd.read_csv(tradehistory_silver_file_path)\n",
    "\n",
    "# Convert 'datetime' to datetime type\n",
    "df_trade_history[\"datetime\"] = pd.to_datetime(df_trade_history[\"datetime\"])\n",
    "\n",
    "# Sort the DataFrame by 'datetime'\n",
    "df_trade_history = df_trade_history.sort_values(by=\"datetime\")\n",
    "\n",
    "print(\n",
    "    f\"Read SILVER Layer trade history data from: {tradehistory_silver_file_path}\"\n",
    ")"
   ]
  },
  {
   "cell_type": "markdown",
   "metadata": {},
   "source": [
    "### Portfolio Logic Application\n",
    "\n",
    "- Instantiate Portfolio and apply trade logic.\n",
    "- Handle expired stocks\n"
   ]
  },
  {
   "cell_type": "code",
   "execution_count": 4,
   "metadata": {
    "execution": {
     "iopub.execute_input": "2024-09-13T05:33:58.464509Z",
     "iopub.status.busy": "2024-09-13T05:33:58.464509Z",
     "iopub.status.idle": "2024-09-13T05:33:58.500772Z",
     "shell.execute_reply": "2024-09-13T05:33:58.500772Z"
    }
   },
   "outputs": [],
   "source": [
    "# Apply the trade logic to each row of the DataFrame\n",
    "# Instantiate the Portfolio object\n",
    "portfolio = Portfolio()\n",
    "for record in df_trade_history.astype(str).to_dict(orient=\"records\"):\n",
    "    portfolio.trade(record)\n",
    "\n",
    "portfolio.check_expired_stocks()\n",
    "# expired_stocks example : df_trade_history[\"scrip_name\"] == \"NIFTY-PE-24650-18JUL2024\""
   ]
  },
  {
   "cell_type": "markdown",
   "metadata": {},
   "source": [
    "### Final Processing and Export\n",
    "\n",
    "- Select and sort relevant columns.\n",
    "- Save the processed data as a CSV file in the Gold layer.\n"
   ]
  },
  {
   "cell_type": "code",
   "execution_count": 5,
   "metadata": {
    "execution": {
     "iopub.execute_input": "2024-09-13T05:33:58.500772Z",
     "iopub.status.busy": "2024-09-13T05:33:58.500772Z",
     "iopub.status.idle": "2024-09-13T05:33:58.537715Z",
     "shell.execute_reply": "2024-09-13T05:33:58.537715Z"
    }
   },
   "outputs": [
    {
     "name": "stdout",
     "output_type": "stream",
     "text": [
      "GOLD Layer CSV file for ProfitLoss successfully created at:\n",
      "D:\\Study_Material\\Anudip_foundation\\Main_Projects\\Newfolder\\PortfolioTracker\\DATA\\GOLD\\ProfitLoss\\ProfitLoss_data.csv\n",
      "<class 'pandas.core.frame.DataFrame'>\n",
      "RangeIndex: 44 entries, 0 to 43\n",
      "Data columns (total 16 columns):\n",
      " #   Column          Non-Null Count  Dtype         \n",
      "---  ------          --------------  -----         \n",
      " 0   exchange        44 non-null     object        \n",
      " 1   segment         44 non-null     object        \n",
      " 2   symbol          44 non-null     object        \n",
      " 3   scrip_name      44 non-null     object        \n",
      " 4   position        44 non-null     object        \n",
      " 5   quantity        44 non-null     float64       \n",
      " 6   open_datetime   44 non-null     datetime64[ns]\n",
      " 7   open_side       44 non-null     object        \n",
      " 8   open_price      44 non-null     float64       \n",
      " 9   open_amount     44 non-null     float64       \n",
      " 10  close_datetime  44 non-null     datetime64[ns]\n",
      " 11  close_side      44 non-null     object        \n",
      " 12  close_price     44 non-null     float64       \n",
      " 13  close_amount    44 non-null     float64       \n",
      " 14  pnl_amount      44 non-null     float64       \n",
      " 15  pnl_percentage  44 non-null     float64       \n",
      "dtypes: datetime64[ns](2), float64(7), object(7)\n",
      "memory usage: 5.6+ KB\n"
     ]
    }
   ],
   "source": [
    "# Create a DataFrame from the processed data\n",
    "df_pnl = pd.DataFrame(portfolio.get_pnl())\n",
    "\n",
    "# Sort the DataFrame\n",
    "df_pnl = df_pnl.sort_values(\n",
    "    by=[\n",
    "        \"segment\",\n",
    "        \"exchange\",\n",
    "        \"symbol\",\n",
    "        \"scrip_name\",\n",
    "        \"close_datetime\",\n",
    "        \"open_datetime\",\n",
    "    ]\n",
    ")\n",
    "\n",
    "# Round the values in to two decimal places\n",
    "df_pnl = df_pnl.round(2)\n",
    "\n",
    "# Reset index to ensure it starts from 0\n",
    "df_pnl = df_pnl.reset_index(drop=True)\n",
    "\n",
    "# Select and reorder the columns for the final DataFrame\n",
    "df_pnl = df_pnl[\n",
    "    [\n",
    "        \"exchange\",\n",
    "        \"segment\",\n",
    "        \"symbol\",\n",
    "        \"scrip_name\",\n",
    "        \"position\",\n",
    "        \"quantity\",\n",
    "        \"open_datetime\",\n",
    "        \"open_side\",\n",
    "        \"open_price\",\n",
    "        \"open_amount\",\n",
    "        \"close_datetime\",\n",
    "        \"close_side\",\n",
    "        \"close_price\",\n",
    "        \"close_amount\",\n",
    "        \"pnl_amount\",\n",
    "        \"pnl_percentage\",\n",
    "    ]\n",
    "]\n",
    "\n",
    "# Save the final DataFrame to a CSV file\n",
    "df_pnl.to_csv(profitloss_gold_file_path, index=None)\n",
    "\n",
    "print(\"GOLD Layer CSV file for ProfitLoss successfully created at:\")\n",
    "print(profitloss_gold_file_path)\n",
    "\n",
    "# Display the DataFrame debugrmation\n",
    "df_pnl.info()"
   ]
  }
 ],
 "metadata": {
  "kernelspec": {
   "display_name": "Python 3 (ipykernel)",
   "language": "python",
   "name": "python3"
  },
  "language_debug": {
   "codemirror_mode": {
    "name": "ipython",
    "version": 3
   },
   "file_extension": ".py",
   "mimetype": "text/x-python",
   "name": "python",
   "nbconvert_exporter": "python",
   "pygments_lexer": "ipython3",
   "version": "3.11.4"
  },
  "language_info": {
   "codemirror_mode": {
    "name": "ipython",
    "version": 3
   },
   "file_extension": ".py",
   "mimetype": "text/x-python",
   "name": "python",
   "nbconvert_exporter": "python",
   "pygments_lexer": "ipython3",
   "version": "3.12.6"
  }
 },
 "nbformat": 4,
 "nbformat_minor": 4
}
