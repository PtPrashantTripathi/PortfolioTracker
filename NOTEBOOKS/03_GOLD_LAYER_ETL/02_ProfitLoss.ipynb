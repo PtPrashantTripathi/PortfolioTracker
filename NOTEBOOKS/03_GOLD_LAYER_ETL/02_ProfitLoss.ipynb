{
 "cells": [
  {
   "cell_type": "markdown",
   "metadata": {},
   "source": [
    "## SILVER TO GOLD LAYER\n",
    "\n",
    "### Gold Layer - Profit and Loss\n"
   ]
  },
  {
   "cell_type": "code",
   "execution_count": 1,
   "metadata": {
    "execution": {
     "iopub.execute_input": "2024-11-22T04:08:31.518221Z",
     "iopub.status.busy": "2024-11-22T04:08:31.518037Z",
     "iopub.status.idle": "2024-11-22T04:08:31.778143Z",
     "shell.execute_reply": "2024-11-22T04:08:31.777640Z"
    }
   },
   "outputs": [],
   "source": [
    "# Importing Common Utility Function\n",
    "import pandas as pd\n",
    "from StockETL import GlobalPath, Portfolio"
   ]
  },
  {
   "cell_type": "code",
   "execution_count": 2,
   "metadata": {
    "execution": {
     "iopub.execute_input": "2024-11-22T04:08:31.780130Z",
     "iopub.status.busy": "2024-11-22T04:08:31.779902Z",
     "iopub.status.idle": "2024-11-22T04:08:31.932337Z",
     "shell.execute_reply": "2024-11-22T04:08:31.931770Z"
    }
   },
   "outputs": [],
   "source": [
    "# Import necessary libraries and utility functions\n",
    "%run ../COMMON/common_utility.ipynb"
   ]
  },
  {
   "cell_type": "code",
   "execution_count": 3,
   "metadata": {
    "execution": {
     "iopub.execute_input": "2024-11-22T04:08:31.934703Z",
     "iopub.status.busy": "2024-11-22T04:08:31.934206Z",
     "iopub.status.idle": "2024-11-22T04:08:31.938012Z",
     "shell.execute_reply": "2024-11-22T04:08:31.937577Z"
    }
   },
   "outputs": [],
   "source": [
    "# Instantiate GlobalPath\n",
    "tradehistory_silver_file_path = GlobalPath(\n",
    "    \"DATA/SILVER/TradeHistory/TradeHistory_data.csv\"\n",
    ")\n",
    "profitloss_gold_file_path = GlobalPath(\"DATA/GOLD/ProfitLoss/ProfitLoss_data.csv\")\n",
    "profitloss_gold_schema_file_path = GlobalPath(\n",
    "    \"CONFIG/DATA_CONTRACTS/GOLD/ProfitLoss.json\"\n",
    ")"
   ]
  },
  {
   "cell_type": "markdown",
   "metadata": {},
   "source": [
    "### Data Processing\n",
    "\n",
    "- Read and sort trade history data.\n",
    "- Apply portfolio trade logic.\n"
   ]
  },
  {
   "cell_type": "code",
   "execution_count": 4,
   "metadata": {
    "execution": {
     "iopub.execute_input": "2024-11-22T04:08:31.939730Z",
     "iopub.status.busy": "2024-11-22T04:08:31.939554Z",
     "iopub.status.idle": "2024-11-22T04:08:31.947944Z",
     "shell.execute_reply": "2024-11-22T04:08:31.947383Z"
    }
   },
   "outputs": [
    {
     "name": "stdout",
     "output_type": "stream",
     "text": [
      "Read SILVER Layer trade history data from => C:\\Users\\prashant.tripathi\\Code\\PortfolioTracker\\DATA\\SILVER\\TradeHistory\\TradeHistory_data.csv\n"
     ]
    }
   ],
   "source": [
    "# Read the CSV file\n",
    "df_trade_history = pd.read_csv(tradehistory_silver_file_path)\n",
    "\n",
    "# Convert 'datetime' to datetime type\n",
    "df_trade_history[\"datetime\"] = pd.to_datetime(df_trade_history[\"datetime\"])\n",
    "\n",
    "# Sort the DataFrame by 'datetime'\n",
    "df_trade_history = df_trade_history.sort_values(by=\"datetime\")\n",
    "\n",
    "print(f\"Read SILVER Layer trade history data from => {tradehistory_silver_file_path}\")"
   ]
  },
  {
   "cell_type": "markdown",
   "metadata": {},
   "source": [
    "### Portfolio Logic Application\n",
    "\n",
    "- Instantiate Portfolio and apply trade logic.\n",
    "- Handle expired stocks\n"
   ]
  },
  {
   "cell_type": "code",
   "execution_count": 5,
   "metadata": {
    "execution": {
     "iopub.execute_input": "2024-11-22T04:08:31.984653Z",
     "iopub.status.busy": "2024-11-22T04:08:31.984285Z",
     "iopub.status.idle": "2024-11-22T04:08:31.991318Z",
     "shell.execute_reply": "2024-11-22T04:08:31.990708Z"
    }
   },
   "outputs": [
    {
     "name": "stdout",
     "output_type": "stream",
     "text": [
      "NIFTY-PE-24650-18JUL2024 => 100.0 expired\n",
      "NIFTY-CE-25000-08AUG2024 => 25.0 expired\n",
      "NIFTY-CE-24800-17OCT2024 => 1800.0 expired\n"
     ]
    }
   ],
   "source": [
    "# Apply the trade logic to each row of the DataFrame\n",
    "# Instantiate the Portfolio object\n",
    "portfolio = Portfolio()\n",
    "for record in df_trade_history.to_dict(orient=\"records\"):\n",
    "    portfolio.trade(record)\n",
    "\n",
    "portfolio.check_expired_stocks()\n",
    "# expired_stocks example : df_trade_history[\"scrip_name\"] == \"NIFTY-PE-24650-18JUL2024\""
   ]
  },
  {
   "cell_type": "markdown",
   "metadata": {},
   "source": [
    "### Final Processing and Export\n",
    "\n",
    "- Select and sort relevant columns.\n",
    "- Save the processed data as a CSV file in the Gold layer.\n"
   ]
  },
  {
   "cell_type": "code",
   "execution_count": 6,
   "metadata": {
    "execution": {
     "iopub.execute_input": "2024-11-22T04:08:31.993225Z",
     "iopub.status.busy": "2024-11-22T04:08:31.992906Z",
     "iopub.status.idle": "2024-11-22T04:08:32.014429Z",
     "shell.execute_reply": "2024-11-22T04:08:32.013873Z"
    }
   },
   "outputs": [
    {
     "name": "stdout",
     "output_type": "stream",
     "text": [
      "DataContract loaded from => C:\\Users\\prashant.tripathi\\Code\\PortfolioTracker\\CONFIG\\DATA_CONTRACTS\\GOLD\\ProfitLoss.json\n",
      "GOLD Layer CSV file for ProfitLoss successfully created at =>\n",
      "C:\\Users\\prashant.tripathi\\Code\\PortfolioTracker\\DATA\\GOLD\\ProfitLoss\\ProfitLoss_data.csv\n",
      "<class 'pandas.core.frame.DataFrame'>\n",
      "RangeIndex: 200 entries, 0 to 199\n",
      "Data columns (total 17 columns):\n",
      " #   Column          Non-Null Count  Dtype         \n",
      "---  ------          --------------  -----         \n",
      " 0   exchange        200 non-null    string        \n",
      " 1   segment         200 non-null    string        \n",
      " 2   symbol          200 non-null    string        \n",
      " 3   scrip_name      200 non-null    string        \n",
      " 4   position        200 non-null    string        \n",
      " 5   quantity        200 non-null    float64       \n",
      " 6   open_datetime   200 non-null    datetime64[ns]\n",
      " 7   open_side       200 non-null    string        \n",
      " 8   open_price      200 non-null    float64       \n",
      " 9   open_amount     200 non-null    float64       \n",
      " 10  close_datetime  200 non-null    datetime64[ns]\n",
      " 11  close_side      200 non-null    string        \n",
      " 12  close_price     200 non-null    float64       \n",
      " 13  close_amount    200 non-null    float64       \n",
      " 14  pnl_amount      200 non-null    float64       \n",
      " 15  pnl_percentage  200 non-null    float64       \n",
      " 16  brokerage       200 non-null    float64       \n",
      "dtypes: datetime64[ns](2), float64(8), string(7)\n",
      "memory usage: 26.7 KB\n"
     ]
    }
   ],
   "source": [
    "# Create a DataFrame from the processed data\n",
    "df_pnl = pd.DataFrame(portfolio.get_pnl())\n",
    "\n",
    "# Reset index to ensure it starts from 0\n",
    "df_pnl = df_pnl.reset_index(drop=True)\n",
    "\n",
    "# Align Datafame with DataContract\n",
    "df_pnl = align_with_datacontract(df_pnl, profitloss_gold_schema_file_path)\n",
    "\n",
    "# Save the final DataFrame to a CSV file\n",
    "df_pnl.to_csv(profitloss_gold_file_path, index=None)\n",
    "\n",
    "print(\"GOLD Layer CSV file for ProfitLoss successfully created at =>\")\n",
    "print(profitloss_gold_file_path)\n",
    "\n",
    "# Display the DataFrame debugrmation\n",
    "df_pnl.info()"
   ]
  }
 ],
 "metadata": {
  "kernelspec": {
   "display_name": "Python 3",
   "language": "python",
   "name": "python3"
  },
  "language_debug": {
   "codemirror_mode": {
    "name": "ipython",
    "version": 3
   },
   "file_extension": ".py",
   "mimetype": "text/x-python",
   "name": "python",
   "nbconvert_exporter": "python",
   "pygments_lexer": "ipython3",
   "version": "3.11.4"
  },
  "language_info": {
   "codemirror_mode": {
    "name": "ipython",
    "version": 3
   },
   "file_extension": ".py",
   "mimetype": "text/x-python",
   "name": "python",
   "nbconvert_exporter": "python",
   "pygments_lexer": "ipython3",
   "version": "3.11.4"
  }
 },
 "nbformat": 4,
 "nbformat_minor": 4
}
