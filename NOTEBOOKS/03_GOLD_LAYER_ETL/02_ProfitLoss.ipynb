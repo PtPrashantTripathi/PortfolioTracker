{
 "cells": [
  {
   "cell_type": "markdown",
   "metadata": {},
   "source": [
    "## SILVER TO GOLD LAYER\n",
    "\n",
    "### Gold Layer - Profit and Loss\n"
   ]
  },
  {
   "cell_type": "code",
   "execution_count": 1,
   "metadata": {
    "execution": {
     "iopub.execute_input": "2025-01-01T00:48:45.340596Z",
     "iopub.status.busy": "2025-01-01T00:48:45.340410Z",
     "iopub.status.idle": "2025-01-01T00:48:45.600292Z",
     "shell.execute_reply": "2025-01-01T00:48:45.599798Z"
    }
   },
   "outputs": [],
   "source": [
    "# Importing Common Utility Function\n",
    "import pandas as pd\n",
    "\n",
    "from StockETL import GlobalPath, Portfolio"
   ]
  },
  {
   "cell_type": "code",
   "execution_count": 2,
   "metadata": {
    "execution": {
     "iopub.execute_input": "2025-01-01T00:48:45.602547Z",
     "iopub.status.busy": "2025-01-01T00:48:45.602168Z",
     "iopub.status.idle": "2025-01-01T00:48:45.754176Z",
     "shell.execute_reply": "2025-01-01T00:48:45.753564Z"
    }
   },
   "outputs": [
    {
     "name": "stdout",
     "output_type": "stream",
     "text": [
      "USERNAME = 'ptprashanttripathi'\n"
     ]
    }
   ],
   "source": [
    "# Import necessary libraries and utility functions\n",
    "%run ../COMMON/common_utility.ipynb"
   ]
  },
  {
   "cell_type": "code",
   "execution_count": 3,
   "metadata": {
    "execution": {
     "iopub.execute_input": "2025-01-01T00:48:45.790451Z",
     "iopub.status.busy": "2025-01-01T00:48:45.790259Z",
     "iopub.status.idle": "2025-01-01T00:48:45.794121Z",
     "shell.execute_reply": "2025-01-01T00:48:45.793665Z"
    }
   },
   "outputs": [],
   "source": [
    "# Instantiate GlobalPath\n",
    "tradehistory_silver_file_path = GlobalPath(\n",
    "    f\"DATA/SILVER/TradeHistory/{USERNAME}/TradeHistory_data.csv\"\n",
    ")\n",
    "profitloss_gold_file_path = GlobalPath(\n",
    "    f\"DATA/GOLD/ProfitLoss/{USERNAME}/ProfitLoss_data.csv\"\n",
    ")\n",
    "profitloss_gold_schema_file_path = GlobalPath(\n",
    "    \"CONFIG/DATA_CONTRACTS/GOLD/ProfitLoss.json\"\n",
    ")"
   ]
  },
  {
   "cell_type": "markdown",
   "metadata": {},
   "source": [
    "### Data Processing\n",
    "\n",
    "- Read and sort trade history data.\n",
    "- Apply portfolio trade logic.\n"
   ]
  },
  {
   "cell_type": "code",
   "execution_count": 4,
   "metadata": {
    "execution": {
     "iopub.execute_input": "2025-01-01T00:48:45.795930Z",
     "iopub.status.busy": "2025-01-01T00:48:45.795584Z",
     "iopub.status.idle": "2025-01-01T00:48:45.804418Z",
     "shell.execute_reply": "2025-01-01T00:48:45.803932Z"
    }
   },
   "outputs": [
    {
     "name": "stdout",
     "output_type": "stream",
     "text": [
      "Read SILVER Layer trade history data from => /home/runner/work/PortfolioTracker/PortfolioTracker/DATA/SILVER/TradeHistory/ptprashanttripathi/TradeHistory_data.csv\n"
     ]
    }
   ],
   "source": [
    "# Read the CSV file\n",
    "df_trade_history = pd.read_csv(tradehistory_silver_file_path)\n",
    "\n",
    "# Convert 'datetime' to datetime type\n",
    "df_trade_history[\"datetime\"] = pd.to_datetime(df_trade_history[\"datetime\"])\n",
    "\n",
    "# Sort the DataFrame by 'datetime'\n",
    "df_trade_history = df_trade_history.sort_values(by=\"datetime\")\n",
    "\n",
    "print(f\"Read SILVER Layer trade history data from => {tradehistory_silver_file_path}\")"
   ]
  },
  {
   "cell_type": "markdown",
   "metadata": {},
   "source": [
    "### Portfolio Logic Application\n",
    "\n",
    "- Instantiate Portfolio and apply trade logic.\n",
    "- Handle expired stocks\n"
   ]
  },
  {
   "cell_type": "code",
   "execution_count": 5,
   "metadata": {
    "execution": {
     "iopub.execute_input": "2025-01-01T00:48:45.806233Z",
     "iopub.status.busy": "2025-01-01T00:48:45.805888Z",
     "iopub.status.idle": "2025-01-01T00:48:45.837550Z",
     "shell.execute_reply": "2025-01-01T00:48:45.837099Z"
    }
   },
   "outputs": [
    {
     "name": "stdout",
     "output_type": "stream",
     "text": [
      "NIFTY-PE-24650-18JUL2024 => 100.0 expired\n",
      "NIFTY-CE-25000-08AUG2024 => 25.0 expired\n",
      "NIFTY-CE-24800-17OCT2024 => 1800.0 expired\n"
     ]
    }
   ],
   "source": [
    "# Apply the trade logic to each row of the DataFrame\n",
    "# Instantiate the Portfolio object\n",
    "portfolio = Portfolio()\n",
    "for record in df_trade_history.to_dict(orient=\"records\"):\n",
    "    portfolio.trade(record)\n",
    "\n",
    "portfolio.check_expired_stocks()\n",
    "# expired_stocks example : df_trade_history[\"scrip_name\"] == \"NIFTY-PE-24650-18JUL2024\""
   ]
  },
  {
   "cell_type": "markdown",
   "metadata": {},
   "source": [
    "### Final Processing and Export\n",
    "\n",
    "- Select and sort relevant columns.\n",
    "- Save the processed data as a CSV file in the Gold layer.\n"
   ]
  },
  {
   "cell_type": "code",
   "execution_count": 6,
   "metadata": {
    "execution": {
     "iopub.execute_input": "2025-01-01T00:48:45.839492Z",
     "iopub.status.busy": "2025-01-01T00:48:45.839151Z",
     "iopub.status.idle": "2025-01-01T00:48:45.862602Z",
     "shell.execute_reply": "2025-01-01T00:48:45.862111Z"
    }
   },
   "outputs": [
    {
     "name": "stdout",
     "output_type": "stream",
     "text": [
      "DataContract loaded from => /home/runner/work/PortfolioTracker/PortfolioTracker/CONFIG/DATA_CONTRACTS/GOLD/ProfitLoss.json\n",
      "GOLD Layer CSV file for ProfitLoss successfully created at =>\n",
      "/home/runner/work/PortfolioTracker/PortfolioTracker/DATA/GOLD/ProfitLoss/ptprashanttripathi/ProfitLoss_data.csv\n",
      "<class 'pandas.core.frame.DataFrame'>\n",
      "RangeIndex: 213 entries, 0 to 212\n",
      "Data columns (total 17 columns):\n",
      " #   Column          Non-Null Count  Dtype         \n",
      "---  ------          --------------  -----         \n",
      " 0   exchange        213 non-null    string        \n",
      " 1   segment         213 non-null    string        \n",
      " 2   symbol          213 non-null    string        \n",
      " 3   scrip_name      213 non-null    string        \n",
      " 4   position        213 non-null    string        \n",
      " 5   quantity        213 non-null    float64       \n",
      " 6   open_datetime   213 non-null    datetime64[ns]\n",
      " 7   open_side       213 non-null    string        \n",
      " 8   open_price      213 non-null    float64       \n",
      " 9   open_amount     213 non-null    float64       \n",
      " 10  close_datetime  213 non-null    datetime64[ns]\n",
      " 11  close_side      213 non-null    string        \n",
      " 12  close_price     213 non-null    float64       \n",
      " 13  close_amount    213 non-null    float64       \n",
      " 14  pnl_amount      213 non-null    float64       \n",
      " 15  pnl_percentage  213 non-null    float64       \n",
      " 16  brokerage       213 non-null    float64       \n",
      "dtypes: datetime64[ns](2), float64(8), string(7)\n",
      "memory usage: 28.4 KB\n"
     ]
    }
   ],
   "source": [
    "# Create a DataFrame from the processed data\n",
    "df_pnl = pd.DataFrame(portfolio.get_pnl())\n",
    "\n",
    "# Reset index to ensure it starts from 0\n",
    "df_pnl = df_pnl.reset_index(drop=True)\n",
    "\n",
    "# Align Datafame with DataContract\n",
    "df_pnl = align_with_datacontract(df_pnl, profitloss_gold_schema_file_path)\n",
    "\n",
    "# Save the final DataFrame to a CSV file\n",
    "df_pnl.to_csv(profitloss_gold_file_path, index=None)\n",
    "\n",
    "print(\"GOLD Layer CSV file for ProfitLoss successfully created at =>\")\n",
    "print(profitloss_gold_file_path)\n",
    "\n",
    "# Display the DataFrame debugrmation\n",
    "df_pnl.info()"
   ]
  }
 ],
 "metadata": {
  "kernelspec": {
   "display_name": "Python 3",
   "language": "python",
   "name": "python3"
  },
  "language_debug": {
   "codemirror_mode": {
    "name": "ipython",
    "version": 3
   },
   "file_extension": ".py",
   "mimetype": "text/x-python",
   "name": "python",
   "nbconvert_exporter": "python",
   "pygments_lexer": "ipython3",
   "version": "3.11.4"
  },
  "language_info": {
   "codemirror_mode": {
    "name": "ipython",
    "version": 3
   },
   "file_extension": ".py",
   "mimetype": "text/x-python",
   "name": "python",
   "nbconvert_exporter": "python",
   "pygments_lexer": "ipython3",
   "version": "3.12.8"
  }
 },
 "nbformat": 4,
 "nbformat_minor": 4
}
