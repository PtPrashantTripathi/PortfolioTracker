{
 "cells": [
  {
   "cell_type": "markdown",
   "metadata": {},
   "source": [
    "## SILVER TO GOLD LAYER\n",
    "\n",
    "### Gold Layer - Profit and Loss\n"
   ]
  },
  {
   "cell_type": "code",
   "execution_count": 1,
   "metadata": {
    "execution": {
     "iopub.execute_input": "2025-04-26T01:02:10.664530Z",
     "iopub.status.busy": "2025-04-26T01:02:10.664098Z",
     "iopub.status.idle": "2025-04-26T01:02:10.891001Z",
     "shell.execute_reply": "2025-04-26T01:02:10.890501Z"
    }
   },
   "outputs": [],
   "source": [
    "# Importing Common Utility Function\n",
    "import pandas as pd\n",
    "\n",
    "from StockETL import GlobalPath, Portfolio"
   ]
  },
  {
   "cell_type": "code",
   "execution_count": 2,
   "metadata": {
    "execution": {
     "iopub.execute_input": "2025-04-26T01:02:10.893271Z",
     "iopub.status.busy": "2025-04-26T01:02:10.892856Z",
     "iopub.status.idle": "2025-04-26T01:02:11.046353Z",
     "shell.execute_reply": "2025-04-26T01:02:11.045822Z"
    }
   },
   "outputs": [
    {
     "name": "stdout",
     "output_type": "stream",
     "text": [
      "USERNAME = 'ptprashanttripathi'\n"
     ]
    }
   ],
   "source": [
    "# Import necessary libraries and utility functions\n",
    "%run ../COMMON/common_utility.ipynb"
   ]
  },
  {
   "cell_type": "code",
   "execution_count": 3,
   "metadata": {
    "execution": {
     "iopub.execute_input": "2025-04-26T01:02:11.081352Z",
     "iopub.status.busy": "2025-04-26T01:02:11.081153Z",
     "iopub.status.idle": "2025-04-26T01:02:11.084982Z",
     "shell.execute_reply": "2025-04-26T01:02:11.084413Z"
    }
   },
   "outputs": [],
   "source": [
    "# Instantiate GlobalPath\n",
    "tradehistory_silver_file_path = GlobalPath(\n",
    "    f\"DATA/SILVER/TradeHistory/{USERNAME}/TradeHistory_data.csv\"\n",
    ")\n",
    "profitloss_gold_file_path = GlobalPath(\n",
    "    f\"DATA/GOLD/ProfitLoss/{USERNAME}/ProfitLoss_data.csv\"\n",
    ")\n",
    "profitloss_gold_schema_file_path = GlobalPath(\n",
    "    \"CONFIG/DATA_CONTRACTS/GOLD/ProfitLoss.json\"\n",
    ")"
   ]
  },
  {
   "cell_type": "markdown",
   "metadata": {},
   "source": [
    "### Data Processing\n",
    "\n",
    "- Read and sort trade history data.\n",
    "- Apply portfolio trade logic.\n"
   ]
  },
  {
   "cell_type": "code",
   "execution_count": 4,
   "metadata": {
    "execution": {
     "iopub.execute_input": "2025-04-26T01:02:11.087045Z",
     "iopub.status.busy": "2025-04-26T01:02:11.086613Z",
     "iopub.status.idle": "2025-04-26T01:02:11.095872Z",
     "shell.execute_reply": "2025-04-26T01:02:11.095306Z"
    }
   },
   "outputs": [
    {
     "name": "stdout",
     "output_type": "stream",
     "text": [
      "Read SILVER Layer trade history data from => /home/runner/work/PortfolioTracker/PortfolioTracker/DATA/SILVER/TradeHistory/ptprashanttripathi/TradeHistory_data.csv\n"
     ]
    }
   ],
   "source": [
    "# Read the CSV file\n",
    "df_trade_history = pd.read_csv(tradehistory_silver_file_path)\n",
    "\n",
    "# Convert 'datetime' to datetime type\n",
    "df_trade_history[\"datetime\"] = pd.to_datetime(df_trade_history[\"datetime\"])\n",
    "\n",
    "# Sort the DataFrame by 'datetime'\n",
    "df_trade_history = df_trade_history.sort_values(by=\"datetime\")\n",
    "\n",
    "print(f\"Read SILVER Layer trade history data from => {tradehistory_silver_file_path}\")"
   ]
  },
  {
   "cell_type": "markdown",
   "metadata": {},
   "source": [
    "### Portfolio Logic Application\n",
    "\n",
    "- Instantiate Portfolio and apply trade logic.\n",
    "- Handle expired stocks\n"
   ]
  },
  {
   "cell_type": "code",
   "execution_count": 5,
   "metadata": {
    "execution": {
     "iopub.execute_input": "2025-04-26T01:02:11.097782Z",
     "iopub.status.busy": "2025-04-26T01:02:11.097442Z",
     "iopub.status.idle": "2025-04-26T01:02:11.134651Z",
     "shell.execute_reply": "2025-04-26T01:02:11.134217Z"
    }
   },
   "outputs": [
    {
     "name": "stdout",
     "output_type": "stream",
     "text": [
      "NIFTY-PE-24650-18JUL2024 => 100.0 expired\n",
      "NIFTY-CE-25000-08AUG2024 => 25.0 expired\n",
      "NIFTY-CE-24800-17OCT2024 => 1800.0 expired\n"
     ]
    }
   ],
   "source": [
    "# Apply the trade logic to each row of the DataFrame\n",
    "# Instantiate the Portfolio object\n",
    "portfolio = Portfolio()\n",
    "for record in df_trade_history.to_dict(orient=\"records\"):\n",
    "    portfolio.trade(record)\n",
    "\n",
    "portfolio.check_expired_stocks()\n",
    "# expired_stocks example : df_trade_history[\"scrip_name\"] == \"NIFTY-PE-24650-18JUL2024\""
   ]
  },
  {
   "cell_type": "markdown",
   "metadata": {},
   "source": [
    "### Final Processing and Export\n",
    "\n",
    "- Select and sort relevant columns.\n",
    "- Save the processed data as a CSV file in the Gold layer.\n"
   ]
  },
  {
   "cell_type": "code",
   "execution_count": 6,
   "metadata": {
    "execution": {
     "iopub.execute_input": "2025-04-26T01:02:11.136272Z",
     "iopub.status.busy": "2025-04-26T01:02:11.136092Z",
     "iopub.status.idle": "2025-04-26T01:02:11.161048Z",
     "shell.execute_reply": "2025-04-26T01:02:11.160552Z"
    }
   },
   "outputs": [
    {
     "name": "stdout",
     "output_type": "stream",
     "text": [
      "DataContract loaded from => /home/runner/work/PortfolioTracker/PortfolioTracker/CONFIG/DATA_CONTRACTS/GOLD/ProfitLoss.json\n",
      "GOLD Layer CSV file for ProfitLoss successfully created at =>\n",
      "/home/runner/work/PortfolioTracker/PortfolioTracker/DATA/GOLD/ProfitLoss/ptprashanttripathi/ProfitLoss_data.csv\n",
      "<class 'pandas.core.frame.DataFrame'>\n",
      "RangeIndex: 255 entries, 0 to 254\n",
      "Data columns (total 17 columns):\n",
      " #   Column          Non-Null Count  Dtype         \n",
      "---  ------          --------------  -----         \n",
      " 0   exchange        255 non-null    string        \n",
      " 1   segment         255 non-null    string        \n",
      " 2   symbol          255 non-null    string        \n",
      " 3   scrip_name      255 non-null    string        \n",
      " 4   position        255 non-null    string        \n",
      " 5   quantity        255 non-null    float64       \n",
      " 6   open_datetime   255 non-null    datetime64[ns]\n",
      " 7   open_side       255 non-null    string        \n",
      " 8   open_price      255 non-null    float64       \n",
      " 9   open_amount     255 non-null    float64       \n",
      " 10  close_datetime  255 non-null    datetime64[ns]\n",
      " 11  close_side      255 non-null    string        \n",
      " 12  close_price     255 non-null    float64       \n",
      " 13  close_amount    255 non-null    float64       \n",
      " 14  pnl_amount      255 non-null    float64       \n",
      " 15  pnl_percentage  255 non-null    float64       \n",
      " 16  brokerage       255 non-null    float64       \n",
      "dtypes: datetime64[ns](2), float64(8), string(7)\n",
      "memory usage: 34.0 KB\n"
     ]
    }
   ],
   "source": [
    "# Create a DataFrame from the processed data\n",
    "df_pnl = pd.DataFrame(portfolio.get_pnl())\n",
    "\n",
    "# Reset index to ensure it starts from 0\n",
    "df_pnl = df_pnl.reset_index(drop=True)\n",
    "\n",
    "# Align Datafame with DataContract\n",
    "df_pnl = align_with_datacontract(df_pnl, profitloss_gold_schema_file_path)\n",
    "\n",
    "# Save the final DataFrame to a CSV file\n",
    "df_pnl.to_csv(profitloss_gold_file_path, index=None)\n",
    "\n",
    "print(\"GOLD Layer CSV file for ProfitLoss successfully created at =>\")\n",
    "print(profitloss_gold_file_path)\n",
    "\n",
    "# Display the DataFrame debugrmation\n",
    "df_pnl.info()"
   ]
  }
 ],
 "metadata": {
  "kernelspec": {
   "display_name": "Python 3",
   "language": "python",
   "name": "python3"
  },
  "language_debug": {
   "codemirror_mode": {
    "name": "ipython",
    "version": 3
   },
   "file_extension": ".py",
   "mimetype": "text/x-python",
   "name": "python",
   "nbconvert_exporter": "python",
   "pygments_lexer": "ipython3",
   "version": "3.11.4"
  },
  "language_info": {
   "codemirror_mode": {
    "name": "ipython",
    "version": 3
   },
   "file_extension": ".py",
   "mimetype": "text/x-python",
   "name": "python",
   "nbconvert_exporter": "python",
   "pygments_lexer": "ipython3",
   "version": "3.13.3"
  }
 },
 "nbformat": 4,
 "nbformat_minor": 4
}
