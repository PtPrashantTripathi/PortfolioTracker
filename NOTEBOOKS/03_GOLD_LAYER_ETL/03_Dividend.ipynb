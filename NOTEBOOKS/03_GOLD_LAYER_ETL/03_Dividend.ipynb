{
 "cells": [
  {
   "cell_type": "markdown",
   "metadata": {},
   "source": [
    "## BRONZE TO SILVER LAYER\n",
    "\n",
    "### GOLD LAYER - PROCESS DIVIDEND HISTORY\n"
   ]
  },
  {
   "cell_type": "markdown",
   "metadata": {},
   "source": [
    "### Description\n",
    "\n",
    "The notebook is designed to process stock dividend data by merging it with holding data, calculating dividend amounts, and saving the result to a CSV file. The function follows these steps:\n"
   ]
  },
  {
   "cell_type": "code",
   "execution_count": 1,
   "metadata": {
    "execution": {
     "iopub.execute_input": "2024-11-22T04:08:34.381186Z",
     "iopub.status.busy": "2024-11-22T04:08:34.380702Z",
     "iopub.status.idle": "2024-11-22T04:08:34.647885Z",
     "shell.execute_reply": "2024-11-22T04:08:34.647355Z"
    }
   },
   "outputs": [],
   "source": [
    "# Importing Common Utility Function\n",
    "import pandas as pd\n",
    "from StockETL import GlobalPath"
   ]
  },
  {
   "cell_type": "code",
   "execution_count": 2,
   "metadata": {
    "execution": {
     "iopub.execute_input": "2024-11-22T04:08:34.650151Z",
     "iopub.status.busy": "2024-11-22T04:08:34.649704Z",
     "iopub.status.idle": "2024-11-22T04:08:34.804976Z",
     "shell.execute_reply": "2024-11-22T04:08:34.804407Z"
    }
   },
   "outputs": [],
   "source": [
    "# Import necessary libraries and utility functions\n",
    "%run ../COMMON/common_utility.ipynb"
   ]
  },
  {
   "cell_type": "code",
   "execution_count": 3,
   "metadata": {
    "execution": {
     "iopub.execute_input": "2024-11-22T04:08:34.807000Z",
     "iopub.status.busy": "2024-11-22T04:08:34.806812Z",
     "iopub.status.idle": "2024-11-22T04:08:34.810692Z",
     "shell.execute_reply": "2024-11-22T04:08:34.810188Z"
    }
   },
   "outputs": [],
   "source": [
    "# Instantiate GlobalPath\n",
    "holding_gold_file_path = GlobalPath(\"DATA/GOLD/Holding/Holding_data.csv\")\n",
    "stockevents_silver_file_path = GlobalPath(\n",
    "    \"DATA/SILVER/StockEvents/StockEvents_data.csv\"\n",
    ")\n",
    "dividend_gold_file_path = GlobalPath(\"DATA/GOLD/Dividend/Dividend_data.csv\")\n",
    "dividend_gold_schema_file_path = GlobalPath(\"CONFIG/DATA_CONTRACTS/GOLD/Dividend.json\")"
   ]
  },
  {
   "cell_type": "code",
   "execution_count": 4,
   "metadata": {
    "execution": {
     "iopub.execute_input": "2024-11-22T04:08:34.812285Z",
     "iopub.status.busy": "2024-11-22T04:08:34.812113Z",
     "iopub.status.idle": "2024-11-22T04:08:34.832220Z",
     "shell.execute_reply": "2024-11-22T04:08:34.831662Z"
    }
   },
   "outputs": [
    {
     "name": "stdout",
     "output_type": "stream",
     "text": [
      "<class 'pandas.core.frame.DataFrame'>\n",
<<<<<<< HEAD
      "RangeIndex: 5847 entries, 0 to 5846\n",
      "Data columns (total 16 columns):\n",
      " #   Column            Non-Null Count  Dtype  \n",
      "---  ------            --------------  -----  \n",
      " 0   date              5847 non-null   object \n",
      " 1   segment           5847 non-null   object \n",
      " 2   exchange          5847 non-null   object \n",
      " 3   symbol            5847 non-null   object \n",
      " 4   scrip_name        5847 non-null   object \n",
      " 5   holding_quantity  5847 non-null   float64\n",
      " 6   avg_price         5847 non-null   float64\n",
      " 7   holding_amount    5847 non-null   float64\n",
      " 8   open_price        5847 non-null   float64\n",
      " 9   open_amount       5847 non-null   float64\n",
      " 10  high_price        5847 non-null   float64\n",
      " 11  high_amount       5847 non-null   float64\n",
      " 12  low_price         5847 non-null   float64\n",
      " 13  low_amount        5847 non-null   float64\n",
      " 14  close_price       5847 non-null   float64\n",
      " 15  close_amount      5847 non-null   float64\n",
      "dtypes: float64(11), object(5)\n",
      "memory usage: 731.0+ KB\n",
      "Loaded GOLD Layer holding data from => /home/runner/work/PortfolioTracker/PortfolioTracker/DATA/GOLD/Holding/Holding_data.csv\n"
=======
      "RangeIndex: 6623 entries, 0 to 6622\n",
      "Data columns (total 16 columns):\n",
      " #   Column            Non-Null Count  Dtype  \n",
      "---  ------            --------------  -----  \n",
      " 0   date              6623 non-null   object \n",
      " 1   segment           6623 non-null   object \n",
      " 2   exchange          6623 non-null   object \n",
      " 3   symbol            6623 non-null   object \n",
      " 4   scrip_name        6623 non-null   object \n",
      " 5   holding_quantity  6623 non-null   float64\n",
      " 6   avg_price         6623 non-null   float64\n",
      " 7   holding_amount    6623 non-null   float64\n",
      " 8   open_price        6620 non-null   float64\n",
      " 9   open_amount       6620 non-null   float64\n",
      " 10  high_price        6620 non-null   float64\n",
      " 11  high_amount       6620 non-null   float64\n",
      " 12  low_price         6620 non-null   float64\n",
      " 13  low_amount        6620 non-null   float64\n",
      " 14  close_price       6620 non-null   float64\n",
      " 15  close_amount      6620 non-null   float64\n",
      "dtypes: float64(11), object(5)\n",
      "memory usage: 828.0+ KB\n",
      "Loaded GOLD Layer holding data from => C:\\Users\\prashant.tripathi\\Code\\PortfolioTracker\\DATA\\GOLD\\Holding\\Holding_data.csv\n"
>>>>>>> 2425424 (commit)
     ]
    }
   ],
   "source": [
    "# Load holding data from the GOLD layer\n",
    "df_holding = pd.read_csv(holding_gold_file_path)\n",
    "df_holding.info()\n",
    "df_holding[\"date\"] = pd.to_datetime(df_holding[\"date\"])\n",
    "print(f\"Loaded GOLD Layer holding data from => {holding_gold_file_path}\")"
   ]
  },
  {
   "cell_type": "code",
   "execution_count": 5,
   "metadata": {
    "execution": {
     "iopub.execute_input": "2024-11-22T04:08:34.869180Z",
     "iopub.status.busy": "2024-11-22T04:08:34.868746Z",
     "iopub.status.idle": "2024-11-22T04:08:34.874822Z",
     "shell.execute_reply": "2024-11-22T04:08:34.874330Z"
    }
   },
   "outputs": [
    {
     "name": "stdout",
     "output_type": "stream",
     "text": [
<<<<<<< HEAD
      "Loaded SILVER Layer stock dividend data from => /home/runner/work/PortfolioTracker/PortfolioTracker/DATA/SILVER/StockEvents/StockEvents_data.csv\n"
=======
      "Loaded SILVER Layer stock dividend data from => C:\\Users\\prashant.tripathi\\Code\\PortfolioTracker\\DATA\\SILVER\\StockEvents\\StockEvents_data.csv\n"
>>>>>>> 2425424 (commit)
     ]
    }
   ],
   "source": [
    "# Load dividend data from the SILVER layer\n",
    "df_dividends = pd.read_csv(stockevents_silver_file_path)\n",
    "df_dividends[\"date\"] = pd.to_datetime(df_dividends[\"date\"])\n",
    "print(f\"Loaded SILVER Layer stock dividend data from => {stockevents_silver_file_path}\")"
   ]
  },
  {
   "cell_type": "code",
   "execution_count": 6,
   "metadata": {
    "execution": {
     "iopub.execute_input": "2024-11-22T04:08:34.876558Z",
     "iopub.status.busy": "2024-11-22T04:08:34.876375Z",
     "iopub.status.idle": "2024-11-22T04:08:34.885334Z",
     "shell.execute_reply": "2024-11-22T04:08:34.884843Z"
    }
   },
   "outputs": [],
   "source": [
    "# Filter for dividend events only\n",
    "df_dividends = df_dividends[df_dividends[\"event\"].str.upper() == \"DIVIDENDS\"]\n",
    "\n",
    "# Merge dividend data with holding data\n",
    "df_dividend = pd.merge(df_holding, df_dividends, on=[\"date\", \"symbol\"], how=\"left\")\n",
    "\n",
    "# Calculate the dividend amount\n",
    "df_dividend[\"dividend_amount\"] = (\n",
    "    df_dividend[\"value\"].fillna(0) * df_dividend[\"holding_quantity\"]\n",
    ")\n",
    "\n",
    "# Filter out rows where dividend amount is 0\n",
    "df_dividend = df_dividend[df_dividend[\"dividend_amount\"] != 0]\n",
    "\n",
    "# Apply the function to create the 'financial_year' column\n",
    "df_dividend[\"financial_year\"] = pd.to_datetime(df_dividend[\"date\"]).apply(\n",
    "    get_financial_year\n",
    ")"
   ]
  },
  {
   "cell_type": "code",
   "execution_count": 7,
   "metadata": {
    "execution": {
     "iopub.execute_input": "2024-11-22T04:08:34.887200Z",
     "iopub.status.busy": "2024-11-22T04:08:34.886828Z",
     "iopub.status.idle": "2024-11-22T04:08:34.898175Z",
     "shell.execute_reply": "2024-11-22T04:08:34.897596Z"
    }
   },
   "outputs": [
    {
     "name": "stdout",
     "output_type": "stream",
     "text": [
<<<<<<< HEAD
      "DataContract loaded from => /home/runner/work/PortfolioTracker/PortfolioTracker/CONFIG/DATA_CONTRACTS/GOLD/Dividend.json\n",
      "GOLD Layer CSV file for Holding successfully created at: /home/runner/work/PortfolioTracker/PortfolioTracker/DATA/GOLD/Dividend/Dividend_data.csv\n",
      "<class 'pandas.core.frame.DataFrame'>\n",
      "RangeIndex: 14 entries, 0 to 13\n",
      "Data columns (total 5 columns):\n",
      " #   Column           Non-Null Count  Dtype         \n",
      "---  ------           --------------  -----         \n",
      " 0   financial_year   14 non-null     string        \n",
      " 1   date             14 non-null     datetime64[ns]\n",
      " 2   segment          14 non-null     string        \n",
      " 3   symbol           14 non-null     string        \n",
      " 4   dividend_amount  14 non-null     float64       \n",
      "dtypes: datetime64[ns](1), float64(1), string(3)\n",
      "memory usage: 692.0 bytes\n"
=======
      "DataContract loaded from => C:\\Users\\prashant.tripathi\\Code\\PortfolioTracker\\CONFIG\\DATA_CONTRACTS\\GOLD\\Dividend.json\n",
      "GOLD Layer CSV file for Holding successfully created at: C:\\Users\\prashant.tripathi\\Code\\PortfolioTracker\\DATA\\GOLD\\Dividend\\Dividend_data.csv\n",
      "<class 'pandas.core.frame.DataFrame'>\n",
      "RangeIndex: 17 entries, 0 to 16\n",
      "Data columns (total 5 columns):\n",
      " #   Column           Non-Null Count  Dtype         \n",
      "---  ------           --------------  -----         \n",
      " 0   financial_year   17 non-null     string        \n",
      " 1   date             17 non-null     datetime64[ns]\n",
      " 2   segment          17 non-null     string        \n",
      " 3   symbol           17 non-null     string        \n",
      " 4   dividend_amount  17 non-null     float64       \n",
      "dtypes: datetime64[ns](1), float64(1), string(3)\n",
      "memory usage: 812.0 bytes\n"
>>>>>>> 2425424 (commit)
     ]
    }
   ],
   "source": [
    "# Align Datafame with DataContract\n",
    "df_dividend = align_with_datacontract(df_dividend, dividend_gold_schema_file_path)\n",
    "\n",
    "# Save the result to a new CSV file\n",
    "df_dividend.to_csv(dividend_gold_file_path, index=False)\n",
    "print(\n",
    "    f\"GOLD Layer CSV file for Holding successfully created at: {dividend_gold_file_path}\"\n",
    ")\n",
    "\n",
    "# Display DataFrame debugrmation\n",
    "df_dividend.info()"
   ]
  }
 ],
 "metadata": {
  "kernelspec": {
   "display_name": "Python 3",
   "language": "python",
   "name": "python3"
  },
  "language_debug": {
   "codemirror_mode": {
    "name": "ipython",
    "version": 3
   },
   "file_extension": ".py",
   "mimetype": "text/x-python",
   "name": "python",
   "nbconvert_exporter": "python",
   "pygments_lexer": "ipython3",
   "version": "3.11.4"
  },
  "language_info": {
   "codemirror_mode": {
    "name": "ipython",
    "version": 3
   },
   "file_extension": ".py",
   "mimetype": "text/x-python",
   "name": "python",
   "nbconvert_exporter": "python",
   "pygments_lexer": "ipython3",
   "version": "3.12.7"
  }
 },
 "nbformat": 4,
 "nbformat_minor": 2
}
