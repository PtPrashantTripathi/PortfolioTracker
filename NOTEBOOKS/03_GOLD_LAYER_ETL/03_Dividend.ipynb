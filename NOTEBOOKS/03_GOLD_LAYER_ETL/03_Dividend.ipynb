{
 "cells": [
  {
   "cell_type": "markdown",
   "metadata": {},
   "source": [
    "## BRONZE TO SILVER LAYER\n",
    "\n",
    "### GOLD LAYER - PROCESS DIVIDEND HISTORY"
   ]
  },
  {
   "cell_type": "markdown",
   "metadata": {},
   "source": [
    "### Description\n",
    "The notebook is designed to process stock dividend data by merging it with holdings data, calculating dividend amounts, and saving the result to a CSV file. The function follows these steps:"
   ]
  },
  {
   "cell_type": "code",
   "execution_count": null,
   "metadata": {},
   "outputs": [],
   "source": [
    "# Importing Common Utility Funcation\n",
    "\n",
    "import pandas as pd\n",
    "from PortfolioTracker import GlobalPath"
   ]
  },
  {
   "cell_type": "code",
   "execution_count": null,
   "metadata": {},
   "outputs": [],
   "source": [
    "# Import necessary libraries and utility functions\n",
    "%run ../COMMON/common_utility.ipynb"
   ]
  },
  {
   "cell_type": "code",
   "execution_count": null,
   "metadata": {},
   "outputs": [],
   "source": [
    "# Instantiate GlobalPath\n",
    "holdingshistory_gold_file_path = GlobalPath(\n",
    "    \"DATA/GOLD/Holdings/HoldingsHistory_data.csv\"\n",
    ")\n",
    "stockevents_silver_file_path = GlobalPath(\n",
    "    \"DATA/SILVER/StockEvents/StockEvents_data.csv\"\n",
    ")\n",
    "dividend_gold_file_path = GlobalPath(\"DATA/GOLD/Dividend/Dividend_data.csv\")"
   ]
  },
  {
   "cell_type": "code",
   "execution_count": null,
   "metadata": {},
   "outputs": [],
   "source": [
    "# Load holdings data from the GOLD layer\n",
    "df_holdings = pd.read_csv(holdingshistory_gold_file_path)\n",
    "df_holdings[\"date\"] = pd.to_datetime(df_holdings[\"date\"])\n",
    "print(f\"Loaded GOLD Layer holdings data from: {holdingshistory_gold_file_path}\")"
   ]
  },
  {
   "cell_type": "code",
   "execution_count": null,
   "metadata": {},
   "outputs": [],
   "source": [
    "# Load dividend data from the SILVER layer\n",
    "df_dividends = pd.read_csv(stockevents_silver_file_path)\n",
    "df_dividends[\"date\"] = pd.to_datetime(df_dividends[\"date\"])\n",
    "print(\n",
    "    f\"Loaded SILVER Layer stock dividend data from: {stockevents_silver_file_path}\"\n",
    ")"
   ]
  },
  {
   "cell_type": "code",
   "execution_count": null,
   "metadata": {},
   "outputs": [],
   "source": [
    "# Filter for dividend events only\n",
    "df_dividends = df_dividends[df_dividends[\"event\"].str.upper() == \"DIVIDENDS\"]\n",
    "\n",
    "# Merge dividend data with holdings data\n",
    "df_dividend = pd.merge(\n",
    "    df_holdings, df_dividends, on=[\"date\", \"symbol\"], how=\"left\"\n",
    ")\n",
    "\n",
    "# Calculate the dividend amount\n",
    "df_dividend[\"dividend_amount\"] = (\n",
    "    df_dividend[\"value\"].fillna(0) * df_dividend[\"holding_quantity\"]\n",
    ")\n",
    "df_dividend[\"dividend_amount\"] = df_dividend[\"dividend_amount\"].round(2)\n",
    "\n",
    "# Filter out rows where dividend amount is 0\n",
    "df_dividend = df_dividend[df_dividend[\"dividend_amount\"] != 0]"
   ]
  },
  {
   "cell_type": "code",
   "execution_count": null,
   "metadata": {},
   "outputs": [],
   "source": [
    "# Sort and format the DataFrame\n",
    "df_dividend = df_dividend.sort_values(\n",
    "    by=[\"date\", \"segment\", \"symbol\"]\n",
    ").reset_index(drop=True)\n",
    "df_dividend = df_dividend[[\"date\", \"segment\", \"symbol\", \"dividend_amount\"]]\n",
    "\n",
    "# Save the result to a new CSV file\n",
    "df_dividend.to_csv(dividend_gold_file_path, index=False)\n",
    "print(\n",
    "    f\"GOLD Layer CSV file for Holdings successfully created at: {dividend_gold_file_path}\"\n",
    ")\n",
    "\n",
    "# Display DataFrame debugrmation\n",
    "df_dividend.info()"
   ]
  }
 ],
 "metadata": {
  "kernelspec": {
   "display_name": "Python 3",
   "language": "python",
   "name": "python3"
  },
  "language_debug": {
   "codemirror_mode": {
    "name": "ipython",
    "version": 3
   },
   "file_extension": ".py",
   "mimetype": "text/x-python",
   "name": "python",
   "nbconvert_exporter": "python",
   "pygments_lexer": "ipython3",
   "version": "3.11.4"
  },
  "language_info": {
   "codemirror_mode": {
    "name": "ipython",
    "version": 3
   },
   "file_extension": ".py",
   "mimetype": "text/x-python",
   "name": "python",
   "nbconvert_exporter": "python",
   "pygments_lexer": "ipython3",
   "version": "3.11.4"
  }
 },
 "nbformat": 4,
 "nbformat_minor": 2
}
