{
 "cells": [
  {
   "cell_type": "markdown",
   "metadata": {},
   "source": [
    "## BRONZE TO SILVER LAYER\n",
    "\n",
    "### GOLD LAYER - PROCESS DIVIDEND HISTORY\n"
   ]
  },
  {
   "cell_type": "markdown",
   "metadata": {},
   "source": [
    "### Description\n",
    "\n",
    "The notebook is designed to process stock dividend data by merging it with holding data, calculating dividend amounts, and saving the result to a CSV file. The function follows these steps:\n"
   ]
  },
  {
   "cell_type": "code",
   "execution_count": 1,
   "metadata": {
    "execution": {
     "iopub.execute_input": "2024-10-09T14:24:22.288334Z",
     "iopub.status.busy": "2024-10-09T14:24:22.288334Z",
     "iopub.status.idle": "2024-10-09T14:24:22.668544Z",
     "shell.execute_reply": "2024-10-09T14:24:22.668544Z"
    }
   },
   "outputs": [],
   "source": [
    "# Importing Common Utility Function\n",
    "import pandas as pd\n",
    "from StockETL import GlobalPath"
   ]
  },
  {
   "cell_type": "code",
   "execution_count": 2,
   "metadata": {
    "execution": {
     "iopub.execute_input": "2024-10-09T14:24:22.668544Z",
     "iopub.status.busy": "2024-10-09T14:24:22.668544Z",
     "iopub.status.idle": "2024-10-09T14:24:22.835179Z",
     "shell.execute_reply": "2024-10-09T14:24:22.835179Z"
    }
   },
   "outputs": [],
   "source": [
    "# Import necessary libraries and utility functions\n",
    "%run ../COMMON/common_utility.ipynb"
   ]
  },
  {
   "cell_type": "code",
   "execution_count": 3,
   "metadata": {
    "execution": {
     "iopub.execute_input": "2024-10-09T14:24:22.835179Z",
     "iopub.status.busy": "2024-10-09T14:24:22.835179Z",
     "iopub.status.idle": "2024-10-09T14:24:22.843500Z",
     "shell.execute_reply": "2024-10-09T14:24:22.843500Z"
    }
   },
   "outputs": [],
   "source": [
    "# Instantiate GlobalPath\n",
    "holding_gold_file_path = GlobalPath(\"DATA/GOLD/Holding/Holding_data.csv\")\n",
    "stockevents_silver_file_path = GlobalPath(\n",
    "    \"DATA/SILVER/StockEvents/StockEvents_data.csv\"\n",
    ")\n",
    "dividend_gold_file_path = GlobalPath(\"DATA/GOLD/Dividend/Dividend_data.csv\")\n",
    "dividend_gold_schema_file_path = GlobalPath(\"CONFIG/DATA_CONTRACTS/GOLD/Dividend.json\")"
   ]
  },
  {
   "cell_type": "code",
   "execution_count": 4,
   "metadata": {
    "execution": {
     "iopub.execute_input": "2024-10-09T14:24:22.843500Z",
     "iopub.status.busy": "2024-10-09T14:24:22.843500Z",
     "iopub.status.idle": "2024-10-09T14:24:22.860049Z",
     "shell.execute_reply": "2024-10-09T14:24:22.860049Z"
    }
   },
   "outputs": [
    {
     "name": "stdout",
     "output_type": "stream",
     "text": [
      "<class 'pandas.core.frame.DataFrame'>\n",
      "RangeIndex: 552 entries, 0 to 551\n",
      "Data columns (total 16 columns):\n",
      " #   Column            Non-Null Count  Dtype  \n",
      "---  ------            --------------  -----  \n",
      " 0   date              552 non-null    object \n",
      " 1   segment           552 non-null    object \n",
      " 2   exchange          552 non-null    object \n",
      " 3   symbol            552 non-null    object \n",
      " 4   scrip_name        552 non-null    object \n",
      " 5   holding_quantity  552 non-null    float64\n",
      " 6   avg_price         552 non-null    float64\n",
      " 7   holding_amount    552 non-null    float64\n",
      " 8   open_price        549 non-null    float64\n",
      " 9   open_amount       549 non-null    float64\n",
      " 10  high_price        549 non-null    float64\n",
      " 11  high_amount       549 non-null    float64\n",
      " 12  low_price         549 non-null    float64\n",
      " 13  low_amount        549 non-null    float64\n",
      " 14  close_price       549 non-null    float64\n",
      " 15  close_amount      549 non-null    float64\n",
      "dtypes: float64(11), object(5)\n",
      "memory usage: 69.1+ KB\n",
      "Loaded GOLD Layer holding data from => C:\\Users\\prashant.tripathi\\Code\\PortfolioTracker\\DATA\\GOLD\\Holding\\Holding_data.csv\n"
     ]
    }
   ],
   "source": [
    "# Load holding data from the GOLD layer\n",
    "df_holding = pd.read_csv(holding_gold_file_path)\n",
    "df_holding.info()\n",
    "df_holding[\"date\"] = pd.to_datetime(df_holding[\"date\"])\n",
    "print(f\"Loaded GOLD Layer holding data from => {holding_gold_file_path}\")"
   ]
  },
  {
   "cell_type": "code",
   "execution_count": 5,
   "metadata": {
    "execution": {
     "iopub.execute_input": "2024-10-09T14:24:22.886896Z",
     "iopub.status.busy": "2024-10-09T14:24:22.886896Z",
     "iopub.status.idle": "2024-10-09T14:24:22.895219Z",
     "shell.execute_reply": "2024-10-09T14:24:22.895219Z"
    }
   },
   "outputs": [
    {
     "name": "stdout",
     "output_type": "stream",
     "text": [
      "Loaded SILVER Layer stock dividend data from => C:\\Users\\prashant.tripathi\\Code\\PortfolioTracker\\DATA\\SILVER\\StockEvents\\StockEvents_data.csv\n"
     ]
    }
   ],
   "source": [
    "# Load dividend data from the SILVER layer\n",
    "df_dividends = pd.read_csv(stockevents_silver_file_path)\n",
    "df_dividends[\"date\"] = pd.to_datetime(df_dividends[\"date\"])\n",
    "print(f\"Loaded SILVER Layer stock dividend data from => {stockevents_silver_file_path}\")"
   ]
  },
  {
   "cell_type": "code",
   "execution_count": 6,
   "metadata": {
    "execution": {
     "iopub.execute_input": "2024-10-09T14:24:22.895219Z",
     "iopub.status.busy": "2024-10-09T14:24:22.895219Z",
     "iopub.status.idle": "2024-10-09T14:24:22.908033Z",
     "shell.execute_reply": "2024-10-09T14:24:22.908033Z"
    }
   },
   "outputs": [],
   "source": [
    "# Filter for dividend events only\n",
    "df_dividends = df_dividends[df_dividends[\"event\"].str.upper() == \"DIVIDENDS\"]\n",
    "\n",
    "# Merge dividend data with holding data\n",
    "df_dividend = pd.merge(df_holding, df_dividends, on=[\"date\", \"symbol\"], how=\"left\")\n",
    "\n",
    "# Calculate the dividend amount\n",
    "df_dividend[\"dividend_amount\"] = (\n",
    "    df_dividend[\"value\"].fillna(0) * df_dividend[\"holding_quantity\"]\n",
    ")\n",
    "df_dividend[\"dividend_amount\"] = df_dividend[\"dividend_amount\"].round(2)\n",
    "\n",
    "# Filter out rows where dividend amount is 0\n",
    "df_dividend = df_dividend[df_dividend[\"dividend_amount\"] != 0]\n",
    "\n",
    "# Apply the function to create the 'financial_year' column\n",
    "df_dividend[\"financial_year\"] = pd.to_datetime(df_dividend[\"date\"]).apply(\n",
    "    get_financial_year\n",
    ")"
   ]
  },
  {
   "cell_type": "code",
   "execution_count": 7,
   "metadata": {
    "execution": {
     "iopub.execute_input": "2024-10-09T14:24:22.908033Z",
     "iopub.status.busy": "2024-10-09T14:24:22.908033Z",
     "iopub.status.idle": "2024-10-09T14:24:22.922360Z",
     "shell.execute_reply": "2024-10-09T14:24:22.922360Z"
    }
   },
   "outputs": [
    {
     "name": "stdout",
     "output_type": "stream",
     "text": [
      "DataContract loaded from => C:\\Users\\prashant.tripathi\\Code\\PortfolioTracker\\CONFIG\\DATA_CONTRACTS\\GOLD\\Dividend.json\n",
      "GOLD Layer CSV file for Holding successfully created at: C:\\Users\\prashant.tripathi\\Code\\PortfolioTracker\\DATA\\GOLD\\Dividend\\Dividend_data.csv\n",
      "<class 'pandas.core.frame.DataFrame'>\n",
      "RangeIndex: 2 entries, 0 to 1\n",
      "Data columns (total 5 columns):\n",
      " #   Column           Non-Null Count  Dtype         \n",
      "---  ------           --------------  -----         \n",
      " 0   financial_year   2 non-null      string        \n",
      " 1   date             2 non-null      datetime64[ns]\n",
      " 2   segment          2 non-null      string        \n",
      " 3   symbol           2 non-null      string        \n",
      " 4   dividend_amount  2 non-null      float64       \n",
      "dtypes: datetime64[ns](1), float64(1), string(3)\n",
      "memory usage: 212.0 bytes\n"
     ]
    }
   ],
   "source": [
    "# Align Datafame with DataContract\n",
    "df_dividend = align_with_datacontract(df_dividend, dividend_gold_schema_file_path)\n",
    "\n",
    "# Save the result to a new CSV file\n",
    "df_dividend.to_csv(dividend_gold_file_path, index=False)\n",
    "print(\n",
    "    f\"GOLD Layer CSV file for Holding successfully created at: {dividend_gold_file_path}\"\n",
    ")\n",
    "\n",
    "# Display DataFrame debugrmation\n",
    "df_dividend.info()"
   ]
  }
 ],
 "metadata": {
  "kernelspec": {
   "display_name": "Python 3",
   "language": "python",
   "name": "python3"
  },
  "language_debug": {
   "codemirror_mode": {
    "name": "ipython",
    "version": 3
   },
   "file_extension": ".py",
   "mimetype": "text/x-python",
   "name": "python",
   "nbconvert_exporter": "python",
   "pygments_lexer": "ipython3",
   "version": "3.11.4"
  },
  "language_info": {
   "codemirror_mode": {
    "name": "ipython",
    "version": 3
   },
   "file_extension": ".py",
   "mimetype": "text/x-python",
   "name": "python",
   "nbconvert_exporter": "python",
   "pygments_lexer": "ipython3",
   "version": "3.11.4"
  }
 },
 "nbformat": 4,
 "nbformat_minor": 2
}
