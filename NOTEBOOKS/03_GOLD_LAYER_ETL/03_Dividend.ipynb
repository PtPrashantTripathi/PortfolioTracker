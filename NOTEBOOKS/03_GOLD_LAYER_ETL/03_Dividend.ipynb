{
 "cells": [
  {
   "cell_type": "markdown",
   "metadata": {},
   "source": [
    "## BRONZE TO SILVER LAYER\n",
    "\n",
    "### GOLD LAYER - PROCESS DIVIDEND HISTORY"
   ]
  },
  {
   "cell_type": "markdown",
   "metadata": {},
   "source": [
    "### Description\n",
    "The notebook is designed to process stock dividend data by merging it with holding data, calculating dividend amounts, and saving the result to a CSV file. The function follows these steps:"
   ]
  },
  {
   "cell_type": "code",
   "execution_count": 1,
   "metadata": {
    "execution": {
     "iopub.execute_input": "2024-10-01T05:14:12.241839Z",
     "iopub.status.busy": "2024-10-01T05:14:12.241839Z",
     "iopub.status.idle": "2024-10-01T05:14:12.663049Z",
     "shell.execute_reply": "2024-10-01T05:14:12.663049Z"
    }
   },
   "outputs": [],
   "source": [
    "# Importing Common Utility Function\n",
    "import pandas as pd\n",
    "from StockETL import GlobalPath"
   ]
  },
  {
   "cell_type": "code",
   "execution_count": 2,
   "metadata": {
    "execution": {
     "iopub.execute_input": "2024-10-01T05:14:12.663049Z",
     "iopub.status.busy": "2024-10-01T05:14:12.663049Z",
     "iopub.status.idle": "2024-10-01T05:14:12.847441Z",
     "shell.execute_reply": "2024-10-01T05:14:12.847441Z"
    }
   },
   "outputs": [],
   "source": [
    "# Import necessary libraries and utility functions\n",
    "%run ../COMMON/common_utility.ipynb"
   ]
  },
  {
   "cell_type": "code",
   "execution_count": 3,
   "metadata": {
    "execution": {
     "iopub.execute_input": "2024-10-01T05:14:12.847441Z",
     "iopub.status.busy": "2024-10-01T05:14:12.847441Z",
     "iopub.status.idle": "2024-10-01T05:14:12.857207Z",
     "shell.execute_reply": "2024-10-01T05:14:12.856201Z"
    }
   },
   "outputs": [],
   "source": [
    "# Instantiate GlobalPath\n",
    "holding_gold_file_path = GlobalPath(\"DATA/GOLD/Holding/Holding_data.csv\")\n",
    "stockevents_silver_file_path = GlobalPath(\n",
    "    \"DATA/SILVER/StockEvents/StockEvents_data.csv\"\n",
    ")\n",
    "dividend_gold_file_path = GlobalPath(\"DATA/GOLD/Dividend/Dividend_data.csv\")\n",
    "dividend_gold_schema_file_path = GlobalPath(\"CONFIG/DATA_CONTRACTS/GOLD/Dividend.json\")"
   ]
  },
  {
   "cell_type": "code",
   "execution_count": 4,
   "metadata": {
    "execution": {
     "iopub.execute_input": "2024-10-01T05:14:12.859209Z",
     "iopub.status.busy": "2024-10-01T05:14:12.859209Z",
     "iopub.status.idle": "2024-10-01T05:14:12.886775Z",
     "shell.execute_reply": "2024-10-01T05:14:12.886775Z"
    }
   },
   "outputs": [
    {
     "name": "stdout",
     "output_type": "stream",
     "text": [
      "<class 'pandas.core.frame.DataFrame'>\n",
      "RangeIndex: 6254 entries, 0 to 6253\n",
      "Data columns (total 16 columns):\n",
      " #   Column            Non-Null Count  Dtype  \n",
      "---  ------            --------------  -----  \n",
      " 0   date              6254 non-null   object \n",
      " 1   segment           6254 non-null   object \n",
      " 2   exchange          6254 non-null   object \n",
      " 3   symbol            6254 non-null   object \n",
      " 4   scrip_name        6254 non-null   object \n",
      " 5   holding_quantity  6254 non-null   float64\n",
      " 6   avg_price         6254 non-null   float64\n",
      " 7   holding_amount    6254 non-null   float64\n",
      " 8   open_price        6251 non-null   float64\n",
      " 9   open_amount       6251 non-null   float64\n",
      " 10  high_price        6251 non-null   float64\n",
      " 11  high_amount       6251 non-null   float64\n",
      " 12  low_price         6251 non-null   float64\n",
      " 13  low_amount        6251 non-null   float64\n",
      " 14  close_price       6251 non-null   float64\n",
      " 15  close_amount      6251 non-null   float64\n",
      "dtypes: float64(11), object(5)\n",
      "memory usage: 781.9+ KB\n",
      "Loaded GOLD Layer holding data from: C:\\Users\\prashant.tripathi\\Code\\PortfolioTracker\\DATA\\GOLD\\Holding\\Holding_data.csv\n"
     ]
    }
   ],
   "source": [
    "# Load holding data from the GOLD layer\n",
    "df_holding = pd.read_csv(holding_gold_file_path)\n",
    "df_holding.info()\n",
    "df_holding[\"date\"] = pd.to_datetime(df_holding[\"date\"])\n",
    "print(f\"Loaded GOLD Layer holding data from: {holding_gold_file_path}\")"
   ]
  },
  {
   "cell_type": "code",
   "execution_count": 5,
   "metadata": {
    "execution": {
     "iopub.execute_input": "2024-10-01T05:14:12.907927Z",
     "iopub.status.busy": "2024-10-01T05:14:12.907927Z",
     "iopub.status.idle": "2024-10-01T05:14:12.926448Z",
     "shell.execute_reply": "2024-10-01T05:14:12.926448Z"
    }
   },
   "outputs": [
    {
     "name": "stdout",
     "output_type": "stream",
     "text": [
      "Loaded SILVER Layer stock dividend data from: C:\\Users\\prashant.tripathi\\Code\\PortfolioTracker\\DATA\\SILVER\\StockEvents\\StockEvents_data.csv\n"
     ]
    }
   ],
   "source": [
    "# Load dividend data from the SILVER layer\n",
    "df_dividends = pd.read_csv(stockevents_silver_file_path)\n",
    "df_dividends[\"date\"] = pd.to_datetime(df_dividends[\"date\"])\n",
    "print(f\"Loaded SILVER Layer stock dividend data from: {stockevents_silver_file_path}\")"
   ]
  },
  {
   "cell_type": "code",
   "execution_count": 6,
   "metadata": {
    "execution": {
     "iopub.execute_input": "2024-10-01T05:14:12.926448Z",
     "iopub.status.busy": "2024-10-01T05:14:12.926448Z",
     "iopub.status.idle": "2024-10-01T05:14:12.939615Z",
     "shell.execute_reply": "2024-10-01T05:14:12.939209Z"
    }
   },
   "outputs": [],
   "source": [
    "# Filter for dividend events only\n",
    "df_dividends = df_dividends[df_dividends[\"event\"].str.upper() == \"DIVIDENDS\"]\n",
    "\n",
    "# Merge dividend data with holding data\n",
    "df_dividend = pd.merge(df_holding, df_dividends, on=[\"date\", \"symbol\"], how=\"left\")\n",
    "\n",
    "# Calculate the dividend amount\n",
    "df_dividend[\"dividend_amount\"] = (\n",
    "    df_dividend[\"value\"].fillna(0) * df_dividend[\"holding_quantity\"]\n",
    ")\n",
    "df_dividend[\"dividend_amount\"] = df_dividend[\"dividend_amount\"].round(2)\n",
    "\n",
    "# Filter out rows where dividend amount is 0\n",
    "df_dividend = df_dividend[df_dividend[\"dividend_amount\"] != 0]"
   ]
  },
  {
   "cell_type": "code",
   "execution_count": 7,
   "metadata": {
    "execution": {
     "iopub.execute_input": "2024-10-01T05:14:12.941596Z",
     "iopub.status.busy": "2024-10-01T05:14:12.941596Z",
     "iopub.status.idle": "2024-10-01T05:14:12.956079Z",
     "shell.execute_reply": "2024-10-01T05:14:12.955012Z"
    }
   },
   "outputs": [
    {
     "name": "stdout",
     "output_type": "stream",
     "text": [
      "GOLD Layer CSV file for Holding successfully created at: C:\\Users\\prashant.tripathi\\Code\\PortfolioTracker\\DATA\\GOLD\\Dividend\\Dividend_data.csv\n",
      "<class 'pandas.core.frame.DataFrame'>\n",
      "RangeIndex: 16 entries, 0 to 15\n",
      "Data columns (total 4 columns):\n",
      " #   Column           Non-Null Count  Dtype         \n",
      "---  ------           --------------  -----         \n",
      " 0   date             16 non-null     datetime64[ns]\n",
      " 1   segment          16 non-null     string        \n",
      " 2   symbol           16 non-null     string        \n",
      " 3   dividend_amount  16 non-null     float64       \n",
      "dtypes: datetime64[ns](1), float64(1), string(2)\n",
      "memory usage: 644.0 bytes\n"
     ]
    }
   ],
   "source": [
    "# Align Datafame with schema\n",
    "df_dividend = align_with_schema(df_dividend, dividend_gold_schema_file_path)\n",
    "\n",
    "# Sort and format the DataFrame\n",
    "df_dividend = df_dividend.sort_values(by=[\"date\", \"segment\", \"symbol\"]).reset_index(\n",
    "    drop=True\n",
    ")\n",
    "\n",
    "# Save the result to a new CSV file\n",
    "df_dividend.to_csv(dividend_gold_file_path, index=False)\n",
    "print(\n",
    "    f\"GOLD Layer CSV file for Holding successfully created at: {dividend_gold_file_path}\"\n",
    ")\n",
    "\n",
    "# Display DataFrame debugrmation\n",
    "df_dividend.info()"
   ]
  }
 ],
 "metadata": {
  "kernelspec": {
   "display_name": "Python 3",
   "language": "python",
   "name": "python3"
  },
  "language_debug": {
   "codemirror_mode": {
    "name": "ipython",
    "version": 3
   },
   "file_extension": ".py",
   "mimetype": "text/x-python",
   "name": "python",
   "nbconvert_exporter": "python",
   "pygments_lexer": "ipython3",
   "version": "3.11.4"
  },
  "language_info": {
   "codemirror_mode": {
    "name": "ipython",
    "version": 3
   },
   "file_extension": ".py",
   "mimetype": "text/x-python",
   "name": "python",
   "nbconvert_exporter": "python",
   "pygments_lexer": "ipython3",
   "version": "3.11.4"
  }
 },
 "nbformat": 4,
 "nbformat_minor": 2
}
