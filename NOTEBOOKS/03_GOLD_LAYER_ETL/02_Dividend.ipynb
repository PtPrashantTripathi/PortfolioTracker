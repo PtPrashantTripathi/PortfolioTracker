{
 "cells": [
  {
   "cell_type": "markdown",
   "metadata": {},
   "source": [
    "## BRONZE TO SILVER LAYER\n",
    "\n",
    "### GOLD LAYER - PROCESS DIVIDEND HISTORY\n"
   ]
  },
  {
   "cell_type": "markdown",
   "metadata": {},
   "source": [
    "### Description\n",
    "\n",
    "The notebook is designed to process stock dividend data by merging it with holding data, calculating dividend amounts, and saving the result to a CSV file. The function follows these steps:\n"
   ]
  },
  {
   "cell_type": "code",
   "execution_count": null,
   "metadata": {},
   "outputs": [],
   "source": [
    "# Importing Common Utility Function\n",
    "import pandas as pd\n",
    "\n",
    "from StockETL.globalpath import GlobalPath"
   ]
  },
  {
   "cell_type": "code",
   "execution_count": null,
   "metadata": {},
   "outputs": [],
   "source": [
    "# Import necessary libraries and utility functions\n",
    "%run ../COMMON/common_utility.ipynb"
   ]
  },
  {
   "cell_type": "code",
   "execution_count": null,
   "metadata": {},
   "outputs": [],
   "source": [
    "# Instantiate GlobalPath\n",
    "holding_gold_file_path = GlobalPath(\"DATA/GOLD/Holding/Holding_data.csv\")\n",
    "stockevents_silver_file_path = GlobalPath(\n",
    "    \"DATA/SILVER/StockEvents/StockEvents_data.csv\"\n",
    ")\n",
    "dividend_gold_file_path = GlobalPath(\"DATA/GOLD/Dividend/Dividend_data.csv\")\n",
    "dividend_gold_schema_file_path = GlobalPath(\n",
    "    \"DATA/CONFIG/DATA_CONTRACTS/GOLD/Dividend.json\"\n",
    ")"
   ]
  },
  {
   "cell_type": "code",
   "execution_count": null,
   "metadata": {},
   "outputs": [],
   "source": [
    "# Load holding data from the GOLD layer\n",
    "df_holding = pd.read_csv(holding_gold_file_path)\n",
    "df_holding.info()\n",
    "df_holding[\"date\"] = pd.to_datetime(df_holding[\"date\"])\n",
    "print(f\"Loaded GOLD Layer holding data from => {holding_gold_file_path}\")"
   ]
  },
  {
   "cell_type": "code",
   "execution_count": null,
   "metadata": {},
   "outputs": [],
   "source": [
    "# Load dividend data from the SILVER layer\n",
    "df_dividends = pd.read_csv(stockevents_silver_file_path)\n",
    "df_dividends[\"date\"] = pd.to_datetime(df_dividends[\"date\"])\n",
    "print(f\"Loaded SILVER Layer stock dividend data from => {stockevents_silver_file_path}\")"
   ]
  },
  {
   "cell_type": "code",
   "execution_count": null,
   "metadata": {},
   "outputs": [],
   "source": [
    "def get_financial_year(date: pd.Timestamp) -> str:\n",
    "    \"\"\"\n",
    "    Calculate the financial year for a given date.\n",
    "\n",
    "    If the month of the provided date is before April (i.e., January, February, or March),\n",
    "    the date is considered to be part of the previous financial year. Otherwise, it belongs\n",
    "    to the current financial year.\n",
    "\n",
    "    Args:\n",
    "    - date (Union[datetime, date]): The date for which to calculate the financial year.\n",
    "\n",
    "    Returns:\n",
    "    - str: The financial year in the format 'FYYYYY-YY'.\n",
    "    \"\"\"\n",
    "    # Determine the start and end years of the financial year\n",
    "    start_year = date.year - 1 if date.month < 4 else date.year\n",
    "    end_year = start_year + 1\n",
    "\n",
    "    # Format the financial year as 'FYYYYY-YY'\n",
    "    return f\"FY{start_year}-{str(end_year)[-2:]}\""
   ]
  },
  {
   "cell_type": "code",
   "execution_count": null,
   "metadata": {},
   "outputs": [],
   "source": [
    "# Filter for dividend events only\n",
    "df_dividends = df_dividends[df_dividends[\"event\"].str.upper() == \"DIVIDENDS\"]\n",
    "\n",
    "# Merge dividend data with holding data\n",
    "df_dividend = pd.merge(df_holding, df_dividends, on=[\"date\", \"symbol\"], how=\"left\")\n",
    "\n",
    "# Calculate the dividend amount\n",
    "df_dividend[\"dividend_amount\"] = (\n",
    "    df_dividend[\"value\"].fillna(0) * df_dividend[\"holding_quantity\"]\n",
    ")\n",
    "\n",
    "# Filter out rows where dividend amount is 0\n",
    "df_dividend = df_dividend[df_dividend[\"dividend_amount\"] != 0]\n",
    "\n",
    "# Apply the function to create the 'financial_year' column\n",
    "df_dividend[\"financial_year\"] = pd.to_datetime(df_dividend[\"date\"]).apply(\n",
    "    get_financial_year\n",
    ")"
   ]
  },
  {
   "cell_type": "code",
   "execution_count": null,
   "metadata": {},
   "outputs": [],
   "source": [
    "# Align Datafame with DataContract\n",
    "df_dividend = align_with_datacontract(df_dividend, dividend_gold_schema_file_path)\n",
    "\n",
    "# Save the result to a new CSV file\n",
    "df_dividend.to_csv(dividend_gold_file_path, index=False)\n",
    "print(\n",
    "    f\"GOLD Layer CSV file for Holding successfully created at: {dividend_gold_file_path}\"\n",
    ")\n",
    "\n",
    "# Display DataFrame debugrmation\n",
    "df_dividend.info()"
   ]
  }
 ],
 "metadata": {
  "kernelspec": {
   "display_name": "Python 3",
   "language": "python",
   "name": "python3"
  },
  "language_debug": {
   "codemirror_mode": {
    "name": "ipython",
    "version": 3
   },
   "file_extension": ".py",
   "mimetype": "text/x-python",
   "name": "python",
   "nbconvert_exporter": "python",
   "pygments_lexer": "ipython3",
   "version": "3.11.4"
  },
  "language_info": {
   "codemirror_mode": {
    "name": "ipython",
    "version": 3
   },
   "file_extension": ".py",
   "mimetype": "text/x-python",
   "name": "python",
   "nbconvert_exporter": "python",
   "pygments_lexer": "ipython3",
   "version": "3.13.5"
  }
 },
 "nbformat": 4,
 "nbformat_minor": 2
}
