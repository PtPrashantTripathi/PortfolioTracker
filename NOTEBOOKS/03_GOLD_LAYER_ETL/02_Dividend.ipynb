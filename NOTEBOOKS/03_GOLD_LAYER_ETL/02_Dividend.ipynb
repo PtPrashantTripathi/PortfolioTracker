{
 "cells": [
  {
   "cell_type": "markdown",
   "metadata": {},
   "source": [
    "## BRONZE TO SILVER LAYER\n",
    "\n",
    "### GOLD LAYER - PROCESS HOLDING RECORDS HISTORY"
   ]
  },
  {
   "cell_type": "markdown",
   "metadata": {},
   "source": [
    "### Description\n",
    "The notebook is designed to process stock dividend data by merging it with holdings data, calculating dividend amounts, and saving the result to a CSV file. The function follows these steps:\n",
    "\n",
    "1. **Load Holdings Data**: Reads holdings data from a specified file, converting the 'date' column to datetime format for consistency.\n",
    "\n",
    "2. **Load Dividend Data**: Reads dividend data from a specified file, converting the 'date' column to datetime format and filtering to include only 'DIVIDENDS' events.\n",
    "\n",
    "3. **Merge Data**: Combines the holdings data with the dividend data based on common 'date' and 'stock_name' columns.\n",
    "\n",
    "4. **Calculate Dividend Amount**: Computes the dividend amount by multiplying the dividend 'value' by the 'holding_quantity', rounding the result to two decimal places.\n",
    "\n",
    "5. **Filter and Format Data**: Removes rows where the calculated dividend amount is zero, sorts the data by 'date', 'segment', and 'stock_name', and selects relevant columns for the output.\n",
    "\n",
    "6. **Save Data**: Saves the processed data to a new CSV file, ensuring data is properly formatted and errors are handled.\n",
    "\n",
    "7. **Logging and Display**: Logs the file path of the saved data and displays the DataFrame's information for verification.\n",
    "\n",
    "This notebook ensures that the dividend data is accurately processed, organized, and ready for further analysis or reporting.\n"
   ]
  },
  {
   "cell_type": "code",
   "execution_count": 6,
   "metadata": {},
   "outputs": [],
   "source": [
    "# Import necessary libraries and utility functions\n",
    "import pandas as pd\n",
    "\n",
    "from PortfolioTracker.globalpath import global_path\n",
    "from PortfolioTracker.logger import logger"
   ]
  },
  {
   "cell_type": "code",
   "execution_count": 7,
   "metadata": {},
   "outputs": [
    {
     "name": "stderr",
     "output_type": "stream",
     "text": [
      "2024-08-16T19:10:28Z - INFO - Loaded GOLD Layer holdings data from: C:\\Users\\prashant.tripathi\\Code\\PortfolioTracker\\DATA\\GOLD\\Holdings\\Holdings_data.csv\n"
     ]
    }
   ],
   "source": [
    "# Load holdings data from the GOLD layer\n",
    "df_holdings = pd.read_csv(global_path.holdings_gold_file_path)\n",
    "df_holdings[\"date\"] = pd.to_datetime(df_holdings[\"date\"])\n",
    "logger.info(\n",
    "    f\"Loaded GOLD Layer holdings data from: {global_path.holdings_gold_file_path}\"\n",
    ")"
   ]
  },
  {
   "cell_type": "code",
   "execution_count": 8,
   "metadata": {},
   "outputs": [
    {
     "name": "stderr",
     "output_type": "stream",
     "text": [
      "2024-08-16T19:10:28Z - INFO - Loaded SILVER Layer stock dividend data from: C:\\Users\\prashant.tripathi\\Code\\PortfolioTracker\\DATA\\SILVER\\StockEvents\\StockEvents_data.csv\n"
     ]
    }
   ],
   "source": [
    "# Load dividend data from the SILVER layer\n",
    "df_dividends = pd.read_csv(global_path.stockevents_silver_file_path)\n",
    "df_dividends[\"date\"] = pd.to_datetime(df_dividends[\"date\"])\n",
    "logger.info(\n",
    "    f\"Loaded SILVER Layer stock dividend data from: {global_path.stockevents_silver_file_path}\"\n",
    ")"
   ]
  },
  {
   "cell_type": "code",
   "execution_count": 9,
   "metadata": {},
   "outputs": [],
   "source": [
    "# Filter for dividend events only\n",
    "df_dividends = df_dividends[df_dividends[\"event\"].str.upper() == \"DIVIDENDS\"]\n",
    "\n",
    "# Merge dividend data with holdings data\n",
    "df_dividend = pd.merge(\n",
    "    df_holdings, df_dividends, on=[\"date\", \"stock_name\"], how=\"left\"\n",
    ")\n",
    "\n",
    "# Calculate the dividend amount\n",
    "df_dividend[\"dividend_amount\"] = (\n",
    "    df_dividend[\"value\"].fillna(0) * df_dividend[\"holding_quantity\"]\n",
    ")\n",
    "df_dividend[\"dividend_amount\"] = df_dividend[\"dividend_amount\"].round(2)\n",
    "\n",
    "# Filter out rows where dividend amount is 0\n",
    "df_dividend = df_dividend[df_dividend[\"dividend_amount\"] != 0]"
   ]
  },
  {
   "cell_type": "code",
   "execution_count": 10,
   "metadata": {},
   "outputs": [
    {
     "name": "stderr",
     "output_type": "stream",
     "text": [
      "2024-08-16T19:10:28Z - INFO - GOLD Layer CSV file for Holdings successfully created at: C:\\Users\\prashant.tripathi\\Code\\PortfolioTracker\\DATA\\GOLD\\Dividend\\Dividend_data.csv\n"
     ]
    },
    {
     "name": "stdout",
     "output_type": "stream",
     "text": [
      "<class 'pandas.core.frame.DataFrame'>\n",
      "RangeIndex: 14 entries, 0 to 13\n",
      "Data columns (total 4 columns):\n",
      " #   Column           Non-Null Count  Dtype         \n",
      "---  ------           --------------  -----         \n",
      " 0   date             14 non-null     datetime64[ns]\n",
      " 1   segment          14 non-null     object        \n",
      " 2   stock_name       14 non-null     object        \n",
      " 3   dividend_amount  14 non-null     float64       \n",
      "dtypes: datetime64[ns](1), float64(1), object(2)\n",
      "memory usage: 580.0+ bytes\n"
     ]
    }
   ],
   "source": [
    "# Sort and format the DataFrame\n",
    "df_dividend = df_dividend.sort_values(\n",
    "    by=[\"date\", \"segment\", \"stock_name\"]\n",
    ").reset_index(drop=True)\n",
    "df_dividend = df_dividend[[\"date\", \"segment\", \"stock_name\", \"dividend_amount\"]]\n",
    "\n",
    "# Save the result to a new CSV file\n",
    "df_dividend.to_csv(global_path.dividend_gold_file_path, index=False)\n",
    "logger.info(\n",
    "    f\"GOLD Layer CSV file for Holdings successfully created at: {global_path.dividend_gold_file_path.resolve()}\"\n",
    ")\n",
    "\n",
    "# Display DataFrame information\n",
    "df_dividend.info()"
   ]
  }
 ],
 "metadata": {
  "kernelspec": {
   "display_name": "Python 3",
   "language": "python",
   "name": "python3"
  },
  "language_info": {
   "codemirror_mode": {
    "name": "ipython",
    "version": 3
   },
   "file_extension": ".py",
   "mimetype": "text/x-python",
   "name": "python",
   "nbconvert_exporter": "python",
   "pygments_lexer": "ipython3",
   "version": "3.11.4"
  }
 },
 "nbformat": 4,
 "nbformat_minor": 2
}
