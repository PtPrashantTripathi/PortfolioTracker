{
 "cells": [
  {
   "cell_type": "markdown",
   "metadata": {},
   "source": [
    "## SILVER TO GOLD LAYER\n",
    "\n",
    "### Gold Layer - Holdings\n"
   ]
  },
  {
   "cell_type": "code",
   "execution_count": 1,
   "metadata": {
    "execution": {
     "iopub.execute_input": "2024-09-04T10:55:21.898887Z",
     "iopub.status.busy": "2024-09-04T10:55:21.898887Z",
     "iopub.status.idle": "2024-09-04T10:55:22.829114Z",
     "shell.execute_reply": "2024-09-04T10:55:22.829114Z"
    }
   },
   "outputs": [],
   "source": [
    "## Import necessary libraries and utility functions\n",
    "import pandas as pd\n",
    "\n",
    "from ETLTools import GlobalPath, Portfolio"
   ]
  },
  {
   "cell_type": "code",
   "execution_count": 2,
   "metadata": {
    "execution": {
     "iopub.execute_input": "2024-09-04T10:55:22.839706Z",
     "iopub.status.busy": "2024-09-04T10:55:22.839155Z",
     "iopub.status.idle": "2024-09-04T10:55:22.849203Z",
     "shell.execute_reply": "2024-09-04T10:55:22.849203Z"
    }
   },
   "outputs": [],
   "source": [
    "# Instantiate GlobalPath\n",
    "tradehistory_silver_file_path = GlobalPath(\n",
    "    \"DATA/SILVER/TradeHistory/TradeHistory_data.csv\"\n",
    ")\n",
    "stockprice_silver_file_path = GlobalPath(\n",
    "    \"DATA/SILVER/StockPrice/StockPrice_data.csv\"\n",
    ")\n",
    "holdingshistory_gold_file_path = GlobalPath(\n",
    "    \"DATA/GOLD/Holdings/HoldingsHistory_data.csv\"\n",
    ")\n",
    "current_holding_records_file_path = GlobalPath(\n",
    "    \"DATA/GOLD/Holdings/CurrentHoldings_data.csv\"\n",
    ")"
   ]
  },
  {
   "cell_type": "markdown",
   "metadata": {},
   "source": [
    "### Data Processing\n",
    "\n",
    "- Read and sort trade history data.\n",
    "- Apply portfolio trade logic.\n"
   ]
  },
  {
   "cell_type": "code",
   "execution_count": 3,
   "metadata": {
    "execution": {
     "iopub.execute_input": "2024-09-04T10:55:22.854286Z",
     "iopub.status.busy": "2024-09-04T10:55:22.854286Z",
     "iopub.status.idle": "2024-09-04T10:55:22.879991Z",
     "shell.execute_reply": "2024-09-04T10:55:22.879991Z"
    }
   },
   "outputs": [
    {
     "name": "stdout",
     "output_type": "stream",
     "text": [
      "Read SILVER Layer trade history data from: DATA/SILVER/TradeHistory/TradeHistory_data.csv\n"
     ]
    }
   ],
   "source": [
    "# Read the CSV file\n",
    "df_trade_history = pd.read_csv(tradehistory_silver_file_path)\n",
    "\n",
    "# Filter the DataFrame to include only rows where the segment is 'EQ' (Equity) or 'MF' (Mutual Funds)\n",
    "df_trade_history = df_trade_history[\n",
    "    df_trade_history[\"segment\"].isin([\"EQ\", \"MF\"])\n",
    "]\n",
    "\n",
    "# Convert 'datetime' to datetime type\n",
    "df_trade_history[\"datetime\"] = pd.to_datetime(df_trade_history[\"datetime\"])\n",
    "\n",
    "# Sort the DataFrame by 'datetime'\n",
    "df_trade_history = df_trade_history.sort_values(by=\"datetime\")\n",
    "\n",
    "print(\n",
    "    f\"Read SILVER Layer trade history data from: {tradehistory_silver_file_path}\"\n",
    ")"
   ]
  },
  {
   "cell_type": "markdown",
   "metadata": {},
   "source": [
    "### Portfolio Logic Application\n",
    "\n",
    "- Instantiate Portfolio and apply trade logic.\n",
    "- Handle expired stocks\n"
   ]
  },
  {
   "cell_type": "code",
   "execution_count": 4,
   "metadata": {
    "execution": {
     "iopub.execute_input": "2024-09-04T10:55:22.886059Z",
     "iopub.status.busy": "2024-09-04T10:55:22.886059Z",
     "iopub.status.idle": "2024-09-04T10:55:22.901232Z",
     "shell.execute_reply": "2024-09-04T10:55:22.901232Z"
    }
   },
   "outputs": [],
   "source": [
    "# Apply the trade logic to each row of the DataFrame\n",
    "# Instantiate the Portfolio object\n",
    "portfolio = Portfolio()\n",
    "for record in df_trade_history.astype(str).to_dict(orient=\"records\"):\n",
    "    portfolio.trade(record)\n",
    "\n",
    "portfolio.check_expired_stocks()\n",
    "# expired_stocks example : df_trade_history[\"scrip_name\"] == \"NIFTY-PE-24650-18JUL2024\""
   ]
  },
  {
   "cell_type": "markdown",
   "metadata": {},
   "source": [
    "### Final Processing and Export\n",
    "\n",
    "- Select and sort relevant columns.\n",
    "- Save the processed data as a CSV file in the Gold layer.\n"
   ]
  },
  {
   "cell_type": "code",
   "execution_count": 5,
   "metadata": {
    "execution": {
     "iopub.execute_input": "2024-09-04T10:55:22.901232Z",
     "iopub.status.busy": "2024-09-04T10:55:22.901232Z",
     "iopub.status.idle": "2024-09-04T10:55:22.938756Z",
     "shell.execute_reply": "2024-09-04T10:55:22.938756Z"
    }
   },
   "outputs": [
    {
     "name": "stdout",
     "output_type": "stream",
     "text": [
      "GOLD Layer CSV file for Current Holdings successfully created at:\n",
      "DATA/GOLD/Holdings/CurrentHoldings_data.csv\n",
      "<class 'pandas.core.frame.DataFrame'>\n",
      "RangeIndex: 18 entries, 0 to 17\n",
      "Data columns (total 9 columns):\n",
      " #   Column      Non-Null Count  Dtype         \n",
      "---  ------      --------------  -----         \n",
      " 0   scrip_name  18 non-null     object        \n",
      " 1   symbol      18 non-null     object        \n",
      " 2   exchange    18 non-null     object        \n",
      " 3   segment     18 non-null     object        \n",
      " 4   datetime    18 non-null     datetime64[ns]\n",
      " 5   side        18 non-null     object        \n",
      " 6   quantity    18 non-null     float64       \n",
      " 7   price       18 non-null     float64       \n",
      " 8   amount      18 non-null     float64       \n",
      "dtypes: datetime64[ns](1), float64(3), object(5)\n",
      "memory usage: 1.4+ KB\n"
     ]
    }
   ],
   "source": [
    "# Create a DataFrame from the processed data\n",
    "df_holding_records = pd.DataFrame(portfolio.get_current_holdings())\n",
    "\n",
    "# Remove '_amount' suffix from column names for clarity\n",
    "df_holding_records = df_holding_records.rename(\n",
    "    columns={\n",
    "        col: col.replace(\"open_\", \"\") for col in df_holding_records.columns\n",
    "    }\n",
    ")\n",
    "# Sort the DataFrame\n",
    "df_holding_records = df_holding_records.sort_values(\n",
    "    by=[\n",
    "        \"segment\",\n",
    "        \"exchange\",\n",
    "        \"symbol\",\n",
    "        \"scrip_name\",\n",
    "        \"datetime\",\n",
    "    ]\n",
    ")\n",
    "\n",
    "# Round the values in to two decimal places\n",
    "df_holding_records = df_holding_records.round(2)\n",
    "\n",
    "# Reset index to ensure it starts from 0\n",
    "df_holding_records = df_holding_records.reset_index(drop=True)\n",
    "\n",
    "# Select and reorder the columns for the final DataFrame\n",
    "df_holding_records = df_holding_records[\n",
    "    [\n",
    "        \"scrip_name\",\n",
    "        \"symbol\",\n",
    "        \"exchange\",\n",
    "        \"segment\",\n",
    "        \"datetime\",\n",
    "        \"side\",\n",
    "        \"quantity\",\n",
    "        \"price\",\n",
    "        \"amount\",\n",
    "    ]\n",
    "]\n",
    "\n",
    "# Save the final DataFrame to a CSV file\n",
    "df_holding_records.to_csv(current_holding_records_file_path, index=None)\n",
    "\n",
    "print(\"GOLD Layer CSV file for Current Holdings successfully created at:\")\n",
    "print(current_holding_records_file_path)\n",
    "\n",
    "# Display the DataFrame debugrmation\n",
    "df_holding_records.info()"
   ]
  },
  {
   "cell_type": "code",
   "execution_count": 6,
   "metadata": {
    "execution": {
     "iopub.execute_input": "2024-09-04T10:55:22.938756Z",
     "iopub.status.busy": "2024-09-04T10:55:22.938756Z",
     "iopub.status.idle": "2024-09-04T10:55:22.960696Z",
     "shell.execute_reply": "2024-09-04T10:55:22.960696Z"
    }
   },
   "outputs": [],
   "source": [
    "# Create a DataFrame from the processed data\n",
    "df_holdings = pd.DataFrame(portfolio.get_holdings_history())\n",
    "\n",
    "# Round the values in the columns to two decimal places\n",
    "df_holdings = df_holdings.round(2)\n",
    "\n",
    "# Extract date from datetime\n",
    "df_holdings[\"date\"] = df_holdings[\"datetime\"].dt.date\n",
    "\n",
    "# Find the index of the maximum datetime for each scrip_name and date\n",
    "idx = df_holdings.groupby([\"scrip_name\", \"date\"])[\"datetime\"].idxmax()\n",
    "\n",
    "# Use the indices to filter the original DataFrame\n",
    "df_holdings = df_holdings.loc[idx].reset_index(drop=True)"
   ]
  },
  {
   "cell_type": "code",
   "execution_count": 7,
   "metadata": {
    "execution": {
     "iopub.execute_input": "2024-09-04T10:55:22.964715Z",
     "iopub.status.busy": "2024-09-04T10:55:22.964715Z",
     "iopub.status.idle": "2024-09-04T10:55:23.089025Z",
     "shell.execute_reply": "2024-09-04T10:55:23.087222Z"
    }
   },
   "outputs": [],
   "source": [
    "# Create a function to expand the date range for each stock\n",
    "def expand_dates(stock_df):\n",
    "    \"\"\"\n",
    "    Expands the date range for each stock to include all dates from the\n",
    "    minimum date to the current date and forward fills the missing values.\n",
    "\n",
    "    Parameters:\n",
    "    stock_df (pd.DataFrame): DataFrame containing stock data for a single stock.\n",
    "\n",
    "    Returns:\n",
    "    pd.DataFrame: DataFrame with expanded date range and forward-filled values.\n",
    "    \"\"\"\n",
    "    # Find the minimum date for this stock\n",
    "    min_date = stock_df[\"date\"].min()\n",
    "\n",
    "    # Create a date range from the minimum date to today\n",
    "    date_range = pd.date_range(start=min_date, end=pd.to_datetime(\"today\"))\n",
    "\n",
    "    # Reindex the stock_df to include the full date range\n",
    "    stock_df = stock_df.set_index(\"date\").reindex(date_range)\n",
    "\n",
    "    # Forward fill the values to fill missing dates\n",
    "    stock_df = stock_df.ffill().reset_index()\n",
    "\n",
    "    # Rename the 'index' column to 'date'\n",
    "    stock_df = stock_df.rename(columns={\"index\": \"date\"})\n",
    "\n",
    "    return stock_df\n",
    "\n",
    "\n",
    "# Apply the expand_dates function to each stock group\n",
    "df_holdings = (\n",
    "    df_holdings.groupby(\"scrip_name\")\n",
    "    .apply(expand_dates, include_groups=False)\n",
    "    .reset_index()\n",
    ")"
   ]
  },
  {
   "cell_type": "code",
   "execution_count": 8,
   "metadata": {
    "execution": {
     "iopub.execute_input": "2024-09-04T10:55:23.093689Z",
     "iopub.status.busy": "2024-09-04T10:55:23.093689Z",
     "iopub.status.idle": "2024-09-04T10:55:23.127556Z",
     "shell.execute_reply": "2024-09-04T10:55:23.127556Z"
    }
   },
   "outputs": [
    {
     "name": "stdout",
     "output_type": "stream",
     "text": [
      "Loaded SILVER Layer stock price data from: DATA/SILVER/StockPrice/StockPrice_data.csv\n"
     ]
    }
   ],
   "source": [
    "# Load stock prices data from the specified CSV file path\n",
    "df_stockprice = pd.read_csv(stockprice_silver_file_path)\n",
    "\n",
    "# Convert the 'date' column in stock prices to datetime type for consistency\n",
    "df_stockprice[\"date\"] = pd.to_datetime(df_stockprice[\"date\"])\n",
    "\n",
    "print(\n",
    "    f\"Loaded SILVER Layer stock price data from: {stockprice_silver_file_path}\"\n",
    ")\n",
    "\n",
    "# Merge the expanded holdings data with the stock price data\n",
    "df_holdings = pd.merge(\n",
    "    df_holdings,\n",
    "    df_stockprice,\n",
    "    on=[\"date\", \"symbol\"],\n",
    "    how=\"left\",\n",
    ")"
   ]
  },
  {
   "cell_type": "code",
   "execution_count": 9,
   "metadata": {
    "execution": {
     "iopub.execute_input": "2024-09-04T10:55:23.135846Z",
     "iopub.status.busy": "2024-09-04T10:55:23.135846Z",
     "iopub.status.idle": "2024-09-04T10:55:23.174999Z",
     "shell.execute_reply": "2024-09-04T10:55:23.174999Z"
    }
   },
   "outputs": [],
   "source": [
    "# Calculate the OHLC value of holdings\n",
    "col_names = [\"open\", \"high\", \"low\", \"close\"]\n",
    "for col_name in col_names:\n",
    "    df_holdings[f\"{col_name}_price\"] = df_holdings[col_name]\n",
    "    df_holdings[f\"{col_name}_amount\"] = (\n",
    "        df_holdings[col_name] * df_holdings[\"holding_quantity\"]\n",
    "    )\n",
    "\n",
    "# Forward fill the values to fill missing dates\n",
    "df_holdings = df_holdings.ffill()\n",
    "\n",
    "# Filter out rows with zero holding quantity\n",
    "df_holdings = df_holdings[df_holdings[\"holding_quantity\"] != 0]\n",
    "\n",
    "# Round the values in to two decimal places\n",
    "df_holdings = df_holdings.round(2)"
   ]
  },
  {
   "cell_type": "code",
   "execution_count": 10,
   "metadata": {
    "execution": {
     "iopub.execute_input": "2024-09-04T10:55:23.184928Z",
     "iopub.status.busy": "2024-09-04T10:55:23.178419Z",
     "iopub.status.idle": "2024-09-04T10:55:23.335825Z",
     "shell.execute_reply": "2024-09-04T10:55:23.335825Z"
    }
   },
   "outputs": [
    {
     "name": "stdout",
     "output_type": "stream",
     "text": [
      "GOLD Layer CSV file for Holdings successfully created at: DATA/GOLD/Holdings/HoldingsHistory_data.csv"
     ]
    },
    {
     "name": "stdout",
     "output_type": "stream",
     "text": [
      "\n",
      "<class 'pandas.core.frame.DataFrame'>\n",
      "RangeIndex: 6073 entries, 0 to 6072\n",
      "Data columns (total 16 columns):\n",
      " #   Column            Non-Null Count  Dtype         \n",
      "---  ------            --------------  -----         \n",
      " 0   date              6073 non-null   datetime64[ns]\n",
      " 1   segment           6073 non-null   object        \n",
      " 2   exchange          6073 non-null   object        \n",
      " 3   symbol            6073 non-null   object        \n",
      " 4   scrip_name        6073 non-null   object        \n",
      " 5   holding_quantity  6073 non-null   float64       \n",
      " 6   avg_price         6073 non-null   float64       \n",
      " 7   holding_amount    6073 non-null   float64       \n",
      " 8   open_price        6073 non-null   float64       \n",
      " 9   open_amount       6073 non-null   float64       \n",
      " 10  high_price        6073 non-null   float64       \n",
      " 11  high_amount       6073 non-null   float64       \n",
      " 12  low_price         6073 non-null   float64       \n",
      " 13  low_amount        6073 non-null   float64       \n",
      " 14  close_price       6073 non-null   float64       \n",
      " 15  close_amount      6073 non-null   float64       \n",
      "dtypes: datetime64[ns](1), float64(11), object(4)\n",
      "memory usage: 759.3+ KB\n"
     ]
    }
   ],
   "source": [
    "# Sort the DataFrame for organized output\n",
    "df_holdings = df_holdings.sort_values(\n",
    "    by=[\n",
    "        \"date\",\n",
    "        \"segment\",\n",
    "        \"exchange\",\n",
    "        \"symbol\",\n",
    "        \"scrip_name\",\n",
    "    ]\n",
    ")\n",
    "\n",
    "# Reset index to ensure it starts from 0\n",
    "df_holdings = df_holdings.reset_index(drop=True)\n",
    "\n",
    "# Select and reorder the columns for the final DataFrame\n",
    "df_holdings = df_holdings[\n",
    "    [\n",
    "        \"date\",\n",
    "        \"segment\",\n",
    "        \"exchange\",\n",
    "        \"symbol\",\n",
    "        \"scrip_name\",\n",
    "        \"holding_quantity\",\n",
    "        \"avg_price\",\n",
    "        \"holding_amount\",\n",
    "        \"open_price\",\n",
    "        \"open_amount\",\n",
    "        \"high_price\",\n",
    "        \"high_amount\",\n",
    "        \"low_price\",\n",
    "        \"low_amount\",\n",
    "        \"close_price\",\n",
    "        \"close_amount\",\n",
    "    ]\n",
    "]\n",
    "\n",
    "# Save the final processed DataFrame to a new CSV file\n",
    "df_holdings.to_csv(holdingshistory_gold_file_path, index=None)\n",
    "\n",
    "print(\n",
    "    f\"GOLD Layer CSV file for Holdings successfully created at: {holdingshistory_gold_file_path}\"\n",
    ")\n",
    "\n",
    "# Display debugrmation about the final DataFrame\n",
    "df_holdings.info()"
   ]
  }
 ],
 "metadata": {
  "kernelspec": {
   "display_name": "Python 3 (ipykernel)",
   "language": "python",
   "name": "python3"
  },
  "language_debug": {
   "codemirror_mode": {
    "name": "ipython",
    "version": 3
   },
   "file_extension": ".py",
   "mimetype": "text/x-python",
   "name": "python",
   "nbconvert_exporter": "python",
   "pygments_lexer": "ipython3",
   "version": "3.11.4"
  },
  "language_info": {
   "codemirror_mode": {
    "name": "ipython",
    "version": 3
   },
   "file_extension": ".py",
   "mimetype": "text/x-python",
   "name": "python",
   "nbconvert_exporter": "python",
   "pygments_lexer": "ipython3",
   "version": "3.11.4"
  }
 },
 "nbformat": 4,
 "nbformat_minor": 4
}
