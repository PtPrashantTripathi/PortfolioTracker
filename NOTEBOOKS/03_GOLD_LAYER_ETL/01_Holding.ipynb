{
 "cells": [
  {
   "cell_type": "markdown",
   "metadata": {},
   "source": [
    "## SILVER TO GOLD LAYER\n",
    "\n",
    "### Gold Layer - Holding\n"
   ]
  },
  {
   "cell_type": "code",
   "execution_count": 1,
   "metadata": {
    "execution": {
     "iopub.execute_input": "2025-03-01T00:49:47.403777Z",
     "iopub.status.busy": "2025-03-01T00:49:47.403585Z",
     "iopub.status.idle": "2025-03-01T00:49:47.637224Z",
     "shell.execute_reply": "2025-03-01T00:49:47.636590Z"
    }
   },
   "outputs": [],
   "source": [
    "# Importing Common Utility Function\n",
    "import pandas as pd\n",
    "\n",
    "from StockETL import GlobalPath, Portfolio"
   ]
  },
  {
   "cell_type": "code",
   "execution_count": 2,
   "metadata": {
    "execution": {
     "iopub.execute_input": "2025-03-01T00:49:47.639321Z",
     "iopub.status.busy": "2025-03-01T00:49:47.639076Z",
     "iopub.status.idle": "2025-03-01T00:49:47.800794Z",
     "shell.execute_reply": "2025-03-01T00:49:47.800174Z"
    }
   },
   "outputs": [
    {
     "name": "stdout",
     "output_type": "stream",
     "text": [
      "USERNAME = 'ptprashanttripathi'\n"
     ]
    }
   ],
   "source": [
    "# Import necessary libraries and utility functions\n",
    "%run ../COMMON/common_utility.ipynb"
   ]
  },
  {
   "cell_type": "code",
   "execution_count": 3,
   "metadata": {
    "execution": {
     "iopub.execute_input": "2025-03-01T00:49:47.836102Z",
     "iopub.status.busy": "2025-03-01T00:49:47.835898Z",
     "iopub.status.idle": "2025-03-01T00:49:47.840848Z",
     "shell.execute_reply": "2025-03-01T00:49:47.840409Z"
    }
   },
   "outputs": [],
   "source": [
    "# Instantiate GlobalPath\n",
    "tradehistory_silver_file_path = GlobalPath(\n",
    "    f\"DATA/SILVER/TradeHistory/{USERNAME}/TradeHistory_data.csv\"\n",
    ")\n",
    "stockprice_silver_file_path = GlobalPath(\"DATA/SILVER/StockPrice/StockPrice_data.csv\")\n",
    "symbol_silver_file_path = GlobalPath(\"DATA/SILVER/Symbol/Symbol_data.csv\")\n",
    "\n",
    "current_holding_records_file_path = GlobalPath(\n",
    "    f\"DATA/GOLD/Holding/{USERNAME}/CurrentHolding_data.csv\"\n",
    ")\n",
    "current_holding_gold_schema_file_path = GlobalPath(\n",
    "    \"CONFIG/DATA_CONTRACTS/GOLD/CurrentHolding.json\"\n",
    ")\n",
    "\n",
    "holding_gold_file_path = GlobalPath(f\"DATA/GOLD/Holding/{USERNAME}/Holding_data.csv\")\n",
    "holding_gold_schema_file_path = GlobalPath(\"CONFIG/DATA_CONTRACTS/GOLD/Holding.json\")\n",
    "\n",
    "holding_source_layer_path = GlobalPath(\n",
    "    f\"DATA/SOURCE/Holding/{USERNAME}/Holding_data.csv\"\n",
    ")\n",
    "holding_source_schema_file_path = GlobalPath(\n",
    "    \"CONFIG/DATA_CONTRACTS/SOURCE/Holding.json\"\n",
    ")"
   ]
  },
  {
   "cell_type": "markdown",
   "metadata": {},
   "source": [
    "### Data Processing\n",
    "\n",
    "- Read and sort trade history data.\n",
    "- Apply portfolio trade logic.\n"
   ]
  },
  {
   "cell_type": "code",
   "execution_count": 4,
   "metadata": {
    "execution": {
     "iopub.execute_input": "2025-03-01T00:49:47.842592Z",
     "iopub.status.busy": "2025-03-01T00:49:47.842414Z",
     "iopub.status.idle": "2025-03-01T00:49:47.852036Z",
     "shell.execute_reply": "2025-03-01T00:49:47.851554Z"
    }
   },
   "outputs": [
    {
     "name": "stdout",
     "output_type": "stream",
     "text": [
      "Read SILVER Layer trade history data from => /home/runner/work/PortfolioTracker/PortfolioTracker/DATA/SILVER/TradeHistory/ptprashanttripathi/TradeHistory_data.csv\n"
     ]
    }
   ],
   "source": [
    "# Read the CSV file\n",
    "df_trade_history = pd.read_csv(tradehistory_silver_file_path)\n",
    "\n",
    "# Filter the DataFrame to include only rows where the segment is 'EQ' (Equity) or 'MF' (Mutual Funds)\n",
    "df_trade_history = df_trade_history[df_trade_history[\"segment\"].isin([\"EQ\", \"MF\"])]\n",
    "\n",
    "# Convert 'datetime' to datetime type\n",
    "df_trade_history[\"datetime\"] = pd.to_datetime(df_trade_history[\"datetime\"])\n",
    "\n",
    "# Sort the DataFrame by 'datetime'\n",
    "df_trade_history = df_trade_history.sort_values(by=\"datetime\")\n",
    "\n",
    "print(f\"Read SILVER Layer trade history data from => {tradehistory_silver_file_path}\")"
   ]
  },
  {
   "cell_type": "markdown",
   "metadata": {},
   "source": [
    "### Portfolio Logic Application\n",
    "\n",
    "- Instantiate Portfolio and apply trade logic.\n",
    "- Handle expired stocks\n"
   ]
  },
  {
   "cell_type": "code",
   "execution_count": 5,
   "metadata": {
    "execution": {
     "iopub.execute_input": "2025-03-01T00:49:47.853926Z",
     "iopub.status.busy": "2025-03-01T00:49:47.853586Z",
     "iopub.status.idle": "2025-03-01T00:49:47.860825Z",
     "shell.execute_reply": "2025-03-01T00:49:47.860386Z"
    }
   },
   "outputs": [],
   "source": [
    "# Apply the trade logic to each row of the DataFrame\n",
    "# Instantiate the Portfolio object\n",
    "portfolio = Portfolio()\n",
    "# .astype(str)\n",
    "for record in df_trade_history.to_dict(orient=\"records\"):\n",
    "    portfolio.trade(record)\n",
    "\n",
    "portfolio.check_expired_stocks()"
   ]
  },
  {
   "cell_type": "code",
   "execution_count": 6,
   "metadata": {
    "execution": {
     "iopub.execute_input": "2025-03-01T00:49:47.862469Z",
     "iopub.status.busy": "2025-03-01T00:49:47.862297Z",
     "iopub.status.idle": "2025-03-01T00:49:47.878204Z",
     "shell.execute_reply": "2025-03-01T00:49:47.877727Z"
    }
   },
   "outputs": [
    {
     "name": "stdout",
     "output_type": "stream",
     "text": [
      "DataContract loaded from => /home/runner/work/PortfolioTracker/PortfolioTracker/CONFIG/DATA_CONTRACTS/GOLD/CurrentHolding.json\n",
      "GOLD Layer CSV file for Current Holdings successfully created at =>\n",
      "/home/runner/work/PortfolioTracker/PortfolioTracker/DATA/GOLD/Holding/ptprashanttripathi/CurrentHolding_data.csv\n",
      "<class 'pandas.core.frame.DataFrame'>\n",
      "RangeIndex: 28 entries, 0 to 27\n",
      "Data columns (total 9 columns):\n",
      " #   Column      Non-Null Count  Dtype         \n",
      "---  ------      --------------  -----         \n",
      " 0   scrip_name  28 non-null     string        \n",
      " 1   symbol      28 non-null     string        \n",
      " 2   exchange    28 non-null     string        \n",
      " 3   segment     28 non-null     string        \n",
      " 4   datetime    28 non-null     datetime64[ns]\n",
      " 5   side        28 non-null     string        \n",
      " 6   quantity    28 non-null     float64       \n",
      " 7   price       28 non-null     float64       \n",
      " 8   amount      28 non-null     float64       \n",
      "dtypes: datetime64[ns](1), float64(3), string(5)\n",
      "memory usage: 2.1 KB\n"
     ]
    }
   ],
   "source": [
    "# Create a DataFrame from the processed data\n",
    "df_currentholding = pd.DataFrame(portfolio.get_current_holding())\n",
    "\n",
    "# Align Datafame with DataContract\n",
    "df_currentholding = align_with_datacontract(\n",
    "    df_currentholding, current_holding_gold_schema_file_path\n",
    ")\n",
    "\n",
    "# Save the final DataFrame to a CSV file\n",
    "df_currentholding.to_csv(current_holding_records_file_path, index=None)\n",
    "\n",
    "print(\"GOLD Layer CSV file for Current Holdings successfully created at =>\")\n",
    "print(current_holding_records_file_path)\n",
    "\n",
    "# Display the DataFrame debugrmation\n",
    "df_currentholding.info()"
   ]
  },
  {
   "cell_type": "markdown",
   "metadata": {},
   "source": [
    "### Final Processing and Export\n",
    "\n",
    "- Select and sort relevant columns.\n",
    "- Save the processed data as a CSV file in the Gold layer.\n"
   ]
  },
  {
   "cell_type": "code",
   "execution_count": 7,
   "metadata": {
    "execution": {
     "iopub.execute_input": "2025-03-01T00:49:47.880019Z",
     "iopub.status.busy": "2025-03-01T00:49:47.879842Z",
     "iopub.status.idle": "2025-03-01T00:49:47.885942Z",
     "shell.execute_reply": "2025-03-01T00:49:47.885502Z"
    }
   },
   "outputs": [],
   "source": [
    "# Create a DataFrame from the processed data\n",
    "df_holding = pd.DataFrame(portfolio.get_holding_history())\n",
    "\n",
    "# Extract date from datetime\n",
    "df_holding[\"date\"] = df_holding[\"datetime\"].dt.date\n",
    "\n",
    "# Find the index of the maximum datetime for each scrip_name and date\n",
    "idx = df_holding.groupby([\"scrip_name\", \"date\"])[\"datetime\"].idxmax()\n",
    "\n",
    "# Use the indices to filter the original DataFrame\n",
    "df_holding = df_holding.loc[idx].reset_index(drop=True)"
   ]
  },
  {
   "cell_type": "code",
   "execution_count": 8,
   "metadata": {
    "execution": {
     "iopub.execute_input": "2025-03-01T00:49:47.887624Z",
     "iopub.status.busy": "2025-03-01T00:49:47.887447Z",
     "iopub.status.idle": "2025-03-01T00:49:47.942677Z",
     "shell.execute_reply": "2025-03-01T00:49:47.942110Z"
    }
   },
   "outputs": [],
   "source": [
    "# Create a function to expand the date range for each stock\n",
    "\n",
    "\n",
    "def expand_dates(stock_df):\n",
    "    \"\"\"\n",
    "    Expands the date range for each stock to include all dates from the\n",
    "    minimum date to the current date and forward fills the missing values.\n",
    "\n",
    "    Parameters:\n",
    "    stock_df (pd.DataFrame): DataFrame containing stock data for a single stock.\n",
    "\n",
    "    Returns:\n",
    "    pd.DataFrame: DataFrame with expanded date range and forward-filled values.\n",
    "    \"\"\"\n",
    "    # Find the minimum date for this stock\n",
    "    min_date = stock_df[\"date\"].min()\n",
    "\n",
    "    # Create a date range from the minimum date to today\n",
    "    date_range = pd.date_range(start=min_date, end=pd.to_datetime(\"today\"))\n",
    "\n",
    "    # Reindex the stock_df to include the full date range\n",
    "    stock_df = stock_df.set_index(\"date\").reindex(date_range)\n",
    "\n",
    "    # Forward fill the values to fill missing dates\n",
    "    stock_df = stock_df.ffill().reset_index()\n",
    "\n",
    "    # Rename the 'index' column to 'date'\n",
    "    stock_df = stock_df.rename(columns={\"index\": \"date\"})\n",
    "\n",
    "    return stock_df\n",
    "\n",
    "\n",
    "# Apply the expand_dates function to each stock group\n",
    "df_holding = (\n",
    "    df_holding.groupby(\"scrip_name\")\n",
    "    .apply(expand_dates, include_groups=False)\n",
    "    .reset_index()\n",
    ")"
   ]
  },
  {
   "cell_type": "code",
   "execution_count": 9,
   "metadata": {
    "execution": {
     "iopub.execute_input": "2025-03-01T00:49:47.944509Z",
     "iopub.status.busy": "2025-03-01T00:49:47.944332Z",
     "iopub.status.idle": "2025-03-01T00:49:47.972644Z",
     "shell.execute_reply": "2025-03-01T00:49:47.972090Z"
    }
   },
   "outputs": [
    {
     "name": "stdout",
     "output_type": "stream",
     "text": [
      "Loaded SILVER Layer stock price data from => /home/runner/work/PortfolioTracker/PortfolioTracker/DATA/SILVER/StockPrice/StockPrice_data.csv\n",
      "<class 'pandas.core.frame.DataFrame'>\n",
      "RangeIndex: 32264 entries, 0 to 32263\n",
      "Data columns (total 7 columns):\n",
      " #   Column  Non-Null Count  Dtype         \n",
      "---  ------  --------------  -----         \n",
      " 0   date    32264 non-null  datetime64[ns]\n",
      " 1   symbol  32264 non-null  object        \n",
      " 2   open    32264 non-null  float64       \n",
      " 3   high    32264 non-null  float64       \n",
      " 4   low     32264 non-null  float64       \n",
      " 5   close   32264 non-null  float64       \n",
      " 6   volume  29757 non-null  float64       \n",
      "dtypes: datetime64[ns](1), float64(5), object(1)\n",
      "memory usage: 1.7+ MB\n"
     ]
    }
   ],
   "source": [
    "# Load stock prices data from the specified CSV file path\n",
    "df_stockprice = pd.read_csv(stockprice_silver_file_path)\n",
    "print(f\"Loaded SILVER Layer stock price data from => {stockprice_silver_file_path}\")\n",
    "\n",
    "# Convert the 'date' column in stock prices to datetime type for consistency\n",
    "df_stockprice[\"date\"] = pd.to_datetime(df_stockprice[\"date\"])\n",
    "df_stockprice.info()"
   ]
  },
  {
   "cell_type": "code",
   "execution_count": 10,
   "metadata": {
    "execution": {
     "iopub.execute_input": "2025-03-01T00:49:47.974459Z",
     "iopub.status.busy": "2025-03-01T00:49:47.974127Z",
     "iopub.status.idle": "2025-03-01T00:49:48.003972Z",
     "shell.execute_reply": "2025-03-01T00:49:48.003394Z"
    }
   },
   "outputs": [],
   "source": [
    "# Merge the expanded holding data with the stock price data\n",
    "df_holding = pd.merge(\n",
    "    df_holding,\n",
    "    df_stockprice,\n",
    "    on=[\"date\", \"symbol\"],\n",
    "    how=\"left\",\n",
    ")\n",
    "\n",
    "# Calculate the OHLC value of holding\n",
    "col_names = [\"open\", \"high\", \"low\", \"close\"]\n",
    "for col_name in col_names:\n",
    "    df_holding[f\"{col_name}_price\"] = df_holding[col_name]\n",
    "    df_holding[f\"{col_name}_amount\"] = (\n",
    "        df_holding[col_name] * df_holding[\"holding_quantity\"]\n",
    "    )\n",
    "\n",
    "# Forward fill the values to fill missing dates\n",
    "df_holding = df_holding.ffill()\n",
    "\n",
    "# Filter out rows with zero holding quantity\n",
    "df_holding = df_holding[df_holding[\"holding_quantity\"] != 0]"
   ]
  },
  {
   "cell_type": "code",
   "execution_count": 11,
   "metadata": {
    "execution": {
     "iopub.execute_input": "2025-03-01T00:49:48.005883Z",
     "iopub.status.busy": "2025-03-01T00:49:48.005532Z",
     "iopub.status.idle": "2025-03-01T00:49:48.104086Z",
     "shell.execute_reply": "2025-03-01T00:49:48.103499Z"
    }
   },
   "outputs": [
    {
     "name": "stdout",
     "output_type": "stream",
     "text": [
      "DataContract loaded from => /home/runner/work/PortfolioTracker/PortfolioTracker/CONFIG/DATA_CONTRACTS/GOLD/Holding.json\n"
     ]
    },
    {
     "name": "stdout",
     "output_type": "stream",
     "text": [
      "GOLD Layer CSV file for Holding successfully created at: /home/runner/work/PortfolioTracker/PortfolioTracker/DATA/GOLD/Holding/ptprashanttripathi/Holding_data.csv\n",
      "<class 'pandas.core.frame.DataFrame'>\n",
      "RangeIndex: 7415 entries, 0 to 7414\n",
      "Data columns (total 16 columns):\n",
      " #   Column            Non-Null Count  Dtype         \n",
      "---  ------            --------------  -----         \n",
      " 0   date              7415 non-null   datetime64[ns]\n",
      " 1   segment           7415 non-null   string        \n",
      " 2   exchange          7415 non-null   string        \n",
      " 3   symbol            7415 non-null   string        \n",
      " 4   scrip_name        7415 non-null   string        \n",
      " 5   holding_quantity  7415 non-null   float64       \n",
      " 6   avg_price         7415 non-null   float64       \n",
      " 7   holding_amount    7415 non-null   float64       \n",
      " 8   open_price        7412 non-null   float64       \n",
      " 9   open_amount       7412 non-null   float64       \n",
      " 10  high_price        7412 non-null   float64       \n",
      " 11  high_amount       7412 non-null   float64       \n",
      " 12  low_price         7412 non-null   float64       \n",
      " 13  low_amount        7412 non-null   float64       \n",
      " 14  close_price       7412 non-null   float64       \n",
      " 15  close_amount      7412 non-null   float64       \n",
      "dtypes: datetime64[ns](1), float64(11), string(4)\n",
      "memory usage: 927.0 KB\n"
     ]
    }
   ],
   "source": [
    "# Reset index to ensure it starts from 0\n",
    "df_holding = df_holding.reset_index(drop=True)\n",
    "\n",
    "# Align Datafame with DataContract\n",
    "df_holding = align_with_datacontract(df_holding, holding_gold_schema_file_path)\n",
    "\n",
    "# Save the final processed DataFrame to a new CSV file\n",
    "df_holding.to_csv(holding_gold_file_path, index=None)\n",
    "\n",
    "print(\n",
    "    f\"GOLD Layer CSV file for Holding successfully created at: {holding_gold_file_path}\"\n",
    ")\n",
    "\n",
    "# Display debugrmation about the final DataFrame\n",
    "df_holding.info()"
   ]
  },
  {
   "cell_type": "code",
   "execution_count": 12,
   "metadata": {
    "execution": {
     "iopub.execute_input": "2025-03-01T00:49:48.106146Z",
     "iopub.status.busy": "2025-03-01T00:49:48.105802Z",
     "iopub.status.idle": "2025-03-01T00:49:48.158489Z",
     "shell.execute_reply": "2025-03-01T00:49:48.157995Z"
    }
   },
   "outputs": [
    {
     "name": "stdout",
     "output_type": "stream",
     "text": [
      "Loaded data from => /home/runner/work/PortfolioTracker/PortfolioTracker/DATA/SILVER/Symbol/Symbol_data.csv\n",
      "DataContract loaded from => /home/runner/work/PortfolioTracker/PortfolioTracker/CONFIG/DATA_CONTRACTS/SOURCE/Holding.json\n",
      "GOLD Layer CSV file for Holding successfully created at: /home/runner/work/PortfolioTracker/PortfolioTracker/DATA/SOURCE/Holding/ptprashanttripathi/Holding_data.csv\n",
      "<class 'pandas.core.frame.DataFrame'>\n",
      "RangeIndex: 21 entries, 0 to 20\n",
      "Data columns (total 6 columns):\n",
      " #   Column    Non-Null Count  Dtype         \n",
      "---  ------    --------------  -----         \n",
      " 0   segment   21 non-null     string        \n",
      " 1   exchange  21 non-null     string        \n",
      " 2   symbol    21 non-null     string        \n",
      " 3   min_date  21 non-null     datetime64[ns]\n",
      " 4   max_date  21 non-null     datetime64[ns]\n",
      " 5   isin      21 non-null     string        \n",
      "dtypes: datetime64[ns](2), string(4)\n",
      "memory usage: 1.1 KB\n"
     ]
    }
   ],
   "source": [
    "# Replace scrip code with scrip_name name\n",
    "df_symbol = pd.read_csv(symbol_silver_file_path)\n",
    "print(f\"Loaded data from => {symbol_silver_file_path}\")\n",
    "\n",
    "# Calculate the min and max dates for each stock\n",
    "df_holding = (\n",
    "    df_holding.groupby([\"segment\", \"exchange\", \"symbol\"])\n",
    "    .agg(min_date=(\"date\", \"min\"), max_date=(\"date\", \"max\"))\n",
    "    .reset_index()\n",
    ")\n",
    "\n",
    "# Merge df_HoldingHistory with df_Symbol on the matching columns\n",
    "df_holding = df_holding.merge(\n",
    "    df_symbol[[\"symbol\", \"isin\"]],\n",
    "    left_on=\"symbol\",\n",
    "    right_on=\"symbol\",\n",
    "    how=\"left\",\n",
    ")\n",
    "\n",
    "# Align Datafame with DataContract\n",
    "df_holding = align_with_datacontract(df_holding, holding_source_schema_file_path)\n",
    "\n",
    "# Save the final processed DataFrame to a new CSV file\n",
    "df_holding.to_csv(holding_source_layer_path, index=None)\n",
    "\n",
    "print(\n",
    "    f\"GOLD Layer CSV file for Holding successfully created at: {holding_source_layer_path}\"\n",
    ")\n",
    "\n",
    "# Display debugrmation about the final DataFrame\n",
    "df_holding.info()"
   ]
  }
 ],
 "metadata": {
  "kernelspec": {
   "display_name": "Python 3",
   "language": "python",
   "name": "python3"
  },
  "language_debug": {
   "codemirror_mode": {
    "name": "ipython",
    "version": 3
   },
   "file_extension": ".py",
   "mimetype": "text/x-python",
   "name": "python",
   "nbconvert_exporter": "python",
   "pygments_lexer": "ipython3",
   "version": "3.11.4"
  },
  "language_info": {
   "codemirror_mode": {
    "name": "ipython",
    "version": 3
   },
   "file_extension": ".py",
   "mimetype": "text/x-python",
   "name": "python",
   "nbconvert_exporter": "python",
   "pygments_lexer": "ipython3",
   "version": "3.13.2"
  }
 },
 "nbformat": 4,
 "nbformat_minor": 4
}
