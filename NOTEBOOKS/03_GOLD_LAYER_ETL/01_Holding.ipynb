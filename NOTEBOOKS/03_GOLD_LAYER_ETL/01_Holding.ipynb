{
 "cells": [
  {
   "cell_type": "markdown",
   "metadata": {},
   "source": [
    "## SILVER TO GOLD LAYER\n",
    "\n",
    "### Gold Layer - Holding\n"
   ]
  },
  {
   "cell_type": "code",
   "execution_count": 1,
   "metadata": {
    "execution": {
     "iopub.execute_input": "2024-11-22T04:08:28.421135Z",
     "iopub.status.busy": "2024-11-22T04:08:28.420696Z",
     "iopub.status.idle": "2024-11-22T04:08:28.685175Z",
     "shell.execute_reply": "2024-11-22T04:08:28.684690Z"
    }
   },
   "outputs": [],
   "source": [
    "# Importing Common Utility Function\n",
    "import pandas as pd\n",
    "from StockETL import GlobalPath, Portfolio"
   ]
  },
  {
   "cell_type": "code",
   "execution_count": 2,
   "metadata": {
    "execution": {
     "iopub.execute_input": "2024-11-22T04:08:28.687351Z",
     "iopub.status.busy": "2024-11-22T04:08:28.686921Z",
     "iopub.status.idle": "2024-11-22T04:08:28.840954Z",
     "shell.execute_reply": "2024-11-22T04:08:28.840392Z"
    }
   },
   "outputs": [],
   "source": [
    "# Import necessary libraries and utility functions\n",
    "%run ../COMMON/common_utility.ipynb"
   ]
  },
  {
   "cell_type": "code",
   "execution_count": 3,
   "metadata": {
    "execution": {
     "iopub.execute_input": "2024-11-22T04:08:28.843074Z",
     "iopub.status.busy": "2024-11-22T04:08:28.842688Z",
     "iopub.status.idle": "2024-11-22T04:08:28.847855Z",
     "shell.execute_reply": "2024-11-22T04:08:28.847279Z"
    }
   },
   "outputs": [],
   "source": [
    "# Instantiate GlobalPath\n",
    "tradehistory_silver_file_path = GlobalPath(\n",
    "    \"DATA/SILVER/TradeHistory/TradeHistory_data.csv\"\n",
    ")\n",
    "stockprice_silver_file_path = GlobalPath(\"DATA/SILVER/StockPrice/StockPrice_data.csv\")\n",
    "symbol_silver_file_path = GlobalPath(\"DATA/SILVER/Symbol/Symbol_data.csv\")\n",
    "\n",
    "current_holding_records_file_path = GlobalPath(\n",
    "    \"DATA/GOLD/Holding/CurrentHolding_data.csv\"\n",
    ")\n",
    "current_holding_gold_schema_file_path = GlobalPath(\n",
    "    \"CONFIG/DATA_CONTRACTS/GOLD/CurrentHolding.json\"\n",
    ")\n",
    "\n",
    "holding_gold_file_path = GlobalPath(\"DATA/GOLD/Holding/Holding_data.csv\")\n",
    "holding_gold_schema_file_path = GlobalPath(\"CONFIG/DATA_CONTRACTS/GOLD/Holding.json\")\n",
    "\n",
    "holding_source_layer_path = GlobalPath(\"DATA/SOURCE/Holding/Holding_data.csv\")\n",
    "holding_source_schema_file_path = GlobalPath(\n",
    "    \"CONFIG/DATA_CONTRACTS/SOURCE/Holding.json\"\n",
    ")"
   ]
  },
  {
   "cell_type": "markdown",
   "metadata": {},
   "source": [
    "### Data Processing\n",
    "\n",
    "- Read and sort trade history data.\n",
    "- Apply portfolio trade logic.\n"
   ]
  },
  {
   "cell_type": "code",
   "execution_count": 4,
   "metadata": {
    "execution": {
     "iopub.execute_input": "2024-11-22T04:08:28.849802Z",
     "iopub.status.busy": "2024-11-22T04:08:28.849471Z",
     "iopub.status.idle": "2024-11-22T04:08:28.858250Z",
     "shell.execute_reply": "2024-11-22T04:08:28.857687Z"
    }
   },
   "outputs": [
    {
     "name": "stdout",
     "output_type": "stream",
     "text": [
      "Read SILVER Layer trade history data from => /home/runner/work/PortfolioTracker/PortfolioTracker/DATA/SILVER/TradeHistory/TradeHistory_data.csv\n"
     ]
    }
   ],
   "source": [
    "# Read the CSV file\n",
    "df_trade_history = pd.read_csv(tradehistory_silver_file_path)\n",
    "\n",
    "# Filter the DataFrame to include only rows where the segment is 'EQ' (Equity) or 'MF' (Mutual Funds)\n",
    "df_trade_history = df_trade_history[df_trade_history[\"segment\"].isin([\"EQ\", \"MF\"])]\n",
    "\n",
    "# Convert 'datetime' to datetime type\n",
    "df_trade_history[\"datetime\"] = pd.to_datetime(df_trade_history[\"datetime\"])\n",
    "\n",
    "# Sort the DataFrame by 'datetime'\n",
    "df_trade_history = df_trade_history.sort_values(by=\"datetime\")\n",
    "\n",
    "print(f\"Read SILVER Layer trade history data from => {tradehistory_silver_file_path}\")"
   ]
  },
  {
   "cell_type": "markdown",
   "metadata": {},
   "source": [
    "### Portfolio Logic Application\n",
    "\n",
    "- Instantiate Portfolio and apply trade logic.\n",
    "- Handle expired stocks\n"
   ]
  },
  {
   "cell_type": "code",
   "execution_count": 5,
   "metadata": {
    "execution": {
     "iopub.execute_input": "2024-11-22T04:08:28.894184Z",
     "iopub.status.busy": "2024-11-22T04:08:28.893602Z",
     "iopub.status.idle": "2024-11-22T04:08:28.900955Z",
     "shell.execute_reply": "2024-11-22T04:08:28.900437Z"
    }
   },
   "outputs": [],
   "source": [
    "# Apply the trade logic to each row of the DataFrame\n",
    "# Instantiate the Portfolio object\n",
    "portfolio = Portfolio()\n",
    "# .astype(str)\n",
    "for record in df_trade_history.to_dict(orient=\"records\"):\n",
    "    portfolio.trade(record)\n",
    "\n",
    "portfolio.check_expired_stocks()"
   ]
  },
  {
   "cell_type": "code",
   "execution_count": 6,
   "metadata": {
    "execution": {
     "iopub.execute_input": "2024-11-22T04:08:28.902903Z",
     "iopub.status.busy": "2024-11-22T04:08:28.902722Z",
     "iopub.status.idle": "2024-11-22T04:08:28.918815Z",
     "shell.execute_reply": "2024-11-22T04:08:28.918223Z"
    }
   },
   "outputs": [
    {
     "name": "stdout",
     "output_type": "stream",
     "text": [
      "DataContract loaded from => /home/runner/work/PortfolioTracker/PortfolioTracker/CONFIG/DATA_CONTRACTS/GOLD/CurrentHolding.json\n",
      "GOLD Layer CSV file for Current Holdings successfully created at =>\n",
      "/home/runner/work/PortfolioTracker/PortfolioTracker/DATA/GOLD/Holding/CurrentHolding_data.csv\n",
      "<class 'pandas.core.frame.DataFrame'>\n",
      "RangeIndex: 8 entries, 0 to 7\n",
      "Data columns (total 9 columns):\n",
      " #   Column      Non-Null Count  Dtype         \n",
      "---  ------      --------------  -----         \n",
      " 0   scrip_name  8 non-null      string        \n",
      " 1   symbol      8 non-null      string        \n",
      " 2   exchange    8 non-null      string        \n",
      " 3   segment     8 non-null      string        \n",
      " 4   datetime    8 non-null      datetime64[ns]\n",
      " 5   side        8 non-null      string        \n",
      " 6   quantity    8 non-null      float64       \n",
      " 7   price       8 non-null      float64       \n",
      " 8   amount      8 non-null      float64       \n",
      "dtypes: datetime64[ns](1), float64(3), string(5)\n",
      "memory usage: 708.0 bytes\n"
     ]
    }
   ],
   "source": [
    "# Create a DataFrame from the processed data\n",
    "df_currentholding = pd.DataFrame(portfolio.get_current_holding())\n",
    "\n",
    "# Align Datafame with DataContract\n",
    "df_currentholding = align_with_datacontract(\n",
    "    df_currentholding, current_holding_gold_schema_file_path\n",
    ")\n",
    "\n",
    "# Save the final DataFrame to a CSV file\n",
    "df_currentholding.to_csv(current_holding_records_file_path, index=None)\n",
    "\n",
    "print(\"GOLD Layer CSV file for Current Holdings successfully created at =>\")\n",
    "print(current_holding_records_file_path)\n",
    "\n",
    "# Display the DataFrame debugrmation\n",
    "df_currentholding.info()"
   ]
  },
  {
   "cell_type": "markdown",
   "metadata": {},
   "source": [
    "### Final Processing and Export\n",
    "\n",
    "- Select and sort relevant columns.\n",
    "- Save the processed data as a CSV file in the Gold layer.\n"
   ]
  },
  {
   "cell_type": "code",
   "execution_count": 7,
   "metadata": {
    "execution": {
     "iopub.execute_input": "2024-11-22T04:08:28.920776Z",
     "iopub.status.busy": "2024-11-22T04:08:28.920365Z",
     "iopub.status.idle": "2024-11-22T04:08:28.926673Z",
     "shell.execute_reply": "2024-11-22T04:08:28.926120Z"
    }
   },
   "outputs": [],
   "source": [
    "# Create a DataFrame from the processed data\n",
    "df_holding = pd.DataFrame(portfolio.get_holding_history())\n",
    "\n",
    "# Extract date from datetime\n",
    "df_holding[\"date\"] = df_holding[\"datetime\"].dt.date\n",
    "\n",
    "# Find the index of the maximum datetime for each scrip_name and date\n",
    "idx = df_holding.groupby([\"scrip_name\", \"date\"])[\"datetime\"].idxmax()\n",
    "\n",
    "# Use the indices to filter the original DataFrame\n",
    "df_holding = df_holding.loc[idx].reset_index(drop=True)"
   ]
  },
  {
   "cell_type": "code",
   "execution_count": 8,
   "metadata": {
    "execution": {
     "iopub.execute_input": "2024-11-22T04:08:28.928504Z",
     "iopub.status.busy": "2024-11-22T04:08:28.928196Z",
     "iopub.status.idle": "2024-11-22T04:08:28.969287Z",
     "shell.execute_reply": "2024-11-22T04:08:28.968773Z"
    }
   },
   "outputs": [],
   "source": [
    "# Create a function to expand the date range for each stock\n",
    "def expand_dates(stock_df):\n",
    "    \"\"\"\n",
    "    Expands the date range for each stock to include all dates from the\n",
    "    minimum date to the current date and forward fills the missing values.\n",
    "\n",
    "    Parameters:\n",
    "    stock_df (pd.DataFrame): DataFrame containing stock data for a single stock.\n",
    "\n",
    "    Returns:\n",
    "    pd.DataFrame: DataFrame with expanded date range and forward-filled values.\n",
    "    \"\"\"\n",
    "    # Find the minimum date for this stock\n",
    "    min_date = stock_df[\"date\"].min()\n",
    "\n",
    "    # Create a date range from the minimum date to today\n",
    "    date_range = pd.date_range(start=min_date, end=pd.to_datetime(\"today\"))\n",
    "\n",
    "    # Reindex the stock_df to include the full date range\n",
    "    stock_df = stock_df.set_index(\"date\").reindex(date_range)\n",
    "\n",
    "    # Forward fill the values to fill missing dates\n",
    "    stock_df = stock_df.ffill().reset_index()\n",
    "\n",
    "    # Rename the 'index' column to 'date'\n",
    "    stock_df = stock_df.rename(columns={\"index\": \"date\"})\n",
    "\n",
    "    return stock_df\n",
    "\n",
    "\n",
    "# Apply the expand_dates function to each stock group\n",
    "df_holding = (\n",
    "    df_holding.groupby(\"scrip_name\")\n",
    "    .apply(expand_dates, include_groups=False)\n",
    "    .reset_index()\n",
    ")"
   ]
  },
  {
   "cell_type": "code",
   "execution_count": 9,
   "metadata": {
    "execution": {
     "iopub.execute_input": "2024-11-22T04:08:28.971182Z",
     "iopub.status.busy": "2024-11-22T04:08:28.970803Z",
     "iopub.status.idle": "2024-11-22T04:08:28.998324Z",
     "shell.execute_reply": "2024-11-22T04:08:28.997828Z"
    }
   },
   "outputs": [
    {
     "name": "stdout",
     "output_type": "stream",
     "text": [
      "Loaded SILVER Layer stock price data from => /home/runner/work/PortfolioTracker/PortfolioTracker/DATA/SILVER/StockPrice/StockPrice_data.csv\n",
      "<class 'pandas.core.frame.DataFrame'>\n",
      "RangeIndex: 30518 entries, 0 to 30517\n",
      "Data columns (total 7 columns):\n",
      " #   Column  Non-Null Count  Dtype         \n",
      "---  ------  --------------  -----         \n",
      " 0   date    30518 non-null  datetime64[ns]\n",
      " 1   symbol  30518 non-null  object        \n",
      " 2   open    30518 non-null  float64       \n",
      " 3   high    30518 non-null  float64       \n",
      " 4   low     30518 non-null  float64       \n",
      " 5   close   30518 non-null  float64       \n",
      " 6   volume  28011 non-null  float64       \n",
      "dtypes: datetime64[ns](1), float64(5), object(1)\n",
      "memory usage: 1.6+ MB\n"
     ]
    }
   ],
   "source": [
    "# Load stock prices data from the specified CSV file path\n",
    "df_stockprice = pd.read_csv(stockprice_silver_file_path)\n",
    "print(f\"Loaded SILVER Layer stock price data from => {stockprice_silver_file_path}\")\n",
    "\n",
    "# Convert the 'date' column in stock prices to datetime type for consistency\n",
    "df_stockprice[\"date\"] = pd.to_datetime(df_stockprice[\"date\"])\n",
    "df_stockprice.info()"
   ]
  },
  {
   "cell_type": "code",
   "execution_count": 10,
   "metadata": {
    "execution": {
     "iopub.execute_input": "2024-11-22T04:08:29.000228Z",
     "iopub.status.busy": "2024-11-22T04:08:28.999887Z",
     "iopub.status.idle": "2024-11-22T04:08:29.024999Z",
     "shell.execute_reply": "2024-11-22T04:08:29.024541Z"
    }
   },
   "outputs": [],
   "source": [
    "# Merge the expanded holding data with the stock price data\n",
    "df_holding = pd.merge(\n",
    "    df_holding,\n",
    "    df_stockprice,\n",
    "    on=[\"date\", \"symbol\"],\n",
    "    how=\"left\",\n",
    ")\n",
    "\n",
    "# Calculate the OHLC value of holding\n",
    "col_names = [\"open\", \"high\", \"low\", \"close\"]\n",
    "for col_name in col_names:\n",
    "    df_holding[f\"{col_name}_price\"] = df_holding[col_name]\n",
    "    df_holding[f\"{col_name}_amount\"] = (\n",
    "        df_holding[col_name] * df_holding[\"holding_quantity\"]\n",
    "    )\n",
    "\n",
    "# Forward fill the values to fill missing dates\n",
    "df_holding = df_holding.ffill()\n",
    "\n",
    "# Filter out rows with zero holding quantity\n",
    "df_holding = df_holding[df_holding[\"holding_quantity\"] != 0]"
   ]
  },
  {
   "cell_type": "code",
   "execution_count": 11,
   "metadata": {
    "execution": {
     "iopub.execute_input": "2024-11-22T04:08:29.026812Z",
     "iopub.status.busy": "2024-11-22T04:08:29.026529Z",
     "iopub.status.idle": "2024-11-22T04:08:29.103753Z",
     "shell.execute_reply": "2024-11-22T04:08:29.103240Z"
    }
   },
   "outputs": [
    {
     "name": "stdout",
     "output_type": "stream",
     "text": [
      "DataContract loaded from => /home/runner/work/PortfolioTracker/PortfolioTracker/CONFIG/DATA_CONTRACTS/GOLD/Holding.json\n"
     ]
    },
    {
     "name": "stdout",
     "output_type": "stream",
     "text": [
      "GOLD Layer CSV file for Holding successfully created at: /home/runner/work/PortfolioTracker/PortfolioTracker/DATA/GOLD/Holding/Holding_data.csv\n",
      "<class 'pandas.core.frame.DataFrame'>\n",
      "RangeIndex: 5847 entries, 0 to 5846\n",
      "Data columns (total 16 columns):\n",
      " #   Column            Non-Null Count  Dtype         \n",
      "---  ------            --------------  -----         \n",
      " 0   date              5847 non-null   datetime64[ns]\n",
      " 1   segment           5847 non-null   string        \n",
      " 2   exchange          5847 non-null   string        \n",
      " 3   symbol            5847 non-null   string        \n",
      " 4   scrip_name        5847 non-null   string        \n",
      " 5   holding_quantity  5847 non-null   float64       \n",
      " 6   avg_price         5847 non-null   float64       \n",
      " 7   holding_amount    5847 non-null   float64       \n",
      " 8   open_price        5847 non-null   float64       \n",
      " 9   open_amount       5847 non-null   float64       \n",
      " 10  high_price        5847 non-null   float64       \n",
      " 11  high_amount       5847 non-null   float64       \n",
      " 12  low_price         5847 non-null   float64       \n",
      " 13  low_amount        5847 non-null   float64       \n",
      " 14  close_price       5847 non-null   float64       \n",
      " 15  close_amount      5847 non-null   float64       \n",
      "dtypes: datetime64[ns](1), float64(11), string(4)\n",
      "memory usage: 731.0 KB\n"
     ]
    }
   ],
   "source": [
    "# Reset index to ensure it starts from 0\n",
    "df_holding = df_holding.reset_index(drop=True)\n",
    "\n",
    "# Align Datafame with DataContract\n",
    "df_holding = align_with_datacontract(df_holding, holding_gold_schema_file_path)\n",
    "\n",
    "# Save the final processed DataFrame to a new CSV file\n",
    "df_holding.to_csv(holding_gold_file_path, index=None)\n",
    "\n",
    "print(\n",
    "    f\"GOLD Layer CSV file for Holding successfully created at: {holding_gold_file_path}\"\n",
    ")\n",
    "\n",
    "# Display debugrmation about the final DataFrame\n",
    "df_holding.info()"
   ]
  },
  {
   "cell_type": "code",
   "execution_count": 12,
   "metadata": {
    "execution": {
     "iopub.execute_input": "2024-11-22T04:08:29.105707Z",
     "iopub.status.busy": "2024-11-22T04:08:29.105267Z",
     "iopub.status.idle": "2024-11-22T04:08:29.157800Z",
     "shell.execute_reply": "2024-11-22T04:08:29.157214Z"
    }
   },
   "outputs": [
    {
     "name": "stdout",
     "output_type": "stream",
     "text": [
      "Loaded data from => /home/runner/work/PortfolioTracker/PortfolioTracker/DATA/SILVER/Symbol/Symbol_data.csv\n",
      "DataContract loaded from => /home/runner/work/PortfolioTracker/PortfolioTracker/CONFIG/DATA_CONTRACTS/SOURCE/Holding.json\n",
      "GOLD Layer CSV file for Holding successfully created at: /home/runner/work/PortfolioTracker/PortfolioTracker/DATA/SOURCE/Holding/Holding_data.csv\n",
      "<class 'pandas.core.frame.DataFrame'>\n",
      "RangeIndex: 15 entries, 0 to 14\n",
      "Data columns (total 6 columns):\n",
      " #   Column    Non-Null Count  Dtype         \n",
      "---  ------    --------------  -----         \n",
      " 0   segment   15 non-null     string        \n",
      " 1   exchange  15 non-null     string        \n",
      " 2   symbol    15 non-null     string        \n",
      " 3   min_date  15 non-null     datetime64[ns]\n",
      " 4   max_date  15 non-null     datetime64[ns]\n",
      " 5   isin      15 non-null     string        \n",
      "dtypes: datetime64[ns](2), string(4)\n",
      "memory usage: 852.0 bytes\n"
     ]
    }
   ],
   "source": [
    "# Replace scrip code with scrip_name name\n",
    "df_symbol = pd.read_csv(symbol_silver_file_path)\n",
    "print(f\"Loaded data from => {symbol_silver_file_path}\")\n",
    "\n",
    "# Calculate the min and max dates for each stock\n",
    "df_holding = (\n",
    "    df_holding.groupby([\"segment\", \"exchange\", \"symbol\"])\n",
    "    .agg(min_date=(\"date\", \"min\"), max_date=(\"date\", \"max\"))\n",
    "    .reset_index()\n",
    ")\n",
    "\n",
    "# Merge df_HoldingHistory with df_Symbol on the matching columns\n",
    "df_holding = df_holding.merge(\n",
    "    df_symbol[[\"symbol\", \"isin\"]],\n",
    "    left_on=\"symbol\",\n",
    "    right_on=\"symbol\",\n",
    "    how=\"left\",\n",
    ")\n",
    "\n",
    "# Align Datafame with DataContract\n",
    "df_holding = align_with_datacontract(df_holding, holding_source_schema_file_path)\n",
    "\n",
    "# Save the final processed DataFrame to a new CSV file\n",
    "df_holding.to_csv(holding_source_layer_path, index=None)\n",
    "\n",
    "print(\n",
    "    f\"GOLD Layer CSV file for Holding successfully created at: {holding_source_layer_path}\"\n",
    ")\n",
    "\n",
    "# Display debugrmation about the final DataFrame\n",
    "df_holding.info()"
   ]
  }
 ],
 "metadata": {
  "kernelspec": {
   "display_name": "Python 3",
   "language": "python",
   "name": "python3"
  },
  "language_debug": {
   "codemirror_mode": {
    "name": "ipython",
    "version": 3
   },
   "file_extension": ".py",
   "mimetype": "text/x-python",
   "name": "python",
   "nbconvert_exporter": "python",
   "pygments_lexer": "ipython3",
   "version": "3.11.4"
  },
  "language_info": {
   "codemirror_mode": {
    "name": "ipython",
    "version": 3
   },
   "file_extension": ".py",
   "mimetype": "text/x-python",
   "name": "python",
   "nbconvert_exporter": "python",
   "pygments_lexer": "ipython3",
   "version": "3.12.7"
  }
 },
 "nbformat": 4,
 "nbformat_minor": 4
}
