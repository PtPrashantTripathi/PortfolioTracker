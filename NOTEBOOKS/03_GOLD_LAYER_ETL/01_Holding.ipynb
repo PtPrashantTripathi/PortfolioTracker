{
 "cells": [
  {
   "cell_type": "markdown",
   "metadata": {},
   "source": [
    "## SILVER TO GOLD LAYER\n",
    "\n",
    "### Gold Layer - Holding\n"
   ]
  },
  {
   "cell_type": "code",
   "execution_count": 1,
   "metadata": {
    "execution": {
     "iopub.execute_input": "2025-01-01T00:48:42.239954Z",
     "iopub.status.busy": "2025-01-01T00:48:42.239527Z",
     "iopub.status.idle": "2025-01-01T00:48:42.496567Z",
     "shell.execute_reply": "2025-01-01T00:48:42.496069Z"
    }
   },
   "outputs": [],
   "source": [
    "# Importing Common Utility Function\n",
    "import pandas as pd\n",
    "\n",
    "from StockETL import GlobalPath, Portfolio"
   ]
  },
  {
   "cell_type": "code",
   "execution_count": 2,
   "metadata": {
    "execution": {
     "iopub.execute_input": "2025-01-01T00:48:42.498875Z",
     "iopub.status.busy": "2025-01-01T00:48:42.498478Z",
     "iopub.status.idle": "2025-01-01T00:48:42.654782Z",
     "shell.execute_reply": "2025-01-01T00:48:42.654184Z"
    }
   },
   "outputs": [
    {
     "name": "stdout",
     "output_type": "stream",
     "text": [
      "USERNAME = 'ptprashanttripathi'\n"
     ]
    }
   ],
   "source": [
    "# Import necessary libraries and utility functions\n",
    "%run ../COMMON/common_utility.ipynb"
   ]
  },
  {
   "cell_type": "code",
   "execution_count": 3,
   "metadata": {
    "execution": {
     "iopub.execute_input": "2025-01-01T00:48:42.691565Z",
     "iopub.status.busy": "2025-01-01T00:48:42.691089Z",
     "iopub.status.idle": "2025-01-01T00:48:42.696409Z",
     "shell.execute_reply": "2025-01-01T00:48:42.695969Z"
    }
   },
   "outputs": [],
   "source": [
    "# Instantiate GlobalPath\n",
    "tradehistory_silver_file_path = GlobalPath(\n",
    "    f\"DATA/SILVER/TradeHistory/{USERNAME}/TradeHistory_data.csv\"\n",
    ")\n",
    "stockprice_silver_file_path = GlobalPath(\"DATA/SILVER/StockPrice/StockPrice_data.csv\")\n",
    "symbol_silver_file_path = GlobalPath(\"DATA/SILVER/Symbol/Symbol_data.csv\")\n",
    "\n",
    "current_holding_records_file_path = GlobalPath(\n",
    "    f\"DATA/GOLD/Holding/{USERNAME}/CurrentHolding_data.csv\"\n",
    ")\n",
    "current_holding_gold_schema_file_path = GlobalPath(\n",
    "    \"CONFIG/DATA_CONTRACTS/GOLD/CurrentHolding.json\"\n",
    ")\n",
    "\n",
    "holding_gold_file_path = GlobalPath(f\"DATA/GOLD/Holding/{USERNAME}/Holding_data.csv\")\n",
    "holding_gold_schema_file_path = GlobalPath(\"CONFIG/DATA_CONTRACTS/GOLD/Holding.json\")\n",
    "\n",
    "holding_source_layer_path = GlobalPath(\n",
    "    f\"DATA/SOURCE/Holding/{USERNAME}/Holding_data.csv\"\n",
    ")\n",
    "holding_source_schema_file_path = GlobalPath(\n",
    "    \"CONFIG/DATA_CONTRACTS/SOURCE/Holding.json\"\n",
    ")"
   ]
  },
  {
   "cell_type": "markdown",
   "metadata": {},
   "source": [
    "### Data Processing\n",
    "\n",
    "- Read and sort trade history data.\n",
    "- Apply portfolio trade logic.\n"
   ]
  },
  {
   "cell_type": "code",
   "execution_count": 4,
   "metadata": {
    "execution": {
     "iopub.execute_input": "2025-01-01T00:48:42.698241Z",
     "iopub.status.busy": "2025-01-01T00:48:42.697890Z",
     "iopub.status.idle": "2025-01-01T00:48:42.707272Z",
     "shell.execute_reply": "2025-01-01T00:48:42.706834Z"
    }
   },
   "outputs": [
    {
     "name": "stdout",
     "output_type": "stream",
     "text": [
      "Read SILVER Layer trade history data from => /home/runner/work/PortfolioTracker/PortfolioTracker/DATA/SILVER/TradeHistory/ptprashanttripathi/TradeHistory_data.csv\n"
     ]
    }
   ],
   "source": [
    "# Read the CSV file\n",
    "df_trade_history = pd.read_csv(tradehistory_silver_file_path)\n",
    "\n",
    "# Filter the DataFrame to include only rows where the segment is 'EQ' (Equity) or 'MF' (Mutual Funds)\n",
    "df_trade_history = df_trade_history[df_trade_history[\"segment\"].isin([\"EQ\", \"MF\"])]\n",
    "\n",
    "# Convert 'datetime' to datetime type\n",
    "df_trade_history[\"datetime\"] = pd.to_datetime(df_trade_history[\"datetime\"])\n",
    "\n",
    "# Sort the DataFrame by 'datetime'\n",
    "df_trade_history = df_trade_history.sort_values(by=\"datetime\")\n",
    "\n",
    "print(f\"Read SILVER Layer trade history data from => {tradehistory_silver_file_path}\")"
   ]
  },
  {
   "cell_type": "markdown",
   "metadata": {},
   "source": [
    "### Portfolio Logic Application\n",
    "\n",
    "- Instantiate Portfolio and apply trade logic.\n",
    "- Handle expired stocks\n"
   ]
  },
  {
   "cell_type": "code",
   "execution_count": 5,
   "metadata": {
    "execution": {
     "iopub.execute_input": "2025-01-01T00:48:42.709034Z",
     "iopub.status.busy": "2025-01-01T00:48:42.708688Z",
     "iopub.status.idle": "2025-01-01T00:48:42.715648Z",
     "shell.execute_reply": "2025-01-01T00:48:42.715117Z"
    }
   },
   "outputs": [],
   "source": [
    "# Apply the trade logic to each row of the DataFrame\n",
    "# Instantiate the Portfolio object\n",
    "portfolio = Portfolio()\n",
    "# .astype(str)\n",
    "for record in df_trade_history.to_dict(orient=\"records\"):\n",
    "    portfolio.trade(record)\n",
    "\n",
    "portfolio.check_expired_stocks()"
   ]
  },
  {
   "cell_type": "code",
   "execution_count": 6,
   "metadata": {
    "execution": {
     "iopub.execute_input": "2025-01-01T00:48:42.717523Z",
     "iopub.status.busy": "2025-01-01T00:48:42.717178Z",
     "iopub.status.idle": "2025-01-01T00:48:42.732360Z",
     "shell.execute_reply": "2025-01-01T00:48:42.731884Z"
    }
   },
   "outputs": [
    {
     "name": "stdout",
     "output_type": "stream",
     "text": [
      "DataContract loaded from => /home/runner/work/PortfolioTracker/PortfolioTracker/CONFIG/DATA_CONTRACTS/GOLD/CurrentHolding.json\n",
      "GOLD Layer CSV file for Current Holdings successfully created at =>\n",
      "/home/runner/work/PortfolioTracker/PortfolioTracker/DATA/GOLD/Holding/ptprashanttripathi/CurrentHolding_data.csv\n",
      "<class 'pandas.core.frame.DataFrame'>\n",
      "RangeIndex: 26 entries, 0 to 25\n",
      "Data columns (total 9 columns):\n",
      " #   Column      Non-Null Count  Dtype         \n",
      "---  ------      --------------  -----         \n",
      " 0   scrip_name  26 non-null     string        \n",
      " 1   symbol      26 non-null     string        \n",
      " 2   exchange    26 non-null     string        \n",
      " 3   segment     26 non-null     string        \n",
      " 4   datetime    26 non-null     datetime64[ns]\n",
      " 5   side        26 non-null     string        \n",
      " 6   quantity    26 non-null     float64       \n",
      " 7   price       26 non-null     float64       \n",
      " 8   amount      26 non-null     float64       \n",
      "dtypes: datetime64[ns](1), float64(3), string(5)\n",
      "memory usage: 2.0 KB\n"
     ]
    }
   ],
   "source": [
    "# Create a DataFrame from the processed data\n",
    "df_currentholding = pd.DataFrame(portfolio.get_current_holding())\n",
    "\n",
    "# Align Datafame with DataContract\n",
    "df_currentholding = align_with_datacontract(\n",
    "    df_currentholding, current_holding_gold_schema_file_path\n",
    ")\n",
    "\n",
    "# Save the final DataFrame to a CSV file\n",
    "df_currentholding.to_csv(current_holding_records_file_path, index=None)\n",
    "\n",
    "print(\"GOLD Layer CSV file for Current Holdings successfully created at =>\")\n",
    "print(current_holding_records_file_path)\n",
    "\n",
    "# Display the DataFrame debugrmation\n",
    "df_currentholding.info()"
   ]
  },
  {
   "cell_type": "markdown",
   "metadata": {},
   "source": [
    "### Final Processing and Export\n",
    "\n",
    "- Select and sort relevant columns.\n",
    "- Save the processed data as a CSV file in the Gold layer.\n"
   ]
  },
  {
   "cell_type": "code",
   "execution_count": 7,
   "metadata": {
    "execution": {
     "iopub.execute_input": "2025-01-01T00:48:42.734169Z",
     "iopub.status.busy": "2025-01-01T00:48:42.733822Z",
     "iopub.status.idle": "2025-01-01T00:48:42.739513Z",
     "shell.execute_reply": "2025-01-01T00:48:42.739080Z"
    }
   },
   "outputs": [],
   "source": [
    "# Create a DataFrame from the processed data\n",
    "df_holding = pd.DataFrame(portfolio.get_holding_history())\n",
    "\n",
    "# Extract date from datetime\n",
    "df_holding[\"date\"] = df_holding[\"datetime\"].dt.date\n",
    "\n",
    "# Find the index of the maximum datetime for each scrip_name and date\n",
    "idx = df_holding.groupby([\"scrip_name\", \"date\"])[\"datetime\"].idxmax()\n",
    "\n",
    "# Use the indices to filter the original DataFrame\n",
    "df_holding = df_holding.loc[idx].reset_index(drop=True)"
   ]
  },
  {
   "cell_type": "code",
   "execution_count": 8,
   "metadata": {
    "execution": {
     "iopub.execute_input": "2025-01-01T00:48:42.741232Z",
     "iopub.status.busy": "2025-01-01T00:48:42.740888Z",
     "iopub.status.idle": "2025-01-01T00:48:42.793904Z",
     "shell.execute_reply": "2025-01-01T00:48:42.793417Z"
    }
   },
   "outputs": [],
   "source": [
    "# Create a function to expand the date range for each stock\n",
    "\n",
    "\n",
    "def expand_dates(stock_df):\n",
    "    \"\"\"\n",
    "    Expands the date range for each stock to include all dates from the\n",
    "    minimum date to the current date and forward fills the missing values.\n",
    "\n",
    "    Parameters:\n",
    "    stock_df (pd.DataFrame): DataFrame containing stock data for a single stock.\n",
    "\n",
    "    Returns:\n",
    "    pd.DataFrame: DataFrame with expanded date range and forward-filled values.\n",
    "    \"\"\"\n",
    "    # Find the minimum date for this stock\n",
    "    min_date = stock_df[\"date\"].min()\n",
    "\n",
    "    # Create a date range from the minimum date to today\n",
    "    date_range = pd.date_range(start=min_date, end=pd.to_datetime(\"today\"))\n",
    "\n",
    "    # Reindex the stock_df to include the full date range\n",
    "    stock_df = stock_df.set_index(\"date\").reindex(date_range)\n",
    "\n",
    "    # Forward fill the values to fill missing dates\n",
    "    stock_df = stock_df.ffill().reset_index()\n",
    "\n",
    "    # Rename the 'index' column to 'date'\n",
    "    stock_df = stock_df.rename(columns={\"index\": \"date\"})\n",
    "\n",
    "    return stock_df\n",
    "\n",
    "\n",
    "# Apply the expand_dates function to each stock group\n",
    "df_holding = (\n",
    "    df_holding.groupby(\"scrip_name\")\n",
    "    .apply(expand_dates, include_groups=False)\n",
    "    .reset_index()\n",
    ")"
   ]
  },
  {
   "cell_type": "code",
   "execution_count": 9,
   "metadata": {
    "execution": {
     "iopub.execute_input": "2025-01-01T00:48:42.795764Z",
     "iopub.status.busy": "2025-01-01T00:48:42.795412Z",
     "iopub.status.idle": "2025-01-01T00:48:42.823697Z",
     "shell.execute_reply": "2025-01-01T00:48:42.823085Z"
    }
   },
   "outputs": [
    {
     "name": "stdout",
     "output_type": "stream",
     "text": [
      "Loaded SILVER Layer stock price data from => /home/runner/work/PortfolioTracker/PortfolioTracker/DATA/SILVER/StockPrice/StockPrice_data.csv\n",
      "<class 'pandas.core.frame.DataFrame'>\n",
      "RangeIndex: 32160 entries, 0 to 32159\n",
      "Data columns (total 7 columns):\n",
      " #   Column  Non-Null Count  Dtype         \n",
      "---  ------  --------------  -----         \n",
      " 0   date    32160 non-null  datetime64[ns]\n",
      " 1   symbol  32160 non-null  object        \n",
      " 2   open    32160 non-null  float64       \n",
      " 3   high    32160 non-null  float64       \n",
      " 4   low     32160 non-null  float64       \n",
      " 5   close   32160 non-null  float64       \n",
      " 6   volume  29653 non-null  float64       \n",
      "dtypes: datetime64[ns](1), float64(5), object(1)\n",
      "memory usage: 1.7+ MB\n"
     ]
    }
   ],
   "source": [
    "# Load stock prices data from the specified CSV file path\n",
    "df_stockprice = pd.read_csv(stockprice_silver_file_path)\n",
    "print(f\"Loaded SILVER Layer stock price data from => {stockprice_silver_file_path}\")\n",
    "\n",
    "# Convert the 'date' column in stock prices to datetime type for consistency\n",
    "df_stockprice[\"date\"] = pd.to_datetime(df_stockprice[\"date\"])\n",
    "df_stockprice.info()"
   ]
  },
  {
   "cell_type": "code",
   "execution_count": 10,
   "metadata": {
    "execution": {
     "iopub.execute_input": "2025-01-01T00:48:42.825764Z",
     "iopub.status.busy": "2025-01-01T00:48:42.825383Z",
     "iopub.status.idle": "2025-01-01T00:48:42.852151Z",
     "shell.execute_reply": "2025-01-01T00:48:42.851667Z"
    }
   },
   "outputs": [],
   "source": [
    "# Merge the expanded holding data with the stock price data\n",
    "df_holding = pd.merge(\n",
    "    df_holding,\n",
    "    df_stockprice,\n",
    "    on=[\"date\", \"symbol\"],\n",
    "    how=\"left\",\n",
    ")\n",
    "\n",
    "# Calculate the OHLC value of holding\n",
    "col_names = [\"open\", \"high\", \"low\", \"close\"]\n",
    "for col_name in col_names:\n",
    "    df_holding[f\"{col_name}_price\"] = df_holding[col_name]\n",
    "    df_holding[f\"{col_name}_amount\"] = (\n",
    "        df_holding[col_name] * df_holding[\"holding_quantity\"]\n",
    "    )\n",
    "\n",
    "# Forward fill the values to fill missing dates\n",
    "df_holding = df_holding.ffill()\n",
    "\n",
    "# Filter out rows with zero holding quantity\n",
    "df_holding = df_holding[df_holding[\"holding_quantity\"] != 0]"
   ]
  },
  {
   "cell_type": "code",
   "execution_count": 11,
   "metadata": {
    "execution": {
     "iopub.execute_input": "2025-01-01T00:48:42.854186Z",
     "iopub.status.busy": "2025-01-01T00:48:42.853805Z",
     "iopub.status.idle": "2025-01-01T00:48:42.943496Z",
     "shell.execute_reply": "2025-01-01T00:48:42.942889Z"
    }
   },
   "outputs": [
    {
     "name": "stdout",
     "output_type": "stream",
     "text": [
      "DataContract loaded from => /home/runner/work/PortfolioTracker/PortfolioTracker/CONFIG/DATA_CONTRACTS/GOLD/Holding.json\n"
     ]
    },
    {
     "name": "stdout",
     "output_type": "stream",
     "text": [
      "GOLD Layer CSV file for Holding successfully created at: /home/runner/work/PortfolioTracker/PortfolioTracker/DATA/GOLD/Holding/ptprashanttripathi/Holding_data.csv\n",
      "<class 'pandas.core.frame.DataFrame'>\n",
      "RangeIndex: 6943 entries, 0 to 6942\n",
      "Data columns (total 16 columns):\n",
      " #   Column            Non-Null Count  Dtype         \n",
      "---  ------            --------------  -----         \n",
      " 0   date              6943 non-null   datetime64[ns]\n",
      " 1   segment           6943 non-null   string        \n",
      " 2   exchange          6943 non-null   string        \n",
      " 3   symbol            6943 non-null   string        \n",
      " 4   scrip_name        6943 non-null   string        \n",
      " 5   holding_quantity  6943 non-null   float64       \n",
      " 6   avg_price         6943 non-null   float64       \n",
      " 7   holding_amount    6943 non-null   float64       \n",
      " 8   open_price        6940 non-null   float64       \n",
      " 9   open_amount       6940 non-null   float64       \n",
      " 10  high_price        6940 non-null   float64       \n",
      " 11  high_amount       6940 non-null   float64       \n",
      " 12  low_price         6940 non-null   float64       \n",
      " 13  low_amount        6940 non-null   float64       \n",
      " 14  close_price       6940 non-null   float64       \n",
      " 15  close_amount      6940 non-null   float64       \n",
      "dtypes: datetime64[ns](1), float64(11), string(4)\n",
      "memory usage: 868.0 KB\n"
     ]
    }
   ],
   "source": [
    "# Reset index to ensure it starts from 0\n",
    "df_holding = df_holding.reset_index(drop=True)\n",
    "\n",
    "# Align Datafame with DataContract\n",
    "df_holding = align_with_datacontract(df_holding, holding_gold_schema_file_path)\n",
    "\n",
    "# Save the final processed DataFrame to a new CSV file\n",
    "df_holding.to_csv(holding_gold_file_path, index=None)\n",
    "\n",
    "print(\n",
    "    f\"GOLD Layer CSV file for Holding successfully created at: {holding_gold_file_path}\"\n",
    ")\n",
    "\n",
    "# Display debugrmation about the final DataFrame\n",
    "df_holding.info()"
   ]
  },
  {
   "cell_type": "code",
   "execution_count": 12,
   "metadata": {
    "execution": {
     "iopub.execute_input": "2025-01-01T00:48:42.945393Z",
     "iopub.status.busy": "2025-01-01T00:48:42.945032Z",
     "iopub.status.idle": "2025-01-01T00:48:42.995775Z",
     "shell.execute_reply": "2025-01-01T00:48:42.995278Z"
    }
   },
   "outputs": [
    {
     "name": "stdout",
     "output_type": "stream",
     "text": [
      "Loaded data from => /home/runner/work/PortfolioTracker/PortfolioTracker/DATA/SILVER/Symbol/Symbol_data.csv\n",
      "DataContract loaded from => /home/runner/work/PortfolioTracker/PortfolioTracker/CONFIG/DATA_CONTRACTS/SOURCE/Holding.json\n",
      "GOLD Layer CSV file for Holding successfully created at: /home/runner/work/PortfolioTracker/PortfolioTracker/DATA/SOURCE/Holding/ptprashanttripathi/Holding_data.csv\n",
      "<class 'pandas.core.frame.DataFrame'>\n",
      "RangeIndex: 21 entries, 0 to 20\n",
      "Data columns (total 6 columns):\n",
      " #   Column    Non-Null Count  Dtype         \n",
      "---  ------    --------------  -----         \n",
      " 0   segment   21 non-null     string        \n",
      " 1   exchange  21 non-null     string        \n",
      " 2   symbol    21 non-null     string        \n",
      " 3   min_date  21 non-null     datetime64[ns]\n",
      " 4   max_date  21 non-null     datetime64[ns]\n",
      " 5   isin      21 non-null     string        \n",
      "dtypes: datetime64[ns](2), string(4)\n",
      "memory usage: 1.1 KB\n"
     ]
    }
   ],
   "source": [
    "# Replace scrip code with scrip_name name\n",
    "df_symbol = pd.read_csv(symbol_silver_file_path)\n",
    "print(f\"Loaded data from => {symbol_silver_file_path}\")\n",
    "\n",
    "# Calculate the min and max dates for each stock\n",
    "df_holding = (\n",
    "    df_holding.groupby([\"segment\", \"exchange\", \"symbol\"])\n",
    "    .agg(min_date=(\"date\", \"min\"), max_date=(\"date\", \"max\"))\n",
    "    .reset_index()\n",
    ")\n",
    "\n",
    "# Merge df_HoldingHistory with df_Symbol on the matching columns\n",
    "df_holding = df_holding.merge(\n",
    "    df_symbol[[\"symbol\", \"isin\"]],\n",
    "    left_on=\"symbol\",\n",
    "    right_on=\"symbol\",\n",
    "    how=\"left\",\n",
    ")\n",
    "\n",
    "# Align Datafame with DataContract\n",
    "df_holding = align_with_datacontract(df_holding, holding_source_schema_file_path)\n",
    "\n",
    "# Save the final processed DataFrame to a new CSV file\n",
    "df_holding.to_csv(holding_source_layer_path, index=None)\n",
    "\n",
    "print(\n",
    "    f\"GOLD Layer CSV file for Holding successfully created at: {holding_source_layer_path}\"\n",
    ")\n",
    "\n",
    "# Display debugrmation about the final DataFrame\n",
    "df_holding.info()"
   ]
  }
 ],
 "metadata": {
  "kernelspec": {
   "display_name": "Python 3",
   "language": "python",
   "name": "python3"
  },
  "language_debug": {
   "codemirror_mode": {
    "name": "ipython",
    "version": 3
   },
   "file_extension": ".py",
   "mimetype": "text/x-python",
   "name": "python",
   "nbconvert_exporter": "python",
   "pygments_lexer": "ipython3",
   "version": "3.11.4"
  },
  "language_info": {
   "codemirror_mode": {
    "name": "ipython",
    "version": 3
   },
   "file_extension": ".py",
   "mimetype": "text/x-python",
   "name": "python",
   "nbconvert_exporter": "python",
   "pygments_lexer": "ipython3",
   "version": "3.12.8"
  }
 },
 "nbformat": 4,
 "nbformat_minor": 4
}
