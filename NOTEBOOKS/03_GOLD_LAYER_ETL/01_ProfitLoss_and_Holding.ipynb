{
 "cells": [
  {
   "cell_type": "markdown",
   "metadata": {},
   "source": [
    "## SILVER TO GOLD LAYER\n",
    "\n",
    "### Gold Layer - Trade History\n"
   ]
  },
  {
   "cell_type": "code",
   "execution_count": 2,
   "metadata": {},
   "outputs": [],
   "source": [
    "## Import necessary libraries and utility functions\n",
    "import pandas as pd\n",
    "\n",
    "from PortfolioTracker.globalpath import global_path\n",
    "from PortfolioTracker.logger import logger\n",
    "from PortfolioTracker.portfolio import Portfolio"
   ]
  },
  {
   "cell_type": "markdown",
   "metadata": {},
   "source": [
    "### Data Processing\n",
    "\n",
    "- Read and sort trade history data.\n",
    "- Apply portfolio trade logic.\n"
   ]
  },
  {
   "cell_type": "code",
   "execution_count": 3,
   "metadata": {},
   "outputs": [
    {
     "name": "stderr",
     "output_type": "stream",
     "text": [
      "2024-08-10T03:37:44Z - INFO - Read SILVER Layer trade history data from: C:\\Users\\prashant.tripathi\\Code\\PortfolioTracker\\DATA\\SILVER\\TradeHistory\\TradeHistory_data.csv\n"
     ]
    }
   ],
   "source": [
    "# Read the CSV file\n",
    "df_trade_history = pd.read_csv(global_path.tradehistory_silver_file_path)\n",
    "\n",
    "# Convert 'datetime' to datetime type\n",
    "df_trade_history[\"datetime\"] = pd.to_datetime(df_trade_history[\"datetime\"])\n",
    "\n",
    "# Sort the DataFrame by 'datetime'\n",
    "df_trade_history = df_trade_history.sort_values(by=\"datetime\")\n",
    "\n",
    "logger.info(\n",
    "    f\"Read SILVER Layer trade history data from: {global_path.tradehistory_silver_file_path}\"\n",
    ")"
   ]
  },
  {
   "cell_type": "markdown",
   "metadata": {},
   "source": [
    "### Portfolio Logic Application\n",
    "\n",
    "- Instantiate Portfolio and apply trade logic.\n",
    "- Handle expired stocks\n"
   ]
  },
  {
   "cell_type": "code",
   "execution_count": 4,
   "metadata": {},
   "outputs": [
    {
     "name": "stderr",
     "output_type": "stream",
     "text": [
      "2024-08-10T03:37:44Z - INFO - NIFTY-PE-24650-18JUL2024 => 100.0 expired\n",
      "2024-08-10T03:37:44Z - INFO - NIFTY-CE-25000-08AUG2024 => 25.0 expired\n"
     ]
    }
   ],
   "source": [
    "# Apply the trade logic to each row of the DataFrame\n",
    "# Instantiate the Portfolio object\n",
    "portfolio = Portfolio()\n",
    "for record in df_trade_history.astype(str).to_dict(orient=\"records\"):\n",
    "    portfolio.trade(record)\n",
    "\n",
    "portfolio.check_expired_stocks()\n",
    "# expired_stocks example : df_trade_history[\"stock_name\"] == \"NIFTY-PE-24650-18JUL2024\""
   ]
  },
  {
   "cell_type": "markdown",
   "metadata": {},
   "source": [
    "### Final Processing and Export\n",
    "\n",
    "- Select and sort relevant columns.\n",
    "- Save the processed data as a CSV file in the Gold layer.\n"
   ]
  },
  {
   "cell_type": "code",
   "execution_count": 5,
   "metadata": {},
   "outputs": [
    {
     "name": "stderr",
     "output_type": "stream",
     "text": [
      "2024-08-10T03:37:44Z - INFO - GOLD Layer CSV file for ProfitLoss successfully created at:\n",
      "2024-08-10T03:37:44Z - INFO - C:\\Users\\prashant.tripathi\\Code\\PortfolioTracker\\DATA\\GOLD\\ProfitLoss\\ProfitLoss_data.csv\n"
     ]
    },
    {
     "name": "stdout",
     "output_type": "stream",
     "text": [
      "<class 'pandas.core.frame.DataFrame'>\n",
      "RangeIndex: 128 entries, 0 to 127\n",
      "Data columns (total 16 columns):\n",
      " #   Column          Non-Null Count  Dtype         \n",
      "---  ------          --------------  -----         \n",
      " 0   exchange        128 non-null    object        \n",
      " 1   segment         128 non-null    object        \n",
      " 2   symbol          0 non-null      object        \n",
      " 3   stock_name      128 non-null    object        \n",
      " 4   position        128 non-null    object        \n",
      " 5   quantity        128 non-null    float64       \n",
      " 6   open_datetime   128 non-null    datetime64[ns]\n",
      " 7   open_side       128 non-null    object        \n",
      " 8   open_price      128 non-null    float64       \n",
      " 9   open_amount     128 non-null    float64       \n",
      " 10  close_datetime  128 non-null    datetime64[ns]\n",
      " 11  close_side      128 non-null    object        \n",
      " 12  close_price     128 non-null    float64       \n",
      " 13  close_amount    128 non-null    float64       \n",
      " 14  pnl_amount      128 non-null    float64       \n",
      " 15  pnl_percentage  128 non-null    float64       \n",
      "dtypes: datetime64[ns](2), float64(7), object(7)\n",
      "memory usage: 16.1+ KB\n"
     ]
    }
   ],
   "source": [
    "# Create a DataFrame from the processed data\n",
    "df_pnl = pd.DataFrame(portfolio.get_pnl())\n",
    "\n",
    "# Sort the DataFrame\n",
    "df_pnl = df_pnl.sort_values(\n",
    "    by=[\n",
    "        \"exchange\",\n",
    "        \"segment\",\n",
    "        \"symbol\",\n",
    "        \"stock_name\",\n",
    "        \"close_datetime\",\n",
    "        \"open_datetime\",\n",
    "    ]\n",
    ")\n",
    "\n",
    "# Round the values in to two decimal places\n",
    "df_pnl = df_pnl.round(2)\n",
    "\n",
    "# Reset index to ensure it starts from 0\n",
    "df_pnl = df_pnl.reset_index(drop=True)\n",
    "\n",
    "# Select and reorder the columns for the final DataFrame\n",
    "df_pnl = df_pnl[\n",
    "    [\n",
    "        \"exchange\",\n",
    "        \"segment\",\n",
    "        \"symbol\",\n",
    "        \"stock_name\",\n",
    "        \"position\",\n",
    "        \"quantity\",\n",
    "        \"open_datetime\",\n",
    "        \"open_side\",\n",
    "        \"open_price\",\n",
    "        \"open_amount\",\n",
    "        \"close_datetime\",\n",
    "        \"close_side\",\n",
    "        \"close_price\",\n",
    "        \"close_amount\",\n",
    "        \"pnl_amount\",\n",
    "        \"pnl_percentage\",\n",
    "    ]\n",
    "]\n",
    "\n",
    "# Save the final DataFrame to a CSV file\n",
    "df_pnl.to_csv(global_path.profitloss_gold_file_path, index=None)\n",
    "\n",
    "logger.info(\"GOLD Layer CSV file for ProfitLoss successfully created at:\")\n",
    "logger.info(global_path.profitloss_gold_file_path.resolve())\n",
    "\n",
    "# Display the DataFrame information\n",
    "df_pnl.info()"
   ]
  },
  {
   "cell_type": "code",
   "execution_count": 6,
   "metadata": {},
   "outputs": [],
   "source": [
    "# Create a DataFrame from the processed data\n",
    "df_holdings = pd.DataFrame(portfolio.get_holdings())\n",
    "\n",
    "# Filter the DataFrame to include only rows where the segment is 'EQ' (Equity) or 'MF' (Mutual Funds)\n",
    "df_holdings = df_holdings[df_holdings[\"segment\"].isin([\"EQ\", \"MF\"])]\n",
    "\n",
    "# Round the values in the columns to two decimal places\n",
    "df_holdings = df_holdings.round(2)\n",
    "\n",
    "# Extract date from datetime\n",
    "df_holdings[\"date\"] = df_holdings[\"datetime\"].dt.date\n",
    "\n",
    "# Find the index of the maximum datetime for each stock_name and date\n",
    "idx = df_holdings.groupby([\"stock_name\", \"date\"])[\"datetime\"].idxmax()\n",
    "\n",
    "# Use the indices to filter the original DataFrame\n",
    "df_holdings = df_holdings.loc[idx].reset_index(drop=True)"
   ]
  },
  {
   "cell_type": "code",
   "execution_count": 7,
   "metadata": {},
   "outputs": [],
   "source": [
    "# Create a function to expand the date range for each stock\n",
    "\n",
    "\n",
    "def expand_dates(stock_df):\n",
    "    \"\"\"\n",
    "    Expands the date range for each stock to include all dates from the\n",
    "    minimum date to the current date and forward fills the missing values.\n",
    "\n",
    "    Parameters:\n",
    "    stock_df (pd.DataFrame): DataFrame containing stock data for a single stock.\n",
    "\n",
    "    Returns:\n",
    "    pd.DataFrame: DataFrame with expanded date range and forward-filled values.\n",
    "    \"\"\"\n",
    "    # Find the minimum date for this stock\n",
    "    min_date = stock_df[\"date\"].min()\n",
    "\n",
    "    # Create a date range from the minimum date to today\n",
    "    date_range = pd.date_range(start=min_date, end=pd.to_datetime(\"today\"))\n",
    "\n",
    "    # Reindex the stock_df to include the full date range\n",
    "    stock_df = stock_df.set_index(\"date\").reindex(date_range)\n",
    "\n",
    "    # Forward fill the values to fill missing dates\n",
    "    stock_df = stock_df.ffill().reset_index()\n",
    "\n",
    "    # Rename the 'index' column to 'date'\n",
    "    stock_df = stock_df.rename(columns={\"index\": \"date\"})\n",
    "\n",
    "    return stock_df\n",
    "\n",
    "\n",
    "# Apply the expand_dates function to each stock group\n",
    "df_holdings = (\n",
    "    df_holdings.groupby(\"stock_name\")\n",
    "    .apply(expand_dates, include_groups=False)\n",
    "    .reset_index()\n",
    ")"
   ]
  },
  {
   "cell_type": "code",
   "execution_count": 8,
   "metadata": {},
   "outputs": [
    {
     "name": "stderr",
     "output_type": "stream",
     "text": [
      "2024-08-10T03:37:44Z - INFO - Loaded SILVER Layer stock price data from: C:\\Users\\prashant.tripathi\\Code\\PortfolioTracker\\DATA\\SILVER\\StockPrice\\StockPrice_data.csv\n"
     ]
    }
   ],
   "source": [
    "# Load stock prices data from the specified CSV file path\n",
    "df_StockPrice = pd.read_csv(global_path.stockprice_silver_file_path)\n",
    "\n",
    "# Convert the 'date' column in stock prices to datetime type for consistency\n",
    "df_StockPrice[\"date\"] = pd.to_datetime(df_StockPrice[\"date\"])\n",
    "\n",
    "logger.info(\n",
    "    f\"Loaded SILVER Layer stock price data from: {global_path.stockprice_silver_file_path}\"\n",
    ")\n",
    "\n",
    "# Merge the expanded holdings data with the stock price data\n",
    "df_holdings = pd.merge(\n",
    "    df_holdings,\n",
    "    df_StockPrice,\n",
    "    on=[\"date\", \"stock_name\"],\n",
    "    how=\"left\",\n",
    ")"
   ]
  },
  {
   "cell_type": "code",
   "execution_count": 9,
   "metadata": {},
   "outputs": [],
   "source": [
    "# Calculate the OHLC value of holdings\n",
    "col_names = [\"open\", \"high\", \"low\", \"close\"]\n",
    "for col_name in col_names:\n",
    "    df_holdings[f\"{col_name}_price\"] = df_holdings[col_name]\n",
    "    df_holdings[f\"{col_name}_amount\"] = (\n",
    "        df_holdings[col_name] * df_holdings[\"holding_quantity\"]\n",
    "    )\n",
    "\n",
    "# Forward fill the values to fill missing dates\n",
    "df_holdings = df_holdings.ffill()\n",
    "\n",
    "# Filter out rows with zero holding quantity\n",
    "df_holdings = df_holdings[df_holdings[\"holding_quantity\"] != 0]\n",
    "\n",
    "# Round the values in to two decimal places\n",
    "df_holdings = df_holdings.round(2)"
   ]
  },
  {
   "cell_type": "code",
   "execution_count": 10,
   "metadata": {},
   "outputs": [
    {
     "name": "stderr",
     "output_type": "stream",
     "text": [
      "2024-08-10T03:37:45Z - INFO - GOLD Layer CSV file for Holdings successfully created at:\n",
      "2024-08-10T03:37:45Z - INFO - C:\\Users\\prashant.tripathi\\Code\\PortfolioTracker\\DATA\\GOLD\\Holdings\\Holdings_data.csv\n"
     ]
    },
    {
     "name": "stdout",
     "output_type": "stream",
     "text": [
      "<class 'pandas.core.frame.DataFrame'>\n",
      "RangeIndex: 5923 entries, 0 to 5922\n",
      "Data columns (total 16 columns):\n",
      " #   Column            Non-Null Count  Dtype         \n",
      "---  ------            --------------  -----         \n",
      " 0   date              5923 non-null   datetime64[ns]\n",
      " 1   segment           5923 non-null   object        \n",
      " 2   exchange          5923 non-null   object        \n",
      " 3   symbol            5923 non-null   object        \n",
      " 4   stock_name        5923 non-null   object        \n",
      " 5   holding_quantity  5923 non-null   float64       \n",
      " 6   avg_price         5923 non-null   float64       \n",
      " 7   holding_amount    5923 non-null   float64       \n",
      " 8   open_price        5923 non-null   float64       \n",
      " 9   open_amount       5923 non-null   float64       \n",
      " 10  high_price        5923 non-null   float64       \n",
      " 11  high_amount       5923 non-null   float64       \n",
      " 12  low_price         5923 non-null   float64       \n",
      " 13  low_amount        5923 non-null   float64       \n",
      " 14  close_price       5923 non-null   float64       \n",
      " 15  close_amount      5923 non-null   float64       \n",
      "dtypes: datetime64[ns](1), float64(11), object(4)\n",
      "memory usage: 740.5+ KB\n"
     ]
    }
   ],
   "source": [
    "# Sort the DataFrame for organized output\n",
    "df_holdings = df_holdings.sort_values(\n",
    "    by=[\n",
    "        \"date\",\n",
    "        \"exchange\",\n",
    "        \"segment\",\n",
    "        \"symbol\",\n",
    "        \"stock_name\",\n",
    "    ]\n",
    ")\n",
    "\n",
    "# Reset index to ensure it starts from 0\n",
    "df_holdings = df_holdings.reset_index(drop=True)\n",
    "\n",
    "# Select and reorder the columns for the final DataFrame\n",
    "df_holdings = df_holdings[\n",
    "    [\n",
    "        \"date\",\n",
    "        \"segment\",\n",
    "        \"exchange\",\n",
    "        \"symbol\",\n",
    "        \"stock_name\",\n",
    "        \"holding_quantity\",\n",
    "        \"avg_price\",\n",
    "        \"holding_amount\",\n",
    "        \"open_price\",\n",
    "        \"open_amount\",\n",
    "        \"high_price\",\n",
    "        \"high_amount\",\n",
    "        \"low_price\",\n",
    "        \"low_amount\",\n",
    "        \"close_price\",\n",
    "        \"close_amount\",\n",
    "    ]\n",
    "]\n",
    "\n",
    "# Save the final processed DataFrame to a new CSV file\n",
    "df_holdings.to_csv(global_path.holdings_gold_file_path, index=None)\n",
    "\n",
    "logger.info(\"GOLD Layer CSV file for Holdings successfully created at:\")\n",
    "logger.info(global_path.holdings_gold_file_path.resolve())\n",
    "\n",
    "# Display information about the final DataFrame\n",
    "df_holdings.info()"
   ]
  }
 ],
 "metadata": {
  "kernelspec": {
   "display_name": "Python 3 (ipykernel)",
   "language": "python",
   "name": "python3"
  },
  "language_info": {
   "codemirror_mode": {
    "name": "ipython",
    "version": 3
   },
   "file_extension": ".py",
   "mimetype": "text/x-python",
   "name": "python",
   "nbconvert_exporter": "python",
   "pygments_lexer": "ipython3",
   "version": "3.11.4"
  }
 },
 "nbformat": 4,
 "nbformat_minor": 4
}
