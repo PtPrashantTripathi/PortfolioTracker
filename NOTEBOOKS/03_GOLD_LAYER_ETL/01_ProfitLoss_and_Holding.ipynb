{
 "cells": [
  {
   "cell_type": "markdown",
   "metadata": {},
   "source": [
    "## SILVER TO GOLD LAYER\n",
    "\n",
    "### Gold Layer - Trade History\n"
   ]
  },
  {
   "cell_type": "code",
   "execution_count": 11,
   "metadata": {
    "execution": {
     "iopub.execute_input": "2024-08-19T14:11:14.731695Z",
     "iopub.status.busy": "2024-08-19T14:11:14.731695Z",
     "iopub.status.idle": "2024-08-19T14:11:16.109614Z",
     "shell.execute_reply": "2024-08-19T14:11:16.109614Z"
    }
   },
   "outputs": [],
   "source": [
    "## Import necessary libraries and utility functions\n",
    "import pandas as pd\n",
    "\n",
    "from PortfolioTracker.GlobalPath import GlobalPath\n",
    "from PortfolioTracker.Portfolio import Portfolio"
   ]
  },
  {
   "cell_type": "code",
   "execution_count": 12,
   "metadata": {
    "execution": {
     "iopub.execute_input": "2024-08-19T14:11:16.109614Z",
     "iopub.status.busy": "2024-08-19T14:11:16.109614Z",
     "iopub.status.idle": "2024-08-19T14:11:16.127679Z",
     "shell.execute_reply": "2024-08-19T14:11:16.127679Z"
    }
   },
   "outputs": [],
   "source": [
    "# Instantiate GlobalPath\n",
    "global_path = GlobalPath(\"PortfolioTracker\")\n",
    "# GLOBAL PATH\n",
    "tradehistory_silver_file_path = global_path.joinpath(\n",
    "    \"DATA/SILVER/TradeHistory/TradeHistory_data.csv\"\n",
    ")\n",
    "profitloss_gold_file_path = global_path.joinpath(\n",
    "    \"DATA/GOLD/ProfitLoss/ProfitLoss_data.csv\"\n",
    ")\n",
    "stockprice_silver_file_path = global_path.joinpath(\n",
    "    \"DATA/SILVER/StockPrice/StockPrice_data.csv\"\n",
    ")\n",
    "holdings_gold_file_path = global_path.joinpath(\n",
    "    \"DATA/GOLD/Holdings/Holdings_data.csv\"\n",
    ")"
   ]
  },
  {
   "cell_type": "markdown",
   "metadata": {},
   "source": [
    "### Data Processing\n",
    "\n",
    "- Read and sort trade history data.\n",
    "- Apply portfolio trade logic.\n"
   ]
  },
  {
   "cell_type": "code",
   "execution_count": 13,
   "metadata": {
    "execution": {
     "iopub.execute_input": "2024-08-19T14:11:16.127679Z",
     "iopub.status.busy": "2024-08-19T14:11:16.127679Z",
     "iopub.status.idle": "2024-08-19T14:11:16.156679Z",
     "shell.execute_reply": "2024-08-19T14:11:16.155671Z"
    }
   },
   "outputs": [
    {
     "name": "stdout",
     "output_type": "stream",
     "text": [
      "Read SILVER Layer trade history data from: ..\\..\\DATA\\SILVER\\TradeHistory\\TradeHistory_data.csv\n"
     ]
    }
   ],
   "source": [
    "# Read the CSV file\n",
    "df_trade_history = pd.read_csv(tradehistory_silver_file_path)\n",
    "\n",
    "# Convert 'datetime' to datetime type\n",
    "df_trade_history[\"datetime\"] = pd.to_datetime(df_trade_history[\"datetime\"])\n",
    "\n",
    "# Sort the DataFrame by 'datetime'\n",
    "df_trade_history = df_trade_history.sort_values(by=\"datetime\")\n",
    "\n",
    "print(\n",
    "    f\"Read SILVER Layer trade history data from: {tradehistory_silver_file_path}\"\n",
    ")"
   ]
  },
  {
   "cell_type": "markdown",
   "metadata": {},
   "source": [
    "### Portfolio Logic Application\n",
    "\n",
    "- Instantiate Portfolio and apply trade logic.\n",
    "- Handle expired stocks\n"
   ]
  },
  {
   "cell_type": "code",
   "execution_count": 14,
   "metadata": {
    "execution": {
     "iopub.execute_input": "2024-08-19T14:11:16.163689Z",
     "iopub.status.busy": "2024-08-19T14:11:16.163689Z",
     "iopub.status.idle": "2024-08-19T14:11:16.222546Z",
     "shell.execute_reply": "2024-08-19T14:11:16.222546Z"
    }
   },
   "outputs": [
    {
     "name": "stdout",
     "output_type": "stream",
     "text": [
      "NIFTY-PE-24650-18JUL2024 => 100.0 expired\n",
      "NIFTY-CE-25000-08AUG2024 => 25.0 expired\n"
     ]
    }
   ],
   "source": [
    "# Apply the trade logic to each row of the DataFrame\n",
    "# Instantiate the Portfolio object\n",
    "portfolio = Portfolio()\n",
    "for record in df_trade_history.astype(str).to_dict(orient=\"records\"):\n",
    "    portfolio.trade(record)\n",
    "\n",
    "portfolio.check_expired_stocks()\n",
    "# expired_stocks example : df_trade_history[\"stock_name\"] == \"NIFTY-PE-24650-18JUL2024\""
   ]
  },
  {
   "cell_type": "markdown",
   "metadata": {},
   "source": [
    "### Final Processing and Export\n",
    "\n",
    "- Select and sort relevant columns.\n",
    "- Save the processed data as a CSV file in the Gold layer.\n"
   ]
  },
  {
   "cell_type": "code",
   "execution_count": 15,
   "metadata": {
    "execution": {
     "iopub.execute_input": "2024-08-19T14:11:16.222546Z",
     "iopub.status.busy": "2024-08-19T14:11:16.222546Z",
     "iopub.status.idle": "2024-08-19T14:11:16.276385Z",
     "shell.execute_reply": "2024-08-19T14:11:16.276385Z"
    }
   },
   "outputs": [
    {
     "name": "stdout",
     "output_type": "stream",
     "text": [
      "GOLD Layer CSV file for ProfitLoss successfully created at:\n",
      "..\\..\\DATA\\GOLD\\ProfitLoss\\ProfitLoss_data.csv\n",
      "<class 'pandas.core.frame.DataFrame'>\n",
      "RangeIndex: 133 entries, 0 to 132\n",
      "Data columns (total 16 columns):\n",
      " #   Column          Non-Null Count  Dtype         \n",
      "---  ------          --------------  -----         \n",
      " 0   exchange        133 non-null    object        \n",
      " 1   segment         133 non-null    object        \n",
      " 2   symbol          133 non-null    object        \n",
      " 3   stock_name      133 non-null    object        \n",
      " 4   position        133 non-null    object        \n",
      " 5   quantity        133 non-null    float64       \n",
      " 6   open_datetime   133 non-null    datetime64[ns]\n",
      " 7   open_side       133 non-null    object        \n",
      " 8   open_price      133 non-null    float64       \n",
      " 9   open_amount     133 non-null    float64       \n",
      " 10  close_datetime  133 non-null    datetime64[ns]\n",
      " 11  close_side      133 non-null    object        \n",
      " 12  close_price     133 non-null    float64       \n",
      " 13  close_amount    133 non-null    float64       \n",
      " 14  pnl_amount      133 non-null    float64       \n",
      " 15  pnl_percentage  133 non-null    float64       \n",
      "dtypes: datetime64[ns](2), float64(7), object(7)\n",
      "memory usage: 16.8+ KB\n"
     ]
    }
   ],
   "source": [
    "# Create a DataFrame from the processed data\n",
    "df_pnl = pd.DataFrame(portfolio.get_pnl())\n",
    "\n",
    "# Sort the DataFrame\n",
    "df_pnl = df_pnl.sort_values(\n",
    "    by=[\n",
    "        \"segment\",\n",
    "        \"exchange\",\n",
    "        \"symbol\",\n",
    "        \"stock_name\",\n",
    "        \"close_datetime\",\n",
    "        \"open_datetime\",\n",
    "    ]\n",
    ")\n",
    "\n",
    "# Round the values in to two decimal places\n",
    "df_pnl = df_pnl.round(2)\n",
    "\n",
    "# Reset index to ensure it starts from 0\n",
    "df_pnl = df_pnl.reset_index(drop=True)\n",
    "\n",
    "# Select and reorder the columns for the final DataFrame\n",
    "df_pnl = df_pnl[\n",
    "    [\n",
    "        \"exchange\",\n",
    "        \"segment\",\n",
    "        \"symbol\",\n",
    "        \"stock_name\",\n",
    "        \"position\",\n",
    "        \"quantity\",\n",
    "        \"open_datetime\",\n",
    "        \"open_side\",\n",
    "        \"open_price\",\n",
    "        \"open_amount\",\n",
    "        \"close_datetime\",\n",
    "        \"close_side\",\n",
    "        \"close_price\",\n",
    "        \"close_amount\",\n",
    "        \"pnl_amount\",\n",
    "        \"pnl_percentage\",\n",
    "    ]\n",
    "]\n",
    "\n",
    "# Save the final DataFrame to a CSV file\n",
    "df_pnl.to_csv(profitloss_gold_file_path, index=None)\n",
    "\n",
    "print(\"GOLD Layer CSV file for ProfitLoss successfully created at:\")\n",
    "print(profitloss_gold_file_path)\n",
    "\n",
    "# Display the DataFrame debugrmation\n",
    "df_pnl.info()"
   ]
  },
  {
   "cell_type": "code",
   "execution_count": 16,
   "metadata": {
    "execution": {
     "iopub.execute_input": "2024-08-19T14:11:16.283895Z",
     "iopub.status.busy": "2024-08-19T14:11:16.283895Z",
     "iopub.status.idle": "2024-08-19T14:11:16.306469Z",
     "shell.execute_reply": "2024-08-19T14:11:16.306469Z"
    }
   },
   "outputs": [],
   "source": [
    "# Create a DataFrame from the processed data\n",
    "df_holdings = pd.DataFrame(portfolio.get_holdings())\n",
    "\n",
    "# Filter the DataFrame to include only rows where the segment is 'EQ' (Equity) or 'MF' (Mutual Funds)\n",
    "df_holdings = df_holdings[df_holdings[\"segment\"].isin([\"EQ\", \"MF\"])]\n",
    "\n",
    "# Round the values in the columns to two decimal places\n",
    "df_holdings = df_holdings.round(2)\n",
    "\n",
    "# Extract date from datetime\n",
    "df_holdings[\"date\"] = df_holdings[\"datetime\"].dt.date\n",
    "\n",
    "# Find the index of the maximum datetime for each stock_name and date\n",
    "idx = df_holdings.groupby([\"stock_name\", \"date\"])[\"datetime\"].idxmax()\n",
    "\n",
    "# Use the indices to filter the original DataFrame\n",
    "df_holdings = df_holdings.loc[idx].reset_index(drop=True)"
   ]
  },
  {
   "cell_type": "code",
   "execution_count": 17,
   "metadata": {
    "execution": {
     "iopub.execute_input": "2024-08-19T14:11:16.315482Z",
     "iopub.status.busy": "2024-08-19T14:11:16.315482Z",
     "iopub.status.idle": "2024-08-19T14:11:16.435938Z",
     "shell.execute_reply": "2024-08-19T14:11:16.435938Z"
    }
   },
   "outputs": [],
   "source": [
    "# Create a function to expand the date range for each stock\n",
    "\n",
    "\n",
    "def expand_dates(stock_df):\n",
    "    \"\"\"\n",
    "    Expands the date range for each stock to include all dates from the\n",
    "    minimum date to the current date and forward fills the missing values.\n",
    "\n",
    "    Parameters:\n",
    "    stock_df (pd.DataFrame): DataFrame containing stock data for a single stock.\n",
    "\n",
    "    Returns:\n",
    "    pd.DataFrame: DataFrame with expanded date range and forward-filled values.\n",
    "    \"\"\"\n",
    "    # Find the minimum date for this stock\n",
    "    min_date = stock_df[\"date\"].min()\n",
    "\n",
    "    # Create a date range from the minimum date to today\n",
    "    date_range = pd.date_range(start=min_date, end=pd.to_datetime(\"today\"))\n",
    "\n",
    "    # Reindex the stock_df to include the full date range\n",
    "    stock_df = stock_df.set_index(\"date\").reindex(date_range)\n",
    "\n",
    "    # Forward fill the values to fill missing dates\n",
    "    stock_df = stock_df.ffill().reset_index()\n",
    "\n",
    "    # Rename the 'index' column to 'date'\n",
    "    stock_df = stock_df.rename(columns={\"index\": \"date\"})\n",
    "\n",
    "    return stock_df\n",
    "\n",
    "\n",
    "# Apply the expand_dates function to each stock group\n",
    "df_holdings = (\n",
    "    df_holdings.groupby(\"stock_name\")\n",
    "    .apply(expand_dates, include_groups=False)\n",
    "    .reset_index()\n",
    ")"
   ]
  },
  {
   "cell_type": "code",
   "execution_count": 18,
   "metadata": {
    "execution": {
     "iopub.execute_input": "2024-08-19T14:11:16.442487Z",
     "iopub.status.busy": "2024-08-19T14:11:16.435938Z",
     "iopub.status.idle": "2024-08-19T14:11:16.481226Z",
     "shell.execute_reply": "2024-08-19T14:11:16.481226Z"
    }
   },
   "outputs": [
    {
     "name": "stdout",
     "output_type": "stream",
     "text": [
      "Loaded SILVER Layer stock price data from: ..\\..\\DATA\\SILVER\\StockPrice\\StockPrice_data.csv\n"
     ]
    }
   ],
   "source": [
    "# Load stock prices data from the specified CSV file path\n",
    "df_StockPrice = pd.read_csv(stockprice_silver_file_path)\n",
    "\n",
    "# Convert the 'date' column in stock prices to datetime type for consistency\n",
    "df_StockPrice[\"date\"] = pd.to_datetime(df_StockPrice[\"date\"])\n",
    "\n",
    "print(\n",
    "    f\"Loaded SILVER Layer stock price data from: {stockprice_silver_file_path}\"\n",
    ")\n",
    "\n",
    "# Merge the expanded holdings data with the stock price data\n",
    "df_holdings = pd.merge(\n",
    "    df_holdings,\n",
    "    df_StockPrice,\n",
    "    on=[\"date\", \"stock_name\"],\n",
    "    how=\"left\",\n",
    ")"
   ]
  },
  {
   "cell_type": "code",
   "execution_count": 19,
   "metadata": {
    "execution": {
     "iopub.execute_input": "2024-08-19T14:11:16.481226Z",
     "iopub.status.busy": "2024-08-19T14:11:16.481226Z",
     "iopub.status.idle": "2024-08-19T14:11:16.531407Z",
     "shell.execute_reply": "2024-08-19T14:11:16.531407Z"
    }
   },
   "outputs": [],
   "source": [
    "# Calculate the OHLC value of holdings\n",
    "col_names = [\"open\", \"high\", \"low\", \"close\"]\n",
    "for col_name in col_names:\n",
    "    df_holdings[f\"{col_name}_price\"] = df_holdings[col_name]\n",
    "    df_holdings[f\"{col_name}_amount\"] = (\n",
    "        df_holdings[col_name] * df_holdings[\"holding_quantity\"]\n",
    "    )\n",
    "\n",
    "# Forward fill the values to fill missing dates\n",
    "df_holdings = df_holdings.ffill()\n",
    "\n",
    "# Filter out rows with zero holding quantity\n",
    "df_holdings = df_holdings[df_holdings[\"holding_quantity\"] != 0]\n",
    "\n",
    "# Round the values in to two decimal places\n",
    "df_holdings = df_holdings.round(2)"
   ]
  },
  {
   "cell_type": "code",
   "execution_count": 20,
   "metadata": {
    "execution": {
     "iopub.execute_input": "2024-08-19T14:11:16.537570Z",
     "iopub.status.busy": "2024-08-19T14:11:16.537570Z",
     "iopub.status.idle": "2024-08-19T14:11:16.711229Z",
     "shell.execute_reply": "2024-08-19T14:11:16.709607Z"
    }
   },
   "outputs": [
    {
     "name": "stdout",
     "output_type": "stream",
     "text": [
      "GOLD Layer CSV file for Holdings successfully created at: ..\\..\\DATA\\GOLD\\Holdings\\Holdings_data.csv\n",
      "<class 'pandas.core.frame.DataFrame'>\n",
      "RangeIndex: 5977 entries, 0 to 5976\n",
      "Data columns (total 16 columns):\n",
      " #   Column            Non-Null Count  Dtype         \n",
      "---  ------            --------------  -----         \n",
      " 0   date              5977 non-null   datetime64[ns]\n",
      " 1   segment           5977 non-null   object        \n",
      " 2   exchange          5977 non-null   object        \n",
      " 3   symbol            5977 non-null   object        \n",
      " 4   stock_name        5977 non-null   object        \n",
      " 5   holding_quantity  5977 non-null   float64       \n",
      " 6   avg_price         5977 non-null   float64       \n",
      " 7   holding_amount    5977 non-null   float64       \n",
      " 8   open_price        5977 non-null   float64       \n",
      " 9   open_amount       5977 non-null   float64       \n",
      " 10  high_price        5977 non-null   float64       \n",
      " 11  high_amount       5977 non-null   float64       \n",
      " 12  low_price         5977 non-null   float64       \n",
      " 13  low_amount        5977 non-null   float64       \n",
      " 14  close_price       5977 non-null   float64       \n",
      " 15  close_amount      5977 non-null   float64       \n",
      "dtypes: datetime64[ns](1), float64(11), object(4)\n",
      "memory usage: 747.3+ KB\n"
     ]
    }
   ],
   "source": [
    "# Sort the DataFrame for organized output\n",
    "df_holdings = df_holdings.sort_values(\n",
    "    by=[\n",
    "        \"date\",\n",
    "        \"segment\",\n",
    "        \"exchange\",\n",
    "        \"symbol\",\n",
    "        \"stock_name\",\n",
    "    ]\n",
    ")\n",
    "\n",
    "# Reset index to ensure it starts from 0\n",
    "df_holdings = df_holdings.reset_index(drop=True)\n",
    "\n",
    "# Select and reorder the columns for the final DataFrame\n",
    "df_holdings = df_holdings[\n",
    "    [\n",
    "        \"date\",\n",
    "        \"segment\",\n",
    "        \"exchange\",\n",
    "        \"symbol\",\n",
    "        \"stock_name\",\n",
    "        \"holding_quantity\",\n",
    "        \"avg_price\",\n",
    "        \"holding_amount\",\n",
    "        \"open_price\",\n",
    "        \"open_amount\",\n",
    "        \"high_price\",\n",
    "        \"high_amount\",\n",
    "        \"low_price\",\n",
    "        \"low_amount\",\n",
    "        \"close_price\",\n",
    "        \"close_amount\",\n",
    "    ]\n",
    "]\n",
    "\n",
    "# Save the final processed DataFrame to a new CSV file\n",
    "df_holdings.to_csv(holdings_gold_file_path, index=None)\n",
    "\n",
    "print(\n",
    "    f\"GOLD Layer CSV file for Holdings successfully created at: {holdings_gold_file_path}\"\n",
    ")\n",
    "\n",
    "# Display debugrmation about the final DataFrame\n",
    "df_holdings.info()"
   ]
  }
 ],
 "metadata": {
  "kernelspec": {
   "display_name": "Python 3 (ipykernel)",
   "language": "python",
   "name": "python3"
  },
  "language_debug": {
   "codemirror_mode": {
    "name": "ipython",
    "version": 3
   },
   "file_extension": ".py",
   "mimetype": "text/x-python",
   "name": "python",
   "nbconvert_exporter": "python",
   "pygments_lexer": "ipython3",
   "version": "3.11.4"
  },
  "language_info": {
   "codemirror_mode": {
    "name": "ipython",
    "version": 3
   },
   "file_extension": ".py",
   "mimetype": "text/x-python",
   "name": "python",
   "nbconvert_exporter": "python",
   "pygments_lexer": "ipython3",
   "version": "3.11.4"
  }
 },
 "nbformat": 4,
 "nbformat_minor": 4
}
