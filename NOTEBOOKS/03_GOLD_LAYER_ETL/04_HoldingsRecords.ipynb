{
 "cells": [
  {
   "cell_type": "code",
   "execution_count": 1,
   "metadata": {
    "execution": {
     "iopub.execute_input": "2024-08-20T12:26:10.296115Z",
     "iopub.status.busy": "2024-08-20T12:26:10.296115Z",
     "iopub.status.idle": "2024-08-20T12:26:10.710049Z",
     "shell.execute_reply": "2024-08-20T12:26:10.709041Z"
    }
   },
   "outputs": [],
   "source": [
    "## Import necessary libraries\n",
    "import pandas as pd\n",
    "\n",
    "from PortfolioTracker.globalpath import GlobalPath"
   ]
  },
  {
   "cell_type": "code",
   "execution_count": 2,
   "metadata": {
    "execution": {
     "iopub.execute_input": "2024-08-20T12:26:10.713045Z",
     "iopub.status.busy": "2024-08-20T12:26:10.713045Z",
     "iopub.status.idle": "2024-08-20T12:26:10.719331Z",
     "shell.execute_reply": "2024-08-20T12:26:10.719331Z"
    }
   },
   "outputs": [],
   "source": [
    "# Instantiate GlobalPath\n",
    "global_path = GlobalPath(\"PortfolioTracker\")\n",
    "# GLOBAL PATH\n",
    "\n",
    "holdings_gold_file_path = global_path.joinpath(\n",
    "    \"DATA/GOLD/Holdings/Holdings_data.csv\"\n",
    ")\n",
    "\n",
    "symbol_silver_file_path = global_path.joinpath(\n",
    "    \"DATA/SILVER/Symbol/Symbol_data.csv\"\n",
    ")\n",
    "\n",
    "stock_holding_records_file_path = global_path.joinpath(\n",
    "    \"DATA/GOLD/Holdings/HoldingsRecords_data.csv\"\n",
    ")"
   ]
  },
  {
   "cell_type": "code",
   "execution_count": 3,
   "metadata": {
    "execution": {
     "iopub.execute_input": "2024-08-20T12:26:10.719331Z",
     "iopub.status.busy": "2024-08-20T12:26:10.719331Z",
     "iopub.status.idle": "2024-08-20T12:26:10.741782Z",
     "shell.execute_reply": "2024-08-20T12:26:10.741476Z"
    }
   },
   "outputs": [
    {
     "name": "stdout",
     "output_type": "stream",
     "text": [
      "Loaded holdings data from: ..\\..\\DATA\\GOLD\\Holdings\\Holdings_data.csv\n"
     ]
    }
   ],
   "source": [
    "# Load holdings data\n",
    "df_holdings = pd.read_csv(holdings_gold_file_path)\n",
    "df_holdings[\"date\"] = pd.to_datetime(df_holdings[\"date\"])\n",
    "print(f\"Loaded holdings data from: {holdings_gold_file_path}\")"
   ]
  },
  {
   "cell_type": "code",
   "execution_count": 4,
   "metadata": {
    "execution": {
     "iopub.execute_input": "2024-08-20T12:26:10.745788Z",
     "iopub.status.busy": "2024-08-20T12:26:10.745788Z",
     "iopub.status.idle": "2024-08-20T12:26:10.755342Z",
     "shell.execute_reply": "2024-08-20T12:26:10.755342Z"
    }
   },
   "outputs": [],
   "source": [
    "# Group by 'segment', 'exchange', and 'symbol', and calculate the min and max dates for each group\n",
    "df_stock_holding_records = (\n",
    "    df_holdings.groupby([\"segment\", \"exchange\", \"symbol\"])\n",
    "    .agg(min_date=(\"date\", \"min\"), max_date=(\"date\", \"max\"))\n",
    "    .reset_index()\n",
    ")"
   ]
  },
  {
   "cell_type": "code",
   "execution_count": 5,
   "metadata": {
    "execution": {
     "iopub.execute_input": "2024-08-20T12:26:10.759545Z",
     "iopub.status.busy": "2024-08-20T12:26:10.758533Z",
     "iopub.status.idle": "2024-08-20T12:26:10.775237Z",
     "shell.execute_reply": "2024-08-20T12:26:10.774474Z"
    }
   },
   "outputs": [],
   "source": [
    "# Replace scrip code with company name\n",
    "df_symbol = pd.read_csv(symbol_silver_file_path)\n",
    "\n",
    "# Merge df_TradeHistory with df_Symbol on the matching columns\n",
    "df_stock_holding_records = df_stock_holding_records.merge(\n",
    "    df_symbol[[\"symbol\", \"scrip_name\", \"isin\"]],\n",
    "    left_on=\"symbol\",\n",
    "    right_on=\"symbol\",\n",
    "    how=\"left\",\n",
    ")"
   ]
  },
  {
   "cell_type": "code",
   "execution_count": 6,
   "metadata": {
    "execution": {
     "iopub.execute_input": "2024-08-20T12:26:10.779245Z",
     "iopub.status.busy": "2024-08-20T12:26:10.779245Z",
     "iopub.status.idle": "2024-08-20T12:26:10.793265Z",
     "shell.execute_reply": "2024-08-20T12:26:10.792258Z"
    }
   },
   "outputs": [
    {
     "name": "stdout",
     "output_type": "stream",
     "text": [
      "Stock holding records CSV file created at: ..\\..\\DATA\\GOLD\\Holdings\\HoldingsRecords_data.csv\n",
      "<class 'pandas.core.frame.DataFrame'>\n",
      "RangeIndex: 19 entries, 0 to 18\n",
      "Data columns (total 7 columns):\n",
      " #   Column      Non-Null Count  Dtype         \n",
      "---  ------      --------------  -----         \n",
      " 0   segment     19 non-null     object        \n",
      " 1   exchange    19 non-null     object        \n",
      " 2   symbol      19 non-null     object        \n",
      " 3   scrip_name  19 non-null     object        \n",
      " 4   isin     19 non-null     object        \n",
      " 5   min_date    19 non-null     datetime64[ns]\n",
      " 6   max_date    19 non-null     datetime64[ns]\n",
      "dtypes: datetime64[ns](2), object(5)\n",
      "memory usage: 1.2+ KB\n"
     ]
    }
   ],
   "source": [
    "# Select and reorder columns for the final output format\n",
    "df_stock_holding_records = df_stock_holding_records[\n",
    "    [\n",
    "        \"segment\",\n",
    "        \"exchange\",\n",
    "        \"symbol\",\n",
    "        \"scrip_name\",\n",
    "        \"isin\",\n",
    "        \"min_date\",\n",
    "        \"max_date\",\n",
    "    ]\n",
    "]\n",
    "\n",
    "# Sort the DataFrame by 'date' and reset the index for organized output\n",
    "df_stock_holding_records = df_stock_holding_records.sort_values(\n",
    "    by=[\"segment\", \"exchange\", \"symbol\"]\n",
    ").reset_index(drop=True)\n",
    "\n",
    "# Save the resulting DataFrame to a new CSV file\n",
    "df_stock_holding_records.to_csv(stock_holding_records_file_path, index=False)\n",
    "print(\n",
    "    f\"Stock holding records CSV file created at: {stock_holding_records_file_path}\"\n",
    ")\n",
    "\n",
    "# Display the DataFrame debugrmation for verification\n",
    "df_stock_holding_records.info()"
   ]
  }
 ],
 "metadata": {
  "kernelspec": {
   "display_name": "Python 3",
   "language": "python",
   "name": "python3"
  },
  "language_debug": {
   "codemirror_mode": {
    "name": "ipython",
    "version": 3
   },
   "file_extension": ".py",
   "mimetype": "text/x-python",
   "name": "python",
   "nbconvert_exporter": "python",
   "pygments_lexer": "ipython3",
   "version": "3.11.4"
  },
  "language_info": {
   "codemirror_mode": {
    "name": "ipython",
    "version": 3
   },
   "file_extension": ".py",
   "mimetype": "text/x-python",
   "name": "python",
   "nbconvert_exporter": "python",
   "pygments_lexer": "ipython3",
   "version": "3.11.4"
  }
 },
 "nbformat": 4,
 "nbformat_minor": 2
}
