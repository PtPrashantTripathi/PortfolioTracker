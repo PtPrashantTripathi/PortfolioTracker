{
 "cells": [
  {
   "cell_type": "code",
   "execution_count": 16,
   "metadata": {},
   "outputs": [],
   "source": [
    "## Import necessary libraries\n",
    "import pandas as pd\n",
    "\n",
    "from PortfolioTracker.globalpath import global_path\n",
    "from PortfolioTracker.logger import logger"
   ]
  },
  {
   "cell_type": "code",
   "execution_count": 17,
   "metadata": {},
   "outputs": [
    {
     "name": "stderr",
     "output_type": "stream",
     "text": [
      "2024-08-09T20:47:22Z - INFO - Loaded holdings data from: C:\\Users\\prashant.tripathi\\Code\\PortfolioTracker\\DATA\\GOLD\\Holdings\\Holdings_data.csv\n"
     ]
    }
   ],
   "source": [
    "# Load holdings data\n",
    "df_holdings = pd.read_csv(global_path.holdings_gold_file_path)\n",
    "df_holdings[\"date\"] = pd.to_datetime(df_holdings[\"date\"])\n",
    "logger.info(f\"Loaded holdings data from: {global_path.holdings_gold_file_path}\")"
   ]
  },
  {
   "cell_type": "code",
   "execution_count": 18,
   "metadata": {},
   "outputs": [],
   "source": [
    "# Group by 'segment', 'exchange', and 'symbol', and calculate the min and max dates for each group\n",
    "df_stock_holding_records = (\n",
    "    df_holdings.groupby([\"segment\", \"exchange\", \"symbol\"])\n",
    "    .agg(min_date=(\"date\", \"min\"), max_date=(\"date\", \"max\"))\n",
    "    .reset_index()\n",
    ")"
   ]
  },
  {
   "cell_type": "code",
   "execution_count": 19,
   "metadata": {},
   "outputs": [
    {
     "name": "stderr",
     "output_type": "stream",
     "text": [
      "2024-08-09T20:47:22Z - INFO - Stock holding records CSV file created at: C:\\Users\\prashant.tripathi\\Code\\PortfolioTracker\\DATA\\GOLD\\Holdings\\HoldingsRecords_data.csv\n"
     ]
    },
    {
     "name": "stdout",
     "output_type": "stream",
     "text": [
      "<class 'pandas.core.frame.DataFrame'>\n",
      "RangeIndex: 19 entries, 0 to 18\n",
      "Data columns (total 5 columns):\n",
      " #   Column    Non-Null Count  Dtype         \n",
      "---  ------    --------------  -----         \n",
      " 0   segment   19 non-null     object        \n",
      " 1   exchange  19 non-null     object        \n",
      " 2   symbol    19 non-null     object        \n",
      " 3   min_date  19 non-null     datetime64[ns]\n",
      " 4   max_date  19 non-null     datetime64[ns]\n",
      "dtypes: datetime64[ns](2), object(3)\n",
      "memory usage: 892.0+ bytes\n"
     ]
    }
   ],
   "source": [
    "# Select and reorder columns for the final output format\n",
    "df_stock_holding_records = df_stock_holding_records[\n",
    "    [\"segment\", \"exchange\", \"symbol\", \"min_date\", \"max_date\"]\n",
    "]\n",
    "\n",
    "# Sort the DataFrame by 'date' and reset the index for organized output\n",
    "df_stock_holding_records = df_stock_holding_records.sort_values(\n",
    "    by=[\"segment\", \"exchange\", \"symbol\"]\n",
    ").reset_index(drop=True)\n",
    "\n",
    "# Save the resulting DataFrame to a new CSV file\n",
    "df_stock_holding_records.to_csv(\n",
    "    global_path.stock_holding_records_file_path, index=False\n",
    ")\n",
    "logger.info(\n",
    "    f\"Stock holding records CSV file created at: {global_path.stock_holding_records_file_path.resolve()}\"\n",
    ")\n",
    "\n",
    "# Display the DataFrame information for verification\n",
    "df_stock_holding_records.info()"
   ]
  }
 ],
 "metadata": {
  "kernelspec": {
   "display_name": "Python 3",
   "language": "python",
   "name": "python3"
  },
  "language_info": {
   "codemirror_mode": {
    "name": "ipython",
    "version": 3
   },
   "file_extension": ".py",
   "mimetype": "text/x-python",
   "name": "python",
   "nbconvert_exporter": "python",
   "pygments_lexer": "ipython3",
   "version": "3.11.4"
  }
 },
 "nbformat": 4,
 "nbformat_minor": 2
}
