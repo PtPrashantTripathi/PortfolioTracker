{
 "cells": [
  {
   "cell_type": "markdown",
   "metadata": {},
   "source": [
    "## BRONZE TO SILVER LAYER\n"
   ]
  },
  {
   "cell_type": "code",
   "execution_count": 1,
   "metadata": {},
   "outputs": [],
   "source": [
    "import pandas as pd\n",
    "from common_utilities import global_path\n",
    "import datetime"
   ]
  },
  {
   "cell_type": "markdown",
   "metadata": {},
   "source": [
    "### GOLD LAYER - PROCESS HOLDING RECORDS HISTORY\n"
   ]
  },
  {
   "cell_type": "code",
   "execution_count": 2,
   "metadata": {},
   "outputs": [],
   "source": [
    "# Load trade history from CSV into DataFrame\n",
    "df = pd.read_csv(global_path.tradehistory_gold_file_path)\n",
    "\n",
    "# Filter for specific segments\n",
    "df = df[df[\"segment\"].isin([\"EQ\", \"MF\"])]\n",
    "\n",
    "df = df[\n",
    "    [\n",
    "        \"datetime\",\n",
    "        \"segment\",\n",
    "        \"stock_name\",\n",
    "        \"avg_price\",\n",
    "        \"holding_quantity\",\n",
    "        \"holding_amount\",\n",
    "    ]\n",
    "]"
   ]
  },
  {
   "cell_type": "code",
   "execution_count": 3,
   "metadata": {},
   "outputs": [],
   "source": [
    "# Convert 'datetime' column to datetime objects\n",
    "df[\"datetime\"] = pd.to_datetime(df[\"datetime\"])\n",
    "\n",
    "# Add a 'date' column by extracting the date part from 'datetime'\n",
    "df[\"date\"] = df[\"datetime\"].dt.date\n",
    "\n",
    "# Sort DataFrame by 'segment', 'stock_name', and 'datetime'\n",
    "df = df.sort_values(by=[\"segment\", \"stock_name\", \"datetime\"])\n",
    "\n",
    "# Get maximum 'datetime' for each 'date' and 'stock_name' combination\n",
    "max_datetime_df = (\n",
    "    df.groupby([\"date\", \"stock_name\"])[\"datetime\"].max().reset_index()\n",
    ")\n",
    "\n",
    "# Retain only rows with maximum datetime for each 'date' and 'stock_name'\n",
    "df = df.merge(max_datetime_df, on=[\"date\", \"stock_name\", \"datetime\"])"
   ]
  },
  {
   "cell_type": "code",
   "execution_count": 4,
   "metadata": {},
   "outputs": [],
   "source": [
    "# Sort the DataFrame by 'segment', 'stock_name', and 'date'\n",
    "df = df.sort_values(by=[\"segment\", \"stock_name\", \"date\"]).reset_index(drop=True)\n",
    "\n",
    "# Process each stock name separately\n",
    "stock_names = df[\"stock_name\"].unique()\n",
    "result = []\n",
    "\n",
    "for stock_name in stock_names:\n",
    "    stock_data = df[df[\"stock_name\"] == stock_name].copy()\n",
    "\n",
    "    # Set 'date' as index and reindex to include all dates up to today\n",
    "    stock_data = stock_data.set_index(\"date\")\n",
    "    date_range = pd.date_range(\n",
    "        start=stock_data.index.min(),\n",
    "        end=datetime.datetime.today().date(),\n",
    "        freq=\"D\",\n",
    "    )\n",
    "    stock_data = stock_data.reindex(date_range, method=\"ffill\")\n",
    "\n",
    "    # Reset index to bring 'date' back as a column\n",
    "    stock_data = stock_data.reset_index().rename(columns={\"index\": \"date\"})\n",
    "    result.append(stock_data)\n",
    "\n",
    "# Combine processed DataFrames into one\n",
    "df = pd.concat(result, ignore_index=True)"
   ]
  },
  {
   "cell_type": "code",
   "execution_count": 5,
   "metadata": {},
   "outputs": [],
   "source": [
    "# Load stock prices and merge with the main DataFrame\n",
    "df_StockPrice = pd.read_csv(global_path.stockprice_silver_file_path)\n",
    "df_StockPrice = df_StockPrice[[\"date\", \"stock_name\", \"close\"]]\n",
    "df_StockPrice[\"date\"] = pd.to_datetime(df_StockPrice[\"date\"])\n",
    "\n",
    "# Merge stock price data\n",
    "df = pd.merge(df, df_StockPrice, on=[\"date\", \"stock_name\"], how=\"left\")\n",
    "\n",
    "# Rename columns for clarity and calculate current value\n",
    "df = df.rename(\n",
    "    columns={\n",
    "        \"holding_amount\": \"investment\",\n",
    "        \"holding_quantity\": \"quantity\",\n",
    "        \"close\": \"current_price\",\n",
    "    }\n",
    ")\n",
    "df[\"current_value\"] = df[\"current_price\"] * df[\"quantity\"]\n",
    "\n",
    "# Filter out rows with zero 'holding_quantity'\n",
    "df = df[(df[\"investment\"] != 0) & (df[\"current_value\"]!= 0)]"
   ]
  },
  {
   "cell_type": "code",
   "execution_count": 6,
   "metadata": {},
   "outputs": [
    {
     "name": "stdout",
     "output_type": "stream",
     "text": [
      "<class 'pandas.core.frame.DataFrame'>\n",
      "RangeIndex: 5863 entries, 0 to 5862\n",
      "Data columns (total 8 columns):\n",
      " #   Column         Non-Null Count  Dtype         \n",
      "---  ------         --------------  -----         \n",
      " 0   date           5863 non-null   datetime64[ns]\n",
      " 1   segment        5863 non-null   object        \n",
      " 2   stock_name     5863 non-null   object        \n",
      " 3   quantity       5863 non-null   int64         \n",
      " 4   avg_price      5863 non-null   float64       \n",
      " 5   investment     5863 non-null   float64       \n",
      " 6   current_price  3759 non-null   float64       \n",
      " 7   current_value  3759 non-null   float64       \n",
      "dtypes: datetime64[ns](1), float64(4), int64(1), object(2)\n",
      "memory usage: 366.6+ KB\n",
      "GOLD Layer CSV file for Holdings successfully created at:\n",
      "C:\\Users\\prashant.tripathi\\Code\\Upstox\\DATA\\GOLD\\Holdings\\Holdings_data.csv\n"
     ]
    }
   ],
   "source": [
    "# Final sorting and column selection\n",
    "df = df.sort_values(by=[\"segment\", \"stock_name\", \"date\"]).reset_index(drop=True)\n",
    "df = df[\n",
    "    [\n",
    "        \"date\",\n",
    "        \"segment\",\n",
    "        \"stock_name\",\n",
    "        \"quantity\",\n",
    "        \"avg_price\",\n",
    "        \"investment\",\n",
    "        \"current_price\",\n",
    "        \"current_value\",\n",
    "    ]\n",
    "]\n",
    "\n",
    "# Save the final DataFrame to a CSV file\n",
    "df.to_csv(global_path.holdings_gold_file_path, index=None)\n",
    "\n",
    "# Display DataFrame information and print success message\n",
    "df.info()\n",
    "print(\"GOLD Layer CSV file for Holdings successfully created at:\")\n",
    "print(global_path.holdings_gold_file_path.resolve())"
   ]
  }
 ],
 "metadata": {
  "kernelspec": {
   "display_name": "Python 3",
   "language": "python",
   "name": "python3"
  },
  "language_info": {
   "codemirror_mode": {
    "name": "ipython",
    "version": 3
   },
   "file_extension": ".py",
   "mimetype": "text/x-python",
   "name": "python",
   "nbconvert_exporter": "python",
   "pygments_lexer": "ipython3",
   "version": "3.11.4"
  }
 },
 "nbformat": 4,
 "nbformat_minor": 2
}
