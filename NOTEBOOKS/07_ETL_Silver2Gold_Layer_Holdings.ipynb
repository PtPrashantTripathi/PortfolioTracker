{
 "cells": [
  {
   "cell_type": "markdown",
   "metadata": {},
   "source": [
    "## BRONZE TO SILVER LAYER\n"
   ]
  },
  {
   "cell_type": "code",
   "execution_count": 1,
   "metadata": {},
   "outputs": [],
   "source": [
    "import pandas as pd\n",
    "from common_utilities import global_path\n",
    "import datetime"
   ]
  },
  {
   "cell_type": "markdown",
   "metadata": {},
   "source": [
    "### SILVER Layer - Process ProfitLoss History\n"
   ]
  },
  {
   "cell_type": "code",
   "execution_count": 2,
   "metadata": {},
   "outputs": [],
   "source": [
    "# Read the CSV file into a DataFrame\n",
    "df = pd.read_csv(global_path.tradehistory_gold_file_path)\n",
    "\n",
    "# Filter rows to include only specific segments\n",
    "df = df[df.segment.isin([\"EQ\", \"MF\"])]\n",
    "\n",
    "# Convert 'datetime' column to datetime objects\n",
    "df[\"datetime\"] = pd.to_datetime(df[\"datetime\"])\n",
    "\n",
    "# Add a 'date' column by extracting the date part from 'datetime'\n",
    "df[\"date\"] = df[\"datetime\"].dt.date\n",
    "\n",
    "# Sort the DataFrame by 'segment', 'stock_name', and 'datetime'\n",
    "df = df.sort_values(by=[\"segment\", \"stock_name\", \"datetime\"])"
   ]
  },
  {
   "cell_type": "code",
   "execution_count": 3,
   "metadata": {},
   "outputs": [],
   "source": [
    "# Create a DataFrame with the maximum 'datetime' for each combination of 'date' and 'stock_name'\n",
    "max_datetime_df = (\n",
    "    df.groupby([\"date\", \"stock_name\"])[\"datetime\"].max().reset_index()\n",
    ")\n",
    "\n",
    "# Merge the maximum datetime DataFrame with the original DataFrame to retain full rows\n",
    "df = df.merge(max_datetime_df, on=[\"date\", \"stock_name\", \"datetime\"])\n"
   ]
  },
  {
   "cell_type": "code",
   "execution_count": 4,
   "metadata": {},
   "outputs": [],
   "source": [
    "# Get a unique list of stock names\n",
    "stock_names = df[\"stock_name\"].unique()\n",
    "\n",
    "# Initialize a list to store processed DataFrames\n",
    "result = []\n",
    "\n",
    "# Iterate over each unique stock name\n",
    "for stock_name in stock_names:\n",
    "    # Filter the DataFrame for the current stock\n",
    "    stock_data = df[df[\"stock_name\"] == stock_name].copy()\n",
    "\n",
    "    # Set the 'date' column as index\n",
    "    stock_data = stock_data.set_index(\"date\")\n",
    "\n",
    "    # Generate a date range from the earliest date to today\n",
    "    date_range = pd.date_range(\n",
    "        start=stock_data.index.min(), end=datetime.datetime.today().date(), freq=\"D\"\n",
    "    )\n",
    "\n",
    "    # Reindex DataFrame to include the full date range and forward fill missing values\n",
    "    stock_data = stock_data.reindex(date_range, method=\"ffill\")\n",
    "\n",
    "    # Reset index to bring 'date' back as a column\n",
    "    stock_data = stock_data.reset_index()\n",
    "    stock_data = stock_data.rename(columns={\"index\": \"date\"})\n",
    "\n",
    "    # Append the processed DataFrame to the result list\n",
    "    result.append(stock_data)\n",
    "\n",
    "# Concatenate all processed DataFrames into a single DataFrame\n",
    "df = pd.concat(result, ignore_index=True)\n",
    "\n",
    "# Filter out rows where 'holding_quantity' is zero\n",
    "df = df[df[\"holding_quantity\"] != 0]\n",
    "\n",
    "# Sort the final DataFrame by 'segment', 'stock_name', and 'date'\n",
    "df = df.sort_values(by=[\"segment\", \"stock_name\", \"date\"])\n"
   ]
  },
  {
   "cell_type": "code",
   "execution_count": 5,
   "metadata": {},
   "outputs": [
    {
     "name": "stdout",
     "output_type": "stream",
     "text": [
      "<class 'pandas.core.frame.DataFrame'>\n",
      "Index: 5857 entries, 0 to 19359\n",
      "Data columns (total 8 columns):\n",
      " #   Column            Non-Null Count  Dtype         \n",
      "---  ------            --------------  -----         \n",
      " 0   date              5857 non-null   datetime64[ns]\n",
      " 1   exchange          5857 non-null   object        \n",
      " 2   segment           5857 non-null   object        \n",
      " 3   stock_name        5857 non-null   object        \n",
      " 4   scrip_code        5857 non-null   object        \n",
      " 5   holding_quantity  5857 non-null   int64         \n",
      " 6   avg_price         5857 non-null   float64       \n",
      " 7   holding_amount    5857 non-null   float64       \n",
      "dtypes: datetime64[ns](1), float64(2), int64(1), object(4)\n",
      "memory usage: 411.8+ KB\n",
      "GOLD Layer CSV file for Holdings successfully created at:\n",
      "C:\\Users\\prashant.tripathi\\Code\\Upstox\\DATA\\GOLD\\Holdings\\Holdings_data.csv\n"
     ]
    }
   ],
   "source": [
    "# Select and reorder columns for the final DataFrame\n",
    "df = df[\n",
    "    [\n",
    "        \"date\",\n",
    "        \"exchange\",\n",
    "        \"segment\",\n",
    "        \"stock_name\",\n",
    "        \"scrip_code\",\n",
    "        \"holding_quantity\",\n",
    "        \"avg_price\",\n",
    "        \"holding_amount\",\n",
    "    ]\n",
    "]\n",
    "# Save the final DataFrame to a CSV file\n",
    "df.to_csv(global_path.holdings_gold_file_path, index=None)\n",
    "\n",
    "# Display the DataFrame information\n",
    "df.info()\n",
    "\n",
    "# Print success message with the path of the saved file\n",
    "print(\"GOLD Layer CSV file for Holdings successfully created at:\")\n",
    "print(global_path.holdings_gold_file_path.resolve())"
   ]
  }
 ],
 "metadata": {
  "kernelspec": {
   "display_name": "Python 3",
   "language": "python",
   "name": "python3"
  },
  "language_info": {
   "codemirror_mode": {
    "name": "ipython",
    "version": 3
   },
   "file_extension": ".py",
   "mimetype": "text/x-python",
   "name": "python",
   "nbconvert_exporter": "python",
   "pygments_lexer": "ipython3",
   "version": "3.11.4"
  }
 },
 "nbformat": 4,
 "nbformat_minor": 2
}
