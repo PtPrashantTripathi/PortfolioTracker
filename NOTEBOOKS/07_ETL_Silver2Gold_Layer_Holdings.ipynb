{
 "cells": [
  {
   "cell_type": "markdown",
   "metadata": {},
   "source": [
    "## BRONZE TO SILVER LAYER\n",
    "\n",
    "### GOLD LAYER - PROCESS HOLDING RECORDS HISTORY\n"
   ]
  },
  {
   "cell_type": "code",
   "execution_count": 1,
   "metadata": {},
   "outputs": [],
   "source": [
    "# Import necessary libraries and utility functions\n",
    "import pandas as pd\n",
    "from common_utilities import global_path, logger\n",
    "from datetime import datetime"
   ]
  },
  {
   "cell_type": "markdown",
   "metadata": {},
   "source": [
    "### Data Processing\n",
    "\n",
    "- Load and Filter trade history data from the Gold layer.\n"
   ]
  },
  {
   "cell_type": "code",
   "execution_count": 2,
   "metadata": {},
   "outputs": [
    {
     "name": "stderr",
     "output_type": "stream",
     "text": [
      "2024-08-01T13:23:36Z - INFO - Loaded GOLD Layer trade history data from: C:\\Users\\prashant.tripathi\\Code\\Upstox\\DATA\\GOLD\\TradeHistory\\TradeHistory_data.csv\n"
     ]
    }
   ],
   "source": [
    "try:\n",
    "    # Load trade history from CSV into DataFrame\n",
    "    df = pd.read_csv(global_path.tradehistory_gold_file_path)\n",
    "    logger.info(\n",
    "        f\"Loaded GOLD Layer trade history data from: {global_path.tradehistory_gold_file_path}\"\n",
    "    )\n",
    "\n",
    "    # Filter for specific segments\n",
    "    df = df[df[\"segment\"].isin([\"EQ\", \"MF\"])]\n",
    "\n",
    "    # Select relevant columns\n",
    "    df = df[\n",
    "        [\n",
    "            \"datetime\",\n",
    "            \"segment\",\n",
    "            \"stock_name\",\n",
    "            \"avg_price\",\n",
    "            \"holding_quantity\",\n",
    "            \"holding_amount\",\n",
    "        ]\n",
    "    ]\n",
    "\n",
    "    # Convert 'datetime' column to datetime objects\n",
    "    df[\"datetime\"] = pd.to_datetime(df[\"datetime\"])\n",
    "\n",
    "    # Add a 'date' column by extracting the date part from 'datetime'\n",
    "    df[\"date\"] = df[\"datetime\"].dt.date\n",
    "\n",
    "    # Sort DataFrame by 'segment', 'stock_name', and 'datetime'\n",
    "    df = df.sort_values(by=[\"segment\", \"stock_name\", \"datetime\"])\n",
    "except Exception as e:\n",
    "    logger.error(\n",
    "        f\"Failed to read GOLD Layer trade history data due to error: {e}\"\n",
    "    )"
   ]
  },
  {
   "cell_type": "markdown",
   "metadata": {},
   "source": [
    "### Data Processing\n",
    "\n",
    "- Process data to include all dates up to today.\n",
    "- Merge with stock price data and calculate current values.\n",
    "- Save the processed data to the Gold layer.\n"
   ]
  },
  {
   "cell_type": "code",
   "execution_count": 3,
   "metadata": {},
   "outputs": [
    {
     "name": "stderr",
     "output_type": "stream",
     "text": [
      "2024-08-01T13:23:37Z - INFO - Loaded SILVER Layer stock price data from: C:\\Users\\prashant.tripathi\\Code\\Upstox\\DATA\\SILVER\\StockPrice\\StockPrice_data.csv\n"
     ]
    }
   ],
   "source": [
    "# Get maximum 'datetime' for each 'date' and 'stock_name' combination\n",
    "max_datetime_df = (\n",
    "    df.groupby([\"date\", \"stock_name\"])[\"datetime\"].max().reset_index()\n",
    ")\n",
    "\n",
    "# Retain only rows with maximum datetime for each 'date' and 'stock_name'\n",
    "df = df.merge(max_datetime_df, on=[\"date\", \"stock_name\", \"datetime\"])\n",
    "\n",
    "# Sort the DataFrame by 'segment', 'stock_name', and 'date'\n",
    "df = df.sort_values(by=[\"segment\", \"stock_name\", \"date\"]).reset_index(drop=True)\n",
    "\n",
    "# Process each stock name separately\n",
    "stock_names = df[\"stock_name\"].unique()\n",
    "result = []\n",
    "\n",
    "for stock_name in stock_names:\n",
    "    stock_data = df[df[\"stock_name\"] == stock_name].copy()\n",
    "\n",
    "    # Set 'date' as index and reindex to include all dates up to today\n",
    "    stock_data = stock_data.set_index(\"date\")\n",
    "    date_range = pd.date_range(\n",
    "        start=stock_data.index.min(),\n",
    "        end=datetime.today().date(),\n",
    "        freq=\"D\",\n",
    "    )\n",
    "    stock_data = stock_data.reindex(date_range, method=\"ffill\")\n",
    "\n",
    "    # Reset index to bring 'date' back as a column\n",
    "    stock_data = stock_data.reset_index().rename(columns={\"index\": \"date\"})\n",
    "    result.append(stock_data)\n",
    "\n",
    "# Combine processed DataFrames into one\n",
    "df = pd.concat(result, ignore_index=True)\n",
    "\n",
    "# Load stock prices and merge with the main DataFrame\n",
    "try:\n",
    "    df_StockPrice = pd.read_csv(global_path.stockprice_silver_file_path)\n",
    "    df_StockPrice = df_StockPrice[[\"date\", \"stock_name\", \"close\"]]\n",
    "    df_StockPrice[\"date\"] = pd.to_datetime(df_StockPrice[\"date\"])\n",
    "    logger.info(\n",
    "        f\"Loaded SILVER Layer stock price data from: {global_path.stockprice_silver_file_path}\"\n",
    "    )\n",
    "except Exception as e:\n",
    "    logger.error(\n",
    "        f\"Failed to read SILVER Layer stock price data due to error: {e}\"\n",
    "    )\n",
    "\n",
    "# Merge stock price data\n",
    "df = pd.merge(df, df_StockPrice, on=[\"date\", \"stock_name\"], how=\"left\")\n",
    "\n",
    "# Rename columns for clarity and calculate current value\n",
    "df = df.rename(\n",
    "    columns={\n",
    "        \"holding_amount\": \"investment\",\n",
    "        \"holding_quantity\": \"quantity\",\n",
    "        \"close\": \"ltp\",\n",
    "    }\n",
    ")\n",
    "df[\"current_value\"] = df[\"ltp\"] * df[\"quantity\"]\n",
    "\n",
    "# Calculate PnL and percentage\n",
    "df[\"pnl_amount\"] = df[\"current_value\"] - df[\"investment\"]\n",
    "df[\"pnl_percentage\"] = (df[\"pnl_amount\"] / df[\"investment\"]) * 100\n",
    "\n",
    "\n",
    "# Filter out rows with zero 'holding_quantity'\n",
    "df = df[(df[\"investment\"] != 0) & (df[\"current_value\"] != 0)]\n",
    "\n",
    "# Round the values in to two decimal places\n",
    "df = df.round(2)\n",
    "\n",
    "# Final sorting and column selection\n",
    "df = df.sort_values(by=[\"segment\", \"stock_name\", \"date\"]).reset_index(drop=True)"
   ]
  },
  {
   "cell_type": "code",
   "execution_count": 4,
   "metadata": {},
   "outputs": [
    {
     "name": "stderr",
     "output_type": "stream",
     "text": [
      "2024-08-01T13:23:37Z - INFO - GOLD Layer CSV file for Holdings successfully created at:\n",
      "2024-08-01T13:23:37Z - INFO - C:\\Users\\prashant.tripathi\\Code\\Upstox\\DATA\\GOLD\\Holdings\\Holdings_data.csv\n"
     ]
    },
    {
     "name": "stdout",
     "output_type": "stream",
     "text": [
      "<class 'pandas.core.frame.DataFrame'>\n",
      "RangeIndex: 5869 entries, 0 to 5868\n",
      "Data columns (total 10 columns):\n",
      " #   Column          Non-Null Count  Dtype         \n",
      "---  ------          --------------  -----         \n",
      " 0   date            5869 non-null   datetime64[ns]\n",
      " 1   segment         5869 non-null   object        \n",
      " 2   stock_name      5869 non-null   object        \n",
      " 3   quantity        5869 non-null   float64       \n",
      " 4   avg_price       5869 non-null   float64       \n",
      " 5   investment      5869 non-null   float64       \n",
      " 6   ltp             3759 non-null   float64       \n",
      " 7   current_value   3759 non-null   float64       \n",
      " 8   pnl_amount      3759 non-null   float64       \n",
      " 9   pnl_percentage  3759 non-null   float64       \n",
      "dtypes: datetime64[ns](1), float64(7), object(2)\n",
      "memory usage: 458.6+ KB\n"
     ]
    }
   ],
   "source": [
    "# Save the final DataFrame to a CSV file\n",
    "try:\n",
    "    df = df[\n",
    "        [\n",
    "            \"date\",\n",
    "            \"segment\",\n",
    "            \"stock_name\",\n",
    "            \"quantity\",\n",
    "            \"avg_price\",\n",
    "            \"investment\",\n",
    "            \"ltp\",\n",
    "            \"current_value\",\n",
    "            \"pnl_amount\",\n",
    "            \"pnl_percentage\"\n",
    "        ]\n",
    "    ]\n",
    "    df.to_csv(global_path.holdings_gold_file_path, index=None)\n",
    "    logger.info(\"GOLD Layer CSV file for Holdings successfully created at:\")\n",
    "    logger.info(global_path.holdings_gold_file_path.resolve())\n",
    "    # Display DataFrame information and print success message\n",
    "    df.info()\n",
    "except Exception as e:\n",
    "    logger.error(f\"Failed to save GOLD Layer CSV file due to error: {e}\")"
   ]
  }
 ],
 "metadata": {
  "kernelspec": {
   "display_name": "Python 3",
   "language": "python",
   "name": "python3"
  },
  "language_info": {
   "codemirror_mode": {
    "name": "ipython",
    "version": 3
   },
   "file_extension": ".py",
   "mimetype": "text/x-python",
   "name": "python",
   "nbconvert_exporter": "python",
   "pygments_lexer": "ipython3",
   "version": "3.11.4"
  }
 },
 "nbformat": 4,
 "nbformat_minor": 2
}
