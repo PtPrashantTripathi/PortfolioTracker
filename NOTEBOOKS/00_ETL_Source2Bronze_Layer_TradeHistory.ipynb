{
 "cells": [
  {
   "cell_type": "markdown",
   "metadata": {},
   "source": [
    "## SOURCE TO BRONZE LAYER\n",
    "\n",
    "> This Notebooks reads the RAW files, performs data harmonization\n"
   ]
  },
  {
   "cell_type": "markdown",
   "metadata": {},
   "source": [
    "### Importing necessary files and packages\n"
   ]
  },
  {
   "cell_type": "code",
   "execution_count": 1,
   "metadata": {
    "lines_to_next_cell": 2
   },
   "outputs": [],
   "source": [
    "import pandas as pd\n",
    "from common_utilities import (\n",
    "    check_files_availability,\n",
    "    find_correct_headers,\n",
    "    find_correct_sheetname,\n",
    "    fix_duplicate_column_names,\n",
    "    global_path,\n",
    "    replace_punctuation_from_columns,\n",
    ")"
   ]
  },
  {
   "cell_type": "markdown",
   "metadata": {
    "lines_to_next_cell": 2
   },
   "source": [
    "### Reading & Validate the data from the files\n"
   ]
  },
  {
   "cell_type": "code",
   "execution_count": 2,
   "metadata": {},
   "outputs": [],
   "source": [
    "def read_file(file_path):\n",
    "    print(f\"\\nProccessing => {file_path}\")\n",
    "    df = pd.read_excel(\n",
    "        file_path, engine=\"openpyxl\", sheet_name=None, header=None, skipfooter=1\n",
    "    )\n",
    "    df = find_correct_sheetname(df, sheet_name_regex=\"trade\")\n",
    "    df = find_correct_headers(df, global_header_regex=\"date\")\n",
    "    df = replace_punctuation_from_columns(df)\n",
    "    df = fix_duplicate_column_names(df)\n",
    "    df = df.dropna(how=\"all\")\n",
    "\n",
    "    # Save the result as a csv file\n",
    "    output_file = global_path.tradehistory_bronze_layer_path.joinpath(\n",
    "        file_path.name.replace(\"xlsx\", \"csv\")\n",
    "    )\n",
    "    df.to_csv(output_file, index=None)\n",
    "    print(f\"Proccessed => {output_file}\")"
   ]
  },
  {
   "cell_type": "code",
   "execution_count": 3,
   "metadata": {},
   "outputs": [
    {
     "name": "stdout",
     "output_type": "stream",
     "text": [
      "Number of Files Detected: 5\n",
      "\n",
      "Proccessing => C:\\Users\\prashant.tripathi\\Code\\Upstox\\DATA\\SOURCE\\TradeHistory\\trade_2021.xlsx\n",
      "Sheet name => TRADE\n",
      "Proccessed => C:\\Users\\prashant.tripathi\\Code\\Upstox\\DATA\\BRONZE\\TradeHistory\\trade_2021.csv\n",
      "\n",
      "Proccessing => C:\\Users\\prashant.tripathi\\Code\\Upstox\\DATA\\SOURCE\\TradeHistory\\trade_2122.xlsx\n",
      "Sheet name => TRADE\n",
      "Proccessed => C:\\Users\\prashant.tripathi\\Code\\Upstox\\DATA\\BRONZE\\TradeHistory\\trade_2122.csv\n",
      "\n",
      "Proccessing => C:\\Users\\prashant.tripathi\\Code\\Upstox\\DATA\\SOURCE\\TradeHistory\\trade_2223.xlsx\n",
      "Sheet name => TRADE\n",
      "Proccessed => C:\\Users\\prashant.tripathi\\Code\\Upstox\\DATA\\BRONZE\\TradeHistory\\trade_2223.csv\n",
      "\n",
      "Proccessing => C:\\Users\\prashant.tripathi\\Code\\Upstox\\DATA\\SOURCE\\TradeHistory\\trade_2324.xlsx\n",
      "Sheet name => TRADE\n",
      "Proccessed => C:\\Users\\prashant.tripathi\\Code\\Upstox\\DATA\\BRONZE\\TradeHistory\\trade_2324.csv\n",
      "\n",
      "Proccessing => C:\\Users\\prashant.tripathi\\Code\\Upstox\\DATA\\SOURCE\\TradeHistory\\trade_2425.xlsx\n",
      "Sheet name => TRADE\n",
      "Proccessed => C:\\Users\\prashant.tripathi\\Code\\Upstox\\DATA\\BRONZE\\TradeHistory\\trade_2425.csv\n"
     ]
    }
   ],
   "source": [
    "# Generate file_paths\n",
    "file_paths = check_files_availability(\n",
    "    global_path.tradehistory_source_layer_path,\n",
    "    file_pattern=\"trade_*.xlsx\",\n",
    ")\n",
    "\n",
    "for file_path in file_paths:\n",
    "    read_file(file_path)"
   ]
  }
 ],
 "metadata": {
  "kernelspec": {
   "display_name": "Python 3 (ipykernel)",
   "language": "python",
   "name": "python3"
  },
  "language_info": {
   "codemirror_mode": {
    "name": "ipython",
    "version": 3
   },
   "file_extension": ".py",
   "mimetype": "text/x-python",
   "name": "python",
   "nbconvert_exporter": "python",
   "pygments_lexer": "ipython3",
   "version": "3.11.4"
  }
 },
 "nbformat": 4,
 "nbformat_minor": 4
}
