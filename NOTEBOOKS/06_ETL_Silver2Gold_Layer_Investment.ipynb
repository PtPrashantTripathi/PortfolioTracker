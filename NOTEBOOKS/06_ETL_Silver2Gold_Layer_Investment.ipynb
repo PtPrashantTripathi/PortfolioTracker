{
 "cells": [
  {
   "cell_type": "markdown",
   "metadata": {},
   "source": [
    "## BRONZE TO SILVER LAYER\n"
   ]
  },
  {
   "cell_type": "code",
   "execution_count": 1,
   "metadata": {},
   "outputs": [],
   "source": [
    "import numpy as np\n",
    "import pandas as pd\n",
    "from global_paths import GlobalPaths"
   ]
  },
  {
   "cell_type": "code",
   "execution_count": 2,
   "metadata": {},
   "outputs": [],
   "source": [
    "# Initialize TradeHistory Paths\n",
    "TradeHistoryPath = GlobalPaths(source_name=\"DATA\", object_name=\"TradeHistory\")\n",
    "TradeHistoryGoldPath = TradeHistoryPath.createLayer(layer_name=\"GOLD\")\n",
    "TradeHistoryGoldFile = TradeHistoryGoldPath.joinpath(\"TradeHistory_data.csv\")\n",
    "\n",
    "# Initialize Investment Paths\n",
    "InvestmentPath = GlobalPaths(source_name=\"DATA\", object_name=\"Investment\")\n",
    "InvestmentGoldPath = InvestmentPath.createLayer(layer_name=\"GOLD\")\n",
    "InvestmentGoldFile = InvestmentGoldPath.joinpath(\"Investment_data.csv\")"
   ]
  },
  {
   "cell_type": "markdown",
   "metadata": {},
   "source": [
    "### Silver Layer - Process Investment History"
   ]
  },
  {
   "cell_type": "code",
   "execution_count": 3,
   "metadata": {},
   "outputs": [
    {
     "name": "stdout",
     "output_type": "stream",
     "text": [
      "<class 'pandas.core.frame.DataFrame'>\n",
      "Index: 1545 entries, 2020-04-21 to 2024-07-12\n",
      "Data columns (total 19 columns):\n",
      " #   Column                               Non-Null Count  Dtype  \n",
      "---  ------                               --------------  -----  \n",
      " 0   BHAGERIA                             41 non-null     float64\n",
      " 1   BPCL                                 369 non-null    float64\n",
      " 2   GOLDBEES                             116 non-null    float64\n",
      " 3   HERANBA                              5 non-null      float64\n",
      " 4   IDEA                                 321 non-null    float64\n",
      " 5   INFY                                 64 non-null     float64\n",
      " 6   IRCTC                                39 non-null     float64\n",
      " 7   KPITTECH                             30 non-null     float64\n",
      " 8   LICI                                 89 non-null     float64\n",
      " 9   MIRAE-ASSET-TAX-SAVER-DIRECT-GROWTH  50 non-null     float64\n",
      " 10  NIFTYBEES                            126 non-null    float64\n",
      " 11  PNB                                  321 non-null    float64\n",
      " 12  SBI-MAGNUM-TAXGAIN-SCHEME-DIR-GR     50 non-null     float64\n",
      " 13  SBIN                                 25 non-null     float64\n",
      " 14  TATACHEM                             421 non-null    float64\n",
      " 15  TATAMOTORS                           1545 non-null   float64\n",
      " 16  TATAPOWER                            1252 non-null   float64\n",
      " 17  VOLTAS                               421 non-null    float64\n",
      " 18  YESBANK                              472 non-null    float64\n",
      "dtypes: float64(19)\n",
      "memory usage: 241.4+ KB\n",
      "Gold Layer csv file for Investment successfully created at:\n",
      "C:\\Users\\prashant.tripathi\\Code\\Upstox\\DATA\\GOLD\\Investment\\Investment_data.csv\n"
     ]
    }
   ],
   "source": [
    " # Read the CSV file\n",
    "df_TradeHistory_GOLD = pd.read_csv(TradeHistoryGoldFile)\n",
    "\n",
    "# Filter the DataFrame\n",
    "df_TradeHistory_GOLD = df_TradeHistory_GOLD[df_TradeHistory_GOLD[\"segment\"].isin([\"MF\", \"EQ\"])]\n",
    "\n",
    "# Convert datetime to date string\n",
    "df_TradeHistory_GOLD[\"date\"] = pd.to_datetime(\n",
    "    df_TradeHistory_GOLD[\"datetime\"]\n",
    ").dt.date\n",
    "\n",
    "# Create a new DataFrame with an updated date range\n",
    "date_range = pd.date_range(\n",
    "    start=df_TradeHistory_GOLD[\"date\"].min(), end=pd.to_datetime(\"today\"), freq=\"D\"\n",
    ")    \n",
    "df_Investment_GOLD = pd.DataFrame({\"date\": date_range.date})\n",
    "\n",
    "for stock_name, group in df_TradeHistory_GOLD.groupby(\"stock_name\"):\n",
    "    df_Investment_GOLD = pd.merge(df_Investment_GOLD, group[[\"date\", \"avg_price\"]], on=\"date\", how=\"left\").rename(\n",
    "        columns={\"avg_price\": stock_name},\n",
    "    )\n",
    "\n",
    "# Setting date column as index\n",
    "df_Investment_GOLD.set_index(\"date\", inplace=True)\n",
    "\n",
    "# Reindexing to fill the missing data with the last available data\n",
    "df_Investment_GOLD = df_Investment_GOLD.ffill()\n",
    "df_Investment_GOLD.replace(0.0, np.nan, inplace=True)\n",
    "\n",
    "# Save the result as a csv file\n",
    "df_Investment_GOLD.to_csv(InvestmentGoldFile, index=None)\n",
    "df_Investment_GOLD.info()\n",
    "print(\"Gold Layer csv file for Investment successfully created at:\")\n",
    "print(InvestmentGoldFile.resolve())"
   ]
  }
 ],
 "metadata": {
  "kernelspec": {
   "display_name": "Python 3",
   "language": "python",
   "name": "python3"
  },
  "language_info": {
   "codemirror_mode": {
    "name": "ipython",
    "version": 3
   },
   "file_extension": ".py",
   "mimetype": "text/x-python",
   "name": "python",
   "nbconvert_exporter": "python",
   "pygments_lexer": "ipython3",
   "version": "3.11.4"
  }
 },
 "nbformat": 4,
 "nbformat_minor": 2
}
