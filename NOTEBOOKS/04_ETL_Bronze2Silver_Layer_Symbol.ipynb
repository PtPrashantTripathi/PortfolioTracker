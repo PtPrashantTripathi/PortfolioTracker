{
 "cells": [
  {
   "cell_type": "markdown",
   "metadata": {},
   "source": [
    "## BRONZE TO SILVER LAYER\n"
   ]
  },
  {
   "cell_type": "code",
   "execution_count": null,
   "metadata": {},
   "outputs": [],
   "source": [
    "import pandas as pd\n",
    "from common_utilities import replace_punctuation_from_columns\n",
    "from global_paths import SymbolBronzeLayerPath, SymbolSilverFilePath"
   ]
  },
  {
   "cell_type": "markdown",
   "metadata": {},
   "source": [
    "### Bronze Layer - ScripCode\n"
   ]
  },
  {
   "cell_type": "code",
   "execution_count": null,
   "metadata": {},
   "outputs": [],
   "source": [
    "# Initialize an empty list to store DataFrames\n",
    "df_Symbol = []\n",
    "\n",
    "# Loop through List of all CSV files in the folder\n",
    "for file_path in SymbolBronzeLayerPath.glob(\"*.csv\"):\n",
    "    # Read the CSV file\n",
    "    df = pd.read_csv(file_path)\n",
    "    # Append the DataFrame to the list\n",
    "    df_Symbol.append(df)\n",
    "\n",
    "# Concatenate all DataFrames into one\n",
    "df_Symbol = pd.concat(df_Symbol, ignore_index=True)\n",
    "\n",
    "df_Symbol.columns = replace_punctuation_from_columns(df_Symbol.columns)\n",
    "df_Symbol.dropna(how=\"all\", axis=1, inplace=True)\n",
    "\n",
    "# sort the dataframe by date\n",
    "df_Symbol = df_Symbol.sort_values(by=[\"scrip_code\"])\n",
    "\n",
    "# Save the result as a csv file\n",
    "df_Symbol.to_csv(SymbolSilverFilePath, index=None)\n",
    "df_Symbol.info()\n",
    "\n",
    "print(\"Silver Layer csv file for Symbol successfully created at:\")\n",
    "print(SymbolSilverFilePath.resolve())"
   ]
  }
 ],
 "metadata": {
  "kernelspec": {
   "display_name": "Python 3",
   "language": "python",
   "name": "python3"
  },
  "language_info": {
   "codemirror_mode": {
    "name": "ipython",
    "version": 3
   },
   "file_extension": ".py",
   "mimetype": "text/x-python",
   "name": "python",
   "nbconvert_exporter": "python",
   "pygments_lexer": "ipython3",
   "version": "3.11.4"
  }
 },
 "nbformat": 4,
 "nbformat_minor": 2
}
