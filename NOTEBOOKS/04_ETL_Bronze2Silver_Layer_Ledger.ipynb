{
 "cells": [
  {
   "cell_type": "markdown",
   "metadata": {},
   "source": [
    "## BRONZE TO SILVER LAYER\n"
   ]
  },
  {
   "cell_type": "code",
   "execution_count": 4,
   "metadata": {},
   "outputs": [],
   "source": [
    "import pandas as pd\n",
    "from common_utilities import (\n",
    "    global_path,\n",
    "    replace_punctuation_from_columns,\n",
    ")"
   ]
  },
  {
   "cell_type": "markdown",
   "metadata": {},
   "source": [
    "### Bronze Layer - Trade History\n"
   ]
  },
  {
   "cell_type": "code",
   "execution_count": 5,
   "metadata": {},
   "outputs": [
    {
     "name": "stdout",
     "output_type": "stream",
     "text": [
      "<class 'pandas.core.frame.DataFrame'>\n",
      "Index: 100 entries, 0 to 99\n",
      "Data columns (total 10 columns):\n",
      " #   Column           Non-Null Count  Dtype  \n",
      "---  ------           --------------  -----  \n",
      " 0   wallet           100 non-null    object \n",
      " 1   trade_date       100 non-null    object \n",
      " 2   settlement_date  100 non-null    object \n",
      " 3   exchange         100 non-null    object \n",
      " 4   segment          100 non-null    object \n",
      " 5   type             100 non-null    object \n",
      " 6   narration        100 non-null    object \n",
      " 7   debit            59 non-null     float64\n",
      " 8   credit           39 non-null     float64\n",
      " 9   closing_balance  100 non-null    float64\n",
      "dtypes: float64(3), object(7)\n",
      "memory usage: 8.6+ KB\n",
      "SILVER Layer csv file for Bill Summary successfully created at:\n",
      "C:\\Users\\prashant.tripathi\\Code\\Upstox\\DATA\\SILVER\\Ledger\\Ledger_data.csv\n"
     ]
    }
   ],
   "source": [
    "# Initialize an empty list to store DataFrames\n",
    "df_Ledger = []\n",
    "\n",
    "# Loop through List of all CSV files in the folder\n",
    "for file_path in global_path.ledger_bronze_layer_path.glob(\"*.csv\"):\n",
    "    # Read the CSV file\n",
    "    df = pd.read_csv(file_path)\n",
    "    # Append the DataFrame to the list\n",
    "    df_Ledger.append(df)\n",
    "\n",
    "# Concatenate all DataFrames into one\n",
    "df_Ledger = pd.concat(df_Ledger, ignore_index=True)\n",
    "df_Ledger = replace_punctuation_from_columns(df_Ledger)\n",
    "df_Ledger.dropna(how=\"all\", axis=1, inplace=True)\n",
    "\n",
    "# # Convert 'bill_number' to int\n",
    "# df_Ledger[\"bill_number\"] = df_Ledger[\"bill_number\"].fillna(0).astype(int)\n",
    "\n",
    "# Add Datetime Col\n",
    "df_Ledger[\"trade_date\"] = pd.to_datetime(df_Ledger[\"trade_date\"], format=\"%Y-%m-%d\").dt.date\n",
    "df_Ledger[\"settlement_date\"] = pd.to_datetime(df_Ledger[\"settlement_date\"], format=\"%Y-%m-%d\").dt.date\n",
    "\n",
    "\n",
    "# sort the dataframe by date\n",
    "df_Ledger = df_Ledger.sort_values(by=[\"trade_date\", \"settlement_date\", \"exchange\", \"segment\"])\n",
    "\n",
    "\n",
    "df_Ledger = df_Ledger[\n",
    "    [\n",
    "        \"wallet\",\n",
    "        \"trade_date\",\n",
    "        \"settlement_date\",\n",
    "        \"exchange\",\n",
    "        \"segment\",\n",
    "        \"type\",\n",
    "        \"narration\",\n",
    "        \"debit\",\n",
    "        \"credit\",\n",
    "        \"closing_balance\",\n",
    "    ]\n",
    "]\n",
    "\n",
    "# Save the result as a csv file\n",
    "df_Ledger.to_csv(global_path.ledger_silver_file_path, index=None)\n",
    "df_Ledger.info()\n",
    "\n",
    "print(\"SILVER Layer csv file for Bill Summary successfully created at:\")\n",
    "print(global_path.ledger_silver_file_path.resolve())"
   ]
  },
  {
   "cell_type": "code",
   "execution_count": 6,
   "metadata": {},
   "outputs": [],
   "source": [
    "# for file_path in global_path.ledger_bronze_layer_path.glob(\"*.xlsx\"):\n",
    "#     # Read the xlsx file with header at line 8 (index 7 in pandas)\n",
    "#     df = pd.read_excel(file_path, header=7)\n",
    "#     df.to_csv(str(file_path).replace(\"Securities_846833.xlsx\",\".csv\"), index=False)"
   ]
  }
 ],
 "metadata": {
  "kernelspec": {
   "display_name": "Python 3",
   "language": "python",
   "name": "python3"
  },
  "language_info": {
   "codemirror_mode": {
    "name": "ipython",
    "version": 3
   },
   "file_extension": ".py",
   "mimetype": "text/x-python",
   "name": "python",
   "nbconvert_exporter": "python",
   "pygments_lexer": "ipython3",
   "version": "3.11.4"
  }
 },
 "nbformat": 4,
 "nbformat_minor": 2
}
