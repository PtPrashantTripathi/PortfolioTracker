{
 "cells": [
  {
   "cell_type": "markdown",
   "metadata": {},
   "source": [
    "## BRONZE TO SILVER LAYER\n",
    "\n",
    "### Bronze Layer - Trade History"
   ]
  },
  {
   "cell_type": "code",
   "execution_count": 1,
   "metadata": {},
   "outputs": [],
   "source": [
    "# Import necessary libraries and utility functions\n",
    "import pandas as pd\n",
    "from common_utilities import (\n",
    "    global_path,\n",
    "    replace_punctuation_from_columns,\n",
    "    logger\n",
    ")"
   ]
  },
  {
   "cell_type": "markdown",
   "metadata": {},
   "source": [
    "### Data Processing\n",
    "\n",
    "- Initialize an empty list to store DataFrames.\n",
    "- Read and concatenate data from multiple CSV files.\n",
    "- Harmonize column names and clean the data.\n",
    "- Convert data types and add additional datetime columns."
   ]
  },
  {
   "cell_type": "code",
   "execution_count": 2,
   "metadata": {},
   "outputs": [
    {
     "name": "stderr",
     "output_type": "stream",
     "text": [
      "2024-08-01T13:03:41Z - INFO - Processing file: C:\\Users\\prashant.tripathi\\Code\\Upstox\\DATA\\BRONZE\\Ledger\\ledger_2021.csv\n",
      "2024-08-01T13:03:41Z - INFO - Processing file: C:\\Users\\prashant.tripathi\\Code\\Upstox\\DATA\\BRONZE\\Ledger\\ledger_2122.csv\n",
      "2024-08-01T13:03:41Z - INFO - Processing file: C:\\Users\\prashant.tripathi\\Code\\Upstox\\DATA\\BRONZE\\Ledger\\ledger_2223.csv\n",
      "2024-08-01T13:03:41Z - INFO - Processing file: C:\\Users\\prashant.tripathi\\Code\\Upstox\\DATA\\BRONZE\\Ledger\\ledger_2324.csv\n",
      "2024-08-01T13:03:41Z - INFO - Processing file: C:\\Users\\prashant.tripathi\\Code\\Upstox\\DATA\\BRONZE\\Ledger\\ledger_2425.csv\n"
     ]
    }
   ],
   "source": [
    "# Initialize an empty list to store DataFrames\n",
    "df_ledger_list = []\n",
    "\n",
    "# Generate file paths for available CSV files in the Bronze layer\n",
    "file_paths = global_path.ledger_bronze_layer_path.glob(\"*.csv\")\n",
    "\n",
    "# Loop through List of all CSV files in the folder\n",
    "for file_path in file_paths:\n",
    "    try:\n",
    "        logger.info(f\"Processing file: {file_path}\")\n",
    "        # Read the CSV file\n",
    "        df = pd.read_csv(file_path)\n",
    "        # Append the DataFrame to the list\n",
    "        df_ledger_list.append(df)\n",
    "    except Exception as e:\n",
    "        logger.error(f\"Failed to read {file_path} due to error: {e}\")\n",
    "\n",
    "# Concatenate all DataFrames into one\n",
    "df_ledger = pd.concat(df_ledger_list, ignore_index=True)\n",
    "\n",
    "# Harmonize column names\n",
    "df_ledger = replace_punctuation_from_columns(df_ledger)\n",
    "\n",
    "# Remove all-NA columns from each DataFrame\n",
    "df_ledger.dropna(how=\"all\", axis=1, inplace=True)\n",
    "\n",
    "# Add Datetime Columns\n",
    "df_ledger[\"trade_date\"] = pd.to_datetime(df_ledger[\"trade_date\"], format=\"%Y-%m-%d\").dt.date\n",
    "df_ledger[\"settlement_date\"] = pd.to_datetime(df_ledger[\"settlement_date\"], format=\"%Y-%m-%d\").dt.date"
   ]
  },
  {
   "cell_type": "markdown",
   "metadata": {},
   "source": [
    "### Final Processing and Export\n",
    "\n",
    "- Sort the DataFrame by relevant columns.\n",
    "- Save the processed data as a CSV file in the Silver layer."
   ]
  },
  {
   "cell_type": "code",
   "execution_count": 3,
   "metadata": {},
   "outputs": [
    {
     "name": "stderr",
     "output_type": "stream",
     "text": [
      "2024-08-01T13:03:41Z - INFO - SILVER Layer CSV file for Bill Summary successfully created at:\n",
      "2024-08-01T13:03:41Z - INFO - C:\\Users\\prashant.tripathi\\Code\\Upstox\\DATA\\SILVER\\Ledger\\Ledger_data.csv\n"
     ]
    },
    {
     "name": "stdout",
     "output_type": "stream",
     "text": [
      "<class 'pandas.core.frame.DataFrame'>\n",
      "Index: 100 entries, 0 to 99\n",
      "Data columns (total 10 columns):\n",
      " #   Column           Non-Null Count  Dtype  \n",
      "---  ------           --------------  -----  \n",
      " 0   wallet           100 non-null    object \n",
      " 1   trade_date       100 non-null    object \n",
      " 2   settlement_date  100 non-null    object \n",
      " 3   exchange         100 non-null    object \n",
      " 4   segment          100 non-null    object \n",
      " 5   type             100 non-null    object \n",
      " 6   narration        100 non-null    object \n",
      " 7   debit            59 non-null     float64\n",
      " 8   credit           39 non-null     float64\n",
      " 9   closing_balance  100 non-null    float64\n",
      "dtypes: float64(3), object(7)\n",
      "memory usage: 8.6+ KB\n"
     ]
    }
   ],
   "source": [
    "try:\n",
    "    # Sort the DataFrame by date and other relevant columns\n",
    "    df_ledger = df_ledger.sort_values(by=[\"trade_date\", \"settlement_date\", \"exchange\", \"segment\"])\n",
    "    \n",
    "    # Select relevant columns\n",
    "    df_ledger = df_ledger[\n",
    "        [\n",
    "            \"wallet\",\n",
    "            \"trade_date\",\n",
    "            \"settlement_date\",\n",
    "            \"exchange\",\n",
    "            \"segment\",\n",
    "            \"type\",\n",
    "            \"narration\",\n",
    "            \"debit\",\n",
    "            \"credit\",\n",
    "            \"closing_balance\",\n",
    "        ]\n",
    "    ]\n",
    "    # Log the DataFrame info\n",
    "    df_ledger.info()\n",
    "    \n",
    "    # Save the result as a CSV file\n",
    "    df_ledger.to_csv(global_path.ledger_silver_file_path, index=None)\n",
    "    logger.info(\"SILVER Layer CSV file for Bill Summary successfully created at:\")\n",
    "    logger.info(global_path.ledger_silver_file_path.resolve())\n",
    "except Exception as e:\n",
    "    logger.error(f\"Failed to save SILVER Layer CSV file due to error: {e}\")\n"
   ]
  }
 ],
 "metadata": {
  "kernelspec": {
   "display_name": "Python 3",
   "language": "python",
   "name": "python3"
  },
  "language_info": {
   "codemirror_mode": {
    "name": "ipython",
    "version": 3
   },
   "file_extension": ".py",
   "mimetype": "text/x-python",
   "name": "python",
   "nbconvert_exporter": "python",
   "pygments_lexer": "ipython3",
   "version": "3.11.4"
  }
 },
 "nbformat": 4,
 "nbformat_minor": 2
}
