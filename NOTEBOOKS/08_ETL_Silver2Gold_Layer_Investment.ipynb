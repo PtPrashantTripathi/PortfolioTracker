{
 "cells": [
  {
   "cell_type": "markdown",
   "metadata": {},
   "source": [
    "## BRONZE TO SILVER LAYER\n"
   ]
  },
  {
   "cell_type": "code",
   "execution_count": null,
   "metadata": {},
   "outputs": [],
   "source": [
    "import numpy as np\n",
    "import pandas as pd\n",
    "from common_utilities import GlobalPaths"
   ]
  },
  {
   "cell_type": "code",
   "execution_count": null,
   "metadata": {},
   "outputs": [],
   "source": [
    "# Initialize TradeHistory Paths\n",
    "TradeHistoryGlobalPath = GlobalPaths(source_name=\"DATA\", object_name=\"TradeHistory\")\n",
    "TradeHistory_GOLD_LAYER_PATH = TradeHistoryGlobalPath.createLayer(layer_name=\"GOLD\")\n",
    "TradeHistory_GOLD_FILE_PATH = TradeHistory_GOLD_LAYER_PATH.joinpath(\"TradeHistory_data.csv\")\n",
    "\n",
    "# Initialize Investment Paths\n",
    "InvestmentGlobalPath = GlobalPaths(source_name=\"DATA\", object_name=\"Investment\")\n",
    "Investment_GOLD_LAYER_PATH = InvestmentGlobalPath.createLayer(layer_name=\"GOLD\")\n",
    "Investment_GOLD_FILE_PATH = Investment_GOLD_LAYER_PATH.joinpath(\"Investment_data.csv\")"
   ]
  },
  {
   "cell_type": "markdown",
   "metadata": {},
   "source": [
    "### SILVER Layer - Process Investment History"
   ]
  },
  {
   "cell_type": "code",
   "execution_count": null,
   "metadata": {},
   "outputs": [],
   "source": [
    "# Read the CSV file\n",
    "df_TradeHistory_GOLD = pd.read_csv(TradeHistory_GOLD_FILE_PATH)\n",
    "\n",
    "# Filter the DataFrame\n",
    "df_TradeHistory_GOLD = df_TradeHistory_GOLD[df_TradeHistory_GOLD[\"segment\"].isin([\"MF\", \"EQ\"])]\n",
    "\n",
    "# Convert datetime to date string\n",
    "df_TradeHistory_GOLD[\"date\"] = pd.to_datetime(df_TradeHistory_GOLD[\"datetime\"]).dt.date\n",
    "\n",
    "# Create a new DataFrame with an updated date range\n",
    "date_range = pd.date_range(start=df_TradeHistory_GOLD[\"date\"].min(), end=pd.to_datetime(\"today\"), freq=\"D\")\n",
    "df_Investment_GOLD = pd.DataFrame({\"date\": date_range.date})\n",
    "\n",
    "for stock_name, group in df_TradeHistory_GOLD.groupby(\"stock_name\"):\n",
    "    df_Investment_GOLD = pd.merge(df_Investment_GOLD, group[[\"date\", \"avg_price\"]], on=\"date\", how=\"left\").rename(\n",
    "        columns={\"avg_price\": stock_name},\n",
    "    )\n",
    "\n",
    "# sort the dataframe by date\n",
    "df_Investment_GOLD = df_Investment_GOLD.sort_values(by=[\"date\"])\n",
    "\n",
    "# Reindexing to fill the missing data with the last available data\n",
    "df_Investment_GOLD = df_Investment_GOLD.ffill()\n",
    "df_Investment_GOLD.replace(0.0, np.nan, inplace=True)\n",
    "\n",
    "# Save the result as a csv file\n",
    "df_Investment_GOLD.to_csv(Investment_GOLD_FILE_PATH, index=None)\n",
    "df_Investment_GOLD.info()\n",
    "print(\"GOLD Layer csv file for Investment successfully created at:\")\n",
    "print(Investment_GOLD_FILE_PATH.resolve())"
   ]
  }
 ],
 "metadata": {
  "kernelspec": {
   "display_name": "Python 3",
   "language": "python",
   "name": "python3"
  },
  "language_info": {
   "codemirror_mode": {
    "name": "ipython",
    "version": 3
   },
   "file_extension": ".py",
   "mimetype": "text/x-python",
   "name": "python",
   "nbconvert_exporter": "python",
   "pygments_lexer": "ipython3",
   "version": "3.11.4"
  }
 },
 "nbformat": 4,
 "nbformat_minor": 2
}
