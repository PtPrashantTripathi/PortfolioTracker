{
 "cells": [
  {
   "cell_type": "markdown",
   "metadata": {},
   "source": [
    "## BRONZE TO SILVER LAYER\n"
   ]
  },
  {
   "cell_type": "code",
   "execution_count": 1,
   "metadata": {},
   "outputs": [],
   "source": [
    "import os\n",
    "import pathlib\n",
    "import pandas as pd\n",
    "from common_utilities import replace_punctuation_from_columns"
   ]
  },
  {
   "cell_type": "code",
   "execution_count": 2,
   "metadata": {},
   "outputs": [],
   "source": [
    "## Folder and File path\n",
    "cwd = pathlib.Path(os.getcwd())\n",
    "\n",
    "bronze_data_path = cwd.joinpath(\"../DATA/BRONZE\").resolve()\n",
    "\n",
    "silver_path = cwd.joinpath(\"../DATA/SILVER\")\n",
    "silver_path.mkdir(parents=True, exist_ok=True)"
   ]
  },
  {
   "cell_type": "markdown",
   "metadata": {},
   "source": [
    "### Silver Layer - Equity Names Data\n"
   ]
  },
  {
   "cell_type": "code",
   "execution_count": 3,
   "metadata": {},
   "outputs": [
    {
     "name": "stdout",
     "output_type": "stream",
     "text": [
      "<class 'pandas.core.frame.DataFrame'>\n",
      "RangeIndex: 4326 entries, 0 to 4325\n",
      "Data columns (total 14 columns):\n",
      " #   Column             Non-Null Count  Dtype  \n",
      "---  ------             --------------  -----  \n",
      " 0   security_code      4326 non-null   int64  \n",
      " 1   issuer_name        4326 non-null   object \n",
      " 2   security_id        4326 non-null   object \n",
      " 3   security_name      4326 non-null   object \n",
      " 4   status             4326 non-null   object \n",
      " 5   group              4326 non-null   object \n",
      " 6   face_value         4326 non-null   float64\n",
      " 7   isin_no            4326 non-null   object \n",
      " 8   industry           4326 non-null   object \n",
      " 9   instrument         4326 non-null   object \n",
      " 10  sector_name        4326 non-null   object \n",
      " 11  industry_new_name  4326 non-null   object \n",
      " 12  igroup_name        4326 non-null   object \n",
      " 13  isubgroup_name     4326 non-null   object \n",
      "dtypes: float64(1), int64(1), object(12)\n",
      "memory usage: 473.3+ KB\n",
      "Silver Layer csv file for Stock Price history successfully created at:\n",
      "C:\\Users\\prashant.tripathi\\Code\\Unilever\\Upstox\\DATA\\SILVER\\Equity.csv\n"
     ]
    }
   ],
   "source": [
    "# List all CSV files in the folder\n",
    "bronze_data_file_path = bronze_data_path.joinpath(\"EQUITY/Equity.csv\")\n",
    "# Read the CSV file\n",
    "df_equity = pd.read_csv(bronze_data_file_path)\n",
    "\n",
    "df_equity.columns = replace_punctuation_from_columns(df_equity.columns)\n",
    "df_equity.dropna(how=\"all\", axis=1, inplace=True)\n",
    "\n",
    "\n",
    "# Save the result as a csv file\n",
    "silver_file_path = silver_path.joinpath(\"Equity.csv\")\n",
    "df_equity.to_csv(silver_file_path, orient=\"records\", indent=4)\n",
    "df_equity.info()\n",
    "\n",
    "print(\"Silver Layer csv file for Stock Price history successfully created at:\")\n",
    "print(silver_file_path.resolve())"
   ]
  }
 ],
 "metadata": {
  "kernelspec": {
   "display_name": "Python 3",
   "language": "python",
   "name": "python3"
  },
  "language_info": {
   "codemirror_mode": {
    "name": "ipython",
    "version": 3
   },
   "file_extension": ".py",
   "mimetype": "text/x-python",
   "name": "python",
   "nbconvert_exporter": "python",
   "pygments_lexer": "ipython3",
   "version": "3.11.4"
  }
 },
 "nbformat": 4,
 "nbformat_minor": 2
}
