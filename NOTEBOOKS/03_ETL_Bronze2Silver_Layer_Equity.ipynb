{
 "cells": [
  {
   "cell_type": "markdown",
   "metadata": {},
   "source": [
    "## BRONZE TO SILVER LAYER\n"
   ]
  },
  {
   "cell_type": "code",
   "execution_count": 1,
   "metadata": {},
   "outputs": [],
   "source": [
    "import pandas as pd\n",
    "from global_paths import GlobalPaths\n",
    "from common_utilities import replace_punctuation_from_columns"
   ]
  },
  {
   "cell_type": "markdown",
   "metadata": {},
   "source": [
    "### Equity Paths\n"
   ]
  },
  {
   "cell_type": "code",
   "execution_count": 2,
   "metadata": {},
   "outputs": [],
   "source": [
    "# Initialize Equity Paths\n",
    "EquityPath = GlobalPaths(source_name=\"DATA\", object_name=\"Equity\")\n",
    "EquityBronzePath = EquityPath.createLayer(layer_name=\"BRONZE\")\n",
    "EquitySilverPath = EquityPath.createLayer(layer_name=\"SILVER\")\n",
    "EquitySilverFile = EquitySilverPath.joinpath(\"Equity_data.csv\")"
   ]
  },
  {
   "cell_type": "markdown",
   "metadata": {},
   "source": [
    "### Bronze Layer - Trade History\n"
   ]
  },
  {
   "cell_type": "code",
   "execution_count": 3,
   "metadata": {},
   "outputs": [
    {
     "name": "stdout",
     "output_type": "stream",
     "text": [
      "<class 'pandas.core.frame.DataFrame'>\n",
      "RangeIndex: 4326 entries, 0 to 4325\n",
      "Data columns (total 14 columns):\n",
      " #   Column             Non-Null Count  Dtype  \n",
      "---  ------             --------------  -----  \n",
      " 0   security_code      4326 non-null   int64  \n",
      " 1   issuer_name        4326 non-null   object \n",
      " 2   security_id        4326 non-null   object \n",
      " 3   security_name      4326 non-null   object \n",
      " 4   status             4326 non-null   object \n",
      " 5   group              4326 non-null   object \n",
      " 6   face_value         4326 non-null   float64\n",
      " 7   isin_no            4326 non-null   object \n",
      " 8   industry           4326 non-null   object \n",
      " 9   instrument         4326 non-null   object \n",
      " 10  sector_name        4326 non-null   object \n",
      " 11  industry_new_name  4326 non-null   object \n",
      " 12  igroup_name        4326 non-null   object \n",
      " 13  isubgroup_name     4326 non-null   object \n",
      "dtypes: float64(1), int64(1), object(12)\n",
      "memory usage: 473.3+ KB\n",
      "Silver Layer csv file for Equity successfully created at:\n",
      "C:\\Users\\prashant.tripathi\\Code\\Upstox\\DATA\\SILVER\\Equity\\Equity_data.csv\n"
     ]
    }
   ],
   "source": [
    "# Initialize an empty list to store DataFrames\n",
    "dfs = []\n",
    "\n",
    "# Loop through List of all CSV files in the folder\n",
    "for file_path in EquityBronzePath.glob(\"*.csv\"):\n",
    "    # Read the CSV file\n",
    "    df_bronze = pd.read_csv(file_path)\n",
    "    # Append the DataFrame to the list\n",
    "    dfs.append(df_bronze)\n",
    "\n",
    "# Concatenate all DataFrames into one\n",
    "df_Equity = pd.concat(dfs, ignore_index=True)\n",
    "\n",
    "df_Equity.columns = replace_punctuation_from_columns(df_Equity.columns)\n",
    "df_Equity.dropna(how=\"all\", axis=1, inplace=True)\n",
    "\n",
    "# sort the dataframe by date\n",
    "df_Equity = df_Equity.sort_values(by=[\"security_code\"])\n",
    "\n",
    "# Save the result as a csv file\n",
    "df_Equity.to_csv(EquitySilverFile, index=None)\n",
    "df_Equity.info()\n",
    "\n",
    "print(\"Silver Layer csv file for Equity successfully created at:\")\n",
    "print(EquitySilverFile.resolve())"
   ]
  }
 ],
 "metadata": {
  "kernelspec": {
   "display_name": "Python 3",
   "language": "python",
   "name": "python3"
  },
  "language_info": {
   "codemirror_mode": {
    "name": "ipython",
    "version": 3
   },
   "file_extension": ".py",
   "mimetype": "text/x-python",
   "name": "python",
   "nbconvert_exporter": "python",
   "pygments_lexer": "ipython3",
   "version": "3.11.4"
  }
 },
 "nbformat": 4,
 "nbformat_minor": 2
}
