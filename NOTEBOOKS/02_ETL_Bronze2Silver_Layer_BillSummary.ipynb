{
 "cells": [
  {
   "cell_type": "markdown",
   "metadata": {},
   "source": [
    "## BRONZE TO SILVER LAYER\n"
   ]
  },
  {
   "cell_type": "code",
   "execution_count": 1,
   "metadata": {},
   "outputs": [],
   "source": [
    "import pandas as pd\n",
    "from common_utilities import replace_punctuation_from_columns\n",
    "from global_paths import BillSummaryBronzeLayerPath, BillSummarySilverFilePath"
   ]
  },
  {
   "cell_type": "markdown",
   "metadata": {},
   "source": [
    "### Bronze Layer - Trade History\n"
   ]
  },
  {
   "cell_type": "code",
   "execution_count": 2,
   "metadata": {},
   "outputs": [
    {
     "name": "stdout",
     "output_type": "stream",
     "text": [
      "<class 'pandas.core.frame.DataFrame'>\n",
      "Index: 53 entries, 13 to 24\n",
      "Data columns (total 6 columns):\n",
      " #   Column         Non-Null Count  Dtype  \n",
      "---  ------         --------------  -----  \n",
      " 0   date           53 non-null     object \n",
      " 1   exchange       53 non-null     object \n",
      " 2   segment        53 non-null     object \n",
      " 3   debit_amount   53 non-null     float64\n",
      " 4   credit_amount  53 non-null     float64\n",
      " 5   bill_number    53 non-null     int32  \n",
      "dtypes: float64(2), int32(1), object(3)\n",
      "memory usage: 2.7+ KB\n",
      "Silver Layer csv file for Bill Summary successfully created at:\n",
      "C:\\Users\\prashant.tripathi\\Code\\Upstox\\DATA\\SILVER\\BillSummary\\BillSummary_data.csv\n"
     ]
    }
   ],
   "source": [
    "# Initialize an empty list to store DataFrames\n",
    "df_BillSummary = []\n",
    "\n",
    "# Loop through List of all CSV files in the folder\n",
    "for file_path in BillSummaryBronzeLayerPath.glob(\"*.csv\"):\n",
    "    # Read the CSV file\n",
    "    df = pd.read_csv(file_path)\n",
    "    # Append the DataFrame to the list\n",
    "    df_BillSummary.append(df)\n",
    "\n",
    "# Concatenate all DataFrames into one\n",
    "df_BillSummary = pd.concat(df_BillSummary, ignore_index=True)\n",
    "df_BillSummary.columns = replace_punctuation_from_columns(df_BillSummary.columns)\n",
    "df_BillSummary.dropna(how=\"all\", axis=1, inplace=True)\n",
    "\n",
    "# Convert 'bill_number' to int\n",
    "df_BillSummary[\"bill_number\"] = df_BillSummary[\"bill_number\"].fillna(0).astype(int)\n",
    "\n",
    "# Add Datetime Col\n",
    "df_BillSummary[\"date\"] = pd.to_datetime(df_BillSummary[\"date\"], format=\"%d-%m-%Y\").dt.date\n",
    "\n",
    "\n",
    "# sort the dataframe by date\n",
    "df_BillSummary = df_BillSummary.sort_values(by=[\"date\", \"segment\", \"exchange\"])\n",
    "\n",
    "\n",
    "df_BillSummary = df_BillSummary[[\"date\", \"exchange\", \"segment\", \"debit_amount\", \"credit_amount\", \"bill_number\"]]\n",
    "\n",
    "# Save the result as a csv file\n",
    "df_BillSummary.to_csv(BillSummarySilverFilePath, index=None)\n",
    "df_BillSummary.info()\n",
    "\n",
    "print(\"Silver Layer csv file for Bill Summary successfully created at:\")\n",
    "print(BillSummarySilverFilePath.resolve())"
   ]
  }
 ],
 "metadata": {
  "kernelspec": {
   "display_name": "Python 3",
   "language": "python",
   "name": "python3"
  },
  "language_info": {
   "codemirror_mode": {
    "name": "ipython",
    "version": 3
   },
   "file_extension": ".py",
   "mimetype": "text/x-python",
   "name": "python",
   "nbconvert_exporter": "python",
   "pygments_lexer": "ipython3",
   "version": "3.11.4"
  }
 },
 "nbformat": 4,
 "nbformat_minor": 2
}
