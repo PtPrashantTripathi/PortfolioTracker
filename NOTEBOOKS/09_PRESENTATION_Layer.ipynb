{
 "cells": [
  {
   "cell_type": "code",
   "execution_count": null,
   "metadata": {
    "application/vnd.databricks.v1+cell": {
     "cellMetadata": {
      "byteLimit": 2048000,
      "rowLimit": 10000
     },
     "inputWidgets": {},
     "nuid": "8c00f480-7de4-4b6e-858d-7cf14dd21465",
     "showTitle": false,
     "title": ""
    }
   },
   "outputs": [],
   "source": [
    "import pandas as pd\n",
    "import matplotlib.pyplot as plt\n",
    "import matplotlib.dates as mdates\n",
    "from common_utilities import GlobalPaths"
   ]
  },
  {
   "cell_type": "code",
   "execution_count": null,
   "metadata": {},
   "outputs": [],
   "source": [
    "# Initialize StockPrice Paths\n",
    "StockPriceGlobalPath = GlobalPaths(source_name=\"DATA\", object_name=\"StockPrice\")\n",
    "StockPrice_SILVER_LAYER_PATH = StockPriceGlobalPath.createLayer(layer_name=\"SILVER\")\n",
    "StockPrice_SILVER_FILE_PATH = StockPrice_SILVER_LAYER_PATH.joinpath(\"StockPrice_data.csv\")\n",
    "\n",
    "# Initialize Holdings Paths\n",
    "HoldingsGlobalPath = GlobalPaths(source_name=\"DATA\", object_name=\"Holdings\")\n",
    "Holdings_GOLD_LAYER_PATH = HoldingsGlobalPath.createLayer(layer_name=\"GOLD\")\n",
    "Holdings_GOLD_FILE_PATH = Holdings_GOLD_LAYER_PATH.joinpath(\"Holdings_data.csv\")\n",
    "\n",
    "# Initialize Investment Paths\n",
    "InvestmentGlobalPath = GlobalPaths(source_name=\"DATA\", object_name=\"Investment\")\n",
    "Investment_GOLD_LAYER_PATH = InvestmentGlobalPath.createLayer(layer_name=\"GOLD\")\n",
    "Investment_GOLD_FILE_PATH = Investment_GOLD_LAYER_PATH.joinpath(\"Investment_data.csv\")"
   ]
  },
  {
   "cell_type": "code",
   "execution_count": null,
   "metadata": {
    "application/vnd.databricks.v1+cell": {
     "cellMetadata": {},
     "inputWidgets": {},
     "nuid": "713af1a8-5ac3-449c-90c8-96f641c6828f",
     "showTitle": false,
     "title": ""
    }
   },
   "outputs": [],
   "source": [
    "## PRESENTATION LAYER\n",
    "df_Holdings_GOLD = pd.read_csv(Holdings_GOLD_FILE_PATH)\n",
    "df_Investment_GOLD = pd.read_csv(Investment_GOLD_FILE_PATH)\n",
    "df_StockPrice_SILVER = pd.read_csv(StockPrice_SILVER_FILE_PATH)\n",
    "\n",
    "# Convert datetime to date string\n",
    "df_Holdings_GOLD[\"date\"] = pd.to_datetime(df_Holdings_GOLD[\"date\"])\n",
    "df_Investment_GOLD[\"date\"] = pd.to_datetime(df_Investment_GOLD[\"date\"])\n",
    "df_StockPrice_SILVER[\"date\"] = pd.to_datetime(df_StockPrice_SILVER[\"date\"])\n",
    "\n",
    "# setting date column as index\n",
    "df_Holdings_GOLD.set_index(\"date\", inplace=True)\n",
    "df_Investment_GOLD.set_index(\"date\", inplace=True)\n",
    "df_StockPrice_SILVER.set_index(\"date\", inplace=True)"
   ]
  },
  {
   "cell_type": "code",
   "execution_count": null,
   "metadata": {
    "application/vnd.databricks.v1+cell": {
     "cellMetadata": {},
     "inputWidgets": {},
     "nuid": "b3a0fd8a-af42-4659-acb9-31ed825f916b",
     "showTitle": false,
     "title": ""
    }
   },
   "outputs": [],
   "source": [
    "# multiply\n",
    "df_Investment_GOLD = df_Holdings_GOLD.multiply(df_Investment_GOLD)\n",
    "# Add the sum column\n",
    "df_Investment_GOLD[\"investment\"] = df_Investment_GOLD.sum(axis=1)\n",
    "\n",
    "# multiply\n",
    "df_stock_value = df_Holdings_GOLD.multiply(df_StockPrice_SILVER)\n",
    "# Add the sum column\n",
    "df_stock_value[\"stock_value\"] = df_stock_value.sum(axis=1)"
   ]
  },
  {
   "cell_type": "code",
   "execution_count": null,
   "metadata": {
    "application/vnd.databricks.v1+cell": {
     "cellMetadata": {},
     "inputWidgets": {},
     "nuid": "3e5fc906-d645-4958-a18c-ba2f9576fdb4",
     "showTitle": false,
     "title": ""
    }
   },
   "outputs": [],
   "source": [
    "df = df_Investment_GOLD[[\"investment\"]].join(df_stock_value[[\"stock_value\"]])\n",
    "df[\"pl\"] = df[\"stock_value\"] / df[\"investment\"] * 100\n",
    "df = df.round(2)\n",
    "df = df[df[\"stock_value\"] > 0]\n",
    "df.info()"
   ]
  },
  {
   "cell_type": "code",
   "execution_count": null,
   "metadata": {
    "application/vnd.databricks.v1+cell": {
     "cellMetadata": {
      "byteLimit": 2048000,
      "rowLimit": 10000
     },
     "inputWidgets": {},
     "nuid": "662dac6f-b7a0-4388-b647-9ff2a1e29102",
     "showTitle": false,
     "title": ""
    }
   },
   "outputs": [],
   "source": [
    "# plot the graph\n",
    "fig, ax = plt.subplots(figsize=(15, 5))\n",
    "\n",
    "# plot individual lines\n",
    "ax.plot(df.index, df[\"investment\"], label=\"investment\", color=\"steelblue\")\n",
    "ax.plot(df.index, df[\"stock_value\"], label=\"stock_value\", color=\"green\")\n",
    "\n",
    "# set major ticks to months and format the ticks\n",
    "ax.xaxis.set_major_locator(mdates.MonthLocator())\n",
    "ax.xaxis.set_major_formatter(mdates.DateFormatter(\"%Y-%m\"))\n",
    "ax.xaxis.grid(True, which=\"major\", linestyle=\":\")\n",
    "plt.setp(ax.get_xticklabels(), rotation=45, ha=\"right\")\n",
    "\n",
    "# Add a grid to the y-axis\n",
    "ax.yaxis.grid(True, which=\"major\", linestyle=\"--\")\n",
    "\n",
    "# add axis labels and a title\n",
    "plt.ylabel(\"Price\")\n",
    "plt.xlabel(\"Period\")\n",
    "plt.title(\"Buy Price vs. Stock Price\")\n",
    "ax.legend()\n",
    "\n",
    "# display plot\n",
    "plt.tight_layout()\n",
    "plt.show()"
   ]
  },
  {
   "cell_type": "code",
   "execution_count": null,
   "metadata": {
    "application/vnd.databricks.v1+cell": {
     "cellMetadata": {
      "byteLimit": 2048000,
      "rowLimit": 10000
     },
     "inputWidgets": {},
     "nuid": "82805232-15c8-4fae-8c85-c1560c0ba7f3",
     "showTitle": false,
     "title": ""
    }
   },
   "outputs": [],
   "source": [
    "# plot the graph\n",
    "fig, ax = plt.subplots(figsize=(15, 5))\n",
    "ax.plot(df.index, df[\"pl\"], label=\"profit_loss\")\n",
    "\n",
    "# set major ticks to months and format the ticks\n",
    "ax.xaxis.set_major_locator(mdates.MonthLocator())\n",
    "ax.xaxis.set_major_formatter(mdates.DateFormatter(\"%Y-%m\"))\n",
    "ax.xaxis.grid(True, which=\"major\", linestyle=\":\")\n",
    "plt.setp(ax.get_xticklabels(), rotation=45, ha=\"right\")\n",
    "\n",
    "# Add a grid to the y-axis\n",
    "ax.yaxis.grid(True, which=\"major\", linestyle=\"--\")\n",
    "\n",
    "# add axis labels and a title\n",
    "plt.ylabel(\"Percentage\")\n",
    "plt.xlabel(\"Period\")\n",
    "plt.title(\"Profit/Loss\")\n",
    "ax.legend()\n",
    "\n",
    "# display plot\n",
    "plt.tight_layout()\n",
    "plt.show()"
   ]
  },
  {
   "cell_type": "code",
   "execution_count": null,
   "metadata": {},
   "outputs": [],
   "source": []
  }
 ],
 "metadata": {
  "application/vnd.databricks.v1+notebook": {
   "dashboards": [],
   "language": "python",
   "notebookMetadata": {
    "pythonIndentUnit": 4
   },
   "notebookName": "PRESENTATION_NOTEBOOK",
   "widgets": {}
  },
  "kernelspec": {
   "display_name": "Python 3 (ipykernel)",
   "language": "python",
   "name": "python3"
  },
  "language_info": {
   "codemirror_mode": {
    "name": "ipython",
    "version": 3
   },
   "file_extension": ".py",
   "mimetype": "text/x-python",
   "name": "python",
   "nbconvert_exporter": "python",
   "pygments_lexer": "ipython3",
   "version": "3.11.4"
  }
 },
 "nbformat": 4,
 "nbformat_minor": 4
}
