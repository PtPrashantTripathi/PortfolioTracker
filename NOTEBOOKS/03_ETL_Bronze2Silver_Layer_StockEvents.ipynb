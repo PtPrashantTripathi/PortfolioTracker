{
 "cells": [
  {
   "cell_type": "markdown",
   "metadata": {},
   "source": [
    "## BRONZE TO SILVER LAYER\n",
    "\n",
    "### Silver Layer - Stock Events History\n"
   ]
  },
  {
   "cell_type": "code",
   "execution_count": null,
   "metadata": {},
   "outputs": [],
   "source": [
    "# Import necessary libraries and utility functions\n",
    "import pandas as pd\n",
    "from common.utilities import (\n",
    "    global_path,\n",
    "    replace_punctuation_from_columns,\n",
    "    check_files_availability,\n",
    "    logger,\n",
    ")"
   ]
  },
  {
   "cell_type": "markdown",
   "metadata": {},
   "source": [
    "### Data Processing\n",
    "\n",
    "- Initialize an empty list to store DataFrames.\n",
    "- Read and concatenate data from multiple CSV files.\n"
   ]
  },
  {
   "cell_type": "code",
   "execution_count": null,
   "metadata": {},
   "outputs": [],
   "source": [
    "# Initialize an empty list to store DataFrames\n",
    "df_stock_events_list = []\n",
    "\n",
    "# Generate file paths for available CSV files in the Bronze layer\n",
    "file_paths = check_files_availability(\n",
    "    global_path.stockdata_bronze_layer_path , file_pattern=\"*.csv\"\n",
    ")\n",
    "\n",
    "# Loop through List of all CSV files in the folder\n",
    "for file_path in file_paths:\n",
    "    logger.info(f\"Processing file: {file_path}\")\n",
    "    # Read the CSV file\n",
    "    df = pd.read_csv(file_path)\n",
    "\n",
    "    # Extract stock name from file path\n",
    "    df[\"stock_name\"] = file_path.name.split(\".\")[0].upper().strip()\n",
    "\n",
    "    # Append the DataFrame to the list\n",
    "    df_stock_events_list.append(df)\n",
    "\n",
    "# Concatenate all DataFrames into one\n",
    "df = pd.concat(df_stock_events_list, ignore_index=True)\n",
    "\n",
    "# Harmonize column names\n",
    "df = replace_punctuation_from_columns(df)\n",
    "\n",
    "# Remove all-NA columns from each DataFrame\n",
    "df.dropna(how=\"all\", axis=1, inplace=True)"
   ]
  },
  {
   "cell_type": "markdown",
   "metadata": {},
   "source": [
    "### Final Processing and Export\n",
    "\n",
    "- Round numerical values to 2 decimal places.\n",
    "- Sort the DataFrame by stock name and date.\n",
    "- Save the processed data as a CSV file in the Silver layer.\n"
   ]
  },
  {
   "cell_type": "code",
   "execution_count": null,
   "metadata": {},
   "outputs": [],
   "source": [
    "# Convert datetime to date string\n",
    "df[\"date\"] = pd.to_datetime(df[\"date\"]).dt.date\n",
    "\n",
    "# Round numerical values to 2 decimal places\n",
    "df = df.round(2)\n",
    "\n",
    "# Sort the DataFrame by stock name and date\n",
    "df = df.sort_values(by=[\"stock_name\", \"date\"])\n",
    "\n",
    "# Select relevant columns\n",
    "df_stock_events = df[\n",
    "    [\n",
    "        \"date\",\n",
    "        \"stock_name\",\n",
    "        \"open\",\n",
    "        \"high\",\n",
    "        \"low\",\n",
    "        \"close\",\n",
    "        \"volume\",\n",
    "    ]\n",
    "]\n",
    "\n",
    "# Save the result as a CSV file\n",
    "df_stock_events.to_csv(global_path.stockevents_silver_file_path, index=None)\n",
    "logger.info(\n",
    "    \"SILVER Layer CSV file for Stock Events history successfully created at:\"\n",
    ")\n",
    "logger.info(global_path.stockevents_silver_file_path.resolve())\n",
    "# Log the DataFrame info\n",
    "df.info()"
   ]
  },
  {
   "cell_type": "code",
   "execution_count": null,
   "metadata": {},
   "outputs": [],
   "source": [
    "# Convert datetime to date string\n",
    "df[\"date\"] = pd.to_datetime(df[\"date\"]).dt.date\n",
    "\n",
    "# Round numerical values to 2 decimal places\n",
    "df = df.round(2)\n",
    "\n",
    "# Sort the DataFrame by stock name and date\n",
    "df = df.sort_values(by=[\"stock_name\", \"date\"])\n",
    "\n",
    "# Select relevant columns\n",
    "df_stock_events = df[\n",
    "    [\n",
    "        \"date\",\n",
    "        \"stock_name\",\n",
    "        \"open\",\n",
    "        \"high\",\n",
    "        \"low\",\n",
    "        \"close\",\n",
    "        \"volume\",\n",
    "        \"dividends\",\n",
    "        \"stock_splits\",\n",
    "        \"capital_gains\",\n",
    "    ]\n",
    "]\n",
    "\n",
    "# Save the result as a CSV file\n",
    "df_stock_events.to_csv(global_path.stockevents_silver_file_path, index=None)\n",
    "logger.info(\n",
    "    \"SILVER Layer CSV file for Stock Events history successfully created at:\"\n",
    ")\n",
    "logger.info(global_path.stockevents_silver_file_path.resolve())\n",
    "# Log the DataFrame info\n",
    "df.info()"
   ]
  }
 ],
 "metadata": {
  "kernelspec": {
   "display_name": "Python 3",
   "language": "python",
   "name": "python3"
  },
  "language_info": {
   "codemirror_mode": {
    "name": "ipython",
    "version": 3
   },
   "file_extension": ".py",
   "mimetype": "text/x-python",
   "name": "python",
   "nbconvert_exporter": "python",
   "pygments_lexer": "ipython3",
   "version": "3.11.4"
  }
 },
 "nbformat": 4,
 "nbformat_minor": 2
}
