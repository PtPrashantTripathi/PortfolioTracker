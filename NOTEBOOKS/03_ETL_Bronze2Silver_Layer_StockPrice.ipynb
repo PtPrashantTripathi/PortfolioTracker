{
 "cells": [
  {
   "cell_type": "markdown",
   "metadata": {},
   "source": [
    "## BRONZE TO SILVER LAYER\n",
    "\n",
    "### Silver Layer - Stock Price History\n"
   ]
  },
  {
   "cell_type": "code",
   "execution_count": 1,
   "metadata": {},
   "outputs": [],
   "source": [
    "# Import necessary libraries and utility functions\n",
    "import pandas as pd\n",
    "from common_utilities import (\n",
    "    global_path,\n",
    "    replace_punctuation_from_columns,\n",
    "    check_files_availability,\n",
    "    logger,\n",
    ")"
   ]
  },
  {
   "cell_type": "markdown",
   "metadata": {},
   "source": [
    "### Data Processing\n",
    "\n",
    "- Initialize an empty list to store DataFrames.\n",
    "- Read and concatenate data from multiple CSV files.\n"
   ]
  },
  {
   "cell_type": "code",
   "execution_count": 2,
   "metadata": {},
   "outputs": [
    {
     "name": "stderr",
     "output_type": "stream",
     "text": [
      "2024-08-07T00:51:05Z - INFO - Number of Files Detected: 19\n",
      "2024-08-07T00:51:05Z - INFO - Processing file: C:\\Users\\prashant.tripathi\\Code\\Upstox\\DATA\\BRONZE\\StockPrice\\BHAGERIA.NS.csv\n",
      "2024-08-07T00:51:05Z - INFO - Processing file: C:\\Users\\prashant.tripathi\\Code\\Upstox\\DATA\\BRONZE\\StockPrice\\BPCL.NS.csv\n",
      "2024-08-07T00:51:05Z - INFO - Processing file: C:\\Users\\prashant.tripathi\\Code\\Upstox\\DATA\\BRONZE\\StockPrice\\GOLDBEES.NS.csv\n"
     ]
    },
    {
     "name": "stderr",
     "output_type": "stream",
     "text": [
      "2024-08-07T00:51:05Z - INFO - Processing file: C:\\Users\\prashant.tripathi\\Code\\Upstox\\DATA\\BRONZE\\StockPrice\\HERANBA.NS.csv\n",
      "2024-08-07T00:51:05Z - INFO - Processing file: C:\\Users\\prashant.tripathi\\Code\\Upstox\\DATA\\BRONZE\\StockPrice\\IDEA.NS.csv\n",
      "2024-08-07T00:51:05Z - INFO - Processing file: C:\\Users\\prashant.tripathi\\Code\\Upstox\\DATA\\BRONZE\\StockPrice\\INFY.NS.csv\n",
      "2024-08-07T00:51:05Z - INFO - Processing file: C:\\Users\\prashant.tripathi\\Code\\Upstox\\DATA\\BRONZE\\StockPrice\\IRCTC.NS.csv\n",
      "2024-08-07T00:51:05Z - INFO - Processing file: C:\\Users\\prashant.tripathi\\Code\\Upstox\\DATA\\BRONZE\\StockPrice\\KPITTECH.NS.csv\n",
      "2024-08-07T00:51:05Z - INFO - Processing file: C:\\Users\\prashant.tripathi\\Code\\Upstox\\DATA\\BRONZE\\StockPrice\\LICI.NS.csv\n",
      "2024-08-07T00:51:05Z - INFO - Processing file: C:\\Users\\prashant.tripathi\\Code\\Upstox\\DATA\\BRONZE\\StockPrice\\MIRAE-ASSET-TAX-SAVER-DIRECT-GROWTH.MF.csv\n",
      "2024-08-07T00:51:05Z - INFO - Processing file: C:\\Users\\prashant.tripathi\\Code\\Upstox\\DATA\\BRONZE\\StockPrice\\NIFTYBEES.NS.csv\n",
      "2024-08-07T00:51:05Z - INFO - Processing file: C:\\Users\\prashant.tripathi\\Code\\Upstox\\DATA\\BRONZE\\StockPrice\\PNB.NS.csv\n",
      "2024-08-07T00:51:05Z - INFO - Processing file: C:\\Users\\prashant.tripathi\\Code\\Upstox\\DATA\\BRONZE\\StockPrice\\SBI-MAGNUM-TAXGAIN-SCHEME-DIR-GR.MF.csv\n",
      "2024-08-07T00:51:05Z - INFO - Processing file: C:\\Users\\prashant.tripathi\\Code\\Upstox\\DATA\\BRONZE\\StockPrice\\SBIN.NS.csv\n",
      "2024-08-07T00:51:05Z - INFO - Processing file: C:\\Users\\prashant.tripathi\\Code\\Upstox\\DATA\\BRONZE\\StockPrice\\TATACHEM.NS.csv\n",
      "2024-08-07T00:51:05Z - INFO - Processing file: C:\\Users\\prashant.tripathi\\Code\\Upstox\\DATA\\BRONZE\\StockPrice\\TATAMOTORS.NS.csv\n",
      "2024-08-07T00:51:05Z - INFO - Processing file: C:\\Users\\prashant.tripathi\\Code\\Upstox\\DATA\\BRONZE\\StockPrice\\TATAPOWER.NS.csv\n",
      "2024-08-07T00:51:05Z - INFO - Processing file: C:\\Users\\prashant.tripathi\\Code\\Upstox\\DATA\\BRONZE\\StockPrice\\VOLTAS.NS.csv\n",
      "2024-08-07T00:51:05Z - INFO - Processing file: C:\\Users\\prashant.tripathi\\Code\\Upstox\\DATA\\BRONZE\\StockPrice\\YESBANK.NS.csv\n"
     ]
    }
   ],
   "source": [
    "# Initialize an empty list to store DataFrames\n",
    "df_stock_price_list = []\n",
    "\n",
    "# Generate file paths for available CSV files in the Bronze layer\n",
    "file_paths = check_files_availability(\n",
    "    global_path.stockprice_bronze_layer_path, file_pattern=\"*.csv\"\n",
    ")\n",
    "\n",
    "# Loop through List of all CSV files in the folder\n",
    "for file_path in file_paths:\n",
    "    logger.info(f\"Processing file: {file_path}\")\n",
    "    # Read the CSV file\n",
    "    df = pd.read_csv(file_path)\n",
    "\n",
    "    # Extract stock name from file path\n",
    "    df[\"stock_name\"] = file_path.name.split(\".\")[0].upper().strip()\n",
    "\n",
    "    # Append the DataFrame to the list\n",
    "    df_stock_price_list.append(df)\n",
    "\n",
    "# Concatenate all DataFrames into one\n",
    "df = pd.concat(df_stock_price_list, ignore_index=True)\n",
    "\n",
    "# Harmonize column names\n",
    "df = replace_punctuation_from_columns(df)\n",
    "\n",
    "# Remove all-NA columns from each DataFrame\n",
    "df.dropna(how=\"all\", axis=1, inplace=True)"
   ]
  },
  {
   "cell_type": "markdown",
   "metadata": {},
   "source": [
    "### Final Processing and Export\n",
    "\n",
    "- Round numerical values to 2 decimal places.\n",
    "- Sort the DataFrame by stock name and date.\n",
    "- Save the processed data as a CSV file in the Silver layer.\n"
   ]
  },
  {
   "cell_type": "code",
   "execution_count": 3,
   "metadata": {},
   "outputs": [
    {
     "name": "stderr",
     "output_type": "stream",
     "text": [
      "2024-08-07T00:51:05Z - INFO - SILVER Layer CSV file for Stock Price history successfully created at:\n",
      "2024-08-07T00:51:05Z - INFO - C:\\Users\\prashant.tripathi\\Code\\Upstox\\DATA\\SILVER\\StockPrice\\StockPrice_data.csv\n"
     ]
    },
    {
     "name": "stdout",
     "output_type": "stream",
     "text": [
      "<class 'pandas.core.frame.DataFrame'>\n",
      "RangeIndex: 14180 entries, 0 to 14179\n",
      "Data columns (total 3 columns):\n",
      " #   Column      Non-Null Count  Dtype  \n",
      "---  ------      --------------  -----  \n",
      " 0   date        14180 non-null  object \n",
      " 1   stock_name  14180 non-null  object \n",
      " 2   ltp         14176 non-null  float64\n",
      "dtypes: float64(1), object(2)\n",
      "memory usage: 332.5+ KB\n"
     ]
    }
   ],
   "source": [
    "# Round numerical values to 2 decimal places\n",
    "df = df.round(2)\n",
    "\n",
    "# Sort the DataFrame by stock name and date\n",
    "df = df.sort_values(by=[\"stock_name\", \"date\"])\n",
    "\n",
    "# Rename columns for clarity and calculate current value\n",
    "df = df.rename(\n",
    "    columns={\n",
    "        \"close\": \"ltp\",\n",
    "    }\n",
    ")\n",
    "\n",
    "# Select relevant columns\n",
    "df = df[[\"date\", \"stock_name\", \"ltp\"]]\n",
    "\n",
    "# Save the result as a CSV file\n",
    "df.to_csv(global_path.stockprice_silver_file_path, index=None)\n",
    "logger.info(\n",
    "    \"SILVER Layer CSV file for Stock Price history successfully created at:\"\n",
    ")\n",
    "logger.info(global_path.stockprice_silver_file_path.resolve())\n",
    "# Log the DataFrame info\n",
    "df.info()"
   ]
  }
 ],
 "metadata": {
  "kernelspec": {
   "display_name": "Python 3",
   "language": "python",
   "name": "python3"
  },
  "language_info": {
   "codemirror_mode": {
    "name": "ipython",
    "version": 3
   },
   "file_extension": ".py",
   "mimetype": "text/x-python",
   "name": "python",
   "nbconvert_exporter": "python",
   "pygments_lexer": "ipython3",
   "version": "3.11.4"
  }
 },
 "nbformat": 4,
 "nbformat_minor": 2
}
