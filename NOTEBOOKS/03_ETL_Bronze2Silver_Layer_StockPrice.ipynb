{
 "cells": [
  {
   "cell_type": "markdown",
   "metadata": {},
   "source": [
    "## BRONZE TO SILVER LAYER\n"
   ]
  },
  {
   "cell_type": "code",
   "execution_count": 1,
   "metadata": {},
   "outputs": [],
   "source": [
    "import pandas as pd\n",
    "from common_utilities import replace_punctuation_from_columns, global_path"
   ]
  },
  {
   "cell_type": "markdown",
   "metadata": {},
   "source": [
    "### Silver Layer - Stock Price History\n"
   ]
  },
  {
   "cell_type": "code",
   "execution_count": 2,
   "metadata": {},
   "outputs": [
    {
     "name": "stdout",
     "output_type": "stream",
     "text": [
      "<class 'pandas.core.frame.DataFrame'>\n",
      "RangeIndex: 13688 entries, 0 to 13687\n",
      "Data columns (total 6 columns):\n",
      " #   Column      Non-Null Count  Dtype  \n",
      "---  ------      --------------  -----  \n",
      " 0   date        13688 non-null  object \n",
      " 1   stock_name  13688 non-null  object \n",
      " 2   open        13688 non-null  float64\n",
      " 3   high        13688 non-null  float64\n",
      " 4   low         13688 non-null  float64\n",
      " 5   close       13688 non-null  float64\n",
      "dtypes: float64(4), object(2)\n",
      "memory usage: 641.8+ KB\n",
      "SILVER Layer csv file for Stock Price history successfully created at:\n",
      "C:\\Users\\prashant.tripathi\\Code\\Upstox\\DATA\\SILVER\\StockPrice\\StockPrice_data.csv\n"
     ]
    }
   ],
   "source": [
    "# Initialize an empty list to store DataFrames\n",
    "df_StockPrice = []\n",
    "\n",
    "# Loop through List of all CSV files in the folder\n",
    "for file_path in global_path.stockprice_bronze_layer_path.glob(\"*.NS.csv\"):\n",
    "    # Read the CSV file\n",
    "    df = pd.read_csv(file_path)\n",
    "\n",
    "    # stock name from file path\n",
    "    df[\"stock_name\"] = file_path.name.split(\".\")[0].upper().strip()\n",
    "\n",
    "    # Append the DataFrame to the list\n",
    "    df_StockPrice.append(df)\n",
    "\n",
    "# Concatenate all DataFrames into one\n",
    "df_StockPrice = pd.concat(df_StockPrice, ignore_index=True)\n",
    "df_StockPrice.columns = replace_punctuation_from_columns(df_StockPrice.columns)\n",
    "df_StockPrice.dropna(how=\"all\", axis=1, inplace=True)\n",
    "\n",
    "# round the numbers\n",
    "df_StockPrice = df_StockPrice.round(2)\n",
    "\n",
    "# sort the dataframe by date\n",
    "df_StockPrice = df_StockPrice.sort_values(by=[\"stock_name\", \"date\"])\n",
    "\n",
    "# Save the result as a csv file\n",
    "df_StockPrice = df_StockPrice[[\"date\", \"stock_name\", \"open\", \"high\", \"low\", \"close\"]]\n",
    "df_StockPrice.to_csv(global_path.stockprice_silver_file_path, index=None)\n",
    "df_StockPrice.info()\n",
    "\n",
    "print(\"SILVER Layer csv file for Stock Price history successfully created at:\")\n",
    "print(global_path.stockprice_silver_file_path.resolve())"
   ]
  }
 ],
 "metadata": {
  "kernelspec": {
   "display_name": "Python 3",
   "language": "python",
   "name": "python3"
  },
  "language_info": {
   "codemirror_mode": {
    "name": "ipython",
    "version": 3
   },
   "file_extension": ".py",
   "mimetype": "text/x-python",
   "name": "python",
   "nbconvert_exporter": "python",
   "pygments_lexer": "ipython3",
   "version": "3.11.4"
  }
 },
 "nbformat": 4,
 "nbformat_minor": 2
}
