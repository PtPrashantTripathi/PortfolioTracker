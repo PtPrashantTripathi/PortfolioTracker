{
 "cells": [
  {
   "cell_type": "markdown",
   "metadata": {},
   "source": [
    "## BRONZE TO SILVER LAYER\n"
   ]
  },
  {
   "cell_type": "code",
   "execution_count": 3,
   "metadata": {},
   "outputs": [],
   "source": [
    "import pandas as pd\n",
    "from global_paths import TradeHistoryGoldFilePath, ProfitLossGoldFilePath"
   ]
  },
  {
   "cell_type": "markdown",
   "metadata": {},
   "source": [
    "### Silver Layer - Process ProfitLoss History\n"
   ]
  },
  {
   "cell_type": "code",
   "execution_count": 4,
   "metadata": {},
   "outputs": [
    {
     "name": "stdout",
     "output_type": "stream",
     "text": [
      "<class 'pandas.core.frame.DataFrame'>\n",
      "Index: 78 entries, 2 to 160\n",
      "Data columns (total 9 columns):\n",
      " #   Column              Non-Null Count  Dtype         \n",
      "---  ------              --------------  -----         \n",
      " 0   datetime            78 non-null     datetime64[ns]\n",
      " 1   segment             78 non-null     object        \n",
      " 2   stock_name          78 non-null     object        \n",
      " 3   quantity            78 non-null     float64       \n",
      " 4   buy_price           78 non-null     float64       \n",
      " 5   buy_amount          78 non-null     float64       \n",
      " 6   sell_price          78 non-null     float64       \n",
      " 7   sell_amount         78 non-null     float64       \n",
      " 8   profit_loss_amount  78 non-null     float64       \n",
      "dtypes: datetime64[ns](1), float64(6), object(2)\n",
      "memory usage: 6.1+ KB\n",
      "Gold Layer csv file for ProfitLoss successfully created at:\n",
      "C:\\Users\\prashant.tripathi\\Code\\Upstox\\DATA\\GOLD\\ProfitLoss\\ProfitLoss_data.csv\n"
     ]
    }
   ],
   "source": [
    "# Read the CSV file\n",
    "df = pd.read_csv(TradeHistoryGoldFilePath)\n",
    "\n",
    "# Filter the DataFrame\n",
    "df = df[df[\"trade_type\"] == \"SELL\"]\n",
    "\n",
    "# Convert datetime to date string\n",
    "df[\"datetime\"] = pd.to_datetime(df[\"datetime\"])\n",
    "\n",
    "# Rename\n",
    "df = df.rename(\n",
    "    columns={\n",
    "        \"sell_quantity\": \"quantity\",\n",
    "    }\n",
    ")\n",
    "\n",
    "# sort the dataframe by date\n",
    "df = df.sort_values(by=[\"segment\", \"stock_name\", \"datetime\"])\n",
    "\n",
    "# Save the result as a csv file\n",
    "df = df[\n",
    "    [\n",
    "        \"datetime\",\n",
    "        \"segment\",\n",
    "        \"stock_name\",\n",
    "        \"quantity\",\n",
    "        \"buy_price\",\n",
    "        \"buy_amount\",\n",
    "        \"sell_price\",\n",
    "        \"sell_amount\",\n",
    "        \"profit_loss_amount\",\n",
    "    ]\n",
    "]\n",
    "df.to_csv(ProfitLossGoldFilePath, index=None)\n",
    "df.info()\n",
    "print(\"Gold Layer csv file for ProfitLoss successfully created at:\")\n",
    "print(ProfitLossGoldFilePath.resolve())"
   ]
  }
 ],
 "metadata": {
  "kernelspec": {
   "display_name": "Python 3",
   "language": "python",
   "name": "python3"
  },
  "language_info": {
   "codemirror_mode": {
    "name": "ipython",
    "version": 3
   },
   "file_extension": ".py",
   "mimetype": "text/x-python",
   "name": "python",
   "nbconvert_exporter": "python",
   "pygments_lexer": "ipython3",
   "version": "3.11.4"
  }
 },
 "nbformat": 4,
 "nbformat_minor": 2
}
