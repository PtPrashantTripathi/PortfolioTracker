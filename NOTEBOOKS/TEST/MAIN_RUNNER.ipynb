{
 "cells": [
  {
   "cell_type": "code",
   "execution_count": null,
   "metadata": {},
   "outputs": [],
   "source": [
    "# # CLEAN UP EXISTING DATA BEFORE RELOAD\n",
    "# from StockETL import GlobalPath\n",
    "# # GlobalPath.del_dir(GlobalPath(\"DATA/BRONZE\"))\n",
    "# GlobalPath.del_dir(GlobalPath(\"DATA/SILVER\"))\n",
    "# GlobalPath.del_dir(GlobalPath(\"DATA/GOLD\"))\n",
    "# GlobalPath.del_dir(GlobalPath(\"DATA/API\"))"
   ]
  },
  {
   "cell_type": "code",
   "execution_count": null,
   "metadata": {},
   "outputs": [],
   "source": [
    "# 01_BRONZE_LAYER_ETL\n",
    "%run ../01_BRONZE_LAYER_ETL/01_TradeHistory.ipynb\n",
    "%run ../01_BRONZE_LAYER_ETL/02_StockData.ipynb\n",
    "%run ../01_BRONZE_LAYER_ETL/03_Symbol.ipynb"
   ]
  },
  {
   "cell_type": "code",
   "execution_count": null,
   "metadata": {},
   "outputs": [],
   "source": [
    "# 02_SILVER_LAYER_ETL\n",
    "%run ../02_SILVER_LAYER_ETL/01_Symbol.ipynb\n",
    "%run ../02_SILVER_LAYER_ETL/02_TradeHistory.ipynb\n",
    "%run ../02_SILVER_LAYER_ETL/03_StockPrice.ipynb\n",
    "%run ../02_SILVER_LAYER_ETL/04_StockEvents.ipynb"
   ]
  },
  {
   "cell_type": "code",
   "execution_count": null,
   "metadata": {},
   "outputs": [],
   "source": [
    "# 03_GOLD_LAYER_ETL\n",
    "%run ../03_GOLD_LAYER_ETL/01_Holding.ipynb\n",
    "%run ../03_GOLD_LAYER_ETL/02_ProfitLoss.ipynb\n",
    "%run ../03_GOLD_LAYER_ETL/03_Dividend.ipynb"
   ]
  },
  {
   "cell_type": "code",
   "execution_count": null,
   "metadata": {},
   "outputs": [],
   "source": [
    "# 04_API_LAYER_ETL\n",
    "%run ../04_API_LAYER_ETL/01_API.ipynb"
   ]
  },
  {
   "cell_type": "code",
   "execution_count": null,
   "metadata": {},
   "outputs": [],
   "source": [
    "# # 05_PRESENTATION_LAYER (commented out, uncomment if needed)\n",
    "# %run ../05_PRESENTATION_LAYER/01_Trands.ipynb"
   ]
  },
  {
   "cell_type": "code",
   "execution_count": null,
   "metadata": {},
   "outputs": [],
   "source": []
  }
 ],
 "metadata": {
  "kernelspec": {
   "display_name": "Python 3",
   "language": "python",
   "name": "python3"
  },
  "language_info": {
   "codemirror_mode": {
    "name": "ipython",
    "version": 3
   },
   "file_extension": ".py",
   "mimetype": "text/x-python",
   "name": "python",
   "nbconvert_exporter": "python",
   "pygments_lexer": "ipython3",
   "version": "3.11.4"
  }
 },
 "nbformat": 4,
 "nbformat_minor": 4
}
