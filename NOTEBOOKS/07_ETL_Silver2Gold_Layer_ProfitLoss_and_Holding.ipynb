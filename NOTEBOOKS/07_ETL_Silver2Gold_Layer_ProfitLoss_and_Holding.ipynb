{
 "cells": [
  {
   "cell_type": "markdown",
   "metadata": {},
   "source": [
    "## SILVER TO GOLD LAYER\n",
    "\n",
    "### Gold Layer - Trade History\n"
   ]
  },
  {
   "cell_type": "code",
   "execution_count": 10,
   "metadata": {},
   "outputs": [],
   "source": [
    "# Import necessary libraries and utility functions\n",
    "import pandas as pd\n",
    "from common.portfolio_calc import Portfolio\n",
    "from common.utilities import global_path, logger"
   ]
  },
  {
   "cell_type": "markdown",
   "metadata": {},
   "source": [
    "### Data Processing\n",
    "\n",
    "- Read and sort trade history data.\n",
    "- Apply portfolio trade logic.\n"
   ]
  },
  {
   "cell_type": "code",
   "execution_count": 11,
   "metadata": {},
   "outputs": [
    {
     "name": "stderr",
     "output_type": "stream",
     "text": [
      "2024-08-07T20:23:29Z - INFO - Read SILVER Layer trade history data from: C:\\Users\\prashant.tripathi\\Code\\Upstox\\DATA\\SILVER\\TradeHistory\\TradeHistory_data.csv\n"
     ]
    }
   ],
   "source": [
    "# Read the CSV file\n",
    "df_trade_history = pd.read_csv(global_path.tradehistory_silver_file_path)\n",
    "\n",
    "# Convert 'datetime' to datetime type\n",
    "df_trade_history[\"datetime\"] = pd.to_datetime(df_trade_history[\"datetime\"])\n",
    "\n",
    "# Sort the DataFrame by 'datetime'\n",
    "df_trade_history = df_trade_history.sort_values(by=\"datetime\")\n",
    "\n",
    "logger.info(\n",
    "    f\"Read SILVER Layer trade history data from: {global_path.tradehistory_silver_file_path}\"\n",
    ")"
   ]
  },
  {
   "cell_type": "markdown",
   "metadata": {},
   "source": [
    "### Portfolio Logic Application\n",
    "\n",
    "- Instantiate Portfolio and apply trade logic.\n",
    "- Handle expired stocks\n"
   ]
  },
  {
   "cell_type": "code",
   "execution_count": 12,
   "metadata": {},
   "outputs": [
    {
     "name": "stderr",
     "output_type": "stream",
     "text": [
      "2024-08-07T20:23:29Z - INFO - NIFTY-PE-24650-18JUL2024 => 100.0 expired\n"
     ]
    }
   ],
   "source": [
    "# Apply the trade logic to each row of the DataFrame\n",
    "# Instantiate the Portfolio object\n",
    "portfolio = Portfolio()\n",
    "for record in df_trade_history.astype(str).to_dict(orient=\"records\"):\n",
    "    portfolio.trade(record)\n",
    "\n",
    "portfolio.check_expired_stocks()\n",
    "# expired_stocks example : df_trade_history[\"stock_name\"] == \"NIFTY-PE-24650-18JUL2024\""
   ]
  },
  {
   "cell_type": "markdown",
   "metadata": {},
   "source": [
    "### Final Processing and Export\n",
    "\n",
    "- Select and sort relevant columns.\n",
    "- Save the processed data as a CSV file in the Gold layer.\n"
   ]
  },
  {
   "cell_type": "code",
   "execution_count": 13,
   "metadata": {},
   "outputs": [
    {
     "name": "stderr",
     "output_type": "stream",
     "text": [
      "2024-08-07T20:23:29Z - INFO - GOLD Layer CSV file for ProfitLoss successfully created at:\n",
      "2024-08-07T20:23:29Z - INFO - C:\\Users\\prashant.tripathi\\Code\\Upstox\\DATA\\GOLD\\ProfitLoss\\ProfitLoss_data.csv\n"
     ]
    },
    {
     "name": "stdout",
     "output_type": "stream",
     "text": [
      "<class 'pandas.core.frame.DataFrame'>\n",
      "RangeIndex: 120 entries, 0 to 119\n",
      "Data columns (total 15 columns):\n",
      " #   Column          Non-Null Count  Dtype         \n",
      "---  ------          --------------  -----         \n",
      " 0   exchange        120 non-null    object        \n",
      " 1   segment         120 non-null    object        \n",
      " 2   stock_name      120 non-null    object        \n",
      " 3   position        120 non-null    object        \n",
      " 4   quantity        120 non-null    float64       \n",
      " 5   open_datetime   120 non-null    datetime64[ns]\n",
      " 6   open_side       120 non-null    object        \n",
      " 7   open_price      120 non-null    float64       \n",
      " 8   open_amount     120 non-null    float64       \n",
      " 9   close_datetime  120 non-null    datetime64[ns]\n",
      " 10  close_side      120 non-null    object        \n",
      " 11  close_price     120 non-null    float64       \n",
      " 12  close_amount    120 non-null    float64       \n",
      " 13  pnl_amount      120 non-null    float64       \n",
      " 14  pnl_percentage  120 non-null    float64       \n",
      "dtypes: datetime64[ns](2), float64(7), object(6)\n",
      "memory usage: 14.2+ KB\n"
     ]
    }
   ],
   "source": [
    "# Create a DataFrame from the processed data\n",
    "df_pnl = pd.DataFrame(portfolio.get_pnl())\n",
    "\n",
    "# Round the values in the columns to two decimal places\n",
    "df_pnl = df_pnl.round(2)\n",
    "\n",
    "# Update 'side' column: 'SELL' becomes 'LONG', 'BUY' becomes 'SHORT'\n",
    "df_pnl[\"position\"] = df_pnl[\"close_side\"].apply(\n",
    "    lambda x: \"LONG\" if x == \"SELL\" else \"SHORT\" if x == \"BUY\" else x\n",
    ")\n",
    "\n",
    "# Sort the DataFrame by 'segment', 'stock_name', and 'datetime'\n",
    "df_pnl = df_pnl.sort_values(\n",
    "    by=[\"segment\", \"stock_name\", \"close_datetime\", \"open_datetime\"]\n",
    ")\n",
    "\n",
    "# Round the values in to two decimal places\n",
    "df_pnl = df_pnl.round(2)\n",
    "\n",
    "# Reset index to ensure it starts from 0\n",
    "df_pnl = df_pnl.reset_index(drop=True)\n",
    "\n",
    "# Select and reorder the columns for the final DataFrame\n",
    "df_pnl = df_pnl[\n",
    "    [\n",
    "        \"exchange\",\n",
    "        \"segment\",\n",
    "        \"stock_name\",\n",
    "        \"position\",\n",
    "        \"quantity\",\n",
    "        \"open_datetime\",\n",
    "        \"open_side\",\n",
    "        \"open_price\",\n",
    "        \"open_amount\",\n",
    "        \"close_datetime\",\n",
    "        \"close_side\",\n",
    "        \"close_price\",\n",
    "        \"close_amount\",\n",
    "        \"pnl_amount\",\n",
    "        \"pnl_percentage\",\n",
    "    ]\n",
    "]\n",
    "\n",
    "# Save the final DataFrame to a CSV file\n",
    "df_pnl.to_csv(global_path.profitloss_gold_file_path, index=None)\n",
    "\n",
    "logger.info(\"GOLD Layer CSV file for ProfitLoss successfully created at:\")\n",
    "logger.info(global_path.profitloss_gold_file_path.resolve())\n",
    "\n",
    "# Display the DataFrame information\n",
    "df_pnl.info()"
   ]
  },
  {
   "cell_type": "code",
   "execution_count": 14,
   "metadata": {},
   "outputs": [
    {
     "name": "stderr",
     "output_type": "stream",
     "text": [
      "2024-08-07T20:23:29Z - INFO - GOLD Layer CSV file for Holding successfully created at:\n",
      "2024-08-07T20:23:29Z - INFO - C:\\Users\\prashant.tripathi\\Code\\Upstox\\DATA\\GOLD\\Holdings\\Holdings_data.csv\n"
     ]
    },
    {
     "name": "stdout",
     "output_type": "stream",
     "text": [
      "<class 'pandas.core.frame.DataFrame'>\n",
      "Index: 47 entries, 0 to 28\n",
      "Data columns (total 7 columns):\n",
      " #   Column            Non-Null Count  Dtype  \n",
      "---  ------            --------------  -----  \n",
      " 0   date              47 non-null     object \n",
      " 1   segment           47 non-null     object \n",
      " 2   exchange          47 non-null     object \n",
      " 3   stock_name        47 non-null     object \n",
      " 4   holding_quantity  47 non-null     float64\n",
      " 5   avg_price         47 non-null     float64\n",
      " 6   holding_amount    47 non-null     float64\n",
      "dtypes: float64(3), object(4)\n",
      "memory usage: 2.9+ KB\n"
     ]
    }
   ],
   "source": [
    "# Create a DataFrame from the processed data\n",
    "df_holdings = pd.DataFrame(portfolio.get_holdings())\n",
    "\n",
    "# Filter the DataFrame to include only rows where the segment is 'EQ' (Equity) or 'MF' (Mutual Funds)\n",
    "df_holdings = df_holdings[df_holdings[\"segment\"].isin([\"EQ\", \"MF\"])]\n",
    "\n",
    "# Round the values in the columns to two decimal places\n",
    "df_holdings = df_holdings.round(2)\n",
    "\n",
    "# Extract date from datetime\n",
    "df_holdings[\"date\"] = df_holdings[\"datetime\"].dt.date\n",
    "\n",
    "# Find the index of the maximum datetime for each stock_name and date\n",
    "idx = df_holdings.groupby([\"stock_name\", \"date\"])[\"datetime\"].idxmax()\n",
    "\n",
    "# Use the indices to filter the original DataFrame\n",
    "df_holdings = df_holdings.loc[idx].reset_index(drop=True)\n",
    "\n",
    "# Sort the DataFrame by 'segment', 'stock_name', and 'date'\n",
    "df_holdings = df_holdings.sort_values(by=[\"segment\", \"stock_name\", \"date\"])\n",
    "\n",
    "# Select and reorder the columns for the final DataFrame\n",
    "df_holdings = df_holdings[\n",
    "    [\n",
    "        \"date\",\n",
    "        \"segment\",\n",
    "        \"exchange\",\n",
    "        \"stock_name\",\n",
    "        \"holding_quantity\",\n",
    "        \"avg_price\",\n",
    "        \"holding_amount\",\n",
    "    ]\n",
    "]\n",
    "\n",
    "# Save the final DataFrame to a CSV file\n",
    "df_holdings.to_csv(global_path.holdings_gold_file_path, index=None)\n",
    "\n",
    "logger.info(\"GOLD Layer CSV file for Holding successfully created at:\")\n",
    "logger.info(global_path.holdings_gold_file_path.resolve())\n",
    "\n",
    "# Display the DataFrame information\n",
    "df_holdings.info()"
   ]
  },
  {
   "cell_type": "code",
   "execution_count": 15,
   "metadata": {},
   "outputs": [],
   "source": [
    "# Create a function to expand the date range for each stock\n",
    "def expand_dates(stock_df):\n",
    "    \"\"\"\n",
    "    Expands the date range for each stock to include all dates from the\n",
    "    minimum date to the current date and forward fills the missing values.\n",
    "\n",
    "    Parameters:\n",
    "    stock_df (pd.DataFrame): DataFrame containing stock data for a single stock.\n",
    "\n",
    "    Returns:\n",
    "    pd.DataFrame: DataFrame with expanded date range and forward-filled values.\n",
    "    \"\"\"\n",
    "    # Find the minimum date for this stock\n",
    "    min_date = stock_df[\"date\"].min()\n",
    "\n",
    "    # Create a date range from the minimum date to today\n",
    "    date_range = pd.date_range(start=min_date, end=pd.to_datetime(\"today\"))\n",
    "\n",
    "    # Reindex the stock_df to include the full date range\n",
    "    stock_df = stock_df.set_index(\"date\").reindex(date_range)\n",
    "\n",
    "    # Forward fill the values to fill missing dates\n",
    "    stock_df = stock_df.ffill().reset_index()\n",
    "\n",
    "    # Rename the 'index' column to 'date'\n",
    "    stock_df = stock_df.rename(columns={\"index\": \"date\"})\n",
    "\n",
    "    return stock_df\n",
    "\n",
    "\n",
    "# Apply the expand_dates function to each stock group\n",
    "df_holdings_v2 = (\n",
    "    df_holdings.groupby(\"stock_name\")\n",
    "    .apply(expand_dates, include_groups=False)\n",
    "    .reset_index()\n",
    ")"
   ]
  },
  {
   "cell_type": "code",
   "execution_count": 16,
   "metadata": {},
   "outputs": [
    {
     "name": "stderr",
     "output_type": "stream",
     "text": [
      "2024-08-07T20:23:30Z - INFO - Loaded SILVER Layer stock price data from: C:\\Users\\prashant.tripathi\\Code\\Upstox\\DATA\\SILVER\\StockPrice\\StockPrice_data.csv\n"
     ]
    }
   ],
   "source": [
    "# Load stock prices data from the specified CSV file path\n",
    "df_StockPrice = pd.read_csv(global_path.stockprice_silver_file_path)\n",
    "\n",
    "# Convert the 'date' column in stock prices to datetime type for consistency\n",
    "df_StockPrice[\"date\"] = pd.to_datetime(df_StockPrice[\"date\"])\n",
    "\n",
    "logger.info(\n",
    "    f\"Loaded SILVER Layer stock price data from: {global_path.stockprice_silver_file_path}\"\n",
    ")\n",
    "\n",
    "# Merge the expanded holdings data with the stock price data\n",
    "df_holdings_v2 = pd.merge(\n",
    "    df_holdings_v2,\n",
    "    df_StockPrice,\n",
    "    on=[\"date\", \"stock_name\"],\n",
    "    how=\"left\",\n",
    ")"
   ]
  },
  {
   "cell_type": "code",
   "execution_count": 17,
   "metadata": {},
   "outputs": [
    {
     "name": "stderr",
     "output_type": "stream",
     "text": [
      "2024-08-07T20:23:30Z - INFO - GOLD Layer CSV file for Holdings successfully created at:\n",
      "2024-08-07T20:23:30Z - INFO - C:\\Users\\prashant.tripathi\\Code\\Upstox\\DATA\\GOLD\\Holdings\\Holdings_data_v2.csv\n"
     ]
    },
    {
     "name": "stdout",
     "output_type": "stream",
     "text": [
      "<class 'pandas.core.frame.DataFrame'>\n",
      "RangeIndex: 5905 entries, 0 to 5904\n",
      "Data columns (total 14 columns):\n",
      " #   Column            Non-Null Count  Dtype         \n",
      "---  ------            --------------  -----         \n",
      " 0   date              5905 non-null   datetime64[ns]\n",
      " 1   segment           5905 non-null   object        \n",
      " 2   stock_name        5905 non-null   object        \n",
      " 3   holding_quantity  5905 non-null   float64       \n",
      " 4   avg_price         5905 non-null   float64       \n",
      " 5   holding_amount    5905 non-null   float64       \n",
      " 6   open_price        5905 non-null   float64       \n",
      " 7   open_amount       5905 non-null   float64       \n",
      " 8   high_price        5905 non-null   float64       \n",
      " 9   high_amount       5905 non-null   float64       \n",
      " 10  low_price         5905 non-null   float64       \n",
      " 11  low_amount        5905 non-null   float64       \n",
      " 12  close_price       5905 non-null   float64       \n",
      " 13  close_amount      5905 non-null   float64       \n",
      "dtypes: datetime64[ns](1), float64(11), object(2)\n",
      "memory usage: 646.0+ KB\n"
     ]
    }
   ],
   "source": [
    "# Calculate the OHLC value of holdings\n",
    "col_names = [\"open\", \"high\", \"low\", \"close\"]\n",
    "for col_name in col_names:\n",
    "    df_holdings_v2[f\"{col_name}_amount\"] = (\n",
    "        df_holdings_v2[col_name] * df_holdings_v2[\"holding_quantity\"]\n",
    "    )\n",
    "\n",
    "df_holdings_v2 = df_holdings_v2.rename(\n",
    "    columns={col_name: f\"{col_name}_price\" for col_name in col_names}\n",
    ")\n",
    "\n",
    "# Forward fill the values to fill missing dates\n",
    "df_holdings_v2 = df_holdings_v2.ffill()\n",
    "\n",
    "# Filter out rows with zero holding quantity\n",
    "df_holdings_v2 = df_holdings_v2[df_holdings_v2[\"holding_quantity\"] != 0]\n",
    "\n",
    "# Round the numeric columns to two decimal places\n",
    "df_holdings_v2 = df_holdings_v2.round(2)\n",
    "\n",
    "# Sort the DataFrame for organized output\n",
    "df_holdings_v2 = df_holdings_v2.sort_values(\n",
    "    by=[\"date\", \"segment\", \"stock_name\"]\n",
    ").reset_index(drop=True)\n",
    "\n",
    "# Select and order the columns for the final output\n",
    "df_holdings_v2 = df_holdings_v2[\n",
    "    [\n",
    "        \"date\",\n",
    "        \"segment\",\n",
    "        \"stock_name\",\n",
    "        \"holding_quantity\",\n",
    "        \"avg_price\",\n",
    "        \"holding_amount\",\n",
    "        \"open_price\",\n",
    "        \"open_amount\",\n",
    "        \"high_price\",\n",
    "        \"high_amount\",\n",
    "        \"low_price\",\n",
    "        \"low_amount\",\n",
    "        \"close_price\",\n",
    "        \"close_amount\",\n",
    "    ]\n",
    "]\n",
    "\n",
    "# Save the final processed DataFrame to a new CSV file\n",
    "df_holdings_v2.to_csv(global_path.holdings_gold_file_path_v2, index=None)\n",
    "\n",
    "logger.info(\"GOLD Layer CSV file for Holdings successfully created at:\")\n",
    "logger.info(global_path.holdings_gold_file_path_v2.resolve())\n",
    "\n",
    "# Display information about the final DataFrame\n",
    "df_holdings_v2.info()"
   ]
  },
  {
   "cell_type": "code",
   "execution_count": 18,
   "metadata": {},
   "outputs": [
    {
     "name": "stderr",
     "output_type": "stream",
     "text": [
      "2024-08-07T20:23:30Z - INFO - GOLD Layer JSON file for Holdings successfully created at:\n",
      "2024-08-07T20:23:30Z - INFO - C:\\Users\\prashant.tripathi\\Code\\Upstox\\DATA\\GOLD\\Holdings\\Holdings_data_v3.json\n"
     ]
    },
    {
     "name": "stdout",
     "output_type": "stream",
     "text": [
      "<class 'pandas.core.frame.DataFrame'>\n",
      "RangeIndex: 1570 entries, 0 to 1569\n",
      "Data columns (total 6 columns):\n",
      " #   Column          Non-Null Count  Dtype         \n",
      "---  ------          --------------  -----         \n",
      " 0   date            1570 non-null   datetime64[ns]\n",
      " 1   holding_amount  1570 non-null   float64       \n",
      " 2   open_amount     1570 non-null   float64       \n",
      " 3   high_amount     1570 non-null   float64       \n",
      " 4   low_amount      1570 non-null   float64       \n",
      " 5   close_amount    1570 non-null   float64       \n",
      "dtypes: datetime64[ns](1), float64(5)\n",
      "memory usage: 73.7 KB\n"
     ]
    }
   ],
   "source": [
    "# Group by the 'date' column and calculate the sum for each date\n",
    "df_holdings_v3 = (\n",
    "    df_holdings_v2.groupby(\"date\")[\n",
    "        [\n",
    "            \"holding_amount\",\n",
    "            \"open_amount\",\n",
    "            \"high_amount\",\n",
    "            \"low_amount\",\n",
    "            \"close_amount\",\n",
    "        ]\n",
    "    ]\n",
    "    .sum()\n",
    "    .reset_index()\n",
    ")\n",
    "\n",
    "# Round the numeric columns to two decimal places\n",
    "df_holdings_v3 = df_holdings_v3.round(2)\n",
    "\n",
    "# Sort the DataFrame for organized output\n",
    "df_holdings_v3 = df_holdings_v3.sort_values(by=[\"date\"]).reset_index(drop=True)\n",
    "\n",
    "# Select and order the columns for the final output\n",
    "df_holdings_v3 = df_holdings_v3[\n",
    "    [\n",
    "        \"date\",\n",
    "        \"holding_amount\",\n",
    "        \"open_amount\",\n",
    "        \"high_amount\",\n",
    "        \"low_amount\",\n",
    "        \"close_amount\",\n",
    "    ]\n",
    "]\n",
    "\n",
    "\n",
    "# Save the final processed DataFrame to a new JSON file\n",
    "df_holdings_v3.to_json(\n",
    "    global_path.holdings_gold_file_path_v3,\n",
    "    orient=\"records\",\n",
    "    date_format=\"iso\",\n",
    "    indent=4,\n",
    ")\n",
    "\n",
    "\n",
    "logger.info(\"GOLD Layer JSON file for Holdings successfully created at:\")\n",
    "logger.info(global_path.holdings_gold_file_path_v3.resolve())\n",
    "\n",
    "# Display information about the final DataFrame\n",
    "df_holdings_v3.info()"
   ]
  },
  {
   "cell_type": "code",
   "execution_count": null,
   "metadata": {},
   "outputs": [],
   "source": []
  }
 ],
 "metadata": {
  "kernelspec": {
   "display_name": "Python 3 (ipykernel)",
   "language": "python",
   "name": "python3"
  },
  "language_info": {
   "codemirror_mode": {
    "name": "ipython",
    "version": 3
   },
   "file_extension": ".py",
   "mimetype": "text/x-python",
   "name": "python",
   "nbconvert_exporter": "python",
   "pygments_lexer": "ipython3",
   "version": "3.11.4"
  }
 },
 "nbformat": 4,
 "nbformat_minor": 4
}
