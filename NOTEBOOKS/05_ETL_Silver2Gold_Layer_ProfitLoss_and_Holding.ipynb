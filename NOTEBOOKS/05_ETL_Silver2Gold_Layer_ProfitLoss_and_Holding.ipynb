{
 "cells": [
  {
   "cell_type": "markdown",
   "metadata": {},
   "source": [
    "## SILVER TO GOLD LAYER\n",
    "\n",
    "### Gold Layer - Trade History\n"
   ]
  },
  {
   "cell_type": "code",
   "execution_count": 1,
   "metadata": {},
   "outputs": [],
   "source": [
    "# Import necessary libraries and utility functions\n",
    "import pandas as pd\n",
    "from common_utilities import global_path, logger\n",
    "from portfolio_calc import *"
   ]
  },
  {
   "cell_type": "markdown",
   "metadata": {},
   "source": [
    "### Data Processing\n",
    "\n",
    "- Read and sort trade history data.\n",
    "- Apply portfolio trade logic.\n"
   ]
  },
  {
   "cell_type": "code",
   "execution_count": 2,
   "metadata": {},
   "outputs": [
    {
     "name": "stderr",
     "output_type": "stream",
     "text": [
      "2024-08-05T23:23:41Z - INFO - Read SILVER Layer trade history data from: C:\\Users\\prashant.tripathi\\Code\\Upstox\\DATA\\SILVER\\TradeHistory\\TradeHistory_data.csv\n"
     ]
    }
   ],
   "source": [
    "# Read the CSV file\n",
    "df_trade_history = pd.read_csv(global_path.tradehistory_silver_file_path)\n",
    "\n",
    "# Convert 'datetime' to datetime type\n",
    "df_trade_history[\"datetime\"] = pd.to_datetime(df_trade_history[\"datetime\"])\n",
    "\n",
    "# Sort the DataFrame by 'datetime'\n",
    "df_trade_history = df_trade_history.sort_values(by=\"datetime\")\n",
    "\n",
    "logger.info(\n",
    "    f\"Read SILVER Layer trade history data from: {global_path.tradehistory_silver_file_path}\"\n",
    ")"
   ]
  },
  {
   "cell_type": "markdown",
   "metadata": {},
   "source": [
    "### Portfolio Logic Application\n",
    "\n",
    "- Instantiate Portfolio and apply trade logic.\n",
    "- Handle expired stocks\n"
   ]
  },
  {
   "cell_type": "code",
   "execution_count": 3,
   "metadata": {},
   "outputs": [
    {
     "name": "stderr",
     "output_type": "stream",
     "text": [
      "2024-08-05T23:23:41Z - INFO - NIFTY-PE-24650-18JUL2024 => 100.0\n"
     ]
    }
   ],
   "source": [
    "# Apply the trade logic to each row of the DataFrame\n",
    "# Instantiate the Portfolio object\n",
    "portfolio = Portfolio()\n",
    "for record in df_trade_history.astype(str).to_dict(orient=\"records\"):\n",
    "    portfolio.trade(record)\n",
    "\n",
    "portfolio.check_expired_stocks()\n",
    "# expired_stocks example : df_trade_history[\"stock_name\"] == \"NIFTY-PE-24650-18JUL2024\""
   ]
  },
  {
   "cell_type": "markdown",
   "metadata": {},
   "source": [
    "### Final Processing and Export\n",
    "\n",
    "- Select and sort relevant columns.\n",
    "- Save the processed data as a CSV file in the Gold layer.\n"
   ]
  },
  {
   "cell_type": "code",
   "execution_count": 4,
   "metadata": {},
   "outputs": [
    {
     "name": "stderr",
     "output_type": "stream",
     "text": [
      "2024-08-05T23:23:41Z - INFO - GOLD Layer CSV file for ProfitLoss successfully created at:\n"
     ]
    },
    {
     "name": "stderr",
     "output_type": "stream",
     "text": [
      "2024-08-05T23:23:41Z - INFO - C:\\Users\\prashant.tripathi\\Code\\Upstox\\DATA\\GOLD\\ProfitLoss\\ProfitLoss_data.csv\n"
     ]
    },
    {
     "name": "stdout",
     "output_type": "stream",
     "text": [
      "<class 'pandas.core.frame.DataFrame'>\n",
      "RangeIndex: 117 entries, 0 to 116\n",
      "Data columns (total 15 columns):\n",
      " #   Column          Non-Null Count  Dtype         \n",
      "---  ------          --------------  -----         \n",
      " 0   exchange        117 non-null    object        \n",
      " 1   segment         117 non-null    object        \n",
      " 2   stock_name      117 non-null    object        \n",
      " 3   position        117 non-null    object        \n",
      " 4   quantity        117 non-null    float64       \n",
      " 5   open_datetime   117 non-null    datetime64[ns]\n",
      " 6   open_side       117 non-null    object        \n",
      " 7   open_price      117 non-null    float64       \n",
      " 8   open_amount     117 non-null    float64       \n",
      " 9   close_datetime  117 non-null    datetime64[ns]\n",
      " 10  close_side      117 non-null    object        \n",
      " 11  close_price     117 non-null    float64       \n",
      " 12  close_amount    117 non-null    float64       \n",
      " 13  pnl_amount      117 non-null    float64       \n",
      " 14  pnl_percentage  117 non-null    float64       \n",
      "dtypes: datetime64[ns](2), float64(7), object(6)\n",
      "memory usage: 13.8+ KB\n"
     ]
    }
   ],
   "source": [
    "# Create a DataFrame from the processed data\n",
    "df_pnl = pd.DataFrame(portfolio.get_pnl())\n",
    "\n",
    "# Round the values in the columns to two decimal places\n",
    "df_pnl = df_pnl.round(2)\n",
    "\n",
    "# Update 'side' column: 'SELL' becomes 'LONG', 'BUY' becomes 'SHORT'\n",
    "df_pnl[\"position\"] = df_pnl[\"close_side\"].apply(\n",
    "    lambda x: \"LONG\" if x == \"SELL\" else \"SHORT\" if x == \"BUY\" else x\n",
    ")\n",
    "\n",
    "# Sort the DataFrame by 'segment', 'stock_name', and 'datetime'\n",
    "df_pnl = df_pnl.sort_values(\n",
    "    by=[\"segment\", \"stock_name\", \"close_datetime\", \"open_datetime\"]\n",
    ")\n",
    "\n",
    "# Round the values in to two decimal places\n",
    "df_pnl = df_pnl.round(2)\n",
    "\n",
    "# Reset index to ensure it starts from 0\n",
    "df_pnl = df_pnl.reset_index(drop=True)\n",
    "\n",
    "# Select and reorder the columns for the final DataFrame\n",
    "df_pnl = df_pnl[\n",
    "    [\n",
    "        \"exchange\",\n",
    "        \"segment\",\n",
    "        \"stock_name\",\n",
    "        \"position\",\n",
    "        \"quantity\",\n",
    "        \"open_datetime\",\n",
    "        \"open_side\",\n",
    "        \"open_price\",\n",
    "        \"open_amount\",\n",
    "        \"close_datetime\",\n",
    "        \"close_side\",\n",
    "        \"close_price\",\n",
    "        \"close_amount\",\n",
    "        \"pnl_amount\",\n",
    "        \"pnl_percentage\",\n",
    "    ]\n",
    "]\n",
    "\n",
    "# Save the final DataFrame to a CSV file\n",
    "df_pnl.to_csv(global_path.profitloss_gold_file_path, index=None)\n",
    "\n",
    "logger.info(\"GOLD Layer CSV file for ProfitLoss successfully created at:\")\n",
    "logger.info(global_path.profitloss_gold_file_path.resolve())\n",
    "\n",
    "# Display the DataFrame information\n",
    "df_pnl.info()"
   ]
  },
  {
   "cell_type": "code",
   "execution_count": 5,
   "metadata": {},
   "outputs": [
    {
     "name": "stderr",
     "output_type": "stream",
     "text": [
      "2024-08-05T23:23:41Z - INFO - GOLD Layer CSV file for Holding successfully created at:\n",
      "2024-08-05T23:23:41Z - INFO - C:\\Users\\prashant.tripathi\\Code\\Upstox\\DATA\\GOLD\\Holdings\\Holdings_data.csv\n"
     ]
    },
    {
     "name": "stdout",
     "output_type": "stream",
     "text": [
      "<class 'pandas.core.frame.DataFrame'>\n",
      "RangeIndex: 209 entries, 0 to 208\n",
      "Data columns (total 7 columns):\n",
      " #   Column             Non-Null Count  Dtype         \n",
      "---  ------             --------------  -----         \n",
      " 0   datetime           209 non-null    datetime64[ns]\n",
      " 1   segment            209 non-null    object        \n",
      " 2   exchange           209 non-null    object        \n",
      " 3   stock_name         209 non-null    object        \n",
      " 4   holding_quantity   209 non-null    float64       \n",
      " 5   holding_price_avg  209 non-null    float64       \n",
      " 6   holding_amount     209 non-null    float64       \n",
      "dtypes: datetime64[ns](1), float64(3), object(3)\n",
      "memory usage: 11.6+ KB\n"
     ]
    }
   ],
   "source": [
    "# Create a DataFrame from the processed data\n",
    "df_holdings = pd.DataFrame(portfolio.get_holdings())\n",
    "\n",
    "# Round the values in the columns to two decimal places\n",
    "df_holdings = df_holdings.round(2)\n",
    "\n",
    "# Sort the DataFrame by 'segment', 'stock_name', and 'datetime'\n",
    "df_holdings = df_holdings.sort_values(by=[\"segment\", \"stock_name\", \"datetime\"])\n",
    "\n",
    "# Round the values in to two decimal places\n",
    "df_holdings = df_holdings.round(2)\n",
    "\n",
    "# Reset index to ensure it starts from 0\n",
    "df_holdings = df_holdings.reset_index(drop=True)\n",
    "\n",
    "# Select and reorder the columns for the final DataFrame\n",
    "df_holdings = df_holdings[\n",
    "    [\n",
    "        \"datetime\",\n",
    "        \"segment\",\n",
    "        \"exchange\",\n",
    "        \"stock_name\",\n",
    "        \"holding_quantity\",\n",
    "        \"holding_price_avg\",\n",
    "        \"holding_amount\",\n",
    "    ]\n",
    "]\n",
    "\n",
    "# Save the final DataFrame to a CSV file\n",
    "df_holdings.to_csv(global_path.holdings_gold_file_path, index=None)\n",
    "\n",
    "logger.info(\"GOLD Layer CSV file for Holding successfully created at:\")\n",
    "logger.info(global_path.holdings_gold_file_path.resolve())\n",
    "\n",
    "# Display the DataFrame information\n",
    "df_holdings.info()"
   ]
  }
 ],
 "metadata": {
  "kernelspec": {
   "display_name": "Python 3 (ipykernel)",
   "language": "python",
   "name": "python3"
  },
  "language_info": {
   "codemirror_mode": {
    "name": "ipython",
    "version": 3
   },
   "file_extension": ".py",
   "mimetype": "text/x-python",
   "name": "python",
   "nbconvert_exporter": "python",
   "pygments_lexer": "ipython3",
   "version": "3.11.4"
  }
 },
 "nbformat": 4,
 "nbformat_minor": 4
}
