{
 "cells": [
  {
   "cell_type": "markdown",
   "metadata": {},
   "source": [
    "## BRONZE TO SILVER LAYER\n"
   ]
  },
  {
   "cell_type": "code",
   "execution_count": 4,
   "metadata": {},
   "outputs": [],
   "source": [
    "import pandas as pd\n",
    "from common_utilities import GlobalPaths,replace_punctuation_from_columns"
   ]
  },
  {
   "cell_type": "markdown",
   "metadata": {},
   "source": [
    "### ScripCode Paths\n"
   ]
  },
  {
   "cell_type": "code",
   "execution_count": 5,
   "metadata": {},
   "outputs": [],
   "source": [
    "# Initialize Symbol Paths\n",
    "SymbolGlobalPath = GlobalPaths(source_name=\"DATA\", object_name=\"Symbol\")\n",
    "SymbolBronzeLayerPath = SymbolGlobalPath.createLayer(layer_name=\"BRONZE\")\n",
    "SymbolSilverLayerPath = SymbolGlobalPath.createLayer(layer_name=\"SILVER\")\n",
    "SymbolSilverFilePath = SymbolSilverLayerPath.joinpath(\"Symbol_data.csv\")"
   ]
  },
  {
   "cell_type": "markdown",
   "metadata": {},
   "source": [
    "### Bronze Layer - ScripCode\n"
   ]
  },
  {
   "cell_type": "code",
   "execution_count": 6,
   "metadata": {},
   "outputs": [
    {
     "name": "stdout",
     "output_type": "stream",
     "text": [
      "<class 'pandas.core.frame.DataFrame'>\n",
      "Index: 4328 entries, 2 to 0\n",
      "Data columns (total 5 columns):\n",
      " #   Column           Non-Null Count  Dtype \n",
      "---  ------           --------------  ----- \n",
      " 0   scrip_code       4328 non-null   object\n",
      " 1   symbol           4328 non-null   object\n",
      " 2   scrip_name       4328 non-null   object\n",
      " 3   isin_no          4328 non-null   object\n",
      " 4   instrument_type  4328 non-null   object\n",
      "dtypes: object(5)\n",
      "memory usage: 202.9+ KB\n",
      "Silver Layer csv file for Symbol successfully created at:\n",
      "C:\\Users\\prashant.tripathi\\Code\\Upstox\\DATA\\SILVER\\Symbol\\Symbol_data.csv\n"
     ]
    }
   ],
   "source": [
    "# Initialize an empty list to store DataFrames\n",
    "dfs = []\n",
    "\n",
    "# Loop through List of all CSV files in the folder\n",
    "for file_path in SymbolBronzeLayerPath.glob(\"*.csv\"):\n",
    "    # Read the CSV file\n",
    "    df_bronze = pd.read_csv(file_path)\n",
    "    # Append the DataFrame to the list\n",
    "    dfs.append(df_bronze)\n",
    "\n",
    "# Concatenate all DataFrames into one\n",
    "df_Symbol = pd.concat(dfs, ignore_index=True)\n",
    "\n",
    "df_Symbol.columns = replace_punctuation_from_columns(df_Symbol.columns)\n",
    "df_Symbol.dropna(how=\"all\", axis=1, inplace=True)\n",
    "\n",
    "# sort the dataframe by date\n",
    "df_Symbol = df_Symbol.sort_values(by=[\"scrip_code\"])\n",
    "\n",
    "# Save the result as a csv file\n",
    "df_Symbol.to_csv(SymbolSilverFilePath, index=None)\n",
    "df_Symbol.info()\n",
    "\n",
    "print(\"Silver Layer csv file for Symbol successfully created at:\")\n",
    "print(SymbolSilverFilePath.resolve())"
   ]
  }
 ],
 "metadata": {
  "kernelspec": {
   "display_name": "Python 3",
   "language": "python",
   "name": "python3"
  },
  "language_info": {
   "codemirror_mode": {
    "name": "ipython",
    "version": 3
   },
   "file_extension": ".py",
   "mimetype": "text/x-python",
   "name": "python",
   "nbconvert_exporter": "python",
   "pygments_lexer": "ipython3",
   "version": "3.11.4"
  }
 },
 "nbformat": 4,
 "nbformat_minor": 2
}
