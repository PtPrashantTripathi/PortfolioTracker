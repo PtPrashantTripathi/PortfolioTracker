{
 "cells": [
  {
   "cell_type": "markdown",
   "metadata": {},
   "source": [
    "## BRONZE TO SILVER LAYER\n",
    "\n",
    "### Bronze Layer - ScripCode\n"
   ]
  },
  {
   "cell_type": "code",
   "execution_count": 1,
   "metadata": {},
   "outputs": [],
   "source": [
    "from pathlib import Path\n",
    "\n",
    "# Import necessary libraries and utility functions\n",
    "import pandas as pd\n",
    "from common.utilities import (\n",
    "    check_files_availability,\n",
    "    global_path,\n",
    "    logger,\n",
    "    replace_punctuation_from_columns,\n",
    ")"
   ]
  },
  {
   "cell_type": "code",
   "execution_count": 2,
   "metadata": {},
   "outputs": [],
   "source": [
    "# Define a function to read and process an csv file\n",
    "\n",
    "\n",
    "def read_file(file_path: Path) -> None:\n",
    "    \"\"\"\n",
    "    Processes CSV files from the Bronze layer and consolidates them into a single DataFrame.\n",
    "    The data is then harmonized and saved as a CSV file in the Silver layer.\n",
    "    \"\"\"\n",
    "    # Log the reading of the file\n",
    "    logger.info(f\"Processing file: {file_path}\")\n",
    "\n",
    "    # Read each CSV file into a DataFrame\n",
    "    df = pd.read_csv(file_path)\n",
    "\n",
    "    # Harmonize the DataFrame by replacing punctuation from column names\n",
    "    df = replace_punctuation_from_columns(df)\n",
    "\n",
    "    # Drop columns where all elements are NaN\n",
    "    df.dropna(how=\"all\", axis=1, inplace=True)\n",
    "    return df"
   ]
  },
  {
   "cell_type": "code",
   "execution_count": 3,
   "metadata": {},
   "outputs": [
    {
     "name": "stderr",
     "output_type": "stream",
     "text": [
      "2024-08-07T13:57:57Z - INFO - Number of Files Detected: 1\n",
      "2024-08-07T13:57:57Z - INFO - Processing file: C:\\Users\\prashant.tripathi\\Code\\Upstox\\DATA\\BRONZE\\Symbol\\Symbol_data.csv\n"
     ]
    },
    {
     "name": "stderr",
     "output_type": "stream",
     "text": [
      "2024-08-07T13:57:57Z - INFO - Successfully created SILVER Layer CSV file for Symbol at:\n",
      "2024-08-07T13:57:57Z - INFO - C:\\Users\\prashant.tripathi\\Code\\Upstox\\DATA\\SILVER\\Symbol\\Symbol_data.csv\n"
     ]
    },
    {
     "name": "stdout",
     "output_type": "stream",
     "text": [
      "<class 'pandas.core.frame.DataFrame'>\n",
      "Index: 4328 entries, 2 to 0\n",
      "Data columns (total 5 columns):\n",
      " #   Column           Non-Null Count  Dtype \n",
      "---  ------           --------------  ----- \n",
      " 0   scrip_code       4328 non-null   object\n",
      " 1   symbol           4328 non-null   object\n",
      " 2   scrip_name       4328 non-null   object\n",
      " 3   isin_no          4328 non-null   object\n",
      " 4   instrument_type  4328 non-null   object\n",
      "dtypes: object(5)\n",
      "memory usage: 202.9+ KB\n"
     ]
    }
   ],
   "source": [
    "# Process the Bronze layer CSV files to create a consolidated DataFrame\n",
    "\n",
    "\n",
    "# Initialize an empty list to store DataFrames\n",
    "df_symbol_list = []\n",
    "\n",
    "# Generate file paths for available Excel files in the source layer\n",
    "file_paths = check_files_availability(\n",
    "    global_path.symbol_bronze_layer_path, file_pattern=\"*.csv\"\n",
    ")\n",
    "\n",
    "# Loop through all CSV files in the bronze layer folder\n",
    "for file_path in file_paths:\n",
    "    try:\n",
    "        df = read_file(file_path)\n",
    "        # Append the DataFrame to the list\n",
    "        df_symbol_list.append(df)\n",
    "    except Exception as e:\n",
    "        # Log any exceptions during file reading\n",
    "        logger.info(f\"Failed to read {file_path} due to error: {e}\")\n",
    "\n",
    "# Concatenate all DataFrames into one\n",
    "df = pd.concat(df_symbol_list, ignore_index=True)\n",
    "\n",
    "# Sort the DataFrame by 'scrip_code'\n",
    "df = df.sort_values(by=[\"scrip_code\"])\n",
    "\n",
    "# Save the result as a CSV file in the silver layer\n",
    "df.to_csv(global_path.symbol_silver_file_path, index=None)\n",
    "logger.info(\"Successfully created SILVER Layer CSV file for Symbol at:\")\n",
    "logger.info(global_path.symbol_silver_file_path.resolve())\n",
    "# Log the DataFrame information\n",
    "df.info()"
   ]
  }
 ],
 "metadata": {
  "kernelspec": {
   "display_name": "Python 3",
   "language": "python",
   "name": "python3"
  },
  "language_info": {
   "codemirror_mode": {
    "name": "ipython",
    "version": 3
   },
   "file_extension": ".py",
   "mimetype": "text/x-python",
   "name": "python",
   "nbconvert_exporter": "python",
   "pygments_lexer": "ipython3",
   "version": "3.11.4"
  }
 },
 "nbformat": 4,
 "nbformat_minor": 2
}
