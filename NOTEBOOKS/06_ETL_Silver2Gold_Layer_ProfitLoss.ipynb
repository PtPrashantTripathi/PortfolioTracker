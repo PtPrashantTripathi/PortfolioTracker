{
 "cells": [
  {
   "cell_type": "markdown",
   "metadata": {},
   "source": [
    "## BRONZE TO SILVER LAYER\n"
   ]
  },
  {
   "cell_type": "code",
   "execution_count": 1,
   "metadata": {},
   "outputs": [
    {
     "ename": "ModuleNotFoundError",
     "evalue": "No module named 'global_paths'",
     "output_type": "error",
     "traceback": [
      "\u001b[1;31m---------------------------------------------------------------------------\u001b[0m",
      "\u001b[1;31mModuleNotFoundError\u001b[0m                       Traceback (most recent call last)",
      "Cell \u001b[1;32mIn[1], line 2\u001b[0m\n\u001b[0;32m      1\u001b[0m \u001b[38;5;28;01mimport\u001b[39;00m \u001b[38;5;21;01mpandas\u001b[39;00m \u001b[38;5;28;01mas\u001b[39;00m \u001b[38;5;21;01mpd\u001b[39;00m\n\u001b[1;32m----> 2\u001b[0m \u001b[38;5;28;01mfrom\u001b[39;00m \u001b[38;5;21;01mglobal_paths\u001b[39;00m \u001b[38;5;28;01mimport\u001b[39;00m TradeHistory_GOLD_FILE_PATH, ProfitLoss_GOLD_FILE_PATH\n",
      "\u001b[1;31mModuleNotFoundError\u001b[0m: No module named 'global_paths'"
     ]
    }
   ],
   "source": [
    "import pandas as pd\n",
    "from global_paths import TradeHistory_GOLD_FILE_PATH, ProfitLoss_GOLD_FILE_PATH"
   ]
  },
  {
   "cell_type": "markdown",
   "metadata": {},
   "source": [
    "### SILVER Layer - Process ProfitLoss History\n"
   ]
  },
  {
   "cell_type": "code",
   "execution_count": null,
   "metadata": {},
   "outputs": [],
   "source": [
    "# Read the CSV file\n",
    "df = pd.read_csv(TradeHistory_GOLD_FILE_PATH)\n",
    "\n",
    "# Filter the DataFrame\n",
    "df = df[df[\"side\"] == \"SELL\"]\n",
    "\n",
    "# Convert datetime to date string\n",
    "df[\"datetime\"] = pd.to_datetime(df[\"datetime\"])\n",
    "\n",
    "# Rename\n",
    "df = df.rename(\n",
    "    columns={\n",
    "        \"sell_quantity\": \"quantity\",\n",
    "    }\n",
    ")\n",
    "\n",
    "# sort the dataframe by date\n",
    "df = df.sort_values(by=[\"segment\", \"stock_name\", \"datetime\"])\n",
    "\n",
    "# Save the result as a csv file\n",
    "df = df[\n",
    "    [\n",
    "        \"datetime\",\n",
    "        \"segment\",\n",
    "        \"stock_name\",\n",
    "        \"quantity\",\n",
    "        \"buy_price\",\n",
    "        \"buy_amount\",\n",
    "        \"sell_price\",\n",
    "        \"sell_amount\",\n",
    "        \"profit_loss_amount\",\n",
    "    ]\n",
    "]\n",
    "df.to_csv(ProfitLoss_GOLD_FILE_PATH, index=None)\n",
    "df.info()\n",
    "print(\"GOLD Layer csv file for ProfitLoss successfully created at:\")\n",
    "print(ProfitLoss_GOLD_FILE_PATH.resolve())"
   ]
  }
 ],
 "metadata": {
  "kernelspec": {
   "display_name": "Python 3",
   "language": "python",
   "name": "python3"
  },
  "language_info": {
   "codemirror_mode": {
    "name": "ipython",
    "version": 3
   },
   "file_extension": ".py",
   "mimetype": "text/x-python",
   "name": "python",
   "nbconvert_exporter": "python",
   "pygments_lexer": "ipython3",
   "version": "3.11.4"
  }
 },
 "nbformat": 4,
 "nbformat_minor": 2
}
