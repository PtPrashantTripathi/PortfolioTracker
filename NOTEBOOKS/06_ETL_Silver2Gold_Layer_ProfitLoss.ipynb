{
 "cells": [
  {
   "cell_type": "markdown",
   "metadata": {},
   "source": [
    "## BRONZE TO SILVER LAYER\n",
    "\n",
    "### SILVER Layer - Process ProfitLoss History\n"
   ]
  },
  {
   "cell_type": "code",
   "execution_count": 5,
   "metadata": {},
   "outputs": [],
   "source": [
    "# Import necessary libraries and utility functions\n",
    "import pandas as pd\n",
    "from common_utilities import global_path, logger"
   ]
  },
  {
   "cell_type": "markdown",
   "metadata": {},
   "source": [
    "### Data Processing\n",
    "\n",
    "- Read the trade history data from the Gold layer.\n",
    "- Filter, transform, and calculate new columns.\n",
    "- Save the processed data to the Silver layer.\n"
   ]
  },
  {
   "cell_type": "code",
   "execution_count": 6,
   "metadata": {},
   "outputs": [
    {
     "name": "stderr",
     "output_type": "stream",
     "text": [
      "2024-08-01T13:56:37Z - INFO - Read GOLD Layer trade history data from: C:\\Users\\prashant.tripathi\\Code\\Upstox\\DATA\\GOLD\\TradeHistory\\TradeHistory_data.csv\n"
     ]
    }
   ],
   "source": [
    "try:\n",
    "    # Read the CSV file into a DataFrame\n",
    "    df = pd.read_csv(global_path.tradehistory_gold_file_path)\n",
    "    logger.info(\n",
    "        f\"Read GOLD Layer trade history data from: {global_path.tradehistory_gold_file_path}\"\n",
    "    )\n",
    "except Exception as e:\n",
    "    logger.error(\n",
    "        f\"Failed to read GOLD Layer trade history data due to error: {e}\"\n",
    "    )"
   ]
  },
  {
   "cell_type": "code",
   "execution_count": 7,
   "metadata": {},
   "outputs": [],
   "source": [
    "# Convert 'datetime' column to datetime objects\n",
    "df[\"datetime\"] = pd.to_datetime(df[\"datetime\"])\n",
    "\n",
    "# Filter out rows where 'pnl_amount' is zero\n",
    "df = df[df[\"pnl_amount\"] != 0]\n",
    "\n",
    "# Update 'side' column: 'SELL' becomes 'LONG', 'BUY' becomes 'SHORT'\n",
    "df[\"side\"] = df[\"side\"].apply(\n",
    "    lambda x: \"LONG\" if x == \"SELL\" else \"SHORT\" if x == \"BUY\" else x\n",
    ")\n",
    "\n",
    "# Rename columns for clarity\n",
    "df = df.rename(\n",
    "    columns={\n",
    "        \"price\": \"close_price\",\n",
    "        \"avg_price\": \"open_price\",\n",
    "    }\n",
    ")\n",
    "\n",
    "# Calculate open and close side amounts\n",
    "df[\"open_amount\"] = df[\"open_price\"] * df[\"quantity\"]\n",
    "df[\"close_amount\"] = df[\"close_price\"] * df[\"quantity\"]\n",
    "\n",
    "# Sort the DataFrame by 'segment', 'stock_name', and 'datetime'\n",
    "df = df.sort_values(by=[\"segment\", \"stock_name\", \"datetime\"])\n",
    "\n",
    "# Round the values in to two decimal places\n",
    "df = df.round(2)\n",
    "\n",
    "# Reset index to ensure it starts from 0\n",
    "df = df.reset_index(drop=True)"
   ]
  },
  {
   "cell_type": "code",
   "execution_count": 8,
   "metadata": {},
   "outputs": [
    {
     "name": "stderr",
     "output_type": "stream",
     "text": [
      "2024-08-01T13:56:37Z - INFO - GOLD Layer CSV file for ProfitLoss successfully created at:\n",
      "2024-08-01T13:56:37Z - INFO - C:\\Users\\prashant.tripathi\\Code\\Upstox\\DATA\\GOLD\\ProfitLoss\\ProfitLoss_data.csv\n"
     ]
    },
    {
     "name": "stdout",
     "output_type": "stream",
     "text": [
      "<class 'pandas.core.frame.DataFrame'>\n",
      "RangeIndex: 84 entries, 0 to 83\n",
      "Data columns (total 12 columns):\n",
      " #   Column          Non-Null Count  Dtype         \n",
      "---  ------          --------------  -----         \n",
      " 0   datetime        84 non-null     datetime64[ns]\n",
      " 1   exchange        84 non-null     object        \n",
      " 2   segment         84 non-null     object        \n",
      " 3   stock_name      84 non-null     object        \n",
      " 4   side            84 non-null     object        \n",
      " 5   quantity        84 non-null     float64       \n",
      " 6   open_price      84 non-null     float64       \n",
      " 7   open_amount     84 non-null     float64       \n",
      " 8   close_price     84 non-null     float64       \n",
      " 9   close_amount    84 non-null     float64       \n",
      " 10  pnl_amount      84 non-null     float64       \n",
      " 11  pnl_percentage  84 non-null     float64       \n",
      "dtypes: datetime64[ns](1), float64(7), object(4)\n",
      "memory usage: 8.0+ KB\n"
     ]
    }
   ],
   "source": [
    "try:\n",
    "    # Select and reorder the columns for the final DataFrame\n",
    "    df = df[\n",
    "        [\n",
    "            \"datetime\",\n",
    "            \"exchange\",\n",
    "            \"segment\",\n",
    "            \"stock_name\",\n",
    "            \"side\",\n",
    "            \"quantity\",\n",
    "            \"open_price\",\n",
    "            \"open_amount\",\n",
    "            \"close_price\",\n",
    "            \"close_amount\",\n",
    "            \"pnl_amount\",\n",
    "            \"pnl_percentage\",\n",
    "        ]\n",
    "    ]\n",
    "    # Save the final DataFrame to a CSV file\n",
    "    df.to_csv(global_path.profitloss_gold_file_path, index=None)\n",
    "    logger.info(\"GOLD Layer CSV file for ProfitLoss successfully created at:\")\n",
    "    logger.info(global_path.profitloss_gold_file_path.resolve())\n",
    "    # Display the DataFrame information\n",
    "    df.info()\n",
    "except Exception as e:\n",
    "    logger.error(f\"Failed to save GOLD Layer CSV file due to error: {e}\")"
   ]
  },
  {
   "cell_type": "code",
   "execution_count": 9,
   "metadata": {},
   "outputs": [],
   "source": [
    "# print(amount)"
   ]
  }
 ],
 "metadata": {
  "kernelspec": {
   "display_name": "Python 3",
   "language": "python",
   "name": "python3"
  },
  "language_info": {
   "codemirror_mode": {
    "name": "ipython",
    "version": 3
   },
   "file_extension": ".py",
   "mimetype": "text/x-python",
   "name": "python",
   "nbconvert_exporter": "python",
   "pygments_lexer": "ipython3",
   "version": "3.11.4"
  }
 },
 "nbformat": 4,
 "nbformat_minor": 2
}
