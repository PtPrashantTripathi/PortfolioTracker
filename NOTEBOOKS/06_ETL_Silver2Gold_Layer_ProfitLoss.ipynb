{
 "cells": [
  {
   "cell_type": "markdown",
   "metadata": {},
   "source": [
    "## BRONZE TO SILVER LAYER\n"
   ]
  },
  {
   "cell_type": "code",
   "execution_count": 62,
   "metadata": {},
   "outputs": [],
   "source": [
    "import pandas as pd\n",
    "from common_utilities import global_path"
   ]
  },
  {
   "cell_type": "markdown",
   "metadata": {},
   "source": [
    "### SILVER Layer - Process ProfitLoss History\n"
   ]
  },
  {
   "cell_type": "code",
   "execution_count": 63,
   "metadata": {},
   "outputs": [
    {
     "name": "stdout",
     "output_type": "stream",
     "text": [
      "<class 'pandas.core.frame.DataFrame'>\n",
      "RangeIndex: 83 entries, 0 to 82\n",
      "Data columns (total 12 columns):\n",
      " #   Column             Non-Null Count  Dtype         \n",
      "---  ------             --------------  -----         \n",
      " 0   datetime           83 non-null     datetime64[ns]\n",
      " 1   exchange           83 non-null     object        \n",
      " 2   segment            83 non-null     object        \n",
      " 3   stock_name         83 non-null     object        \n",
      " 4   side               83 non-null     object        \n",
      " 5   quantity           83 non-null     float64       \n",
      " 6   open_side_price    83 non-null     float64       \n",
      " 7   open_side_amount   83 non-null     float64       \n",
      " 8   close_side_price   83 non-null     float64       \n",
      " 9   close_side_amount  83 non-null     float64       \n",
      " 10  pnl_amount         83 non-null     float64       \n",
      " 11  pnl_percentage     83 non-null     float64       \n",
      "dtypes: datetime64[ns](1), float64(7), object(4)\n",
      "memory usage: 7.9+ KB\n",
      "GOLD Layer csv file for ProfitLoss successfully created at:\n",
      "C:\\Users\\prashant.tripathi\\Code\\Upstox\\DATA\\GOLD\\ProfitLoss\\ProfitLoss_data.csv\n"
     ]
    }
   ],
   "source": [
    "# Read the CSV file into a DataFrame\n",
    "df = pd.read_csv(global_path.tradehistory_gold_file_path)\n",
    "\n",
    "# Convert 'datetime' column to datetime objects\n",
    "df[\"datetime\"] = pd.to_datetime(df[\"datetime\"])\n",
    "\n",
    "# Filter out rows where 'pnl_amount' is zero\n",
    "df = df[df[\"pnl_amount\"] != 0]\n",
    "\n",
    "# Update 'side' column: 'SELL' becomes 'LONG', 'BUY' becomes 'SHORT'\n",
    "df[\"side\"] = df[\"side\"].apply(lambda x: \"LONG\" if x == \"SELL\" else \"SHORT\" if x == \"BUY\" else x)\n",
    "\n",
    "# Rename columns for clarity\n",
    "df = df.rename(\n",
    "    columns={\n",
    "        \"price\": \"close_side_price\",\n",
    "        \"avg_price\": \"open_side_price\",\n",
    "    }\n",
    ")\n",
    "\n",
    "# Calculate open and close side amounts\n",
    "df[\"open_side_amount\"] = df[\"open_side_price\"] * df[\"quantity\"]\n",
    "df[\"close_side_amount\"] = df[\"close_side_price\"] * df[\"quantity\"]\n",
    "\n",
    "# Calculate PnL percentage\n",
    "df[\"pnl_percentage\"] = ((df[\"close_side_amount\"] - df[\"open_side_amount\"]) / df[\"open_side_amount\"]) * 100\n",
    "\n",
    "# Sort the DataFrame by 'segment', 'stock_name', and 'datetime'\n",
    "df = df.sort_values(by=[\"segment\", \"stock_name\", \"datetime\"])\n",
    "\n",
    "# Create a list of column names that contain the substrings 'price', 'amount', or 'pnl'\n",
    "columns_to_round = [\n",
    "    col  \n",
    "    for col in df.columns\n",
    "    if \"price\" in col or \"amount\" in col or \"pnl\" in col \n",
    "]\n",
    "\n",
    "# Round the values in the selected columns to two decimal places\n",
    "df[columns_to_round] = df[columns_to_round].round(2)\n",
    "\n",
    "# Reset index to ensure it starts from 0\n",
    "df = df.reset_index(drop=True)\n",
    "\n",
    "# Select and reorder the columns for the final DataFrame\n",
    "df = df[\n",
    "    [\n",
    "        \"datetime\",\n",
    "        \"exchange\",\n",
    "        \"segment\",\n",
    "        \"stock_name\",\n",
    "        \"side\",\n",
    "        \"quantity\",\n",
    "        \"open_side_price\",\n",
    "        \"open_side_amount\",\n",
    "        \"close_side_price\",\n",
    "        \"close_side_amount\",\n",
    "        \"pnl_amount\",\n",
    "        \"pnl_percentage\"\n",
    "    ]\n",
    "]\n",
    "\n",
    "# Save the final DataFrame to a CSV file\n",
    "df.to_csv(global_path.profitloss_gold_file_path, index=None)\n",
    "\n",
    "# Display the DataFrame information\n",
    "df.info()\n",
    "\n",
    "# Print the success message with the path of the saved file\n",
    "print(\"GOLD Layer csv file for ProfitLoss successfully created at:\")\n",
    "print(global_path.profitloss_gold_file_path.resolve())\n"
   ]
  }
 ],
 "metadata": {
  "kernelspec": {
   "display_name": "Python 3",
   "language": "python",
   "name": "python3"
  },
  "language_info": {
   "codemirror_mode": {
    "name": "ipython",
    "version": 3
   },
   "file_extension": ".py",
   "mimetype": "text/x-python",
   "name": "python",
   "nbconvert_exporter": "python",
   "pygments_lexer": "ipython3",
   "version": "3.11.4"
  }
 },
 "nbformat": 4,
 "nbformat_minor": 2
}
