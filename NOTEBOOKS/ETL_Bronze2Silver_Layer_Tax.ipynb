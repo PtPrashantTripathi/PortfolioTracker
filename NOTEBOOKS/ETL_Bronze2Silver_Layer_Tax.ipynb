{
 "cells": [
  {
   "cell_type": "markdown",
   "metadata": {},
   "source": [
    "## BRONZE TO SILVER LAYER\n",
    "\n",
    "### Reading & Validate the Data from the Files\n"
   ]
  },
  {
   "cell_type": "code",
   "execution_count": 1,
   "metadata": {},
   "outputs": [],
   "source": [
    "## Import necessary libraries and utility functions\n",
    "import pandas as pd\n",
    "from datetime import datetime\n",
    "from pathlib import Path\n",
    "\n",
    "from common_utilities import (\n",
    "    check_files_availability,\n",
    "    global_path,\n",
    "    replace_punctuation_from_columns,\n",
    "    find_correct_sheetname,\n",
    "    find_correct_headers,\n",
    "    logger,\n",
    ")"
   ]
  },
  {
   "cell_type": "code",
   "execution_count": 2,
   "metadata": {},
   "outputs": [
    {
     "name": "stderr",
     "output_type": "stream",
     "text": [
      "2024-08-02T02:01:59Z - INFO - Number of Files Detected: 5\n",
      "2024-08-02T02:01:59Z - INFO - Sheet name => Equities\n",
      "2024-08-02T02:01:59Z - INFO - Sheet name => Future & Options\n",
      "2024-08-02T02:01:59Z - INFO - Sheet name => Equities\n",
      "2024-08-02T02:01:59Z - INFO - Sheet name => Future & Options\n",
      "2024-08-02T02:01:59Z - INFO - Sheet name => Equities\n",
      "2024-08-02T02:01:59Z - INFO - Sheet name => Future & Options\n",
      "2024-08-02T02:01:59Z - INFO - Sheet name => Equities\n",
      "2024-08-02T02:01:59Z - INFO - Sheet name => Future & Options\n",
      "2024-08-02T02:01:59Z - INFO - Sheet name => Equities\n",
      "2024-08-02T02:01:59Z - INFO - Sheet name => Future & Options\n"
     ]
    }
   ],
   "source": [
    "# Generate file_paths\n",
    "file_paths = check_files_availability(\n",
    "    Path(\"../DATA/SOURCE/TaxReport\"),\n",
    "    file_pattern=\"tax_report_*.xlsx\",\n",
    ")\n",
    "sheet_names = {\"Equities\": \"EQ\", \"Future & Options\": \"FO\"}\n",
    "dfs = []\n",
    "for file_path in file_paths:\n",
    "    df_dict = pd.read_excel(\n",
    "        file_path,\n",
    "        sheet_name=None,\n",
    "        header=None,\n",
    "    )\n",
    "    for sheet_name, lookup_value in sheet_names.items():\n",
    "        df = find_correct_sheetname(df_dict, sheet_name)\n",
    "        df = find_correct_headers(df, global_header_regex=\"scrip_name\")\n",
    "        df = replace_punctuation_from_columns(df)\n",
    "        dfs.append(df)\n",
    "\n",
    "# Append to final DataFrame\n",
    "df = pd.concat(dfs, ignore_index=True)\n",
    "# Data cleanup\n",
    "df = df.replace(\"nan\", None)\n",
    "\n",
    "df[\"sell_date\"] = pd.to_datetime(\n",
    "    df[\"sell_date\"],\n",
    "    format=\"%Y-%m-%d %H:%M:%S\",\n",
    ")\n",
    "\n",
    "# Filter out rows where \"scrip_code\" is null\n",
    "df = df[df[\"scrip_code\"].notnull()]\n",
    "# String and strip\n",
    "df[\"symbol\"] = df[\"symbol\"].astype(str).str.strip()\n",
    "\n",
    "# Rename columns for clarity\n",
    "df = df.rename(\n",
    "    columns={\n",
    "        \"scrip_opt\": \"segment\",\n",
    "        \"symbol\": \"stock_name\",\n",
    "        \"sell_date\": \"date\",\n",
    "        \"qty\": \"quantity\",\n",
    "        \"total_pl\": \"pnl_amount\",\n",
    "        \"buy_rate\": \"buy_price\",\n",
    "        \"sell_rate\": \"sell_price\",\n",
    "        \"buy_amt\": \"buy_amount\",\n",
    "        \"sell_amt\": \"sell_amount\",\n",
    "    }\n",
    ")\n",
    "round_cols = [\n",
    "    \"quantity\",\n",
    "    \"buy_price\",\n",
    "    \"buy_amount\",\n",
    "    \"sell_price\",\n",
    "    \"sell_amount\",\n",
    "    \"pnl_amount\",\n",
    "]\n",
    "\n",
    "df[round_cols] = df[round_cols].astype(float).round(2)"
   ]
  },
  {
   "cell_type": "code",
   "execution_count": 3,
   "metadata": {},
   "outputs": [],
   "source": [
    "df = df[\n",
    "    [\n",
    "        \"date\",\n",
    "        \"segment\",\n",
    "        \"stock_name\",\n",
    "        \"strike_price\",\n",
    "        \"quantity\",\n",
    "        \"buy_price\",\n",
    "        \"buy_amount\",\n",
    "        \"sell_price\",\n",
    "        \"sell_amount\",\n",
    "        \"pnl_amount\",\n",
    "    ]\n",
    "]\n",
    "\n",
    "# Sort the DataFrame by date and stock name\n",
    "df = df.sort_values(by=[\"segment\", \"stock_name\", \"date\", \"strike_price\"])\n",
    "\n",
    "df.to_csv(\n",
    "    Path(\"../DATA/BRONZE/TaxReport/TaxReport_data.csv\"), index=None\n",
    ")"
   ]
  },
  {
   "cell_type": "code",
   "execution_count": null,
   "metadata": {},
   "outputs": [],
   "source": []
  }
 ],
 "metadata": {
  "kernelspec": {
   "display_name": "Python 3 (ipykernel)",
   "language": "python",
   "name": "python3"
  },
  "language_info": {
   "codemirror_mode": {
    "name": "ipython",
    "version": 3
   },
   "file_extension": ".py",
   "mimetype": "text/x-python",
   "name": "python",
   "nbconvert_exporter": "python",
   "pygments_lexer": "ipython3",
   "version": "3.11.4"
  }
 },
 "nbformat": 4,
 "nbformat_minor": 4
}
