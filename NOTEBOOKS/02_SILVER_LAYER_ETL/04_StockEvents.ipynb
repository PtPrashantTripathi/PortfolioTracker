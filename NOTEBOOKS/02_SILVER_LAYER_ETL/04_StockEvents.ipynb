{
 "cells": [
  {
   "cell_type": "markdown",
   "metadata": {},
   "source": [
    "## BRONZE TO SILVER LAYER\n",
    "\n",
    "### Silver Layer - Stock Events History\n"
   ]
  },
  {
   "cell_type": "code",
   "execution_count": 1,
   "metadata": {
    "execution": {
     "iopub.execute_input": "2024-08-18T19:10:12.783225Z",
     "iopub.status.busy": "2024-08-18T19:10:12.781739Z",
     "iopub.status.idle": "2024-08-18T19:10:13.588051Z",
     "shell.execute_reply": "2024-08-18T19:10:13.583946Z"
    }
   },
   "outputs": [],
   "source": [
    "# Import necessary libraries and utility functions\n",
    "import pandas as pd\n",
    "\n",
    "from PortfolioTracker.globalpath import global_path\n",
    "from PortfolioTracker.logger import logger\n",
    "from PortfolioTracker.utilities import (\n",
    "    check_files_availability,\n",
    "    replace_punctuation_from_columns,\n",
    ")"
   ]
  },
  {
   "cell_type": "markdown",
   "metadata": {},
   "source": [
    "### Data Processing\n",
    "\n",
    "This section handles the collection of data from the Bronze layer.\n",
    "\n",
    "- Files are checked for availability.\n",
    "- Data is read from each file, processed, and stored in a list of DataFrames.\n",
    "- Process stock event data from the Bronze layer and transform it for the Silver layer.\n"
   ]
  },
  {
   "cell_type": "code",
   "execution_count": 2,
   "metadata": {
    "execution": {
     "iopub.execute_input": "2024-08-18T19:10:13.600689Z",
     "iopub.status.busy": "2024-08-18T19:10:13.599601Z",
     "iopub.status.idle": "2024-08-18T19:10:16.756711Z",
     "shell.execute_reply": "2024-08-18T19:10:16.753533Z"
    }
   },
   "outputs": [
    {
     "name": "stderr",
     "output_type": "stream",
     "text": [
      "2024-08-19T00:40:14Z - INFO - Number of Files Detected: 211\n"
     ]
    },
    {
     "name": "stderr",
     "output_type": "stream",
     "text": [
      "2024-08-19T00:40:14Z - INFO - Processing file: /storage/emulated/0/PortfolioTracker/DATA/BRONZE/StockData/2020/04/TATAMOTORS.csv\n"
     ]
    },
    {
     "name": "stderr",
     "output_type": "stream",
     "text": [
      "2024-08-19T00:40:14Z - INFO - Processing file: /storage/emulated/0/PortfolioTracker/DATA/BRONZE/StockData/2020/05/BHAGERIA.csv\n"
     ]
    },
    {
     "name": "stderr",
     "output_type": "stream",
     "text": [
      "2024-08-19T00:40:14Z - INFO - Processing file: /storage/emulated/0/PortfolioTracker/DATA/BRONZE/StockData/2020/05/TATAMOTORS.csv\n"
     ]
    },
    {
     "name": "stderr",
     "output_type": "stream",
     "text": [
      "2024-08-19T00:40:14Z - INFO - Processing file: /storage/emulated/0/PortfolioTracker/DATA/BRONZE/StockData/2020/06/BHAGERIA.csv\n"
     ]
    },
    {
     "name": "stderr",
     "output_type": "stream",
     "text": [
      "2024-08-19T00:40:14Z - INFO - Processing file: /storage/emulated/0/PortfolioTracker/DATA/BRONZE/StockData/2020/06/TATAMOTORS.csv\n"
     ]
    },
    {
     "name": "stderr",
     "output_type": "stream",
     "text": [
      "2024-08-19T00:40:14Z - INFO - Processing file: /storage/emulated/0/PortfolioTracker/DATA/BRONZE/StockData/2020/07/IDEA.csv\n"
     ]
    },
    {
     "name": "stderr",
     "output_type": "stream",
     "text": [
      "2024-08-19T00:40:14Z - INFO - Processing file: /storage/emulated/0/PortfolioTracker/DATA/BRONZE/StockData/2020/07/PNB.csv\n"
     ]
    },
    {
     "name": "stderr",
     "output_type": "stream",
     "text": [
      "2024-08-19T00:40:14Z - INFO - Processing file: /storage/emulated/0/PortfolioTracker/DATA/BRONZE/StockData/2020/07/TATAMOTORS.csv\n"
     ]
    },
    {
     "name": "stderr",
     "output_type": "stream",
     "text": [
      "2024-08-19T00:40:14Z - INFO - Processing file: /storage/emulated/0/PortfolioTracker/DATA/BRONZE/StockData/2020/07/YESBANK.csv\n"
     ]
    },
    {
     "name": "stderr",
     "output_type": "stream",
     "text": [
      "2024-08-19T00:40:14Z - INFO - Processing file: /storage/emulated/0/PortfolioTracker/DATA/BRONZE/StockData/2020/08/IDEA.csv\n"
     ]
    },
    {
     "name": "stderr",
     "output_type": "stream",
     "text": [
      "2024-08-19T00:40:14Z - INFO - Processing file: /storage/emulated/0/PortfolioTracker/DATA/BRONZE/StockData/2020/08/PNB.csv\n"
     ]
    },
    {
     "name": "stderr",
     "output_type": "stream",
     "text": [
      "2024-08-19T00:40:14Z - INFO - Processing file: /storage/emulated/0/PortfolioTracker/DATA/BRONZE/StockData/2020/08/TATAMOTORS.csv\n"
     ]
    },
    {
     "name": "stderr",
     "output_type": "stream",
     "text": [
      "2024-08-19T00:40:14Z - INFO - Processing file: /storage/emulated/0/PortfolioTracker/DATA/BRONZE/StockData/2020/08/YESBANK.csv\n"
     ]
    },
    {
     "name": "stderr",
     "output_type": "stream",
     "text": [
      "2024-08-19T00:40:14Z - INFO - Processing file: /storage/emulated/0/PortfolioTracker/DATA/BRONZE/StockData/2020/09/IDEA.csv\n"
     ]
    },
    {
     "name": "stderr",
     "output_type": "stream",
     "text": [
      "2024-08-19T00:40:14Z - INFO - Processing file: /storage/emulated/0/PortfolioTracker/DATA/BRONZE/StockData/2020/09/PNB.csv\n"
     ]
    },
    {
     "name": "stderr",
     "output_type": "stream",
     "text": [
      "2024-08-19T00:40:14Z - INFO - Processing file: /storage/emulated/0/PortfolioTracker/DATA/BRONZE/StockData/2020/09/TATAMOTORS.csv\n"
     ]
    },
    {
     "name": "stderr",
     "output_type": "stream",
     "text": [
      "2024-08-19T00:40:14Z - INFO - Processing file: /storage/emulated/0/PortfolioTracker/DATA/BRONZE/StockData/2020/09/YESBANK.csv\n"
     ]
    },
    {
     "name": "stderr",
     "output_type": "stream",
     "text": [
      "2024-08-19T00:40:14Z - INFO - Processing file: /storage/emulated/0/PortfolioTracker/DATA/BRONZE/StockData/2020/10/IDEA.csv\n"
     ]
    },
    {
     "name": "stderr",
     "output_type": "stream",
     "text": [
      "2024-08-19T00:40:14Z - INFO - Processing file: /storage/emulated/0/PortfolioTracker/DATA/BRONZE/StockData/2020/10/PNB.csv\n"
     ]
    },
    {
     "name": "stderr",
     "output_type": "stream",
     "text": [
      "2024-08-19T00:40:14Z - INFO - Processing file: /storage/emulated/0/PortfolioTracker/DATA/BRONZE/StockData/2020/10/TATAMOTORS.csv\n"
     ]
    },
    {
     "name": "stderr",
     "output_type": "stream",
     "text": [
      "2024-08-19T00:40:14Z - INFO - Processing file: /storage/emulated/0/PortfolioTracker/DATA/BRONZE/StockData/2020/10/YESBANK.csv\n"
     ]
    },
    {
     "name": "stderr",
     "output_type": "stream",
     "text": [
      "2024-08-19T00:40:14Z - INFO - Processing file: /storage/emulated/0/PortfolioTracker/DATA/BRONZE/StockData/2020/11/IDEA.csv\n"
     ]
    },
    {
     "name": "stderr",
     "output_type": "stream",
     "text": [
      "2024-08-19T00:40:14Z - INFO - Processing file: /storage/emulated/0/PortfolioTracker/DATA/BRONZE/StockData/2020/11/PNB.csv\n"
     ]
    },
    {
     "name": "stderr",
     "output_type": "stream",
     "text": [
      "2024-08-19T00:40:14Z - INFO - Processing file: /storage/emulated/0/PortfolioTracker/DATA/BRONZE/StockData/2020/11/TATAMOTORS.csv\n"
     ]
    },
    {
     "name": "stderr",
     "output_type": "stream",
     "text": [
      "2024-08-19T00:40:14Z - INFO - Processing file: /storage/emulated/0/PortfolioTracker/DATA/BRONZE/StockData/2020/11/YESBANK.csv\n"
     ]
    },
    {
     "name": "stderr",
     "output_type": "stream",
     "text": [
      "2024-08-19T00:40:14Z - INFO - Processing file: /storage/emulated/0/PortfolioTracker/DATA/BRONZE/StockData/2020/12/IDEA.csv\n"
     ]
    },
    {
     "name": "stderr",
     "output_type": "stream",
     "text": [
      "2024-08-19T00:40:14Z - INFO - Processing file: /storage/emulated/0/PortfolioTracker/DATA/BRONZE/StockData/2020/12/PNB.csv\n"
     ]
    },
    {
     "name": "stderr",
     "output_type": "stream",
     "text": [
      "2024-08-19T00:40:14Z - INFO - Processing file: /storage/emulated/0/PortfolioTracker/DATA/BRONZE/StockData/2020/12/TATAMOTORS.csv\n"
     ]
    },
    {
     "name": "stderr",
     "output_type": "stream",
     "text": [
      "2024-08-19T00:40:14Z - INFO - Processing file: /storage/emulated/0/PortfolioTracker/DATA/BRONZE/StockData/2020/12/YESBANK.csv\n"
     ]
    },
    {
     "name": "stderr",
     "output_type": "stream",
     "text": [
      "2024-08-19T00:40:14Z - INFO - Processing file: /storage/emulated/0/PortfolioTracker/DATA/BRONZE/StockData/2021/01/IDEA.csv\n"
     ]
    },
    {
     "name": "stderr",
     "output_type": "stream",
     "text": [
      "2024-08-19T00:40:14Z - INFO - Processing file: /storage/emulated/0/PortfolioTracker/DATA/BRONZE/StockData/2021/01/PNB.csv\n"
     ]
    },
    {
     "name": "stderr",
     "output_type": "stream",
     "text": [
      "2024-08-19T00:40:14Z - INFO - Processing file: /storage/emulated/0/PortfolioTracker/DATA/BRONZE/StockData/2021/01/TATAMOTORS.csv\n"
     ]
    },
    {
     "name": "stderr",
     "output_type": "stream",
     "text": [
      "2024-08-19T00:40:14Z - INFO - Processing file: /storage/emulated/0/PortfolioTracker/DATA/BRONZE/StockData/2021/01/YESBANK.csv\n"
     ]
    },
    {
     "name": "stderr",
     "output_type": "stream",
     "text": [
      "2024-08-19T00:40:14Z - INFO - Processing file: /storage/emulated/0/PortfolioTracker/DATA/BRONZE/StockData/2021/02/IDEA.csv\n"
     ]
    },
    {
     "name": "stderr",
     "output_type": "stream",
     "text": [
      "2024-08-19T00:40:14Z - INFO - Processing file: /storage/emulated/0/PortfolioTracker/DATA/BRONZE/StockData/2021/02/NIFTYBEES.csv\n"
     ]
    },
    {
     "name": "stderr",
     "output_type": "stream",
     "text": [
      "2024-08-19T00:40:14Z - INFO - Processing file: /storage/emulated/0/PortfolioTracker/DATA/BRONZE/StockData/2021/02/PNB.csv\n"
     ]
    },
    {
     "name": "stderr",
     "output_type": "stream",
     "text": [
      "2024-08-19T00:40:14Z - INFO - Processing file: /storage/emulated/0/PortfolioTracker/DATA/BRONZE/StockData/2021/02/TATAMOTORS.csv\n"
     ]
    },
    {
     "name": "stderr",
     "output_type": "stream",
     "text": [
      "2024-08-19T00:40:14Z - INFO - Processing file: /storage/emulated/0/PortfolioTracker/DATA/BRONZE/StockData/2021/02/TATAPOWER.csv\n"
     ]
    },
    {
     "name": "stderr",
     "output_type": "stream",
     "text": [
      "2024-08-19T00:40:14Z - INFO - Processing file: /storage/emulated/0/PortfolioTracker/DATA/BRONZE/StockData/2021/02/YESBANK.csv\n"
     ]
    },
    {
     "name": "stderr",
     "output_type": "stream",
     "text": [
      "2024-08-19T00:40:14Z - INFO - Processing file: /storage/emulated/0/PortfolioTracker/DATA/BRONZE/StockData/2021/03/HERANBA.csv\n"
     ]
    },
    {
     "name": "stderr",
     "output_type": "stream",
     "text": [
      "2024-08-19T00:40:14Z - INFO - Processing file: /storage/emulated/0/PortfolioTracker/DATA/BRONZE/StockData/2021/03/IDEA.csv\n"
     ]
    },
    {
     "name": "stderr",
     "output_type": "stream",
     "text": [
      "2024-08-19T00:40:14Z - INFO - Processing file: /storage/emulated/0/PortfolioTracker/DATA/BRONZE/StockData/2021/03/NIFTYBEES.csv\n"
     ]
    },
    {
     "name": "stderr",
     "output_type": "stream",
     "text": [
      "2024-08-19T00:40:14Z - INFO - Processing file: /storage/emulated/0/PortfolioTracker/DATA/BRONZE/StockData/2021/03/PNB.csv\n"
     ]
    },
    {
     "name": "stderr",
     "output_type": "stream",
     "text": [
      "2024-08-19T00:40:14Z - INFO - Processing file: /storage/emulated/0/PortfolioTracker/DATA/BRONZE/StockData/2021/03/TATAMOTORS.csv\n"
     ]
    },
    {
     "name": "stderr",
     "output_type": "stream",
     "text": [
      "2024-08-19T00:40:14Z - INFO - Processing file: /storage/emulated/0/PortfolioTracker/DATA/BRONZE/StockData/2021/03/TATAPOWER.csv\n"
     ]
    },
    {
     "name": "stderr",
     "output_type": "stream",
     "text": [
      "2024-08-19T00:40:14Z - INFO - Processing file: /storage/emulated/0/PortfolioTracker/DATA/BRONZE/StockData/2021/03/YESBANK.csv\n"
     ]
    },
    {
     "name": "stderr",
     "output_type": "stream",
     "text": [
      "2024-08-19T00:40:14Z - INFO - Processing file: /storage/emulated/0/PortfolioTracker/DATA/BRONZE/StockData/2021/04/IDEA.csv\n"
     ]
    },
    {
     "name": "stderr",
     "output_type": "stream",
     "text": [
      "2024-08-19T00:40:14Z - INFO - Processing file: /storage/emulated/0/PortfolioTracker/DATA/BRONZE/StockData/2021/04/INFY.csv\n"
     ]
    },
    {
     "name": "stderr",
     "output_type": "stream",
     "text": [
      "2024-08-19T00:40:14Z - INFO - Processing file: /storage/emulated/0/PortfolioTracker/DATA/BRONZE/StockData/2021/04/NIFTYBEES.csv\n"
     ]
    },
    {
     "name": "stderr",
     "output_type": "stream",
     "text": [
      "2024-08-19T00:40:14Z - INFO - Processing file: /storage/emulated/0/PortfolioTracker/DATA/BRONZE/StockData/2021/04/PNB.csv\n"
     ]
    },
    {
     "name": "stderr",
     "output_type": "stream",
     "text": [
      "2024-08-19T00:40:14Z - INFO - Processing file: /storage/emulated/0/PortfolioTracker/DATA/BRONZE/StockData/2021/04/TATAMOTORS.csv\n"
     ]
    },
    {
     "name": "stderr",
     "output_type": "stream",
     "text": [
      "2024-08-19T00:40:14Z - INFO - Processing file: /storage/emulated/0/PortfolioTracker/DATA/BRONZE/StockData/2021/04/TATAPOWER.csv\n"
     ]
    },
    {
     "name": "stderr",
     "output_type": "stream",
     "text": [
      "2024-08-19T00:40:14Z - INFO - Processing file: /storage/emulated/0/PortfolioTracker/DATA/BRONZE/StockData/2021/04/YESBANK.csv\n"
     ]
    },
    {
     "name": "stderr",
     "output_type": "stream",
     "text": [
      "2024-08-19T00:40:14Z - INFO - Processing file: /storage/emulated/0/PortfolioTracker/DATA/BRONZE/StockData/2021/05/IDEA.csv\n"
     ]
    },
    {
     "name": "stderr",
     "output_type": "stream",
     "text": [
      "2024-08-19T00:40:14Z - INFO - Processing file: /storage/emulated/0/PortfolioTracker/DATA/BRONZE/StockData/2021/05/INFY.csv\n"
     ]
    },
    {
     "name": "stderr",
     "output_type": "stream",
     "text": [
      "2024-08-19T00:40:14Z - INFO - Processing file: /storage/emulated/0/PortfolioTracker/DATA/BRONZE/StockData/2021/05/NIFTYBEES.csv\n"
     ]
    },
    {
     "name": "stderr",
     "output_type": "stream",
     "text": [
      "2024-08-19T00:40:14Z - INFO - Processing file: /storage/emulated/0/PortfolioTracker/DATA/BRONZE/StockData/2021/05/PNB.csv\n"
     ]
    },
    {
     "name": "stderr",
     "output_type": "stream",
     "text": [
      "2024-08-19T00:40:14Z - INFO - Processing file: /storage/emulated/0/PortfolioTracker/DATA/BRONZE/StockData/2021/05/SBIN.csv\n"
     ]
    },
    {
     "name": "stderr",
     "output_type": "stream",
     "text": [
      "2024-08-19T00:40:14Z - INFO - Processing file: /storage/emulated/0/PortfolioTracker/DATA/BRONZE/StockData/2021/05/TATAMOTORS.csv\n"
     ]
    },
    {
     "name": "stderr",
     "output_type": "stream",
     "text": [
      "2024-08-19T00:40:14Z - INFO - Processing file: /storage/emulated/0/PortfolioTracker/DATA/BRONZE/StockData/2021/05/TATAPOWER.csv\n"
     ]
    },
    {
     "name": "stderr",
     "output_type": "stream",
     "text": [
      "2024-08-19T00:40:14Z - INFO - Processing file: /storage/emulated/0/PortfolioTracker/DATA/BRONZE/StockData/2021/05/YESBANK.csv\n"
     ]
    },
    {
     "name": "stderr",
     "output_type": "stream",
     "text": [
      "2024-08-19T00:40:14Z - INFO - Processing file: /storage/emulated/0/PortfolioTracker/DATA/BRONZE/StockData/2021/06/IDEA.csv\n"
     ]
    },
    {
     "name": "stderr",
     "output_type": "stream",
     "text": [
      "2024-08-19T00:40:14Z - INFO - Processing file: /storage/emulated/0/PortfolioTracker/DATA/BRONZE/StockData/2021/06/INFY.csv\n"
     ]
    },
    {
     "name": "stderr",
     "output_type": "stream",
     "text": [
      "2024-08-19T00:40:14Z - INFO - Processing file: /storage/emulated/0/PortfolioTracker/DATA/BRONZE/StockData/2021/06/NIFTYBEES.csv\n"
     ]
    },
    {
     "name": "stderr",
     "output_type": "stream",
     "text": [
      "2024-08-19T00:40:14Z - INFO - Processing file: /storage/emulated/0/PortfolioTracker/DATA/BRONZE/StockData/2021/06/PNB.csv\n"
     ]
    },
    {
     "name": "stderr",
     "output_type": "stream",
     "text": [
      "2024-08-19T00:40:14Z - INFO - Processing file: /storage/emulated/0/PortfolioTracker/DATA/BRONZE/StockData/2021/06/SBIN.csv\n"
     ]
    },
    {
     "name": "stderr",
     "output_type": "stream",
     "text": [
      "2024-08-19T00:40:14Z - INFO - Processing file: /storage/emulated/0/PortfolioTracker/DATA/BRONZE/StockData/2021/06/TATACHEM.csv\n"
     ]
    },
    {
     "name": "stderr",
     "output_type": "stream",
     "text": [
      "2024-08-19T00:40:14Z - INFO - Processing file: /storage/emulated/0/PortfolioTracker/DATA/BRONZE/StockData/2021/06/TATAMOTORS.csv\n"
     ]
    },
    {
     "name": "stderr",
     "output_type": "stream",
     "text": [
      "2024-08-19T00:40:15Z - INFO - Processing file: /storage/emulated/0/PortfolioTracker/DATA/BRONZE/StockData/2021/06/TATAPOWER.csv\n"
     ]
    },
    {
     "name": "stderr",
     "output_type": "stream",
     "text": [
      "2024-08-19T00:40:15Z - INFO - Processing file: /storage/emulated/0/PortfolioTracker/DATA/BRONZE/StockData/2021/06/VOLTAS.csv\n"
     ]
    },
    {
     "name": "stderr",
     "output_type": "stream",
     "text": [
      "2024-08-19T00:40:15Z - INFO - Processing file: /storage/emulated/0/PortfolioTracker/DATA/BRONZE/StockData/2021/06/YESBANK.csv\n"
     ]
    },
    {
     "name": "stderr",
     "output_type": "stream",
     "text": [
      "2024-08-19T00:40:15Z - INFO - Processing file: /storage/emulated/0/PortfolioTracker/DATA/BRONZE/StockData/2021/07/TATACHEM.csv\n"
     ]
    },
    {
     "name": "stderr",
     "output_type": "stream",
     "text": [
      "2024-08-19T00:40:15Z - INFO - Processing file: /storage/emulated/0/PortfolioTracker/DATA/BRONZE/StockData/2021/07/TATAMOTORS.csv\n"
     ]
    },
    {
     "name": "stderr",
     "output_type": "stream",
     "text": [
      "2024-08-19T00:40:15Z - INFO - Processing file: /storage/emulated/0/PortfolioTracker/DATA/BRONZE/StockData/2021/07/TATAPOWER.csv\n"
     ]
    },
    {
     "name": "stderr",
     "output_type": "stream",
     "text": [
      "2024-08-19T00:40:15Z - INFO - Processing file: /storage/emulated/0/PortfolioTracker/DATA/BRONZE/StockData/2021/07/VOLTAS.csv\n"
     ]
    },
    {
     "name": "stderr",
     "output_type": "stream",
     "text": [
      "2024-08-19T00:40:15Z - INFO - Processing file: /storage/emulated/0/PortfolioTracker/DATA/BRONZE/StockData/2021/07/YESBANK.csv\n"
     ]
    },
    {
     "name": "stderr",
     "output_type": "stream",
     "text": [
      "2024-08-19T00:40:15Z - INFO - Processing file: /storage/emulated/0/PortfolioTracker/DATA/BRONZE/StockData/2021/08/BPCL.csv\n"
     ]
    },
    {
     "name": "stderr",
     "output_type": "stream",
     "text": [
      "2024-08-19T00:40:15Z - INFO - Processing file: /storage/emulated/0/PortfolioTracker/DATA/BRONZE/StockData/2021/08/TATACHEM.csv\n"
     ]
    },
    {
     "name": "stderr",
     "output_type": "stream",
     "text": [
      "2024-08-19T00:40:15Z - INFO - Processing file: /storage/emulated/0/PortfolioTracker/DATA/BRONZE/StockData/2021/08/TATAMOTORS.csv\n"
     ]
    },
    {
     "name": "stderr",
     "output_type": "stream",
     "text": [
      "2024-08-19T00:40:15Z - INFO - Processing file: /storage/emulated/0/PortfolioTracker/DATA/BRONZE/StockData/2021/08/TATAPOWER.csv\n"
     ]
    },
    {
     "name": "stderr",
     "output_type": "stream",
     "text": [
      "2024-08-19T00:40:15Z - INFO - Processing file: /storage/emulated/0/PortfolioTracker/DATA/BRONZE/StockData/2021/08/VOLTAS.csv\n"
     ]
    },
    {
     "name": "stderr",
     "output_type": "stream",
     "text": [
      "2024-08-19T00:40:15Z - INFO - Processing file: /storage/emulated/0/PortfolioTracker/DATA/BRONZE/StockData/2021/08/YESBANK.csv\n"
     ]
    },
    {
     "name": "stderr",
     "output_type": "stream",
     "text": [
      "2024-08-19T00:40:15Z - INFO - Processing file: /storage/emulated/0/PortfolioTracker/DATA/BRONZE/StockData/2021/09/BPCL.csv\n"
     ]
    },
    {
     "name": "stderr",
     "output_type": "stream",
     "text": [
      "2024-08-19T00:40:15Z - INFO - Processing file: /storage/emulated/0/PortfolioTracker/DATA/BRONZE/StockData/2021/09/TATACHEM.csv\n"
     ]
    },
    {
     "name": "stderr",
     "output_type": "stream",
     "text": [
      "2024-08-19T00:40:15Z - INFO - Processing file: /storage/emulated/0/PortfolioTracker/DATA/BRONZE/StockData/2021/09/TATAMOTORS.csv\n"
     ]
    },
    {
     "name": "stderr",
     "output_type": "stream",
     "text": [
      "2024-08-19T00:40:15Z - INFO - Processing file: /storage/emulated/0/PortfolioTracker/DATA/BRONZE/StockData/2021/09/TATAPOWER.csv\n"
     ]
    },
    {
     "name": "stderr",
     "output_type": "stream",
     "text": [
      "2024-08-19T00:40:15Z - INFO - Processing file: /storage/emulated/0/PortfolioTracker/DATA/BRONZE/StockData/2021/09/VOLTAS.csv\n"
     ]
    },
    {
     "name": "stderr",
     "output_type": "stream",
     "text": [
      "2024-08-19T00:40:15Z - INFO - Processing file: /storage/emulated/0/PortfolioTracker/DATA/BRONZE/StockData/2021/09/YESBANK.csv\n"
     ]
    },
    {
     "name": "stderr",
     "output_type": "stream",
     "text": [
      "2024-08-19T00:40:15Z - INFO - Processing file: /storage/emulated/0/PortfolioTracker/DATA/BRONZE/StockData/2021/10/BPCL.csv\n"
     ]
    },
    {
     "name": "stderr",
     "output_type": "stream",
     "text": [
      "2024-08-19T00:40:15Z - INFO - Processing file: /storage/emulated/0/PortfolioTracker/DATA/BRONZE/StockData/2021/10/TATACHEM.csv\n"
     ]
    },
    {
     "name": "stderr",
     "output_type": "stream",
     "text": [
      "2024-08-19T00:40:15Z - INFO - Processing file: /storage/emulated/0/PortfolioTracker/DATA/BRONZE/StockData/2021/10/TATAMOTORS.csv\n"
     ]
    },
    {
     "name": "stderr",
     "output_type": "stream",
     "text": [
      "2024-08-19T00:40:15Z - INFO - Processing file: /storage/emulated/0/PortfolioTracker/DATA/BRONZE/StockData/2021/10/TATAPOWER.csv\n"
     ]
    },
    {
     "name": "stderr",
     "output_type": "stream",
     "text": [
      "2024-08-19T00:40:15Z - INFO - Processing file: /storage/emulated/0/PortfolioTracker/DATA/BRONZE/StockData/2021/10/VOLTAS.csv\n"
     ]
    },
    {
     "name": "stderr",
     "output_type": "stream",
     "text": [
      "2024-08-19T00:40:15Z - INFO - Processing file: /storage/emulated/0/PortfolioTracker/DATA/BRONZE/StockData/2021/10/YESBANK.csv\n"
     ]
    },
    {
     "name": "stderr",
     "output_type": "stream",
     "text": [
      "2024-08-19T00:40:15Z - INFO - Processing file: /storage/emulated/0/PortfolioTracker/DATA/BRONZE/StockData/2021/11/BPCL.csv\n"
     ]
    },
    {
     "name": "stderr",
     "output_type": "stream",
     "text": [
      "2024-08-19T00:40:15Z - INFO - Processing file: /storage/emulated/0/PortfolioTracker/DATA/BRONZE/StockData/2021/11/TATACHEM.csv\n"
     ]
    },
    {
     "name": "stderr",
     "output_type": "stream",
     "text": [
      "2024-08-19T00:40:15Z - INFO - Processing file: /storage/emulated/0/PortfolioTracker/DATA/BRONZE/StockData/2021/11/TATAMOTORS.csv\n"
     ]
    },
    {
     "name": "stderr",
     "output_type": "stream",
     "text": [
      "2024-08-19T00:40:15Z - INFO - Processing file: /storage/emulated/0/PortfolioTracker/DATA/BRONZE/StockData/2021/11/TATAPOWER.csv\n"
     ]
    },
    {
     "name": "stderr",
     "output_type": "stream",
     "text": [
      "2024-08-19T00:40:15Z - INFO - Processing file: /storage/emulated/0/PortfolioTracker/DATA/BRONZE/StockData/2021/11/VOLTAS.csv\n"
     ]
    },
    {
     "name": "stderr",
     "output_type": "stream",
     "text": [
      "2024-08-19T00:40:15Z - INFO - Processing file: /storage/emulated/0/PortfolioTracker/DATA/BRONZE/StockData/2021/11/YESBANK.csv\n"
     ]
    },
    {
     "name": "stderr",
     "output_type": "stream",
     "text": [
      "2024-08-19T00:40:15Z - INFO - Processing file: /storage/emulated/0/PortfolioTracker/DATA/BRONZE/StockData/2021/12/BPCL.csv\n"
     ]
    },
    {
     "name": "stderr",
     "output_type": "stream",
     "text": [
      "2024-08-19T00:40:15Z - INFO - Processing file: /storage/emulated/0/PortfolioTracker/DATA/BRONZE/StockData/2021/12/TATACHEM.csv\n"
     ]
    },
    {
     "name": "stderr",
     "output_type": "stream",
     "text": [
      "2024-08-19T00:40:15Z - INFO - Processing file: /storage/emulated/0/PortfolioTracker/DATA/BRONZE/StockData/2021/12/TATAMOTORS.csv\n"
     ]
    },
    {
     "name": "stderr",
     "output_type": "stream",
     "text": [
      "2024-08-19T00:40:15Z - INFO - Processing file: /storage/emulated/0/PortfolioTracker/DATA/BRONZE/StockData/2021/12/TATAPOWER.csv\n"
     ]
    },
    {
     "name": "stderr",
     "output_type": "stream",
     "text": [
      "2024-08-19T00:40:15Z - INFO - Processing file: /storage/emulated/0/PortfolioTracker/DATA/BRONZE/StockData/2021/12/VOLTAS.csv\n"
     ]
    },
    {
     "name": "stderr",
     "output_type": "stream",
     "text": [
      "2024-08-19T00:40:15Z - INFO - Processing file: /storage/emulated/0/PortfolioTracker/DATA/BRONZE/StockData/2022/01/BPCL.csv\n"
     ]
    },
    {
     "name": "stderr",
     "output_type": "stream",
     "text": [
      "2024-08-19T00:40:15Z - INFO - Processing file: /storage/emulated/0/PortfolioTracker/DATA/BRONZE/StockData/2022/01/TATACHEM.csv\n"
     ]
    },
    {
     "name": "stderr",
     "output_type": "stream",
     "text": [
      "2024-08-19T00:40:15Z - INFO - Processing file: /storage/emulated/0/PortfolioTracker/DATA/BRONZE/StockData/2022/01/TATAMOTORS.csv\n"
     ]
    },
    {
     "name": "stderr",
     "output_type": "stream",
     "text": [
      "2024-08-19T00:40:15Z - INFO - Processing file: /storage/emulated/0/PortfolioTracker/DATA/BRONZE/StockData/2022/01/TATAPOWER.csv\n"
     ]
    },
    {
     "name": "stderr",
     "output_type": "stream",
     "text": [
      "2024-08-19T00:40:15Z - INFO - Processing file: /storage/emulated/0/PortfolioTracker/DATA/BRONZE/StockData/2022/01/VOLTAS.csv\n"
     ]
    },
    {
     "name": "stderr",
     "output_type": "stream",
     "text": [
      "2024-08-19T00:40:15Z - INFO - Processing file: /storage/emulated/0/PortfolioTracker/DATA/BRONZE/StockData/2022/02/BPCL.csv\n"
     ]
    },
    {
     "name": "stderr",
     "output_type": "stream",
     "text": [
      "2024-08-19T00:40:15Z - INFO - Processing file: /storage/emulated/0/PortfolioTracker/DATA/BRONZE/StockData/2022/02/TATACHEM.csv\n"
     ]
    },
    {
     "name": "stderr",
     "output_type": "stream",
     "text": [
      "2024-08-19T00:40:15Z - INFO - Processing file: /storage/emulated/0/PortfolioTracker/DATA/BRONZE/StockData/2022/02/TATAMOTORS.csv\n"
     ]
    },
    {
     "name": "stderr",
     "output_type": "stream",
     "text": [
      "2024-08-19T00:40:15Z - INFO - Processing file: /storage/emulated/0/PortfolioTracker/DATA/BRONZE/StockData/2022/02/TATAPOWER.csv\n"
     ]
    },
    {
     "name": "stderr",
     "output_type": "stream",
     "text": [
      "2024-08-19T00:40:15Z - INFO - Processing file: /storage/emulated/0/PortfolioTracker/DATA/BRONZE/StockData/2022/02/VOLTAS.csv\n"
     ]
    },
    {
     "name": "stderr",
     "output_type": "stream",
     "text": [
      "2024-08-19T00:40:15Z - INFO - Processing file: /storage/emulated/0/PortfolioTracker/DATA/BRONZE/StockData/2022/03/BPCL.csv\n"
     ]
    },
    {
     "name": "stderr",
     "output_type": "stream",
     "text": [
      "2024-08-19T00:40:15Z - INFO - Processing file: /storage/emulated/0/PortfolioTracker/DATA/BRONZE/StockData/2022/03/TATACHEM.csv\n"
     ]
    },
    {
     "name": "stderr",
     "output_type": "stream",
     "text": [
      "2024-08-19T00:40:15Z - INFO - Processing file: /storage/emulated/0/PortfolioTracker/DATA/BRONZE/StockData/2022/03/TATAMOTORS.csv\n"
     ]
    },
    {
     "name": "stderr",
     "output_type": "stream",
     "text": [
      "2024-08-19T00:40:15Z - INFO - Processing file: /storage/emulated/0/PortfolioTracker/DATA/BRONZE/StockData/2022/03/TATAPOWER.csv\n"
     ]
    },
    {
     "name": "stderr",
     "output_type": "stream",
     "text": [
      "2024-08-19T00:40:15Z - INFO - Processing file: /storage/emulated/0/PortfolioTracker/DATA/BRONZE/StockData/2022/03/VOLTAS.csv\n"
     ]
    },
    {
     "name": "stderr",
     "output_type": "stream",
     "text": [
      "2024-08-19T00:40:15Z - INFO - Processing file: /storage/emulated/0/PortfolioTracker/DATA/BRONZE/StockData/2022/04/BPCL.csv\n"
     ]
    },
    {
     "name": "stderr",
     "output_type": "stream",
     "text": [
      "2024-08-19T00:40:15Z - INFO - Processing file: /storage/emulated/0/PortfolioTracker/DATA/BRONZE/StockData/2022/04/TATACHEM.csv\n"
     ]
    },
    {
     "name": "stderr",
     "output_type": "stream",
     "text": [
      "2024-08-19T00:40:15Z - INFO - Processing file: /storage/emulated/0/PortfolioTracker/DATA/BRONZE/StockData/2022/04/TATAMOTORS.csv\n"
     ]
    },
    {
     "name": "stderr",
     "output_type": "stream",
     "text": [
      "2024-08-19T00:40:15Z - INFO - Processing file: /storage/emulated/0/PortfolioTracker/DATA/BRONZE/StockData/2022/04/TATAPOWER.csv\n"
     ]
    },
    {
     "name": "stderr",
     "output_type": "stream",
     "text": [
      "2024-08-19T00:40:15Z - INFO - Processing file: /storage/emulated/0/PortfolioTracker/DATA/BRONZE/StockData/2022/04/VOLTAS.csv\n"
     ]
    },
    {
     "name": "stderr",
     "output_type": "stream",
     "text": [
      "2024-08-19T00:40:15Z - INFO - Processing file: /storage/emulated/0/PortfolioTracker/DATA/BRONZE/StockData/2022/05/BPCL.csv\n"
     ]
    },
    {
     "name": "stderr",
     "output_type": "stream",
     "text": [
      "2024-08-19T00:40:15Z - INFO - Processing file: /storage/emulated/0/PortfolioTracker/DATA/BRONZE/StockData/2022/05/LICI.csv\n"
     ]
    },
    {
     "name": "stderr",
     "output_type": "stream",
     "text": [
      "2024-08-19T00:40:15Z - INFO - Processing file: /storage/emulated/0/PortfolioTracker/DATA/BRONZE/StockData/2022/05/TATACHEM.csv\n"
     ]
    },
    {
     "name": "stderr",
     "output_type": "stream",
     "text": [
      "2024-08-19T00:40:15Z - INFO - Processing file: /storage/emulated/0/PortfolioTracker/DATA/BRONZE/StockData/2022/05/TATAMOTORS.csv\n"
     ]
    },
    {
     "name": "stderr",
     "output_type": "stream",
     "text": [
      "2024-08-19T00:40:15Z - INFO - Processing file: /storage/emulated/0/PortfolioTracker/DATA/BRONZE/StockData/2022/05/TATAPOWER.csv\n"
     ]
    },
    {
     "name": "stderr",
     "output_type": "stream",
     "text": [
      "2024-08-19T00:40:15Z - INFO - Processing file: /storage/emulated/0/PortfolioTracker/DATA/BRONZE/StockData/2022/05/VOLTAS.csv\n"
     ]
    },
    {
     "name": "stderr",
     "output_type": "stream",
     "text": [
      "2024-08-19T00:40:15Z - INFO - Processing file: /storage/emulated/0/PortfolioTracker/DATA/BRONZE/StockData/2022/06/BPCL.csv\n"
     ]
    },
    {
     "name": "stderr",
     "output_type": "stream",
     "text": [
      "2024-08-19T00:40:15Z - INFO - Processing file: /storage/emulated/0/PortfolioTracker/DATA/BRONZE/StockData/2022/06/LICI.csv\n"
     ]
    },
    {
     "name": "stderr",
     "output_type": "stream",
     "text": [
      "2024-08-19T00:40:15Z - INFO - Processing file: /storage/emulated/0/PortfolioTracker/DATA/BRONZE/StockData/2022/06/TATACHEM.csv\n"
     ]
    },
    {
     "name": "stderr",
     "output_type": "stream",
     "text": [
      "2024-08-19T00:40:15Z - INFO - Processing file: /storage/emulated/0/PortfolioTracker/DATA/BRONZE/StockData/2022/06/TATAMOTORS.csv\n"
     ]
    },
    {
     "name": "stderr",
     "output_type": "stream",
     "text": [
      "2024-08-19T00:40:15Z - INFO - Processing file: /storage/emulated/0/PortfolioTracker/DATA/BRONZE/StockData/2022/06/TATAPOWER.csv\n"
     ]
    },
    {
     "name": "stderr",
     "output_type": "stream",
     "text": [
      "2024-08-19T00:40:15Z - INFO - Processing file: /storage/emulated/0/PortfolioTracker/DATA/BRONZE/StockData/2022/06/VOLTAS.csv\n"
     ]
    },
    {
     "name": "stderr",
     "output_type": "stream",
     "text": [
      "2024-08-19T00:40:15Z - INFO - Processing file: /storage/emulated/0/PortfolioTracker/DATA/BRONZE/StockData/2022/07/BPCL.csv\n"
     ]
    },
    {
     "name": "stderr",
     "output_type": "stream",
     "text": [
      "2024-08-19T00:40:15Z - INFO - Processing file: /storage/emulated/0/PortfolioTracker/DATA/BRONZE/StockData/2022/07/LICI.csv\n"
     ]
    },
    {
     "name": "stderr",
     "output_type": "stream",
     "text": [
      "2024-08-19T00:40:15Z - INFO - Processing file: /storage/emulated/0/PortfolioTracker/DATA/BRONZE/StockData/2022/07/TATACHEM.csv\n"
     ]
    },
    {
     "name": "stderr",
     "output_type": "stream",
     "text": [
      "2024-08-19T00:40:15Z - INFO - Processing file: /storage/emulated/0/PortfolioTracker/DATA/BRONZE/StockData/2022/07/TATAMOTORS.csv\n"
     ]
    },
    {
     "name": "stderr",
     "output_type": "stream",
     "text": [
      "2024-08-19T00:40:15Z - INFO - Processing file: /storage/emulated/0/PortfolioTracker/DATA/BRONZE/StockData/2022/07/TATAPOWER.csv\n"
     ]
    },
    {
     "name": "stderr",
     "output_type": "stream",
     "text": [
      "2024-08-19T00:40:15Z - INFO - Processing file: /storage/emulated/0/PortfolioTracker/DATA/BRONZE/StockData/2022/07/VOLTAS.csv\n"
     ]
    },
    {
     "name": "stderr",
     "output_type": "stream",
     "text": [
      "2024-08-19T00:40:15Z - INFO - Processing file: /storage/emulated/0/PortfolioTracker/DATA/BRONZE/StockData/2022/08/BPCL.csv\n"
     ]
    },
    {
     "name": "stderr",
     "output_type": "stream",
     "text": [
      "2024-08-19T00:40:15Z - INFO - Processing file: /storage/emulated/0/PortfolioTracker/DATA/BRONZE/StockData/2022/08/LICI.csv\n"
     ]
    },
    {
     "name": "stderr",
     "output_type": "stream",
     "text": [
      "2024-08-19T00:40:15Z - INFO - Processing file: /storage/emulated/0/PortfolioTracker/DATA/BRONZE/StockData/2022/08/TATACHEM.csv\n"
     ]
    },
    {
     "name": "stderr",
     "output_type": "stream",
     "text": [
      "2024-08-19T00:40:15Z - INFO - Processing file: /storage/emulated/0/PortfolioTracker/DATA/BRONZE/StockData/2022/08/TATAMOTORS.csv\n"
     ]
    },
    {
     "name": "stderr",
     "output_type": "stream",
     "text": [
      "2024-08-19T00:40:15Z - INFO - Processing file: /storage/emulated/0/PortfolioTracker/DATA/BRONZE/StockData/2022/08/TATAPOWER.csv\n"
     ]
    },
    {
     "name": "stderr",
     "output_type": "stream",
     "text": [
      "2024-08-19T00:40:15Z - INFO - Processing file: /storage/emulated/0/PortfolioTracker/DATA/BRONZE/StockData/2022/08/VOLTAS.csv\n"
     ]
    },
    {
     "name": "stderr",
     "output_type": "stream",
     "text": [
      "2024-08-19T00:40:15Z - INFO - Processing file: /storage/emulated/0/PortfolioTracker/DATA/BRONZE/StockData/2022/09/TATAMOTORS.csv\n"
     ]
    },
    {
     "name": "stderr",
     "output_type": "stream",
     "text": [
      "2024-08-19T00:40:15Z - INFO - Processing file: /storage/emulated/0/PortfolioTracker/DATA/BRONZE/StockData/2022/09/TATAPOWER.csv\n"
     ]
    },
    {
     "name": "stderr",
     "output_type": "stream",
     "text": [
      "2024-08-19T00:40:15Z - INFO - Processing file: /storage/emulated/0/PortfolioTracker/DATA/BRONZE/StockData/2022/10/TATAMOTORS.csv\n"
     ]
    },
    {
     "name": "stderr",
     "output_type": "stream",
     "text": [
      "2024-08-19T00:40:15Z - INFO - Processing file: /storage/emulated/0/PortfolioTracker/DATA/BRONZE/StockData/2022/10/TATAPOWER.csv\n"
     ]
    },
    {
     "name": "stderr",
     "output_type": "stream",
     "text": [
      "2024-08-19T00:40:15Z - INFO - Processing file: /storage/emulated/0/PortfolioTracker/DATA/BRONZE/StockData/2022/11/TATAMOTORS.csv\n"
     ]
    },
    {
     "name": "stderr",
     "output_type": "stream",
     "text": [
      "2024-08-19T00:40:15Z - INFO - Processing file: /storage/emulated/0/PortfolioTracker/DATA/BRONZE/StockData/2022/11/TATAPOWER.csv\n"
     ]
    },
    {
     "name": "stderr",
     "output_type": "stream",
     "text": [
      "2024-08-19T00:40:15Z - INFO - Processing file: /storage/emulated/0/PortfolioTracker/DATA/BRONZE/StockData/2022/12/TATAMOTORS.csv\n"
     ]
    },
    {
     "name": "stderr",
     "output_type": "stream",
     "text": [
      "2024-08-19T00:40:16Z - INFO - Processing file: /storage/emulated/0/PortfolioTracker/DATA/BRONZE/StockData/2022/12/TATAPOWER.csv\n"
     ]
    },
    {
     "name": "stderr",
     "output_type": "stream",
     "text": [
      "2024-08-19T00:40:16Z - INFO - Processing file: /storage/emulated/0/PortfolioTracker/DATA/BRONZE/StockData/2023/01/TATAMOTORS.csv\n"
     ]
    },
    {
     "name": "stderr",
     "output_type": "stream",
     "text": [
      "2024-08-19T00:40:16Z - INFO - Processing file: /storage/emulated/0/PortfolioTracker/DATA/BRONZE/StockData/2023/01/TATAPOWER.csv\n"
     ]
    },
    {
     "name": "stderr",
     "output_type": "stream",
     "text": [
      "2024-08-19T00:40:16Z - INFO - Processing file: /storage/emulated/0/PortfolioTracker/DATA/BRONZE/StockData/2023/02/TATAMOTORS.csv\n"
     ]
    },
    {
     "name": "stderr",
     "output_type": "stream",
     "text": [
      "2024-08-19T00:40:16Z - INFO - Processing file: /storage/emulated/0/PortfolioTracker/DATA/BRONZE/StockData/2023/02/TATAPOWER.csv\n"
     ]
    },
    {
     "name": "stderr",
     "output_type": "stream",
     "text": [
      "2024-08-19T00:40:16Z - INFO - Processing file: /storage/emulated/0/PortfolioTracker/DATA/BRONZE/StockData/2023/03/TATAMOTORS.csv\n"
     ]
    },
    {
     "name": "stderr",
     "output_type": "stream",
     "text": [
      "2024-08-19T00:40:16Z - INFO - Processing file: /storage/emulated/0/PortfolioTracker/DATA/BRONZE/StockData/2023/03/TATAPOWER.csv\n"
     ]
    },
    {
     "name": "stderr",
     "output_type": "stream",
     "text": [
      "2024-08-19T00:40:16Z - INFO - Processing file: /storage/emulated/0/PortfolioTracker/DATA/BRONZE/StockData/2023/04/TATAMOTORS.csv\n"
     ]
    },
    {
     "name": "stderr",
     "output_type": "stream",
     "text": [
      "2024-08-19T00:40:16Z - INFO - Processing file: /storage/emulated/0/PortfolioTracker/DATA/BRONZE/StockData/2023/04/TATAPOWER.csv\n"
     ]
    },
    {
     "name": "stderr",
     "output_type": "stream",
     "text": [
      "2024-08-19T00:40:16Z - INFO - Processing file: /storage/emulated/0/PortfolioTracker/DATA/BRONZE/StockData/2023/05/TATAMOTORS.csv\n"
     ]
    },
    {
     "name": "stderr",
     "output_type": "stream",
     "text": [
      "2024-08-19T00:40:16Z - INFO - Processing file: /storage/emulated/0/PortfolioTracker/DATA/BRONZE/StockData/2023/05/TATAPOWER.csv\n"
     ]
    },
    {
     "name": "stderr",
     "output_type": "stream",
     "text": [
      "2024-08-19T00:40:16Z - INFO - Processing file: /storage/emulated/0/PortfolioTracker/DATA/BRONZE/StockData/2023/06/TATAMOTORS.csv\n"
     ]
    },
    {
     "name": "stderr",
     "output_type": "stream",
     "text": [
      "2024-08-19T00:40:16Z - INFO - Processing file: /storage/emulated/0/PortfolioTracker/DATA/BRONZE/StockData/2023/06/TATAPOWER.csv\n"
     ]
    },
    {
     "name": "stderr",
     "output_type": "stream",
     "text": [
      "2024-08-19T00:40:16Z - INFO - Processing file: /storage/emulated/0/PortfolioTracker/DATA/BRONZE/StockData/2023/07/TATAMOTORS.csv\n"
     ]
    },
    {
     "name": "stderr",
     "output_type": "stream",
     "text": [
      "2024-08-19T00:40:16Z - INFO - Processing file: /storage/emulated/0/PortfolioTracker/DATA/BRONZE/StockData/2023/07/TATAPOWER.csv\n"
     ]
    },
    {
     "name": "stderr",
     "output_type": "stream",
     "text": [
      "2024-08-19T00:40:16Z - INFO - Processing file: /storage/emulated/0/PortfolioTracker/DATA/BRONZE/StockData/2023/08/TATAMOTORS.csv\n"
     ]
    },
    {
     "name": "stderr",
     "output_type": "stream",
     "text": [
      "2024-08-19T00:40:16Z - INFO - Processing file: /storage/emulated/0/PortfolioTracker/DATA/BRONZE/StockData/2023/08/TATAPOWER.csv\n"
     ]
    },
    {
     "name": "stderr",
     "output_type": "stream",
     "text": [
      "2024-08-19T00:40:16Z - INFO - Processing file: /storage/emulated/0/PortfolioTracker/DATA/BRONZE/StockData/2023/09/TATAMOTORS.csv\n"
     ]
    },
    {
     "name": "stderr",
     "output_type": "stream",
     "text": [
      "2024-08-19T00:40:16Z - INFO - Processing file: /storage/emulated/0/PortfolioTracker/DATA/BRONZE/StockData/2023/09/TATAPOWER.csv\n"
     ]
    },
    {
     "name": "stderr",
     "output_type": "stream",
     "text": [
      "2024-08-19T00:40:16Z - INFO - Processing file: /storage/emulated/0/PortfolioTracker/DATA/BRONZE/StockData/2023/10/TATAMOTORS.csv\n"
     ]
    },
    {
     "name": "stderr",
     "output_type": "stream",
     "text": [
      "2024-08-19T00:40:16Z - INFO - Processing file: /storage/emulated/0/PortfolioTracker/DATA/BRONZE/StockData/2023/10/TATAPOWER.csv\n"
     ]
    },
    {
     "name": "stderr",
     "output_type": "stream",
     "text": [
      "2024-08-19T00:40:16Z - INFO - Processing file: /storage/emulated/0/PortfolioTracker/DATA/BRONZE/StockData/2023/11/TATAMOTORS.csv\n"
     ]
    },
    {
     "name": "stderr",
     "output_type": "stream",
     "text": [
      "2024-08-19T00:40:16Z - INFO - Processing file: /storage/emulated/0/PortfolioTracker/DATA/BRONZE/StockData/2023/11/TATAPOWER.csv\n"
     ]
    },
    {
     "name": "stderr",
     "output_type": "stream",
     "text": [
      "2024-08-19T00:40:16Z - INFO - Processing file: /storage/emulated/0/PortfolioTracker/DATA/BRONZE/StockData/2023/12/TATAMOTORS.csv\n"
     ]
    },
    {
     "name": "stderr",
     "output_type": "stream",
     "text": [
      "2024-08-19T00:40:16Z - INFO - Processing file: /storage/emulated/0/PortfolioTracker/DATA/BRONZE/StockData/2023/12/TATAPOWER.csv\n"
     ]
    },
    {
     "name": "stderr",
     "output_type": "stream",
     "text": [
      "2024-08-19T00:40:16Z - INFO - Processing file: /storage/emulated/0/PortfolioTracker/DATA/BRONZE/StockData/2024/01/TATAMOTORS.csv\n"
     ]
    },
    {
     "name": "stderr",
     "output_type": "stream",
     "text": [
      "2024-08-19T00:40:16Z - INFO - Processing file: /storage/emulated/0/PortfolioTracker/DATA/BRONZE/StockData/2024/01/TATAPOWER.csv\n"
     ]
    },
    {
     "name": "stderr",
     "output_type": "stream",
     "text": [
      "2024-08-19T00:40:16Z - INFO - Processing file: /storage/emulated/0/PortfolioTracker/DATA/BRONZE/StockData/2024/02/TATAMOTORS.csv\n"
     ]
    },
    {
     "name": "stderr",
     "output_type": "stream",
     "text": [
      "2024-08-19T00:40:16Z - INFO - Processing file: /storage/emulated/0/PortfolioTracker/DATA/BRONZE/StockData/2024/02/TATAPOWER.csv\n"
     ]
    },
    {
     "name": "stderr",
     "output_type": "stream",
     "text": [
      "2024-08-19T00:40:16Z - INFO - Processing file: /storage/emulated/0/PortfolioTracker/DATA/BRONZE/StockData/2024/03/TATAMOTORS.csv\n"
     ]
    },
    {
     "name": "stderr",
     "output_type": "stream",
     "text": [
      "2024-08-19T00:40:16Z - INFO - Processing file: /storage/emulated/0/PortfolioTracker/DATA/BRONZE/StockData/2024/03/TATAPOWER.csv\n"
     ]
    },
    {
     "name": "stderr",
     "output_type": "stream",
     "text": [
      "2024-08-19T00:40:16Z - INFO - Processing file: /storage/emulated/0/PortfolioTracker/DATA/BRONZE/StockData/2024/04/TATAMOTORS.csv\n"
     ]
    },
    {
     "name": "stderr",
     "output_type": "stream",
     "text": [
      "2024-08-19T00:40:16Z - INFO - Processing file: /storage/emulated/0/PortfolioTracker/DATA/BRONZE/StockData/2024/04/TATAPOWER.csv\n"
     ]
    },
    {
     "name": "stderr",
     "output_type": "stream",
     "text": [
      "2024-08-19T00:40:16Z - INFO - Processing file: /storage/emulated/0/PortfolioTracker/DATA/BRONZE/StockData/2024/05/MIRAE-ASSET-ELSS-TAX-SAVER-FUND-DIRECT-GROWTH.csv\n"
     ]
    },
    {
     "name": "stderr",
     "output_type": "stream",
     "text": [
      "2024-08-19T00:40:16Z - INFO - Processing file: /storage/emulated/0/PortfolioTracker/DATA/BRONZE/StockData/2024/05/SBI-LONG-TERM-EQUITY-FUND-DIRECT-PLAN-GROWTH.csv\n"
     ]
    },
    {
     "name": "stderr",
     "output_type": "stream",
     "text": [
      "2024-08-19T00:40:16Z - INFO - Processing file: /storage/emulated/0/PortfolioTracker/DATA/BRONZE/StockData/2024/05/TATAMOTORS.csv\n"
     ]
    },
    {
     "name": "stderr",
     "output_type": "stream",
     "text": [
      "2024-08-19T00:40:16Z - INFO - Processing file: /storage/emulated/0/PortfolioTracker/DATA/BRONZE/StockData/2024/05/TATAPOWER.csv\n"
     ]
    },
    {
     "name": "stderr",
     "output_type": "stream",
     "text": [
      "2024-08-19T00:40:16Z - INFO - Processing file: /storage/emulated/0/PortfolioTracker/DATA/BRONZE/StockData/2024/06/IRCTC.csv\n"
     ]
    },
    {
     "name": "stderr",
     "output_type": "stream",
     "text": [
      "2024-08-19T00:40:16Z - INFO - Processing file: /storage/emulated/0/PortfolioTracker/DATA/BRONZE/StockData/2024/06/KPITTECH.csv\n"
     ]
    },
    {
     "name": "stderr",
     "output_type": "stream",
     "text": [
      "2024-08-19T00:40:16Z - INFO - Processing file: /storage/emulated/0/PortfolioTracker/DATA/BRONZE/StockData/2024/06/MIRAE-ASSET-ELSS-TAX-SAVER-FUND-DIRECT-GROWTH.csv\n"
     ]
    },
    {
     "name": "stderr",
     "output_type": "stream",
     "text": [
      "2024-08-19T00:40:16Z - INFO - Processing file: /storage/emulated/0/PortfolioTracker/DATA/BRONZE/StockData/2024/06/SBI-LONG-TERM-EQUITY-FUND-DIRECT-PLAN-GROWTH.csv\n"
     ]
    },
    {
     "name": "stderr",
     "output_type": "stream",
     "text": [
      "2024-08-19T00:40:16Z - INFO - Processing file: /storage/emulated/0/PortfolioTracker/DATA/BRONZE/StockData/2024/06/TATAMOTORS.csv\n"
     ]
    },
    {
     "name": "stderr",
     "output_type": "stream",
     "text": [
      "2024-08-19T00:40:16Z - INFO - Processing file: /storage/emulated/0/PortfolioTracker/DATA/BRONZE/StockData/2024/06/TATAPOWER.csv\n"
     ]
    },
    {
     "name": "stderr",
     "output_type": "stream",
     "text": [
      "2024-08-19T00:40:16Z - INFO - Processing file: /storage/emulated/0/PortfolioTracker/DATA/BRONZE/StockData/2024/07/IRCTC.csv\n"
     ]
    },
    {
     "name": "stderr",
     "output_type": "stream",
     "text": [
      "2024-08-19T00:40:16Z - INFO - Processing file: /storage/emulated/0/PortfolioTracker/DATA/BRONZE/StockData/2024/07/KPITTECH.csv\n"
     ]
    },
    {
     "name": "stderr",
     "output_type": "stream",
     "text": [
      "2024-08-19T00:40:16Z - INFO - Processing file: /storage/emulated/0/PortfolioTracker/DATA/BRONZE/StockData/2024/07/MIRAE-ASSET-ELSS-TAX-SAVER-FUND-DIRECT-GROWTH.csv\n"
     ]
    },
    {
     "name": "stderr",
     "output_type": "stream",
     "text": [
      "2024-08-19T00:40:16Z - INFO - Processing file: /storage/emulated/0/PortfolioTracker/DATA/BRONZE/StockData/2024/07/SBI-LONG-TERM-EQUITY-FUND-DIRECT-PLAN-GROWTH.csv\n"
     ]
    },
    {
     "name": "stderr",
     "output_type": "stream",
     "text": [
      "2024-08-19T00:40:16Z - INFO - Processing file: /storage/emulated/0/PortfolioTracker/DATA/BRONZE/StockData/2024/07/TATAMOTORS.csv\n"
     ]
    },
    {
     "name": "stderr",
     "output_type": "stream",
     "text": [
      "2024-08-19T00:40:16Z - INFO - Processing file: /storage/emulated/0/PortfolioTracker/DATA/BRONZE/StockData/2024/07/TATAPOWER.csv\n"
     ]
    },
    {
     "name": "stderr",
     "output_type": "stream",
     "text": [
      "2024-08-19T00:40:16Z - INFO - Processing file: /storage/emulated/0/PortfolioTracker/DATA/BRONZE/StockData/2024/08/IRCTC.csv\n"
     ]
    },
    {
     "name": "stderr",
     "output_type": "stream",
     "text": [
      "2024-08-19T00:40:16Z - INFO - Processing file: /storage/emulated/0/PortfolioTracker/DATA/BRONZE/StockData/2024/08/KPITTECH.csv\n"
     ]
    },
    {
     "name": "stderr",
     "output_type": "stream",
     "text": [
      "2024-08-19T00:40:16Z - INFO - Processing file: /storage/emulated/0/PortfolioTracker/DATA/BRONZE/StockData/2024/08/MIRAE-ASSET-ELSS-TAX-SAVER-FUND-DIRECT-GROWTH.csv\n"
     ]
    },
    {
     "name": "stderr",
     "output_type": "stream",
     "text": [
      "2024-08-19T00:40:16Z - INFO - Processing file: /storage/emulated/0/PortfolioTracker/DATA/BRONZE/StockData/2024/08/SBI-LONG-TERM-EQUITY-FUND-DIRECT-PLAN-GROWTH.csv\n"
     ]
    },
    {
     "name": "stderr",
     "output_type": "stream",
     "text": [
      "2024-08-19T00:40:16Z - INFO - Processing file: /storage/emulated/0/PortfolioTracker/DATA/BRONZE/StockData/2024/08/TATAMOTORS.csv\n"
     ]
    },
    {
     "name": "stderr",
     "output_type": "stream",
     "text": [
      "2024-08-19T00:40:16Z - INFO - Processing file: /storage/emulated/0/PortfolioTracker/DATA/BRONZE/StockData/2024/08/TATAPOWER.csv\n"
     ]
    }
   ],
   "source": [
    "# Initialize an empty list to store DataFrames\n",
    "df_stock_events_list = []\n",
    "\n",
    "# Generate file paths for available CSV files in the Bronze layer\n",
    "file_paths = check_files_availability(\n",
    "    global_path.stockdata_bronze_layer_path, file_pattern=\"*.csv\"\n",
    ")\n",
    "\n",
    "# Process each CSV file found in the Bronze layer\n",
    "for file_path in file_paths:\n",
    "    logger.info(f\"Processing file: {file_path}\")\n",
    "\n",
    "    # Read the CSV file into a DataFrame\n",
    "    df = pd.read_csv(file_path)\n",
    "\n",
    "    # Extract stock name from file path and add it as a column\n",
    "    df[\"stock_name\"] = file_path.name.split(\".\")[0].upper().strip()\n",
    "\n",
    "    # Append the DataFrame to the list\n",
    "    df_stock_events_list.append(df)\n",
    "\n",
    "# Concatenate all DataFrames into a single DataFrame\n",
    "df = pd.concat(df_stock_events_list, ignore_index=True)\n",
    "\n",
    "# Harmonize column names to ensure consistency\n",
    "df = replace_punctuation_from_columns(df)\n",
    "\n",
    "# Remove columns that contain only NA values\n",
    "df.dropna(how=\"all\", axis=1, inplace=True)"
   ]
  },
  {
   "cell_type": "code",
   "execution_count": 3,
   "metadata": {
    "execution": {
     "iopub.execute_input": "2024-08-18T19:10:16.770404Z",
     "iopub.status.busy": "2024-08-18T19:10:16.769528Z",
     "iopub.status.idle": "2024-08-18T19:10:16.916496Z",
     "shell.execute_reply": "2024-08-18T19:10:16.912883Z"
    }
   },
   "outputs": [
    {
     "name": "stderr",
     "output_type": "stream",
     "text": [
      "2024-08-19T00:40:16Z - INFO - SILVER Layer CSV file for Stock Events history successfully created at:\n"
     ]
    },
    {
     "name": "stderr",
     "output_type": "stream",
     "text": [
      "2024-08-19T00:40:16Z - INFO - /storage/emulated/0/PortfolioTracker/DATA/SILVER/StockEvents/StockEvents_data.csv\n"
     ]
    },
    {
     "name": "stdout",
     "output_type": "stream",
     "text": [
      "<class 'pandas.core.frame.DataFrame'>\n",
      "Index: 17 entries, 1650 to 2704\n",
      "Data columns (total 4 columns):\n",
      " #   Column      Non-Null Count  Dtype  \n",
      "---  ------      --------------  -----  \n",
      " 0   date        17 non-null     object \n",
      " 1   stock_name  17 non-null     object \n",
      " 2   event       17 non-null     object \n",
      " 3   value       17 non-null     float64\n",
      "dtypes: float64(1), object(3)\n",
      "memory usage: 680.0+ bytes\n"
     ]
    }
   ],
   "source": [
    "# Convert datetime strings to date objects for consistency\n",
    "df[\"date\"] = pd.to_datetime(df[\"date\"]).dt.date\n",
    "\n",
    "# Pivot the DataFrame: columns become rows\n",
    "df = df.melt(\n",
    "    id_vars=[\"date\", \"stock_name\"],\n",
    "    value_vars=[\"dividends\", \"stock_splits\", \"capital_gains\"],\n",
    "    var_name=\"event\",\n",
    "    value_name=\"value\",\n",
    ")\n",
    "\n",
    "# Convert event names to uppercase for uniformity\n",
    "df[\"event\"] = df[\"event\"].str.upper()\n",
    "\n",
    "# Round numerical values to 2 decimal places\n",
    "df[\"value\"] = df[\"value\"].fillna(0)\n",
    "df[\"value\"] = df[\"value\"].round(2)\n",
    "\n",
    "# Filter out rows where the value is zero or less than a threshold\n",
    "df = df[df[\"value\"] > 0]\n",
    "\n",
    "# Sort the DataFrame by stock name, date, and event for easier analysis\n",
    "df = df.sort_values(by=[\"stock_name\", \"date\", \"event\"])\n",
    "\n",
    "# Select relevant columns to export\n",
    "df = df[[\"date\", \"stock_name\", \"event\", \"value\"]]\n",
    "\n",
    "# Save the cleaned and transformed DataFrame as a CSV file in the Silver layer\n",
    "df.to_csv(global_path.stockevents_silver_file_path, index=False)\n",
    "logger.info(\n",
    "    \"SILVER Layer CSV file for Stock Events history successfully created at:\"\n",
    ")\n",
    "logger.info(global_path.stockevents_silver_file_path.resolve())\n",
    "\n",
    "# Log the DataFrame info for verification\n",
    "df.info()"
   ]
  }
 ],
 "metadata": {
  "kernelspec": {
   "display_name": "Python 3",
   "language": "python",
   "name": "python3"
  },
  "language_info": {
   "codemirror_mode": {
    "name": "ipython",
    "version": 3
   },
   "file_extension": ".py",
   "mimetype": "text/x-python",
   "name": "python",
   "nbconvert_exporter": "python",
   "pygments_lexer": "ipython3",
   "version": "3.11.6"
  }
 },
 "nbformat": 4,
 "nbformat_minor": 2
}
