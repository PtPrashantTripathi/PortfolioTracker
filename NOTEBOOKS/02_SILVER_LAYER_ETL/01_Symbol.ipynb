{
 "cells": [
  {
   "cell_type": "markdown",
   "metadata": {},
   "source": [
    "## BRONZE TO SILVER LAYER\n",
    "\n",
    "### Bronze Layer - ScripCode"
   ]
  },
  {
   "cell_type": "code",
   "execution_count": 21,
   "metadata": {
    "execution": {
     "iopub.execute_input": "2024-08-20T12:25:51.071532Z",
     "iopub.status.busy": "2024-08-20T12:25:51.071532Z",
     "iopub.status.idle": "2024-08-20T12:25:51.473662Z",
     "shell.execute_reply": "2024-08-20T12:25:51.473662Z"
    }
   },
   "outputs": [],
   "source": [
    "# Import necessary libraries and utility functions\n",
    "from pathlib import Path\n",
    "\n",
    "import pandas as pd\n",
    "\n",
    "from PortfolioTracker.globalpath import GlobalPath\n",
    "from PortfolioTracker.utilities import (\n",
    "    check_files_availability,\n",
    "    replace_punctuation_from_columns,\n",
    ")"
   ]
  },
  {
   "cell_type": "code",
   "execution_count": 22,
   "metadata": {
    "execution": {
     "iopub.execute_input": "2024-08-20T12:25:51.475313Z",
     "iopub.status.busy": "2024-08-20T12:25:51.475313Z",
     "iopub.status.idle": "2024-08-20T12:25:51.480626Z",
     "shell.execute_reply": "2024-08-20T12:25:51.480626Z"
    }
   },
   "outputs": [],
   "source": [
    "# Instantiate GlobalPath\n",
    "global_path = GlobalPath(\"PortfolioTracker\")\n",
    "# GLOBAL PATH\n",
    "symbol_bronze_layer_path = global_path.joinpath(\"DATA/BRONZE/Symbol\")\n",
    "symbol_silver_file_path = global_path.joinpath(\n",
    "    \"DATA/SILVER/Symbol/Symbol_data.csv\"\n",
    ")"
   ]
  },
  {
   "cell_type": "code",
   "execution_count": 23,
   "metadata": {
    "execution": {
     "iopub.execute_input": "2024-08-20T12:25:51.480626Z",
     "iopub.status.busy": "2024-08-20T12:25:51.480626Z",
     "iopub.status.idle": "2024-08-20T12:25:51.485699Z",
     "shell.execute_reply": "2024-08-20T12:25:51.485699Z"
    }
   },
   "outputs": [],
   "source": [
    "# Define a function to read and process an csv file\n",
    "def read_file(file_path: Path) -> None:\n",
    "    \"\"\"\n",
    "    Processes CSV files from the Bronze layer and consolidates them into a single DataFrame.\n",
    "    The data is then harmonized and saved as a CSV file in the Silver layer.\n",
    "    \"\"\"\n",
    "    # Log the reading of the file\n",
    "    print(f\"Processing file: {file_path}\")\n",
    "\n",
    "    # Read each CSV file into a DataFrame\n",
    "    df = pd.read_csv(file_path)\n",
    "\n",
    "    # Harmonize the DataFrame by replacing punctuation from column names\n",
    "    df = replace_punctuation_from_columns(df)\n",
    "\n",
    "    # Drop columns where all elements are NaN\n",
    "    df.dropna(how=\"all\", axis=1, inplace=True)\n",
    "    return df"
   ]
  },
  {
   "cell_type": "markdown",
   "metadata": {},
   "source": [
    "### Process the Bronze layer CSV files to create a consolidated DataFrame"
   ]
  },
  {
   "cell_type": "code",
   "execution_count": 24,
   "metadata": {
    "execution": {
     "iopub.execute_input": "2024-08-20T12:25:51.485699Z",
     "iopub.status.busy": "2024-08-20T12:25:51.485699Z",
     "iopub.status.idle": "2024-08-20T12:25:51.524981Z",
     "shell.execute_reply": "2024-08-20T12:25:51.524981Z"
    }
   },
   "outputs": [
    {
     "name": "stdout",
     "output_type": "stream",
     "text": [
      "Number of Files Detected: 1\n",
      "Processing file: ..\\..\\DATA\\BRONZE\\Symbol\\Symbol_data.csv\n",
      "Successfully created SILVER Layer CSV file for Symbol at: ..\\..\\DATA\\SILVER\\Symbol\\Symbol_data.csv\n",
      "<class 'pandas.core.frame.DataFrame'>\n",
      "Index: 16909 entries, 16896 to 4213\n",
      "Data columns (total 6 columns):\n",
      " #   Column             Non-Null Count  Dtype \n",
      "---  ------             --------------  ----- \n",
      " 0   instrument_type    16909 non-null  object\n",
      " 1   isin_no            16909 non-null  object\n",
      " 2   symbol             4326 non-null   object\n",
      " 3   scrip_name         16909 non-null  object\n",
      " 4   scrip_code         4326 non-null   Int64 \n",
      " 5   isin_reinvestment  3449 non-null   object\n",
      "dtypes: Int64(1), object(5)\n",
      "memory usage: 941.2+ KB\n"
     ]
    }
   ],
   "source": [
    "# Initialize an empty list to store DataFrames\n",
    "df_symbol_list = []\n",
    "\n",
    "# Generate file paths for available Excel files in the source layer\n",
    "file_paths = check_files_availability(\n",
    "    symbol_bronze_layer_path, file_pattern=\"*.csv\"\n",
    ")\n",
    "\n",
    "# Loop through all CSV files in the bronze layer folder\n",
    "for file_path in file_paths:\n",
    "    try:\n",
    "        df = read_file(file_path)\n",
    "        # Append the DataFrame to the list\n",
    "        df_symbol_list.append(df)\n",
    "    except Exception as e:\n",
    "        # Log any exceptions during file reading\n",
    "        print(f\"Failed to read {file_path} due to error: {e}\")\n",
    "\n",
    "# Concatenate all DataFrames into one\n",
    "df = pd.concat(df_symbol_list, ignore_index=True)\n",
    "\n",
    "# Convert to integer, coercing errors to NaN\n",
    "df['scrip_code'] = pd.to_numeric(df['scrip_code'], errors='coerce').astype('Int64')  # Using 'Int64' to allow NaN values\n",
    "\n",
    "# Sort the DataFrame \n",
    "df = df.sort_values(by=[\"instrument_type\",\"scrip_name\"])\n",
    "\n",
    "# Save the result as a CSV file in the silver layer\n",
    "df.to_csv(symbol_silver_file_path, index=None)\n",
    "print(\n",
    "    f\"Successfully created SILVER Layer CSV file for Symbol at: {symbol_silver_file_path}\"\n",
    ")\n",
    "# Log the DataFrame debugrmation\n",
    "df.info()"
   ]
  }
 ],
 "metadata": {
  "kernelspec": {
   "display_name": "Python 3",
   "language": "python",
   "name": "python3"
  },
  "language_debug": {
   "codemirror_mode": {
    "name": "ipython",
    "version": 3
   },
   "file_extension": ".py",
   "mimetype": "text/x-python",
   "name": "python",
   "nbconvert_exporter": "python",
   "pygments_lexer": "ipython3",
   "version": "3.11.4"
  },
  "language_info": {
   "codemirror_mode": {
    "name": "ipython",
    "version": 3
   },
   "file_extension": ".py",
   "mimetype": "text/x-python",
   "name": "python",
   "nbconvert_exporter": "python",
   "pygments_lexer": "ipython3",
   "version": "3.11.4"
  }
 },
 "nbformat": 4,
 "nbformat_minor": 2
}
