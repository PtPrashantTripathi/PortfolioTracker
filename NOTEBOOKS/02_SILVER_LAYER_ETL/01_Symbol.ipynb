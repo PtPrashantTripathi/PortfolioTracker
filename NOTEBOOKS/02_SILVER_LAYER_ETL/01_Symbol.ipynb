{
 "cells": [
  {
   "cell_type": "markdown",
   "metadata": {},
   "source": [
    "## BRONZE TO SILVER LAYER\n",
    "\n",
    "### Bronze Layer - ScripCode\n"
   ]
  },
  {
   "cell_type": "code",
   "execution_count": 1,
   "metadata": {
    "execution": {
     "iopub.execute_input": "2024-09-24T11:32:03.900881Z",
     "iopub.status.busy": "2024-09-24T11:32:03.900881Z",
     "iopub.status.idle": "2024-09-24T11:32:04.277253Z",
     "shell.execute_reply": "2024-09-24T11:32:04.277253Z"
    }
   },
   "outputs": [],
   "source": [
    "# Importing Common Utility Funcation\n",
    "\n",
    "import pandas as pd\n",
    "from ETLTools import GlobalPath"
   ]
  },
  {
   "cell_type": "code",
   "execution_count": 2,
   "metadata": {
    "execution": {
     "iopub.execute_input": "2024-09-24T11:32:04.280289Z",
     "iopub.status.busy": "2024-09-24T11:32:04.279281Z",
     "iopub.status.idle": "2024-09-24T11:32:04.457730Z",
     "shell.execute_reply": "2024-09-24T11:32:04.457730Z"
    }
   },
   "outputs": [],
   "source": [
    "# Import necessary libraries and utility functions\n",
    "%run ../COMMON/common_utility.ipynb"
   ]
  },
  {
   "cell_type": "code",
   "execution_count": 3,
   "metadata": {
    "execution": {
     "iopub.execute_input": "2024-09-24T11:32:04.460820Z",
     "iopub.status.busy": "2024-09-24T11:32:04.459763Z",
     "iopub.status.idle": "2024-09-24T11:32:04.465374Z",
     "shell.execute_reply": "2024-09-24T11:32:04.465374Z"
    }
   },
   "outputs": [],
   "source": [
    "# Instantiate GlobalPath\n",
    "symbol_bronze_layer_path = GlobalPath(\"DATA/BRONZE/Symbol\")\n",
    "symbol_silver_file_path = GlobalPath(\"DATA/SILVER/Symbol/Symbol_data.csv\")"
   ]
  },
  {
   "cell_type": "code",
   "execution_count": 4,
   "metadata": {
    "execution": {
     "iopub.execute_input": "2024-09-24T11:32:04.468425Z",
     "iopub.status.busy": "2024-09-24T11:32:04.468425Z",
     "iopub.status.idle": "2024-09-24T11:32:04.473408Z",
     "shell.execute_reply": "2024-09-24T11:32:04.473408Z"
    }
   },
   "outputs": [],
   "source": [
    "# Define a function to read and process an csv file\n",
    "\n",
    "\n",
    "def read_file(file_path: GlobalPath) -> None:\n",
    "    \"\"\"\n",
    "    Processes CSV files from the Bronze layer and consolidates them into a single DataFrame.\n",
    "    The data is then harmonized and saved as a CSV file in the Silver layer.\n",
    "    \"\"\"\n",
    "    # Log the reading of the file\n",
    "    print(f\"Processing file: {file_path}\")\n",
    "\n",
    "    # Read each CSV file into a DataFrame\n",
    "    df = pd.read_csv(file_path, dtype={\"scrip_code\": str})\n",
    "\n",
    "    # Harmonize the DataFrame by replacing punctuation from column names\n",
    "    df = replace_punctuation_from_columns(df)\n",
    "\n",
    "    # Drop rows where 'isin' is NaN or null\n",
    "    df = df.dropna(subset=[\"isin\"])\n",
    "\n",
    "    # Add the \"IN\" prefix to 'scrip_code' where 'instrument_type' is \"Equity\"\n",
    "    df.loc[df[\"instrument_type\"] == \"Equity\", \"scrip_code\"] = \"IN\" + df.loc[\n",
    "        df[\"instrument_type\"] == \"Equity\", \"scrip_code\"\n",
    "    ].astype(str)\n",
    "\n",
    "    # Assign 'isin' to 'scrip_code' where 'instrument_type' is \"Mutual Fund\"\n",
    "    df.loc[df[\"instrument_type\"] == \"Mutual Fund\", \"scrip_code\"] = df.loc[\n",
    "        df[\"instrument_type\"] == \"Mutual Fund\", \"isin\"\n",
    "    ]\n",
    "\n",
    "    # Apply modify_logic only where instrument_type is \"Mutual Fund\"\n",
    "    df.loc[df[\"instrument_type\"] == \"Mutual Fund\", \"symbol\"] = (\n",
    "        df.loc[df[\"instrument_type\"] == \"Mutual Fund\", \"scrip_name\"]\n",
    "        .apply(replace_punctuation_from_string)\n",
    "        .str.upper()\n",
    "    )\n",
    "\n",
    "    df[\"scrip_code\"] = df[\"scrip_code\"].astype(str).str.strip().str.upper()\n",
    "\n",
    "    # Drop columns where all elements are NaN\n",
    "    df.dropna(how=\"all\", axis=1, inplace=True)\n",
    "    return df"
   ]
  },
  {
   "cell_type": "markdown",
   "metadata": {},
   "source": [
    "### Process the Bronze layer CSV files to create a consolidated DataFrame\n"
   ]
  },
  {
   "cell_type": "code",
   "execution_count": 5,
   "metadata": {
    "execution": {
     "iopub.execute_input": "2024-09-24T11:32:04.476622Z",
     "iopub.status.busy": "2024-09-24T11:32:04.475438Z",
     "iopub.status.idle": "2024-09-24T11:32:04.712183Z",
     "shell.execute_reply": "2024-09-24T11:32:04.712183Z"
    }
   },
   "outputs": [
    {
     "name": "stdout",
     "output_type": "stream",
     "text": [
      "Number of Files Detected: 1\n",
      "Processing file: D:\\Study_Material\\Anudip_foundation\\Main_Projects\\PortfolioTracker\\DATA\\BRONZE\\Symbol\\Symbol_data.csv\n"
     ]
    },
    {
     "name": "stdout",
     "output_type": "stream",
     "text": [
      "Successfully created SILVER Layer CSV file for Symbol at: D:\\Study_Material\\Anudip_foundation\\Main_Projects\\PortfolioTracker\\DATA\\SILVER\\Symbol\\Symbol_data.csv\n",
      "<class 'pandas.core.frame.DataFrame'>\n",
      "Index: 16919 entries, 15218 to 4213\n",
      "Data columns (total 5 columns):\n",
      " #   Column           Non-Null Count  Dtype \n",
      "---  ------           --------------  ----- \n",
      " 0   instrument_type  16919 non-null  object\n",
      " 1   isin             16919 non-null  object\n",
      " 2   symbol           16919 non-null  object\n",
      " 3   scrip_name       16919 non-null  object\n",
      " 4   scrip_code       16919 non-null  object\n",
      "dtypes: object(5)\n",
      "memory usage: 793.1+ KB\n"
     ]
    }
   ],
   "source": [
    "# Initialize an empty list to store DataFrames\n",
    "df_symbol_list = []\n",
    "\n",
    "# Generate file paths for available Excel files in the source layer\n",
    "file_paths = check_files_availability(\n",
    "    symbol_bronze_layer_path, file_pattern=\"*.csv\"\n",
    ")\n",
    "\n",
    "# Loop through all CSV files in the bronze layer folder\n",
    "for file_path in file_paths:\n",
    "    try:\n",
    "        df = read_file(file_path)\n",
    "        # Append the DataFrame to the list\n",
    "        df_symbol_list.append(df)\n",
    "    except Exception as e:\n",
    "        # Log any exceptions during file reading\n",
    "        print(f\"Failed to read {file_path} due to error: {e}\")\n",
    "\n",
    "# Concatenate all DataFrames into one\n",
    "df = pd.concat(df_symbol_list, ignore_index=True)\n",
    "\n",
    "df = df[[\"instrument_type\", \"isin\", \"symbol\", \"scrip_name\", \"scrip_code\"]]\n",
    "\n",
    "# Sort the DataFrame\n",
    "df = df.sort_values(by=[\"instrument_type\", \"scrip_name\"])\n",
    "\n",
    "# Save the result as a CSV file in the silver layer\n",
    "df.to_csv(symbol_silver_file_path, index=None)\n",
    "print(\n",
    "    f\"Successfully created SILVER Layer CSV file for Symbol at: {symbol_silver_file_path}\"\n",
    ")\n",
    "# Log the DataFrame debugrmation\n",
    "df.info()"
   ]
  },
  {
   "cell_type": "code",
   "execution_count": null,
   "metadata": {},
   "outputs": [],
   "source": []
  }
 ],
 "metadata": {
  "kernelspec": {
   "display_name": "Python 3",
   "language": "python",
   "name": "python3"
  },
  "language_debug": {
   "codemirror_mode": {
    "name": "ipython",
    "version": 3
   },
   "file_extension": ".py",
   "mimetype": "text/x-python",
   "name": "python",
   "nbconvert_exporter": "python",
   "pygments_lexer": "ipython3",
   "version": "3.11.4"
  },
  "language_info": {
   "codemirror_mode": {
    "name": "ipython",
    "version": 3
   },
   "file_extension": ".py",
   "mimetype": "text/x-python",
   "name": "python",
   "nbconvert_exporter": "python",
   "pygments_lexer": "ipython3",
   "version": "3.12.6"
  }
 },
 "nbformat": 4,
 "nbformat_minor": 2
}
