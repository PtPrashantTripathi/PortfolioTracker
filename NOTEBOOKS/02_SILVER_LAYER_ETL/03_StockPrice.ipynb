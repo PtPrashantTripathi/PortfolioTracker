{
 "cells": [
  {
   "cell_type": "markdown",
   "metadata": {},
   "source": [
    "## BRONZE TO SILVER LAYER\n",
    "\n",
    "### Silver Layer - Stock Price History\n"
   ]
  },
  {
   "cell_type": "code",
   "execution_count": null,
   "metadata": {},
   "outputs": [],
   "source": [
    "# Importing Common Utility Funcation\n",
    "\n",
    "import re\n",
    "\n",
    "import pandas as pd\n",
    "from PortfolioTracker import GlobalPath"
   ]
  },
  {
   "cell_type": "code",
   "execution_count": null,
   "metadata": {},
   "outputs": [],
   "source": [
    "# Import necessary libraries and utility functions\n",
    "%run ../COMMON/common_utility.ipynb"
   ]
  },
  {
   "cell_type": "code",
   "execution_count": null,
   "metadata": {},
   "outputs": [],
   "source": [
    "# Instantiate GlobalPath\n",
    "stockdata_bronze_layer_path = GlobalPath(\"DATA/BRONZE/StockData\")\n",
    "stockprice_silver_file_path = GlobalPath(\n",
    "    \"DATA/SILVER/StockPrice/StockPrice_data.csv\"\n",
    ")"
   ]
  },
  {
   "cell_type": "markdown",
   "metadata": {},
   "source": [
    "### Data Processing\n",
    "\n",
    "- Initialize an empty list to store DataFrames.\n",
    "- Read and concatenate data from multiple CSV files.\n"
   ]
  },
  {
   "cell_type": "code",
   "execution_count": null,
   "metadata": {},
   "outputs": [],
   "source": [
    "# Initialize an empty list to store individual stock price DataFrames\n",
    "df_stock_price_list = []\n",
    "\n",
    "# Generate file paths for available CSV files in the Bronze layer\n",
    "file_paths = check_files_availability(\n",
    "    stockdata_bronze_layer_path, file_pattern=\"*.csv\"\n",
    ")\n",
    "\n",
    "# Loop through the list of CSV files in the folder\n",
    "for file_path in file_paths:\n",
    "    print(f\"Processing file: {file_path}\")\n",
    "\n",
    "    # Read the CSV file into a DataFrame\n",
    "    df = pd.read_csv(file_path)\n",
    "\n",
    "    # Extract the stock symbol by removing the date pattern from the file name\n",
    "    df[\"symbol\"] = re.sub(r\"_\\d{4}_\\d{2}\\.csv\", \"\", file_path.name)\n",
    "\n",
    "    # Append the DataFrame to the list of DataFrames\n",
    "    df_stock_price_list.append(df)\n",
    "\n",
    "# Concatenate all individual DataFrames into one combined DataFrame\n",
    "df = pd.concat(df_stock_price_list, ignore_index=True)\n",
    "\n",
    "# Standardize column names by replacing punctuation\n",
    "df = replace_punctuation_from_columns(df)\n",
    "\n",
    "# Remove columns that contain only NA values\n",
    "df.dropna(how=\"all\", axis=1, inplace=True)"
   ]
  },
  {
   "cell_type": "markdown",
   "metadata": {},
   "source": [
    "### Final Processing and Export\n",
    "\n",
    "- Round numerical values to 2 decimal places.\n",
    "- Sort the DataFrame by stock name and date.\n",
    "- Save the processed data as a CSV file in the Silver layer.\n"
   ]
  },
  {
   "cell_type": "code",
   "execution_count": null,
   "metadata": {},
   "outputs": [],
   "source": [
    "# Convert datetime to date string\n",
    "df[\"date\"] = pd.to_datetime(df[\"date\"]).dt.date\n",
    "\n",
    "# Round numerical values to 2 decimal places\n",
    "df = df.round(2)\n",
    "\n",
    "# Sort the DataFrame by stock name and date\n",
    "df = df.sort_values(by=[\"symbol\", \"date\"])\n",
    "\n",
    "# Select relevant columns\n",
    "df = df[\n",
    "    [\n",
    "        \"date\",\n",
    "        \"symbol\",\n",
    "        \"open\",\n",
    "        \"high\",\n",
    "        \"low\",\n",
    "        \"close\",\n",
    "        \"volume\",\n",
    "    ]\n",
    "]\n",
    "\n",
    "# Save the result as a CSV file\n",
    "df.to_csv(stockprice_silver_file_path, index=None)\n",
    "print(\"SILVER Layer CSV file for Stock Price history successfully created at:\")\n",
    "print(stockprice_silver_file_path)\n",
    "# Log the DataFrame debug\n",
    "df.info()"
   ]
  }
 ],
 "metadata": {
  "kernelspec": {
   "display_name": "Python 3",
   "language": "python",
   "name": "python3"
  },
  "language_debug": {
   "codemirror_mode": {
    "name": "ipython",
    "version": 3
   },
   "file_extension": ".py",
   "mimetype": "text/x-python",
   "name": "python",
   "nbconvert_exporter": "python",
   "pygments_lexer": "ipython3",
   "version": "3.11.4"
  },
  "language_info": {
   "codemirror_mode": {
    "name": "ipython",
    "version": 3
   },
   "file_extension": ".py",
   "mimetype": "text/x-python",
   "name": "python",
   "nbconvert_exporter": "python",
   "pygments_lexer": "ipython3",
   "version": "3.11.6"
  }
 },
 "nbformat": 4,
 "nbformat_minor": 2
}
