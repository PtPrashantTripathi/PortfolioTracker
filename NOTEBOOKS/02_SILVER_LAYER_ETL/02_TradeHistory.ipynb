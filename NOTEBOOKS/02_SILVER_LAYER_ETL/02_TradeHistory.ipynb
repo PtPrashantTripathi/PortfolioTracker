{
 "cells": [
  {
   "cell_type": "markdown",
   "metadata": {},
   "source": [
    "## BRONZE TO SILVER LAYER\n",
    "\n",
    "### Reading & Validate the Data from the Files\n"
   ]
  },
  {
   "cell_type": "code",
   "execution_count": 1,
   "metadata": {
    "execution": {
     "iopub.execute_input": "2024-08-26T07:32:45.565685Z",
     "iopub.status.busy": "2024-08-26T07:32:45.565685Z",
     "iopub.status.idle": "2024-08-26T07:32:46.097872Z",
     "shell.execute_reply": "2024-08-26T07:32:46.096919Z"
    }
   },
   "outputs": [],
   "source": [
    "# Import necessary libraries and utility functions\n",
    "import pandas as pd\n",
    "from MyModules.globalpath import GlobalPath\n",
    "from MyModules.utilities import replace_punctuation_from_columns"
   ]
  },
  {
   "cell_type": "code",
   "execution_count": 2,
   "metadata": {
    "execution": {
     "iopub.execute_input": "2024-08-26T07:32:46.097872Z",
     "iopub.status.busy": "2024-08-26T07:32:46.097872Z",
     "iopub.status.idle": "2024-08-26T07:32:46.106761Z",
     "shell.execute_reply": "2024-08-26T07:32:46.106761Z"
    }
   },
   "outputs": [],
   "source": [
    "# Instantiate GlobalPath\n",
    "\n",
    "\n",
    "tradehistory_bronze_layer_path = GlobalPath(\"DATA/BRONZE/TradeHistory\")\n",
    "symbol_silver_file_path = GlobalPath(\"DATA/SILVER/Symbol/Symbol_data.csv\")\n",
    "tradehistory_silver_file_path = GlobalPath(\n",
    "    \"DATA/SILVER/TradeHistory/TradeHistory_data.csv\"\n",
    ")"
   ]
  },
  {
   "cell_type": "markdown",
   "metadata": {},
   "source": [
    "### Function Definitions\n",
    "\n",
    "- **concat_company**: Concatenates stock names based on instrument type.\n",
    "- **read_file**: Reads and processes a CSV file from the Bronze layer.\n"
   ]
  },
  {
   "cell_type": "code",
   "execution_count": 3,
   "metadata": {
    "execution": {
     "iopub.execute_input": "2024-08-26T07:32:46.106761Z",
     "iopub.status.busy": "2024-08-26T07:32:46.106761Z",
     "iopub.status.idle": "2024-08-26T07:32:46.115975Z",
     "shell.execute_reply": "2024-08-26T07:32:46.115975Z"
    }
   },
   "outputs": [],
   "source": [
    "# Function to apply the conditional concatenation\n",
    "\n",
    "\n",
    "def get_scrip_name(row: pd.Series) -> str:\n",
    "    \"\"\"\n",
    "    Concatenate stock names based on the instrument type.\n",
    "\n",
    "    Parameters:\n",
    "    row (pd.Series): A row of DataFrame containing instrument data.\n",
    "\n",
    "    Returns:\n",
    "    str: The concatenated stock name.\n",
    "    \"\"\"\n",
    "    if row[\"instrument_type\"] == \"European Call\":\n",
    "        company = (\n",
    "            str(row[\"company\"])\n",
    "            + \"-CE-\"\n",
    "            + str(row[\"strike_price\"])\n",
    "            + \"-\"\n",
    "            + row[\"expiry\"]\n",
    "        )\n",
    "    elif row[\"instrument_type\"] == \"European Put\":\n",
    "        company = (\n",
    "            str(row[\"company\"])\n",
    "            + \"-PE-\"\n",
    "            + str(row[\"strike_price\"])\n",
    "            + \"-\"\n",
    "            + row[\"expiry\"]\n",
    "        )\n",
    "    else:\n",
    "        company = str(row[\"company\"])\n",
    "    return company.strip().upper()"
   ]
  },
  {
   "cell_type": "code",
   "execution_count": 4,
   "metadata": {
    "execution": {
     "iopub.execute_input": "2024-08-26T07:32:46.115975Z",
     "iopub.status.busy": "2024-08-26T07:32:46.115975Z",
     "iopub.status.idle": "2024-08-26T07:32:46.125007Z",
     "shell.execute_reply": "2024-08-26T07:32:46.125007Z"
    }
   },
   "outputs": [],
   "source": [
    "# Function to read and process a CSV file\n",
    "\n",
    "\n",
    "def read_file(file_path):\n",
    "    \"\"\"\n",
    "    Reads and processes a CSV file from the Bronze layer.\n",
    "\n",
    "    Parameters:\n",
    "    file_path (str): The path to the CSV file.\n",
    "\n",
    "    Returns:\n",
    "    pd.DataFrame: The processed DataFrame.\n",
    "    \"\"\"\n",
    "    print(f\"Processing file: {file_path}\")\n",
    "\n",
    "    # Read the CSV file\n",
    "    df = pd.read_csv(file_path)\n",
    "    df = replace_punctuation_from_columns(df)\n",
    "\n",
    "    # Convert 'trade_num' to int\n",
    "    df[\"trade_num\"] = df[\"trade_num\"].fillna(0).astype(int)\n",
    "\n",
    "    # Add Datetime Col\n",
    "    df[\"datetime\"] = pd.to_datetime(\n",
    "        df[\"date\"].str.replace(\"00:00:00\", \"\").str.strip()\n",
    "        + \" \"\n",
    "        + df[\"trade_time\"].fillna(\"00:00:00\"),\n",
    "        format=\"%Y-%m-%d %H:%M:%S\",\n",
    "    )\n",
    "\n",
    "    # Convert 'expiry' to desired string format\n",
    "    df[\"expiry_date\"] = pd.to_datetime(df[\"expiry\"], format=\"%d-%m-%Y\")\n",
    "    df[\"expiry\"] = df[\"expiry_date\"].dt.strftime(\"%d%b%Y\")\n",
    "\n",
    "    # Convert the 'side' column in df to uppercase\n",
    "    df[\"side\"] = df[\"side\"].astype(str).str.strip().str.upper()\n",
    "\n",
    "    # Add the \"IN\" prefix to 'scrip_code'\n",
    "    df[\"scrip_code\"] = (\n",
    "        \"IN\" + df[\"scrip_code\"].astype(str).str.strip().str.upper()\n",
    "    )\n",
    "\n",
    "    # Apply the function to the DataFrame\n",
    "    df[\"scrip_name\"] = df.apply(get_scrip_name, axis=1)\n",
    "\n",
    "    # Remove all-NA columns from each DataFrame\n",
    "    df = df.dropna(axis=1, how=\"all\")\n",
    "\n",
    "    print(f\"Completed processing file: {file_path}\")\n",
    "    return df"
   ]
  },
  {
   "cell_type": "markdown",
   "metadata": {},
   "source": [
    "### Data Processing\n",
    "\n",
    "- Generate file paths for available CSV files in the Bronze layer.\n",
    "- Read and concatenate data from multiple files.\n"
   ]
  },
  {
   "cell_type": "code",
   "execution_count": 5,
   "metadata": {
    "execution": {
     "iopub.execute_input": "2024-08-26T07:32:46.129527Z",
     "iopub.status.busy": "2024-08-26T07:32:46.129092Z",
     "iopub.status.idle": "2024-08-26T07:32:46.177838Z",
     "shell.execute_reply": "2024-08-26T07:32:46.176744Z"
    }
   },
   "outputs": [
    {
     "name": "stdout",
     "output_type": "stream",
     "text": [
      "Number of Files Detected: 5\n",
      "Processing file: C:\\Users\\prashant.tripathi\\Code\\PortfolioTracker\\DATA\\BRONZE\\TradeHistory\\trade_2021.csv\n",
      "Completed processing file: C:\\Users\\prashant.tripathi\\Code\\PortfolioTracker\\DATA\\BRONZE\\TradeHistory\\trade_2021.csv\n",
      "Processing file: C:\\Users\\prashant.tripathi\\Code\\PortfolioTracker\\DATA\\BRONZE\\TradeHistory\\trade_2122.csv\n",
      "Completed processing file: C:\\Users\\prashant.tripathi\\Code\\PortfolioTracker\\DATA\\BRONZE\\TradeHistory\\trade_2122.csv\n",
      "Processing file: C:\\Users\\prashant.tripathi\\Code\\PortfolioTracker\\DATA\\BRONZE\\TradeHistory\\trade_2223.csv\n",
      "Completed processing file: C:\\Users\\prashant.tripathi\\Code\\PortfolioTracker\\DATA\\BRONZE\\TradeHistory\\trade_2223.csv\n",
      "Processing file: C:\\Users\\prashant.tripathi\\Code\\PortfolioTracker\\DATA\\BRONZE\\TradeHistory\\trade_2324.csv\n",
      "Completed processing file: C:\\Users\\prashant.tripathi\\Code\\PortfolioTracker\\DATA\\BRONZE\\TradeHistory\\trade_2324.csv\n",
      "Processing file: C:\\Users\\prashant.tripathi\\Code\\PortfolioTracker\\DATA\\BRONZE\\TradeHistory\\trade_2425.csv\n",
      "Completed processing file: C:\\Users\\prashant.tripathi\\Code\\PortfolioTracker\\DATA\\BRONZE\\TradeHistory\\trade_2425.csv\n"
     ]
    }
   ],
   "source": [
    "# Generate file_paths\n",
    "file_paths = check_files_availability(\n",
    "    tradehistory_bronze_layer_path,\n",
    "    file_pattern=\"trade_*.csv\",\n",
    ")\n",
    "\n",
    "# Initialize an empty list to store DataFrames\n",
    "dfs = []\n",
    "\n",
    "# Loop through List of all CSV files in the folder\n",
    "for file_path in file_paths:\n",
    "    try:\n",
    "        # Read the CSV file\n",
    "        df = read_file(file_path)\n",
    "        # Append the DataFrame to the list\n",
    "        if not df.empty:\n",
    "            dfs.append(df)\n",
    "    except Exception as e:\n",
    "        print(f\"Failed to read {file_path} due to error: {e}\")\n",
    "\n",
    "# Concatenate all DataFrames into one\n",
    "df_TradeHistory = pd.concat(dfs, ignore_index=True)"
   ]
  },
  {
   "cell_type": "markdown",
   "metadata": {},
   "source": [
    "### Data Harmonization\n",
    "\n",
    "- Replace scrip codes with company names using the SILVER layer symbol data.\n"
   ]
  },
  {
   "cell_type": "code",
   "execution_count": 6,
   "metadata": {
    "execution": {
     "iopub.execute_input": "2024-08-26T07:32:46.182452Z",
     "iopub.status.busy": "2024-08-26T07:32:46.182452Z",
     "iopub.status.idle": "2024-08-26T07:32:46.249965Z",
     "shell.execute_reply": "2024-08-26T07:32:46.248927Z"
    }
   },
   "outputs": [],
   "source": [
    "# Replace scrip code with company name\n",
    "df_Symbol = pd.read_csv(symbol_silver_file_path)\n",
    "\n",
    "# String and strip\n",
    "df_TradeHistory = df_TradeHistory.merge(\n",
    "    df_Symbol[[\"scrip_code\", \"symbol\"]],\n",
    "    left_on=\"scrip_code\",\n",
    "    right_on=\"scrip_code\",\n",
    "    how=\"left\",\n",
    ")"
   ]
  },
  {
   "cell_type": "markdown",
   "metadata": {},
   "source": [
    "### Final Processing and Export\n",
    "\n",
    "- Sort the DataFrame by date and stock name.\n",
    "- Save the processed data as a CSV file in the Silver layer.\n"
   ]
  },
  {
   "cell_type": "code",
   "execution_count": 7,
   "metadata": {
    "execution": {
     "iopub.execute_input": "2024-08-26T07:32:46.256217Z",
     "iopub.status.busy": "2024-08-26T07:32:46.255207Z",
     "iopub.status.idle": "2024-08-26T07:32:46.272889Z",
     "shell.execute_reply": "2024-08-26T07:32:46.272889Z"
    }
   },
   "outputs": [
    {
     "name": "stdout",
     "output_type": "stream",
     "text": [
      "REMAINING COLUMNS : {'scrip_code', 'trade_time', 'expiry', 'trade_num', 'company', 'strike_price', 'instrument_type', 'date'}\n",
      "SILVER Layer CSV file for trade history successfully created at:\n",
      "C:\\Users\\prashant.tripathi\\Code\\PortfolioTracker\\DATA\\SILVER\\TradeHistory\\TradeHistory_data.csv\n",
      "<class 'pandas.core.frame.DataFrame'>\n",
      "Index: 254 entries, 17 to 41\n",
      "Data columns (total 10 columns):\n",
      " #   Column       Non-Null Count  Dtype         \n",
      "---  ------       --------------  -----         \n",
      " 0   datetime     254 non-null    datetime64[ns]\n",
      " 1   exchange     254 non-null    object        \n",
      " 2   segment      254 non-null    object        \n",
      " 3   symbol       254 non-null    object        \n",
      " 4   scrip_name   254 non-null    object        \n",
      " 5   side         254 non-null    object        \n",
      " 6   amount       254 non-null    float64       \n",
      " 7   quantity     254 non-null    float64       \n",
      " 8   price        254 non-null    float64       \n",
      " 9   expiry_date  206 non-null    datetime64[ns]\n",
      "dtypes: datetime64[ns](2), float64(3), object(5)\n",
      "memory usage: 21.8+ KB\n"
     ]
    }
   ],
   "source": [
    "# Sort the DataFrame by date and stock name\n",
    "df_TradeHistory = df_TradeHistory.sort_values(by=[\"datetime\"])  # , \"company\"\n",
    "\n",
    "# Select relevant columns\n",
    "relevant_columns = [\n",
    "    \"datetime\",\n",
    "    \"exchange\",\n",
    "    \"segment\",\n",
    "    \"symbol\",\n",
    "    \"scrip_name\",\n",
    "    \"side\",\n",
    "    \"amount\",\n",
    "    \"quantity\",\n",
    "    \"price\",\n",
    "    \"expiry_date\",\n",
    "]\n",
    "print(\n",
    "    \"REMAINING COLUMNS :\", set(df_TradeHistory.columns) - set(relevant_columns)\n",
    ")\n",
    "df_TradeHistory = df_TradeHistory[relevant_columns]\n",
    "\n",
    "# Save the result as a CSV file\n",
    "df_TradeHistory.to_csv(tradehistory_silver_file_path, index=None)\n",
    "print(\"SILVER Layer CSV file for trade history successfully created at:\")\n",
    "print(tradehistory_silver_file_path)\n",
    "# Log the DataFrame debug\n",
    "df_TradeHistory.info()"
   ]
  }
 ],
 "metadata": {
  "kernelspec": {
   "display_name": "Python 3 (ipykernel)",
   "language": "python",
   "name": "python3"
  },
  "language_debug": {
   "codemirror_mode": {
    "name": "ipython",
    "version": 3
   },
   "file_extension": ".py",
   "mimetype": "text/x-python",
   "name": "python",
   "nbconvert_exporter": "python",
   "pygments_lexer": "ipython3",
   "version": "3.11.4"
  },
  "language_info": {
   "codemirror_mode": {
    "name": "ipython",
    "version": 3
   },
   "file_extension": ".py",
   "mimetype": "text/x-python",
   "name": "python",
   "nbconvert_exporter": "python",
   "pygments_lexer": "ipython3",
   "version": "3.11.4"
  }
 },
 "nbformat": 4,
 "nbformat_minor": 4
}
