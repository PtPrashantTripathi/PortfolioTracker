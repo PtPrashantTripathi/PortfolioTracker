{
 "cells": [
  {
   "cell_type": "markdown",
   "metadata": {},
   "source": [
    "## BRONZE TO SILVER LAYER\n",
    "\n",
    "### Reading & Validate the Data from the Files\n"
   ]
  },
  {
   "cell_type": "code",
   "execution_count": 1,
   "metadata": {
    "execution": {
     "iopub.execute_input": "2024-08-21T15:42:36.792749Z",
     "iopub.status.busy": "2024-08-21T15:42:36.792749Z",
     "iopub.status.idle": "2024-08-21T15:42:38.397303Z",
     "shell.execute_reply": "2024-08-21T15:42:38.393901Z"
    }
   },
   "outputs": [],
   "source": [
    "# Import necessary libraries and utility functions\n",
    "import pandas as pd\n",
    "\n",
    "from PortfolioTracker.globalpath import GlobalPath\n",
    "from PortfolioTracker.utilities import (\n",
    "    check_files_availability,\n",
    "    replace_punctuation_from_columns,\n",
    ")"
   ]
  },
  {
   "cell_type": "code",
   "execution_count": 2,
   "metadata": {
    "execution": {
     "iopub.execute_input": "2024-08-21T15:42:38.400654Z",
     "iopub.status.busy": "2024-08-21T15:42:38.400654Z",
     "iopub.status.idle": "2024-08-21T15:42:38.426904Z",
     "shell.execute_reply": "2024-08-21T15:42:38.424318Z"
    }
   },
   "outputs": [],
   "source": [
    "# Instantiate GlobalPath\n",
    "global_path = GlobalPath(\"PortfolioTracker\")\n",
    "# GLOBAL PATH\n",
    "\n",
    "tradehistory_bronze_layer_path = global_path.joinpath(\n",
    "    \"DATA/BRONZE/TradeHistory\"\n",
    ")\n",
    "symbol_silver_file_path = global_path.joinpath(\n",
    "    \"DATA/SILVER/Symbol/Symbol_data.csv\"\n",
    ")\n",
    "tradehistory_silver_file_path = global_path.joinpath(\n",
    "    \"DATA/SILVER/TradeHistory/TradeHistory_data.csv\"\n",
    ")"
   ]
  },
  {
   "cell_type": "markdown",
   "metadata": {},
   "source": [
    "### Function Definitions\n",
    "\n",
    "- **concat_company**: Concatenates stock names based on instrument type.\n",
    "- **read_file**: Reads and processes a CSV file from the Bronze layer.\n"
   ]
  },
  {
   "cell_type": "code",
   "execution_count": 3,
   "metadata": {
    "execution": {
     "iopub.execute_input": "2024-08-21T15:42:38.439627Z",
     "iopub.status.busy": "2024-08-21T15:42:38.439547Z",
     "iopub.status.idle": "2024-08-21T15:42:38.456542Z",
     "shell.execute_reply": "2024-08-21T15:42:38.456542Z"
    }
   },
   "outputs": [],
   "source": [
    "# Function to apply the conditional concatenation\n",
    "def get_stock_name(row: pd.Series) -> str:\n",
    "    \"\"\"\n",
    "    Concatenate stock names based on the instrument type.\n",
    "\n",
    "    Parameters:\n",
    "    row (pd.Series): A row of DataFrame containing instrument data.\n",
    "\n",
    "    Returns:\n",
    "    str: The concatenated stock name.\n",
    "    \"\"\"\n",
    "    if row[\"instrument_type\"] == \"European Call\":\n",
    "        company = (\n",
    "            str(row[\"company\"])\n",
    "            + \"-CE-\"\n",
    "            + str(row[\"strike_price\"])\n",
    "            + \"-\"\n",
    "            + row[\"expiry\"]\n",
    "        )\n",
    "    elif row[\"instrument_type\"] == \"European Put\":\n",
    "        company = (\n",
    "            str(row[\"company\"])\n",
    "            + \"-PE-\"\n",
    "            + str(row[\"strike_price\"])\n",
    "            + \"-\"\n",
    "            + row[\"expiry\"]\n",
    "        )\n",
    "    else:\n",
    "        company = str(row[\"company\"])\n",
    "    return company.strip().upper()"
   ]
  },
  {
   "cell_type": "code",
   "execution_count": 4,
   "metadata": {
    "execution": {
     "iopub.execute_input": "2024-08-21T15:42:38.467779Z",
     "iopub.status.busy": "2024-08-21T15:42:38.467779Z",
     "iopub.status.idle": "2024-08-21T15:42:38.493852Z",
     "shell.execute_reply": "2024-08-21T15:42:38.490626Z"
    }
   },
   "outputs": [],
   "source": [
    "# Function to read and process a CSV file\n",
    "def read_file(file_path):\n",
    "    \"\"\"\n",
    "    Reads and processes a CSV file from the Bronze layer.\n",
    "\n",
    "    Parameters:\n",
    "    file_path (str): The path to the CSV file.\n",
    "\n",
    "    Returns:\n",
    "    pd.DataFrame: The processed DataFrame.\n",
    "    \"\"\"\n",
    "    print(f\"Processing file: {file_path}\")\n",
    "\n",
    "    # Read the CSV file\n",
    "    df = pd.read_csv(file_path)\n",
    "    df = replace_punctuation_from_columns(df)\n",
    "\n",
    "    # Convert 'trade_num' to int\n",
    "    df[\"trade_num\"] = df[\"trade_num\"].fillna(0).astype(int)\n",
    "\n",
    "    # Add Datetime Col\n",
    "    df[\"datetime\"] = pd.to_datetime(\n",
    "        df[\"date\"].str.replace(\"00:00:00\", \"\").str.strip()\n",
    "        + \" \"\n",
    "        + df[\"trade_time\"].fillna(\"00:00:00\"),\n",
    "        format=\"%Y-%m-%d %H:%M:%S\",\n",
    "    )\n",
    "\n",
    "    # Convert 'expiry' to desired string format\n",
    "    df[\"expiry_date\"] = pd.to_datetime(df[\"expiry\"], format=\"%d-%m-%Y\")\n",
    "    df[\"expiry\"] = df[\"expiry_date\"].dt.strftime(\"%d%b%Y\")\n",
    "\n",
    "    # Convert the 'side' column in df to uppercase\n",
    "    df[\"side\"] = df[\"side\"].astype(str).str.strip().str.upper()\n",
    "\n",
    "    # Add the \"IN\" prefix to 'scrip_code'\n",
    "    df[\"scrip_code\"] = (\n",
    "        \"IN\" + df[\"scrip_code\"].astype(str).str.strip().str.upper()\n",
    "    )\n",
    "\n",
    "    # Apply the function to the DataFrame\n",
    "    df[\"stock_name\"] = df.apply(get_stock_name, axis=1)\n",
    "\n",
    "    # Remove all-NA columns from each DataFrame\n",
    "    df = df.dropna(axis=1, how=\"all\")\n",
    "\n",
    "    print(f\"Completed processing file: {file_path}\")\n",
    "    return df"
   ]
  },
  {
   "cell_type": "markdown",
   "metadata": {},
   "source": [
    "### Data Processing\n",
    "\n",
    "- Generate file paths for available CSV files in the Bronze layer.\n",
    "- Read and concatenate data from multiple files.\n"
   ]
  },
  {
   "cell_type": "code",
   "execution_count": 5,
   "metadata": {
    "execution": {
     "iopub.execute_input": "2024-08-21T15:42:38.500612Z",
     "iopub.status.busy": "2024-08-21T15:42:38.500612Z",
     "iopub.status.idle": "2024-08-21T15:42:38.734953Z",
     "shell.execute_reply": "2024-08-21T15:42:38.733892Z"
    }
   },
   "outputs": [
    {
     "name": "stdout",
     "output_type": "stream",
     "text": [
      "Number of Files Detected: 5\n",
      "Processing file: C:\\Users\\prashant.tripathi\\Code\\PortfolioTracker\\DATA\\BRONZE\\TradeHistory\\trade_2021.csv\n",
      "Completed processing file: C:\\Users\\prashant.tripathi\\Code\\PortfolioTracker\\DATA\\BRONZE\\TradeHistory\\trade_2021.csv\n",
      "Processing file: C:\\Users\\prashant.tripathi\\Code\\PortfolioTracker\\DATA\\BRONZE\\TradeHistory\\trade_2122.csv\n",
      "Completed processing file: C:\\Users\\prashant.tripathi\\Code\\PortfolioTracker\\DATA\\BRONZE\\TradeHistory\\trade_2122.csv\n",
      "Processing file: C:\\Users\\prashant.tripathi\\Code\\PortfolioTracker\\DATA\\BRONZE\\TradeHistory\\trade_2223.csv\n",
      "Completed processing file: C:\\Users\\prashant.tripathi\\Code\\PortfolioTracker\\DATA\\BRONZE\\TradeHistory\\trade_2223.csv\n",
      "Processing file: C:\\Users\\prashant.tripathi\\Code\\PortfolioTracker\\DATA\\BRONZE\\TradeHistory\\trade_2324.csv\n",
      "Completed processing file: C:\\Users\\prashant.tripathi\\Code\\PortfolioTracker\\DATA\\BRONZE\\TradeHistory\\trade_2324.csv\n",
      "Processing file: C:\\Users\\prashant.tripathi\\Code\\PortfolioTracker\\DATA\\BRONZE\\TradeHistory\\trade_2425.csv\n",
      "Completed processing file: C:\\Users\\prashant.tripathi\\Code\\PortfolioTracker\\DATA\\BRONZE\\TradeHistory\\trade_2425.csv\n"
     ]
    }
   ],
   "source": [
    "# Generate file_paths\n",
    "file_paths = check_files_availability(\n",
    "    tradehistory_bronze_layer_path,\n",
    "    file_pattern=\"trade_*.csv\",\n",
    ")\n",
    "\n",
    "# Initialize an empty list to store DataFrames\n",
    "dfs = []\n",
    "\n",
    "# Loop through List of all CSV files in the folder\n",
    "for file_path in file_paths:\n",
    "    try:\n",
    "        # Read the CSV file\n",
    "        df = read_file(file_path)\n",
    "        # Append the DataFrame to the list\n",
    "        if not df.empty:\n",
    "            dfs.append(df)\n",
    "    except Exception as e:\n",
    "        print(f\"Failed to read {file_path} due to error: {e}\")\n",
    "\n",
    "# Concatenate all DataFrames into one\n",
    "df_TradeHistory = pd.concat(dfs, ignore_index=True)"
   ]
  },
  {
   "cell_type": "markdown",
   "metadata": {},
   "source": [
    "### Data Harmonization\n",
    "\n",
    "- Replace scrip codes with company names using the SILVER layer symbol data.\n"
   ]
  },
  {
   "cell_type": "code",
   "execution_count": 6,
   "metadata": {
    "execution": {
     "iopub.execute_input": "2024-08-21T15:42:38.747174Z",
     "iopub.status.busy": "2024-08-21T15:42:38.747174Z",
     "iopub.status.idle": "2024-08-21T15:42:38.931240Z",
     "shell.execute_reply": "2024-08-21T15:42:38.929008Z"
    }
   },
   "outputs": [],
   "source": [
    "# Replace scrip code with company name\n",
    "df_Symbol = pd.read_csv(symbol_silver_file_path)\n",
    "\n",
    "# String and strip\n",
    "df_TradeHistory = df_TradeHistory.merge(\n",
    "    df_Symbol[[\"scrip_code\", \"symbol\", \"isin\"]],\n",
    "    left_on=\"scrip_code\",\n",
    "    right_on=\"scrip_code\",\n",
    "    how=\"left\",\n",
    ")"
   ]
  },
  {
   "cell_type": "markdown",
   "metadata": {},
   "source": [
    "### Final Processing and Export\n",
    "\n",
    "- Sort the DataFrame by date and stock name.\n",
    "- Save the processed data as a CSV file in the Silver layer.\n"
   ]
  },
  {
   "cell_type": "code",
   "execution_count": 7,
   "metadata": {
    "execution": {
     "iopub.execute_input": "2024-08-21T15:42:38.939758Z",
     "iopub.status.busy": "2024-08-21T15:42:38.939758Z",
     "iopub.status.idle": "2024-08-21T15:42:38.990284Z",
     "shell.execute_reply": "2024-08-21T15:42:38.988904Z"
    }
   },
   "outputs": [
    {
     "name": "stdout",
     "output_type": "stream",
     "text": [
      "REMAINING COLUMNS : {'trade_num', 'date', 'scrip_code', 'expiry', 'strike_price', 'trade_time', 'company', 'instrument_type'}\n",
      "SILVER Layer CSV file for trade history successfully created at:\n",
      "C:\\Users\\prashant.tripathi\\Code\\PortfolioTracker\\DATA\\SILVER\\TradeHistory\\TradeHistory_data.csv\n",
      "<class 'pandas.core.frame.DataFrame'>\n",
      "Index: 233 entries, 17 to 42\n",
      "Data columns (total 11 columns):\n",
      " #   Column       Non-Null Count  Dtype         \n",
      "---  ------       --------------  -----         \n",
      " 0   datetime     233 non-null    datetime64[ns]\n",
      " 1   exchange     233 non-null    object        \n",
      " 2   segment      233 non-null    object        \n",
      " 3   isin         233 non-null    object        \n",
      " 4   symbol       233 non-null    object        \n",
      " 5   stock_name   233 non-null    object        \n",
      " 6   side         233 non-null    object        \n",
      " 7   amount       233 non-null    float64       \n",
      " 8   quantity     233 non-null    float64       \n",
      " 9   price        233 non-null    float64       \n",
      " 10  expiry_date  185 non-null    datetime64[ns]\n",
      "dtypes: datetime64[ns](2), float64(3), object(6)\n",
      "memory usage: 21.8+ KB\n"
     ]
    }
   ],
   "source": [
    "# Sort the DataFrame by date and stock name\n",
    "df_TradeHistory = df_TradeHistory.sort_values(by=[\"datetime\"])  # , \"company\"\n",
    "\n",
    "# Select relevant columns\n",
    "relevant_columns = [\n",
    "    \"datetime\",\n",
    "    \"exchange\",\n",
    "    \"segment\",\n",
    "    \"isin\",\n",
    "    \"symbol\",\n",
    "    \"stock_name\",\n",
    "    \"side\",\n",
    "    \"amount\",\n",
    "    \"quantity\",\n",
    "    \"price\",\n",
    "    \"expiry_date\",\n",
    "]\n",
    "print(\n",
    "    \"REMAINING COLUMNS :\", set(df_TradeHistory.columns) - set(relevant_columns)\n",
    ")\n",
    "df_TradeHistory = df_TradeHistory[relevant_columns]\n",
    "\n",
    "# Save the result as a CSV file\n",
    "df_TradeHistory.to_csv(tradehistory_silver_file_path, index=None)\n",
    "print(\"SILVER Layer CSV file for trade history successfully created at:\")\n",
    "print(tradehistory_silver_file_path)\n",
    "# Log the DataFrame debug\n",
    "df_TradeHistory.info()"
   ]
  }
 ],
 "metadata": {
  "kernelspec": {
   "display_name": "Python 3 (ipykernel)",
   "language": "python",
   "name": "python3"
  },
  "language_debug": {
   "codemirror_mode": {
    "name": "ipython",
    "version": 3
   },
   "file_extension": ".py",
   "mimetype": "text/x-python",
   "name": "python",
   "nbconvert_exporter": "python",
   "pygments_lexer": "ipython3",
   "version": "3.11.4"
  },
  "language_info": {
   "codemirror_mode": {
    "name": "ipython",
    "version": 3
   },
   "file_extension": ".py",
   "mimetype": "text/x-python",
   "name": "python",
   "nbconvert_exporter": "python",
   "pygments_lexer": "ipython3",
   "version": "3.11.4"
  }
 },
 "nbformat": 4,
 "nbformat_minor": 4
}
