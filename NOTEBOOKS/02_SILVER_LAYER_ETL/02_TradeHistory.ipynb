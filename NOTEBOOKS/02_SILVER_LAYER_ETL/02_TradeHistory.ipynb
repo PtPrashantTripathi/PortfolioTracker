{
 "cells": [
  {
   "cell_type": "markdown",
   "metadata": {},
   "source": [
    "## BRONZE TO SILVER LAYER\n",
    "\n",
    "### Reading & Validate the Data from the Files\n"
   ]
  },
  {
   "cell_type": "code",
   "execution_count": 1,
   "metadata": {
    "execution": {
     "iopub.execute_input": "2024-08-18T19:09:55.660029Z",
     "iopub.status.busy": "2024-08-18T19:09:55.658467Z",
     "iopub.status.idle": "2024-08-18T19:09:56.489480Z",
     "shell.execute_reply": "2024-08-18T19:09:56.485636Z"
    }
   },
   "outputs": [],
   "source": [
    "# Import necessary libraries and utility functions\n",
    "import pandas as pd\n",
    "\n",
    "from PortfolioTracker.globalpath import global_path\n",
    "from PortfolioTracker.logger import logger\n",
    "from PortfolioTracker.utilities import (\n",
    "    check_files_availability,\n",
    "    replace_punctuation_from_columns,\n",
    ")"
   ]
  },
  {
   "cell_type": "markdown",
   "metadata": {},
   "source": [
    "### Function Definitions\n",
    "\n",
    "- **concat_stock_name**: Concatenates stock names based on instrument type.\n",
    "- **read_file**: Reads and processes a CSV file from the Bronze layer.\n"
   ]
  },
  {
   "cell_type": "code",
   "execution_count": 2,
   "metadata": {
    "execution": {
     "iopub.execute_input": "2024-08-18T19:09:56.501204Z",
     "iopub.status.busy": "2024-08-18T19:09:56.500265Z",
     "iopub.status.idle": "2024-08-18T19:09:56.513128Z",
     "shell.execute_reply": "2024-08-18T19:09:56.511160Z"
    }
   },
   "outputs": [],
   "source": [
    "# Function to apply the conditional concatenation\n",
    "def concat_company_name(row: pd.Series) -> str:\n",
    "    \"\"\"\n",
    "    Concatenate stock names based on the instrument type.\n",
    "\n",
    "    Parameters:\n",
    "    row (pd.Series): A row of DataFrame containing instrument data.\n",
    "\n",
    "    Returns:\n",
    "    str: The concatenated stock name.\n",
    "    \"\"\"\n",
    "    if row[\"instrument_type\"] == \"European Call\":\n",
    "        company = (\n",
    "            str(row[\"company\"])\n",
    "            + \"-CE-\"\n",
    "            + str(row[\"strike_price\"])\n",
    "            + \"-\"\n",
    "            + row[\"expiry\"]\n",
    "        )\n",
    "    elif row[\"instrument_type\"] == \"European Put\":\n",
    "        company = (\n",
    "            str(row[\"company\"])\n",
    "            + \"-PE-\"\n",
    "            + str(row[\"strike_price\"])\n",
    "            + \"-\"\n",
    "            + row[\"expiry\"]\n",
    "        )\n",
    "    else:\n",
    "        company = str(row[\"company\"])\n",
    "    return company.strip().upper()"
   ]
  },
  {
   "cell_type": "code",
   "execution_count": 3,
   "metadata": {
    "execution": {
     "iopub.execute_input": "2024-08-18T19:09:56.522005Z",
     "iopub.status.busy": "2024-08-18T19:09:56.521196Z",
     "iopub.status.idle": "2024-08-18T19:09:56.536504Z",
     "shell.execute_reply": "2024-08-18T19:09:56.532872Z"
    }
   },
   "outputs": [],
   "source": [
    "# Function to read and process a CSV file\n",
    "def read_file(file_path):\n",
    "    \"\"\"\n",
    "    Reads and processes a CSV file from the Bronze layer.\n",
    "\n",
    "    Parameters:\n",
    "    file_path (str): The path to the CSV file.\n",
    "\n",
    "    Returns:\n",
    "    pd.DataFrame: The processed DataFrame.\n",
    "    \"\"\"\n",
    "    logger.info(f\"Processing file: {file_path}\")\n",
    "\n",
    "    # Read the CSV file\n",
    "    df = pd.read_csv(file_path)\n",
    "    df = replace_punctuation_from_columns(df)\n",
    "\n",
    "    # Convert 'trade_num' to int\n",
    "    df[\"trade_num\"] = df[\"trade_num\"].fillna(0).astype(int)\n",
    "\n",
    "    # Add Datetime Col\n",
    "    df[\"datetime\"] = pd.to_datetime(\n",
    "        df[\"date\"].str.replace(\"00:00:00\", \"\").str.strip()\n",
    "        + \" \"\n",
    "        + df[\"trade_time\"].fillna(\"00:00:00\"),\n",
    "        format=\"%Y-%m-%d %H:%M:%S\",\n",
    "    )\n",
    "\n",
    "    # Convert 'expiry' to desired string format\n",
    "    df[\"expiry_date\"] = pd.to_datetime(df[\"expiry\"], format=\"%d-%m-%Y\")\n",
    "    df[\"expiry\"] = df[\"expiry_date\"].dt.strftime(\"%d%b%Y\")\n",
    "\n",
    "    # Convert the 'side' column in df to uppercase\n",
    "    df[\"side\"] = df[\"side\"].astype(str).str.strip().str.upper()\n",
    "\n",
    "    # Apply the function to the DataFrame\n",
    "    df[\"company\"] = df.apply(concat_company_name, axis=1)\n",
    "\n",
    "    # Remove all-NA columns from each DataFrame\n",
    "    df = df.dropna(axis=1, how=\"all\")\n",
    "\n",
    "    logger.info(f\"Completed processing file: {file_path}\")\n",
    "    return df"
   ]
  },
  {
   "cell_type": "markdown",
   "metadata": {},
   "source": [
    "### Data Processing\n",
    "\n",
    "- Generate file paths for available CSV files in the Bronze layer.\n",
    "- Read and concatenate data from multiple files.\n"
   ]
  },
  {
   "cell_type": "code",
   "execution_count": 4,
   "metadata": {
    "execution": {
     "iopub.execute_input": "2024-08-18T19:09:56.546441Z",
     "iopub.status.busy": "2024-08-18T19:09:56.545739Z",
     "iopub.status.idle": "2024-08-18T19:09:56.724303Z",
     "shell.execute_reply": "2024-08-18T19:09:56.722529Z"
    }
   },
   "outputs": [
    {
     "name": "stderr",
     "output_type": "stream",
     "text": [
      "2024-08-19T00:39:56Z - INFO - Number of Files Detected: 5\n"
     ]
    },
    {
     "name": "stderr",
     "output_type": "stream",
     "text": [
      "2024-08-19T00:39:56Z - INFO - Processing file: /storage/emulated/0/PortfolioTracker/DATA/BRONZE/TradeHistory/trade_2021.csv\n"
     ]
    },
    {
     "name": "stderr",
     "output_type": "stream",
     "text": [
      "2024-08-19T00:39:56Z - INFO - Completed processing file: /storage/emulated/0/PortfolioTracker/DATA/BRONZE/TradeHistory/trade_2021.csv\n"
     ]
    },
    {
     "name": "stderr",
     "output_type": "stream",
     "text": [
      "2024-08-19T00:39:56Z - INFO - Processing file: /storage/emulated/0/PortfolioTracker/DATA/BRONZE/TradeHistory/trade_2122.csv\n"
     ]
    },
    {
     "name": "stderr",
     "output_type": "stream",
     "text": [
      "2024-08-19T00:39:56Z - INFO - Completed processing file: /storage/emulated/0/PortfolioTracker/DATA/BRONZE/TradeHistory/trade_2122.csv\n"
     ]
    },
    {
     "name": "stderr",
     "output_type": "stream",
     "text": [
      "2024-08-19T00:39:56Z - INFO - Processing file: /storage/emulated/0/PortfolioTracker/DATA/BRONZE/TradeHistory/trade_2223.csv\n"
     ]
    },
    {
     "name": "stderr",
     "output_type": "stream",
     "text": [
      "2024-08-19T00:39:56Z - INFO - Completed processing file: /storage/emulated/0/PortfolioTracker/DATA/BRONZE/TradeHistory/trade_2223.csv\n"
     ]
    },
    {
     "name": "stderr",
     "output_type": "stream",
     "text": [
      "2024-08-19T00:39:56Z - INFO - Processing file: /storage/emulated/0/PortfolioTracker/DATA/BRONZE/TradeHistory/trade_2324.csv\n"
     ]
    },
    {
     "name": "stderr",
     "output_type": "stream",
     "text": [
      "2024-08-19T00:39:56Z - INFO - Completed processing file: /storage/emulated/0/PortfolioTracker/DATA/BRONZE/TradeHistory/trade_2324.csv\n"
     ]
    },
    {
     "name": "stderr",
     "output_type": "stream",
     "text": [
      "2024-08-19T00:39:56Z - INFO - Processing file: /storage/emulated/0/PortfolioTracker/DATA/BRONZE/TradeHistory/trade_2425.csv\n"
     ]
    },
    {
     "name": "stderr",
     "output_type": "stream",
     "text": [
      "2024-08-19T00:39:56Z - INFO - Completed processing file: /storage/emulated/0/PortfolioTracker/DATA/BRONZE/TradeHistory/trade_2425.csv\n"
     ]
    }
   ],
   "source": [
    "# Generate file_paths\n",
    "file_paths = check_files_availability(\n",
    "    global_path.tradehistory_bronze_layer_path,\n",
    "    file_pattern=\"trade_*.csv\",\n",
    ")\n",
    "\n",
    "# Initialize an empty list to store DataFrames\n",
    "dfs = []\n",
    "\n",
    "# Loop through List of all CSV files in the folder\n",
    "for file_path in file_paths:\n",
    "    try:\n",
    "        # Read the CSV file\n",
    "        df = read_file(file_path)\n",
    "        # Append the DataFrame to the list\n",
    "        if not df.empty:\n",
    "            dfs.append(df)\n",
    "    except Exception as e:\n",
    "        logger.error(f\"Failed to read {file_path} due to error: {e}\")\n",
    "\n",
    "# Concatenate all DataFrames into one\n",
    "df_TradeHistory = pd.concat(dfs, ignore_index=True)"
   ]
  },
  {
   "cell_type": "markdown",
   "metadata": {},
   "source": [
    "### Data Harmonization\n",
    "\n",
    "- Replace scrip codes with company names using the SILVER layer symbol data.\n"
   ]
  },
  {
   "cell_type": "code",
   "execution_count": 5,
   "metadata": {
    "execution": {
     "iopub.execute_input": "2024-08-18T19:09:56.731339Z",
     "iopub.status.busy": "2024-08-18T19:09:56.730785Z",
     "iopub.status.idle": "2024-08-18T19:09:56.790203Z",
     "shell.execute_reply": "2024-08-18T19:09:56.786878Z"
    }
   },
   "outputs": [],
   "source": [
    "# Replace scrip code with company name\n",
    "df_Symbol = pd.read_csv(global_path.symbol_silver_file_path)\n",
    "\n",
    "# String and strip\n",
    "df_Symbol[\"scrip_code\"] = df_Symbol[\"scrip_code\"].astype(str).str.strip()\n",
    "df_TradeHistory[\"scrip_code\"] = (\n",
    "    df_TradeHistory[\"scrip_code\"].astype(str).str.strip()\n",
    ")\n",
    "\n",
    "# Merge df_TradeHistory with df_Symbol on the matching columns\n",
    "df_TradeHistory = df_TradeHistory.merge(\n",
    "    df_Symbol[[\"scrip_code\", \"symbol\"]],\n",
    "    left_on=\"scrip_code\",\n",
    "    right_on=\"scrip_code\",\n",
    "    how=\"left\",\n",
    ")\n",
    "\n",
    "df_TradeHistory[\"stock_name\"] = df_TradeHistory[\"symbol\"].combine_first(\n",
    "    df_TradeHistory[\"company\"]\n",
    ")\n",
    "\n",
    "df_TradeHistory[\"symbol\"] = df_TradeHistory[\"symbol\"].combine_first(\n",
    "    df_TradeHistory[\"scrip_code\"]\n",
    ")"
   ]
  },
  {
   "cell_type": "markdown",
   "metadata": {},
   "source": [
    "### Final Processing and Export\n",
    "\n",
    "- Sort the DataFrame by date and stock name.\n",
    "- Save the processed data as a CSV file in the Silver layer.\n"
   ]
  },
  {
   "cell_type": "code",
   "execution_count": 6,
   "metadata": {
    "execution": {
     "iopub.execute_input": "2024-08-18T19:09:56.800549Z",
     "iopub.status.busy": "2024-08-18T19:09:56.798005Z",
     "iopub.status.idle": "2024-08-18T19:09:56.856336Z",
     "shell.execute_reply": "2024-08-18T19:09:56.854475Z"
    },
    "lines_to_next_cell": 2
   },
   "outputs": [
    {
     "name": "stderr",
     "output_type": "stream",
     "text": [
      "2024-08-19T00:39:56Z - INFO - SILVER Layer CSV file for trade history successfully created at:\n"
     ]
    },
    {
     "name": "stderr",
     "output_type": "stream",
     "text": [
      "2024-08-19T00:39:56Z - INFO - /storage/emulated/0/PortfolioTracker/DATA/SILVER/TradeHistory/TradeHistory_data.csv\n"
     ]
    },
    {
     "name": "stdout",
     "output_type": "stream",
     "text": [
      "<class 'pandas.core.frame.DataFrame'>\n",
      "Index: 233 entries, 17 to 42\n",
      "Data columns (total 10 columns):\n",
      " #   Column       Non-Null Count  Dtype         \n",
      "---  ------       --------------  -----         \n",
      " 0   datetime     233 non-null    datetime64[ns]\n",
      " 1   exchange     233 non-null    object        \n",
      " 2   segment      233 non-null    object        \n",
      " 3   symbol       233 non-null    object        \n",
      " 4   stock_name   233 non-null    object        \n",
      " 5   side         233 non-null    object        \n",
      " 6   amount       233 non-null    float64       \n",
      " 7   quantity     233 non-null    float64       \n",
      " 8   price        233 non-null    float64       \n",
      " 9   expiry_date  185 non-null    datetime64[ns]\n",
      "dtypes: datetime64[ns](2), float64(3), object(5)\n",
      "memory usage: 20.0+ KB\n"
     ]
    }
   ],
   "source": [
    "# Sort the DataFrame by date and stock name\n",
    "df_TradeHistory = df_TradeHistory.sort_values(by=[\"datetime\", \"stock_name\"])\n",
    "\n",
    "# Select relevant columns\n",
    "df_TradeHistory = df_TradeHistory[\n",
    "    [\n",
    "        \"datetime\",\n",
    "        \"exchange\",\n",
    "        \"segment\",\n",
    "        \"symbol\",\n",
    "        \"stock_name\",\n",
    "        \"side\",\n",
    "        \"amount\",\n",
    "        \"quantity\",\n",
    "        \"price\",\n",
    "        \"expiry_date\",\n",
    "    ]\n",
    "]\n",
    "\n",
    "# Save the result as a CSV file\n",
    "df_TradeHistory.to_csv(global_path.tradehistory_silver_file_path, index=None)\n",
    "logger.info(\"SILVER Layer CSV file for trade history successfully created at:\")\n",
    "logger.info(global_path.tradehistory_silver_file_path.resolve())\n",
    "# Log the DataFrame info\n",
    "df_TradeHistory.info()"
   ]
  }
 ],
 "metadata": {
  "kernelspec": {
   "display_name": "Python 3 (ipykernel)",
   "language": "python",
   "name": "python3"
  },
  "language_info": {
   "codemirror_mode": {
    "name": "ipython",
    "version": 3
   },
   "file_extension": ".py",
   "mimetype": "text/x-python",
   "name": "python",
   "nbconvert_exporter": "python",
   "pygments_lexer": "ipython3",
   "version": "3.11.6"
  }
 },
 "nbformat": 4,
 "nbformat_minor": 4
}
