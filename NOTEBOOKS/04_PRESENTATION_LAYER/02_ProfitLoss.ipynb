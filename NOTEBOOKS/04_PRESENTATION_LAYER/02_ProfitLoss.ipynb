{
 "cells": [
  {
   "cell_type": "code",
   "execution_count": 21,
   "metadata": {},
   "outputs": [
    {
     "name": "stdout",
     "output_type": "stream",
     "text": [
      "Data written to C:\\Users\\prashant.tripathi\\Code\\PortfolioTracker\\DATA\\GOLD\\ProfitLoss\\ProfitLoss_data.json\n"
     ]
    }
   ],
   "source": [
    "import json\n",
    "import pandas as pd\n",
    "from PortfolioTracker.GlobalPath import GlobalPath\n",
    "\n",
    "# Instantiate GlobalPath\n",
    "global_path = GlobalPath(\"PortfolioTracker\")\n",
    "# GLOBAL PATH\n",
    "profitloss_gold_file_path = global_path.joinpath(\n",
    "    \"DATA/GOLD/ProfitLoss/ProfitLoss_data.csv\"\n",
    ")\n",
    "## PRESENTATION LAYER\n",
    "df_profitloss = pd.read_csv(profitloss_gold_file_path)\n",
    "# Convert datetime to date string\n",
    "df_profitloss[\"open_datetime\"] = pd.to_datetime(df_profitloss[\"open_datetime\"]).dt.date\n",
    "df_profitloss[\"close_datetime\"] = pd.to_datetime(df_profitloss[\"close_datetime\"]).dt.date\n",
    "# Grouping by 'name' and 'type'\n",
    "result = []\n",
    "grouped = df_profitloss.groupby([\"segment\", \"exchange\", \"symbol\"])\n",
    "    \n",
    "for (segment, exchange, symbol), group in grouped:\n",
    "    group_dict = {\n",
    "        \"segment\": segment,\n",
    "        \"exchange\": exchange,\n",
    "        \"symbol\": symbol,\n",
    "        \"days\": (group[\"close_datetime\"].max()-group[\"open_datetime\"].min()).days,\n",
    "        \"quantity\": group[\"quantity\"].sum(),\n",
    "        \"avg_price\": group[\"open_amount\"].sum() / group[\"quantity\"].sum(),\n",
    "        \"sell_price\": group[\"close_amount\"].sum() / group[\"quantity\"].sum(),\n",
    "        \"pnl\": group[\"pnl_amount\"].sum(),\n",
    "        \"history\": group[\n",
    "            [\n",
    "                \"stock_name\",\n",
    "                \"position\",\n",
    "                \"quantity\",\n",
    "                \"open_datetime\",\n",
    "                \"open_side\",\n",
    "                \"open_price\",\n",
    "                \"open_amount\",\n",
    "                \"close_datetime\",\n",
    "                \"close_side\",\n",
    "                \"close_price\",\n",
    "                \"close_amount\",\n",
    "                \"pnl_amount\",\n",
    "                \"pnl_percentage\",\n",
    "            ]\n",
    "        ].to_dict(orient=\"records\"),\n",
    "    }\n",
    "    result.append(group_dict)\n",
    "\n",
    "output = {\n",
    "    \"invested\": df_profitloss[\"open_amount\"].sum(),\n",
    "    \"sold\": df_profitloss[\"close_amount\"].sum(),\n",
    "    \"pnl\": df_profitloss[\"pnl_amount\"].sum(),\n",
    "    \"data\": result,\n",
    "}\n",
    "\n",
    "# Writing the result to a JSON file\n",
    "output_path = global_path.joinpath(\"DATA/GOLD/ProfitLoss/ProfitLoss_data.json\")\n",
    "with open(output_path, \"w\") as json_file:\n",
    "    json.dump(output, json_file, indent=4,default=str)\n",
    "\n",
    "print(f\"Data written to {output_path.resolve()}\")"
   ]
  },
  {
   "cell_type": "code",
   "execution_count": null,
   "metadata": {},
   "outputs": [],
   "source": []
  }
 ],
 "metadata": {
  "kernelspec": {
   "display_name": "Python 3",
   "language": "python",
   "name": "python3"
  },
  "language_info": {
   "codemirror_mode": {
    "name": "ipython",
    "version": 3
   },
   "file_extension": ".py",
   "mimetype": "text/x-python",
   "name": "python",
   "nbconvert_exporter": "python",
   "pygments_lexer": "ipython3",
   "version": "3.11.4"
  }
 },
 "nbformat": 4,
 "nbformat_minor": 2
}
