{
 "cells": [
  {
   "cell_type": "code",
   "execution_count": 1,
   "metadata": {
    "execution": {
     "iopub.execute_input": "2024-08-23T06:16:39.854214Z",
     "iopub.status.busy": "2024-08-23T06:16:39.854214Z",
     "iopub.status.idle": "2024-08-23T06:16:40.649632Z",
     "shell.execute_reply": "2024-08-23T06:16:40.649632Z"
    }
   },
   "outputs": [
    {
     "name": "stdout",
     "output_type": "stream",
     "text": [
      "Read GOLD Layer ProfitLoss data from: C:\\Users\\prashant.tripathi\\Code\\PortfolioTracker\\DATA\\GOLD\\ProfitLoss\\ProfitLoss_data.csv\n"
     ]
    }
   ],
   "source": [
    "import json\n",
    "\n",
    "import pandas as pd\n",
    "\n",
    "from PortfolioTracker.globalpath import GlobalPath\n",
    "\n",
    "# Instantiate GlobalPath\n",
    "global_path = GlobalPath(\"PortfolioTracker\")\n",
    "# GLOBAL PATH\n",
    "profitloss_gold_file_path = global_path.joinpath(\n",
    "    \"DATA/GOLD/ProfitLoss/ProfitLoss_data.csv\"\n",
    ")\n",
    "\n",
    "print(f\"Read GOLD Layer ProfitLoss data from: {profitloss_gold_file_path}\")\n",
    "## PRESENTATION LAYER\n",
    "df = pd.read_csv(profitloss_gold_file_path)\n",
    "\n",
    "# Assuming your DataFrame is named df\n",
    "df[\"stock_name\"] = df.apply(\n",
    "    lambda row: (\n",
    "        row[\"symbol\"] if row[\"symbol\"] == \"NIFTY\" else row[\"scrip_name\"]\n",
    "    ),\n",
    "    axis=1,\n",
    ")\n",
    "\n",
    "# Ensure the columns are datetime64 dtype\n",
    "df[\"open_datetime\"] = pd.to_datetime(df[\"open_datetime\"])\n",
    "df[\"close_datetime\"] = pd.to_datetime(df[\"close_datetime\"])\n",
    "\n",
    "# Calculate the difference in days\n",
    "df[\"days\"] = (df[\"close_datetime\"] - df[\"open_datetime\"]).dt.days"
   ]
  },
  {
   "cell_type": "code",
   "execution_count": 2,
   "metadata": {
    "execution": {
     "iopub.execute_input": "2024-08-23T06:16:40.652141Z",
     "iopub.status.busy": "2024-08-23T06:16:40.652141Z",
     "iopub.status.idle": "2024-08-23T06:16:40.727154Z",
     "shell.execute_reply": "2024-08-23T06:16:40.727154Z"
    }
   },
   "outputs": [
    {
     "name": "stdout",
     "output_type": "stream",
     "text": [
      "Data written to C:\\Users\\prashant.tripathi\\Code\\PortfolioTracker\\DATA\\PRESENTATION\\API\\ProfitLoss_data.json\n"
     ]
    }
   ],
   "source": [
    "# Grouping by 'name' and 'type'\n",
    "result = []\n",
    "grouped = df.groupby([\"segment\", \"exchange\", \"symbol\", \"stock_name\"])\n",
    "\n",
    "for (segment, exchange, symbol, stock_name), group in grouped:\n",
    "    group_dict = {\n",
    "        \"segment\": segment,\n",
    "        \"exchange\": exchange,\n",
    "        \"symbol\": symbol,\n",
    "        \"stock_name\": stock_name,\n",
    "        \"days\": (\n",
    "            group[\"close_datetime\"].max() - group[\"open_datetime\"].min()\n",
    "        ).days,\n",
    "        \"quantity\": group[\"quantity\"].sum(),\n",
    "        \"avg_price\": round(\n",
    "            group[\"open_amount\"].sum() / group[\"quantity\"].sum(), 2\n",
    "        ),\n",
    "        \"sell_price\": round(\n",
    "            group[\"close_amount\"].sum() / group[\"quantity\"].sum(), 2\n",
    "        ),\n",
    "        \"pnl\": group[\"pnl_amount\"].sum(),\n",
    "        \"history\": group[\n",
    "            [\n",
    "                \"scrip_name\",\n",
    "                \"position\",\n",
    "                \"quantity\",\n",
    "                \"days\",\n",
    "                \"open_datetime\",\n",
    "                \"open_price\",\n",
    "                \"open_amount\",\n",
    "                \"close_datetime\",\n",
    "                \"close_price\",\n",
    "                \"close_amount\",\n",
    "                \"pnl_amount\",\n",
    "                \"pnl_percentage\",\n",
    "            ]\n",
    "        ].to_dict(orient=\"records\"),\n",
    "    }\n",
    "    result.append(group_dict)\n",
    "\n",
    "output = {\n",
    "    \"invested\": round(df[\"open_amount\"].sum(), 2),\n",
    "    \"sold\": round(df[\"close_amount\"].sum(), 2),\n",
    "    \"pnl\": round(df[\"pnl_amount\"].sum(), 2),\n",
    "    \"data\": result,\n",
    "}\n",
    "\n",
    "# Writing the result to a JSON file\n",
    "output_path = global_path.joinpath(\"DATA/PRESENTATION/API/ProfitLoss_data.json\")\n",
    "with open(output_path, \"w\") as json_file:\n",
    "    json.dump(output, json_file, indent=4, default=str)\n",
    "\n",
    "print(f\"Data written to {output_path.resolve()}\")"
   ]
  },
  {
   "cell_type": "code",
   "execution_count": null,
   "metadata": {},
   "outputs": [],
   "source": []
  }
 ],
 "metadata": {
  "kernelspec": {
   "display_name": "Python 3",
   "language": "python",
   "name": "python3"
  },
  "language_info": {
   "codemirror_mode": {
    "name": "ipython",
    "version": 3
   },
   "file_extension": ".py",
   "mimetype": "text/x-python",
   "name": "python",
   "nbconvert_exporter": "python",
   "pygments_lexer": "ipython3",
   "version": "3.11.4"
  }
 },
 "nbformat": 4,
 "nbformat_minor": 2
}
