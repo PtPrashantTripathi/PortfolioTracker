{
 "cells": [
  {
   "cell_type": "markdown",
   "metadata": {},
   "source": [
    "## BRONZE TO SILVER LAYER\n"
   ]
  },
  {
   "cell_type": "code",
   "execution_count": 4,
   "metadata": {},
   "outputs": [],
   "source": [
    "import os\n",
    "import pathlib\n",
    "import numpy as np\n",
    "import pandas as pd"
   ]
  },
  {
   "cell_type": "code",
   "execution_count": 5,
   "metadata": {},
   "outputs": [],
   "source": [
    "## Folder and File path\n",
    "cwd = pathlib.Path(os.getcwd())\n",
    "gold_path = cwd.joinpath(\"../DATA/GOLD\")\n",
    "gold_path.mkdir(parents=True, exist_ok=True)"
   ]
  },
  {
   "cell_type": "markdown",
   "metadata": {},
   "source": [
    "### Silver Layer - INVESTMENT and HOLDING History\n"
   ]
  },
  {
   "cell_type": "code",
   "execution_count": 6,
   "metadata": {},
   "outputs": [],
   "source": [
    "# read the csv file\n",
    "gold_data_trade_history_file_path = gold_path.joinpath(\"TradeHistory.csv\")\n",
    "df_gold_tread_history = pd.read_csv(gold_data_trade_history_file_path)\n",
    "\n",
    "# convert Datetime to Date string\n",
    "df_gold_tread_history[\"date\"] = pd.to_datetime(\n",
    "    df_gold_tread_history[\"datetime\"]\n",
    ").dt.date\n",
    "\n",
    "golden_table_names = {\"Investment\": \"avg_price\", \"Holdings\": \"holding_quantity\"}\n",
    "\n",
    "date_range = pd.date_range(\n",
    "    start=df_gold_tread_history[\"date\"].min(), end=pd.to_datetime(\"today\"), freq=\"D\"\n",
    ")\n",
    "\n",
    "for file_name, table_name in golden_table_names.items():\n",
    "    # Create a new DataFrame with an updated date range\n",
    "    df = pd.DataFrame({\"date\": date_range.date})\n",
    "    grouped = df_gold_tread_history.groupby(\"stock_name\")\n",
    "    for stock_name, group in grouped:\n",
    "        df = pd.merge(df, group[[\"date\", table_name]], on=\"date\", how=\"left\").rename(\n",
    "            columns={table_name: stock_name},\n",
    "        )\n",
    "\n",
    "    # # setting date column as index\n",
    "    df.set_index(\"date\", inplace=True)\n",
    "    # Reindexing to fill the missing data with the last available data\n",
    "    df = df.ffill()\n",
    "    df.replace(0.0, np.nan, inplace=True)\n",
    "\n",
    "    df[\"date\"] = df.index.astype(\"str\")\n",
    "\n",
    "    df.to_csv(gold_path.joinpath(f\"{file_name}.csv\"), orient=\"records\", indent=4)"
   ]
  },
  {
   "cell_type": "code",
   "execution_count": null,
   "metadata": {},
   "outputs": [],
   "source": []
  }
 ],
 "metadata": {
  "kernelspec": {
   "display_name": "Python 3",
   "language": "python",
   "name": "python3"
  },
  "language_info": {
   "codemirror_mode": {
    "name": "ipython",
    "version": 3
   },
   "file_extension": ".py",
   "mimetype": "text/x-python",
   "name": "python",
   "nbconvert_exporter": "python",
   "pygments_lexer": "ipython3",
   "version": "3.11.4"
  }
 },
 "nbformat": 4,
 "nbformat_minor": 2
}
