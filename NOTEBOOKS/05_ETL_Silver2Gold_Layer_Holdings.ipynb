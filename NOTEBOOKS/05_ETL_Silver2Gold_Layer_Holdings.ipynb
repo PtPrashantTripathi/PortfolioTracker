{
 "cells": [
  {
   "cell_type": "markdown",
   "metadata": {},
   "source": [
    "## BRONZE TO SILVER LAYER\n"
   ]
  },
  {
   "cell_type": "code",
   "execution_count": 4,
   "metadata": {},
   "outputs": [],
   "source": [
    "import numpy as np\n",
    "import pandas as pd\n",
    "from common_utilities import GlobalPaths"
   ]
  },
  {
   "cell_type": "code",
   "execution_count": 5,
   "metadata": {},
   "outputs": [],
   "source": [
    "# Initialize TradeHistory Paths\n",
    "TradeHistoryGlobalPath = GlobalPaths(source_name=\"DATA\", object_name=\"TradeHistory\")\n",
    "TradeHistoryGoldLayerPath = TradeHistoryGlobalPath.createLayer(layer_name=\"GOLD\")\n",
    "TradeHistoryGoldFilePath = TradeHistoryGoldLayerPath.joinpath(\"TradeHistory_data.csv\")\n",
    "\n",
    "# Initialize ProfitLoss Paths\n",
    "ProfitLossGlobalPath = GlobalPaths(source_name=\"DATA\", object_name=\"ProfitLoss\")\n",
    "ProfitLossGoldLayerPath = ProfitLossGlobalPath.createLayer(layer_name=\"GOLD\")\n",
    "ProfitLossGoldFilePath = ProfitLossGoldLayerPath.joinpath(\"ProfitLoss_data.csv\")"
   ]
  },
  {
   "cell_type": "markdown",
   "metadata": {},
   "source": [
    "### Silver Layer - Process ProfitLoss History\n"
   ]
  },
  {
   "cell_type": "code",
   "execution_count": 6,
   "metadata": {},
   "outputs": [
    {
     "name": "stdout",
     "output_type": "stream",
     "text": [
      "<class 'pandas.core.frame.DataFrame'>\n",
      "RangeIndex: 1546 entries, 0 to 1545\n",
      "Data columns (total 20 columns):\n",
      " #   Column                               Non-Null Count  Dtype  \n",
      "---  ------                               --------------  -----  \n",
      " 0   date                                 1546 non-null   object \n",
      " 1   BHAGERIA                             41 non-null     float64\n",
      " 2   BPCL                                 369 non-null    float64\n",
      " 3   GOLDBEES                             116 non-null    float64\n",
      " 4   HERANBA                              5 non-null      float64\n",
      " 5   IDEA                                 321 non-null    float64\n",
      " 6   INFY                                 64 non-null     float64\n",
      " 7   IRCTC                                40 non-null     float64\n",
      " 8   KPITTECH                             31 non-null     float64\n",
      " 9   LICI                                 89 non-null     float64\n",
      " 10  MIRAE-ASSET-TAX-SAVER-DIRECT-GROWTH  51 non-null     float64\n",
      " 11  NIFTYBEES                            126 non-null    float64\n",
      " 12  PNB                                  321 non-null    float64\n",
      " 13  SBI-MAGNUM-TAXGAIN-SCHEME-DIR-GR     51 non-null     float64\n",
      " 14  SBIN                                 25 non-null     float64\n",
      " 15  TATACHEM                             421 non-null    float64\n",
      " 16  TATAMOTORS                           1546 non-null   float64\n",
      " 17  TATAPOWER                            1253 non-null   float64\n",
      " 18  VOLTAS                               421 non-null    float64\n",
      " 19  YESBANK                              472 non-null    float64\n",
      "dtypes: float64(19), object(1)\n",
      "memory usage: 241.7+ KB\n",
      "Gold Layer csv file for Holdings successfully created at:\n",
      "C:\\Users\\prashant.tripathi\\Code\\Upstox\\DATA\\GOLD\\Holdings\\Holdings_data.csv\n"
     ]
    }
   ],
   "source": [
    "# Read the CSV file\n",
    "df = pd.read_csv(TradeHistoryGoldFilePath)\n",
    "\n",
    "# Filter the DataFrame\n",
    "df = df[df[\"trade_type\"] == \"SELL\"]\n",
    "\n",
    "# Convert datetime to date string\n",
    "df[\"datetime\"] = pd.to_datetime(df[\"datetime\"])\n",
    "\n",
    "# Rename\n",
    "df = df.rename(\n",
    "    columns={\n",
    "        \"sell_quantity\": \"quantity\",\n",
    "    }\n",
    ")\n",
    "\n",
    "# sort the dataframe by date\n",
    "df = df.sort_values(by=[\"segment\", \"stock_name\", \"datetime\"])\n",
    "\n",
    "# Save the result as a csv file\n",
    "df = df[\n",
    "    [\n",
    "        \"datetime\",\n",
    "        \"segment\",\n",
    "        \"stock_name\",\n",
    "        \"quantity\",\n",
    "        \"buy_price\",\n",
    "        \"buy_amount\",\n",
    "        \"sell_price\",\n",
    "        \"sell_amount\",\n",
    "        \"profit_loss_amount\",\n",
    "    ]\n",
    "]\n",
    "df.to_csv(ProfitLossGoldFilePath, index=None)\n",
    "df.info()\n",
    "print(\"Gold Layer csv file for ProfitLoss successfully created at:\")\n",
    "print(ProfitLossGoldFilePath.resolve())"
   ]
  }
 ],
 "metadata": {
  "kernelspec": {
   "display_name": "Python 3",
   "language": "python",
   "name": "python3"
  },
  "language_info": {
   "codemirror_mode": {
    "name": "ipython",
    "version": 3
   },
   "file_extension": ".py",
   "mimetype": "text/x-python",
   "name": "python",
   "nbconvert_exporter": "python",
   "pygments_lexer": "ipython3",
   "version": "3.11.4"
  }
 },
 "nbformat": 4,
 "nbformat_minor": 2
}
