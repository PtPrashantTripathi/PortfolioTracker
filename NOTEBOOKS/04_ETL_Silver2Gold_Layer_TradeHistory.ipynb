{
 "cells": [
  {
   "cell_type": "markdown",
   "metadata": {},
   "source": [
    "## SILVER TO GOLD LAYER\n"
   ]
  },
  {
   "cell_type": "code",
   "execution_count": 15,
   "metadata": {},
   "outputs": [],
   "source": [
    "import pandas as pd\n",
    "from global_paths import GlobalPaths\n",
    "from common_utilities import TradeHistory"
   ]
  },
  {
   "cell_type": "markdown",
   "metadata": {},
   "source": [
    "### TradeHistory Paths\n"
   ]
  },
  {
   "cell_type": "code",
   "execution_count": 16,
   "metadata": {},
   "outputs": [],
   "source": [
    "# Initialize TradeHistory Paths\n",
    "TradeHistoryPath = GlobalPaths(source_name=\"DATA\", object_name=\"TradeHistory\")\n",
    "TradeHistorySilverPath = TradeHistoryPath.createLayer(layer_name=\"SILVER\")\n",
    "TradeHistorySilverFile = TradeHistorySilverPath.joinpath(\"TradeHistory_data.csv\")\n",
    "TradeHistoryGoldPath = TradeHistoryPath.createLayer(layer_name=\"GOLD\")\n",
    "TradeHistoryGoldFile = TradeHistoryGoldPath.joinpath(\"TradeHistory_data.csv\")\n",
    "\n",
    "# Initialize Equity Paths\n",
    "EquityPath = GlobalPaths(source_name=\"DATA\", object_name=\"Equity\")\n",
    "EquitySilverPath = EquityPath.createLayer(layer_name=\"SILVER\")\n",
    "EquitySilverFile = EquitySilverPath.joinpath(\"Equity_data.csv\")"
   ]
  },
  {
   "cell_type": "markdown",
   "metadata": {},
   "source": [
    "### Gold Layer - Trade History\n"
   ]
  },
  {
   "cell_type": "code",
   "execution_count": 17,
   "metadata": {},
   "outputs": [
    {
     "ename": "TypeError",
     "evalue": "NDFrame.to_csv() got an unexpected keyword argument 'orient'",
     "output_type": "error",
     "traceback": [
      "\u001b[1;31m---------------------------------------------------------------------------\u001b[0m",
      "\u001b[1;31mTypeError\u001b[0m                                 Traceback (most recent call last)",
      "Cell \u001b[1;32mIn[17], line 69\u001b[0m\n\u001b[0;32m     54\u001b[0m df_TradeHistory \u001b[38;5;241m=\u001b[39m df_TradeHistory[\n\u001b[0;32m     55\u001b[0m     [\n\u001b[0;32m     56\u001b[0m         \u001b[38;5;124m\"\u001b[39m\u001b[38;5;124mdatetime\u001b[39m\u001b[38;5;124m\"\u001b[39m,\n\u001b[1;32m   (...)\u001b[0m\n\u001b[0;32m     64\u001b[0m     ]\n\u001b[0;32m     65\u001b[0m ]\n\u001b[0;32m     68\u001b[0m \u001b[38;5;66;03m# Save the result as a csv file\u001b[39;00m\n\u001b[1;32m---> 69\u001b[0m \u001b[43mdf_TradeHistory\u001b[49m\u001b[38;5;241;43m.\u001b[39;49m\u001b[43mto_csv\u001b[49m\u001b[43m(\u001b[49m\u001b[43mTradeHistoryGoldFile\u001b[49m\u001b[43m,\u001b[49m\u001b[43m \u001b[49m\u001b[43morient\u001b[49m\u001b[38;5;241;43m=\u001b[39;49m\u001b[38;5;124;43m\"\u001b[39;49m\u001b[38;5;124;43mrecords\u001b[39;49m\u001b[38;5;124;43m\"\u001b[39;49m\u001b[43m,\u001b[49m\u001b[43m \u001b[49m\u001b[43mindent\u001b[49m\u001b[38;5;241;43m=\u001b[39;49m\u001b[38;5;241;43m4\u001b[39;49m\u001b[43m)\u001b[49m\n\u001b[0;32m     70\u001b[0m df_TradeHistory\u001b[38;5;241m.\u001b[39minfo()\n\u001b[0;32m     71\u001b[0m \u001b[38;5;28mprint\u001b[39m(\u001b[38;5;124m\"\u001b[39m\u001b[38;5;124mGold Layer csv file for trade history successfully created at:\u001b[39m\u001b[38;5;124m\"\u001b[39m)\n",
      "\u001b[1;31mTypeError\u001b[0m: NDFrame.to_csv() got an unexpected keyword argument 'orient'"
     ]
    }
   ],
   "source": [
    "# read the csv file\n",
    "df_TradeHistory = pd.read_csv(TradeHistorySilverFile)  # , convert_dates=False\n",
    "\n",
    "# # Filter Equity trades\n",
    "df_TradeHistory = df_TradeHistory[df_TradeHistory[\"segment\"] == \"EQ\"]\n",
    "\n",
    "# replace scrip code to compnay name\n",
    "df_Equity = pd.read_csv(EquitySilverFile)\n",
    "df_Equity[\"security_code\"] = df_Equity[\"security_code\"].astype(str)\n",
    "\n",
    "# Merge df_TradeHistory with df_Equity on the matching columns\n",
    "df_TradeHistory = df_TradeHistory.merge(\n",
    "    df_Equity[[\"security_code\", \"security_id\"]],\n",
    "    left_on=\"scrip_code\",\n",
    "    right_on=\"security_code\",\n",
    "    how=\"left\",\n",
    ")\n",
    "\n",
    "\n",
    "# Assign the new column 'stock_name' in df_TradeHistory to the values from 'security_id'\n",
    "df_TradeHistory[\"stock_name\"] = df_TradeHistory[\"security_id\"].combine_first(\n",
    "    df_TradeHistory[\"company\"]\n",
    ")\n",
    "\n",
    "\n",
    "# sort the dataframe by date\n",
    "df_TradeHistory = df_TradeHistory.sort_values(by=\"datetime\")\n",
    "\n",
    "data_dict = list()\n",
    "trade_history = dict()\n",
    "for _, row in df_TradeHistory.iterrows():\n",
    "    stock_name = row[\"stock_name\"]\n",
    "    if stock_name not in trade_history:\n",
    "        trade_history[stock_name] = TradeHistory(stock_name)\n",
    "\n",
    "    if str(row[\"trade_type\"]).upper() == \"BUY\":\n",
    "        row[\"buy_price\"] = row[\"trade_price\"]\n",
    "        trade_history[stock_name].trade_price.append(row[\"trade_price\"])\n",
    "        trade_history[stock_name].trade_quantity.append(row[\"trade_quantity\"])\n",
    "    elif str(row[\"trade_type\"]).upper() == \"SELL\":\n",
    "        row[\"sell_price\"] = row[\"trade_price\"]\n",
    "        row[\"buy_price\"] = trade_history[stock_name].fifo_sell_calc(\n",
    "            row[\"trade_quantity\"]\n",
    "        )\n",
    "    else:\n",
    "        raise Exception(f'{row[\"trade_type\"]} was never excepected')\n",
    "\n",
    "    row[\"holding_quantity\"] = trade_history[stock_name].holding_quantity()\n",
    "    row[\"avg_price\"] = trade_history[stock_name].calc_avg_price()\n",
    "    data_dict.append(row)\n",
    "\n",
    "df_TradeHistory = pd.DataFrame(data_dict)\n",
    "df_TradeHistory = df_TradeHistory.round(2)\n",
    "df_TradeHistory = df_TradeHistory[\n",
    "    [\n",
    "        \"datetime\",\n",
    "        \"stock_name\",\n",
    "        \"trade_type\",\n",
    "        \"trade_quantity\",\n",
    "        \"buy_price\",\n",
    "        \"sell_price\",\n",
    "        \"holding_quantity\",\n",
    "        \"avg_price\",\n",
    "    ]\n",
    "]\n",
    "\n",
    "\n",
    "# Save the result as a csv file\n",
    "df_TradeHistory.to_csv(TradeHistoryGoldFile, index=None)\n",
    "df_TradeHistory.info()\n",
    "print(\"Gold Layer csv file for trade history successfully created at:\")\n",
    "print(TradeHistoryGoldFile.resolve())"
   ]
  },
  {
   "cell_type": "code",
   "execution_count": null,
   "metadata": {},
   "outputs": [],
   "source": []
  }
 ],
 "metadata": {
  "kernelspec": {
   "display_name": "Python 3",
   "language": "python",
   "name": "python3"
  },
  "language_info": {
   "codemirror_mode": {
    "name": "ipython",
    "version": 3
   },
   "file_extension": ".py",
   "mimetype": "text/x-python",
   "name": "python",
   "nbconvert_exporter": "python",
   "pygments_lexer": "ipython3",
   "version": "3.11.4"
  }
 },
 "nbformat": 4,
 "nbformat_minor": 2
}
