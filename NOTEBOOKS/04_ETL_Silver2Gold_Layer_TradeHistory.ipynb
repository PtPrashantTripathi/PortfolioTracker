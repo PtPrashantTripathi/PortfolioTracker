{
 "cells": [
  {
   "cell_type": "markdown",
   "metadata": {},
   "source": [
    "## SILVER TO GOLD LAYER\n"
   ]
  },
  {
   "cell_type": "code",
   "execution_count": 34,
   "metadata": {},
   "outputs": [],
   "source": [
    "import pandas as pd\n",
    "from global_paths import GlobalPaths\n",
    "from common_utilities import TradeHistory"
   ]
  },
  {
   "cell_type": "markdown",
   "metadata": {},
   "source": [
    "### TradeHistory Paths\n"
   ]
  },
  {
   "cell_type": "code",
   "execution_count": 35,
   "metadata": {},
   "outputs": [],
   "source": [
    "# Initialize TradeHistory Paths\n",
    "TradeHistoryPath = GlobalPaths(source_name=\"DATA\", object_name=\"TradeHistory\")\n",
    "TradeHistorySilverPath = TradeHistoryPath.createLayer(layer_name=\"SILVER\")\n",
    "TradeHistorySilverFile = TradeHistorySilverPath.joinpath(\"TradeHistory_data.csv\")\n",
    "TradeHistoryGoldPath = TradeHistoryPath.createLayer(layer_name=\"GOLD\")\n",
    "TradeHistoryGoldFile = TradeHistoryGoldPath.joinpath(\"TradeHistory_data.csv\")\n",
    "\n",
    "# Initialize Symbol Paths\n",
    "SymbolPath = GlobalPaths(source_name=\"DATA\", object_name=\"Symbol\")\n",
    "SymbolSilverPath = SymbolPath.createLayer(layer_name=\"SILVER\")\n",
    "SymbolSilverFile = SymbolSilverPath.joinpath(\"Symbol_data.csv\")"
   ]
  },
  {
   "cell_type": "markdown",
   "metadata": {},
   "source": [
    "### Gold Layer - Trade History\n"
   ]
  },
  {
   "cell_type": "code",
   "execution_count": 36,
   "metadata": {},
   "outputs": [
    {
     "name": "stdout",
     "output_type": "stream",
     "text": [
      "<class 'pandas.core.frame.DataFrame'>\n",
      "Index: 139 entries, 0 to 138\n",
      "Data columns (total 9 columns):\n",
      " #   Column            Non-Null Count  Dtype         \n",
      "---  ------            --------------  -----         \n",
      " 0   datetime          139 non-null    datetime64[ns]\n",
      " 1   segment           139 non-null    object        \n",
      " 2   stock_name        139 non-null    object        \n",
      " 3   trade_type        139 non-null    object        \n",
      " 4   trade_quantity    139 non-null    float64       \n",
      " 5   buy_price         139 non-null    float64       \n",
      " 6   sell_price        67 non-null     float64       \n",
      " 7   holding_quantity  139 non-null    float64       \n",
      " 8   avg_price         139 non-null    float64       \n",
      "dtypes: datetime64[ns](1), float64(5), object(3)\n",
      "memory usage: 10.9+ KB\n",
      "Gold Layer csv file for trade history successfully created at:\n",
      "C:\\Users\\prashant.tripathi\\Code\\Upstox\\DATA\\GOLD\\TradeHistory\\TradeHistory_data.csv\n"
     ]
    }
   ],
   "source": [
    "# read the csv file\n",
    "df_TradeHistory = pd.read_csv(TradeHistorySilverFile)\n",
    "\n",
    "# replace scrip code to compnay name\n",
    "df_Symbol = pd.read_csv(SymbolSilverFile)\n",
    "df_Symbol[\"scrip_code\"] = df_Symbol[\"scrip_code\"].astype(str)\n",
    "\n",
    "# Convert 'datetime' to datetime type\n",
    "df_TradeHistory[\"datetime\"] = pd.to_datetime(df_TradeHistory[\"datetime\"])\n",
    "\n",
    "# Merge df_TradeHistory with df_Symbol on the matching columns\n",
    "df_TradeHistory = df_TradeHistory.merge(\n",
    "    df_Symbol[[\"scrip_code\", \"security_id\"]],\n",
    "    left_on=\"scrip_code\",\n",
    "    right_on=\"scrip_code\",\n",
    "    how=\"left\",\n",
    ")\n",
    "\n",
    "\n",
    "# Assign the new column 'stock_name' in df_TradeHistory to the values from 'security_id'\n",
    "df_TradeHistory[\"stock_name\"] = df_TradeHistory[\"security_id\"].combine_first(\n",
    "    df_TradeHistory[\"company\"]\n",
    ")\n",
    "\n",
    "\n",
    "# sort the dataframe by date\n",
    "df_TradeHistory = df_TradeHistory.sort_values(by=\"datetime\")\n",
    "\n",
    "data_dict = list()\n",
    "trade_history = dict()\n",
    "for _, row in df_TradeHistory.iterrows():\n",
    "    stock_name = row[\"stock_name\"]\n",
    "    if stock_name not in trade_history:\n",
    "        trade_history[stock_name] = TradeHistory(stock_name)\n",
    "\n",
    "    if str(row[\"trade_type\"]).upper() == \"BUY\":\n",
    "        row[\"buy_price\"] = row[\"trade_price\"]\n",
    "        trade_history[stock_name].trade_price.append(row[\"trade_price\"])\n",
    "        trade_history[stock_name].trade_quantity.append(row[\"trade_quantity\"])\n",
    "    elif str(row[\"trade_type\"]).upper() == \"SELL\":\n",
    "        row[\"sell_price\"] = row[\"trade_price\"]\n",
    "        row[\"buy_price\"] = trade_history[stock_name].fifo_sell_calc(\n",
    "            row[\"trade_quantity\"]\n",
    "        )\n",
    "    else:\n",
    "        raise Exception(f'{row[\"trade_type\"]} was never excepected')\n",
    "\n",
    "    row[\"holding_quantity\"] = trade_history[stock_name].holding_quantity()\n",
    "    row[\"avg_price\"] = trade_history[stock_name].calc_avg_price()\n",
    "    data_dict.append(row)\n",
    "\n",
    "df_TradeHistory = pd.DataFrame(data_dict)\n",
    "df_TradeHistory = df_TradeHistory.round(2)\n",
    "df_TradeHistory = df_TradeHistory[\n",
    "    [\n",
    "        \"datetime\",\n",
    "        \"segment\",\n",
    "        \"stock_name\",\n",
    "        \"trade_type\",\n",
    "        \"trade_quantity\",\n",
    "        \"buy_price\",\n",
    "        \"sell_price\",\n",
    "        \"holding_quantity\",\n",
    "        \"avg_price\",\n",
    "    ]\n",
    "]\n",
    "\n",
    "\n",
    "# Save the result as a csv file\n",
    "df_TradeHistory.to_csv(TradeHistoryGoldFile, index=None)\n",
    "df_TradeHistory.info()\n",
    "print(\"Gold Layer csv file for trade history successfully created at:\")\n",
    "print(TradeHistoryGoldFile.resolve())"
   ]
  },
  {
   "cell_type": "code",
   "execution_count": null,
   "metadata": {},
   "outputs": [],
   "source": []
  }
 ],
 "metadata": {
  "kernelspec": {
   "display_name": "Python 3",
   "language": "python",
   "name": "python3"
  },
  "language_info": {
   "codemirror_mode": {
    "name": "ipython",
    "version": 3
   },
   "file_extension": ".py",
   "mimetype": "text/x-python",
   "name": "python",
   "nbconvert_exporter": "python",
   "pygments_lexer": "ipython3",
   "version": "3.11.4"
  }
 },
 "nbformat": 4,
 "nbformat_minor": 2
}
