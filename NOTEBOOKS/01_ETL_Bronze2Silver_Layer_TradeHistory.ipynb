{
 "cells": [
  {
   "cell_type": "markdown",
   "metadata": {},
   "source": [
    "## BRONZE TO SILVER LAYER\n"
   ]
  },
  {
   "cell_type": "code",
   "execution_count": 4,
   "metadata": {},
   "outputs": [],
   "source": [
    "import pandas as pd\n",
    "from common_utilities import GlobalPaths,replace_punctuation_from_columns"
   ]
  },
  {
   "cell_type": "markdown",
   "metadata": {},
   "source": [
    "### TradeHistory Paths\n"
   ]
  },
  {
   "cell_type": "code",
   "execution_count": 5,
   "metadata": {},
   "outputs": [],
   "source": [
    "# Initialize TradeHistory Paths\n",
    "TradeHistoryGlobalPath = GlobalPaths(source_name=\"DATA\", object_name=\"TradeHistory\")\n",
    "TradeHistoryBronzeLayerPath = TradeHistoryGlobalPath.createLayer(layer_name=\"BRONZE\")\n",
    "TradeHistorySilverLayerPath = TradeHistoryGlobalPath.createLayer(layer_name=\"SILVER\")\n",
    "TradeHistorySilverFilePath = TradeHistorySilverLayerPath.joinpath(\"TradeHistory_data.csv\")"
   ]
  },
  {
   "cell_type": "markdown",
   "metadata": {},
   "source": [
    "### Bronze Layer - Trade History\n"
   ]
  },
  {
   "cell_type": "code",
   "execution_count": 6,
   "metadata": {},
   "outputs": [
    {
     "name": "stdout",
     "output_type": "stream",
     "text": [
      "<class 'pandas.core.frame.DataFrame'>\n",
      "Index: 139 entries, 17 to 42\n",
      "Data columns (total 9 columns):\n",
      " #   Column          Non-Null Count  Dtype         \n",
      "---  ------          --------------  -----         \n",
      " 0   datetime        139 non-null    datetime64[ns]\n",
      " 1   exchange        139 non-null    object        \n",
      " 2   segment         139 non-null    object        \n",
      " 3   company         139 non-null    object        \n",
      " 4   scrip_code      139 non-null    object        \n",
      " 5   trade_type      139 non-null    object        \n",
      " 6   amount          139 non-null    float64       \n",
      " 7   trade_quantity  139 non-null    float64       \n",
      " 8   trade_price     139 non-null    float64       \n",
      "dtypes: datetime64[ns](1), float64(3), object(5)\n",
      "memory usage: 10.9+ KB\n",
      "Silver Layer csv file for trade history successfully created at:\n",
      "C:\\Users\\prashant.tripathi\\Code\\Upstox\\DATA\\SILVER\\TradeHistory\\TradeHistory_data.csv\n"
     ]
    }
   ],
   "source": [
    "# Initialize an empty list to store DataFrames\n",
    "df_TradeHistory = []\n",
    "\n",
    "# Loop through List of all CSV files in the folder\n",
    "for file_path in TradeHistoryBronzeLayerPath.glob(\"*.csv\"):\n",
    "    # Read the CSV file\n",
    "    df = pd.read_csv(file_path)\n",
    "    # Append the DataFrame to the list\n",
    "    df_TradeHistory.append(df)\n",
    "\n",
    "# Concatenate all DataFrames into one\n",
    "df_TradeHistory = pd.concat(df_TradeHistory, ignore_index=True)\n",
    "df_TradeHistory.columns = replace_punctuation_from_columns(df_TradeHistory.columns)\n",
    "df_TradeHistory.dropna(how=\"all\", axis=1, inplace=True)\n",
    "\n",
    "# Convert 'trade_num' to int\n",
    "df_TradeHistory[\"trade_num\"] = df_TradeHistory[\"trade_num\"].fillna(0).astype(int)\n",
    "\n",
    "# Remove the currency symbol and commas, then convert to float\n",
    "df_TradeHistory[\"amount\"] = (\n",
    "    df_TradeHistory[\"amount\"].replace(\"[₹,]\", \"\", regex=True).astype(float)\n",
    ")\n",
    "\n",
    "df_TradeHistory[\"price\"] = (\n",
    "    df_TradeHistory[\"price\"].replace(\"[₹,]\", \"\", regex=True).astype(float)\n",
    ")\n",
    "\n",
    "# Add Datetime Col\n",
    "df_TradeHistory[\"datetime\"] = pd.to_datetime(\n",
    "    df_TradeHistory[\"date\"] + \" \" + df_TradeHistory[\"trade_time\"].fillna(\"00:00:00\"),\n",
    "    format=\"%d-%m-%Y %H:%M:%S\",\n",
    ")\n",
    "\n",
    "# Convert 'expiry' to desired string format\n",
    "df_TradeHistory[\"expiry\"] = pd.to_datetime(df_TradeHistory[\"expiry\"], format=\"%d-%m-%Y\")\n",
    "df_TradeHistory[\"expiry\"] = df_TradeHistory[\"expiry\"].dt.strftime(\"%d%b%Y\")\n",
    "\n",
    "# Convert the 'side' column in df_TradeHistory to uppercase\n",
    "df_TradeHistory[\"side\"] = df_TradeHistory[\"side\"].str.upper()\n",
    "\n",
    "# Function to apply the conditional concatenation\n",
    "def concat_company(row):\n",
    "    if row[\"instrument_type\"] == \"European Call\":\n",
    "        return row[\"company\"] + \"-CE-\" + str(row[\"strike_price\"]) + \"-\" + row[\"expiry\"]\n",
    "    elif row[\"instrument_type\"] == \"European Put\":\n",
    "        return row[\"company\"] + \"-PE-\" + str(row[\"strike_price\"]) + \"-\" + row[\"expiry\"]\n",
    "    else:\n",
    "        return row[\"company\"]\n",
    "\n",
    "# Apply the function to the DataFrame\n",
    "df_TradeHistory[\"company\"] = df_TradeHistory.apply(concat_company, axis=1)\n",
    "\n",
    "# Rename\n",
    "df_TradeHistory = df_TradeHistory.rename(\n",
    "    columns={\n",
    "        \"side\": \"trade_type\",\n",
    "        \"quantity\": \"trade_quantity\",\n",
    "        \"price\": \"trade_price\",\n",
    "    }\n",
    ")\n",
    "\n",
    "# sort the dataframe by date\n",
    "df_TradeHistory = df_TradeHistory.sort_values(by=[\"datetime\", \"company\"])\n",
    "\n",
    "\n",
    "df_TradeHistory = df_TradeHistory[\n",
    "    [\n",
    "        \"datetime\",\n",
    "        \"exchange\",\n",
    "        \"segment\",\n",
    "        \"company\",\n",
    "        \"scrip_code\",\n",
    "        \"trade_type\",\n",
    "        \"amount\",\n",
    "        \"trade_quantity\",\n",
    "        \"trade_price\",\n",
    "    ]\n",
    "]\n",
    "\n",
    "# Save the result as a csv file\n",
    "df_TradeHistory.to_csv(TradeHistorySilverFilePath, index=None)\n",
    "df_TradeHistory.info()\n",
    "\n",
    "print(\"Silver Layer csv file for trade history successfully created at:\")\n",
    "print(TradeHistorySilverFilePath.resolve())"
   ]
  }
 ],
 "metadata": {
  "kernelspec": {
   "display_name": "Python 3",
   "language": "python",
   "name": "python3"
  },
  "language_info": {
   "codemirror_mode": {
    "name": "ipython",
    "version": 3
   },
   "file_extension": ".py",
   "mimetype": "text/x-python",
   "name": "python",
   "nbconvert_exporter": "python",
   "pygments_lexer": "ipython3",
   "version": "3.11.4"
  }
 },
 "nbformat": 4,
 "nbformat_minor": 2
}
