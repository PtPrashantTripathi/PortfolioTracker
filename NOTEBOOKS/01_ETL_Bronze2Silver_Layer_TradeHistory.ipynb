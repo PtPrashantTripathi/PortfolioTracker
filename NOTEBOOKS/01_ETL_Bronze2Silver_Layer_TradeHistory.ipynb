{
 "cells": [
  {
   "cell_type": "markdown",
   "metadata": {},
   "source": [
    "## BRONZE TO SILVER LAYER\n"
   ]
  },
  {
   "cell_type": "code",
   "execution_count": 2,
   "metadata": {},
   "outputs": [],
   "source": [
    "import pandas as pd\n",
    "from common_utilities import replace_punctuation_from_columns\n",
    "from global_paths import TradeHistoryBronzeLayerPath,TradeHistorySilverFilePath"
   ]
  },
  {
   "cell_type": "markdown",
   "metadata": {},
   "source": [
    "### Bronze Layer - Trade History\n"
   ]
  },
  {
   "cell_type": "code",
   "execution_count": 3,
   "metadata": {},
   "outputs": [
    {
     "name": "stdout",
     "output_type": "stream",
     "text": [
      "<class 'pandas.core.frame.DataFrame'>\n",
      "Index: 166 entries, 17 to 40\n",
      "Data columns (total 9 columns):\n",
      " #   Column          Non-Null Count  Dtype         \n",
      "---  ------          --------------  -----         \n",
      " 0   datetime        166 non-null    datetime64[ns]\n",
      " 1   exchange        166 non-null    object        \n",
      " 2   segment         166 non-null    object        \n",
      " 3   company         166 non-null    object        \n",
      " 4   scrip_code      166 non-null    object        \n",
      " 5   trade_type      166 non-null    object        \n",
      " 6   amount          166 non-null    float64       \n",
      " 7   trade_quantity  166 non-null    float64       \n",
      " 8   trade_price     166 non-null    float64       \n",
      "dtypes: datetime64[ns](1), float64(3), object(5)\n",
      "memory usage: 13.0+ KB\n",
      "Silver Layer csv file for trade history successfully created at:\n",
      "C:\\Users\\prashant.tripathi\\Code\\Upstox\\DATA\\SILVER\\TradeHistory\\TradeHistory_data.csv\n"
     ]
    }
   ],
   "source": [
    "# Initialize an empty list to store DataFrames\n",
    "df_TradeHistory = []\n",
    "\n",
    "# Loop through List of all CSV files in the folder\n",
    "for file_path in TradeHistoryBronzeLayerPath.glob(\"*.csv\"):\n",
    "    # Read the CSV file\n",
    "    df = pd.read_csv(file_path)\n",
    "    # Append the DataFrame to the list\n",
    "    df_TradeHistory.append(df)\n",
    "\n",
    "# Concatenate all DataFrames into one\n",
    "df_TradeHistory = pd.concat(df_TradeHistory, ignore_index=True)\n",
    "df_TradeHistory.columns = replace_punctuation_from_columns(df_TradeHistory.columns)\n",
    "df_TradeHistory.dropna(how=\"all\", axis=1, inplace=True)\n",
    "\n",
    "# Convert 'trade_num' to int\n",
    "df_TradeHistory[\"trade_num\"] = df_TradeHistory[\"trade_num\"].fillna(0).astype(int)\n",
    "\n",
    "# Remove the currency symbol and commas, then convert to float\n",
    "df_TradeHistory[\"amount\"] = (\n",
    "    df_TradeHistory[\"amount\"].replace(\"[₹,]\", \"\", regex=True).astype(float)\n",
    ")\n",
    "\n",
    "df_TradeHistory[\"price\"] = (\n",
    "    df_TradeHistory[\"price\"].replace(\"[₹,]\", \"\", regex=True).astype(float)\n",
    ")\n",
    "\n",
    "# Add Datetime Col\n",
    "df_TradeHistory[\"datetime\"] = pd.to_datetime(\n",
    "    df_TradeHistory[\"date\"] + \" \" + df_TradeHistory[\"trade_time\"].fillna(\"00:00:00\"),\n",
    "    format=\"%d-%m-%Y %H:%M:%S\",\n",
    ")\n",
    "\n",
    "# Convert 'expiry' to desired string format\n",
    "df_TradeHistory[\"expiry\"] = pd.to_datetime(df_TradeHistory[\"expiry\"], format=\"%d-%m-%Y\")\n",
    "df_TradeHistory[\"expiry\"] = df_TradeHistory[\"expiry\"].dt.strftime(\"%d%b%Y\")\n",
    "\n",
    "# Convert the 'side' column in df_TradeHistory to uppercase\n",
    "df_TradeHistory[\"side\"] = df_TradeHistory[\"side\"].str.upper()\n",
    "\n",
    "# Function to apply the conditional concatenation\n",
    "def concat_company(row):\n",
    "    if row[\"instrument_type\"] == \"European Call\":\n",
    "        return row[\"company\"] + \"-CE-\" + str(row[\"strike_price\"]) + \"-\" + row[\"expiry\"]\n",
    "    elif row[\"instrument_type\"] == \"European Put\":\n",
    "        return row[\"company\"] + \"-PE-\" + str(row[\"strike_price\"]) + \"-\" + row[\"expiry\"]\n",
    "    else:\n",
    "        return row[\"company\"]\n",
    "\n",
    "# Apply the function to the DataFrame\n",
    "df_TradeHistory[\"company\"] = df_TradeHistory.apply(concat_company, axis=1)\n",
    "\n",
    "# Rename\n",
    "df_TradeHistory = df_TradeHistory.rename(\n",
    "    columns={\n",
    "        \"side\": \"trade_type\",\n",
    "        \"quantity\": \"trade_quantity\",\n",
    "        \"price\": \"trade_price\",\n",
    "    }\n",
    ")\n",
    "\n",
    "# sort the dataframe by date\n",
    "df_TradeHistory = df_TradeHistory.sort_values(by=[\"datetime\", \"company\"])\n",
    "\n",
    "\n",
    "df_TradeHistory = df_TradeHistory[\n",
    "    [\n",
    "        \"datetime\",\n",
    "        \"exchange\",\n",
    "        \"segment\",\n",
    "        \"company\",\n",
    "        \"scrip_code\",\n",
    "        \"trade_type\",\n",
    "        \"amount\",\n",
    "        \"trade_quantity\",\n",
    "        \"trade_price\",\n",
    "    ]\n",
    "]\n",
    "\n",
    "# Save the result as a csv file\n",
    "df_TradeHistory.to_csv(TradeHistorySilverFilePath, index=None)\n",
    "df_TradeHistory.info()\n",
    "\n",
    "print(\"Silver Layer csv file for trade history successfully created at:\")\n",
    "print(TradeHistorySilverFilePath.resolve())"
   ]
  }
 ],
 "metadata": {
  "kernelspec": {
   "display_name": "Python 3",
   "language": "python",
   "name": "python3"
  },
  "language_info": {
   "codemirror_mode": {
    "name": "ipython",
    "version": 3
   },
   "file_extension": ".py",
   "mimetype": "text/x-python",
   "name": "python",
   "nbconvert_exporter": "python",
   "pygments_lexer": "ipython3",
   "version": "3.11.4"
  }
 },
 "nbformat": 4,
 "nbformat_minor": 2
}
