{
 "cells": [
  {
   "cell_type": "markdown",
   "metadata": {},
   "source": [
    "## BRONZE TO SILVER LAYER\n"
   ]
  },
  {
   "cell_type": "code",
   "execution_count": 1,
   "metadata": {},
   "outputs": [],
   "source": [
    "import pandas as pd\n",
    "from global_paths import GlobalPaths\n",
    "from common_utilities import replace_punctuation_from_columns"
   ]
  },
  {
   "cell_type": "markdown",
   "metadata": {},
   "source": [
    "### TradeHistory Paths\n"
   ]
  },
  {
   "cell_type": "code",
   "execution_count": 2,
   "metadata": {},
   "outputs": [],
   "source": [
    "# Initialize TradeHistory Paths\n",
    "TradeHistoryPath = GlobalPaths(source_name=\"DATA\", object_name=\"TradeHistory\")\n",
    "TradeHistoryBronzePath = TradeHistoryPath.createLayer(layer_name=\"BRONZE\")\n",
    "TradeHistorySilverPath = TradeHistoryPath.createLayer(layer_name=\"SILVER\")\n",
    "TradeHistorySilverFile = TradeHistorySilverPath.joinpath(\"TradeHistory_data.csv\")"
   ]
  },
  {
   "cell_type": "markdown",
   "metadata": {},
   "source": [
    "### Bronze Layer - Trade History\n"
   ]
  },
  {
   "cell_type": "code",
   "execution_count": 3,
   "metadata": {},
   "outputs": [
    {
     "name": "stdout",
     "output_type": "stream",
     "text": [
      "<class 'pandas.core.frame.DataFrame'>\n",
      "Index: 139 entries, 17 to 42\n",
      "Data columns (total 13 columns):\n",
      " #   Column           Non-Null Count  Dtype         \n",
      "---  ------           --------------  -----         \n",
      " 0   datetime         139 non-null    datetime64[ns]\n",
      " 1   trade_num        139 non-null    int32         \n",
      " 2   exchange         139 non-null    object        \n",
      " 3   segment          139 non-null    object        \n",
      " 4   company          139 non-null    object        \n",
      " 5   instrument_type  139 non-null    object        \n",
      " 6   scrip_code       139 non-null    object        \n",
      " 7   strike_price     139 non-null    object        \n",
      " 8   expiry           93 non-null     datetime64[ns]\n",
      " 9   trade_type       139 non-null    object        \n",
      " 10  amount           139 non-null    float64       \n",
      " 11  trade_quantity   139 non-null    float64       \n",
      " 12  trade_price      139 non-null    float64       \n",
      "dtypes: datetime64[ns](2), float64(3), int32(1), object(7)\n",
      "memory usage: 14.7+ KB\n",
      "Silver Layer csv file for trade history successfully created at:\n",
      "C:\\Users\\prashant.tripathi\\Code\\Upstox\\DATA\\SILVER\\TradeHistory\\TradeHistory_data.csv\n"
     ]
    }
   ],
   "source": [
    "\n",
    "# Initialize an empty list to store DataFrames\n",
    "dfs = []\n",
    "\n",
    "# Loop through List of all CSV files in the folder\n",
    "for file_path in TradeHistoryBronzePath.glob(\"*.csv\"):\n",
    "    # Read the CSV file\n",
    "    df_bronze = pd.read_csv(file_path)\n",
    "    # Append the DataFrame to the list\n",
    "    dfs.append(df_bronze)\n",
    "\n",
    "# Concatenate all DataFrames into one\n",
    "df_TradeHistory = pd.concat(dfs, ignore_index=True)\n",
    "\n",
    "df_TradeHistory.columns = replace_punctuation_from_columns(df_TradeHistory.columns)\n",
    "df_TradeHistory.dropna(how=\"all\", axis=1, inplace=True)\n",
    "\n",
    "# Convert 'trade_num' to int\n",
    "df_TradeHistory[\"trade_num\"] = df_TradeHistory[\"trade_num\"].fillna(0).astype(int)\n",
    "\n",
    "# Remove the currency symbol and commas, then convert to float\n",
    "df_TradeHistory[\"amount\"] = (\n",
    "    df_TradeHistory[\"amount\"].replace(\"[₹,]\", \"\", regex=True).astype(float)\n",
    ")\n",
    "df_TradeHistory[\"price\"] = (\n",
    "    df_TradeHistory[\"price\"].replace(\"[₹,]\", \"\", regex=True).astype(float)\n",
    ")\n",
    "\n",
    "# Add Datetime Col\n",
    "df_TradeHistory[\"datetime\"] = pd.to_datetime(\n",
    "    df_TradeHistory[\"date\"] + \" \" + df_TradeHistory[\"trade_time\"].fillna(\"00:00:00\"),\n",
    "    format=\"%d-%m-%Y %H:%M:%S\",\n",
    ")\n",
    "\n",
    "# Convert the 'expiry' column in df_TradeHistory from string to datetime format (day-month-year)\n",
    "df_TradeHistory[\"expiry\"] = pd.to_datetime(\n",
    "    df_TradeHistory[\"expiry\"], format=\"%d-%m-%Y\"\n",
    ")\n",
    "\n",
    "# Convert the 'side' column in df_TradeHistory to uppercase\n",
    "df_TradeHistory[\"side\"] = df_TradeHistory[\"side\"].str.upper()\n",
    "\n",
    "# sort the dataframe by date\n",
    "df_TradeHistory = df_TradeHistory.sort_values(by=[\"datetime\", \"company\"])\n",
    "\n",
    "df_TradeHistory = df_TradeHistory.rename(\n",
    "    columns={\n",
    "        \"side\": \"trade_type\",\n",
    "        \"quantity\": \"trade_quantity\",\n",
    "        \"price\": \"trade_price\",\n",
    "    }\n",
    ")\n",
    "\n",
    "\n",
    "df_TradeHistory = df_TradeHistory[\n",
    "    [\n",
    "        \"datetime\",\n",
    "        \"trade_num\",\n",
    "        \"exchange\",\n",
    "        \"segment\",\n",
    "        \"company\",\n",
    "        \"instrument_type\",\n",
    "        \"scrip_code\",\n",
    "        \"strike_price\",\n",
    "        \"expiry\",\n",
    "        \"trade_type\",\n",
    "        \"amount\",\n",
    "        \"trade_quantity\",\n",
    "        \"trade_price\",\n",
    "    ]\n",
    "]\n",
    "\n",
    "# Save the result as a csv file\n",
    "df_TradeHistory.to_csv(TradeHistorySilverFile, index=None)\n",
    "df_TradeHistory.info()\n",
    "\n",
    "print(\"Silver Layer csv file for trade history successfully created at:\")\n",
    "print(TradeHistorySilverFile.resolve())"
   ]
  }
 ],
 "metadata": {
  "kernelspec": {
   "display_name": "Python 3",
   "language": "python",
   "name": "python3"
  },
  "language_info": {
   "codemirror_mode": {
    "name": "ipython",
    "version": 3
   },
   "file_extension": ".py",
   "mimetype": "text/x-python",
   "name": "python",
   "nbconvert_exporter": "python",
   "pygments_lexer": "ipython3",
   "version": "3.11.4"
  }
 },
 "nbformat": 4,
 "nbformat_minor": 2
}
