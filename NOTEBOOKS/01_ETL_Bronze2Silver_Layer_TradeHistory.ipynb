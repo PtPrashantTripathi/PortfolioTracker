{
 "cells": [
  {
   "cell_type": "markdown",
   "metadata": {},
   "source": [
    "## BRONZE TO SILVER LAYER\n"
   ]
  },
  {
   "cell_type": "code",
   "execution_count": 1,
   "metadata": {
    "execution": {
     "iopub.execute_input": "2024-07-24T18:19:51.606498Z",
     "iopub.status.busy": "2024-07-24T18:19:51.603785Z",
     "iopub.status.idle": "2024-07-24T18:19:53.354799Z",
     "shell.execute_reply": "2024-07-24T18:19:53.352647Z"
    }
   },
   "outputs": [],
   "source": [
    "import pandas as pd\n",
    "from common_utilities import replace_punctuation_from_columns, global_path"
   ]
  },
  {
   "cell_type": "markdown",
   "metadata": {},
   "source": [
    "### Bronze Layer - Trade History\n"
   ]
  },
  {
   "cell_type": "code",
   "execution_count": 2,
   "metadata": {
    "execution": {
     "iopub.execute_input": "2024-07-24T18:19:53.365278Z",
     "iopub.status.busy": "2024-07-24T18:19:53.363342Z",
     "iopub.status.idle": "2024-07-24T18:19:53.491587Z",
     "shell.execute_reply": "2024-07-24T18:19:53.489424Z"
    }
   },
   "outputs": [
    {
     "name": "stdout",
     "output_type": "stream",
     "text": [
      "<class 'pandas.core.frame.DataFrame'>\n",
      "Index: 171 entries, 17 to 43\n",
      "Data columns (total 9 columns):\n",
      " #   Column      Non-Null Count  Dtype         \n",
      "---  ------      --------------  -----         \n",
      " 0   datetime    171 non-null    datetime64[ns]\n",
      " 1   exchange    171 non-null    object        \n",
      " 2   segment     171 non-null    object        \n",
      " 3   stock_name  171 non-null    object        \n",
      " 4   scrip_code  171 non-null    object        \n",
      " 5   side        171 non-null    object        \n",
      " 6   amount      171 non-null    float64       \n",
      " 7   quantity    171 non-null    float64       \n",
      " 8   price       171 non-null    float64       \n",
      "dtypes: datetime64[ns](1), float64(3), object(5)\n",
      "memory usage: 13.4+ KB\n",
      "SILVER Layer csv file for trade history successfully created at:\n",
      "/storage/emulated/0/Upstox/DATA/SILVER/TradeHistory/TradeHistory_data.csv\n"
     ]
    },
    {
     "name": "stderr",
     "output_type": "stream",
     "text": [
      "/data/data/com.termux/files/usr/tmp/ipykernel_26519/2607471260.py:12: FutureWarning: The behavior of DataFrame concatenation with empty or all-NA entries is deprecated. In a future version, this will no longer exclude empty or all-NA columns when determining the result dtypes. To retain the old behavior, exclude the relevant entries before the concat operation.\n",
      "  df_TradeHistory = pd.concat(df_TradeHistory, ignore_index=True)\n"
     ]
    }
   ],
   "source": [
    "# Initialize an empty list to store DataFrames\n",
    "df_TradeHistory = []\n",
    "\n",
    "# Loop through List of all CSV files in the folder\n",
    "for file_path in global_path.tradehistory_bronze_layer_path.glob(\"*.csv\"):\n",
    "    # Read the CSV file\n",
    "    df = pd.read_csv(file_path)\n",
    "    # Append the DataFrame to the list\n",
    "    df_TradeHistory.append(df)\n",
    "\n",
    "# Concatenate all DataFrames into one\n",
    "df_TradeHistory = pd.concat(df_TradeHistory, ignore_index=True)\n",
    "df_TradeHistory.columns = replace_punctuation_from_columns(df_TradeHistory.columns)\n",
    "df_TradeHistory.dropna(how=\"all\", axis=1, inplace=True)\n",
    "\n",
    "# Convert 'trade_num' to int\n",
    "df_TradeHistory[\"trade_num\"] = df_TradeHistory[\"trade_num\"].fillna(0).astype(int)\n",
    "\n",
    "# Remove the currency symbol and commas, then convert to float\n",
    "df_TradeHistory[\"amount\"] = (\n",
    "    df_TradeHistory[\"amount\"].replace(\"[₹,]\", \"\", regex=True).astype(float)\n",
    ")\n",
    "\n",
    "df_TradeHistory[\"price\"] = (\n",
    "    df_TradeHistory[\"price\"].replace(\"[₹,]\", \"\", regex=True).astype(float)\n",
    ")\n",
    "\n",
    "# Add Datetime Col\n",
    "df_TradeHistory[\"datetime\"] = pd.to_datetime(\n",
    "    df_TradeHistory[\"date\"] + \" \" + df_TradeHistory[\"trade_time\"].fillna(\"00:00:00\"),\n",
    "    format=\"%d-%m-%Y %H:%M:%S\",\n",
    ")\n",
    "\n",
    "# Convert 'expiry' to desired string format\n",
    "df_TradeHistory[\"expiry\"] = pd.to_datetime(df_TradeHistory[\"expiry\"], format=\"%d-%m-%Y\")\n",
    "df_TradeHistory[\"expiry\"] = df_TradeHistory[\"expiry\"].dt.strftime(\"%d%b%Y\")\n",
    "\n",
    "# Convert the 'side' column in df_TradeHistory to uppercase\n",
    "df_TradeHistory[\"side\"] = df_TradeHistory[\"side\"].str.upper()\n",
    "\n",
    "\n",
    "# Function to apply the conditional concatenation\n",
    "def concat_stock_name(row):\n",
    "    if row[\"instrument_type\"] == \"European Call\":\n",
    "        return (\n",
    "            str(row[\"company\"])\n",
    "            + \"-CE-\"\n",
    "            + str(row[\"strike_price\"])\n",
    "            + \"-\"\n",
    "            + row[\"expiry\"]\n",
    "        )\n",
    "    elif row[\"instrument_type\"] == \"European Put\":\n",
    "        return (\n",
    "            str(row[\"company\"])\n",
    "            + \"-PE-\"\n",
    "            + str(row[\"strike_price\"])\n",
    "            + \"-\"\n",
    "            + row[\"expiry\"]\n",
    "        )\n",
    "    else:\n",
    "        return str(row[\"company\"])\n",
    "\n",
    "\n",
    "# Apply the function to the DataFrame\n",
    "df_TradeHistory[\"stock_name\"] = df_TradeHistory.apply(concat_stock_name, axis=1)\n",
    "\n",
    "# sort the dataframe by date\n",
    "df_TradeHistory = df_TradeHistory.sort_values(by=[\"datetime\", \"stock_name\"])\n",
    "\n",
    "\n",
    "df_TradeHistory = df_TradeHistory[\n",
    "    [\n",
    "        \"datetime\",\n",
    "        \"exchange\",\n",
    "        \"segment\",\n",
    "        \"stock_name\",\n",
    "        \"scrip_code\",\n",
    "        \"side\",\n",
    "        \"amount\",\n",
    "        \"quantity\",\n",
    "        \"price\",\n",
    "    ]\n",
    "]\n",
    "\n",
    "# Save the result as a csv file\n",
    "df_TradeHistory.to_csv(global_path.tradehistory_silver_file_path, index=None)\n",
    "df_TradeHistory.info()\n",
    "\n",
    "print(\"SILVER Layer csv file for trade history successfully created at:\")\n",
    "print(global_path.tradehistory_silver_file_path.resolve())"
   ]
  }
 ],
 "metadata": {
  "kernelspec": {
   "display_name": "Python 3",
   "language": "python",
   "name": "python3"
  },
  "language_info": {
   "codemirror_mode": {
    "name": "ipython",
    "version": 3
   },
   "file_extension": ".py",
   "mimetype": "text/x-python",
   "name": "python",
   "nbconvert_exporter": "python",
   "pygments_lexer": "ipython3",
   "version": "3.11.6"
  }
 },
 "nbformat": 4,
 "nbformat_minor": 2
}
