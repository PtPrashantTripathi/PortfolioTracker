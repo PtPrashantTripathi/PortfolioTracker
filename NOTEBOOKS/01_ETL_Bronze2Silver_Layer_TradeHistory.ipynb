{
 "cells": [
  {
   "cell_type": "markdown",
   "metadata": {},
   "source": [
    "## BRONZE TO SILVER LAYER\n"
   ]
  },
  {
   "cell_type": "code",
   "execution_count": 1,
   "metadata": {},
   "outputs": [],
   "source": [
    "import pandas as pd\n",
    "import os\n",
    "import pathlib\n",
    "from common_utilities import replace_punctuation_from_columns"
   ]
  },
  {
   "cell_type": "code",
   "execution_count": 2,
   "metadata": {},
   "outputs": [],
   "source": [
    "## Folder and File path\n",
    "cwd = pathlib.Path(os.getcwd())\n",
    "\n",
    "bronze_data_path = cwd.joinpath(\"../DATA/BRONZE\").resolve()\n",
    "\n",
    "silver_path = cwd.joinpath(\"../DATA/SILVER\")\n",
    "silver_path.mkdir(parents=True, exist_ok=True)"
   ]
  },
  {
   "cell_type": "markdown",
   "metadata": {},
   "source": [
    "### Bronze Layer - Trade History\n"
   ]
  },
  {
   "cell_type": "code",
   "execution_count": 3,
   "metadata": {},
   "outputs": [
    {
     "name": "stdout",
     "output_type": "stream",
     "text": [
      "<class 'pandas.core.frame.DataFrame'>\n",
      "Index: 46 entries, 17 to 40\n",
      "Data columns (total 14 columns):\n",
      " #   Column           Non-Null Count  Dtype  \n",
      "---  ------           --------------  -----  \n",
      " 0   date             46 non-null     object \n",
      " 1   company          46 non-null     object \n",
      " 2   amount           46 non-null     float64\n",
      " 3   exchange         46 non-null     object \n",
      " 4   segment          46 non-null     object \n",
      " 5   scrip_code       46 non-null     object \n",
      " 6   instrument_type  46 non-null     object \n",
      " 7   strike_price     46 non-null     object \n",
      " 8   expiry           2 non-null      object \n",
      " 9   trade_num        42 non-null     float64\n",
      " 10  trade_time       42 non-null     object \n",
      " 11  side             46 non-null     object \n",
      " 12  quantity         46 non-null     float64\n",
      " 13  price            46 non-null     float64\n",
      "dtypes: float64(4), object(10)\n",
      "memory usage: 6.4+ KB\n",
      "Silver Layer JSON file for trade history successfully created at:\n",
      "C:\\Users\\prashant.tripathi\\Code\\Unilever\\Upstox\\DATA\\SILVER\\TradeHistory.json\n"
     ]
    }
   ],
   "source": [
    "# Initialize an empty list to store DataFrames\n",
    "dfs = []\n",
    "\n",
    "# List all CSV files in the folder\n",
    "bronze_data_trade_history_file_path = bronze_data_path.joinpath(\"TRADE_HISTORY\")\n",
    "csv_files = bronze_data_trade_history_file_path.glob(\"*.csv\")\n",
    "\n",
    "# Loop through the CSV files\n",
    "for file_path in csv_files:\n",
    "    # Read the CSV file\n",
    "    df_bronze = pd.read_csv(file_path)\n",
    "    # Append the DataFrame to the list\n",
    "    dfs.append(df_bronze)\n",
    "\n",
    "# Concatenate all DataFrames into one\n",
    "df_trade_history = pd.concat(dfs, ignore_index=True)\n",
    "\n",
    "df_trade_history.columns = replace_punctuation_from_columns(df_trade_history.columns)\n",
    "df_trade_history.dropna(how=\"all\", axis=1, inplace=True)\n",
    "\n",
    "# sort the dataframe by date\n",
    "df_trade_history = df_trade_history.sort_values(by=[\"date\", \"trade_time\", \"company\"])\n",
    "\n",
    "# Save the result as a json file\n",
    "silver_trade_history_file_path = silver_path.joinpath(\"TradeHistory.json\")\n",
    "df_trade_history.to_json(silver_trade_history_file_path, orient=\"records\", indent=4)\n",
    "df_trade_history.info()\n",
    "\n",
    "print(\"Silver Layer JSON file for trade history successfully created at:\")\n",
    "print(silver_trade_history_file_path.resolve())"
   ]
  },
  {
   "cell_type": "code",
   "execution_count": null,
   "metadata": {},
   "outputs": [],
   "source": []
  }
 ],
 "metadata": {
  "kernelspec": {
   "display_name": "Python 3",
   "language": "python",
   "name": "python3"
  },
  "language_info": {
   "codemirror_mode": {
    "name": "ipython",
    "version": 3
   },
   "file_extension": ".py",
   "mimetype": "text/x-python",
   "name": "python",
   "nbconvert_exporter": "python",
   "pygments_lexer": "ipython3",
   "version": "3.11.4"
  }
 },
 "nbformat": 4,
 "nbformat_minor": 2
}
