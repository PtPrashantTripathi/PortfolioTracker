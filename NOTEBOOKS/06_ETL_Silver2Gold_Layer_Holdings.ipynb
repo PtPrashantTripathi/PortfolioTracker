{
 "cells": [
  {
   "cell_type": "markdown",
   "metadata": {},
   "source": [
    "## BRONZE TO SILVER LAYER\n"
   ]
  },
  {
   "cell_type": "code",
   "execution_count": null,
   "metadata": {},
   "outputs": [],
   "source": [
    "import pandas as pd\n",
    "from global_paths import TradeHistoryGoldFilePath,HoldingsGoldFilePath"
   ]
  },
  {
   "cell_type": "markdown",
   "metadata": {},
   "source": [
    "### Silver Layer - Process Holdings History\n"
   ]
  },
  {
   "cell_type": "code",
   "execution_count": null,
   "metadata": {},
   "outputs": [],
   "source": [
    "# Read the CSV file\n",
    "df = pd.read_csv(TradeHistoryGoldFilePath)\n",
    "\n",
    "# Convert datetime to date string\n",
    "df[\"datetime\"] = pd.to_datetime(df[\"datetime\"])\n",
    "\n",
    "# # Rename\n",
    "# df = df.rename(\n",
    "#     columns={\n",
    "#         \"sell_quantity\": \"quantity\",\n",
    "#     }\n",
    "# )\n",
    "\n",
    "# sort the dataframe by date\n",
    "df = df.sort_values(by=[\"segment\", \"stock_name\", \"datetime\"])\n",
    "\n",
    "# Save the result as a csv file\n",
    "df = df[\n",
    "    ['datetime', 'segment', 'stock_name', 'side', 'buy_quantity',\n",
    "       'buy_price', 'buy_amount', 'sell_quantity', 'sell_price', 'sell_amount',\n",
    "       'profit_loss_amount', 'holding_quantity', 'holding_price',\n",
    "       'holding_amount']\n",
    "]\n",
    "df.to_csv(HoldingsGoldFilePath, index=None)\n",
    "df.info()\n",
    "print(\"Gold Layer csv file for Holdings successfully created at:\")\n",
    "print(HoldingsGoldFilePath.resolve())"
   ]
  },
  {
   "cell_type": "code",
   "execution_count": null,
   "metadata": {},
   "outputs": [],
   "source": []
  }
 ],
 "metadata": {
  "kernelspec": {
   "display_name": "Python 3",
   "language": "python",
   "name": "python3"
  },
  "language_info": {
   "codemirror_mode": {
    "name": "ipython",
    "version": 3
   },
   "file_extension": ".py",
   "mimetype": "text/x-python",
   "name": "python",
   "nbconvert_exporter": "python",
   "pygments_lexer": "ipython3",
   "version": "3.11.4"
  }
 },
 "nbformat": 4,
 "nbformat_minor": 2
}
