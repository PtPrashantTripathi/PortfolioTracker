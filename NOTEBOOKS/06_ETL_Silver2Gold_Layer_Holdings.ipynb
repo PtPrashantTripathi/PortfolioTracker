{
 "cells": [
  {
   "cell_type": "markdown",
   "metadata": {},
   "source": [
    "## BRONZE TO SILVER LAYER\n"
   ]
  },
  {
   "cell_type": "code",
   "execution_count": 5,
   "metadata": {},
   "outputs": [],
   "source": [
    "import numpy as np\n",
    "import pandas as pd\n",
    "from common_utilities import GlobalPaths"
   ]
  },
  {
   "cell_type": "code",
   "execution_count": 6,
   "metadata": {},
   "outputs": [],
   "source": [
    "# Initialize TradeHistory Paths\n",
    "TradeHistoryGlobalPath = GlobalPaths(source_name=\"DATA\", object_name=\"TradeHistory\")\n",
    "TradeHistoryGoldLayerPath = TradeHistoryGlobalPath.createLayer(layer_name=\"GOLD\")\n",
    "TradeHistoryGoldFilePath = TradeHistoryGoldLayerPath.joinpath(\"TradeHistory_data.csv\")\n",
    "\n",
    "# Initialize Holdings Paths\n",
    "HoldingsGlobalPath = GlobalPaths(source_name=\"DATA\", object_name=\"Holdings\")\n",
    "HoldingsGoldLayerPath = HoldingsGlobalPath.createLayer(layer_name=\"GOLD\")\n",
    "HoldingsGoldFilePath = HoldingsGoldLayerPath.joinpath(\"Holdings_data.csv\")"
   ]
  },
  {
   "cell_type": "markdown",
   "metadata": {},
   "source": [
    "### Silver Layer - Process Holdings History\n"
   ]
  },
  {
   "cell_type": "code",
   "execution_count": 7,
   "metadata": {},
   "outputs": [
    {
     "name": "stdout",
     "output_type": "stream",
     "text": [
      "<class 'pandas.core.frame.DataFrame'>\n",
      "RangeIndex: 139 entries, 0 to 138\n",
      "Data columns (total 14 columns):\n",
      " #   Column              Non-Null Count  Dtype         \n",
      "---  ------              --------------  -----         \n",
      " 0   datetime            139 non-null    datetime64[ns]\n",
      " 1   segment             139 non-null    object        \n",
      " 2   stock_name          139 non-null    object        \n",
      " 3   trade_type          139 non-null    object        \n",
      " 4   buy_quantity        72 non-null     float64       \n",
      " 5   buy_price           139 non-null    float64       \n",
      " 6   buy_amount          139 non-null    float64       \n",
      " 7   sell_quantity       67 non-null     float64       \n",
      " 8   sell_price          67 non-null     float64       \n",
      " 9   sell_amount         67 non-null     float64       \n",
      " 10  profit_loss_amount  67 non-null     float64       \n",
      " 11  holding_quantity    139 non-null    float64       \n",
      " 12  holding_price_avg   139 non-null    float64       \n",
      " 13  holding_amount      139 non-null    float64       \n",
      "dtypes: datetime64[ns](1), float64(10), object(3)\n",
      "memory usage: 15.3+ KB\n",
      "Gold Layer csv file for Holdings successfully created at:\n",
      "C:\\Users\\prashant.tripathi\\Code\\Upstox\\DATA\\GOLD\\Holdings\\Holdings_data.csv\n"
     ]
    }
   ],
   "source": [
    "# Read the CSV file\n",
    "df = pd.read_csv(TradeHistoryGoldFilePath)\n",
    "\n",
    "# Convert datetime to date string\n",
    "df[\"datetime\"] = pd.to_datetime(df[\"datetime\"])\n",
    "\n",
    "# # Rename\n",
    "# df = df.rename(\n",
    "#     columns={\n",
    "#         \"sell_quantity\": \"quantity\",\n",
    "#     }\n",
    "# )\n",
    "\n",
    "# sort the dataframe by date\n",
    "df = df.sort_values(by=[\"segment\", \"stock_name\", \"datetime\"])\n",
    "\n",
    "# Save the result as a csv file\n",
    "df = df[\n",
    "    ['datetime', 'segment', 'stock_name', 'trade_type', 'buy_quantity',\n",
    "       'buy_price', 'buy_amount', 'sell_quantity', 'sell_price', 'sell_amount',\n",
    "       'profit_loss_amount', 'holding_quantity', 'holding_price_avg',\n",
    "       'holding_amount']\n",
    "]\n",
    "df.to_csv(HoldingsGoldFilePath, index=None)\n",
    "df.info()\n",
    "print(\"Gold Layer csv file for Holdings successfully created at:\")\n",
    "print(HoldingsGoldFilePath.resolve())"
   ]
  }
 ],
 "metadata": {
  "kernelspec": {
   "display_name": "Python 3",
   "language": "python",
   "name": "python3"
  },
  "language_info": {
   "codemirror_mode": {
    "name": "ipython",
    "version": 3
   },
   "file_extension": ".py",
   "mimetype": "text/x-python",
   "name": "python",
   "nbconvert_exporter": "python",
   "pygments_lexer": "ipython3",
   "version": "3.11.4"
  }
 },
 "nbformat": 4,
 "nbformat_minor": 2
}
