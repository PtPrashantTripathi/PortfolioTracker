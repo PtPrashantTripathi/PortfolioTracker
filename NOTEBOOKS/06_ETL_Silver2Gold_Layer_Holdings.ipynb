{
 "cells": [
  {
   "cell_type": "markdown",
   "metadata": {},
   "source": [
    "## BRONZE TO SILVER LAYER\n"
   ]
  },
  {
   "cell_type": "code",
   "execution_count": 1,
   "metadata": {},
   "outputs": [],
   "source": [
    "import pandas as pd\n",
    "from global_paths import TradeHistoryGoldFilePath,HoldingsGoldFilePath"
   ]
  },
  {
   "cell_type": "markdown",
   "metadata": {},
   "source": [
    "### Silver Layer - Process Holdings History\n"
   ]
  },
  {
   "cell_type": "code",
   "execution_count": 2,
   "metadata": {},
   "outputs": [
    {
     "name": "stdout",
     "output_type": "stream",
     "text": [
      "<class 'pandas.core.frame.DataFrame'>\n",
      "RangeIndex: 166 entries, 0 to 165\n",
      "Data columns (total 14 columns):\n",
      " #   Column              Non-Null Count  Dtype         \n",
      "---  ------              --------------  -----         \n",
      " 0   datetime            166 non-null    datetime64[ns]\n",
      " 1   segment             166 non-null    object        \n",
      " 2   stock_name          166 non-null    object        \n",
      " 3   trade_type          166 non-null    object        \n",
      " 4   buy_quantity        88 non-null     float64       \n",
      " 5   buy_price           166 non-null    float64       \n",
      " 6   buy_amount          166 non-null    float64       \n",
      " 7   sell_quantity       78 non-null     float64       \n",
      " 8   sell_price          78 non-null     float64       \n",
      " 9   sell_amount         78 non-null     float64       \n",
      " 10  profit_loss_amount  78 non-null     float64       \n",
      " 11  holding_quantity    166 non-null    float64       \n",
      " 12  holding_price   166 non-null    float64       \n",
      " 13  holding_amount      166 non-null    float64       \n",
      "dtypes: datetime64[ns](1), float64(10), object(3)\n",
      "memory usage: 18.3+ KB\n",
      "Gold Layer csv file for Holdings successfully created at:\n",
      "C:\\Users\\prashant.tripathi\\Code\\Upstox\\DATA\\GOLD\\Holdings\\Holdings_data.csv\n"
     ]
    }
   ],
   "source": [
    "# Read the CSV file\n",
    "df = pd.read_csv(TradeHistoryGoldFilePath)\n",
    "\n",
    "# Convert datetime to date string\n",
    "df[\"datetime\"] = pd.to_datetime(df[\"datetime\"])\n",
    "\n",
    "# # Rename\n",
    "# df = df.rename(\n",
    "#     columns={\n",
    "#         \"sell_quantity\": \"quantity\",\n",
    "#     }\n",
    "# )\n",
    "\n",
    "# sort the dataframe by date\n",
    "df = df.sort_values(by=[\"segment\", \"stock_name\", \"datetime\"])\n",
    "\n",
    "# Save the result as a csv file\n",
    "df = df[\n",
    "    ['datetime', 'segment', 'stock_name', 'trade_type', 'buy_quantity',\n",
    "       'buy_price', 'buy_amount', 'sell_quantity', 'sell_price', 'sell_amount',\n",
    "       'profit_loss_amount', 'holding_quantity', 'holding_price',\n",
    "       'holding_amount']\n",
    "]\n",
    "df.to_csv(HoldingsGoldFilePath, index=None)\n",
    "df.info()\n",
    "print(\"Gold Layer csv file for Holdings successfully created at:\")\n",
    "print(HoldingsGoldFilePath.resolve())"
   ]
  },
  {
   "cell_type": "code",
   "execution_count": null,
   "metadata": {},
   "outputs": [],
   "source": []
  }
 ],
 "metadata": {
  "kernelspec": {
   "display_name": "Python 3",
   "language": "python",
   "name": "python3"
  },
  "language_info": {
   "codemirror_mode": {
    "name": "ipython",
    "version": 3
   },
   "file_extension": ".py",
   "mimetype": "text/x-python",
   "name": "python",
   "nbconvert_exporter": "python",
   "pygments_lexer": "ipython3",
   "version": "3.11.4"
  }
 },
 "nbformat": 4,
 "nbformat_minor": 2
}
