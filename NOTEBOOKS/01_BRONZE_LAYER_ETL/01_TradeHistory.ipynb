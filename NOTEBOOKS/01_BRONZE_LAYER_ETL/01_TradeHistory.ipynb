{
 "cells": [
  {
   "cell_type": "markdown",
   "metadata": {},
   "source": [
    "## SOURCE TO BRONZE LAYER\n",
    "\n",
    "> This Notebook reads the RAW files and performs data harmonization.\n"
   ]
  },
  {
   "cell_type": "code",
   "execution_count": 1,
   "metadata": {
    "execution": {
     "iopub.execute_input": "2024-12-01T00:56:18.042575Z",
     "iopub.status.busy": "2024-12-01T00:56:18.042391Z",
     "iopub.status.idle": "2024-12-01T00:56:18.364517Z",
     "shell.execute_reply": "2024-12-01T00:56:18.363772Z"
    }
   },
   "outputs": [],
   "source": [
    "# Importing Common Utility Function\n",
    "import pandas as pd\n",
    "from StockETL import GlobalPath"
   ]
  },
  {
   "cell_type": "code",
   "execution_count": 2,
   "metadata": {
    "execution": {
     "iopub.execute_input": "2024-12-01T00:56:18.367203Z",
     "iopub.status.busy": "2024-12-01T00:56:18.366572Z",
     "iopub.status.idle": "2024-12-01T00:56:18.524410Z",
     "shell.execute_reply": "2024-12-01T00:56:18.523804Z"
    }
   },
   "outputs": [],
   "source": [
    "# Import necessary libraries and utility functions\n",
    "%run ../COMMON/common_utility.ipynb"
   ]
  },
  {
   "cell_type": "code",
   "execution_count": 3,
   "metadata": {
    "execution": {
     "iopub.execute_input": "2024-12-01T00:56:18.526506Z",
     "iopub.status.busy": "2024-12-01T00:56:18.526179Z",
     "iopub.status.idle": "2024-12-01T00:56:18.529775Z",
     "shell.execute_reply": "2024-12-01T00:56:18.529228Z"
    },
    "tags": [
     "parameters",
     "path"
    ]
   },
   "outputs": [],
   "source": [
    "# Instantiate GlobalPath\n",
    "tradehistory_bronze_layer_path = GlobalPath(\"DATA/BRONZE/TradeHistory\")\n",
    "tradehistory_source_layer_path = GlobalPath(\"DATA/SOURCE/TradeHistory\")\n",
    "tradehistory_bronze_schema_file_path = GlobalPath(\n",
    "    \"CONFIG/DATA_CONTRACTS/BRONZE/TradeHistory.json\"\n",
    ")"
   ]
  },
  {
   "cell_type": "markdown",
   "metadata": {},
   "source": [
    "### Define a function to read and process an Excel file\n"
   ]
  },
  {
   "cell_type": "code",
   "execution_count": 4,
   "metadata": {
    "execution": {
     "iopub.execute_input": "2024-12-01T00:56:18.531763Z",
     "iopub.status.busy": "2024-12-01T00:56:18.531422Z",
     "iopub.status.idle": "2024-12-01T00:56:18.535192Z",
     "shell.execute_reply": "2024-12-01T00:56:18.534742Z"
    }
   },
   "outputs": [],
   "source": [
    "def read_file(file_path: GlobalPath) -> None:\n",
    "    \"\"\"\n",
    "    Reads and processes an Excel file from the specified file path.\n",
    "    It performs data harmonization and saves the processed data as a CSV file.\n",
    "\n",
    "    Args:\n",
    "        file_path (Path): The path to the Excel file to be processed.\n",
    "    \"\"\"\n",
    "    # Log the start of processing for the file\n",
    "    print(f\"\\nProcessing => {file_path}\")\n",
    "\n",
    "    # Read the Excel file into a DataFrame\n",
    "    df = pd.read_excel(\n",
    "        file_path,\n",
    "        engine=\"openpyxl\",\n",
    "        sheet_name=None,\n",
    "        header=None,\n",
    "        skipfooter=1,\n",
    "    )\n",
    "\n",
    "    # Find and select the correct sheetname containing \"trade\"\n",
    "    df = find_correct_sheetname(df, sheet_name_regex=\"trade\")\n",
    "\n",
    "    # Find and set the correct headers matching \"date\"\n",
    "    df = find_correct_headers(df, global_header_regex=\"date\")\n",
    "\n",
    "    # Replace punctuation from column names for consistency\n",
    "    df = replace_punctuation_from_columns(df)\n",
    "\n",
    "    # Fix duplicate column names by appending numerical suffixes\n",
    "    df = fix_duplicate_column_names(df)\n",
    "\n",
    "    # Drop rows where all elements are NaN\n",
    "    df.dropna(how=\"all\", inplace=True)\n",
    "\n",
    "    # Align Datafame with DataContract\n",
    "    df = align_with_datacontract(df, tradehistory_bronze_schema_file_path)\n",
    "\n",
    "    return df"
   ]
  },
  {
   "cell_type": "code",
   "execution_count": 5,
   "metadata": {
    "execution": {
     "iopub.execute_input": "2024-12-01T00:56:18.536887Z",
     "iopub.status.busy": "2024-12-01T00:56:18.536565Z",
     "iopub.status.idle": "2024-12-01T00:56:18.826909Z",
     "shell.execute_reply": "2024-12-01T00:56:18.826373Z"
    }
   },
   "outputs": [
    {
     "name": "stdout",
     "output_type": "stream",
     "text": [
      "Number of Files Detected => 5\n",
      "\n",
      "Processing => /home/runner/work/PortfolioTracker/PortfolioTracker/DATA/SOURCE/TradeHistory/trade_2021.xlsx\n",
      "Sheet name => TRADE\n",
      "DataContract loaded from => /home/runner/work/PortfolioTracker/PortfolioTracker/CONFIG/DATA_CONTRACTS/BRONZE/TradeHistory.json\n",
      "Processed to => /home/runner/work/PortfolioTracker/PortfolioTracker/DATA/BRONZE/TradeHistory/trade_2021.csv\n",
      "\n",
      "Processing => /home/runner/work/PortfolioTracker/PortfolioTracker/DATA/SOURCE/TradeHistory/trade_2324.xlsx\n",
      "Sheet name => TRADE\n",
      "DataContract loaded from => /home/runner/work/PortfolioTracker/PortfolioTracker/CONFIG/DATA_CONTRACTS/BRONZE/TradeHistory.json\n",
      "Processed to => /home/runner/work/PortfolioTracker/PortfolioTracker/DATA/BRONZE/TradeHistory/trade_2324.csv\n",
      "\n",
      "Processing => /home/runner/work/PortfolioTracker/PortfolioTracker/DATA/SOURCE/TradeHistory/trade_2425.xlsx\n"
     ]
    },
    {
     "name": "stdout",
     "output_type": "stream",
     "text": [
      "Sheet name => TRADE\n",
      "DataContract loaded from => /home/runner/work/PortfolioTracker/PortfolioTracker/CONFIG/DATA_CONTRACTS/BRONZE/TradeHistory.json\n",
      "Processed to => /home/runner/work/PortfolioTracker/PortfolioTracker/DATA/BRONZE/TradeHistory/trade_2425.csv\n",
      "\n",
      "Processing => /home/runner/work/PortfolioTracker/PortfolioTracker/DATA/SOURCE/TradeHistory/trade_2223.xlsx\n",
      "Sheet name => TRADE\n",
      "DataContract loaded from => /home/runner/work/PortfolioTracker/PortfolioTracker/CONFIG/DATA_CONTRACTS/BRONZE/TradeHistory.json\n",
      "Processed to => /home/runner/work/PortfolioTracker/PortfolioTracker/DATA/BRONZE/TradeHistory/trade_2223.csv\n",
      "\n",
      "Processing => /home/runner/work/PortfolioTracker/PortfolioTracker/DATA/SOURCE/TradeHistory/trade_2122.xlsx\n",
      "Sheet name => TRADE\n",
      "DataContract loaded from => /home/runner/work/PortfolioTracker/PortfolioTracker/CONFIG/DATA_CONTRACTS/BRONZE/TradeHistory.json\n",
      "Processed to => /home/runner/work/PortfolioTracker/PortfolioTracker/DATA/BRONZE/TradeHistory/trade_2122.csv\n"
     ]
    }
   ],
   "source": [
    "# Generate file paths for available Excel files in the source layer\n",
    "file_paths = check_files_availability(\n",
    "    tradehistory_source_layer_path, file_pattern=\"trade_*.xlsx\"\n",
    ")\n",
    "\n",
    "# Process each file path\n",
    "for file_path in file_paths:\n",
    "    df = read_file(file_path)\n",
    "    # Save the result as a CSV file in the bronze layer path\n",
    "    output_file = tradehistory_bronze_layer_path.joinpath(\n",
    "        file_path.name.replace(\"xlsx\", \"csv\")\n",
    "    )\n",
    "\n",
    "    df.to_csv(output_file, index=None)\n",
    "\n",
    "    # Log successful processing of the file\n",
    "    print(f\"Processed to => {output_file}\")"
   ]
  }
 ],
 "metadata": {
  "kernelspec": {
   "display_name": "Python 3",
   "language": "python",
   "name": "python3"
  },
  "language_debug": {
   "codemirror_mode": {
    "name": "ipython",
    "version": 3
   },
   "file_extension": ".py",
   "mimetype": "text/x-python",
   "name": "python",
   "nbconvert_exporter": "python",
   "pygments_lexer": "ipython3",
   "version": "3.11.4"
  },
  "language_info": {
   "codemirror_mode": {
    "name": "ipython",
    "version": 3
   },
   "file_extension": ".py",
   "mimetype": "text/x-python",
   "name": "python",
   "nbconvert_exporter": "python",
   "pygments_lexer": "ipython3",
   "version": "3.12.7"
  }
 },
 "nbformat": 4,
 "nbformat_minor": 4
}
