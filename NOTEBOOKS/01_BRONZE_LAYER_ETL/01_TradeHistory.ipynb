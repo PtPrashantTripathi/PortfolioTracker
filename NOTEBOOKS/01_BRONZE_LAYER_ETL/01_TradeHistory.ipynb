{
 "cells": [
  {
   "cell_type": "markdown",
   "metadata": {},
   "source": [
    "## SOURCE TO BRONZE LAYER\n",
    "\n",
    "> This Notebook reads the RAW files and performs data harmonization.\n"
   ]
  },
  {
   "cell_type": "code",
   "execution_count": 1,
   "metadata": {
    "execution": {
     "iopub.execute_input": "2025-06-14T01:05:06.321791Z",
     "iopub.status.busy": "2025-06-14T01:05:06.321330Z",
     "iopub.status.idle": "2025-06-14T01:05:06.573677Z",
     "shell.execute_reply": "2025-06-14T01:05:06.573196Z"
    }
   },
   "outputs": [],
   "source": [
    "# Importing Common Utility Function\n",
    "import pandas as pd\n",
    "\n",
    "from StockETL import GlobalPath"
   ]
  },
  {
   "cell_type": "code",
   "execution_count": 2,
   "metadata": {
    "execution": {
     "iopub.execute_input": "2025-06-14T01:05:06.575896Z",
     "iopub.status.busy": "2025-06-14T01:05:06.575632Z",
     "iopub.status.idle": "2025-06-14T01:05:06.736923Z",
     "shell.execute_reply": "2025-06-14T01:05:06.736303Z"
    }
   },
   "outputs": [
    {
     "name": "stdout",
     "output_type": "stream",
     "text": [
      "USERNAME = 'ptprashanttripathi'\n"
     ]
    }
   ],
   "source": [
    "# Import necessary libraries and utility functions\n",
    "%run ../COMMON/common_utility.ipynb"
   ]
  },
  {
   "cell_type": "code",
   "execution_count": 3,
   "metadata": {
    "execution": {
     "iopub.execute_input": "2025-06-14T01:05:06.772497Z",
     "iopub.status.busy": "2025-06-14T01:05:06.772261Z",
     "iopub.status.idle": "2025-06-14T01:05:06.776298Z",
     "shell.execute_reply": "2025-06-14T01:05:06.775709Z"
    },
    "tags": [
     "parameters",
     "path"
    ]
   },
   "outputs": [],
   "source": [
    "# Instantiate GlobalPath\n",
    "tradehistory_bronze_layer_path = GlobalPath(f\"DATA/BRONZE/TradeHistory/{USERNAME}\")\n",
    "tradehistory_source_layer_path = GlobalPath(f\"DATA/SOURCE/TradeHistory/{USERNAME}\")\n",
    "tradehistory_bronze_schema_file_path = GlobalPath(\n",
    "    \"CONFIG/DATA_CONTRACTS/BRONZE/TradeHistory.json\"\n",
    ")"
   ]
  },
  {
   "cell_type": "markdown",
   "metadata": {},
   "source": [
    "### Define a function to read and process an Excel file\n"
   ]
  },
  {
   "cell_type": "code",
   "execution_count": 4,
   "metadata": {
    "execution": {
     "iopub.execute_input": "2025-06-14T01:05:06.778125Z",
     "iopub.status.busy": "2025-06-14T01:05:06.777937Z",
     "iopub.status.idle": "2025-06-14T01:05:06.781968Z",
     "shell.execute_reply": "2025-06-14T01:05:06.781386Z"
    }
   },
   "outputs": [],
   "source": [
    "def read_file(file_path: GlobalPath) -> None:\n",
    "    \"\"\"\n",
    "    Reads and processes an Excel file from the specified file path.\n",
    "    It performs data harmonization and saves the processed data as a CSV file.\n",
    "\n",
    "    Args:\n",
    "        file_path (Path): The path to the Excel file to be processed.\n",
    "    \"\"\"\n",
    "    # Log the start of processing for the file\n",
    "    print(f\"\\nProcessing => {file_path}\")\n",
    "\n",
    "    # Read the Excel file into a DataFrame\n",
    "    df = pd.read_excel(\n",
    "        file_path,\n",
    "        engine=\"openpyxl\",\n",
    "        sheet_name=None,\n",
    "        header=None,\n",
    "        skipfooter=1,\n",
    "    )\n",
    "\n",
    "    # Find and select the correct sheetname containing \"trade\"\n",
    "    df = find_correct_sheetname(df, sheet_name_regex=\"trade\")\n",
    "\n",
    "    # Find and set the correct headers matching \"date\"\n",
    "    df = find_correct_headers(df, global_header_regex=\"date\")\n",
    "\n",
    "    # Replace punctuation from column names for consistency\n",
    "    df = replace_punctuation_from_columns(df)\n",
    "\n",
    "    # Fix duplicate column names by appending numerical suffixes\n",
    "    df = fix_duplicate_column_names(df)\n",
    "\n",
    "    # Drop rows where all elements are NaN\n",
    "    df.dropna(how=\"all\", inplace=True)\n",
    "\n",
    "    # Align Datafame with DataContract\n",
    "    df = align_with_datacontract(df, tradehistory_bronze_schema_file_path)\n",
    "\n",
    "    return df"
   ]
  },
  {
   "cell_type": "code",
   "execution_count": 5,
   "metadata": {
    "execution": {
     "iopub.execute_input": "2025-06-14T01:05:06.783942Z",
     "iopub.status.busy": "2025-06-14T01:05:06.783569Z",
     "iopub.status.idle": "2025-06-14T01:05:06.974541Z",
     "shell.execute_reply": "2025-06-14T01:05:06.973952Z"
    }
   },
   "outputs": [
    {
     "name": "stdout",
     "output_type": "stream",
     "text": [
      "Number of Files Detected => 5\n",
      "\n",
      "Processing => /home/runner/work/PortfolioTracker/PortfolioTracker/DATA/SOURCE/TradeHistory/ptprashanttripathi/trade_2223.xlsx\n",
      "Sheet name => TRADE\n",
      "DataContract loaded from => /home/runner/work/PortfolioTracker/PortfolioTracker/CONFIG/DATA_CONTRACTS/BRONZE/TradeHistory.json\n",
      "Processed to => /home/runner/work/PortfolioTracker/PortfolioTracker/DATA/BRONZE/TradeHistory/ptprashanttripathi/trade_2223.csv\n",
      "\n",
      "Processing => /home/runner/work/PortfolioTracker/PortfolioTracker/DATA/SOURCE/TradeHistory/ptprashanttripathi/trade_2021.xlsx\n",
      "Sheet name => TRADE\n",
      "DataContract loaded from => /home/runner/work/PortfolioTracker/PortfolioTracker/CONFIG/DATA_CONTRACTS/BRONZE/TradeHistory.json\n",
      "Processed to => /home/runner/work/PortfolioTracker/PortfolioTracker/DATA/BRONZE/TradeHistory/ptprashanttripathi/trade_2021.csv\n",
      "\n",
      "Processing => /home/runner/work/PortfolioTracker/PortfolioTracker/DATA/SOURCE/TradeHistory/ptprashanttripathi/trade_2324.xlsx\n",
      "Sheet name => TRADE\n",
      "DataContract loaded from => /home/runner/work/PortfolioTracker/PortfolioTracker/CONFIG/DATA_CONTRACTS/BRONZE/TradeHistory.json\n"
     ]
    },
    {
     "name": "stdout",
     "output_type": "stream",
     "text": [
      "Processed to => /home/runner/work/PortfolioTracker/PortfolioTracker/DATA/BRONZE/TradeHistory/ptprashanttripathi/trade_2324.csv\n",
      "\n",
      "Processing => /home/runner/work/PortfolioTracker/PortfolioTracker/DATA/SOURCE/TradeHistory/ptprashanttripathi/trade_2425.xlsx\n",
      "Sheet name => TRADE\n",
      "DataContract loaded from => /home/runner/work/PortfolioTracker/PortfolioTracker/CONFIG/DATA_CONTRACTS/BRONZE/TradeHistory.json\n",
      "Processed to => /home/runner/work/PortfolioTracker/PortfolioTracker/DATA/BRONZE/TradeHistory/ptprashanttripathi/trade_2425.csv\n",
      "\n",
      "Processing => /home/runner/work/PortfolioTracker/PortfolioTracker/DATA/SOURCE/TradeHistory/ptprashanttripathi/trade_2122.xlsx\n",
      "Sheet name => TRADE\n",
      "DataContract loaded from => /home/runner/work/PortfolioTracker/PortfolioTracker/CONFIG/DATA_CONTRACTS/BRONZE/TradeHistory.json\n",
      "Processed to => /home/runner/work/PortfolioTracker/PortfolioTracker/DATA/BRONZE/TradeHistory/ptprashanttripathi/trade_2122.csv\n"
     ]
    }
   ],
   "source": [
    "# Generate file paths for available Excel files in the source layer\n",
    "file_paths = check_files_availability(\n",
    "    tradehistory_source_layer_path, file_pattern=f\"trade_*.xlsx\"\n",
    ")\n",
    "\n",
    "# Process each file path\n",
    "for file_path in file_paths:\n",
    "    df = read_file(file_path)\n",
    "    # Save the result as a CSV file in the bronze layer path\n",
    "    output_file = tradehistory_bronze_layer_path.joinpath(\n",
    "        file_path.name.replace(\"xlsx\", \"csv\")\n",
    "    )\n",
    "\n",
    "    df.to_csv(output_file, index=None)\n",
    "\n",
    "    # Log successful processing of the file\n",
    "    print(f\"Processed to => {output_file}\")"
   ]
  }
 ],
 "metadata": {
  "kernelspec": {
   "display_name": "Python 3",
   "language": "python",
   "name": "python3"
  },
  "language_debug": {
   "codemirror_mode": {
    "name": "ipython",
    "version": 3
   },
   "file_extension": ".py",
   "mimetype": "text/x-python",
   "name": "python",
   "nbconvert_exporter": "python",
   "pygments_lexer": "ipython3",
   "version": "3.11.4"
  },
  "language_info": {
   "codemirror_mode": {
    "name": "ipython",
    "version": 3
   },
   "file_extension": ".py",
   "mimetype": "text/x-python",
   "name": "python",
   "nbconvert_exporter": "python",
   "pygments_lexer": "ipython3",
   "version": "3.13.4"
  }
 },
 "nbformat": 4,
 "nbformat_minor": 4
}
