{
 "cells": [
  {
   "cell_type": "markdown",
   "metadata": {},
   "source": [
    "## SOURCE TO BRONZE LAYER\n",
    "\n",
    "> This Notebook reads the RAW files and performs data harmonization.\n"
   ]
  },
  {
   "cell_type": "code",
   "execution_count": 47,
   "metadata": {
    "execution": {
     "iopub.execute_input": "2024-09-27T07:43:27.426043Z",
     "iopub.status.busy": "2024-09-27T07:43:27.426043Z",
     "iopub.status.idle": "2024-09-27T07:43:27.878062Z",
     "shell.execute_reply": "2024-09-27T07:43:27.878062Z"
    }
   },
   "outputs": [],
   "source": [
    "# Importing Common Utility Function\n",
    "import pandas as pd\n",
    "\n",
    "from StockETL import GlobalPath"
   ]
  },
  {
   "cell_type": "code",
   "execution_count": 48,
   "metadata": {
    "execution": {
     "iopub.execute_input": "2024-09-27T07:43:27.878062Z",
     "iopub.status.busy": "2024-09-27T07:43:27.878062Z",
     "iopub.status.idle": "2024-09-27T07:43:28.045503Z",
     "shell.execute_reply": "2024-09-27T07:43:28.045503Z"
    }
   },
   "outputs": [],
   "source": [
    "# Import necessary libraries and utility functions\n",
    "%run ../COMMON/common_utility.ipynb"
   ]
  },
  {
   "cell_type": "code",
   "execution_count": 49,
   "metadata": {
    "execution": {
     "iopub.execute_input": "2024-09-27T07:43:28.045503Z",
     "iopub.status.busy": "2024-09-27T07:43:28.045503Z",
     "iopub.status.idle": "2024-09-27T07:43:28.052442Z",
     "shell.execute_reply": "2024-09-27T07:43:28.052442Z"
    }
   },
   "outputs": [],
   "source": [
    "# Instantiate GlobalPath\n",
    "tradehistory_bronze_layer_path = GlobalPath(\"DATA/BRONZE/TradeHistory\")\n",
    "tradehistory_source_layer_path = GlobalPath(\"DATA/SOURCE/TradeHistory\")\n",
    "tradehistory_bronze_schema_file_path = GlobalPath(\n",
    "    \"CONFIG/DATA_CONTRACTS/BRONZE/TradeHistory.json\"\n",
    ")"
   ]
  },
  {
   "cell_type": "markdown",
   "metadata": {},
   "source": [
    "### Define a function to read and process an Excel file\n"
   ]
  },
  {
   "cell_type": "code",
   "execution_count": 50,
   "metadata": {
    "execution": {
     "iopub.execute_input": "2024-09-27T07:43:28.052442Z",
     "iopub.status.busy": "2024-09-27T07:43:28.052442Z",
     "iopub.status.idle": "2024-09-27T07:43:28.058652Z",
     "shell.execute_reply": "2024-09-27T07:43:28.058652Z"
    }
   },
   "outputs": [],
   "source": [
    "def read_file(file_path: GlobalPath) -> None:\n",
    "    \"\"\"\n",
    "    Reads and processes an Excel file from the specified file path.\n",
    "    It performs data harmonization and saves the processed data as a CSV file.\n",
    "\n",
    "    Args:\n",
    "        file_path (Path): The path to the Excel file to be processed.\n",
    "    \"\"\"\n",
    "    # Log the start of processing for the file\n",
    "    print(f\"\\nProcessing => {file_path}\")\n",
    "\n",
    "    # Read the Excel file into a DataFrame\n",
    "    df = pd.read_excel(\n",
    "        file_path,\n",
    "        engine=\"openpyxl\",\n",
    "        sheet_name=None,\n",
    "        header=None,\n",
    "        skipfooter=1,\n",
    "    )\n",
    "\n",
    "    # Find and select the correct sheetname containing \"trade\"\n",
    "    df = find_correct_sheetname(df, sheet_name_regex=\"trade\")\n",
    "\n",
    "    # Find and set the correct headers matching \"date\"\n",
    "    df = find_correct_headers(df, global_header_regex=\"date\")\n",
    "\n",
    "    # Replace punctuation from column names for consistency\n",
    "    df = replace_punctuation_from_columns(df)\n",
    "\n",
    "    # Fix duplicate column names by appending numerical suffixes\n",
    "    df = fix_duplicate_column_names(df)\n",
    "\n",
    "    # Drop rows where all elements are NaN\n",
    "    df = df.dropna(how=\"all\")\n",
    "\n",
    "    # Align Datafame with schema\n",
    "    df = align_with_schema(df, tradehistory_bronze_schema_file_path)\n",
    "\n",
    "    return df"
   ]
  },
  {
   "cell_type": "code",
   "execution_count": null,
   "metadata": {
    "execution": {
     "iopub.execute_input": "2024-09-27T07:43:28.058652Z",
     "iopub.status.busy": "2024-09-27T07:43:28.058652Z",
     "iopub.status.idle": "2024-09-27T07:43:28.387344Z",
     "shell.execute_reply": "2024-09-27T07:43:28.387344Z"
    }
   },
   "outputs": [],
   "source": [
    "# Generate file paths for available Excel files in the source layer\n",
    "file_paths = check_files_availability(\n",
    "    tradehistory_source_layer_path, file_pattern=\"trade_*.xlsx\"\n",
    ")\n",
    "\n",
    "# Process each file path\n",
    "for file_path in file_paths:\n",
    "    df = read_file(file_path)\n",
    "    # Save the result as a CSV file in the bronze layer path\n",
    "    output_file = tradehistory_bronze_layer_path.joinpath(\n",
    "        file_path.name.replace(\"xlsx\", \"csv\")\n",
    "    )\n",
    "\n",
    "    df.to_csv(output_file, index=None)\n",
    "\n",
    "    # Log successful processing of the file\n",
    "    print(f\"Processed to => {output_file}\")"
   ]
  }
 ],
 "metadata": {
  "kernelspec": {
   "display_name": "Python 3 (ipykernel)",
   "language": "python",
   "name": "python3"
  },
  "language_debug": {
   "codemirror_mode": {
    "name": "ipython",
    "version": 3
   },
   "file_extension": ".py",
   "mimetype": "text/x-python",
   "name": "python",
   "nbconvert_exporter": "python",
   "pygments_lexer": "ipython3",
   "version": "3.11.4"
  },
  "language_info": {
   "codemirror_mode": {
    "name": "ipython",
    "version": 3
   },
   "file_extension": ".py",
   "mimetype": "text/x-python",
   "name": "python",
   "nbconvert_exporter": "python",
   "pygments_lexer": "ipython3",
   "version": "3.11.4"
  }
 },
 "nbformat": 4,
 "nbformat_minor": 4
}
