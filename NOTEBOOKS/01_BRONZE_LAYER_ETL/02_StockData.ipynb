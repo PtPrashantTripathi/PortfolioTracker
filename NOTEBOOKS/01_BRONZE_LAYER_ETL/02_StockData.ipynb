{
 "cells": [
  {
   "cell_type": "markdown",
   "metadata": {},
   "source": [
    "## SOURCE TO BRONZE LAYER\n",
    "\n",
    "### Process:\n",
    "\n",
    "> The function fetches daily stock data using the Yahoo Finance API (`yfinance`).\n"
   ]
  },
  {
   "cell_type": "code",
   "execution_count": 1,
   "metadata": {
    "execution": {
     "iopub.execute_input": "2024-09-20T21:19:31.186858Z",
     "iopub.status.busy": "2024-09-20T21:19:31.186663Z",
     "iopub.status.idle": "2024-09-20T21:19:31.666993Z",
     "shell.execute_reply": "2024-09-20T21:19:31.666313Z"
    }
   },
   "outputs": [],
   "source": [
    "# Import necessary libraries\n",
    "import pandas as pd\n",
    "from datetime import  timedelta\n",
    "import yfinance as yf\n",
    "from requests import Session\n",
    "from pyrate_limiter import Limiter, Duration, RequestRate\n",
    "from requests_cache import CacheMixin, SQLiteCache\n",
    "from requests_ratelimiter import LimiterMixin, MemoryQueueBucket\n",
    "from PortfolioTracker import DateTimeUtil, GlobalPath"
   ]
  },
  {
   "cell_type": "code",
   "execution_count": 2,
   "metadata": {
    "execution": {
     "iopub.execute_input": "2024-09-20T21:19:31.669308Z",
     "iopub.status.busy": "2024-09-20T21:19:31.669051Z",
     "iopub.status.idle": "2024-09-20T21:19:31.803396Z",
     "shell.execute_reply": "2024-09-20T21:19:31.802710Z"
    }
   },
   "outputs": [],
   "source": [
    "# Importing Common Utility Funcation\n",
    "%run ../COMMON/common_utility.ipynb"
   ]
  },
  {
   "cell_type": "code",
   "execution_count": 3,
   "metadata": {
    "execution": {
     "iopub.execute_input": "2024-09-20T21:19:31.805298Z",
     "iopub.status.busy": "2024-09-20T21:19:31.805122Z",
     "iopub.status.idle": "2024-09-20T21:19:31.808406Z",
     "shell.execute_reply": "2024-09-20T21:19:31.807990Z"
    }
   },
   "outputs": [],
   "source": [
    "# Define Constants file paths\n",
    "HOLDINGS_HISTORY_PATH = GlobalPath(\"DATA/SOURCE/Holdings/HoldingsHistory_data.csv\")\n",
    "STOCKDATA_BRONZE_LAYER_PATH = GlobalPath(\"DATA/BRONZE/StockData\")"
   ]
  },
  {
   "cell_type": "code",
   "execution_count": 4,
   "metadata": {
    "execution": {
     "iopub.execute_input": "2024-09-20T21:19:31.810174Z",
     "iopub.status.busy": "2024-09-20T21:19:31.809833Z",
     "iopub.status.idle": "2024-09-20T21:19:31.820999Z",
     "shell.execute_reply": "2024-09-20T21:19:31.820414Z"
    }
   },
   "outputs": [],
   "source": [
    "# Setting cache location for yfinance\n",
    "yf.set_tz_cache_location(\".cache\")\n",
    "\n",
    "# Rate limiting setup\n",
    "class CachedLimiterSession(CacheMixin, LimiterMixin, Session):\n",
    "    pass\n",
    "\n",
    "history_rate = RequestRate(1, Duration.SECOND * 2)\n",
    "limiter = Limiter(history_rate)\n",
    "session = CachedLimiterSession(\n",
    "    limiter=limiter,\n",
    "    bucket_class=MemoryQueueBucket,\n",
    "    backend=SQLiteCache(\".cache/session\", expire_after=timedelta(hours=1)),\n",
    ")"
   ]
  },
  {
   "cell_type": "code",
   "execution_count": 5,
   "metadata": {
    "execution": {
     "iopub.execute_input": "2024-09-20T21:19:31.822839Z",
     "iopub.status.busy": "2024-09-20T21:19:31.822561Z",
     "iopub.status.idle": "2024-09-20T21:19:31.826330Z",
     "shell.execute_reply": "2024-09-20T21:19:31.825743Z"
    }
   },
   "outputs": [],
   "source": [
    "def process_file(stock_ticker, date, output_file):\n",
    "    \"\"\"Fetch historical stock data and save it to a CSV file.\"\"\"\n",
    "    df = stock_ticker.history(\n",
    "        start=date.start_date,\n",
    "        end=min(date.end_date, DateTimeUtil.today()),\n",
    "        interval=\"1d\",\n",
    "        actions=True,\n",
    "        rounding=True,\n",
    "    )\n",
    "    if df.empty:\n",
    "        raise Exception(f\"No data fetched for : from {date.start_date} to {date.end_date}\")\n",
    "    df = df.reset_index()\n",
    "    df = replace_punctuation_from_columns(df)\n",
    "    df = fix_duplicate_column_names(df)\n",
    "    df = df.round(2)\n",
    "    df.to_csv(output_file, index=False)\n",
    "    print(f\"Data processed and saved to: {output_file}\")"
   ]
  },
  {
   "cell_type": "code",
   "execution_count": 6,
   "metadata": {
    "execution": {
     "iopub.execute_input": "2024-09-20T21:19:31.828007Z",
     "iopub.status.busy": "2024-09-20T21:19:31.827820Z",
     "iopub.status.idle": "2024-09-20T21:19:31.831278Z",
     "shell.execute_reply": "2024-09-20T21:19:31.830795Z"
    }
   },
   "outputs": [],
   "source": [
    "# Dictionary for stock ticker overrides\n",
    "OVERWRITE_TICKERS = {\n",
    "    \"BAJAJHFL\":\"BAJAJHFL.NS\",\n",
    "    \"BHAGERIA\": \"BHAGERIA.NS\",\n",
    "    \"BPCL\": \"BPCL.NS\",\n",
    "    \"GOLDBEES\": \"GOLDBEES.NS\",\n",
    "    \"HERANBA\": \"HERANBA.NS\",\n",
    "    \"IDEA\": \"IDEA.NS\",\n",
    "    \"INFY\": \"INFY.NS\",\n",
    "    \"IRCTC\": \"IRCTC.NS\",\n",
    "    \"KPITTECH\": \"KPITTECH.NS\",\n",
    "    \"LICI\": \"LICI.NS\",\n",
    "    \"MIRAE_ASSET_ELSS_TAX_SAVER_FUND_DIRECT_PLAN_GROWTH\": \"0P00017844.BO\",\n",
    "    \"NIFTYBEES\": \"NIFTYBEES.NS\",\n",
    "    \"PNB\": \"PNB.NS\",\n",
    "    \"SBIN\": \"SBIN.NS\",\n",
    "    \"SBI_LONG_TERM_EQUITY_FUND_DIRECT_PLAN_GROWTH\": \"0P0000XVL9.BO\",\n",
    "    \"TATACHEM\": \"TATACHEM.NS\",\n",
    "    \"TATAMOTORS\": \"TATAMOTORS.NS\",\n",
    "    \"TATAPOWER\": \"TATAPOWER.NS\",\n",
    "    \"VOLTAS\": \"VOLTAS.NS\",\n",
    "    \"YESBANK\": \"YESBANK.NS\",\n",
    "}"
   ]
  },
  {
   "cell_type": "code",
   "execution_count": 7,
   "metadata": {
    "execution": {
     "iopub.execute_input": "2024-09-20T21:19:31.833096Z",
     "iopub.status.busy": "2024-09-20T21:19:31.832738Z",
     "iopub.status.idle": "2024-09-20T21:19:31.840897Z",
     "shell.execute_reply": "2024-09-20T21:19:31.840332Z"
    }
   },
   "outputs": [
    {
     "name": "stdout",
     "output_type": "stream",
     "text": [
      "Loaded data from: /home/runner/work/PortfolioTracker/PortfolioTracker/DATA/SOURCE/Holdings/HoldingsHistory_data.csv\n"
     ]
    }
   ],
   "source": [
    "# Load holdings data from CSV\n",
    "df_holdings_history = pd.read_csv(HOLDINGS_HISTORY_PATH)\n",
    "df_holdings_history[\"min_date\"] = pd.to_datetime(df_holdings_history[\"min_date\"])\n",
    "df_holdings_history[\"max_date\"] = pd.to_datetime(df_holdings_history[\"max_date\"])\n",
    "print(f\"Loaded data from: {HOLDINGS_HISTORY_PATH}\")"
   ]
  },
  {
   "cell_type": "code",
   "execution_count": 8,
   "metadata": {
    "execution": {
     "iopub.execute_input": "2024-09-20T21:19:31.878175Z",
     "iopub.status.busy": "2024-09-20T21:19:31.877680Z",
     "iopub.status.idle": "2024-09-20T21:19:58.126740Z",
     "shell.execute_reply": "2024-09-20T21:19:58.126141Z"
    }
   },
   "outputs": [
    {
     "name": "stdout",
     "output_type": "stream",
     "text": [
      "\n",
      "Processing data for symbol BAJAJHFL:\n"
     ]
    },
    {
     "name": "stderr",
     "output_type": "stream",
     "text": [
      "BAJAJHFL.NS: Period '1mo' is invalid, must be one of ['1d', '5d', 'ytd', 'max']\n"
     ]
    },
    {
     "name": "stdout",
     "output_type": "stream",
     "text": [
      "Error processing BAJAJHFL:\n",
      "No data fetched for : from 2024-09-01 00:00:00 to 2024-09-30 00:00:00\n",
      "\n",
      "Processing data for symbol BHAGERIA:\n",
      "\n",
      "Processing data for symbol BPCL:\n",
      "\n",
      "Processing data for symbol GOLDBEES:\n",
      "\n",
      "Processing data for symbol HERANBA:\n",
      "\n",
      "Processing data for symbol IDEA:\n",
      "\n",
      "Processing data for symbol INFY:\n",
      "\n",
      "Processing data for symbol IRCTC:\n"
     ]
    },
    {
     "name": "stdout",
     "output_type": "stream",
     "text": [
      "Data processed and saved to: /home/runner/work/PortfolioTracker/PortfolioTracker/DATA/BRONZE/StockData/IRCTC_2024_09.csv\n",
      "\n",
      "Processing data for symbol KPITTECH:\n"
     ]
    },
    {
     "name": "stdout",
     "output_type": "stream",
     "text": [
      "Data processed and saved to: /home/runner/work/PortfolioTracker/PortfolioTracker/DATA/BRONZE/StockData/KPITTECH_2024_09.csv\n",
      "\n",
      "Processing data for symbol LICI:\n",
      "\n",
      "Processing data for symbol NIFTYBEES:\n",
      "\n",
      "Processing data for symbol PNB:\n",
      "\n",
      "Processing data for symbol SBIN:\n",
      "\n",
      "Processing data for symbol TATACHEM:\n",
      "\n",
      "Processing data for symbol TATAMOTORS:\n"
     ]
    },
    {
     "name": "stdout",
     "output_type": "stream",
     "text": [
      "Data processed and saved to: /home/runner/work/PortfolioTracker/PortfolioTracker/DATA/BRONZE/StockData/TATAMOTORS_2024_09.csv\n",
      "\n",
      "Processing data for symbol TATAPOWER:\n"
     ]
    },
    {
     "name": "stdout",
     "output_type": "stream",
     "text": [
      "Data processed and saved to: /home/runner/work/PortfolioTracker/PortfolioTracker/DATA/BRONZE/StockData/TATAPOWER_2024_09.csv\n",
      "\n",
      "Processing data for symbol VOLTAS:\n",
      "\n",
      "Processing data for symbol YESBANK:\n",
      "\n",
      "Processing data for symbol MIRAE_ASSET_ELSS_TAX_SAVER_FUND_DIRECT_PLAN_GROWTH:\n"
     ]
    },
    {
     "name": "stdout",
     "output_type": "stream",
     "text": [
      "Data processed and saved to: /home/runner/work/PortfolioTracker/PortfolioTracker/DATA/BRONZE/StockData/MIRAE_ASSET_ELSS_TAX_SAVER_FUND_DIRECT_PLAN_GROWTH_2024_09.csv\n",
      "\n",
      "Processing data for symbol SBI_LONG_TERM_EQUITY_FUND_DIRECT_PLAN_GROWTH:\n"
     ]
    },
    {
     "name": "stdout",
     "output_type": "stream",
     "text": [
      "Data processed and saved to: /home/runner/work/PortfolioTracker/PortfolioTracker/DATA/BRONZE/StockData/SBI_LONG_TERM_EQUITY_FUND_DIRECT_PLAN_GROWTH_2024_09.csv\n"
     ]
    }
   ],
   "source": [
    "# Fetch stock data and process it.\n",
    "for _, row in df_holdings_history.iterrows():\n",
    "  print(f\"\\nProcessing data for symbol {row['symbol']}:\")\n",
    "  try:\n",
    "    stock_ticker = yf.Ticker(\n",
    "        OVERWRITE_TICKERS.get(row[\"symbol\"], row[\"isin\"]),\n",
    "        session=session,\n",
    "    )\n",
    "    date_list = generate_date_list(row[\"min_date\"].to_pydatetime(), row[\"max_date\"].to_pydatetime())   \n",
    "    for date in date_list:\n",
    "        output_file = STOCKDATA_BRONZE_LAYER_PATH.joinpath(f\"{row['symbol']}_{date.year:04d}_{date.month:02d}.csv\")\n",
    "        if output_file.exists() and date.month_difference(DateTimeUtil.today()) >= 1:\n",
    "            continue\n",
    "        process_file(stock_ticker, date, output_file)\n",
    "  except Exception as e:\n",
    "    print(f\"Error processing {row['symbol']}:\\n{e}\")"
   ]
  }
 ],
 "metadata": {
  "kernelspec": {
   "display_name": "Python 3",
   "language": "python",
   "name": "python3"
  },
  "language_debug": {
   "codemirror_mode": {
    "name": "ipython",
    "version": 3
   },
   "file_extension": ".py",
   "mimetype": "text/x-python",
   "name": "python",
   "nbconvert_exporter": "python",
   "pygments_lexer": "ipython3",
   "version": "3.11.4"
  },
  "language_info": {
   "codemirror_mode": {
    "name": "ipython",
    "version": 3
   },
   "file_extension": ".py",
   "mimetype": "text/x-python",
   "name": "python",
   "nbconvert_exporter": "python",
   "pygments_lexer": "ipython3",
   "version": "3.12.6"
  }
 },
 "nbformat": 4,
 "nbformat_minor": 4
}
