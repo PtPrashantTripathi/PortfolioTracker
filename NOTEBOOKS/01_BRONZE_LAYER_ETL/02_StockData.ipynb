{
 "cells": [
  {
   "cell_type": "markdown",
   "metadata": {},
   "source": [
    "## SOURCE TO BRONZE LAYER\n",
    "\n",
    "### Process:\n",
    "\n",
    "> The function fetches daily stock data using the Yahoo Finance API (`yfinance`).\n"
   ]
  },
  {
   "cell_type": "code",
   "execution_count": 1,
   "metadata": {
    "execution": {
     "iopub.execute_input": "2024-12-05T12:39:43.111948Z",
     "iopub.status.busy": "2024-12-05T12:39:43.111948Z",
     "iopub.status.idle": "2024-12-05T12:39:44.018727Z",
     "shell.execute_reply": "2024-12-05T12:39:44.018727Z"
    }
   },
   "outputs": [],
   "source": [
    "# Import necessary libraries\n",
    "import json\n",
    "from datetime import timedelta\n",
    "\n",
    "import pandas as pd\n",
    "import requests\n",
    "import yfinance as yf\n",
    "from pyrate_limiter import Duration, Limiter, RequestRate\n",
    "from requests import Session\n",
    "from requests_cache import CacheMixin, SQLiteCache\n",
    "from requests_ratelimiter import LimiterMixin, MemoryQueueBucket\n",
    "\n",
    "from StockETL import DateTimeUtil, GlobalPath"
   ]
  },
  {
   "cell_type": "code",
   "execution_count": 2,
   "metadata": {
    "execution": {
     "iopub.execute_input": "2024-12-05T12:39:44.018727Z",
     "iopub.status.busy": "2024-12-05T12:39:44.018727Z",
     "iopub.status.idle": "2024-12-05T12:39:44.178797Z",
     "shell.execute_reply": "2024-12-05T12:39:44.178797Z"
    }
   },
   "outputs": [
    {
     "name": "stdout",
     "output_type": "stream",
     "text": [
      "USERNAME = 'deepshikhapatel'\n"
     ]
    }
   ],
   "source": [
    "# Importing Common Utility Function\n",
    "%run ../COMMON/common_utility.ipynb"
   ]
  },
  {
   "cell_type": "code",
   "execution_count": 3,
   "metadata": {
    "execution": {
     "iopub.execute_input": "2024-12-05T12:39:44.207832Z",
     "iopub.status.busy": "2024-12-05T12:39:44.207832Z",
     "iopub.status.idle": "2024-12-05T12:39:44.213497Z",
     "shell.execute_reply": "2024-12-05T12:39:44.213244Z"
    }
   },
   "outputs": [],
   "source": [
    "# Define Constants file paths\n",
    "stock_tickers_config_path = GlobalPath(\"CONFIG/CONSTANTS/stock_tickers.json\")\n",
    "holding_history_path = GlobalPath(f\"DATA/SOURCE/Holding/Holding_data.{USERNAME}.csv\")\n",
    "stockdata_bronze_layer_path = GlobalPath(\"DATA/BRONZE/StockData\")\n",
    "stockdata_bronze_schema_file_path = GlobalPath(\n",
    "    \"CONFIG/DATA_CONTRACTS/BRONZE/StockData.json\"\n",
    ")"
   ]
  },
  {
   "cell_type": "code",
   "execution_count": 4,
   "metadata": {
    "execution": {
     "iopub.execute_input": "2024-12-05T12:39:44.215503Z",
     "iopub.status.busy": "2024-12-05T12:39:44.215503Z",
     "iopub.status.idle": "2024-12-05T12:39:44.222517Z",
     "shell.execute_reply": "2024-12-05T12:39:44.222003Z"
    }
   },
   "outputs": [],
   "source": [
    "# Setting cache location for yfinance\n",
    "yf.set_tz_cache_location(\".cache\")\n",
    "\n",
    "\n",
    "# Rate limiting setup\n",
    "class CachedLimiterSession(CacheMixin, LimiterMixin, Session):\n",
    "    pass\n",
    "\n",
    "\n",
    "history_rate = RequestRate(1, Duration.SECOND * 2)\n",
    "limiter = Limiter(history_rate)\n",
    "session = CachedLimiterSession(\n",
    "    limiter=limiter,\n",
    "    bucket_class=MemoryQueueBucket,\n",
    "    backend=SQLiteCache(\".cache/session\", expire_after=timedelta(hours=1)),\n",
    ")"
   ]
  },
  {
   "cell_type": "code",
   "execution_count": 5,
   "metadata": {
    "execution": {
     "iopub.execute_input": "2024-12-05T12:39:44.223871Z",
     "iopub.status.busy": "2024-12-05T12:39:44.223871Z",
     "iopub.status.idle": "2024-12-05T12:39:44.227771Z",
     "shell.execute_reply": "2024-12-05T12:39:44.227771Z"
    }
   },
   "outputs": [],
   "source": [
    "def download_file_from_github(output_file):\n",
    "    github_data_url = f\"https://raw.githubusercontent.com/PtPrashantTripathi/PortfolioTracker/main/DATA/BRONZE/StockData/{output_file.name}\"\n",
    "    response = requests.get(github_data_url)\n",
    "    if response.status_code == 200:\n",
    "        with open(output_file, \"wb\") as file:\n",
    "            file.write(response.content)\n",
    "    else:\n",
    "        raise Exception(\"Failed to download file from Github\")\n",
    "    print(f\"Data processed and saved to => {output_file}\")"
   ]
  },
  {
   "cell_type": "code",
   "execution_count": 6,
   "metadata": {
    "execution": {
     "iopub.execute_input": "2024-12-05T12:39:44.229748Z",
     "iopub.status.busy": "2024-12-05T12:39:44.229748Z",
     "iopub.status.idle": "2024-12-05T12:39:44.234080Z",
     "shell.execute_reply": "2024-12-05T12:39:44.234080Z"
    }
   },
   "outputs": [],
   "source": [
    "def process_file(stock_ticker, date, output_file):\n",
    "    \"\"\"Fetch historical stock data and save it to a CSV file.\"\"\"\n",
    "    df = stock_ticker.history(\n",
    "        start=date.start_date,\n",
    "        end=min(date.end_date, DateTimeUtil.today()),\n",
    "        interval=\"1d\",\n",
    "        actions=True,\n",
    "        rounding=True,\n",
    "    )\n",
    "    if df.empty:\n",
    "        raise Exception(f\"No data fetched from {date.start_date} to {date.end_date}\")\n",
    "    df = df.reset_index()\n",
    "\n",
    "    # Replace punctuation from column names for consistency\n",
    "    df = replace_punctuation_from_columns(df)\n",
    "\n",
    "    # Fix duplicate column names by appending numerical suffixes\n",
    "    df = fix_duplicate_column_names(df)\n",
    "\n",
    "    # Drop rows where all elements are NaN\n",
    "    df = df.dropna(how=\"all\")\n",
    "\n",
    "    # Align Datafame with DataContract\n",
    "    df = align_with_datacontract(df, stockdata_bronze_schema_file_path)\n",
    "\n",
    "    df.to_csv(output_file, index=False)\n",
    "    print(f\"Data processed and saved to => {output_file}\")"
   ]
  },
  {
   "cell_type": "code",
   "execution_count": 7,
   "metadata": {
    "execution": {
     "iopub.execute_input": "2024-12-05T12:39:44.236315Z",
     "iopub.status.busy": "2024-12-05T12:39:44.236315Z",
     "iopub.status.idle": "2024-12-05T12:39:44.239376Z",
     "shell.execute_reply": "2024-12-05T12:39:44.239376Z"
    }
   },
   "outputs": [],
   "source": [
    "# Dictionary for stock ticker overrides\n",
    "# Open and read the JSON file\n",
    "OVERWRITE_TICKERS = {}\n",
    "with open(stock_tickers_config_path, encoding=\"utf-8\") as f:\n",
    "    # Get the contract_fields from json data\n",
    "    OVERWRITE_TICKERS = json.load(f)"
   ]
  },
  {
   "cell_type": "code",
   "execution_count": 8,
   "metadata": {
    "execution": {
     "iopub.execute_input": "2024-12-05T12:39:44.239376Z",
     "iopub.status.busy": "2024-12-05T12:39:44.239376Z",
     "iopub.status.idle": "2024-12-05T12:39:44.249064Z",
     "shell.execute_reply": "2024-12-05T12:39:44.249064Z"
    }
   },
   "outputs": [
    {
     "name": "stdout",
     "output_type": "stream",
     "text": [
      "Loaded data from => C:\\Users\\prashant.tripathi\\Code\\PortfolioTracker\\DATA\\SOURCE\\Holding\\Holding_data.deepshikhapatel.csv\n"
     ]
    }
   ],
   "source": [
    "# Load holding data from CSV\n",
    "df_holding_history = pd.read_csv(holding_history_path)\n",
    "df_holding_history[\"min_date\"] = pd.to_datetime(df_holding_history[\"min_date\"])\n",
    "df_holding_history[\"max_date\"] = pd.to_datetime(df_holding_history[\"max_date\"])\n",
    "print(f\"Loaded data from => {holding_history_path}\")"
   ]
  },
  {
   "cell_type": "code",
   "execution_count": 9,
   "metadata": {
    "execution": {
     "iopub.execute_input": "2024-12-05T12:39:44.252074Z",
     "iopub.status.busy": "2024-12-05T12:39:44.249064Z",
     "iopub.status.idle": "2024-12-05T12:40:07.398416Z",
     "shell.execute_reply": "2024-12-05T12:40:07.396859Z"
    }
   },
   "outputs": [
    {
     "name": "stdout",
     "output_type": "stream",
     "text": [
      "\n",
      "Processing data for symbol ADANIPORTS =>\n"
     ]
    },
    {
     "name": "stdout",
     "output_type": "stream",
     "text": [
      "DataContract loaded from => C:\\Users\\prashant.tripathi\\Code\\PortfolioTracker\\CONFIG\\DATA_CONTRACTS\\BRONZE\\StockData.json\n",
      "Data processed and saved to => C:\\Users\\prashant.tripathi\\Code\\PortfolioTracker\\DATA\\BRONZE\\StockData\\ADANIPORTS_2024_12.csv\n",
      "\n",
      "Processing data for symbol BECTORFOOD =>\n"
     ]
    },
    {
     "name": "stdout",
     "output_type": "stream",
     "text": [
      "DataContract loaded from => C:\\Users\\prashant.tripathi\\Code\\PortfolioTracker\\CONFIG\\DATA_CONTRACTS\\BRONZE\\StockData.json\n",
      "Data processed and saved to => C:\\Users\\prashant.tripathi\\Code\\PortfolioTracker\\DATA\\BRONZE\\StockData\\BECTORFOOD_2024_12.csv\n",
      "\n",
      "Processing data for symbol CARTRADE =>\n"
     ]
    },
    {
     "name": "stdout",
     "output_type": "stream",
     "text": [
      "DataContract loaded from => C:\\Users\\prashant.tripathi\\Code\\PortfolioTracker\\CONFIG\\DATA_CONTRACTS\\BRONZE\\StockData.json\n",
      "Data processed and saved to => C:\\Users\\prashant.tripathi\\Code\\PortfolioTracker\\DATA\\BRONZE\\StockData\\CARTRADE_2024_12.csv\n",
      "\n",
      "Processing data for symbol HAPPSTMNDS =>\n",
      "\n",
      "Processing data for symbol ICICIB22 =>\n"
     ]
    },
    {
     "name": "stderr",
     "output_type": "stream",
     "text": [
      "Failed to get ticker '' reason: HTTPSConnectionPool(host='guce.yahoo.com', port=443): Max retries exceeded with url: /consent (Caused by SSLError(SSLCertVerificationError(1, '[SSL: CERTIFICATE_VERIFY_FAILED] certificate verify failed: unable to get local issuer certificate (_ssl.c:1002)')))\n"
     ]
    },
    {
     "name": "stderr",
     "output_type": "stream",
     "text": [
      "$: possibly delisted; no timezone found\n"
     ]
    },
    {
     "name": "stdout",
     "output_type": "stream",
     "text": [
      "Error processing ICICIB22 =>\n",
      "No data fetched from 2024-10-01 00:00:00 to 2024-10-31 00:00:00\n",
      "\n",
      "Processing data for symbol IDEA =>\n"
     ]
    },
    {
     "name": "stderr",
     "output_type": "stream",
     "text": [
      "Failed to get ticker 'IDEA.NS' reason: HTTPSConnectionPool(host='guce.yahoo.com', port=443): Max retries exceeded with url: /consent (Caused by SSLError(SSLCertVerificationError(1, '[SSL: CERTIFICATE_VERIFY_FAILED] certificate verify failed: unable to get local issuer certificate (_ssl.c:1002)')))\n"
     ]
    },
    {
     "name": "stderr",
     "output_type": "stream",
     "text": [
      "$IDEA.NS: possibly delisted; no timezone found\n"
     ]
    },
    {
     "name": "stdout",
     "output_type": "stream",
     "text": [
      "Error processing IDEA =>\n",
      "No data fetched from 2024-12-01 00:00:00 to 2024-12-31 00:00:00\n",
      "\n",
      "Processing data for symbol IRFC =>\n"
     ]
    },
    {
     "name": "stderr",
     "output_type": "stream",
     "text": [
      "Failed to get ticker 'IRFC.BO' reason: HTTPSConnectionPool(host='guce.yahoo.com', port=443): Max retries exceeded with url: /consent (Caused by SSLError(SSLCertVerificationError(1, '[SSL: CERTIFICATE_VERIFY_FAILED] certificate verify failed: unable to get local issuer certificate (_ssl.c:1002)')))\n"
     ]
    },
    {
     "name": "stderr",
     "output_type": "stream",
     "text": [
      "$IRFC.BO: possibly delisted; no timezone found\n"
     ]
    },
    {
     "name": "stdout",
     "output_type": "stream",
     "text": [
      "Error processing IRFC =>\n",
      "No data fetched from 2024-12-01 00:00:00 to 2024-12-31 00:00:00\n",
      "\n",
      "Processing data for symbol ITC =>\n"
     ]
    },
    {
     "name": "stderr",
     "output_type": "stream",
     "text": [
      "Failed to get ticker 'ITC.NS' reason: HTTPSConnectionPool(host='guce.yahoo.com', port=443): Max retries exceeded with url: /consent (Caused by SSLError(SSLCertVerificationError(1, '[SSL: CERTIFICATE_VERIFY_FAILED] certificate verify failed: unable to get local issuer certificate (_ssl.c:1002)')))\n"
     ]
    },
    {
     "name": "stderr",
     "output_type": "stream",
     "text": [
      "$ITC.NS: possibly delisted; no timezone found\n"
     ]
    },
    {
     "name": "stdout",
     "output_type": "stream",
     "text": [
      "Error processing ITC =>\n",
      "No data fetched from 2024-12-01 00:00:00 to 2024-12-31 00:00:00\n",
      "\n",
      "Processing data for symbol SBICARD =>\n"
     ]
    },
    {
     "name": "stderr",
     "output_type": "stream",
     "text": [
      "Failed to get ticker 'SBICARD.NS' reason: HTTPSConnectionPool(host='guce.yahoo.com', port=443): Max retries exceeded with url: /consent (Caused by SSLError(SSLCertVerificationError(1, '[SSL: CERTIFICATE_VERIFY_FAILED] certificate verify failed: unable to get local issuer certificate (_ssl.c:1002)')))\n"
     ]
    },
    {
     "name": "stderr",
     "output_type": "stream",
     "text": [
      "$SBICARD.NS: possibly delisted; no timezone found\n"
     ]
    },
    {
     "name": "stdout",
     "output_type": "stream",
     "text": [
      "Error processing SBICARD =>\n",
      "No data fetched from 2024-12-01 00:00:00 to 2024-12-31 00:00:00\n",
      "\n",
      "Processing data for symbol SBIN =>\n",
      "\n",
      "Processing data for symbol SYNCOMF =>\n"
     ]
    },
    {
     "name": "stderr",
     "output_type": "stream",
     "text": [
      "Failed to get ticker 'SYNCOMF.BO' reason: HTTPSConnectionPool(host='guce.yahoo.com', port=443): Max retries exceeded with url: /consent (Caused by SSLError(SSLCertVerificationError(1, '[SSL: CERTIFICATE_VERIFY_FAILED] certificate verify failed: unable to get local issuer certificate (_ssl.c:1002)')))\n"
     ]
    },
    {
     "name": "stderr",
     "output_type": "stream",
     "text": [
      "$SYNCOMF.BO: possibly delisted; no timezone found\n"
     ]
    },
    {
     "name": "stdout",
     "output_type": "stream",
     "text": [
      "Error processing SYNCOMF =>\n",
      "No data fetched from 2024-12-01 00:00:00 to 2024-12-31 00:00:00\n",
      "\n",
      "Processing data for symbol TATAMOTORS =>\n",
      "Data processed and saved to => C:\\Users\\prashant.tripathi\\Code\\PortfolioTracker\\DATA\\BRONZE\\StockData\\TATAMOTORS_2024_12.csv\n",
      "\n",
      "Processing data for symbol TATAPOWER =>\n",
      "Data processed and saved to => C:\\Users\\prashant.tripathi\\Code\\PortfolioTracker\\DATA\\BRONZE\\StockData\\TATAPOWER_2024_12.csv\n",
      "\n",
      "Processing data for symbol TCS =>\n"
     ]
    },
    {
     "name": "stderr",
     "output_type": "stream",
     "text": [
      "Failed to get ticker 'TCS.NS' reason: HTTPSConnectionPool(host='guce.yahoo.com', port=443): Max retries exceeded with url: /consent (Caused by SSLError(SSLCertVerificationError(1, '[SSL: CERTIFICATE_VERIFY_FAILED] certificate verify failed: unable to get local issuer certificate (_ssl.c:1002)')))\n"
     ]
    },
    {
     "name": "stderr",
     "output_type": "stream",
     "text": [
      "$TCS.NS: possibly delisted; no timezone found\n"
     ]
    },
    {
     "name": "stdout",
     "output_type": "stream",
     "text": [
      "Error processing TCS =>\n",
      "No data fetched from 2024-12-01 00:00:00 to 2024-12-31 00:00:00\n",
      "\n",
      "Processing data for symbol DSP_ELSS_TAX_SAVER_FUND_DIRECT_PLAN_GROWTH =>\n"
     ]
    },
    {
     "name": "stderr",
     "output_type": "stream",
     "text": [
      "Failed to get ticker '0P0000XW2T.BO' reason: HTTPSConnectionPool(host='guce.yahoo.com', port=443): Max retries exceeded with url: /consent (Caused by SSLError(SSLCertVerificationError(1, '[SSL: CERTIFICATE_VERIFY_FAILED] certificate verify failed: unable to get local issuer certificate (_ssl.c:1002)')))\n"
     ]
    },
    {
     "name": "stderr",
     "output_type": "stream",
     "text": [
      "$0P0000XW2T.BO: possibly delisted; no timezone found\n"
     ]
    },
    {
     "name": "stdout",
     "output_type": "stream",
     "text": [
      "Error processing DSP_ELSS_TAX_SAVER_FUND_DIRECT_PLAN_GROWTH =>\n",
      "No data fetched from 2024-12-01 00:00:00 to 2024-12-31 00:00:00\n",
      "\n",
      "Processing data for symbol HDFC_INDEX_FUNDNIFTY_50_PLAN_DIRECT_PLAN =>\n"
     ]
    },
    {
     "name": "stderr",
     "output_type": "stream",
     "text": [
      "Failed to get ticker '0P0000XW7T.BO' reason: HTTPSConnectionPool(host='guce.yahoo.com', port=443): Max retries exceeded with url: /consent (Caused by SSLError(SSLCertVerificationError(1, '[SSL: CERTIFICATE_VERIFY_FAILED] certificate verify failed: unable to get local issuer certificate (_ssl.c:1002)')))\n"
     ]
    },
    {
     "name": "stderr",
     "output_type": "stream",
     "text": [
      "$0P0000XW7T.BO: possibly delisted; no timezone found\n"
     ]
    },
    {
     "name": "stdout",
     "output_type": "stream",
     "text": [
      "Error processing HDFC_INDEX_FUNDNIFTY_50_PLAN_DIRECT_PLAN =>\n",
      "No data fetched from 2024-12-01 00:00:00 to 2024-12-31 00:00:00\n"
     ]
    }
   ],
   "source": [
    "# Fetch stock data and process it.\n",
    "for _, row in df_holding_history.iterrows():\n",
    "    print(f\"\\nProcessing data for symbol {row['symbol']} =>\")\n",
    "    try:\n",
    "        stock_ticker = yf.Ticker(\n",
    "            OVERWRITE_TICKERS.get(row[\"symbol\"], row[\"isin\"]),\n",
    "            session=session,\n",
    "        )\n",
    "        date_list = generate_date_list(\n",
    "            row[\"min_date\"].to_pydatetime(), row[\"max_date\"].to_pydatetime()\n",
    "        )\n",
    "        for date in date_list:\n",
    "            output_file = stockdata_bronze_layer_path.joinpath(\n",
    "                f\"{row['symbol']}_{date.year:04d}_{date.month:02d}.csv\"\n",
    "            )\n",
    "            if (\n",
    "                output_file.exists()\n",
    "                and date.month_difference(DateTimeUtil.today()) >= 1\n",
    "            ):\n",
    "                continue\n",
    "            else:\n",
    "                try:\n",
    "                    download_file_from_github(output_file)\n",
    "                except:\n",
    "                    process_file(stock_ticker, date, output_file)\n",
    "    except Exception as e:\n",
    "        print(f\"Error processing {row['symbol']} =>\\n{e}\")"
   ]
  }
 ],
 "metadata": {
  "kernelspec": {
   "display_name": "Python 3",
   "language": "python",
   "name": "python3"
  },
  "language_debug": {
   "codemirror_mode": {
    "name": "ipython",
    "version": 3
   },
   "file_extension": ".py",
   "mimetype": "text/x-python",
   "name": "python",
   "nbconvert_exporter": "python",
   "pygments_lexer": "ipython3",
   "version": "3.11.4"
  },
  "language_info": {
   "codemirror_mode": {
    "name": "ipython",
    "version": 3
   },
   "file_extension": ".py",
   "mimetype": "text/x-python",
   "name": "python",
   "nbconvert_exporter": "python",
   "pygments_lexer": "ipython3",
   "version": "3.11.4"
  }
 },
 "nbformat": 4,
 "nbformat_minor": 4
}
