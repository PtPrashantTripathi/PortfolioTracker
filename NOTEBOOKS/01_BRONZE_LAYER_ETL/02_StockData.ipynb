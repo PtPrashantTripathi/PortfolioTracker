{
 "cells": [
  {
   "cell_type": "markdown",
   "metadata": {},
   "source": [
    "## SOURCE TO BRONZE LAYER\n",
    "\n",
    "### Process\n",
    "\n",
    "1. **Determine Current Year**: The function calculates the current year to use as the end date for data fetching.\n",
    "2. **Generate Year List**: Creates a list of years from the specified start year (`from_year`) to the current year.\n",
    "3. **Data Fetching and Processing**:\n",
    "   - For each year in the list, the function fetches daily stock data using the Yahoo Finance API (`yfinance`).\n",
    "   - If data is retrieved successfully, it is processed by:\n",
    "     - Resetting the index to include the date as a column.\n",
    "     - Replacing punctuation in column names for consistency.\n",
    "     - Fixing duplicate column names by appending numerical suffixes.\n",
    "   - If no data is fetched for a year, a warning is logged.\n",
    "4. **Directory and File Handling**:\n",
    "   - Ensures that a directory for each year exists or creates it if necessary.\n",
    "   - Saves the processed data to a CSV file in the appropriate year-specific directory.\n",
    "5. **Error Handling**: Logs any errors encountered during the fetching, processing, or saving of data.\n"
   ]
  },
  {
   "cell_type": "code",
   "execution_count": 1,
   "metadata": {
    "execution": {
     "iopub.execute_input": "2024-08-19T09:49:38.731257Z",
     "iopub.status.busy": "2024-08-19T09:49:38.730815Z",
     "iopub.status.idle": "2024-08-19T09:49:39.135770Z",
     "shell.execute_reply": "2024-08-19T09:49:39.135130Z"
    }
   },
   "outputs": [],
   "source": [
    "# Import necessary libraries and utility functions\n",
    "from datetime import datetime, timedelta\n",
    "\n",
    "import pandas as pd\n",
    "import yfinance as yf\n",
    "\n",
    "from PortfolioTracker.globalpath import GlobalPath\n",
    "from PortfolioTracker.utilities import (\n",
    "    fix_duplicate_column_names,\n",
    "    replace_punctuation_from_columns,\n",
    ")"
   ]
  },
  {
   "cell_type": "code",
   "execution_count": 2,
   "metadata": {
    "execution": {
     "iopub.execute_input": "2024-08-19T09:49:39.138428Z",
     "iopub.status.busy": "2024-08-19T09:49:39.138168Z",
     "iopub.status.idle": "2024-08-19T09:49:39.142060Z",
     "shell.execute_reply": "2024-08-19T09:49:39.141546Z"
    }
   },
   "outputs": [],
   "source": [
    "# Instantiate GlobalPath\n",
    "global_path = GlobalPath(\"PortfolioTracker\")\n",
    "# GLOBAL PATH\n",
    "stock_holding_records_file_path = global_path.joinpath(\n",
    "    \"DATA/GOLD/Holdings/HoldingsRecords_data.csv\"\n",
    ")\n",
    "stockdata_bronze_layer_path = global_path.joinpath(\"DATA/BRONZE/StockData\")"
   ]
  },
  {
   "cell_type": "code",
   "execution_count": 3,
   "metadata": {
    "execution": {
     "iopub.execute_input": "2024-08-19T09:49:39.144191Z",
     "iopub.status.busy": "2024-08-19T09:49:39.143850Z",
     "iopub.status.idle": "2024-08-19T09:49:39.148491Z",
     "shell.execute_reply": "2024-08-19T09:49:39.148009Z"
    }
   },
   "outputs": [],
   "source": [
    "def generate_month_list(start_date, end_date):\n",
    "    # Initialize list to store month list\n",
    "    month_list = []\n",
    "    # Loop through each month from from_date to current_date\n",
    "    while start_date <= end_date:\n",
    "        # Append year and month as a tuple\n",
    "        month_list.append((start_date.year, start_date.month))\n",
    "        # Move to the next month\n",
    "        # If the current month is December, increment the year and reset the month to January\n",
    "        if start_date.month == 12:\n",
    "            start_date = start_date.replace(\n",
    "                year=start_date.year + 1, month=1, day=1\n",
    "            )\n",
    "        else:\n",
    "            start_date = start_date.replace(month=start_date.month + 1, day=1)\n",
    "\n",
    "    print(month_list)\n",
    "    return month_list\n",
    "\n",
    "\n",
    "def get_first_and_last_date(year, month):\n",
    "    # First day of the month\n",
    "    first_date = datetime(year, month, 1)\n",
    "\n",
    "    # Calculate the last day of the month by adding one month and subtracting a day\n",
    "    if month == 12:\n",
    "        # Handle December, which needs to roll over to January of the next year\n",
    "        last_date = datetime(year + 1, 1, 1) - timedelta(days=1)\n",
    "    else:\n",
    "        # Normal case for months other than December\n",
    "        last_date = datetime(year, month + 1, 1) - timedelta(days=1)\n",
    "\n",
    "    # Ensure last_date does not exceed today's date\n",
    "    today = datetime.today()\n",
    "    if last_date > today:\n",
    "        last_date = today\n",
    "    return first_date, last_date"
   ]
  },
  {
   "cell_type": "code",
   "execution_count": 4,
   "metadata": {
    "execution": {
     "iopub.execute_input": "2024-08-19T09:49:39.150616Z",
     "iopub.status.busy": "2024-08-19T09:49:39.150265Z",
     "iopub.status.idle": "2024-08-19T09:49:39.155505Z",
     "shell.execute_reply": "2024-08-19T09:49:39.155033Z"
    },
    "lines_to_next_cell": 2
   },
   "outputs": [],
   "source": [
    "def process_file(isin_no: str, stock_name: str, month_list: list) -> None:\n",
    "    \"\"\"\n",
    "    Processes historical stock data for a given symbol and saves it to a CSV file.\n",
    "    \"\"\"\n",
    "    # Log the start of processing for the given symbol\n",
    "    print(f\"\\n\\nStarting data processing for symbol: {stock_name}\")\n",
    "\n",
    "    # Fetch historical stock data for each year\n",
    "    for year, month in month_list:\n",
    "        try:\n",
    "            start_date, end_date = get_first_and_last_date(year, month)\n",
    "\n",
    "            # Determine the output file path in the bronze layer\n",
    "            output_file = stockdata_bronze_layer_path.joinpath(\n",
    "                f\"{year:04d}/{month:02d}/{stock_name}.csv\"\n",
    "            )\n",
    "\n",
    "            # Check if the file exists\n",
    "            if end_date < datetime.today() and output_file.exists():\n",
    "                continue\n",
    "\n",
    "            # Fetch historical data from Yahoo Finance for the specified year\n",
    "            stock = yf.Ticker(isin_no)\n",
    "            df = stock.history(start=start_date, end=end_date, interval=\"1d\")\n",
    "\n",
    "            # Check if the DataFrame is empty\n",
    "            if df.empty:\n",
    "                print(\n",
    "                    f\"No data fetched for symbol: {stock_name} [{stock_name}] for year: {year} and month : {month}\"\n",
    "                )\n",
    "                continue\n",
    "\n",
    "            # Reset the index to ensure date is a column\n",
    "            df = df.reset_index()\n",
    "\n",
    "            # Replace punctuation in column names for consistency\n",
    "            df = replace_punctuation_from_columns(df)\n",
    "\n",
    "            # Fix duplicate column names by appending numerical suffixes\n",
    "            df = fix_duplicate_column_names(df)\n",
    "\n",
    "            # Round numerical values to 2 decimal places\n",
    "            df = df.round(2)\n",
    "\n",
    "            # Save the processed DataFrame to a CSV file\n",
    "            df.to_csv(output_file, index=False)\n",
    "\n",
    "            # Log successful processing and saving of data\n",
    "            print(\n",
    "                f\"Data for {stock_name} successfully processed and saved to {output_file}\"\n",
    "            )\n",
    "\n",
    "        except Exception as e:\n",
    "            # Log any errors encountered during processing\n",
    "            logger.error(\n",
    "                f\"Error processing data for {stock_name} for year {year}: {e}\"\n",
    "            )"
   ]
  },
  {
   "cell_type": "code",
   "execution_count": 5,
   "metadata": {
    "execution": {
     "iopub.execute_input": "2024-08-19T09:49:39.157472Z",
     "iopub.status.busy": "2024-08-19T09:49:39.157294Z",
     "iopub.status.idle": "2024-08-19T09:49:40.385265Z",
     "shell.execute_reply": "2024-08-19T09:49:40.384683Z"
    }
   },
   "outputs": [
    {
     "name": "stdout",
     "output_type": "stream",
     "text": [
      "[(2020, 5), (2020, 6)]\n",
      "\n",
      "\n",
      "Starting data processing for symbol: BHAGERIA\n",
      "[(2021, 8), (2021, 9), (2021, 10), (2021, 11), (2021, 12), (2022, 1), (2022, 2), (2022, 3), (2022, 4), (2022, 5), (2022, 6), (2022, 7), (2022, 8)]\n",
      "\n",
      "\n",
      "Starting data processing for symbol: BPCL\n",
      "[(2021, 2), (2021, 3), (2021, 4), (2021, 5), (2021, 6)]\n",
      "\n",
      "\n",
      "Starting data processing for symbol: GOLDBEES\n"
     ]
    },
    {
     "name": "stderr",
     "output_type": "stream",
     "text": [
      "Could not get exchangeTimezoneName for ticker '' reason: 'chart'\n"
     ]
    },
    {
     "name": "stderr",
     "output_type": "stream",
     "text": [
      "$: possibly delisted; No timezone found\n"
     ]
    },
    {
     "name": "stderr",
     "output_type": "stream",
     "text": [
      "Could not get exchangeTimezoneName for ticker '' reason: 'chart'\n"
     ]
    },
    {
     "name": "stderr",
     "output_type": "stream",
     "text": [
      "$: possibly delisted; No timezone found\n"
     ]
    },
    {
     "name": "stderr",
     "output_type": "stream",
     "text": [
      "Could not get exchangeTimezoneName for ticker '' reason: 'chart'\n"
     ]
    },
    {
     "name": "stderr",
     "output_type": "stream",
     "text": [
      "$: possibly delisted; No timezone found\n"
     ]
    },
    {
     "name": "stdout",
     "output_type": "stream",
     "text": [
      "No data fetched for symbol: GOLDBEES [GOLDBEES] for year: 2021 and month : 2\n",
      "No data fetched for symbol: GOLDBEES [GOLDBEES] for year: 2021 and month : 3\n",
      "No data fetched for symbol: GOLDBEES [GOLDBEES] for year: 2021 and month : 4\n"
     ]
    },
    {
     "name": "stderr",
     "output_type": "stream",
     "text": [
      "Could not get exchangeTimezoneName for ticker '' reason: 'chart'\n"
     ]
    },
    {
     "name": "stderr",
     "output_type": "stream",
     "text": [
      "$: possibly delisted; No timezone found\n"
     ]
    },
    {
     "name": "stderr",
     "output_type": "stream",
     "text": [
      "Could not get exchangeTimezoneName for ticker '' reason: 'chart'\n"
     ]
    },
    {
     "name": "stderr",
     "output_type": "stream",
     "text": [
      "$: possibly delisted; No timezone found\n"
     ]
    },
    {
     "name": "stdout",
     "output_type": "stream",
     "text": [
      "No data fetched for symbol: GOLDBEES [GOLDBEES] for year: 2021 and month : 5\n",
      "No data fetched for symbol: GOLDBEES [GOLDBEES] for year: 2021 and month : 6\n",
      "[(2021, 3)]\n",
      "\n",
      "\n",
      "Starting data processing for symbol: HERANBA\n",
      "[(2020, 7), (2020, 8), (2020, 9), (2020, 10), (2020, 11), (2020, 12), (2021, 1), (2021, 2), (2021, 3), (2021, 4), (2021, 5), (2021, 6)]\n",
      "\n",
      "\n",
      "Starting data processing for symbol: IDEA\n",
      "[(2021, 4), (2021, 5), (2021, 6)]\n",
      "\n",
      "\n",
      "Starting data processing for symbol: INFY\n",
      "[(2024, 6), (2024, 7), (2024, 8)]\n",
      "\n",
      "\n",
      "Starting data processing for symbol: IRCTC\n",
      "[(2024, 6), (2024, 7), (2024, 8)]\n",
      "\n",
      "\n",
      "Starting data processing for symbol: KPITTECH\n",
      "[(2022, 5), (2022, 6), (2022, 7), (2022, 8)]\n",
      "\n",
      "\n",
      "Starting data processing for symbol: LICI\n",
      "[(2021, 2), (2021, 3), (2021, 4), (2021, 5), (2021, 6)]\n",
      "\n",
      "\n",
      "Starting data processing for symbol: NIFTYBEES\n",
      "[(2020, 7), (2020, 8), (2020, 9), (2020, 10), (2020, 11), (2020, 12), (2021, 1), (2021, 2), (2021, 3), (2021, 4), (2021, 5), (2021, 6)]\n",
      "\n",
      "\n",
      "Starting data processing for symbol: PNB\n",
      "[(2021, 5), (2021, 6)]\n",
      "\n",
      "\n",
      "Starting data processing for symbol: SBIN\n",
      "[(2021, 6), (2021, 7), (2021, 8), (2021, 9), (2021, 10), (2021, 11), (2021, 12), (2022, 1), (2022, 2), (2022, 3), (2022, 4), (2022, 5), (2022, 6), (2022, 7), (2022, 8)]\n",
      "\n",
      "\n",
      "Starting data processing for symbol: TATACHEM\n",
      "[(2020, 4), (2020, 5), (2020, 6), (2020, 7), (2020, 8), (2020, 9), (2020, 10), (2020, 11), (2020, 12), (2021, 1), (2021, 2), (2021, 3), (2021, 4), (2021, 5), (2021, 6), (2021, 7), (2021, 8), (2021, 9), (2021, 10), (2021, 11), (2021, 12), (2022, 1), (2022, 2), (2022, 3), (2022, 4), (2022, 5), (2022, 6), (2022, 7), (2022, 8), (2022, 9), (2022, 10), (2022, 11), (2022, 12), (2023, 1), (2023, 2), (2023, 3), (2023, 4), (2023, 5), (2023, 6), (2023, 7), (2023, 8), (2023, 9), (2023, 10), (2023, 11), (2023, 12), (2024, 1), (2024, 2), (2024, 3), (2024, 4), (2024, 5), (2024, 6), (2024, 7), (2024, 8)]\n",
      "\n",
      "\n",
      "Starting data processing for symbol: TATAMOTORS\n",
      "[(2021, 2), (2021, 3), (2021, 4), (2021, 5), (2021, 6), (2021, 7), (2021, 8), (2021, 9), (2021, 10), (2021, 11), (2021, 12), (2022, 1), (2022, 2), (2022, 3), (2022, 4), (2022, 5), (2022, 6), (2022, 7), (2022, 8), (2022, 9), (2022, 10), (2022, 11), (2022, 12), (2023, 1), (2023, 2), (2023, 3), (2023, 4), (2023, 5), (2023, 6), (2023, 7), (2023, 8), (2023, 9), (2023, 10), (2023, 11), (2023, 12), (2024, 1), (2024, 2), (2024, 3), (2024, 4), (2024, 5), (2024, 6), (2024, 7), (2024, 8)]\n",
      "\n",
      "\n",
      "Starting data processing for symbol: TATAPOWER\n",
      "[(2021, 6), (2021, 7), (2021, 8), (2021, 9), (2021, 10), (2021, 11), (2021, 12), (2022, 1), (2022, 2), (2022, 3), (2022, 4), (2022, 5), (2022, 6), (2022, 7), (2022, 8)]\n",
      "\n",
      "\n",
      "Starting data processing for symbol: VOLTAS\n",
      "[(2020, 7), (2020, 8), (2020, 9), (2020, 10), (2020, 11), (2020, 12), (2021, 1), (2021, 2), (2021, 3), (2021, 4), (2021, 5), (2021, 6), (2021, 7), (2021, 8), (2021, 9), (2021, 10), (2021, 11)]\n",
      "\n",
      "\n",
      "Starting data processing for symbol: YESBANK\n",
      "[(2024, 5), (2024, 6), (2024, 7), (2024, 8)]\n",
      "\n",
      "\n",
      "Starting data processing for symbol: MIRAE-ASSET-ELSS-TAX-SAVER-FUND-DIRECT-GROWTH\n",
      "[(2024, 5), (2024, 6), (2024, 7), (2024, 8)]\n",
      "\n",
      "\n",
      "Starting data processing for symbol: SBI-LONG-TERM-EQUITY-FUND-DIRECT-PLAN-GROWTH\n"
     ]
    }
   ],
   "source": [
    "df_stock_holding_records = pd.read_csv(stock_holding_records_file_path)\n",
    "df_stock_holding_records[\"min_date\"] = pd.to_datetime(\n",
    "    df_stock_holding_records[\"min_date\"]\n",
    ")\n",
    "df_stock_holding_records[\"max_date\"] = pd.to_datetime(\n",
    "    df_stock_holding_records[\"max_date\"]\n",
    ")\n",
    "\n",
    "for index, row in df_stock_holding_records.iterrows():\n",
    "    process_file(\n",
    "        isin_no=row[\"isin_no\"],\n",
    "        stock_name=row[\"symbol\"],\n",
    "        month_list=generate_month_list(row[\"min_date\"], row[\"max_date\"]),\n",
    "    )"
   ]
  }
 ],
 "metadata": {
  "kernelspec": {
   "display_name": "Python 3 (ipykernel)",
   "language": "python",
   "name": "python3"
  },
  "language_debug": {
   "codemirror_mode": {
    "name": "ipython",
    "version": 3
   },
   "file_extension": ".py",
   "mimetype": "text/x-python",
   "name": "python",
   "nbconvert_exporter": "python",
   "pygments_lexer": "ipython3",
   "version": "3.11.4"
  },
  "language_info": {
   "codemirror_mode": {
    "name": "ipython",
    "version": 3
   },
   "file_extension": ".py",
   "mimetype": "text/x-python",
   "name": "python",
   "nbconvert_exporter": "python",
   "pygments_lexer": "ipython3",
   "version": "3.12.4"
  }
 },
 "nbformat": 4,
 "nbformat_minor": 4
}
