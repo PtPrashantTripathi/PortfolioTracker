{
 "cells": [
  {
   "cell_type": "markdown",
   "metadata": {},
   "source": [
    "## SOURCE TO BRONZE LAYER\n",
    "\n",
    "### Process:\n",
    "\n",
    "> The function fetches daily stock data using the Yahoo Finance API (`yfinance`).\n"
   ]
  },
  {
   "cell_type": "code",
   "execution_count": 1,
   "metadata": {
    "execution": {




    }
   },
   "outputs": [],
   "source": [
    "# Importing Common Utility Funcation\n",
    "%run ../00_COMMON/common_utility.ipynb"
   ]
  },
  {
   "cell_type": "code",
   "execution_count": 2,
   "metadata": {
    "execution": {




    }
   },
   "outputs": [],
   "source": [
    "# Import necessary libraries and utility functions\n",
    "import pandas as pd\n",
    "import yfinance as yf\n",
    "\n",
    "from ETLTools import DateTimeUtil, GlobalPath"
   ]
  },
  {
   "cell_type": "code",
   "execution_count": 3,
   "metadata": {
    "execution": {




    }
   },
   "outputs": [],
   "source": [
    "# Define file paths\n",
    "holdingshistory_gold_file_path = GlobalPath(\n",
    "    \"DATA/GOLD/Holdings/HoldingsHistory_data.csv\"\n",
    ")\n",
    "symbol_silver_file_path = GlobalPath(\"DATA/SILVER/Symbol/Symbol_data.csv\")\n",
    "stockdata_bronze_layer_path = GlobalPath(\"DATA/BRONZE/StockData\")"
   ]
  },
  {
   "cell_type": "code",
   "execution_count": 4,
   "metadata": {
    "execution": {




    },
    "lines_to_next_cell": 2
   },
   "outputs": [],
   "source": [
    "def process_file(\n",
    "    stock_ticker,\n",
    "    stock_name: str,\n",
    "    date: DateTimeUtil,\n",
    "    output_file: GlobalPath,\n",
    "):\n",
    "    \"\"\"\n",
    "    Processes historical stock data for a given symbol and saves it to a CSV file.\n",
    "\n",
    "    Args:\n",
    "        stock_ticker : stock_ticker of the stock.\n",
    "        stock_name (str): The stock_name of the stock.\n",
    "        date (DateTimeUtil): DateTimeUtil object representing the date.\n",
    "        output_file (str): Path to the output CSV file where the processed data will be saved.\n",
    "    \"\"\"\n",
    "    # Fetch historical data from Yahoo Finance for the specified date range\n",
    "    df = stock_ticker.history(\n",
    "        start=date.start_date,\n",
    "        end=min(date.end_date, DateTimeUtil.today()),\n",
    "        interval=\"1d\",\n",
    "    )\n",
    "\n",
    "    # Check if the DataFrame is empty and raise an exception if no data is fetched\n",
    "    if df.empty:\n",
    "        raise Exception(\n",
    "            f\"No data fetched for {stock_name} from {date.start_date} to {date.end_date}\"\n",
    "        )\n",
    "\n",
    "    # Reset the index to ensure date is a column\n",
    "    df = df.reset_index()\n",
    "\n",
    "    # Replace punctuation in column names for consistency\n",
    "    df = replace_punctuation_from_columns(df)\n",
    "\n",
    "    # Fix duplicate column names by appending numerical suffixes\n",
    "    df = fix_duplicate_column_names(df)\n",
    "\n",
    "    # Round numerical values to 2 decimal places\n",
    "    df = df.round(2)\n",
    "\n",
    "    # Save the processed DataFrame to a CSV file\n",
    "    df.to_csv(output_file, index=False)\n",
    "\n",
    "    # Log successful processing and saving of data\n",
    "    print(f\"Data processed and saved to: {output_file}\")"
   ]
  },
  {
   "cell_type": "code",
   "execution_count": 5,
   "metadata": {
    "execution": {




    }
   },
   "outputs": [],
   "source": [
    "def generate_date_list(start_date, end_date):\n",
    "    \"\"\"\n",
    "    Generates a list of DateTimeUtil objects representing the first day of each month\n",
    "    within the specified date range.\n",
    "\n",
    "    Args:\n",
    "        start_date (datetime.date): Start date of the range.\n",
    "        end_date (datetime.date): End date of the range.\n",
    "\n",
    "    Returns:\n",
    "        List[DateTimeUtil]: List of DateTimeUtil objects for each month within the range.\n",
    "    \"\"\"\n",
    "    month_list = []\n",
    "    current_date = min(start_date, DateTimeUtil.today())\n",
    "    end_date = min(end_date, DateTimeUtil.today())\n",
    "    while current_date <= end_date:\n",
    "        month_list.append(\n",
    "            DateTimeUtil(current_date.year, current_date.month, 1)\n",
    "        )\n",
    "        if current_date.month == 12:\n",
    "            current_date = current_date.replace(\n",
    "                year=current_date.year + 1, month=1, day=1\n",
    "            )\n",
    "        else:\n",
    "            current_date = current_date.replace(\n",
    "                month=current_date.month + 1, day=1\n",
    "            )\n",
    "    return month_list"
   ]
  },
  {
   "cell_type": "code",
   "execution_count": 6,
   "metadata": {
    "execution": {




    }
   },
   "outputs": [
    {
     "name": "stdout",
     "output_type": "stream",
     "text": [
      "Running data processing pipeline...\n",
      "Loaded data from: /home/runner/work/PortfolioTracker/PortfolioTracker/DATA/GOLD/Holdings/HoldingsHistory_data.csv\n",
      "Loaded data from: /home/runner/work/PortfolioTracker/PortfolioTracker/DATA/SILVER/Symbol/Symbol_data.csv\n"
     ]
    }
   ],
   "source": [
    "print(\"Running data processing pipeline...\")\n",
    "\n",
    "# Load holdings data\n",
    "df_holdings_history = pd.read_csv(holdingshistory_gold_file_path)\n",
    "print(f\"Loaded data from: {holdingshistory_gold_file_path}\")\n",
    "# Replace scrip code with scrip_name name\n",
    "df_symbol = pd.read_csv(symbol_silver_file_path)\n",
    "print(f\"Loaded data from: {symbol_silver_file_path}\")\n",
    "\n",
    "\n",
    "# Calculate the min and max dates for each stock\n",
    "df_holdings_history[\"date\"] = pd.to_datetime(df_holdings_history[\"date\"])\n",
    "df_holdings_history = (\n",
    "    df_holdings_history.groupby([\"segment\", \"exchange\", \"symbol\"])\n",
    "    .agg(min_date=(\"date\", \"min\"), max_date=(\"date\", \"max\"))\n",
    "    .reset_index()\n",
    ")\n",
    "\n",
    "# Merge df_HoldingHistory with df_Symbol on the matching columns\n",
    "df_holdings_history = df_holdings_history.merge(\n",
    "    df_symbol[[\"symbol\", \"isin\"]],\n",
    "    left_on=\"symbol\",\n",
    "    right_on=\"symbol\",\n",
    "    how=\"left\",\n",
    ")"
   ]
  },
  {
   "cell_type": "code",
   "execution_count": 7,
   "metadata": {
    "execution": {




    }
   },
   "outputs": [],
   "source": [
    "# Dictionary for overwriting specific stock tickers\n",
    "overwrite_stock_ticker = {\n",
    "    \"BAJAJHFL\": \"BAJAJHFL.NS\"\n",
    "}\n",
    "\n",
    "def get_stock_ticker(row):\n",
    "    # Check if symbol has an override in the dictionary\n",
    "    if row[\"symbol\"] in overwrite_stock_ticker:\n",
    "        stock_ticker = yf.Ticker(overwrite_stock_ticker.get(row[\"symbol\"]))\n",
    "        if stock_ticker.info and stock_ticker.info.get(\"regularMarketPrice\"):\n",
    "            return stock_ticker\n",
    "\n",
    "    # Try the NSE ticker\n",
    "    stock_ticker = yf.Ticker(row[\"symbol\"] + \".NS\")\n",
    "    if stock_ticker.info and stock_ticker.info.get(\"regularMarketPrice\"):\n",
    "        return stock_ticker\n",
    "\n",
    "    # Try the BSE ticker\n",
    "    stock_ticker = yf.Ticker(row[\"symbol\"] + \".BO\")\n",
    "    if stock_ticker.info and stock_ticker.info.get(\"regularMarketPrice\"):\n",
    "        return stock_ticker\n",
    "\n",
    "    # Fallback to the ISIN ticker\n",
    "    stock_ticker = yf.Ticker(row[\"isin\"])\n",
    "    if stock_ticker.info and stock_ticker.info.get(\"regularMarketPrice\"):\n",
    "        return stock_ticker\n",
    "\n",
    "    # If no valid ticker is found, raise an error\n",
    "    raise KeyError(f\"Fix this key: {row['symbol']}\")"
   ]
  },
  {
   "cell_type": "code",
   "execution_count": 8,
   "metadata": {
    "execution": {




    }
   },
   "outputs": [
    {
     "name": "stdout",
     "output_type": "stream",
     "text": [
      "Processing data for symbol BAJAJHFL:\n"
     ]
    },
    {
     "name": "stdout",
     "output_type": "stream",
     "text": [
      "Error processing:\n",
      "404 Client Error: Not Found for url: https://query2.finance.yahoo.com/v6/finance/quoteSummary/BAJAJHFL.NS?modules=financialData&modules=quoteType&modules=defaultKeyStatistics&modules=assetProfile&modules=summaryDetail&ssl=true\n",
      "Processing data for symbol BHAGERIA:\n"
     ]
    },
    {
     "name": "stdout",
     "output_type": "stream",
     "text": [
      "Error processing:\n",
      "404 Client Error: Not Found for url: https://query2.finance.yahoo.com/v6/finance/quoteSummary/BHAGERIA.NS?modules=financialData&modules=quoteType&modules=defaultKeyStatistics&modules=assetProfile&modules=summaryDetail&ssl=true\n",
      "Processing data for symbol BPCL:\n"
     ]
    },
    {
     "name": "stdout",
     "output_type": "stream",
     "text": [
      "Error processing:\n",
      "404 Client Error: Not Found for url: https://query2.finance.yahoo.com/v6/finance/quoteSummary/BPCL.NS?modules=financialData&modules=quoteType&modules=defaultKeyStatistics&modules=assetProfile&modules=summaryDetail&ssl=true\n",
      "Processing data for symbol GOLDBEES:\n"
     ]
    },
    {
     "name": "stdout",
     "output_type": "stream",
     "text": [
      "Error processing:\n",
      "404 Client Error: Not Found for url: https://query2.finance.yahoo.com/v6/finance/quoteSummary/GOLDBEES.NS?modules=financialData&modules=quoteType&modules=defaultKeyStatistics&modules=assetProfile&modules=summaryDetail&ssl=true\n",
      "Processing data for symbol HERANBA:\n"
     ]
    },
    {
     "name": "stdout",
     "output_type": "stream",
     "text": [
      "Error processing:\n",
      "404 Client Error: Not Found for url: https://query2.finance.yahoo.com/v6/finance/quoteSummary/HERANBA.NS?modules=financialData&modules=quoteType&modules=defaultKeyStatistics&modules=assetProfile&modules=summaryDetail&ssl=true\n",
      "Processing data for symbol IDEA:\n"
     ]
    },
    {
     "name": "stdout",
     "output_type": "stream",
     "text": [
      "Error processing:\n",
      "404 Client Error: Not Found for url: https://query2.finance.yahoo.com/v6/finance/quoteSummary/IDEA.NS?modules=financialData&modules=quoteType&modules=defaultKeyStatistics&modules=assetProfile&modules=summaryDetail&ssl=true\n",
      "Processing data for symbol INFY:\n"
     ]
    },
    {
     "name": "stdout",
     "output_type": "stream",
     "text": [
      "Error processing:\n",
      "404 Client Error: Not Found for url: https://query2.finance.yahoo.com/v6/finance/quoteSummary/INFY.NS?modules=financialData&modules=quoteType&modules=defaultKeyStatistics&modules=assetProfile&modules=summaryDetail&ssl=true\n",
      "Processing data for symbol IRCTC:\n"
     ]
    },
    {
     "name": "stdout",
     "output_type": "stream",
     "text": [
      "Error processing:\n",
      "404 Client Error: Not Found for url: https://query2.finance.yahoo.com/v6/finance/quoteSummary/IRCTC.NS?modules=financialData&modules=quoteType&modules=defaultKeyStatistics&modules=assetProfile&modules=summaryDetail&ssl=true\n",
      "Processing data for symbol KPITTECH:\n"
     ]
    },
    {
     "name": "stdout",
     "output_type": "stream",
     "text": [
      "Error processing:\n",
      "404 Client Error: Not Found for url: https://query2.finance.yahoo.com/v6/finance/quoteSummary/KPITTECH.NS?modules=financialData&modules=quoteType&modules=defaultKeyStatistics&modules=assetProfile&modules=summaryDetail&ssl=true\n",
      "Processing data for symbol LICI:\n"
     ]
    },
    {
     "name": "stdout",
     "output_type": "stream",
     "text": [
      "Error processing:\n",
      "404 Client Error: Not Found for url: https://query2.finance.yahoo.com/v6/finance/quoteSummary/LICI.NS?modules=financialData&modules=quoteType&modules=defaultKeyStatistics&modules=assetProfile&modules=summaryDetail&ssl=true\n",
      "Processing data for symbol NIFTYBEES:\n"
     ]
    },
    {
     "name": "stdout",
     "output_type": "stream",
     "text": [
      "Error processing:\n",
      "404 Client Error: Not Found for url: https://query2.finance.yahoo.com/v6/finance/quoteSummary/NIFTYBEES.NS?modules=financialData&modules=quoteType&modules=defaultKeyStatistics&modules=assetProfile&modules=summaryDetail&ssl=true\n",
      "Processing data for symbol PNB:\n"
     ]
    },
    {
     "name": "stdout",
     "output_type": "stream",
     "text": [
      "Error processing:\n",
      "404 Client Error: Not Found for url: https://query2.finance.yahoo.com/v6/finance/quoteSummary/PNB.NS?modules=financialData&modules=quoteType&modules=defaultKeyStatistics&modules=assetProfile&modules=summaryDetail&ssl=true\n",
      "Processing data for symbol SBIN:\n"
     ]
    },
    {
     "name": "stdout",
     "output_type": "stream",
     "text": [
      "Error processing:\n",
      "404 Client Error: Not Found for url: https://query2.finance.yahoo.com/v6/finance/quoteSummary/SBIN.NS?modules=financialData&modules=quoteType&modules=defaultKeyStatistics&modules=assetProfile&modules=summaryDetail&ssl=true\n",
      "Processing data for symbol TATACHEM:\n"
     ]
    },
    {
     "name": "stdout",
     "output_type": "stream",
     "text": [
      "Error processing:\n",
      "404 Client Error: Not Found for url: https://query2.finance.yahoo.com/v6/finance/quoteSummary/TATACHEM.NS?modules=financialData&modules=quoteType&modules=defaultKeyStatistics&modules=assetProfile&modules=summaryDetail&ssl=true\n",
      "Processing data for symbol TATAMOTORS:\n"
     ]
    },
    {
     "name": "stdout",
     "output_type": "stream",
     "text": [
      "Error processing:\n",
      "404 Client Error: Not Found for url: https://query2.finance.yahoo.com/v6/finance/quoteSummary/TATAMOTORS.NS?modules=financialData&modules=quoteType&modules=defaultKeyStatistics&modules=assetProfile&modules=summaryDetail&ssl=true\n",
      "Processing data for symbol TATAPOWER:\n"
     ]
    },
    {
     "name": "stdout",
     "output_type": "stream",
     "text": [
      "Error processing:\n",
      "404 Client Error: Not Found for url: https://query2.finance.yahoo.com/v6/finance/quoteSummary/TATAPOWER.NS?modules=financialData&modules=quoteType&modules=defaultKeyStatistics&modules=assetProfile&modules=summaryDetail&ssl=true\n",
      "Processing data for symbol VOLTAS:\n"
     ]
    },
    {
     "name": "stdout",
     "output_type": "stream",
     "text": [
      "Error processing:\n",
      "404 Client Error: Not Found for url: https://query2.finance.yahoo.com/v6/finance/quoteSummary/VOLTAS.NS?modules=financialData&modules=quoteType&modules=defaultKeyStatistics&modules=assetProfile&modules=summaryDetail&ssl=true\n",
      "Processing data for symbol YESBANK:\n"
     ]
    },
    {
     "name": "stdout",
     "output_type": "stream",
     "text": [
      "Error processing:\n",
      "404 Client Error: Not Found for url: https://query2.finance.yahoo.com/v6/finance/quoteSummary/YESBANK.NS?modules=financialData&modules=quoteType&modules=defaultKeyStatistics&modules=assetProfile&modules=summaryDetail&ssl=true\n",
      "Processing data for symbol MIRAE_ASSET_ELSS_TAX_SAVER_FUND_DIRECT_PLAN_GROWTH:\n"
     ]
    },
    {
     "name": "stdout",
     "output_type": "stream",
     "text": [
      "Error processing:\n",
      "404 Client Error: Not Found for url: https://query2.finance.yahoo.com/v6/finance/quoteSummary/MIRAE_ASSET_ELSS_TAX_SAVER_FUND_DIRECT_PLAN_GROWTH.NS?modules=financialData&modules=quoteType&modules=defaultKeyStatistics&modules=assetProfile&modules=summaryDetail&ssl=true\n",
      "Processing data for symbol SBI_LONG_TERM_EQUITY_FUND_DIRECT_PLAN_GROWTH:\n"
     ]
    },
    {
     "name": "stdout",
     "output_type": "stream",
     "text": [
      "Error processing:\n",
      "404 Client Error: Not Found for url: https://query2.finance.yahoo.com/v6/finance/quoteSummary/SBI_LONG_TERM_EQUITY_FUND_DIRECT_PLAN_GROWTH.NS?modules=financialData&modules=quoteType&modules=defaultKeyStatistics&modules=assetProfile&modules=summaryDetail&ssl=true\n"
     ]
    }
   ],
   "source": [
    "# Iterate over each stock holding record\n",
    "for _, row in df_holdings_history.iterrows():\n",
    "    try:\n",
    "        print(f\"Processing data for symbol {row['symbol']}:\")\n",
    "        stock_ticker = get_stock_ticker(row)\n",
    "        # Generate a list of months within the date range for each stock\n",
    "        date_list = generate_date_list(\n",
    "            row[\"min_date\"].to_pydatetime(), row[\"max_date\"].to_pydatetime()\n",
    "        )\n",
    "        for date in date_list:\n",
    "            # Determine the output file path in the bronze layer\n",
    "            output_file = stockdata_bronze_layer_path.joinpath(\n",
    "                f\"{row['symbol']}_{date.year:04d}_{date.month:02d}.csv\"\n",
    "            )\n",
    "            # Check if the file exists and skip if it's older than 2 months\n",
    "            if output_file.exists():\n",
    "                month_difference = date.month_difference(DateTimeUtil.today())\n",
    "                if month_difference >= 1:\n",
    "                    continue\n",
    "\n",
    "            # Process and save the file\n",
    "            process_file(\n",
    "                stock_ticker=stock_ticker,\n",
    "                stock_name=row[\"symbol\"],\n",
    "                date=date,\n",
    "                output_file=output_file,\n",
    "            )\n",
    "    except Exception as e:\n",
    "        # Log any errors encountered during processing\n",
    "        print(f\"Error processing:\\n{e}\")"
   ]
  },
  {
   "cell_type": "code",
   "execution_count": 9,
   "metadata": {
    "execution": {




    }
   },
   "outputs": [],
   "source": [
    "# import pandas as pd\n",
    "\n",
    "# # Read the CSV file\n",
    "# df = pd.read_csv(\n",
    "#     https://www.nseindia.com/get-quotes/equity?symbol=GOLDBEES\n",
    "# )\n",
    "\n",
    "# # Rename columns to match the desired format\n",
    "# df.columns = [\n",
    "#     \"Date\",\n",
    "#     \"series\",\n",
    "#     \"OPEN\",\n",
    "#     \"HIGH\",\n",
    "#     \"LOW\",\n",
    "#     \"PREV. CLOSE\",\n",
    "#     \"ltp\",\n",
    "#     \"close\",\n",
    "#     \"vwap\",\n",
    "#     \"52W H\",\n",
    "#     \"52W L\",\n",
    "#     \"VOLUME\",\n",
    "#     \"VALUE\",\n",
    "#     \"No of trades\",\n",
    "# ]\n",
    "\n",
    "# # Select and rename columns as per the desired output\n",
    "# df = df[[\"Date\", \"OPEN\", \"HIGH\", \"LOW\", \"close\", \"VOLUME\"]].copy()\n",
    "\n",
    "# # Rename columns to the new format\n",
    "# df.columns = [\"Date\", \"open\", \"high\", \"low\", \"close\", \"volume\"]\n",
    "\n",
    "# # Convert 'Date' column to datetime format and adjust timezone\n",
    "# df[\"Date\"] = pd.to_datetime(df[\"Date\"], format=\"%d-%b-%Y\")\n",
    "# df[\"date\"] = df[\"Date\"].dt.strftime(\"%Y-%m-%d\") + \" 00:00:00+05:30\"\n",
    "\n",
    "# # Ensure 'volume' is an integer\n",
    "# df[\"volume\"] = df[\"volume\"].str.replace(\",\", \"\").astype(float).astype(int)\n",
    "\n",
    "# # Add placeholder columns for dividends and stock_splits\n",
    "# df[\"dividends\"] = 0.0\n",
    "# df[\"stock_splits\"] = 0.0\n",
    "\n",
    "# year = 2021\n",
    "# for month in range(2, 7):\n",
    "#     output_file = stockdata_bronze_layer_path.joinpath(\n",
    "#         f\"{year:04d}/{month:02d}/GOLDBEES.csv\"\n",
    "#     )\n",
    "#     df[df[\"Date\"].dt.month == month][[\n",
    "#         \"date\",\n",
    "#         \"open\",\n",
    "#         \"high\",\n",
    "#         \"low\",\n",
    "#         \"close\",\n",
    "#         \"volume\",\n",
    "#         \"dividends\",\n",
    "#         \"stock_splits\",\n",
    "#     ]].to_csv(output_file, index=False)"
   ]
  }
 ],
 "metadata": {
  "kernelspec": {
   "display_name": "Python 3 (ipykernel)",
   "language": "python",
   "name": "python3"
  },
  "language_debug": {
   "codemirror_mode": {
    "name": "ipython",
    "version": 3
   },
   "file_extension": ".py",
   "mimetype": "text/x-python",
   "name": "python",
   "nbconvert_exporter": "python",
   "pygments_lexer": "ipython3",
   "version": "3.11.4"
  },
  "language_info": {
   "codemirror_mode": {
    "name": "ipython",
    "version": 3
   },
   "file_extension": ".py",
   "mimetype": "text/x-python",
   "name": "python",
   "nbconvert_exporter": "python",
   "pygments_lexer": "ipython3",
   "version": "3.11.4"
  }
 },
 "nbformat": 4,
 "nbformat_minor": 4
}
