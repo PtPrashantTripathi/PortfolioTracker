{
 "cells": [
  {
   "cell_type": "markdown",
   "metadata": {},
   "source": [
    "## SOURCE TO BRONZE LAYER\n",
    "\n",
    "### Process:\n",
    "\n",
    "> The function fetches daily stock data using the Yahoo Finance API (`yfinance`).\n"
   ]
  },
  {
   "cell_type": "code",
   "execution_count": 1,
   "metadata": {
    "execution": {
     "iopub.execute_input": "2024-09-20T14:17:29.463349Z",
     "iopub.status.busy": "2024-09-20T14:17:29.463349Z",
     "iopub.status.idle": "2024-09-20T14:17:29.934879Z",
     "shell.execute_reply": "2024-09-20T14:17:29.934879Z"
    }
   },
   "outputs": [],
   "source": [
    "# Importing Common Utility Funcation\n",
    "import pandas as pd\n",
    "import yfinance as yf\n",
    "from ETLTools import DateTimeUtil, GlobalPath"
   ]
  },
  {
   "cell_type": "code",
   "execution_count": 2,
   "metadata": {
    "execution": {
     "iopub.execute_input": "2024-09-20T14:17:29.934879Z",
     "iopub.status.busy": "2024-09-20T14:17:29.934879Z",
     "iopub.status.idle": "2024-09-20T14:17:30.082990Z",
     "shell.execute_reply": "2024-09-20T14:17:30.082990Z"
    }
   },
   "outputs": [],
   "source": [
    "# Import necessary libraries and utility functions\n",
    "%run ../COMMON/common_utility.ipynb"
   ]
  },
  {
   "cell_type": "code",
   "execution_count": 3,
   "metadata": {
    "execution": {
     "iopub.execute_input": "2024-09-20T14:17:30.082990Z",
     "iopub.status.busy": "2024-09-20T14:17:30.082990Z",
     "iopub.status.idle": "2024-09-20T14:17:30.089696Z",
     "shell.execute_reply": "2024-09-20T14:17:30.089696Z"
    }
   },
   "outputs": [],
   "source": [
    "# Define file paths\n",
    "holdingshistory_source_layer_path = GlobalPath(\n",
    "    \"DATA/SOURCE/Holdings/HoldingsHistory_data.csv\"\n",
    ")\n",
    "stockdata_bronze_layer_path = GlobalPath(\"DATA/BRONZE/StockData\")"
   ]
  },
  {
   "cell_type": "code",
   "execution_count": 4,
   "metadata": {
    "execution": {
     "iopub.execute_input": "2024-09-20T14:17:30.089696Z",
     "iopub.status.busy": "2024-09-20T14:17:30.089696Z",
     "iopub.status.idle": "2024-09-20T14:17:30.096467Z",
     "shell.execute_reply": "2024-09-20T14:17:30.096467Z"
    },
    "lines_to_next_cell": 2
   },
   "outputs": [],
   "source": [
    "def process_file(\n",
    "    stock_ticker,\n",
    "    stock_name: str,\n",
    "    date: DateTimeUtil,\n",
    "    output_file: GlobalPath,\n",
    "):\n",
    "    \"\"\"\n",
    "    Processes historical stock data for a given symbol and saves it to a CSV file.\n",
    "\n",
    "    Args:\n",
    "        stock_ticker : stock_ticker of the stock.\n",
    "        stock_name (str): The stock_name of the stock.\n",
    "        date (DateTimeUtil): DateTimeUtil object representing the date.\n",
    "        output_file (str): Path to the output CSV file where the processed data will be saved.\n",
    "    \"\"\"\n",
    "    # Fetch historical data from Yahoo Finance for the specified date range\n",
    "    df = stock_ticker.history(\n",
    "        start=date.start_date,\n",
    "        end=min(date.end_date, DateTimeUtil.today()),\n",
    "        interval=\"1d\",\n",
    "    )\n",
    "\n",
    "    # Check if the DataFrame is empty and raise an exception if no data is fetched\n",
    "    if df.empty:\n",
    "        raise Exception(\n",
    "            f\"No data fetched for {stock_name} from {date.start_date} to {date.end_date}\"\n",
    "        )\n",
    "\n",
    "    # Reset the index to ensure date is a column\n",
    "    df = df.reset_index()\n",
    "\n",
    "    # Replace punctuation in column names for consistency\n",
    "    df = replace_punctuation_from_columns(df)\n",
    "\n",
    "    # Fix duplicate column names by appending numerical suffixes\n",
    "    df = fix_duplicate_column_names(df)\n",
    "\n",
    "    # Round numerical values to 2 decimal places\n",
    "    df = df.round(2)\n",
    "\n",
    "    # Save the processed DataFrame to a CSV file\n",
    "    df.to_csv(output_file, index=False)\n",
    "\n",
    "    # Log successful processing and saving of data\n",
    "    print(f\"Data processed and saved to: {output_file}\")"
   ]
  },
  {
   "cell_type": "code",
   "execution_count": 5,
   "metadata": {
    "execution": {
     "iopub.execute_input": "2024-09-20T14:17:30.103702Z",
     "iopub.status.busy": "2024-09-20T14:17:30.103702Z",
     "iopub.status.idle": "2024-09-20T14:17:30.110278Z",
     "shell.execute_reply": "2024-09-20T14:17:30.110278Z"
    }
   },
   "outputs": [],
   "source": [
    "# Dictionary for overwriting specific stock tickers\n",
    "overwrite_stock_ticker = {\"BAJAJHFL\": \"BAJAJHFL.NS\"}"
   ]
  },
  {
   "cell_type": "code",
   "execution_count": 6,
   "metadata": {
    "execution": {
     "iopub.execute_input": "2024-09-20T14:17:30.110278Z",
     "iopub.status.busy": "2024-09-20T14:17:30.110278Z",
     "iopub.status.idle": "2024-09-20T14:17:34.500920Z",
     "shell.execute_reply": "2024-09-20T14:17:34.500920Z"
    }
   },
   "outputs": [
    {
     "name": "stdout",
     "output_type": "stream",
     "text": [
      "Running data processing pipeline...\n",
      "Loaded data from: C:\\Users\\prashant.tripathi\\Code\\PortfolioTracker\\DATA\\SOURCE\\Holdings\\HoldingsHistory_data.csv\n",
      "Processing data for symbol BAJAJHFL:\n",
      "Error processing:\n",
      "'Ticker Not Found: BAJAJHFL'\n",
      "Processing data for symbol BHAGERIA:\n",
      "Error processing:\n",
      "'Ticker Not Found: BHAGERIA'\n",
      "Processing data for symbol BPCL:\n",
      "Error processing:\n",
      "'Ticker Not Found: BPCL'\n",
      "Processing data for symbol GOLDBEES:\n",
      "Error processing:\n",
      "HTTPSConnectionPool(host='guce.yahoo.com', port=443): Max retries exceeded with url: /consent (Caused by SSLError(SSLCertVerificationError(1, '[SSL: CERTIFICATE_VERIFY_FAILED] certificate verify failed: unable to get local issuer certificate (_ssl.c:1002)')))\n",
      "Processing data for symbol HERANBA:\n",
      "Error processing:\n",
      "HTTPSConnectionPool(host='guce.yahoo.com', port=443): Max retries exceeded with url: /consent (Caused by SSLError(SSLCertVerificationError(1, '[SSL: CERTIFICATE_VERIFY_FAILED] certificate verify failed: unable to get local issuer certificate (_ssl.c:1002)')))\n",
      "Processing data for symbol IDEA:\n",
      "Error processing:\n",
      "HTTPSConnectionPool(host='guce.yahoo.com', port=443): Max retries exceeded with url: /consent (Caused by SSLError(SSLCertVerificationError(1, '[SSL: CERTIFICATE_VERIFY_FAILED] certificate verify failed: unable to get local issuer certificate (_ssl.c:1002)')))\n",
      "Processing data for symbol INFY:\n",
      "Error processing:\n",
      "HTTPSConnectionPool(host='guce.yahoo.com', port=443): Max retries exceeded with url: /consent (Caused by SSLError(SSLCertVerificationError(1, '[SSL: CERTIFICATE_VERIFY_FAILED] certificate verify failed: unable to get local issuer certificate (_ssl.c:1002)')))\n",
      "Processing data for symbol IRCTC:\n",
      "Error processing:\n",
      "HTTPSConnectionPool(host='guce.yahoo.com', port=443): Max retries exceeded with url: /consent (Caused by SSLError(SSLCertVerificationError(1, '[SSL: CERTIFICATE_VERIFY_FAILED] certificate verify failed: unable to get local issuer certificate (_ssl.c:1002)')))\n",
      "Processing data for symbol KPITTECH:\n",
      "Error processing:\n",
      "HTTPSConnectionPool(host='guce.yahoo.com', port=443): Max retries exceeded with url: /consent (Caused by SSLError(SSLCertVerificationError(1, '[SSL: CERTIFICATE_VERIFY_FAILED] certificate verify failed: unable to get local issuer certificate (_ssl.c:1002)')))\n",
      "Processing data for symbol LICI:\n",
      "Error processing:\n",
      "HTTPSConnectionPool(host='guce.yahoo.com', port=443): Max retries exceeded with url: /consent (Caused by SSLError(SSLCertVerificationError(1, '[SSL: CERTIFICATE_VERIFY_FAILED] certificate verify failed: unable to get local issuer certificate (_ssl.c:1002)')))\n",
      "Processing data for symbol NIFTYBEES:\n",
      "Error processing:\n",
      "HTTPSConnectionPool(host='guce.yahoo.com', port=443): Max retries exceeded with url: /consent (Caused by SSLError(SSLCertVerificationError(1, '[SSL: CERTIFICATE_VERIFY_FAILED] certificate verify failed: unable to get local issuer certificate (_ssl.c:1002)')))\n",
      "Processing data for symbol PNB:\n",
      "Error processing:\n",
      "HTTPSConnectionPool(host='guce.yahoo.com', port=443): Max retries exceeded with url: /consent (Caused by SSLError(SSLCertVerificationError(1, '[SSL: CERTIFICATE_VERIFY_FAILED] certificate verify failed: unable to get local issuer certificate (_ssl.c:1002)')))\n",
      "Processing data for symbol SBIN:\n",
      "Error processing:\n",
      "HTTPSConnectionPool(host='guce.yahoo.com', port=443): Max retries exceeded with url: /consent (Caused by SSLError(SSLCertVerificationError(1, '[SSL: CERTIFICATE_VERIFY_FAILED] certificate verify failed: unable to get local issuer certificate (_ssl.c:1002)')))\n",
      "Processing data for symbol TATACHEM:\n",
      "Error processing:\n",
      "HTTPSConnectionPool(host='guce.yahoo.com', port=443): Max retries exceeded with url: /consent (Caused by SSLError(SSLCertVerificationError(1, '[SSL: CERTIFICATE_VERIFY_FAILED] certificate verify failed: unable to get local issuer certificate (_ssl.c:1002)')))\n",
      "Processing data for symbol TATAMOTORS:\n",
      "Error processing:\n",
      "HTTPSConnectionPool(host='guce.yahoo.com', port=443): Max retries exceeded with url: /consent (Caused by SSLError(SSLCertVerificationError(1, '[SSL: CERTIFICATE_VERIFY_FAILED] certificate verify failed: unable to get local issuer certificate (_ssl.c:1002)')))\n",
      "Processing data for symbol TATAPOWER:\n",
      "Error processing:\n",
      "HTTPSConnectionPool(host='guce.yahoo.com', port=443): Max retries exceeded with url: /consent (Caused by SSLError(SSLCertVerificationError(1, '[SSL: CERTIFICATE_VERIFY_FAILED] certificate verify failed: unable to get local issuer certificate (_ssl.c:1002)')))\n",
      "Processing data for symbol VOLTAS:\n",
      "Error processing:\n",
      "HTTPSConnectionPool(host='guce.yahoo.com', port=443): Max retries exceeded with url: /consent (Caused by SSLError(SSLCertVerificationError(1, '[SSL: CERTIFICATE_VERIFY_FAILED] certificate verify failed: unable to get local issuer certificate (_ssl.c:1002)')))\n",
      "Processing data for symbol YESBANK:\n",
      "Error processing:\n",
      "HTTPSConnectionPool(host='guce.yahoo.com', port=443): Max retries exceeded with url: /consent (Caused by SSLError(SSLCertVerificationError(1, '[SSL: CERTIFICATE_VERIFY_FAILED] certificate verify failed: unable to get local issuer certificate (_ssl.c:1002)')))\n",
      "Processing data for symbol MIRAE_ASSET_ELSS_TAX_SAVER_FUND_DIRECT_PLAN_GROWTH:\n",
      "Error processing:\n",
      "HTTPSConnectionPool(host='guce.yahoo.com', port=443): Max retries exceeded with url: /consent (Caused by SSLError(SSLCertVerificationError(1, '[SSL: CERTIFICATE_VERIFY_FAILED] certificate verify failed: unable to get local issuer certificate (_ssl.c:1002)')))\n",
      "Processing data for symbol SBI_LONG_TERM_EQUITY_FUND_DIRECT_PLAN_GROWTH:\n",
      "Error processing:\n",
      "HTTPSConnectionPool(host='guce.yahoo.com', port=443): Max retries exceeded with url: /consent (Caused by SSLError(SSLCertVerificationError(1, '[SSL: CERTIFICATE_VERIFY_FAILED] certificate verify failed: unable to get local issuer certificate (_ssl.c:1002)')))\n"
     ]
    }
   ],
   "source": [
    "print(\"Running data processing pipeline...\")\n",
    "\n",
    "# Load holdings data\n",
    "df_holdings_history = pd.read_csv(holdingshistory_source_layer_path)\n",
    "print(f\"Loaded data from: {holdingshistory_source_layer_path}\")\n",
    "\n",
    "# Iterate over each stock holding record\n",
    "for _, row in df_holdings_history.iterrows():\n",
    "    try:\n",
    "        print(f\"Processing data for symbol {row['symbol']}:\")\n",
    "        # Check if symbol has an override in the dictionary else Fallback to the ISIN ticker\n",
    "        stock_ticker = yf.Ticker(\n",
    "            overwrite_stock_ticker.get(row[\"symbol\"], row[\"isin\"]),\n",
    "        )\n",
    "        if stock_ticker.info and stock_ticker.info.get(\"regularMarketPrice\"):\n",
    "            # Generate a list of months within the date range for each stock\n",
    "            date_list = generate_date_list(\n",
    "                row[\"min_date\"].to_pydatetime(), row[\"max_date\"].to_pydatetime()\n",
    "            )\n",
    "            for date in date_list:\n",
    "                # Determine the output file path in the bronze layer\n",
    "                output_file = stockdata_bronze_layer_path.joinpath(\n",
    "                    f\"{row['symbol']}_{date.year:04d}_{date.month:02d}.csv\"\n",
    "                )\n",
    "                # Check if the file exists and skip if it's older than 2 months\n",
    "                if output_file.exists():\n",
    "                    month_difference = date.month_difference(\n",
    "                        DateTimeUtil.today()\n",
    "                    )\n",
    "                    if month_difference >= 1:\n",
    "                        continue\n",
    "\n",
    "                # Process and save the file\n",
    "                process_file(\n",
    "                    stock_ticker=stock_ticker,\n",
    "                    stock_name=row[\"symbol\"],\n",
    "                    date=date,\n",
    "                    output_file=output_file,\n",
    "                )\n",
    "        else:\n",
    "            # If no valid ticker is found, raise an error\n",
    "            raise KeyError(f\"Ticker Not Found: {row['symbol']}\")\n",
    "    except Exception as e:\n",
    "        # Log any errors encountered during processing\n",
    "        print(f\"Error processing:\\n{e}\")"
   ]
  },
  {
   "cell_type": "code",
   "execution_count": 7,
   "metadata": {
    "execution": {
     "iopub.execute_input": "2024-09-20T14:17:34.500920Z",
     "iopub.status.busy": "2024-09-20T14:17:34.500920Z",
     "iopub.status.idle": "2024-09-20T14:17:34.507802Z",
     "shell.execute_reply": "2024-09-20T14:17:34.507193Z"
    }
   },
   "outputs": [],
   "source": [
    "# import pandas as pd\n",
    "\n",
    "# # Read the CSV file\n",
    "# df = pd.read_csv(\n",
    "#     https://www.nseindia.com/get-quotes/equity?symbol=GOLDBEES\n",
    "# )\n",
    "\n",
    "# # Rename columns to match the desired format\n",
    "# df.columns = [\n",
    "#     \"Date\",\n",
    "#     \"series\",\n",
    "#     \"OPEN\",\n",
    "#     \"HIGH\",\n",
    "#     \"LOW\",\n",
    "#     \"PREV. CLOSE\",\n",
    "#     \"ltp\",\n",
    "#     \"close\",\n",
    "#     \"vwap\",\n",
    "#     \"52W H\",\n",
    "#     \"52W L\",\n",
    "#     \"VOLUME\",\n",
    "#     \"VALUE\",\n",
    "#     \"No of trades\",\n",
    "# ]\n",
    "\n",
    "# # Select and rename columns as per the desired output\n",
    "# df = df[[\"Date\", \"OPEN\", \"HIGH\", \"LOW\", \"close\", \"VOLUME\"]].copy()\n",
    "\n",
    "# # Rename columns to the new format\n",
    "# df.columns = [\"Date\", \"open\", \"high\", \"low\", \"close\", \"volume\"]\n",
    "\n",
    "# # Convert 'Date' column to datetime format and adjust timezone\n",
    "# df[\"Date\"] = pd.to_datetime(df[\"Date\"], format=\"%d-%b-%Y\")\n",
    "# df[\"date\"] = df[\"Date\"].dt.strftime(\"%Y-%m-%d\") + \" 00:00:00+05:30\"\n",
    "\n",
    "# # Ensure 'volume' is an integer\n",
    "# df[\"volume\"] = df[\"volume\"].str.replace(\",\", \"\").astype(float).astype(int)\n",
    "\n",
    "# # Add placeholder columns for dividends and stock_splits\n",
    "# df[\"dividends\"] = 0.0\n",
    "# df[\"stock_splits\"] = 0.0\n",
    "\n",
    "# year = 2021\n",
    "# for month in range(2, 7):\n",
    "#     output_file = stockdata_bronze_layer_path.joinpath(\n",
    "#         f\"{year:04d}/{month:02d}/GOLDBEES.csv\"\n",
    "#     )\n",
    "#     df[df[\"Date\"].dt.month == month][[\n",
    "#         \"date\",\n",
    "#         \"open\",\n",
    "#         \"high\",\n",
    "#         \"low\",\n",
    "#         \"close\",\n",
    "#         \"volume\",\n",
    "#         \"dividends\",\n",
    "#         \"stock_splits\",\n",
    "#     ]].to_csv(output_file, index=False)"
   ]
  },
  {
   "cell_type": "code",
   "execution_count": null,
   "metadata": {},
   "outputs": [],
   "source": []
  }
 ],
 "metadata": {
  "kernelspec": {
   "display_name": "Python 3 (ipykernel)",
   "language": "python",
   "name": "python3"
  },
  "language_debug": {
   "codemirror_mode": {
    "name": "ipython",
    "version": 3
   },
   "file_extension": ".py",
   "mimetype": "text/x-python",
   "name": "python",
   "nbconvert_exporter": "python",
   "pygments_lexer": "ipython3",
   "version": "3.11.4"
  },
  "language_info": {
   "codemirror_mode": {
    "name": "ipython",
    "version": 3
   },
   "file_extension": ".py",
   "mimetype": "text/x-python",
   "name": "python",
   "nbconvert_exporter": "python",
   "pygments_lexer": "ipython3",
   "version": "3.11.4"
  }
 },
 "nbformat": 4,
 "nbformat_minor": 4
}
