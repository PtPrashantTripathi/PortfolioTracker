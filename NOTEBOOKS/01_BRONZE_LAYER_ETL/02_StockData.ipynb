{
 "cells": [
  {
   "cell_type": "markdown",
   "metadata": {},
   "source": [
    "## SOURCE TO BRONZE LAYER\n",
    "\n",
    "### Process:\n",
    "\n",
    "> The function fetches daily stock data using the Yahoo Finance API (`yfinance`).\n"
   ]
  },
  {
   "cell_type": "code",
   "execution_count": 1,
   "metadata": {
    "execution": {
     "iopub.execute_input": "2024-10-09T15:10:52.516953Z",
     "iopub.status.busy": "2024-10-09T15:10:52.516953Z",
     "iopub.status.idle": "2024-10-09T15:10:53.276866Z",
     "shell.execute_reply": "2024-10-09T15:10:53.276055Z"
    }
   },
   "outputs": [],
   "source": [
    "# Import necessary libraries\n",
    "from datetime import timedelta\n",
    "import json\n",
    "import pandas as pd\n",
    "import yfinance as yf\n",
    "from pyrate_limiter import Duration, Limiter, RequestRate\n",
    "from requests import Session\n",
    "from requests_cache import CacheMixin, SQLiteCache\n",
    "from requests_ratelimiter import LimiterMixin, MemoryQueueBucket\n",
    "from StockETL import DateTimeUtil, GlobalPath"
   ]
  },
  {
   "cell_type": "code",
   "execution_count": 2,
   "metadata": {
    "execution": {
     "iopub.execute_input": "2024-10-09T15:10:53.279665Z",
     "iopub.status.busy": "2024-10-09T15:10:53.279665Z",
     "iopub.status.idle": "2024-10-09T15:10:53.409585Z",
     "shell.execute_reply": "2024-10-09T15:10:53.409585Z"
    }
   },
   "outputs": [],
   "source": [
    "# Importing Common Utility Function\n",
    "%run ../COMMON/common_utility.ipynb"
   ]
  },
  {
   "cell_type": "code",
   "execution_count": 3,
   "metadata": {
    "execution": {
     "iopub.execute_input": "2024-10-09T15:10:53.409585Z",
     "iopub.status.busy": "2024-10-09T15:10:53.409585Z",
     "iopub.status.idle": "2024-10-09T15:10:53.417469Z",
     "shell.execute_reply": "2024-10-09T15:10:53.417211Z"
    }
   },
   "outputs": [],
   "source": [
    "# Define Constants file paths\n",
    "stock_tickers_config_path = GlobalPath(\"CONFIG/CONSTANTS/stock_tickers.json\")\n",
    "holding_history_path = GlobalPath(\"DATA/SOURCE/Holding/Holding_data.csv\")\n",
    "stockdata_bronze_layer_path = GlobalPath(\"DATA/BRONZE/StockData\")\n",
    "stockdata_bronze_schema_file_path = GlobalPath(\n",
    "    \"CONFIG/DATA_CONTRACTS/BRONZE/StockData.json\"\n",
    ")"
   ]
  },
  {
   "cell_type": "code",
   "execution_count": 4,
   "metadata": {
    "execution": {
     "iopub.execute_input": "2024-10-09T15:10:53.419475Z",
     "iopub.status.busy": "2024-10-09T15:10:53.419475Z",
     "iopub.status.idle": "2024-10-09T15:10:53.423885Z",
     "shell.execute_reply": "2024-10-09T15:10:53.423885Z"
    }
   },
   "outputs": [],
   "source": [
    "# Setting cache location for yfinance\n",
    "yf.set_tz_cache_location(\".cache\")\n",
    "\n",
    "\n",
    "# Rate limiting setup\n",
    "class CachedLimiterSession(CacheMixin, LimiterMixin, Session):\n",
    "    pass\n",
    "\n",
    "\n",
    "history_rate = RequestRate(1, Duration.SECOND * 2)\n",
    "limiter = Limiter(history_rate)\n",
    "session = CachedLimiterSession(\n",
    "    limiter=limiter,\n",
    "    bucket_class=MemoryQueueBucket,\n",
    "    backend=SQLiteCache(\".cache/session\", expire_after=timedelta(hours=1)),\n",
    ")"
   ]
  },
  {
   "cell_type": "code",
   "execution_count": 5,
   "metadata": {
    "execution": {
     "iopub.execute_input": "2024-10-09T15:10:53.425890Z",
     "iopub.status.busy": "2024-10-09T15:10:53.425890Z",
     "iopub.status.idle": "2024-10-09T15:10:53.429636Z",
     "shell.execute_reply": "2024-10-09T15:10:53.429509Z"
    }
   },
   "outputs": [],
   "source": [
    "def process_file(stock_ticker, date, output_file):\n",
    "    \"\"\"Fetch historical stock data and save it to a CSV file.\"\"\"\n",
    "    df = stock_ticker.history(\n",
    "        start=date.start_date,\n",
    "        end=min(date.end_date, DateTimeUtil.today()),\n",
    "        interval=\"1d\",\n",
    "        actions=True,\n",
    "        rounding=True,\n",
    "    )\n",
    "    if df.empty:\n",
    "        raise Exception(f\"No data fetched from {date.start_date} to {date.end_date}\")\n",
    "    df = df.reset_index()\n",
    "\n",
    "    # Replace punctuation from column names for consistency\n",
    "    df = replace_punctuation_from_columns(df)\n",
    "\n",
    "    # Fix duplicate column names by appending numerical suffixes\n",
    "    df = fix_duplicate_column_names(df)\n",
    "\n",
    "    # Drop rows where all elements are NaN\n",
    "    df = df.dropna(how=\"all\")\n",
    "\n",
    "    # Align Datafame with DataContract\n",
    "    df = align_with_datacontract(df, stockdata_bronze_schema_file_path)\n",
    "\n",
    "    df.to_csv(output_file, index=False)\n",
    "    print(f\"Data processed and saved to => {output_file}\")"
   ]
  },
  {
   "cell_type": "code",
   "execution_count": 6,
   "metadata": {
    "execution": {
     "iopub.execute_input": "2024-10-09T15:10:53.431663Z",
     "iopub.status.busy": "2024-10-09T15:10:53.431663Z",
     "iopub.status.idle": "2024-10-09T15:10:53.434716Z",
     "shell.execute_reply": "2024-10-09T15:10:53.434716Z"
    }
   },
   "outputs": [],
   "source": [
    "# Dictionary for stock ticker overrides\n",
    "# Open and read the JSON file\n",
    "OVERWRITE_TICKERS = {}\n",
    "with open(stock_tickers_config_path, encoding=\"utf-8\") as f:\n",
    "    # Get the contract_fields from json data\n",
    "    OVERWRITE_TICKERS = json.load(f)"
   ]
  },
  {
   "cell_type": "code",
   "execution_count": null,
   "metadata": {
    "execution": {
     "iopub.execute_input": "2024-10-09T15:10:53.436743Z",
     "iopub.status.busy": "2024-10-09T15:10:53.436743Z",
     "iopub.status.idle": "2024-10-09T15:10:53.446187Z",
     "shell.execute_reply": "2024-10-09T15:10:53.446187Z"
    }
   },
   "outputs": [],
   "source": [
    "# Load holding data from CSV\n",
    "df_holding_history = pd.read_csv(holding_history_path)\n",
    "df_holding_history[\"min_date\"] = pd.to_datetime(df_holding_history[\"min_date\"])\n",
    "df_holding_history[\"max_date\"] = pd.to_datetime(df_holding_history[\"max_date\"])\n",
    "print(f\"Loaded data from => {holding_history_path}\")"
   ]
  },
  {
   "cell_type": "code",
   "execution_count": null,
   "metadata": {
    "execution": {
     "iopub.execute_input": "2024-10-09T15:10:53.463019Z",
     "iopub.status.busy": "2024-10-09T15:10:53.463019Z",
     "iopub.status.idle": "2024-10-09T15:11:06.003493Z",
     "shell.execute_reply": "2024-10-09T15:11:06.003493Z"
    }
   },
   "outputs": [],
   "source": [
    "# Fetch stock data and process it.\n",
    "for _, row in df_holding_history.iterrows():\n",
    "    print(f\"\\nProcessing data for symbol {row['symbol']} =>\")\n",
    "    try:\n",
    "        stock_ticker = yf.Ticker(\n",
    "            OVERWRITE_TICKERS.get(row[\"symbol\"], row[\"isin\"]),\n",
    "            session=session,\n",
    "        )\n",
    "        date_list = generate_date_list(\n",
    "            row[\"min_date\"].to_pydatetime(), row[\"max_date\"].to_pydatetime()\n",
    "        )\n",
    "        for date in date_list:\n",
    "            output_file = stockdata_bronze_layer_path.joinpath(\n",
    "                f\"{row['symbol']}_{date.year:04d}_{date.month:02d}.csv\"\n",
    "            )\n",
    "            if (\n",
    "                output_file.exists()\n",
    "                and date.month_difference(DateTimeUtil.today()) >= 1\n",
    "            ):\n",
    "                continue\n",
    "            process_file(stock_ticker, date, output_file)\n",
    "    except Exception as e:\n",
    "        print(f\"Error processing {row['symbol']} =>\\n{e}\")"
   ]
  }
 ],
 "metadata": {
  "kernelspec": {
   "display_name": "Python 3 (ipykernel)",
   "language": "python",
   "name": "python3"
  },
  "language_debug": {
   "codemirror_mode": {
    "name": "ipython",
    "version": 3
   },
   "file_extension": ".py",
   "mimetype": "text/x-python",
   "name": "python",
   "nbconvert_exporter": "python",
   "pygments_lexer": "ipython3",
   "version": "3.11.4"
  },
  "language_info": {
   "codemirror_mode": {
    "name": "ipython",
    "version": 3
   },
   "file_extension": ".py",
   "mimetype": "text/x-python",
   "name": "python",
   "nbconvert_exporter": "python",
   "pygments_lexer": "ipython3",
   "version": "3.12.6"
  }
 },
 "nbformat": 4,
 "nbformat_minor": 4
}
