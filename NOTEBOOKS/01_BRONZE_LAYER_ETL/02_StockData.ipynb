{
 "cells": [
  {
   "cell_type": "markdown",
   "metadata": {},
   "source": [
    "## SOURCE TO BRONZE LAYER\n",
    "\n",
    "### Process\n",
    "\n",
    "1. **Determine Current Year**: The function calculates the current year to use as the end date for data fetching.\n",
    "2. **Generate Year List**: Creates a list of years from the specified start year (`from_year`) to the current year.\n",
    "3. **Data Fetching and Processing**:\n",
    "   - For each year in the list, the function fetches daily stock data using the Yahoo Finance API (`yfinance`).\n",
    "   - If data is retrieved successfully, it is processed by:\n",
    "     - Resetting the index to include the date as a column.\n",
    "     - Replacing punctuation in column names for consistency.\n",
    "     - Fixing duplicate column names by appending numerical suffixes.\n",
    "   - If no data is fetched for a year, a warning is logged.\n",
    "4. **Directory and File Handling**:\n",
    "   - Ensures that a directory for each year exists or creates it if necessary.\n",
    "   - Saves the processed data to a CSV file in the appropriate year-specific directory.\n",
    "5. **Error Handling**: Logs any errors encountered during the fetching, processing, or saving of data.\n"
   ]
  },
  {
   "cell_type": "code",
   "execution_count": 1,
   "metadata": {
    "execution": {
     "iopub.execute_input": "2024-08-23T10:04:13.699719Z",
     "iopub.status.busy": "2024-08-23T10:04:13.699719Z",
     "iopub.status.idle": "2024-08-23T10:04:15.006997Z",
     "shell.execute_reply": "2024-08-23T10:04:15.005669Z"
    }
   },
   "outputs": [],
   "source": [
    "# Import necessary libraries and utility functions\n",
    "\n",
    "import os\n",
    "from datetime import datetime, timedelta\n",
    "\n",
    "import pandas as pd\n",
    "import yfinance as yf\n",
    "from dotenv import load_dotenv\n",
    "\n",
    "from PortfolioTracker.globalpath import GlobalPath\n",
    "from PortfolioTracker.utilities import (\n",
    "    fix_duplicate_column_names,\n",
    "    replace_punctuation_from_columns,\n",
    ")"
   ]
  },
  {
   "cell_type": "code",
   "execution_count": 2,
   "metadata": {
    "execution": {
     "iopub.execute_input": "2024-08-23T10:04:15.013868Z",
     "iopub.status.busy": "2024-08-23T10:04:15.013253Z",
     "iopub.status.idle": "2024-08-23T10:04:15.020184Z",
     "shell.execute_reply": "2024-08-23T10:04:15.020184Z"
    }
   },
   "outputs": [],
   "source": [
    "# Instantiate GlobalPath\n",
    "global_path = GlobalPath()\n",
    "# GLOBAL PATH\n",
    "stock_holding_records_file_path = global_path.joinpath(\n",
    "    \"DATA/GOLD/Holdings/HoldingsRecords_data.csv\"\n",
    ")\n",
    "stockdata_bronze_layer_path = global_path.joinpath(\"DATA/BRONZE/StockData\")"
   ]
  },
  {
   "cell_type": "code",
   "execution_count": 3,
   "metadata": {
    "execution": {
     "iopub.execute_input": "2024-08-23T10:04:15.026257Z",
     "iopub.status.busy": "2024-08-23T10:04:15.026257Z",
     "iopub.status.idle": "2024-08-23T10:04:15.036299Z",
     "shell.execute_reply": "2024-08-23T10:04:15.035709Z"
    }
   },
   "outputs": [],
   "source": [
    "def generate_month_list(start_date, end_date):\n",
    "    # Initialize list to store month list\n",
    "    month_list = []\n",
    "    # Loop through each month from from_date to current_date\n",
    "    while start_date <= end_date:\n",
    "        # Append year and month as a tuple\n",
    "        month_list.append((start_date.year, start_date.month))\n",
    "        # Move to the next month\n",
    "        # If the current month is December, increment the year and reset the month to January\n",
    "        if start_date.month == 12:\n",
    "            start_date = start_date.replace(\n",
    "                year=start_date.year + 1, month=1, day=1\n",
    "            )\n",
    "        else:\n",
    "            start_date = start_date.replace(month=start_date.month + 1, day=1)\n",
    "\n",
    "    print(month_list)\n",
    "    return month_list\n",
    "\n",
    "\n",
    "def get_first_and_last_date(year, month):\n",
    "    # First day of the month\n",
    "    first_date = datetime(year, month, 1)\n",
    "\n",
    "    # Calculate the last day of the month by adding one month and subtracting a day\n",
    "    if month == 12:\n",
    "        # Handle December, which needs to roll over to January of the next year\n",
    "        last_date = datetime(year + 1, 1, 1) - timedelta(days=1)\n",
    "    else:\n",
    "        # Normal case for months other than December\n",
    "        last_date = datetime(year, month + 1, 1) - timedelta(days=1)\n",
    "\n",
    "    # Ensure last_date does not exceed today's date\n",
    "    today = datetime.today()\n",
    "    if last_date > today:\n",
    "        last_date = today\n",
    "    return first_date, last_date"
   ]
  },
  {
   "cell_type": "code",
   "execution_count": 4,
   "metadata": {
    "execution": {
     "iopub.execute_input": "2024-08-23T10:04:15.042660Z",
     "iopub.status.busy": "2024-08-23T10:04:15.041880Z",
     "iopub.status.idle": "2024-08-23T10:04:15.054166Z",
     "shell.execute_reply": "2024-08-23T10:04:15.052455Z"
    },
    "lines_to_next_cell": 2
   },
   "outputs": [],
   "source": [
    "def process_file(isin: str, symbol: str, month_list: list) -> None:\n",
    "    \"\"\"\n",
    "    Processes historical stock data for a given symbol and saves it to a CSV file.\n",
    "    \"\"\"\n",
    "    # Log the start of processing for the given symbol\n",
    "    print(f\"\\n\\nStarting data processing for symbol: {symbol}\")\n",
    "\n",
    "    # Fetch historical stock data for each year\n",
    "    for year, month in month_list:\n",
    "        try:\n",
    "            start_date, end_date = get_first_and_last_date(year, month)\n",
    "\n",
    "            # Determine the output file path in the bronze layer\n",
    "            output_file = stockdata_bronze_layer_path.joinpath(\n",
    "                f\"{year:04d}/{month:02d}/{symbol}.csv\"\n",
    "            )\n",
    "\n",
    "            # Check if the file exists\n",
    "            if end_date < datetime.today() and output_file.exists():\n",
    "                continue\n",
    "\n",
    "            # Fetch historical data from Yahoo Finance for the specified year\n",
    "            stock = yf.Ticker(isin)\n",
    "            df = stock.history(start=start_date, end=end_date, interval=\"1d\")\n",
    "\n",
    "            # Check if the DataFrame is empty\n",
    "            if df.empty:\n",
    "                print(\n",
    "                    f\"No data fetched for symbol: {symbol} for year: {year} and month : {month}\"\n",
    "                )\n",
    "                continue\n",
    "\n",
    "            # Reset the index to ensure date is a column\n",
    "            df = df.reset_index()\n",
    "\n",
    "            # Replace punctuation in column names for consistency\n",
    "            df = replace_punctuation_from_columns(df)\n",
    "\n",
    "            # Fix duplicate column names by appending numerical suffixes\n",
    "            df = fix_duplicate_column_names(df)\n",
    "\n",
    "            # Round numerical values to 2 decimal places\n",
    "            df = df.round(2)\n",
    "\n",
    "            # Save the processed DataFrame to a CSV file\n",
    "            df.to_csv(output_file, index=False)\n",
    "\n",
    "            # Log successful processing and saving of data\n",
    "            print(\n",
    "                f\"Data for {symbol} successfully processed and saved to {output_file}\"\n",
    "            )\n",
    "\n",
    "        except Exception as e:\n",
    "            # Log any errors encountered during processing\n",
    "            print(f\"Error processing data for {symbol} for year {year}: {e}\")"
   ]
  },
  {
   "cell_type": "code",
   "execution_count": 5,
   "metadata": {
    "execution": {
     "iopub.execute_input": "2024-08-23T10:04:15.059371Z",
     "iopub.status.busy": "2024-08-23T10:04:15.059371Z",
     "iopub.status.idle": "2024-08-23T10:04:15.067015Z",
     "shell.execute_reply": "2024-08-23T10:04:15.066440Z"
    }
   },
   "outputs": [],
   "source": [
    "def run():\n",
    "    \"\"\"\n",
    "    Main function to run the data processing pipeline.\n",
    "    \"\"\"\n",
    "    df_stock_holding_records = pd.read_csv(stock_holding_records_file_path)\n",
    "    df_stock_holding_records[\"min_date\"] = pd.to_datetime(\n",
    "        df_stock_holding_records[\"min_date\"]\n",
    "    )\n",
    "    df_stock_holding_records[\"max_date\"] = pd.to_datetime(\n",
    "        df_stock_holding_records[\"max_date\"]\n",
    "    )\n",
    "\n",
    "    for _, row in df_stock_holding_records.iterrows():\n",
    "        process_file(\n",
    "            isin=row[\"isin\"],\n",
    "            symbol=row[\"symbol\"],\n",
    "            month_list=generate_month_list(row[\"min_date\"], row[\"max_date\"]),\n",
    "        )"
   ]
  },
  {
   "cell_type": "code",
   "execution_count": 6,
   "metadata": {
    "execution": {
     "iopub.execute_input": "2024-08-23T10:04:15.074571Z",
     "iopub.status.busy": "2024-08-23T10:04:15.073883Z",
     "iopub.status.idle": "2024-08-23T10:04:15.086484Z",
     "shell.execute_reply": "2024-08-23T10:04:15.085963Z"
    }
   },
   "outputs": [
    {
     "name": "stdout",
     "output_type": "stream",
     "text": [
      "Skipping data processing as per environment configuration.\n"
     ]
    }
   ],
   "source": [
    "# Load environment variables\n",
    "load_dotenv()\n",
    "\n",
    "# Early exit if the SKIP_STOCK_DATA environment variable is set\n",
    "if os.getenv(\"SKIP_STOCK_DATA\", \"FALSE\").upper() == \"TRUE\":\n",
    "    print(\"Skipping data processing as per environment configuration.\")\n",
    "elif not stock_holding_records_file_path.is_file():\n",
    "    print(\n",
    "        f\"Stock holding records file does not exist: {stock_holding_records_file_path}\"\n",
    "    )\n",
    "else:\n",
    "    print(\"Running data processing pipeline...\")\n",
    "    run()"
   ]
  }
 ],
 "metadata": {
  "kernelspec": {
   "display_name": "Python 3 (ipykernel)",
   "language": "python",
   "name": "python3"
  },
  "language_debug": {
   "codemirror_mode": {
    "name": "ipython",
    "version": 3
   },
   "file_extension": ".py",
   "mimetype": "text/x-python",
   "name": "python",
   "nbconvert_exporter": "python",
   "pygments_lexer": "ipython3",
   "version": "3.11.4"
  },
  "language_info": {
   "codemirror_mode": {
    "name": "ipython",
    "version": 3
   },
   "file_extension": ".py",
   "mimetype": "text/x-python",
   "name": "python",
   "nbconvert_exporter": "python",
   "pygments_lexer": "ipython3",
   "version": "3.11.4"
  }
 },
 "nbformat": 4,
 "nbformat_minor": 4
}
