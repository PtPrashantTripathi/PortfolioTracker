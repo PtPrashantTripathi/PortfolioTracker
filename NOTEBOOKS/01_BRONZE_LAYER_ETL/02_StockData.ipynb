{
 "cells": [
  {
   "cell_type": "markdown",
   "metadata": {},
   "source": [
    "## SOURCE TO BRONZE LAYER\n",
    "\n",
    "### Process:\n",
    "\n",
    "> The function fetches daily stock data using the Yahoo Finance API (`yfinance`).\n"
   ]
  },
  {
   "cell_type": "code",
   "execution_count": 1,
   "metadata": {
    "execution": {
     "iopub.execute_input": "2024-09-04T10:54:42.595924Z",
     "iopub.status.busy": "2024-09-04T10:54:42.595924Z",
     "iopub.status.idle": "2024-09-04T10:54:43.780954Z",
     "shell.execute_reply": "2024-09-04T10:54:43.780954Z"
    }
   },
   "outputs": [],
   "source": [
    "# Import necessary libraries and utility functions\n",
    "import pandas as pd\n",
    "import yfinance as yf\n",
    "\n",
    "from ETLTools import DateTimeUtil, GlobalPath, utils"
   ]
  },
  {
   "cell_type": "code",
   "execution_count": 2,
   "metadata": {
    "execution": {
     "iopub.execute_input": "2024-09-04T10:54:43.786964Z",
     "iopub.status.busy": "2024-09-04T10:54:43.786964Z",
     "iopub.status.idle": "2024-09-04T10:54:43.797543Z",
     "shell.execute_reply": "2024-09-04T10:54:43.797543Z"
    }
   },
   "outputs": [],
   "source": [
    "# Define file paths\n",
    "holdingshistory_gold_file_path = GlobalPath(\n",
    "    \"DATA/GOLD/Holdings/HoldingsHistory_data.csv\"\n",
    ")\n",
    "symbol_silver_file_path = GlobalPath(\"DATA/SILVER/Symbol/Symbol_data.csv\")\n",
    "stockdata_bronze_layer_path = GlobalPath(\"DATA/BRONZE/StockData\")"
   ]
  },
  {
   "cell_type": "code",
   "execution_count": 3,
   "metadata": {
    "execution": {
     "iopub.execute_input": "2024-09-04T10:54:43.804260Z",
     "iopub.status.busy": "2024-09-04T10:54:43.804260Z",
     "iopub.status.idle": "2024-09-04T10:54:43.816661Z",
     "shell.execute_reply": "2024-09-04T10:54:43.816661Z"
    },
    "lines_to_next_cell": 2
   },
   "outputs": [],
   "source": [
    "def process_file(\n",
    "    isin: str, symbol: str, date_obj: DateTimeUtil, output_file: GlobalPath\n",
    "):\n",
    "    \"\"\"\n",
    "    Processes historical stock data for a given symbol and saves it to a CSV file.\n",
    "\n",
    "    Args:\n",
    "        isin (str): The ISIN code of the stock.\n",
    "        symbol (str): The symbol of the stock.\n",
    "        date_obj (DateTimeUtil): DateTimeUtil object representing the date.\n",
    "        output_file (str): Path to the output CSV file where the processed data will be saved.\n",
    "    \"\"\"\n",
    "    # Log the start of processing for the given symbol\n",
    "    print(\n",
    "        f\"Starting data processing for:\\nsymbol: {symbol}\\nyear: {date_obj.year}\\nmonth : {date_obj.month}\\n\"\n",
    "    )\n",
    "\n",
    "    # Fetch historical data from Yahoo Finance for the specified date range\n",
    "    stock = yf.Ticker(isin)\n",
    "    df = stock.history(\n",
    "        start=date_obj.start_date,\n",
    "        end=min(date_obj.end_date, DateTimeUtil.today()),\n",
    "        interval=\"1d\",\n",
    "    )\n",
    "\n",
    "    # Check if the DataFrame is empty and raise an exception if no data is fetched\n",
    "    if df.empty:\n",
    "        raise Exception(\n",
    "            f\"No data fetched for {symbol} from {date_obj.start_date} to {date_obj.end_date}\"\n",
    "        )\n",
    "\n",
    "    # Reset the index to ensure date is a column\n",
    "    df = df.reset_index()\n",
    "\n",
    "    # Replace punctuation in column names for consistency\n",
    "    df = utils.replace_punctuation_from_columns(df)\n",
    "\n",
    "    # Fix duplicate column names by appending numerical suffixes\n",
    "    df = utils.fix_duplicate_column_names(df)\n",
    "\n",
    "    # Round numerical values to 2 decimal places\n",
    "    df = df.round(2)\n",
    "\n",
    "    # Save the processed DataFrame to a CSV file\n",
    "    df.to_csv(output_file, index=False)\n",
    "\n",
    "    # Log successful processing and saving of data\n",
    "    print(f\"Data processed and saved to: {output_file}\")"
   ]
  },
  {
   "cell_type": "code",
   "execution_count": 4,
   "metadata": {
    "execution": {
     "iopub.execute_input": "2024-09-04T10:54:43.819169Z",
     "iopub.status.busy": "2024-09-04T10:54:43.819169Z",
     "iopub.status.idle": "2024-09-04T10:54:43.829442Z",
     "shell.execute_reply": "2024-09-04T10:54:43.829442Z"
    }
   },
   "outputs": [],
   "source": [
    "def generate_date_list(start_date, end_date):\n",
    "    \"\"\"\n",
    "    Generates a list of DateTimeUtil objects representing the first day of each month\n",
    "    within the specified date range.\n",
    "\n",
    "    Args:\n",
    "        start_date (datetime.date): Start date of the range.\n",
    "        end_date (datetime.date): End date of the range.\n",
    "\n",
    "    Returns:\n",
    "        List[DateTimeUtil]: List of DateTimeUtil objects for each month within the range.\n",
    "    \"\"\"\n",
    "    month_list = []\n",
    "    current_date = min(start_date, DateTimeUtil.today())\n",
    "    end_date = min(end_date, DateTimeUtil.today())\n",
    "    while current_date <= end_date:\n",
    "        month_list.append(\n",
    "            DateTimeUtil(current_date.year, current_date.month, 1)\n",
    "        )\n",
    "        if current_date.month == 12:\n",
    "            current_date = current_date.replace(\n",
    "                year=current_date.year + 1, month=1, day=1\n",
    "            )\n",
    "        else:\n",
    "            current_date = current_date.replace(\n",
    "                month=current_date.month + 1, day=1\n",
    "            )\n",
    "    return month_list"
   ]
  },
  {
   "cell_type": "code",
   "execution_count": 5,
   "metadata": {
    "execution": {
     "iopub.execute_input": "2024-09-04T10:54:43.829442Z",
     "iopub.status.busy": "2024-09-04T10:54:43.829442Z",
     "iopub.status.idle": "2024-09-04T10:54:43.946003Z",
     "shell.execute_reply": "2024-09-04T10:54:43.946003Z"
    }
   },
   "outputs": [
    {
     "name": "stdout",
     "output_type": "stream",
     "text": [
      "Running data processing pipeline...\n"
     ]
    },
    {
     "ename": "ValueError",
     "evalue": "Invalid file path or buffer object type: <class 'ETLTools.globalpath.GlobalPath'>",
     "output_type": "error",
     "traceback": [
      "\u001b[1;31m---------------------------------------------------------------------------\u001b[0m",
      "\u001b[1;31mValueError\u001b[0m                                Traceback (most recent call last)",
      "Cell \u001b[1;32mIn[5], line 4\u001b[0m\n\u001b[0;32m      1\u001b[0m \u001b[38;5;28mprint\u001b[39m(\u001b[38;5;124m\"\u001b[39m\u001b[38;5;124mRunning data processing pipeline...\u001b[39m\u001b[38;5;124m\"\u001b[39m)\n\u001b[0;32m      3\u001b[0m \u001b[38;5;66;03m# Load holdings data\u001b[39;00m\n\u001b[1;32m----> 4\u001b[0m df_holdingshistory \u001b[38;5;241m=\u001b[39m \u001b[43mpd\u001b[49m\u001b[38;5;241;43m.\u001b[39;49m\u001b[43mread_csv\u001b[49m\u001b[43m(\u001b[49m\u001b[43mholdingshistory_gold_file_path\u001b[49m\u001b[43m)\u001b[49m\n\u001b[0;32m      5\u001b[0m \u001b[38;5;28mprint\u001b[39m(\u001b[38;5;124mf\u001b[39m\u001b[38;5;124m\"\u001b[39m\u001b[38;5;124mLoaded data from: \u001b[39m\u001b[38;5;132;01m{\u001b[39;00mholdingshistory_gold_file_path\u001b[38;5;132;01m}\u001b[39;00m\u001b[38;5;124m\"\u001b[39m)\n\u001b[0;32m      6\u001b[0m \u001b[38;5;66;03m# Replace scrip code with scrip_name name\u001b[39;00m\n",
      "File \u001b[1;32mc:\\Users\\prashant.tripathi\\AppData\\Local\\Programs\\Python\\Python311\\Lib\\site-packages\\pandas\\io\\parsers\\readers.py:1026\u001b[0m, in \u001b[0;36mread_csv\u001b[1;34m(filepath_or_buffer, sep, delimiter, header, names, index_col, usecols, dtype, engine, converters, true_values, false_values, skipinitialspace, skiprows, skipfooter, nrows, na_values, keep_default_na, na_filter, verbose, skip_blank_lines, parse_dates, infer_datetime_format, keep_date_col, date_parser, date_format, dayfirst, cache_dates, iterator, chunksize, compression, thousands, decimal, lineterminator, quotechar, quoting, doublequote, escapechar, comment, encoding, encoding_errors, dialect, on_bad_lines, delim_whitespace, low_memory, memory_map, float_precision, storage_options, dtype_backend)\u001b[0m\n\u001b[0;32m   1013\u001b[0m kwds_defaults \u001b[38;5;241m=\u001b[39m _refine_defaults_read(\n\u001b[0;32m   1014\u001b[0m     dialect,\n\u001b[0;32m   1015\u001b[0m     delimiter,\n\u001b[1;32m   (...)\u001b[0m\n\u001b[0;32m   1022\u001b[0m     dtype_backend\u001b[38;5;241m=\u001b[39mdtype_backend,\n\u001b[0;32m   1023\u001b[0m )\n\u001b[0;32m   1024\u001b[0m kwds\u001b[38;5;241m.\u001b[39mupdate(kwds_defaults)\n\u001b[1;32m-> 1026\u001b[0m \u001b[38;5;28;01mreturn\u001b[39;00m \u001b[43m_read\u001b[49m\u001b[43m(\u001b[49m\u001b[43mfilepath_or_buffer\u001b[49m\u001b[43m,\u001b[49m\u001b[43m \u001b[49m\u001b[43mkwds\u001b[49m\u001b[43m)\u001b[49m\n",
      "File \u001b[1;32mc:\\Users\\prashant.tripathi\\AppData\\Local\\Programs\\Python\\Python311\\Lib\\site-packages\\pandas\\io\\parsers\\readers.py:620\u001b[0m, in \u001b[0;36m_read\u001b[1;34m(filepath_or_buffer, kwds)\u001b[0m\n\u001b[0;32m    617\u001b[0m _validate_names(kwds\u001b[38;5;241m.\u001b[39mget(\u001b[38;5;124m\"\u001b[39m\u001b[38;5;124mnames\u001b[39m\u001b[38;5;124m\"\u001b[39m, \u001b[38;5;28;01mNone\u001b[39;00m))\n\u001b[0;32m    619\u001b[0m \u001b[38;5;66;03m# Create the parser.\u001b[39;00m\n\u001b[1;32m--> 620\u001b[0m parser \u001b[38;5;241m=\u001b[39m \u001b[43mTextFileReader\u001b[49m\u001b[43m(\u001b[49m\u001b[43mfilepath_or_buffer\u001b[49m\u001b[43m,\u001b[49m\u001b[43m \u001b[49m\u001b[38;5;241;43m*\u001b[39;49m\u001b[38;5;241;43m*\u001b[39;49m\u001b[43mkwds\u001b[49m\u001b[43m)\u001b[49m\n\u001b[0;32m    622\u001b[0m \u001b[38;5;28;01mif\u001b[39;00m chunksize \u001b[38;5;129;01mor\u001b[39;00m iterator:\n\u001b[0;32m    623\u001b[0m     \u001b[38;5;28;01mreturn\u001b[39;00m parser\n",
      "File \u001b[1;32mc:\\Users\\prashant.tripathi\\AppData\\Local\\Programs\\Python\\Python311\\Lib\\site-packages\\pandas\\io\\parsers\\readers.py:1620\u001b[0m, in \u001b[0;36mTextFileReader.__init__\u001b[1;34m(self, f, engine, **kwds)\u001b[0m\n\u001b[0;32m   1617\u001b[0m     \u001b[38;5;28mself\u001b[39m\u001b[38;5;241m.\u001b[39moptions[\u001b[38;5;124m\"\u001b[39m\u001b[38;5;124mhas_index_names\u001b[39m\u001b[38;5;124m\"\u001b[39m] \u001b[38;5;241m=\u001b[39m kwds[\u001b[38;5;124m\"\u001b[39m\u001b[38;5;124mhas_index_names\u001b[39m\u001b[38;5;124m\"\u001b[39m]\n\u001b[0;32m   1619\u001b[0m \u001b[38;5;28mself\u001b[39m\u001b[38;5;241m.\u001b[39mhandles: IOHandles \u001b[38;5;241m|\u001b[39m \u001b[38;5;28;01mNone\u001b[39;00m \u001b[38;5;241m=\u001b[39m \u001b[38;5;28;01mNone\u001b[39;00m\n\u001b[1;32m-> 1620\u001b[0m \u001b[38;5;28mself\u001b[39m\u001b[38;5;241m.\u001b[39m_engine \u001b[38;5;241m=\u001b[39m \u001b[38;5;28;43mself\u001b[39;49m\u001b[38;5;241;43m.\u001b[39;49m\u001b[43m_make_engine\u001b[49m\u001b[43m(\u001b[49m\u001b[43mf\u001b[49m\u001b[43m,\u001b[49m\u001b[43m \u001b[49m\u001b[38;5;28;43mself\u001b[39;49m\u001b[38;5;241;43m.\u001b[39;49m\u001b[43mengine\u001b[49m\u001b[43m)\u001b[49m\n",
      "File \u001b[1;32mc:\\Users\\prashant.tripathi\\AppData\\Local\\Programs\\Python\\Python311\\Lib\\site-packages\\pandas\\io\\parsers\\readers.py:1880\u001b[0m, in \u001b[0;36mTextFileReader._make_engine\u001b[1;34m(self, f, engine)\u001b[0m\n\u001b[0;32m   1878\u001b[0m     \u001b[38;5;28;01mif\u001b[39;00m \u001b[38;5;124m\"\u001b[39m\u001b[38;5;124mb\u001b[39m\u001b[38;5;124m\"\u001b[39m \u001b[38;5;129;01mnot\u001b[39;00m \u001b[38;5;129;01min\u001b[39;00m mode:\n\u001b[0;32m   1879\u001b[0m         mode \u001b[38;5;241m+\u001b[39m\u001b[38;5;241m=\u001b[39m \u001b[38;5;124m\"\u001b[39m\u001b[38;5;124mb\u001b[39m\u001b[38;5;124m\"\u001b[39m\n\u001b[1;32m-> 1880\u001b[0m \u001b[38;5;28mself\u001b[39m\u001b[38;5;241m.\u001b[39mhandles \u001b[38;5;241m=\u001b[39m \u001b[43mget_handle\u001b[49m\u001b[43m(\u001b[49m\n\u001b[0;32m   1881\u001b[0m \u001b[43m    \u001b[49m\u001b[43mf\u001b[49m\u001b[43m,\u001b[49m\n\u001b[0;32m   1882\u001b[0m \u001b[43m    \u001b[49m\u001b[43mmode\u001b[49m\u001b[43m,\u001b[49m\n\u001b[0;32m   1883\u001b[0m \u001b[43m    \u001b[49m\u001b[43mencoding\u001b[49m\u001b[38;5;241;43m=\u001b[39;49m\u001b[38;5;28;43mself\u001b[39;49m\u001b[38;5;241;43m.\u001b[39;49m\u001b[43moptions\u001b[49m\u001b[38;5;241;43m.\u001b[39;49m\u001b[43mget\u001b[49m\u001b[43m(\u001b[49m\u001b[38;5;124;43m\"\u001b[39;49m\u001b[38;5;124;43mencoding\u001b[39;49m\u001b[38;5;124;43m\"\u001b[39;49m\u001b[43m,\u001b[49m\u001b[43m \u001b[49m\u001b[38;5;28;43;01mNone\u001b[39;49;00m\u001b[43m)\u001b[49m\u001b[43m,\u001b[49m\n\u001b[0;32m   1884\u001b[0m \u001b[43m    \u001b[49m\u001b[43mcompression\u001b[49m\u001b[38;5;241;43m=\u001b[39;49m\u001b[38;5;28;43mself\u001b[39;49m\u001b[38;5;241;43m.\u001b[39;49m\u001b[43moptions\u001b[49m\u001b[38;5;241;43m.\u001b[39;49m\u001b[43mget\u001b[49m\u001b[43m(\u001b[49m\u001b[38;5;124;43m\"\u001b[39;49m\u001b[38;5;124;43mcompression\u001b[39;49m\u001b[38;5;124;43m\"\u001b[39;49m\u001b[43m,\u001b[49m\u001b[43m \u001b[49m\u001b[38;5;28;43;01mNone\u001b[39;49;00m\u001b[43m)\u001b[49m\u001b[43m,\u001b[49m\n\u001b[0;32m   1885\u001b[0m \u001b[43m    \u001b[49m\u001b[43mmemory_map\u001b[49m\u001b[38;5;241;43m=\u001b[39;49m\u001b[38;5;28;43mself\u001b[39;49m\u001b[38;5;241;43m.\u001b[39;49m\u001b[43moptions\u001b[49m\u001b[38;5;241;43m.\u001b[39;49m\u001b[43mget\u001b[49m\u001b[43m(\u001b[49m\u001b[38;5;124;43m\"\u001b[39;49m\u001b[38;5;124;43mmemory_map\u001b[39;49m\u001b[38;5;124;43m\"\u001b[39;49m\u001b[43m,\u001b[49m\u001b[43m \u001b[49m\u001b[38;5;28;43;01mFalse\u001b[39;49;00m\u001b[43m)\u001b[49m\u001b[43m,\u001b[49m\n\u001b[0;32m   1886\u001b[0m \u001b[43m    \u001b[49m\u001b[43mis_text\u001b[49m\u001b[38;5;241;43m=\u001b[39;49m\u001b[43mis_text\u001b[49m\u001b[43m,\u001b[49m\n\u001b[0;32m   1887\u001b[0m \u001b[43m    \u001b[49m\u001b[43merrors\u001b[49m\u001b[38;5;241;43m=\u001b[39;49m\u001b[38;5;28;43mself\u001b[39;49m\u001b[38;5;241;43m.\u001b[39;49m\u001b[43moptions\u001b[49m\u001b[38;5;241;43m.\u001b[39;49m\u001b[43mget\u001b[49m\u001b[43m(\u001b[49m\u001b[38;5;124;43m\"\u001b[39;49m\u001b[38;5;124;43mencoding_errors\u001b[39;49m\u001b[38;5;124;43m\"\u001b[39;49m\u001b[43m,\u001b[49m\u001b[43m \u001b[49m\u001b[38;5;124;43m\"\u001b[39;49m\u001b[38;5;124;43mstrict\u001b[39;49m\u001b[38;5;124;43m\"\u001b[39;49m\u001b[43m)\u001b[49m\u001b[43m,\u001b[49m\n\u001b[0;32m   1888\u001b[0m \u001b[43m    \u001b[49m\u001b[43mstorage_options\u001b[49m\u001b[38;5;241;43m=\u001b[39;49m\u001b[38;5;28;43mself\u001b[39;49m\u001b[38;5;241;43m.\u001b[39;49m\u001b[43moptions\u001b[49m\u001b[38;5;241;43m.\u001b[39;49m\u001b[43mget\u001b[49m\u001b[43m(\u001b[49m\u001b[38;5;124;43m\"\u001b[39;49m\u001b[38;5;124;43mstorage_options\u001b[39;49m\u001b[38;5;124;43m\"\u001b[39;49m\u001b[43m,\u001b[49m\u001b[43m \u001b[49m\u001b[38;5;28;43;01mNone\u001b[39;49;00m\u001b[43m)\u001b[49m\u001b[43m,\u001b[49m\n\u001b[0;32m   1889\u001b[0m \u001b[43m\u001b[49m\u001b[43m)\u001b[49m\n\u001b[0;32m   1890\u001b[0m \u001b[38;5;28;01massert\u001b[39;00m \u001b[38;5;28mself\u001b[39m\u001b[38;5;241m.\u001b[39mhandles \u001b[38;5;129;01mis\u001b[39;00m \u001b[38;5;129;01mnot\u001b[39;00m \u001b[38;5;28;01mNone\u001b[39;00m\n\u001b[0;32m   1891\u001b[0m f \u001b[38;5;241m=\u001b[39m \u001b[38;5;28mself\u001b[39m\u001b[38;5;241m.\u001b[39mhandles\u001b[38;5;241m.\u001b[39mhandle\n",
      "File \u001b[1;32mc:\\Users\\prashant.tripathi\\AppData\\Local\\Programs\\Python\\Python311\\Lib\\site-packages\\pandas\\io\\common.py:728\u001b[0m, in \u001b[0;36mget_handle\u001b[1;34m(path_or_buf, mode, encoding, compression, memory_map, is_text, errors, storage_options)\u001b[0m\n\u001b[0;32m    725\u001b[0m     codecs\u001b[38;5;241m.\u001b[39mlookup_error(errors)\n\u001b[0;32m    727\u001b[0m \u001b[38;5;66;03m# open URLs\u001b[39;00m\n\u001b[1;32m--> 728\u001b[0m ioargs \u001b[38;5;241m=\u001b[39m \u001b[43m_get_filepath_or_buffer\u001b[49m\u001b[43m(\u001b[49m\n\u001b[0;32m    729\u001b[0m \u001b[43m    \u001b[49m\u001b[43mpath_or_buf\u001b[49m\u001b[43m,\u001b[49m\n\u001b[0;32m    730\u001b[0m \u001b[43m    \u001b[49m\u001b[43mencoding\u001b[49m\u001b[38;5;241;43m=\u001b[39;49m\u001b[43mencoding\u001b[49m\u001b[43m,\u001b[49m\n\u001b[0;32m    731\u001b[0m \u001b[43m    \u001b[49m\u001b[43mcompression\u001b[49m\u001b[38;5;241;43m=\u001b[39;49m\u001b[43mcompression\u001b[49m\u001b[43m,\u001b[49m\n\u001b[0;32m    732\u001b[0m \u001b[43m    \u001b[49m\u001b[43mmode\u001b[49m\u001b[38;5;241;43m=\u001b[39;49m\u001b[43mmode\u001b[49m\u001b[43m,\u001b[49m\n\u001b[0;32m    733\u001b[0m \u001b[43m    \u001b[49m\u001b[43mstorage_options\u001b[49m\u001b[38;5;241;43m=\u001b[39;49m\u001b[43mstorage_options\u001b[49m\u001b[43m,\u001b[49m\n\u001b[0;32m    734\u001b[0m \u001b[43m\u001b[49m\u001b[43m)\u001b[49m\n\u001b[0;32m    736\u001b[0m handle \u001b[38;5;241m=\u001b[39m ioargs\u001b[38;5;241m.\u001b[39mfilepath_or_buffer\n\u001b[0;32m    737\u001b[0m handles: \u001b[38;5;28mlist\u001b[39m[BaseBuffer]\n",
      "File \u001b[1;32mc:\\Users\\prashant.tripathi\\AppData\\Local\\Programs\\Python\\Python311\\Lib\\site-packages\\pandas\\io\\common.py:472\u001b[0m, in \u001b[0;36m_get_filepath_or_buffer\u001b[1;34m(filepath_or_buffer, encoding, compression, mode, storage_options)\u001b[0m\n\u001b[0;32m    468\u001b[0m \u001b[38;5;28;01mif\u001b[39;00m \u001b[38;5;129;01mnot\u001b[39;00m (\n\u001b[0;32m    469\u001b[0m     \u001b[38;5;28mhasattr\u001b[39m(filepath_or_buffer, \u001b[38;5;124m\"\u001b[39m\u001b[38;5;124mread\u001b[39m\u001b[38;5;124m\"\u001b[39m) \u001b[38;5;129;01mor\u001b[39;00m \u001b[38;5;28mhasattr\u001b[39m(filepath_or_buffer, \u001b[38;5;124m\"\u001b[39m\u001b[38;5;124mwrite\u001b[39m\u001b[38;5;124m\"\u001b[39m)\n\u001b[0;32m    470\u001b[0m ):\n\u001b[0;32m    471\u001b[0m     msg \u001b[38;5;241m=\u001b[39m \u001b[38;5;124mf\u001b[39m\u001b[38;5;124m\"\u001b[39m\u001b[38;5;124mInvalid file path or buffer object type: \u001b[39m\u001b[38;5;132;01m{\u001b[39;00m\u001b[38;5;28mtype\u001b[39m(filepath_or_buffer)\u001b[38;5;132;01m}\u001b[39;00m\u001b[38;5;124m\"\u001b[39m\n\u001b[1;32m--> 472\u001b[0m     \u001b[38;5;28;01mraise\u001b[39;00m \u001b[38;5;167;01mValueError\u001b[39;00m(msg)\n\u001b[0;32m    474\u001b[0m \u001b[38;5;28;01mreturn\u001b[39;00m IOArgs(\n\u001b[0;32m    475\u001b[0m     filepath_or_buffer\u001b[38;5;241m=\u001b[39mfilepath_or_buffer,\n\u001b[0;32m    476\u001b[0m     encoding\u001b[38;5;241m=\u001b[39mencoding,\n\u001b[1;32m   (...)\u001b[0m\n\u001b[0;32m    479\u001b[0m     mode\u001b[38;5;241m=\u001b[39mmode,\n\u001b[0;32m    480\u001b[0m )\n",
      "\u001b[1;31mValueError\u001b[0m: Invalid file path or buffer object type: <class 'ETLTools.globalpath.GlobalPath'>"
     ]
    }
   ],
   "source": [
    "print(\"Running data processing pipeline...\")\n",
    "\n",
    "# Load holdings data\n",
    "df_holdingshistory = pd.read_csv(holdingshistory_gold_file_path)\n",
    "print(f\"Loaded data from: {holdingshistory_gold_file_path}\")\n",
    "# Replace scrip code with scrip_name name\n",
    "df_symbol = pd.read_csv(symbol_silver_file_path)\n",
    "print(f\"Loaded data from: {symbol_silver_file_path}\")\n",
    "\n",
    "\n",
    "# Calculate the min and max dates for each stock\n",
    "df_holdingshistory[\"date\"] = pd.to_datetime(df_holdingshistory[\"date\"])\n",
    "df_holdingshistory = (\n",
    "    df_holdingshistory.groupby([\"segment\", \"exchange\", \"symbol\"])\n",
    "    .agg(min_date=(\"date\", \"min\"), max_date=(\"date\", \"max\"))\n",
    "    .reset_index()\n",
    ")\n",
    "\n",
    "# Merge df_HoldingHistory with df_Symbol on the matching columns\n",
    "df_holdingshistory = df_holdingshistory.merge(\n",
    "    df_symbol[[\"symbol\", \"isin\"]],\n",
    "    left_on=\"symbol\",\n",
    "    right_on=\"symbol\",\n",
    "    how=\"left\",\n",
    ")"
   ]
  },
  {
   "cell_type": "code",
   "execution_count": null,
   "metadata": {
    "execution": {
     "iopub.execute_input": "2024-09-04T10:54:43.946003Z",
     "iopub.status.busy": "2024-09-04T10:54:43.946003Z",
     "iopub.status.idle": "2024-09-04T10:54:52.045917Z",
     "shell.execute_reply": "2024-09-04T10:54:52.045917Z"
    }
   },
   "outputs": [
    {
     "name": "stdout",
     "output_type": "stream",
     "text": [
      "Starting data processing for:\n",
      "symbol: IRCTC\n",
      "year: 2024\n",
      "month : 9\n",
      "\n"
     ]
    },
    {
     "name": "stdout",
     "output_type": "stream",
     "text": [
      "Data processed and saved to: DATA/BRONZE/StockData/IRCTC_2024_09.csv\n",
      "Starting data processing for:\n",
      "symbol: KPITTECH\n",
      "year: 2024\n",
      "month : 9\n",
      "\n"
     ]
    },
    {
     "name": "stdout",
     "output_type": "stream",
     "text": [
      "Data processed and saved to: DATA/BRONZE/StockData/KPITTECH_2024_09.csv\n",
      "Starting data processing for:\n",
      "symbol: TATAMOTORS\n",
      "year: 2024\n",
      "month : 9\n",
      "\n"
     ]
    },
    {
     "name": "stdout",
     "output_type": "stream",
     "text": [
      "Data processed and saved to: DATA/BRONZE/StockData/TATAMOTORS_2024_09.csv\n",
      "Starting data processing for:\n",
      "symbol: TATAPOWER\n",
      "year: 2024\n",
      "month : 9\n",
      "\n"
     ]
    },
    {
     "name": "stdout",
     "output_type": "stream",
     "text": [
      "Data processed and saved to: DATA/BRONZE/StockData/TATAPOWER_2024_09.csv\n",
      "Starting data processing for:\n",
      "symbol: MIRAE_ASSET_ELSS_TAX_SAVER_FUND_DIRECT_PLAN_GROWTH\n",
      "year: 2024\n",
      "month : 9\n",
      "\n"
     ]
    },
    {
     "name": "stdout",
     "output_type": "stream",
     "text": [
      "Data processed and saved to: DATA/BRONZE/StockData/MIRAE_ASSET_ELSS_TAX_SAVER_FUND_DIRECT_PLAN_GROWTH_2024_09.csv\n",
      "Starting data processing for:\n",
      "symbol: SBI_LONG_TERM_EQUITY_FUND_DIRECT_PLAN_GROWTH\n",
      "year: 2024\n",
      "month : 9\n",
      "\n"
     ]
    },
    {
     "name": "stdout",
     "output_type": "stream",
     "text": [
      "Data processed and saved to: DATA/BRONZE/StockData/SBI_LONG_TERM_EQUITY_FUND_DIRECT_PLAN_GROWTH_2024_09.csv\n"
     ]
    }
   ],
   "source": [
    "# Iterate over each stock holding record\n",
    "for _, row in df_holdingshistory.iterrows():\n",
    "    # Generate a list of months within the date range for each stock\n",
    "    date_list = generate_date_list(\n",
    "        row[\"min_date\"].to_pydatetime(), row[\"max_date\"].to_pydatetime()\n",
    "    )\n",
    "    for each in date_list:\n",
    "        try:\n",
    "            # Determine the output file path in the bronze layer\n",
    "            output_file = stockdata_bronze_layer_path.path.joinpath(\n",
    "                f\"{row['symbol']}_{each.year:04d}_{each.month:02d}.csv\"\n",
    "            )\n",
    "            # Check if the file exists and skip if it's older than 2 months\n",
    "            if output_file.exists():\n",
    "                month_difference = each.month_difference(DateTimeUtil.today())\n",
    "                if month_difference >= 1:\n",
    "                    continue\n",
    "\n",
    "            # Process and save the file\n",
    "            process_file(\n",
    "                isin=row[\"isin\"],\n",
    "                symbol=row[\"symbol\"],\n",
    "                date_obj=each,\n",
    "                output_file=output_file,\n",
    "            )\n",
    "        except Exception as e:\n",
    "            # Log any errors encountered during processing\n",
    "            print(\n",
    "                f\"Error processing data for symbol {row['symbol']} with error:\\n{e}\"\n",
    "            )"
   ]
  },
  {
   "cell_type": "code",
   "execution_count": null,
   "metadata": {
    "execution": {
     "iopub.execute_input": "2024-09-04T10:54:52.059505Z",
     "iopub.status.busy": "2024-09-04T10:54:52.059505Z",
     "iopub.status.idle": "2024-09-04T10:54:52.078821Z",
     "shell.execute_reply": "2024-09-04T10:54:52.076305Z"
    }
   },
   "outputs": [],
   "source": [
    "# import pandas as pd\n",
    "\n",
    "# # Read the CSV file\n",
    "# df = pd.read_csv(\n",
    "#     https://www.nseindia.com/get-quotes/equity?symbol=GOLDBEES\n",
    "# )\n",
    "\n",
    "# # Rename columns to match the desired format\n",
    "# df.columns = [\n",
    "#     \"Date\",\n",
    "#     \"series\",\n",
    "#     \"OPEN\",\n",
    "#     \"HIGH\",\n",
    "#     \"LOW\",\n",
    "#     \"PREV. CLOSE\",\n",
    "#     \"ltp\",\n",
    "#     \"close\",\n",
    "#     \"vwap\",\n",
    "#     \"52W H\",\n",
    "#     \"52W L\",\n",
    "#     \"VOLUME\",\n",
    "#     \"VALUE\",\n",
    "#     \"No of trades\",\n",
    "# ]\n",
    "\n",
    "# # Select and rename columns as per the desired output\n",
    "# df = df[[\"Date\", \"OPEN\", \"HIGH\", \"LOW\", \"close\", \"VOLUME\"]].copy()\n",
    "\n",
    "# # Rename columns to the new format\n",
    "# df.columns = [\"Date\", \"open\", \"high\", \"low\", \"close\", \"volume\"]\n",
    "\n",
    "# # Convert 'Date' column to datetime format and adjust timezone\n",
    "# df[\"Date\"] = pd.to_datetime(df[\"Date\"], format=\"%d-%b-%Y\")\n",
    "# df[\"date\"] = df[\"Date\"].dt.strftime(\"%Y-%m-%d\") + \" 00:00:00+05:30\"\n",
    "\n",
    "# # Ensure 'volume' is an integer\n",
    "# df[\"volume\"] = df[\"volume\"].str.replace(\",\", \"\").astype(float).astype(int)\n",
    "\n",
    "# # Add placeholder columns for dividends and stock_splits\n",
    "# df[\"dividends\"] = 0.0\n",
    "# df[\"stock_splits\"] = 0.0\n",
    "\n",
    "# year = 2021\n",
    "# for month in range(2, 7):\n",
    "#     output_file = stockdata_bronze_layer_path.joinpath(\n",
    "#         f\"{year:04d}/{month:02d}/GOLDBEES.csv\"\n",
    "#     )\n",
    "#     df[df[\"Date\"].dt.month == month][[\n",
    "#         \"date\",\n",
    "#         \"open\",\n",
    "#         \"high\",\n",
    "#         \"low\",\n",
    "#         \"close\",\n",
    "#         \"volume\",\n",
    "#         \"dividends\",\n",
    "#         \"stock_splits\",\n",
    "#     ]].to_csv(output_file, index=False)"
   ]
  },
  {
   "cell_type": "code",
   "execution_count": null,
   "metadata": {},
   "outputs": [],
   "source": []
  }
 ],
 "metadata": {
  "kernelspec": {
   "display_name": "Python 3 (ipykernel)",
   "language": "python",
   "name": "python3"
  },
  "language_debug": {
   "codemirror_mode": {
    "name": "ipython",
    "version": 3
   },
   "file_extension": ".py",
   "mimetype": "text/x-python",
   "name": "python",
   "nbconvert_exporter": "python",
   "pygments_lexer": "ipython3",
   "version": "3.11.4"
  },
  "language_info": {
   "codemirror_mode": {
    "name": "ipython",
    "version": 3
   },
   "file_extension": ".py",
   "mimetype": "text/x-python",
   "name": "python",
   "nbconvert_exporter": "python",
   "pygments_lexer": "ipython3",
   "version": "3.11.4"
  }
 },
 "nbformat": 4,
 "nbformat_minor": 4
}
