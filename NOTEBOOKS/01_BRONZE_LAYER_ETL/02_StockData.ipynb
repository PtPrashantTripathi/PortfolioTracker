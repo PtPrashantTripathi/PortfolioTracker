{
 "cells": [
  {
   "cell_type": "markdown",
   "metadata": {},
   "source": [
    "## SOURCE TO BRONZE LAYER\n",
    "\n",
    "### Process:\n",
    "\n",
    "> The function fetches daily stock data using the Yahoo Finance API (`yfinance`).\n"
   ]
  },
  {
   "cell_type": "code",
   "execution_count": 1,
   "metadata": {
    "execution": {
     "iopub.execute_input": "2024-09-27T04:50:55.949540Z",
     "iopub.status.busy": "2024-09-27T04:50:55.949540Z",
     "iopub.status.idle": "2024-09-27T04:50:59.511620Z",
     "shell.execute_reply": "2024-09-27T04:50:59.508824Z"
    }
   },
   "outputs": [],
   "source": [
    "# Import necessary libraries\n",
    "from datetime import timedelta\n",
    "\n",
    "import pandas as pd\n",
    "import yfinance as yf\n",
    "from pyrate_limiter import Duration, Limiter, RequestRate\n",
    "from requests import Session\n",
    "from requests_cache import CacheMixin, SQLiteCache\n",
    "from requests_ratelimiter import LimiterMixin, MemoryQueueBucket\n",
    "\n",
    "from StockETL import DateTimeUtil, GlobalPath"
   ]
  },
  {
   "cell_type": "code",
   "execution_count": 2,
   "metadata": {
    "execution": {
     "iopub.execute_input": "2024-09-27T04:50:59.512072Z",
     "iopub.status.busy": "2024-09-27T04:50:59.512072Z",
     "iopub.status.idle": "2024-09-27T04:51:00.167020Z",
     "shell.execute_reply": "2024-09-27T04:51:00.167020Z"
    }
   },
   "outputs": [],
   "source": [
    "# Importing Common Utility Function\n",
    "%run ../COMMON/common_utility.ipynb"
   ]
  },
  {
   "cell_type": "code",
   "execution_count": 3,
   "metadata": {
    "execution": {
     "iopub.execute_input": "2024-09-27T04:51:00.175588Z",
     "iopub.status.busy": "2024-09-27T04:51:00.173400Z",
     "iopub.status.idle": "2024-09-27T04:51:00.185732Z",
     "shell.execute_reply": "2024-09-27T04:51:00.185732Z"
    }
   },
   "outputs": [],
   "source": [
    "# Define Constants file paths\n",
    "HOLDINGS_HISTORY_PATH = GlobalPath(\"DATA/SOURCE/Holdings/HoldingsHistory_data.csv\")\n",
    "STOCKDATA_BRONZE_LAYER_PATH = GlobalPath(\"DATA/BRONZE/StockData\")"
   ]
  },
  {
   "cell_type": "code",
   "execution_count": 4,
   "metadata": {
    "execution": {
     "iopub.execute_input": "2024-09-27T04:51:00.193081Z",
     "iopub.status.busy": "2024-09-27T04:51:00.193081Z",
     "iopub.status.idle": "2024-09-27T04:51:00.211206Z",
     "shell.execute_reply": "2024-09-27T04:51:00.209936Z"
    }
   },
   "outputs": [],
   "source": [
    "# Setting cache location for yfinance\n",
    "yf.set_tz_cache_location(\".cache\")\n",
    "\n",
    "\n",
    "# Rate limiting setup\n",
    "class CachedLimiterSession(CacheMixin, LimiterMixin, Session):\n",
    "    pass\n",
    "\n",
    "\n",
    "history_rate = RequestRate(1, Duration.SECOND * 2)\n",
    "limiter = Limiter(history_rate)\n",
    "session = CachedLimiterSession(\n",
    "    limiter=limiter,\n",
    "    bucket_class=MemoryQueueBucket,\n",
    "    backend=SQLiteCache(\".cache/session\", expire_after=timedelta(hours=1)),\n",
    ")"
   ]
  },
  {
   "cell_type": "code",
   "execution_count": 5,
   "metadata": {
    "execution": {
     "iopub.execute_input": "2024-09-27T04:51:00.211206Z",
     "iopub.status.busy": "2024-09-27T04:51:00.211206Z",
     "iopub.status.idle": "2024-09-27T04:51:00.231232Z",
     "shell.execute_reply": "2024-09-27T04:51:00.228698Z"
    }
   },
   "outputs": [],
   "source": [
    "def process_file(stock_ticker, date, output_file):\n",
    "    \"\"\"Fetch historical stock data and save it to a CSV file.\"\"\"\n",
    "    df = stock_ticker.history(\n",
    "        start=date.start_date,\n",
    "        end=min(date.end_date, DateTimeUtil.today()),\n",
    "        interval=\"1d\",\n",
    "        actions=True,\n",
    "        rounding=True,\n",
    "    )\n",
    "    if df.empty:\n",
    "        raise Exception(\n",
    "            f\"No data fetched for : from {date.start_date} to {date.end_date}\"\n",
    "        )\n",
    "    df = df.reset_index()\n",
    "    df = replace_punctuation_from_columns(df)\n",
    "    df = fix_duplicate_column_names(df)\n",
    "    df = df.round(2)\n",
    "    df.to_csv(output_file, index=False)\n",
    "    print(f\"Data processed and saved to: {output_file}\")"
   ]
  },
  {
   "cell_type": "code",
   "execution_count": 6,
   "metadata": {
    "execution": {
     "iopub.execute_input": "2024-09-27T04:51:00.236751Z",
     "iopub.status.busy": "2024-09-27T04:51:00.236751Z",
     "iopub.status.idle": "2024-09-27T04:51:00.254487Z",
     "shell.execute_reply": "2024-09-27T04:51:00.254487Z"
    }
   },
   "outputs": [],
   "source": [
    "# Dictionary for stock ticker overrides\n",
    "OVERWRITE_TICKERS = {\n",
    "    \"AWL\": \"AWL.NS\",\n",
    "    \"BANKBARODA\": \"BANKBARODA.NS\",\n",
    "    \"BCG\": \"BCG.NS\",\n",
    "    \"CAMPUS\": \"CAMPUS.NS\",\n",
    "    \"CRESSAN\": \"CRESSAN.BO\",\n",
    "    \"CTL\": \"CTL.BO\",\n",
    "    \"DATAPATTNS\": \"DATAPATTNS.NS\",\n",
    "    \"DEEPAKNTR\": \"DEEPAKNTR.NS\",\n",
    "    \"FCSSOFT\": \"FCSSOFT.NS\",\n",
    "    \"GITARENEW\": \"GITARENEW.BO\",\n",
    "    \"GRAVITA\": \"GRAVITA.NS\",\n",
    "    \"GREENPOWER\": \"GREENPOWER.NS\",\n",
    "    \"GREENPOWER_RE\": \"GREENPOWER.NS\",\n",
    "    \"HFCL\": \"HFCL.NS\",\n",
    "    \"IDFCFIRSTB\": \"IDFCFIRSTB.NS\",\n",
    "    \"JPPOWER\": \"JPPOWER.NS\",\n",
    "    \"KNRCON\": \"KNRCON.NS\",\n",
    "    \"KPEL\": \"KPEL.BO\",\n",
    "    \"KPITTECH\": \"KPITTECH.NS\",\n",
    "    \"LLOYDSENGG\": \"LLOYDSENGG.NS\",\n",
    "    \"PNB\": \"PNB.NS\",\n",
    "    \"PRAKASHSTL\": \"PRAKASHSTL.NS\",\n",
    "    \"RAGHUSYN\": \"RAGHUSYN.BO\",\n",
    "    \"RPOWER\": \"RPOWER.NS\",\n",
    "    \"RTNINDIA\": \"RTNINDIA.NS\",\n",
    "    \"RTNPOWER\": \"RTNPOWER.NS\",\n",
    "    \"SINTEX\": \"SINTEX.NS\",\n",
    "    \"SUZLON\": \"SUZLON.NS\",\n",
    "    \"SWORDEDGE\": \"SWORDEDGE.BO\",\n",
    "    \"TATAMOTORS\": \"TATAMOTORS.NS\",\n",
    "    \"TATAPOWER\": \"TATAPOWER.NS\",\n",
    "    \"TRIDENT\": \"TRIDENT.NS\",\n",
    "    \"TTML\": \"TTML.NS\",\n",
    "    \"URJA\": \"URJA.NS\",\n",
    "    \"VIJIFIN\": \"VIJIFIN.NS\",\n",
    "    \"VIKASLIFE\": \"VIKASLIFE.NS\",\n",
    "    \"VIRTUALG\": \"VIRTUALG.BO\",\n",
    "    \"VISESHINFO\": \"VISESHINFO.NS\",\n",
    "    \"WIPRO\": \"WIPRO.NS\",\n",
    "    \"YAMNINV\": \"YAMNINV.BO\",\n",
    "    \"ZOMATO\": \"ZOMATO.NS\",\n",
    "    \"BAJAJHFL\": \"BAJAJHFL.NS\",\n",
    "    \"BHAGERIA\": \"BHAGERIA.NS\",\n",
    "    \"BPCL\": \"BPCL.NS\",\n",
    "    \"GOLDBEES\": \"GOLDBEES.NS\",\n",
    "    \"HERANBA\": \"HERANBA.NS\",\n",
    "    \"IDEA\": \"IDEA.NS\",\n",
    "    \"INFY\": \"INFY.NS\",\n",
    "    \"IRCTC\": \"IRCTC.NS\",\n",
    "    \"LICI\": \"LICI.NS\",\n",
    "    \"MIRAE_ASSET_ELSS_TAX_SAVER_FUND_DIRECT_PLAN_GROWTH\": \"0P00017844.BO\",\n",
    "    \"NIFTYBEES\": \"NIFTYBEES.NS\",\n",
    "    \"SBIN\": \"SBIN.NS\",\n",
    "    \"SBI_LONG_TERM_EQUITY_FUND_DIRECT_PLAN_GROWTH\": \"0P0000XVL9.BO\",\n",
    "    \"TATACHEM\": \"TATACHEM.NS\",\n",
    "    \"VOLTAS\": \"VOLTAS.NS\",\n",
    "    \"YESBANK\": \"YESBANK.NS\",\n",
    "}"
   ]
  },
  {
   "cell_type": "code",
   "execution_count": 7,
   "metadata": {
    "execution": {
     "iopub.execute_input": "2024-09-27T04:51:00.261710Z",
     "iopub.status.busy": "2024-09-27T04:51:00.261710Z",
     "iopub.status.idle": "2024-09-27T04:51:00.295262Z",
     "shell.execute_reply": "2024-09-27T04:51:00.295262Z"
    }
   },
   "outputs": [
    {
     "name": "stdout",
     "output_type": "stream",
     "text": [
      "Loaded data from: C:\\Users\\prashant.tripathi\\Code\\PortfolioTracker\\DATA\\SOURCE\\Holdings\\HoldingsHistory_data.csv\n"
     ]
    }
   ],
   "source": [
    "# Load holdings data from CSV\n",
    "df_holdings_history = pd.read_csv(HOLDINGS_HISTORY_PATH)\n",
    "df_holdings_history[\"min_date\"] = pd.to_datetime(df_holdings_history[\"min_date\"])\n",
    "df_holdings_history[\"max_date\"] = pd.to_datetime(df_holdings_history[\"max_date\"])\n",
    "print(f\"Loaded data from: {HOLDINGS_HISTORY_PATH}\")"
   ]
  },
  {
   "cell_type": "code",
   "execution_count": 8,
   "metadata": {
    "execution": {
     "iopub.execute_input": "2024-09-27T04:51:00.365115Z",
     "iopub.status.busy": "2024-09-27T04:51:00.365115Z",
     "iopub.status.idle": "2024-09-27T04:51:13.754506Z",
     "shell.execute_reply": "2024-09-27T04:51:13.754506Z"
    }
   },
   "outputs": [
    {
     "name": "stdout",
     "output_type": "stream",
     "text": [
      "\n",
      "Processing data for symbol BAJAJHFL:\n"
     ]
    },
    {
     "name": "stdout",
     "output_type": "stream",
     "text": [
      "Data processed and saved to: C:\\Users\\prashant.tripathi\\Code\\PortfolioTracker\\DATA\\BRONZE\\StockData\\BAJAJHFL_2024_09.csv\n",
      "\n",
      "Processing data for symbol BHAGERIA:\n",
      "\n",
      "Processing data for symbol BPCL:\n",
      "\n",
      "Processing data for symbol GOLDBEES:\n",
      "\n",
      "Processing data for symbol HERANBA:\n",
      "\n",
      "Processing data for symbol IDEA:\n",
      "\n",
      "Processing data for symbol INFY:\n",
      "\n",
      "Processing data for symbol IRCTC:\n"
     ]
    },
    {
     "name": "stdout",
     "output_type": "stream",
     "text": [
      "Data processed and saved to: C:\\Users\\prashant.tripathi\\Code\\PortfolioTracker\\DATA\\BRONZE\\StockData\\IRCTC_2024_09.csv\n",
      "\n",
      "Processing data for symbol KPITTECH:\n"
     ]
    },
    {
     "name": "stdout",
     "output_type": "stream",
     "text": [
      "Data processed and saved to: C:\\Users\\prashant.tripathi\\Code\\PortfolioTracker\\DATA\\BRONZE\\StockData\\KPITTECH_2024_09.csv\n",
      "\n",
      "Processing data for symbol LICI:\n",
      "\n",
      "Processing data for symbol NIFTYBEES:\n",
      "\n",
      "Processing data for symbol PNB:\n",
      "\n",
      "Processing data for symbol SBIN:\n",
      "\n",
      "Processing data for symbol TATACHEM:\n",
      "\n",
      "Processing data for symbol TATAMOTORS:\n"
     ]
    },
    {
     "name": "stdout",
     "output_type": "stream",
     "text": [
      "Data processed and saved to: C:\\Users\\prashant.tripathi\\Code\\PortfolioTracker\\DATA\\BRONZE\\StockData\\TATAMOTORS_2024_09.csv\n",
      "\n",
      "Processing data for symbol TATAPOWER:\n"
     ]
    },
    {
     "name": "stdout",
     "output_type": "stream",
     "text": [
      "Data processed and saved to: C:\\Users\\prashant.tripathi\\Code\\PortfolioTracker\\DATA\\BRONZE\\StockData\\TATAPOWER_2024_09.csv\n",
      "\n",
      "Processing data for symbol VOLTAS:\n",
      "\n",
      "Processing data for symbol YESBANK:\n",
      "\n",
      "Processing data for symbol MIRAE_ASSET_ELSS_TAX_SAVER_FUND_DIRECT_PLAN_GROWTH:\n"
     ]
    },
    {
     "name": "stdout",
     "output_type": "stream",
     "text": [
      "Data processed and saved to: C:\\Users\\prashant.tripathi\\Code\\PortfolioTracker\\DATA\\BRONZE\\StockData\\MIRAE_ASSET_ELSS_TAX_SAVER_FUND_DIRECT_PLAN_GROWTH_2024_09.csv\n",
      "\n",
      "Processing data for symbol SBI_LONG_TERM_EQUITY_FUND_DIRECT_PLAN_GROWTH:\n"
     ]
    },
    {
     "name": "stdout",
     "output_type": "stream",
     "text": [
      "Data processed and saved to: C:\\Users\\prashant.tripathi\\Code\\PortfolioTracker\\DATA\\BRONZE\\StockData\\SBI_LONG_TERM_EQUITY_FUND_DIRECT_PLAN_GROWTH_2024_09.csv\n"
     ]
    }
   ],
   "source": [
    "# Fetch stock data and process it.\n",
    "for _, row in df_holdings_history.iterrows():\n",
    "    print(f\"\\nProcessing data for symbol {row['symbol']}:\")\n",
    "    try:\n",
    "        stock_ticker = yf.Ticker(\n",
    "            OVERWRITE_TICKERS.get(row[\"symbol\"], row[\"isin\"]),\n",
    "            session=session,\n",
    "        )\n",
    "        date_list = generate_date_list(\n",
    "            row[\"min_date\"].to_pydatetime(), row[\"max_date\"].to_pydatetime()\n",
    "        )\n",
    "        for date in date_list:\n",
    "            output_file = STOCKDATA_BRONZE_LAYER_PATH.joinpath(\n",
    "                f\"{row['symbol']}_{date.year:04d}_{date.month:02d}.csv\"\n",
    "            )\n",
    "            if (\n",
    "                output_file.exists()\n",
    "                and date.month_difference(DateTimeUtil.today()) >= 1\n",
    "            ):\n",
    "                continue\n",
    "            process_file(stock_ticker, date, output_file)\n",
    "    except Exception as e:\n",
    "        print(f\"Error processing {row['symbol']}:\\n{e}\")"
   ]
  }
 ],
 "metadata": {
  "kernelspec": {
   "display_name": "Python 3",
   "language": "python",
   "name": "python3"
  },
  "language_debug": {
   "codemirror_mode": {
    "name": "ipython",
    "version": 3
   },
   "file_extension": ".py",
   "mimetype": "text/x-python",
   "name": "python",
   "nbconvert_exporter": "python",
   "pygments_lexer": "ipython3",
   "version": "3.11.4"
  },
  "language_info": {
   "codemirror_mode": {
    "name": "ipython",
    "version": 3
   },
   "file_extension": ".py",
   "mimetype": "text/x-python",
   "name": "python",
   "nbconvert_exporter": "python",
   "pygments_lexer": "ipython3",
   "version": "3.11.4"
  }
 },
 "nbformat": 4,
 "nbformat_minor": 4
}
