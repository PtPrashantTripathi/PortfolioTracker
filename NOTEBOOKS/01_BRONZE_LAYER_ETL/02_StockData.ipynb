{
 "cells": [
  {
   "cell_type": "markdown",
   "metadata": {},
   "source": [
    "## SOURCE TO BRONZE LAYER\n",
    "\n",
    "### Process:\n",
    "\n",
    "> The function fetches daily stock data using the Yahoo Finance API (`yfinance`).\n"
   ]
  },
  {
   "cell_type": "code",
   "execution_count": 1,
   "metadata": {
    "execution": {
     "iopub.execute_input": "2024-12-19T15:09:29.857095Z",
     "iopub.status.busy": "2024-12-19T15:09:29.856644Z",
     "iopub.status.idle": "2024-12-19T15:09:30.357317Z",
     "shell.execute_reply": "2024-12-19T15:09:30.356743Z"
    }
   },
   "outputs": [],
   "source": [
    "# Import necessary libraries\n",
    "import json\n",
    "from datetime import timedelta\n",
    "\n",
    "import pandas as pd\n",
    "import requests\n",
    "import yfinance as yf\n",
    "from pyrate_limiter import Duration, Limiter, RequestRate\n",
    "from requests import Session\n",
    "from requests_cache import CacheMixin, SQLiteCache\n",
    "from requests_ratelimiter import LimiterMixin, MemoryQueueBucket\n",
    "\n",
    "from StockETL import DateTimeUtil, GlobalPath"
   ]
  },
  {
   "cell_type": "code",
   "execution_count": 2,
   "metadata": {
    "execution": {
     "iopub.execute_input": "2024-12-19T15:09:30.360647Z",
     "iopub.status.busy": "2024-12-19T15:09:30.360266Z",
     "iopub.status.idle": "2024-12-19T15:09:30.523993Z",
     "shell.execute_reply": "2024-12-19T15:09:30.523345Z"
    }
   },
   "outputs": [
    {
     "name": "stdout",
     "output_type": "stream",
     "text": [
      "USERNAME = 'harshalk2022'\n"
     ]
    }
   ],
   "source": [
    "# Importing Common Utility Function\n",
    "%run ../COMMON/common_utility.ipynb"
   ]
  },
  {
   "cell_type": "code",
   "execution_count": 3,
   "metadata": {
    "execution": {
     "iopub.execute_input": "2024-12-19T15:09:30.564172Z",
     "iopub.status.busy": "2024-12-19T15:09:30.563671Z",
     "iopub.status.idle": "2024-12-19T15:09:30.567871Z",
     "shell.execute_reply": "2024-12-19T15:09:30.567337Z"
    }
   },
   "outputs": [],
   "source": [
    "# Define Constants file paths\n",
    "stock_tickers_config_path = GlobalPath(\"CONFIG/CONSTANTS/stock_tickers.json\")\n",
    "holding_history_path = GlobalPath(f\"DATA/SOURCE/Holding/{USERNAME}/Holding_data.csv\")\n",
    "stockdata_bronze_layer_path = GlobalPath(\"DATA/BRONZE/StockData\")\n",
    "stockdata_bronze_schema_file_path = GlobalPath(\n",
    "    \"CONFIG/DATA_CONTRACTS/BRONZE/StockData.json\"\n",
    ")"
   ]
  },
  {
   "cell_type": "code",
   "execution_count": 4,
   "metadata": {
    "execution": {
     "iopub.execute_input": "2024-12-19T15:09:30.569930Z",
     "iopub.status.busy": "2024-12-19T15:09:30.569453Z",
     "iopub.status.idle": "2024-12-19T15:09:30.574357Z",
     "shell.execute_reply": "2024-12-19T15:09:30.573824Z"
    }
   },
   "outputs": [],
   "source": [
    "# Setting cache location for yfinance\n",
    "yf.set_tz_cache_location(\".cache\")\n",
    "\n",
    "\n",
    "# Rate limiting setup\n",
    "class CachedLimiterSession(CacheMixin, LimiterMixin, Session):\n",
    "    pass\n",
    "\n",
    "\n",
    "history_rate = RequestRate(1, Duration.SECOND * 2)\n",
    "limiter = Limiter(history_rate)\n",
    "session = CachedLimiterSession(\n",
    "    limiter=limiter,\n",
    "    bucket_class=MemoryQueueBucket,\n",
    "    backend=SQLiteCache(\".cache/session\", expire_after=timedelta(hours=1)),\n",
    ")"
   ]
  },
  {
   "cell_type": "code",
   "execution_count": 5,
   "metadata": {
    "execution": {
     "iopub.execute_input": "2024-12-19T15:09:30.576391Z",
     "iopub.status.busy": "2024-12-19T15:09:30.575927Z",
     "iopub.status.idle": "2024-12-19T15:09:30.579495Z",
     "shell.execute_reply": "2024-12-19T15:09:30.578893Z"
    }
   },
   "outputs": [],
   "source": [
    "def download_file_from_github(output_file):\n",
    "    github_data_url = f\"https://raw.githubusercontent.com/PtPrashantTripathi/PortfolioTracker/main/DATA/BRONZE/StockData/{output_file.name}\"\n",
    "    response = requests.get(github_data_url)\n",
    "    if response.status_code == 200:\n",
    "        with open(output_file, \"wb\") as file:\n",
    "            file.write(response.content)\n",
    "    else:\n",
    "        raise Exception(\"Failed to download file from Github\")\n",
    "    print(f\"Data processed and saved to => {output_file}\")"
   ]
  },
  {
   "cell_type": "code",
   "execution_count": 6,
   "metadata": {
    "execution": {
     "iopub.execute_input": "2024-12-19T15:09:30.581492Z",
     "iopub.status.busy": "2024-12-19T15:09:30.581019Z",
     "iopub.status.idle": "2024-12-19T15:09:30.585105Z",
     "shell.execute_reply": "2024-12-19T15:09:30.584543Z"
    }
   },
   "outputs": [],
   "source": [
    "def process_file(stock_ticker, date, output_file):\n",
    "    \"\"\"Fetch historical stock data and save it to a CSV file.\"\"\"\n",
    "    df = stock_ticker.history(\n",
    "        start=date.start_date,\n",
    "        end=min(date.end_date, DateTimeUtil.today()),\n",
    "        interval=\"1d\",\n",
    "        actions=True,\n",
    "        rounding=True,\n",
    "    )\n",
    "    if df.empty:\n",
    "        raise Exception(f\"No data fetched from {date.start_date} to {date.end_date}\")\n",
    "    df = df.reset_index()\n",
    "\n",
    "    # Replace punctuation from column names for consistency\n",
    "    df = replace_punctuation_from_columns(df)\n",
    "\n",
    "    # Fix duplicate column names by appending numerical suffixes\n",
    "    df = fix_duplicate_column_names(df)\n",
    "\n",
    "    # Drop rows where all elements are NaN\n",
    "    df = df.dropna(how=\"all\")\n",
    "\n",
    "    # Align Datafame with DataContract\n",
    "    df = align_with_datacontract(df, stockdata_bronze_schema_file_path)\n",
    "\n",
    "    df.to_csv(output_file, index=False)\n",
    "    print(f\"Data processed and saved to => {output_file}\")"
   ]
  },
  {
   "cell_type": "code",
   "execution_count": 7,
   "metadata": {
    "execution": {
     "iopub.execute_input": "2024-12-19T15:09:30.587046Z",
     "iopub.status.busy": "2024-12-19T15:09:30.586577Z",
     "iopub.status.idle": "2024-12-19T15:09:30.589804Z",
     "shell.execute_reply": "2024-12-19T15:09:30.589271Z"
    }
   },
   "outputs": [],
   "source": [
    "# Dictionary for stock ticker overrides\n",
    "# Open and read the JSON file\n",
    "OVERWRITE_TICKERS = {}\n",
    "with open(stock_tickers_config_path, encoding=\"utf-8\") as f:\n",
    "    # Get the contract_fields from json data\n",
    "    OVERWRITE_TICKERS = json.load(f)"
   ]
  },
  {
   "cell_type": "code",
   "execution_count": 8,
   "metadata": {
    "execution": {
     "iopub.execute_input": "2024-12-19T15:09:30.591658Z",
     "iopub.status.busy": "2024-12-19T15:09:30.591305Z",
     "iopub.status.idle": "2024-12-19T15:09:30.599498Z",
     "shell.execute_reply": "2024-12-19T15:09:30.598939Z"
    }
   },
   "outputs": [
    {
     "name": "stdout",
     "output_type": "stream",
     "text": [
      "Loaded data from => /workspaces/PortfolioTracker/DATA/SOURCE/Holding/harshalk2022/Holding_data.csv\n"
     ]
    }
   ],
   "source": [
    "# Load holding data from CSV\n",
    "df_holding_history = pd.read_csv(holding_history_path)\n",
    "df_holding_history[\"min_date\"] = pd.to_datetime(df_holding_history[\"min_date\"])\n",
    "df_holding_history[\"max_date\"] = pd.to_datetime(df_holding_history[\"max_date\"])\n",
    "print(f\"Loaded data from => {holding_history_path}\")"
   ]
  },
  {
   "cell_type": "code",
   "execution_count": 9,
   "metadata": {
    "execution": {
     "iopub.execute_input": "2024-12-19T15:09:30.601473Z",
     "iopub.status.busy": "2024-12-19T15:09:30.601022Z",
     "iopub.status.idle": "2024-12-19T15:10:19.433153Z",
     "shell.execute_reply": "2024-12-19T15:10:19.432530Z"
    }
   },
   "outputs": [
    {
     "name": "stdout",
     "output_type": "stream",
     "text": [
      "\n",
      "Processing data for symbol AWL =>\n"
     ]
    },
    {
     "name": "stdout",
     "output_type": "stream",
     "text": [
      "DataContract loaded from => /workspaces/PortfolioTracker/CONFIG/DATA_CONTRACTS/BRONZE/StockData.json\n",
      "Data processed and saved to => /workspaces/PortfolioTracker/DATA/BRONZE/StockData/AWL_2024_12.csv\n",
      "\n",
      "Processing data for symbol BANKBARODA =>\n",
      "\n",
      "Processing data for symbol CAMPUS =>\n",
      "\n",
      "Processing data for symbol CRESSAN =>\n",
      "\n",
      "Processing data for symbol CTL =>\n"
     ]
    },
    {
     "name": "stdout",
     "output_type": "stream",
     "text": [
      "DataContract loaded from => /workspaces/PortfolioTracker/CONFIG/DATA_CONTRACTS/BRONZE/StockData.json\n",
      "Data processed and saved to => /workspaces/PortfolioTracker/DATA/BRONZE/StockData/CTL_2024_12.csv\n",
      "\n",
      "Processing data for symbol DATAPATTNS =>\n",
      "\n",
      "Processing data for symbol DEEPAKNTR =>\n"
     ]
    },
    {
     "name": "stdout",
     "output_type": "stream",
     "text": [
      "DataContract loaded from => /workspaces/PortfolioTracker/CONFIG/DATA_CONTRACTS/BRONZE/StockData.json\n",
      "Data processed and saved to => /workspaces/PortfolioTracker/DATA/BRONZE/StockData/DEEPAKNTR_2024_12.csv\n",
      "\n",
      "Processing data for symbol FCSSOFT =>\n"
     ]
    },
    {
     "name": "stdout",
     "output_type": "stream",
     "text": [
      "DataContract loaded from => /workspaces/PortfolioTracker/CONFIG/DATA_CONTRACTS/BRONZE/StockData.json\n",
      "Data processed and saved to => /workspaces/PortfolioTracker/DATA/BRONZE/StockData/FCSSOFT_2024_12.csv\n",
      "\n",
      "Processing data for symbol GITARENEW =>\n"
     ]
    },
    {
     "name": "stdout",
     "output_type": "stream",
     "text": [
      "DataContract loaded from => /workspaces/PortfolioTracker/CONFIG/DATA_CONTRACTS/BRONZE/StockData.json\n",
      "Data processed and saved to => /workspaces/PortfolioTracker/DATA/BRONZE/StockData/GITARENEW_2024_12.csv\n",
      "\n",
      "Processing data for symbol GRAVITA =>\n"
     ]
    },
    {
     "name": "stdout",
     "output_type": "stream",
     "text": [
      "DataContract loaded from => /workspaces/PortfolioTracker/CONFIG/DATA_CONTRACTS/BRONZE/StockData.json\n",
      "Data processed and saved to => /workspaces/PortfolioTracker/DATA/BRONZE/StockData/GRAVITA_2024_12.csv\n",
      "\n",
      "Processing data for symbol GREENPOWER =>\n"
     ]
    },
    {
     "name": "stdout",
     "output_type": "stream",
     "text": [
      "DataContract loaded from => /workspaces/PortfolioTracker/CONFIG/DATA_CONTRACTS/BRONZE/StockData.json\n",
      "Data processed and saved to => /workspaces/PortfolioTracker/DATA/BRONZE/StockData/GREENPOWER_2024_12.csv\n",
      "\n",
      "Processing data for symbol HFCL =>\n"
     ]
    },
    {
     "name": "stdout",
     "output_type": "stream",
     "text": [
      "DataContract loaded from => /workspaces/PortfolioTracker/CONFIG/DATA_CONTRACTS/BRONZE/StockData.json\n",
      "Data processed and saved to => /workspaces/PortfolioTracker/DATA/BRONZE/StockData/HFCL_2024_12.csv\n",
      "\n",
      "Processing data for symbol IDFCFIRSTB =>\n"
     ]
    },
    {
     "name": "stdout",
     "output_type": "stream",
     "text": [
      "DataContract loaded from => /workspaces/PortfolioTracker/CONFIG/DATA_CONTRACTS/BRONZE/StockData.json\n",
      "Data processed and saved to => /workspaces/PortfolioTracker/DATA/BRONZE/StockData/IDFCFIRSTB_2024_12.csv\n",
      "\n",
      "Processing data for symbol JPPOWER =>\n",
      "\n",
      "Processing data for symbol KNRCON =>\n"
     ]
    },
    {
     "name": "stdout",
     "output_type": "stream",
     "text": [
      "DataContract loaded from => /workspaces/PortfolioTracker/CONFIG/DATA_CONTRACTS/BRONZE/StockData.json\n",
      "Data processed and saved to => /workspaces/PortfolioTracker/DATA/BRONZE/StockData/KNRCON_2024_12.csv\n",
      "\n",
      "Processing data for symbol KPEL =>\n"
     ]
    },
    {
     "name": "stderr",
     "output_type": "stream",
     "text": [
      "$KPEL.BO: possibly delisted; no price data found  (1d 2024-10-01 00:00:00 -> 2024-10-31 00:00:00) (Yahoo error = \"Data doesn't exist for startDate = 1727721000, endDate = 1730313000\")\n"
     ]
    },
    {
     "name": "stdout",
     "output_type": "stream",
     "text": [
      "Error processing KPEL =>\n",
      "No data fetched from 2024-10-01 00:00:00 to 2024-10-31 00:00:00\n",
      "\n",
      "Processing data for symbol KPITTECH =>\n",
      "Data processed and saved to => /workspaces/PortfolioTracker/DATA/BRONZE/StockData/KPITTECH_2024_12.csv\n",
      "\n",
      "Processing data for symbol LLOYDSENGG =>\n"
     ]
    },
    {
     "name": "stdout",
     "output_type": "stream",
     "text": [
      "DataContract loaded from => /workspaces/PortfolioTracker/CONFIG/DATA_CONTRACTS/BRONZE/StockData.json\n",
      "Data processed and saved to => /workspaces/PortfolioTracker/DATA/BRONZE/StockData/LLOYDSENGG_2024_12.csv\n",
      "\n",
      "Processing data for symbol PNB =>\n",
      "\n",
      "Processing data for symbol PRAKASHSTL =>\n"
     ]
    },
    {
     "name": "stdout",
     "output_type": "stream",
     "text": [
      "DataContract loaded from => /workspaces/PortfolioTracker/CONFIG/DATA_CONTRACTS/BRONZE/StockData.json\n",
      "Data processed and saved to => /workspaces/PortfolioTracker/DATA/BRONZE/StockData/PRAKASHSTL_2024_12.csv\n",
      "\n",
      "Processing data for symbol RAGHUSYN =>\n"
     ]
    },
    {
     "name": "stdout",
     "output_type": "stream",
     "text": [
      "DataContract loaded from => /workspaces/PortfolioTracker/CONFIG/DATA_CONTRACTS/BRONZE/StockData.json\n",
      "Data processed and saved to => /workspaces/PortfolioTracker/DATA/BRONZE/StockData/RAGHUSYN_2024_12.csv\n",
      "\n",
      "Processing data for symbol RPOWER =>\n",
      "\n",
      "Processing data for symbol RTNINDIA =>\n"
     ]
    },
    {
     "name": "stdout",
     "output_type": "stream",
     "text": [
      "DataContract loaded from => /workspaces/PortfolioTracker/CONFIG/DATA_CONTRACTS/BRONZE/StockData.json\n",
      "Data processed and saved to => /workspaces/PortfolioTracker/DATA/BRONZE/StockData/RTNINDIA_2024_12.csv\n",
      "\n",
      "Processing data for symbol RTNPOWER =>\n"
     ]
    },
    {
     "name": "stdout",
     "output_type": "stream",
     "text": [
      "DataContract loaded from => /workspaces/PortfolioTracker/CONFIG/DATA_CONTRACTS/BRONZE/StockData.json\n",
      "Data processed and saved to => /workspaces/PortfolioTracker/DATA/BRONZE/StockData/RTNPOWER_2024_12.csv\n",
      "\n",
      "Processing data for symbol SUZLON =>\n"
     ]
    },
    {
     "name": "stdout",
     "output_type": "stream",
     "text": [
      "DataContract loaded from => /workspaces/PortfolioTracker/CONFIG/DATA_CONTRACTS/BRONZE/StockData.json\n",
      "Data processed and saved to => /workspaces/PortfolioTracker/DATA/BRONZE/StockData/SUZLON_2024_12.csv\n",
      "\n",
      "Processing data for symbol TATAMOTORS =>\n",
      "Data processed and saved to => /workspaces/PortfolioTracker/DATA/BRONZE/StockData/TATAMOTORS_2024_12.csv\n",
      "\n",
      "Processing data for symbol TATAPOWER =>\n"
     ]
    },
    {
     "name": "stdout",
     "output_type": "stream",
     "text": [
      "Data processed and saved to => /workspaces/PortfolioTracker/DATA/BRONZE/StockData/TATAPOWER_2024_12.csv\n",
      "\n",
      "Processing data for symbol TRIDENT =>\n"
     ]
    },
    {
     "name": "stdout",
     "output_type": "stream",
     "text": [
      "DataContract loaded from => /workspaces/PortfolioTracker/CONFIG/DATA_CONTRACTS/BRONZE/StockData.json\n",
      "Data processed and saved to => /workspaces/PortfolioTracker/DATA/BRONZE/StockData/TRIDENT_2024_12.csv\n",
      "\n",
      "Processing data for symbol TTML =>\n"
     ]
    },
    {
     "name": "stdout",
     "output_type": "stream",
     "text": [
      "DataContract loaded from => /workspaces/PortfolioTracker/CONFIG/DATA_CONTRACTS/BRONZE/StockData.json\n",
      "Data processed and saved to => /workspaces/PortfolioTracker/DATA/BRONZE/StockData/TTML_2024_12.csv\n",
      "\n",
      "Processing data for symbol URJA =>\n",
      "\n",
      "Processing data for symbol VIJIFIN =>\n",
      "\n",
      "Processing data for symbol VIKASLIFE =>\n"
     ]
    },
    {
     "name": "stdout",
     "output_type": "stream",
     "text": [
      "DataContract loaded from => /workspaces/PortfolioTracker/CONFIG/DATA_CONTRACTS/BRONZE/StockData.json\n",
      "Data processed and saved to => /workspaces/PortfolioTracker/DATA/BRONZE/StockData/VIKASLIFE_2024_12.csv\n",
      "\n",
      "Processing data for symbol VIRTUALG =>\n",
      "\n",
      "Processing data for symbol WIPRO =>\n"
     ]
    },
    {
     "name": "stdout",
     "output_type": "stream",
     "text": [
      "DataContract loaded from => /workspaces/PortfolioTracker/CONFIG/DATA_CONTRACTS/BRONZE/StockData.json\n",
      "Data processed and saved to => /workspaces/PortfolioTracker/DATA/BRONZE/StockData/WIPRO_2024_12.csv\n",
      "\n",
      "Processing data for symbol YAMNINV =>\n",
      "\n",
      "Processing data for symbol ZOMATO =>\n"
     ]
    },
    {
     "name": "stdout",
     "output_type": "stream",
     "text": [
      "DataContract loaded from => /workspaces/PortfolioTracker/CONFIG/DATA_CONTRACTS/BRONZE/StockData.json\n",
      "Data processed and saved to => /workspaces/PortfolioTracker/DATA/BRONZE/StockData/ZOMATO_2024_10.csv\n"
     ]
    },
    {
     "name": "stdout",
     "output_type": "stream",
     "text": [
      "DataContract loaded from => /workspaces/PortfolioTracker/CONFIG/DATA_CONTRACTS/BRONZE/StockData.json\n",
      "Data processed and saved to => /workspaces/PortfolioTracker/DATA/BRONZE/StockData/ZOMATO_2024_11.csv\n"
     ]
    },
    {
     "name": "stdout",
     "output_type": "stream",
     "text": [
      "DataContract loaded from => /workspaces/PortfolioTracker/CONFIG/DATA_CONTRACTS/BRONZE/StockData.json\n",
      "Data processed and saved to => /workspaces/PortfolioTracker/DATA/BRONZE/StockData/ZOMATO_2024_12.csv\n"
     ]
    }
   ],
   "source": [
    "# Fetch stock data and process it.\n",
    "for _, row in df_holding_history.iterrows():\n",
    "    print(f\"\\nProcessing data for symbol {row['symbol']} =>\")\n",
    "    try:\n",
    "        stock_ticker = yf.Ticker(\n",
    "            OVERWRITE_TICKERS.get(row[\"symbol\"], row[\"isin\"]),\n",
    "            session=session,\n",
    "        )\n",
    "        date_list = generate_date_list(\n",
    "            row[\"min_date\"].to_pydatetime(), row[\"max_date\"].to_pydatetime()\n",
    "        )\n",
    "        for date in date_list:\n",
    "            output_file = stockdata_bronze_layer_path.joinpath(\n",
    "                f\"{row['symbol']}_{date.year:04d}_{date.month:02d}.csv\"\n",
    "            )\n",
    "            if (\n",
    "                output_file.exists()\n",
    "                and date.month_difference(DateTimeUtil.today()) >= 1\n",
    "            ):\n",
    "                continue\n",
    "            else:\n",
    "                try:\n",
    "                    download_file_from_github(output_file)\n",
    "                except:\n",
    "                    process_file(stock_ticker, date, output_file)\n",
    "    except Exception as e:\n",
    "        print(f\"Error processing {row['symbol']} =>\\n{e}\")"
   ]
  }
 ],
 "metadata": {
  "kernelspec": {
   "display_name": "Python 3",
   "language": "python",
   "name": "python3"
  },
  "language_debug": {
   "codemirror_mode": {
    "name": "ipython",
    "version": 3
   },
   "file_extension": ".py",
   "mimetype": "text/x-python",
   "name": "python",
   "nbconvert_exporter": "python",
   "pygments_lexer": "ipython3",
   "version": "3.11.4"
  },
  "language_info": {
   "codemirror_mode": {
    "name": "ipython",
    "version": 3
   },
   "file_extension": ".py",
   "mimetype": "text/x-python",
   "name": "python",
   "nbconvert_exporter": "python",
   "pygments_lexer": "ipython3",
   "version": "3.12.1"
  }
 },
 "nbformat": 4,
 "nbformat_minor": 4
}
