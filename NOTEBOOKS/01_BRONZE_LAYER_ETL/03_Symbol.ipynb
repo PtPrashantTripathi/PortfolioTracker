{
 "cells": [
  {
   "cell_type": "markdown",
   "metadata": {},
   "source": [
    "## SOURCE TO SOURCE LAYER\n",
    "\n",
    "> This Notebook reads the RAW files and performs data harmonization.\n"
   ]
  },
  {
   "cell_type": "code",
   "execution_count": 1,
   "metadata": {
    "execution": {
     "iopub.execute_input": "2024-10-01T01:11:53.249572Z",
     "iopub.status.busy": "2024-10-01T01:11:53.249375Z",
     "iopub.status.idle": "2024-10-01T01:11:53.536507Z",
     "shell.execute_reply": "2024-10-01T01:11:53.535765Z"
    }
   },
   "outputs": [],
   "source": [
    "# Importing Common Utility Function\n",
    "import pandas as pd\n",
    "from StockETL import GlobalPath"
   ]
  },
  {
   "cell_type": "code",
   "execution_count": 2,
   "metadata": {
    "execution": {
     "iopub.execute_input": "2024-10-01T01:11:53.539104Z",
     "iopub.status.busy": "2024-10-01T01:11:53.538507Z",
     "iopub.status.idle": "2024-10-01T01:11:53.698954Z",
     "shell.execute_reply": "2024-10-01T01:11:53.698310Z"
    }
   },
   "outputs": [],
   "source": [
    "# Import necessary libraries and utility functions\n",
    "%run ../COMMON/common_utility.ipynb"
   ]
  },
  {
   "cell_type": "code",
   "execution_count": 3,
   "metadata": {
    "execution": {
     "iopub.execute_input": "2024-10-01T01:11:53.701222Z",
     "iopub.status.busy": "2024-10-01T01:11:53.700861Z",
     "iopub.status.idle": "2024-10-01T01:11:53.704819Z",
     "shell.execute_reply": "2024-10-01T01:11:53.704201Z"
    }
   },
   "outputs": [],
   "source": [
    "# Instantiate GlobalPath\n",
    "symbol_source_layer_path = GlobalPath(\"DATA/SOURCE/Symbol\")\n",
    "symbol_bronze_layer_path = GlobalPath(\"DATA/BRONZE/Symbol/Symbol_data.csv\")\n",
    "symbol_bronze_schema_file_path = GlobalPath(\"CONFIG/DATA_CONTRACTS/BRONZE/Symbol.json\")"
   ]
  },
  {
   "cell_type": "markdown",
   "metadata": {},
   "source": [
    "### Define a function to read and process an CSV file\n"
   ]
  },
  {
   "cell_type": "code",
   "execution_count": 4,
   "metadata": {
    "execution": {
     "iopub.execute_input": "2024-10-01T01:11:53.706997Z",
     "iopub.status.busy": "2024-10-01T01:11:53.706541Z",
     "iopub.status.idle": "2024-10-01T01:11:53.710236Z",
     "shell.execute_reply": "2024-10-01T01:11:53.709654Z"
    }
   },
   "outputs": [],
   "source": [
    "# Define a function to read and process an csv file\n",
    "def read_file(file_path: GlobalPath) -> None:\n",
    "    \"\"\"\n",
    "    Processes CSV files from the SOURCE layer and consolidates them into a single DataFrame.\n",
    "    The data is then harmonized and saved as a CSV file in the BRONZE layer.\n",
    "    \"\"\"\n",
    "    # Log the reading of the file\n",
    "    print(f\"Processing file: {file_path}\")\n",
    "\n",
    "    # Read each CSV file into a DataFrame\n",
    "    df = pd.read_csv(file_path)\n",
    "\n",
    "    # Harmonize the DataFrame by replacing punctuation from column names\n",
    "    df = replace_punctuation_from_columns(df)\n",
    "\n",
    "    # Drop rows where 'isin' is NaN or null\n",
    "    df = df.dropna(subset=[\"isin\"])\n",
    "\n",
    "    # # Align Datafame with schema\n",
    "    df = align_with_schema(df, symbol_bronze_schema_file_path)\n",
    "\n",
    "    # Drop columns where all elements are NaN\n",
    "    df.dropna(how=\"all\", axis=1, inplace=True)\n",
    "    return df"
   ]
  },
  {
   "cell_type": "code",
   "execution_count": 5,
   "metadata": {
    "execution": {
     "iopub.execute_input": "2024-10-01T01:11:53.712150Z",
     "iopub.status.busy": "2024-10-01T01:11:53.711796Z",
     "iopub.status.idle": "2024-10-01T01:11:53.812331Z",
     "shell.execute_reply": "2024-10-01T01:11:53.811651Z"
    }
   },
   "outputs": [
    {
     "name": "stdout",
     "output_type": "stream",
     "text": [
      "Number of Files Detected: 4\n",
      "Processing file: /home/runner/work/PortfolioTracker/PortfolioTracker/DATA/SOURCE/Symbol/INDEX_Symbols.csv\n",
      "Processing file: /home/runner/work/PortfolioTracker/PortfolioTracker/DATA/SOURCE/Symbol/AMFI_Reports.csv\n",
      "Processing file: /home/runner/work/PortfolioTracker/PortfolioTracker/DATA/SOURCE/Symbol/Mannual_Symbols.csv\n",
      "Processing file: /home/runner/work/PortfolioTracker/PortfolioTracker/DATA/SOURCE/Symbol/EQUITY_Symbols.csv\n",
      "Successfully created BRONZE Layer CSV file for Symbol at: /home/runner/work/PortfolioTracker/PortfolioTracker/DATA/BRONZE/Symbol/Symbol_data.csv\n",
      "<class 'pandas.core.frame.DataFrame'>\n",
      "RangeIndex: 16926 entries, 0 to 16925\n",
      "Data columns (total 6 columns):\n",
      " #   Column             Non-Null Count  Dtype \n",
      "---  ------             --------------  ----- \n",
      " 0   instrument_type    16926 non-null  object\n",
      " 1   isin               16926 non-null  object\n",
      " 2   symbol             4343 non-null   object\n",
      " 3   scrip_name         16926 non-null  object\n",
      " 4   scrip_code         4343 non-null   object\n",
      " 5   isin_reinvestment  3449 non-null   object\n",
      "dtypes: object(6)\n",
      "memory usage: 793.5+ KB\n"
     ]
    }
   ],
   "source": [
    "# Initialize an empty list to store DataFrames\n",
    "df_symbol_list = []\n",
    "# Generate file paths for available Excel files in the source layer\n",
    "file_paths = check_files_availability(symbol_source_layer_path, file_pattern=\"*.csv\")\n",
    "\n",
    "# Loop through all CSV files in the SOURCE layer folder\n",
    "for file_path in file_paths:\n",
    "    try:\n",
    "        df = read_file(file_path)\n",
    "        # Append the DataFrame to the list\n",
    "        df_symbol_list.append(df)\n",
    "    except Exception as e:\n",
    "        # Log any exceptions during file reading\n",
    "        print(f\"Failed to read {file_path} due to error: {e}\")\n",
    "\n",
    "# Concatenate all DataFrames into one\n",
    "df = pd.concat(df_symbol_list, ignore_index=True)\n",
    "\n",
    "df = df[\n",
    "    [\n",
    "        \"instrument_type\",\n",
    "        \"isin\",\n",
    "        \"symbol\",\n",
    "        \"scrip_name\",\n",
    "        \"scrip_code\",\n",
    "        \"isin_reinvestment\",\n",
    "    ]\n",
    "]\n",
    "\n",
    "# Save the result as a CSV file in the BRONZE layer\n",
    "df.to_csv(symbol_bronze_layer_path, index=None)\n",
    "print(\n",
    "    f\"Successfully created BRONZE Layer CSV file for Symbol at: {symbol_bronze_layer_path}\"\n",
    ")\n",
    "# Log the DataFrame debugrmation\n",
    "df.info()"
   ]
  }
 ],
 "metadata": {
  "kernelspec": {
   "display_name": "Python 3 (ipykernel)",
   "language": "python",
   "name": "python3"
  },
  "language_debug": {
   "codemirror_mode": {
    "name": "ipython",
    "version": 3
   },
   "file_extension": ".py",
   "mimetype": "text/x-python",
   "name": "python",
   "nbconvert_exporter": "python",
   "pygments_lexer": "ipython3",
   "version": "3.11.4"
  },
  "language_info": {
   "codemirror_mode": {
    "name": "ipython",
    "version": 3
   },
   "file_extension": ".py",
   "mimetype": "text/x-python",
   "name": "python",
   "nbconvert_exporter": "python",
   "pygments_lexer": "ipython3",
   "version": "3.12.6"
  }
 },
 "nbformat": 4,
 "nbformat_minor": 4
}
