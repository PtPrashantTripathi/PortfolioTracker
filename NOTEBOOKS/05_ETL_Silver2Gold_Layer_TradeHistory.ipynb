{
 "cells": [
  {
   "cell_type": "markdown",
   "metadata": {},
   "source": [
    "## SILVER TO GOLD LAYER\n"
   ]
  },
  {
   "cell_type": "code",
   "execution_count": 1,
   "metadata": {},
   "outputs": [],
   "source": [
    "import pandas as pd\n",
    "from common_utilities import Portfolio,global_paths"
   ]
  },
  {
   "cell_type": "markdown",
   "metadata": {},
   "source": [
    "### Gold Layer - Trade History\n"
   ]
  },
  {
   "cell_type": "code",
   "execution_count": 2,
   "metadata": {},
   "outputs": [],
   "source": [
    "# read the csv file\n",
    "df_TradeHistory = pd.read_csv(TradeHistory_SILVER_FILE_PATH)\n",
    "\n",
    "# replace scrip code to compnay name\n",
    "df_Symbol = pd.read_csv(Symbol_SILVER_FILE_PATH)\n",
    "df_Symbol[\"scrip_code\"] = df_Symbol[\"scrip_code\"].astype(str)\n",
    "\n",
    "# Convert 'datetime' to datetime type\n",
    "df_TradeHistory[\"datetime\"] = pd.to_datetime(df_TradeHistory[\"datetime\"])\n",
    "\n",
    "# Merge df_TradeHistory with df_Symbol on the matching columns\n",
    "df_TradeHistory = df_TradeHistory.merge(\n",
    "    df_Symbol[[\"scrip_code\", \"symbol\"]],\n",
    "    left_on=\"scrip_code\",\n",
    "    right_on=\"scrip_code\",\n",
    "    how=\"left\",\n",
    ")\n",
    "\n",
    "# Assign the new column 'stock_name' in df_TradeHistory to the values from 'symbol'\n",
    "df_TradeHistory[\"stock_name\"] = df_TradeHistory[\"symbol\"].combine_first(df_TradeHistory[\"stock_name\"])\n",
    "\n",
    "# sort the dataframe by date\n",
    "df_TradeHistory = df_TradeHistory.sort_values(by=\"datetime\")\n",
    "\n",
    "\n",
    "portfolio = Portfolio()\n",
    "data = [portfolio.trade(row) for _, row in df_TradeHistory.iterrows()]\n",
    "\n",
    "df_TradeHistory = pd.DataFrame(data)\n",
    "# df_TradeHistory = df_TradeHistory.round(2)\n",
    "df_TradeHistory.columns()\n",
    "df_TradeHistory = df_TradeHistory[\n",
    "    [\n",
    "        \"datetime\",\n",
    "        \"segment\",\n",
    "        \"stock_name\",\n",
    "        \"side\",\n",
    "        \"buy_quantity\",\n",
    "        \"buy_price\",\n",
    "        \"buy_amount\",\n",
    "        \"sell_quantity\",\n",
    "        \"sell_price\",\n",
    "        \"sell_amount\",\n",
    "        \"profit_loss_amount\",\n",
    "        \"holding_quantity\",\n",
    "        \"holding_price_avg\",\n",
    "        \"holding_amount\",\n",
    "    ]\n",
    "]\n",
    "\n",
    "# sort the dataframe by date\n",
    "df_TradeHistory = df_TradeHistory.sort_values(by=[\"segment\", \"stock_name\", \"datetime\"])\n",
    "\n",
    "# Save the result as a csv file\n",
    "df_TradeHistory.to_csv(TradeHistory_GOLD_FILE_PATH, index=None)\n",
    "df_TradeHistory.info()\n",
    "print(\"GOLD Layer csv file for trade history successfully created at:\")\n",
    "print(TradeHistory_GOLD_FILE_PATH.resolve())"
   ]
  }
 ],
 "metadata": {
  "kernelspec": {
   "display_name": "Python 3",
   "language": "python",
   "name": "python3"
  },
  "language_info": {
   "codemirror_mode": {
    "name": "ipython",
    "version": 3
   },
   "file_extension": ".py",
   "mimetype": "text/x-python",
   "name": "python",
   "nbconvert_exporter": "python",
   "pygments_lexer": "ipython3",
   "version": "3.11.4"
  }
 },
 "nbformat": 4,
 "nbformat_minor": 2
}
