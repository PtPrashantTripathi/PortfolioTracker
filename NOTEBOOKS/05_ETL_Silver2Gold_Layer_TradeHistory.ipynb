{
 "cells": [
  {
   "cell_type": "markdown",
   "metadata": {},
   "source": [
    "## SILVER TO GOLD LAYER\n"
   ]
  },
  {
   "cell_type": "code",
   "execution_count": 9,
   "metadata": {},
   "outputs": [],
   "source": [
    "import pandas as pd\n",
    "from common_utilities import Portfolio, global_path"
   ]
  },
  {
   "cell_type": "markdown",
   "metadata": {},
   "source": [
    "### Gold Layer - Trade History\n"
   ]
  },
  {
   "cell_type": "code",
   "execution_count": 10,
   "metadata": {},
   "outputs": [],
   "source": [
    "# read the csv file\n",
    "df_TradeHistory = pd.read_csv(global_path.tradehistory_silver_file_path)\n",
    "\n",
    "# Convert 'datetime' to datetime type\n",
    "df_TradeHistory[\"datetime\"] = pd.to_datetime(df_TradeHistory[\"datetime\"])\n",
    "\n",
    "# sort the dataframe by date\n",
    "df_TradeHistory = df_TradeHistory.sort_values(by=\"datetime\")"
   ]
  },
  {
   "cell_type": "code",
   "execution_count": 11,
   "metadata": {},
   "outputs": [],
   "source": [
    "portfolio = Portfolio()\n",
    "\n",
    "# Apply the function of trade logic to each row of the DataFrame\n",
    "data = [portfolio.trade(row.to_dict()) for _, row in df_TradeHistory.iterrows()]\n",
    "\n",
    "df_TradeHistory = pd.DataFrame(data)\n",
    "\n",
    "# Select columns that end with 'price' or 'amount'\n",
    "columns_to_round = [\n",
    "    col\n",
    "    for col in df_TradeHistory.columns\n",
    "    if col.endswith(\"price\") or col.endswith(\"amount\")\n",
    "]\n",
    "\n",
    "# Round the values in the selected columns to two decimal places\n",
    "df_TradeHistory[columns_to_round] = df_TradeHistory[columns_to_round].round(2)"
   ]
  },
  {
   "cell_type": "code",
   "execution_count": 12,
   "metadata": {},
   "outputs": [
    {
     "name": "stdout",
     "output_type": "stream",
     "text": [
      "<class 'pandas.core.frame.DataFrame'>\n",
      "Index: 175 entries, 2 to 93\n",
      "Data columns (total 13 columns):\n",
      " #   Column            Non-Null Count  Dtype         \n",
      "---  ------            --------------  -----         \n",
      " 0   datetime          175 non-null    datetime64[ns]\n",
      " 1   exchange          175 non-null    object        \n",
      " 2   segment           175 non-null    object        \n",
      " 3   stock_name        175 non-null    object        \n",
      " 4   scrip_code        175 non-null    object        \n",
      " 5   side              175 non-null    object        \n",
      " 6   amount            175 non-null    float64       \n",
      " 7   quantity          175 non-null    float64       \n",
      " 8   price             175 non-null    float64       \n",
      " 9   avg_price         175 non-null    float64       \n",
      " 10  holding_quantity  175 non-null    int64         \n",
      " 11  holding_amount    175 non-null    float64       \n",
      " 12  pnl_amount        175 non-null    float64       \n",
      "dtypes: datetime64[ns](1), float64(6), int64(1), object(5)\n",
      "memory usage: 19.1+ KB\n",
      "GOLD Layer csv file for trade history successfully created at:\n",
      "C:\\Users\\prashant.tripathi\\Code\\Upstox\\DATA\\GOLD\\TradeHistory\\TradeHistory_data.csv\n"
     ]
    }
   ],
   "source": [
    "# df_TradeHistory = df_TradeHistory[\n",
    "#     [\n",
    "#         \"datetime\",\n",
    "#         \"exchange\",\n",
    "#         \"segment\",\n",
    "#         \"stock_name\",\n",
    "#         \"side\",\n",
    "#         \"buy_quantity\",\n",
    "#         \"buy_price\",\n",
    "#         \"buy_amount\",\n",
    "#         \"sell_quantity\",\n",
    "#         \"sell_price\",\n",
    "#         \"sell_amount\",\n",
    "#         \"holding_quantity\",\n",
    "#         \"avg_price\",\n",
    "#         \"holding_amount\",\n",
    "#         \"pnl_amount\"\n",
    "#     ]\n",
    "# ]\n",
    "\n",
    "# sort the dataframe by date\n",
    "df_TradeHistory = df_TradeHistory.sort_values(by=[\"segment\", \"stock_name\", \"datetime\"])\n",
    "\n",
    "# Save the result as a csv file\n",
    "df_TradeHistory.to_csv(global_path.tradehistory_gold_file_path, index=None)\n",
    "df_TradeHistory.info()\n",
    "print(\"GOLD Layer csv file for trade history successfully created at:\")\n",
    "print(global_path.tradehistory_gold_file_path.resolve())"
   ]
  }
 ],
 "metadata": {
  "kernelspec": {
   "display_name": "Python 3",
   "language": "python",
   "name": "python3"
  },
  "language_info": {
   "codemirror_mode": {
    "name": "ipython",
    "version": 3
   },
   "file_extension": ".py",
   "mimetype": "text/x-python",
   "name": "python",
   "nbconvert_exporter": "python",
   "pygments_lexer": "ipython3",
   "version": "3.11.4"
  }
 },
 "nbformat": 4,
 "nbformat_minor": 2
}
