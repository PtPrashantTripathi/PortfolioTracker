{
 "cells": [
  {
   "cell_type": "markdown",
   "metadata": {},
   "source": [
    "## SILVER TO GOLD LAYER\n",
    "\n",
    "### Gold Layer - Trade History\n"
   ]
  },
  {
   "cell_type": "code",
   "execution_count": 1,
   "metadata": {},
   "outputs": [],
   "source": [
    "# Import necessary libraries and utility functions\n",
    "import pandas as pd\n",
    "from common_utilities import Portfolio, global_path, logger"
   ]
  },
  {
   "cell_type": "markdown",
   "metadata": {},
   "source": [
    "### Data Processing\n",
    "\n",
    "- Read and sort trade history data.\n",
    "- Apply portfolio trade logic.\n"
   ]
  },
  {
   "cell_type": "code",
   "execution_count": 2,
   "metadata": {},
   "outputs": [
    {
     "name": "stderr",
     "output_type": "stream",
     "text": [
      "2024-08-01T14:05:16Z - INFO - Read SILVER Layer trade history data from: C:\\Users\\prashant.tripathi\\Code\\Upstox\\DATA\\SILVER\\TradeHistory\\TradeHistory_data.csv\n"
     ]
    }
   ],
   "source": [
    "# Read the CSV file\n",
    "try:\n",
    "    df_trade_history = pd.read_csv(global_path.tradehistory_silver_file_path)\n",
    "\n",
    "    # Convert 'datetime' to datetime type\n",
    "    df_trade_history[\"datetime\"] = pd.to_datetime(df_trade_history[\"datetime\"])\n",
    "\n",
    "    # Sort the DataFrame by 'datetime'\n",
    "    df_trade_history = df_trade_history.sort_values(by=\"datetime\")\n",
    "\n",
    "    logger.info(\n",
    "        f\"Read SILVER Layer trade history data from: {global_path.tradehistory_silver_file_path}\"\n",
    "    )\n",
    "except Exception as e:\n",
    "    logger.error(\n",
    "        f\"Failed to read SILVER Layer trade history data due to error: {e}\"\n",
    "    )"
   ]
  },
  {
   "cell_type": "markdown",
   "metadata": {},
   "source": [
    "### Portfolio Logic Application\n",
    "\n",
    "- Instantiate Portfolio and apply trade logic.\n",
    "- Handle expired stocks and round necessary columns.\n"
   ]
  },
  {
   "cell_type": "code",
   "execution_count": 3,
   "metadata": {},
   "outputs": [
    {
     "name": "stderr",
     "output_type": "stream",
     "text": [
      "2024-08-01T14:05:17Z - ERROR - Failed to process trade history data due to error: Must specify a fill 'value' or 'method'.\n"
     ]
    }
   ],
   "source": [
    "# Apply the trade logic to each row of the DataFrame\n",
    "try:\n",
    "    # Instantiate the Portfolio object\n",
    "    portfolio = Portfolio()\n",
    "\n",
    "    data = [\n",
    "        portfolio.trade(row.to_dict()) for _, row in df_trade_history.iterrows()\n",
    "    ]\n",
    "    data += portfolio.check_expired_stocks()\n",
    "\n",
    "    # Create a DataFrame from the processed data\n",
    "    df_trade_history = pd.DataFrame(data)\n",
    "\n",
    "    # Round the values in the columns to two decimal places\n",
    "    df_trade_history = df_trade_history.round(2)\n",
    "    \n",
    "\n",
    "    df_trade_history = df_trade_history.fillna(None)\n",
    "\n",
    "except Exception as e:\n",
    "    logger.error(f\"Failed to process trade history data due to error: {e}\")"
   ]
  },
  {
   "cell_type": "markdown",
   "metadata": {},
   "source": [
    "### Final Processing and Export\n",
    "\n",
    "- Select and sort relevant columns.\n",
    "- Save the processed data as a CSV file in the Gold layer.\n"
   ]
  },
  {
   "cell_type": "code",
   "execution_count": 4,
   "metadata": {},
   "outputs": [
    {
     "name": "stderr",
     "output_type": "stream",
     "text": [
      "2024-08-01T14:05:17Z - INFO - GOLD Layer CSV file for trade history successfully created at:\n",
      "2024-08-01T14:05:17Z - INFO - C:\\Users\\prashant.tripathi\\Code\\Upstox\\DATA\\GOLD\\TradeHistory\\TradeHistory_data.csv\n"
     ]
    },
    {
     "name": "stdout",
     "output_type": "stream",
     "text": [
      "<class 'pandas.core.frame.DataFrame'>\n",
      "Index: 176 entries, 2 to 93\n",
      "Data columns (total 15 columns):\n",
      " #   Column            Non-Null Count  Dtype         \n",
      "---  ------            --------------  -----         \n",
      " 0   datetime          176 non-null    datetime64[ns]\n",
      " 1   exchange          176 non-null    object        \n",
      " 2   segment           176 non-null    object        \n",
      " 3   stock_name        176 non-null    object        \n",
      " 4   scrip_code        176 non-null    object        \n",
      " 5   expiry_date       176 non-null    object        \n",
      " 6   side              176 non-null    object        \n",
      " 7   quantity          176 non-null    float64       \n",
      " 8   price             176 non-null    float64       \n",
      " 9   amount            176 non-null    float64       \n",
      " 10  holding_quantity  176 non-null    float64       \n",
      " 11  avg_price         176 non-null    float64       \n",
      " 12  holding_amount    176 non-null    float64       \n",
      " 13  pnl_amount        176 non-null    float64       \n",
      " 14  pnl_percentage    176 non-null    float64       \n",
      "dtypes: datetime64[ns](1), float64(8), object(6)\n",
      "memory usage: 22.0+ KB\n"
     ]
    }
   ],
   "source": [
    "# Save the result as a CSV file\n",
    "try:\n",
    "    # Sort the DataFrame by 'segment', 'stock_name', and 'datetime'\n",
    "    df_trade_history = df_trade_history.sort_values(\n",
    "        by=[\"segment\", \"stock_name\", \"datetime\"]\n",
    "    )\n",
    "    # Select relevant columns\n",
    "    df_trade_history = df_trade_history[\n",
    "        [\n",
    "            \"datetime\",\n",
    "            \"exchange\",\n",
    "            \"segment\",\n",
    "            \"stock_name\",\n",
    "            \"scrip_code\",\n",
    "            \"expiry_date\",\n",
    "            \"side\",\n",
    "            \"quantity\",\n",
    "            \"price\",\n",
    "            \"amount\",\n",
    "            \"holding_quantity\",\n",
    "            \"avg_price\",\n",
    "            \"holding_amount\",\n",
    "            \"pnl_amount\",\n",
    "            \"pnl_percentage\"\n",
    "        ]\n",
    "    ]\n",
    "\n",
    "    df_trade_history.to_csv(global_path.tradehistory_gold_file_path, index=None)\n",
    "    logger.info(\n",
    "        \"GOLD Layer CSV file for trade history successfully created at:\"\n",
    "    )\n",
    "    logger.info(global_path.tradehistory_gold_file_path.resolve())\n",
    "    # Log the DataFrame info\n",
    "    df_trade_history.info()\n",
    "except Exception as e:\n",
    "    logger.error(f\"Failed to save GOLD Layer CSV file due to error: {e}\")"
   ]
  }
 ],
 "metadata": {
  "kernelspec": {
   "display_name": "Python 3 (ipykernel)",
   "language": "python",
   "name": "python3"
  },
  "language_info": {
   "codemirror_mode": {
    "name": "ipython",
    "version": 3
   },
   "file_extension": ".py",
   "mimetype": "text/x-python",
   "name": "python",
   "nbconvert_exporter": "python",
   "pygments_lexer": "ipython3",
   "version": "3.11.4"
  }
 },
 "nbformat": 4,
 "nbformat_minor": 4
}
