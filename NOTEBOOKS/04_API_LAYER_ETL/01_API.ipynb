{
 "cells": [
  {
   "cell_type": "markdown",
   "metadata": {},
   "source": [
    "## GOLD TO API LAYER\n",
    "\n",
    "### API Layer\n"
   ]
  },
  {
   "cell_type": "code",
   "execution_count": 1,
   "metadata": {
    "execution": {
     "iopub.execute_input": "2025-04-05T01:01:05.190046Z",
     "iopub.status.busy": "2025-04-05T01:01:05.189527Z",
     "iopub.status.idle": "2025-04-05T01:01:05.424416Z",
     "shell.execute_reply": "2025-04-05T01:01:05.423937Z"
    }
   },
   "outputs": [],
   "source": [
    "# Importing Common Utility Function\n",
    "import json\n",
    "\n",
    "import pandas as pd\n",
    "\n",
    "from StockETL import DateTimeUtil, GlobalPath"
   ]
  },
  {
   "cell_type": "code",
   "execution_count": 2,
   "metadata": {
    "execution": {
     "iopub.execute_input": "2025-04-05T01:01:05.426669Z",
     "iopub.status.busy": "2025-04-05T01:01:05.426232Z",
     "iopub.status.idle": "2025-04-05T01:01:05.583107Z",
     "shell.execute_reply": "2025-04-05T01:01:05.582572Z"
    }
   },
   "outputs": [
    {
     "name": "stdout",
     "output_type": "stream",
     "text": [
      "USERNAME = 'ptprashanttripathi'\n"
     ]
    }
   ],
   "source": [
    "# Import necessary libraries and utility functions\n",
    "%run ../COMMON/common_utility.ipynb"
   ]
  },
  {
   "cell_type": "code",
   "execution_count": 3,
   "metadata": {
    "execution": {
     "iopub.execute_input": "2025-04-05T01:01:05.619052Z",
     "iopub.status.busy": "2025-04-05T01:01:05.618827Z",
     "iopub.status.idle": "2025-04-05T01:01:05.622939Z",
     "shell.execute_reply": "2025-04-05T01:01:05.622510Z"
    }
   },
   "outputs": [],
   "source": [
    "# Define file paths using GlobalPath\n",
    "current_holding_records_file_path = GlobalPath(\n",
    "    f\"DATA/GOLD/Holding/{USERNAME}/CurrentHolding_data.csv\"\n",
    ")\n",
    "stockprice_silver_file_path = GlobalPath(\"DATA/SILVER/StockPrice/StockPrice_data.csv\")\n",
    "holding_gold_file_path = GlobalPath(f\"DATA/GOLD/Holding/{USERNAME}/Holding_data.csv\")\n",
    "profitloss_gold_file_path = GlobalPath(\n",
    "    f\"DATA/GOLD/ProfitLoss/{USERNAME}/ProfitLoss_data.csv\"\n",
    ")\n",
    "dividend_gold_file_path = GlobalPath(f\"DATA/GOLD/Dividend/{USERNAME}/Dividend_data.csv\")"
   ]
  },
  {
   "cell_type": "code",
   "execution_count": 4,
   "metadata": {
    "execution": {
     "iopub.execute_input": "2025-04-05T01:01:05.624544Z",
     "iopub.status.busy": "2025-04-05T01:01:05.624372Z",
     "iopub.status.idle": "2025-04-05T01:01:05.658752Z",
     "shell.execute_reply": "2025-04-05T01:01:05.658187Z"
    }
   },
   "outputs": [
    {
     "name": "stdout",
     "output_type": "stream",
     "text": [
      "Processing Data => /home/runner/work/PortfolioTracker/PortfolioTracker/DATA/GOLD/Holding/ptprashanttripathi/CurrentHolding_data.csv\n",
      "Processing Data => /home/runner/work/PortfolioTracker/PortfolioTracker/DATA/SILVER/StockPrice/StockPrice_data.csv\n"
     ]
    }
   ],
   "source": [
    "# Main flow\n",
    "df_current_holding = pd.read_csv(current_holding_records_file_path)\n",
    "print(f\"Processing Data => {current_holding_records_file_path}\")\n",
    "\n",
    "# Processes stock prices to extract the latest closing price for each symbol\n",
    "df_stockprice = pd.read_csv(stockprice_silver_file_path)\n",
    "print(f\"Processing Data => {stockprice_silver_file_path}\")\n",
    "\n",
    "df_stockprice[\"date\"] = pd.to_datetime(df_stockprice[\"date\"])\n",
    "df_stockprice[\"close_price\"] = df_stockprice[\"close\"]\n",
    "idx = df_stockprice.groupby(\"symbol\")[\"date\"].idxmax()\n",
    "df_stockprice = df_stockprice.loc[idx].reset_index(drop=True)\n",
    "\n",
    "# Merges holding data with stock prices and calculates PnL\n",
    "df_current_holding = pd.merge(\n",
    "    df_current_holding,\n",
    "    df_stockprice[[\"symbol\", \"close_price\"]],\n",
    "    on=\"symbol\",\n",
    "    how=\"left\",\n",
    ")\n",
    "df_current_holding[\"close_amount\"] = (\n",
    "    df_current_holding[\"close_price\"] * df_current_holding[\"quantity\"]\n",
    ")\n",
    "df_current_holding[\"pnl_amount\"] = (\n",
    "    df_current_holding[\"close_amount\"] - df_current_holding[\"amount\"]\n",
    ")\n",
    "df_current_holding = df_current_holding.round(2)"
   ]
  },
  {
   "cell_type": "code",
   "execution_count": 5,
   "metadata": {
    "execution": {
     "iopub.execute_input": "2025-04-05T01:01:05.660682Z",
     "iopub.status.busy": "2025-04-05T01:01:05.660231Z",
     "iopub.status.idle": "2025-04-05T01:01:05.682082Z",
     "shell.execute_reply": "2025-04-05T01:01:05.681641Z"
    }
   },
   "outputs": [
    {
     "name": "stdout",
     "output_type": "stream",
     "text": [
      "Processing Data => /home/runner/work/PortfolioTracker/PortfolioTracker/DATA/GOLD/Holding/ptprashanttripathi/Holding_data.csv\n"
     ]
    }
   ],
   "source": [
    "df_holding = pd.read_csv(holding_gold_file_path)\n",
    "print(f\"Processing Data => {holding_gold_file_path}\")\n",
    "\n",
    "# Processes holding history data to calculate trends\n",
    "df_holding[\"date\"] = pd.to_datetime(df_holding[\"date\"]).dt.date\n",
    "df_holding = (\n",
    "    df_holding.groupby(\"date\")[\n",
    "        [\n",
    "            \"holding_amount\",\n",
    "            \"open_amount\",\n",
    "            \"high_amount\",\n",
    "            \"low_amount\",\n",
    "            \"close_amount\",\n",
    "        ]\n",
    "    ]\n",
    "    .sum()\n",
    "    .reset_index()\n",
    ")\n",
    "\n",
    "df_holding = df_holding.round(2).rename(\n",
    "    columns={col: col.replace(\"_amount\", \"\") for col in df_holding.columns}\n",
    ")\n",
    "\n",
    "df_holding = (\n",
    "    df_holding[[\"date\", \"open\", \"high\", \"low\", \"close\", \"holding\"]]\n",
    "    .sort_values(by=[\"date\"])\n",
    "    .reset_index(drop=True)\n",
    ")"
   ]
  },
  {
   "cell_type": "code",
   "execution_count": 6,
   "metadata": {
    "execution": {
     "iopub.execute_input": "2025-04-05T01:01:05.683802Z",
     "iopub.status.busy": "2025-04-05T01:01:05.683619Z",
     "iopub.status.idle": "2025-04-05T01:01:05.688342Z",
     "shell.execute_reply": "2025-04-05T01:01:05.687884Z"
    }
   },
   "outputs": [
    {
     "name": "stdout",
     "output_type": "stream",
     "text": [
      "Processing Data => /home/runner/work/PortfolioTracker/PortfolioTracker/DATA/GOLD/ProfitLoss/ptprashanttripathi/ProfitLoss_data.csv\n"
     ]
    }
   ],
   "source": [
    "df_pnl = pd.read_csv(profitloss_gold_file_path)\n",
    "print(f\"Processing Data => {profitloss_gold_file_path}\")"
   ]
  },
  {
   "cell_type": "code",
   "execution_count": 7,
   "metadata": {
    "execution": {
     "iopub.execute_input": "2025-04-05T01:01:05.690103Z",
     "iopub.status.busy": "2025-04-05T01:01:05.689823Z",
     "iopub.status.idle": "2025-04-05T01:01:05.693795Z",
     "shell.execute_reply": "2025-04-05T01:01:05.693340Z"
    }
   },
   "outputs": [
    {
     "name": "stdout",
     "output_type": "stream",
     "text": [
      "Processing Data => /home/runner/work/PortfolioTracker/PortfolioTracker/DATA/GOLD/Dividend/ptprashanttripathi/Dividend_data.csv\n"
     ]
    }
   ],
   "source": [
    "df_dividend = pd.read_csv(dividend_gold_file_path)\n",
    "print(f\"Processing Data => {dividend_gold_file_path}\")"
   ]
  },
  {
   "cell_type": "code",
   "execution_count": 8,
   "metadata": {
    "execution": {
     "iopub.execute_input": "2025-04-05T01:01:05.695538Z",
     "iopub.status.busy": "2025-04-05T01:01:05.695200Z",
     "iopub.status.idle": "2025-04-05T01:01:05.744174Z",
     "shell.execute_reply": "2025-04-05T01:01:05.743735Z"
    }
   },
   "outputs": [
    {
     "name": "stdout",
     "output_type": "stream",
     "text": [
      "Data written to => /home/runner/work/PortfolioTracker/PortfolioTracker/DATA/API/ptprashanttripathi/current_holding_data.json\n",
      "Data written to => /home/runner/work/PortfolioTracker/PortfolioTracker/DATA/API/ptprashanttripathi/holding_trands_data.json\n",
      "Data written to => /home/runner/work/PortfolioTracker/PortfolioTracker/DATA/API/ptprashanttripathi/profit_loss_data.json\n",
      "Data written to => /home/runner/work/PortfolioTracker/PortfolioTracker/DATA/API/ptprashanttripathi/dividend_data.json\n"
     ]
    }
   ],
   "source": [
    "# Create the final output dictionary for the API\n",
    "load_timestamp = DateTimeUtil.today()\n",
    "api_outputs = {\n",
    "    \"current_holding_data\": df_current_holding.to_dict(orient=\"records\"),\n",
    "    \"holding_trands_data\": df_holding.to_dict(orient=\"records\"),\n",
    "    \"profit_loss_data\": df_pnl.to_dict(orient=\"records\"),\n",
    "    \"dividend_data\": df_dividend.to_dict(orient=\"records\"),\n",
    "}\n",
    "\n",
    "for api_name, output in api_outputs.items():\n",
    "    api_file_path = GlobalPath(f\"DATA/API/{USERNAME}/{api_name}.json\")\n",
    "    output = {\"data\": output, \"load_timestamp\": load_timestamp}\n",
    "\n",
    "    # Clean the output\n",
    "    output = replace_nan_with_empty(output)\n",
    "\n",
    "    # Write the result to a JSON file\n",
    "    with open(api_file_path, \"w\", encoding=\"utf-8\") as json_file:\n",
    "        json.dump(\n",
    "            output,\n",
    "            json_file,\n",
    "            indent=4,\n",
    "            allow_nan=False,\n",
    "            ensure_ascii=True,\n",
    "            default=str,\n",
    "            # sort_keys=True,\n",
    "        )\n",
    "        json_file.write(\"\\n\")  # Add newline at the end of the file for clean formatting\n",
    "    print(f\"Data written to => {api_file_path}\")"
   ]
  }
 ],
 "metadata": {
  "kernelspec": {
   "display_name": "Python 3",
   "language": "python",
   "name": "python3"
  },
  "language_debug": {
   "codemirror_mode": {
    "name": "ipython",
    "version": 3
   },
   "file_extension": ".py",
   "mimetype": "text/x-python",
   "name": "python",
   "nbconvert_exporter": "python",
   "pygments_lexer": "ipython3",
   "version": "3.11.4"
  },
  "language_info": {
   "codemirror_mode": {
    "name": "ipython",
    "version": 3
   },
   "file_extension": ".py",
   "mimetype": "text/x-python",
   "name": "python",
   "nbconvert_exporter": "python",
   "pygments_lexer": "ipython3",
   "version": "3.13.2"
  }
 },
 "nbformat": 4,
 "nbformat_minor": 4
}
