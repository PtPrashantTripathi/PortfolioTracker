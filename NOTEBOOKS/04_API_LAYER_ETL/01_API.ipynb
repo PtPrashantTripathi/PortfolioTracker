{
 "cells": [
  {
   "cell_type": "markdown",
   "metadata": {},
   "source": [
    "## GOLD TO API LAYER\n",
    "\n",
    "### API Layer\n"
   ]
  },
  {
   "cell_type": "code",
   "execution_count": 1,
   "metadata": {
    "execution": {
     "iopub.execute_input": "2025-06-21T01:07:24.665181Z",
     "iopub.status.busy": "2025-06-21T01:07:24.664997Z",
     "iopub.status.idle": "2025-06-21T01:07:24.898894Z",
     "shell.execute_reply": "2025-06-21T01:07:24.898372Z"
    }
   },
   "outputs": [],
   "source": [
    "# Importing Common Utility Function\n",
    "import json\n",
    "\n",
    "import pandas as pd\n",
    "\n",
    "from StockETL import DateTimeUtil, GlobalPath"
   ]
  },
  {
   "cell_type": "code",
   "execution_count": 2,
   "metadata": {
    "execution": {
     "iopub.execute_input": "2025-06-21T01:07:24.901096Z",
     "iopub.status.busy": "2025-06-21T01:07:24.900840Z",
     "iopub.status.idle": "2025-06-21T01:07:25.057400Z",
     "shell.execute_reply": "2025-06-21T01:07:25.056734Z"
    }
   },
   "outputs": [
    {
     "name": "stdout",
     "output_type": "stream",
     "text": [
      "USERNAME = 'ptprashanttripathi'\n"
     ]
    }
   ],
   "source": [
    "# Import necessary libraries and utility functions\n",
    "%run ../COMMON/common_utility.ipynb"
   ]
  },
  {
   "cell_type": "code",
   "execution_count": 3,
   "metadata": {
    "execution": {
     "iopub.execute_input": "2025-06-21T01:07:25.093975Z",
     "iopub.status.busy": "2025-06-21T01:07:25.093470Z",
     "iopub.status.idle": "2025-06-21T01:07:25.098512Z",
     "shell.execute_reply": "2025-06-21T01:07:25.098035Z"
    }
   },
   "outputs": [],
   "source": [
    "# Define file paths using GlobalPath\n",
    "current_holding_records_file_path = GlobalPath(\n",
    "    f\"DATA/GOLD/Holding/{USERNAME}/CurrentHolding_data.csv\"\n",
    ")\n",
    "stockprice_silver_file_path = GlobalPath(\"DATA/SILVER/StockPrice/StockPrice_data.csv\")\n",
    "holding_gold_file_path = GlobalPath(f\"DATA/GOLD/Holding/{USERNAME}/Holding_data.csv\")\n",
    "profitloss_gold_file_path = GlobalPath(\n",
    "    f\"DATA/GOLD/ProfitLoss/{USERNAME}/ProfitLoss_data.csv\"\n",
    ")\n",
    "dividend_gold_file_path = GlobalPath(f\"DATA/GOLD/Dividend/{USERNAME}/Dividend_data.csv\")"
   ]
  },
  {
   "cell_type": "code",
   "execution_count": 4,
   "metadata": {
    "execution": {
     "iopub.execute_input": "2025-06-21T01:07:25.100350Z",
     "iopub.status.busy": "2025-06-21T01:07:25.099985Z",
     "iopub.status.idle": "2025-06-21T01:07:25.138456Z",
     "shell.execute_reply": "2025-06-21T01:07:25.137915Z"
    }
   },
   "outputs": [
    {
     "name": "stdout",
     "output_type": "stream",
     "text": [
      "Processing Data => /home/runner/work/PortfolioTracker/PortfolioTracker/DATA/GOLD/Holding/ptprashanttripathi/CurrentHolding_data.csv\n",
      "Processing Data => /home/runner/work/PortfolioTracker/PortfolioTracker/DATA/SILVER/StockPrice/StockPrice_data.csv\n"
     ]
    }
   ],
   "source": [
    "# Main flow\n",
    "df_current_holding = pd.read_csv(current_holding_records_file_path)\n",
    "print(f\"Processing Data => {current_holding_records_file_path}\")\n",
    "\n",
    "# Processes stock prices to extract the latest closing price for each symbol\n",
    "df_stockprice = pd.read_csv(stockprice_silver_file_path)\n",
    "print(f\"Processing Data => {stockprice_silver_file_path}\")\n",
    "\n",
    "df_stockprice[\"date\"] = pd.to_datetime(df_stockprice[\"date\"])\n",
    "df_stockprice[\"close_price\"] = df_stockprice[\"close\"]\n",
    "idx = df_stockprice.groupby(\"symbol\")[\"date\"].idxmax()\n",
    "df_stockprice = df_stockprice.loc[idx].reset_index(drop=True)\n",
    "\n",
    "# Merges holding data with stock prices and calculates PnL\n",
    "df_current_holding = pd.merge(\n",
    "    df_current_holding,\n",
    "    df_stockprice[[\"symbol\", \"close_price\"]],\n",
    "    on=\"symbol\",\n",
    "    how=\"left\",\n",
    ")\n",
    "df_current_holding[\"close_amount\"] = (\n",
    "    df_current_holding[\"close_price\"] * df_current_holding[\"quantity\"]\n",
    ")\n",
    "df_current_holding[\"pnl_amount\"] = (\n",
    "    df_current_holding[\"close_amount\"] - df_current_holding[\"amount\"]\n",
    ")\n",
    "df_current_holding = df_current_holding.round(2)"
   ]
  },
  {
   "cell_type": "code",
   "execution_count": 5,
   "metadata": {
    "execution": {
     "iopub.execute_input": "2025-06-21T01:07:25.140461Z",
     "iopub.status.busy": "2025-06-21T01:07:25.140066Z",
     "iopub.status.idle": "2025-06-21T01:07:25.159977Z",
     "shell.execute_reply": "2025-06-21T01:07:25.159486Z"
    }
   },
   "outputs": [
    {
     "name": "stdout",
     "output_type": "stream",
     "text": [
      "Processing Data => /home/runner/work/PortfolioTracker/PortfolioTracker/DATA/GOLD/Holding/ptprashanttripathi/Holding_data.csv\n"
     ]
    }
   ],
   "source": [
    "df_holding = pd.read_csv(holding_gold_file_path)\n",
    "print(f\"Processing Data => {holding_gold_file_path}\")\n",
    "\n",
    "# Processes holding history data to calculate trends\n",
    "df_holding[\"date\"] = pd.to_datetime(df_holding[\"date\"]).dt.date\n",
    "df_holding = (\n",
    "    df_holding.groupby(\"date\")[\n",
    "        [\n",
    "            \"holding_amount\",\n",
    "            \"open_amount\",\n",
    "            \"high_amount\",\n",
    "            \"low_amount\",\n",
    "            \"close_amount\",\n",
    "        ]\n",
    "    ]\n",
    "    .sum()\n",
    "    .reset_index()\n",
    ")\n",
    "\n",
    "df_holding = df_holding.round(2).rename(\n",
    "    columns={col: col.replace(\"_amount\", \"\") for col in df_holding.columns}\n",
    ")\n",
    "\n",
    "df_holding = (\n",
    "    df_holding[[\"date\", \"open\", \"high\", \"low\", \"close\", \"holding\"]]\n",
    "    .sort_values(by=[\"date\"])\n",
    "    .reset_index(drop=True)\n",
    ")"
   ]
  },
  {
   "cell_type": "code",
   "execution_count": 6,
   "metadata": {
    "execution": {
     "iopub.execute_input": "2025-06-21T01:07:25.161694Z",
     "iopub.status.busy": "2025-06-21T01:07:25.161519Z",
     "iopub.status.idle": "2025-06-21T01:07:25.166525Z",
     "shell.execute_reply": "2025-06-21T01:07:25.166041Z"
    }
   },
   "outputs": [
    {
     "name": "stdout",
     "output_type": "stream",
     "text": [
      "Processing Data => /home/runner/work/PortfolioTracker/PortfolioTracker/DATA/GOLD/ProfitLoss/ptprashanttripathi/ProfitLoss_data.csv\n"
     ]
    }
   ],
   "source": [
    "df_pnl = pd.read_csv(profitloss_gold_file_path)\n",
    "print(f\"Processing Data => {profitloss_gold_file_path}\")"
   ]
  },
  {
   "cell_type": "code",
   "execution_count": 7,
   "metadata": {
    "execution": {
     "iopub.execute_input": "2025-06-21T01:07:25.168177Z",
     "iopub.status.busy": "2025-06-21T01:07:25.168008Z",
     "iopub.status.idle": "2025-06-21T01:07:25.172353Z",
     "shell.execute_reply": "2025-06-21T01:07:25.171899Z"
    }
   },
   "outputs": [
    {
     "name": "stdout",
     "output_type": "stream",
     "text": [
      "Processing Data => /home/runner/work/PortfolioTracker/PortfolioTracker/DATA/GOLD/Dividend/ptprashanttripathi/Dividend_data.csv\n"
     ]
    }
   ],
   "source": [
    "df_dividend = pd.read_csv(dividend_gold_file_path)\n",
    "print(f\"Processing Data => {dividend_gold_file_path}\")"
   ]
  },
  {
   "cell_type": "code",
   "execution_count": 8,
   "metadata": {
    "execution": {
     "iopub.execute_input": "2025-06-21T01:07:25.173979Z",
     "iopub.status.busy": "2025-06-21T01:07:25.173812Z",
     "iopub.status.idle": "2025-06-21T01:07:25.218658Z",
     "shell.execute_reply": "2025-06-21T01:07:25.218062Z"
    }
   },
   "outputs": [
    {
     "name": "stdout",
     "output_type": "stream",
     "text": [
      "Data written to => /home/runner/work/PortfolioTracker/PortfolioTracker/DATA/API/ptprashanttripathi/current_holding_data.json\n",
      "Data written to => /home/runner/work/PortfolioTracker/PortfolioTracker/DATA/API/ptprashanttripathi/holding_trands_data.json\n",
      "Data written to => /home/runner/work/PortfolioTracker/PortfolioTracker/DATA/API/ptprashanttripathi/profit_loss_data.json\n",
      "Data written to => /home/runner/work/PortfolioTracker/PortfolioTracker/DATA/API/ptprashanttripathi/dividend_data.json\n"
     ]
    }
   ],
   "source": [
    "# Create the final output dictionary for the API\n",
    "load_timestamp = DateTimeUtil.today()\n",
    "api_outputs = {\n",
    "    \"current_holding_data\": df_current_holding.to_dict(orient=\"records\"),\n",
    "    \"holding_trands_data\": df_holding.to_dict(orient=\"records\"),\n",
    "    \"profit_loss_data\": df_pnl.to_dict(orient=\"records\"),\n",
    "    \"dividend_data\": df_dividend.to_dict(orient=\"records\"),\n",
    "}\n",
    "\n",
    "for api_name, output in api_outputs.items():\n",
    "    api_file_path = GlobalPath(f\"DATA/API/{USERNAME}/{api_name}.json\")\n",
    "    output = {\"data\": output, \"load_timestamp\": load_timestamp}\n",
    "\n",
    "    # Clean the output\n",
    "    output = replace_nan_with_empty(output)\n",
    "\n",
    "    # Write the result to a JSON file\n",
    "    with open(api_file_path, \"w\", encoding=\"utf-8\") as json_file:\n",
    "        json.dump(\n",
    "            output,\n",
    "            json_file,\n",
    "            indent=4,\n",
    "            allow_nan=False,\n",
    "            ensure_ascii=True,\n",
    "            default=str,\n",
    "            # sort_keys=True,\n",
    "        )\n",
    "        json_file.write(\"\\n\")  # Add newline at the end of the file for clean formatting\n",
    "    print(f\"Data written to => {api_file_path}\")"
   ]
  }
 ],
 "metadata": {
  "kernelspec": {
   "display_name": "Python 3",
   "language": "python",
   "name": "python3"
  },
  "language_debug": {
   "codemirror_mode": {
    "name": "ipython",
    "version": 3
   },
   "file_extension": ".py",
   "mimetype": "text/x-python",
   "name": "python",
   "nbconvert_exporter": "python",
   "pygments_lexer": "ipython3",
   "version": "3.11.4"
  },
  "language_info": {
   "codemirror_mode": {
    "name": "ipython",
    "version": 3
   },
   "file_extension": ".py",
   "mimetype": "text/x-python",
   "name": "python",
   "nbconvert_exporter": "python",
   "pygments_lexer": "ipython3",
   "version": "3.13.5"
  }
 },
 "nbformat": 4,
 "nbformat_minor": 4
}
