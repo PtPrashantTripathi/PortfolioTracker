{
 "cells": [
  {
   "cell_type": "markdown",
   "metadata": {},
   "source": [
    "## GOLD TO API LAYER\n",
    "\n",
    "### API Layer\n"
   ]
  },
  {
   "cell_type": "code",
   "execution_count": 92,
   "metadata": {
    "execution": {
     "iopub.execute_input": "2024-10-03T10:54:11.081435Z",
     "iopub.status.busy": "2024-10-03T10:54:11.081435Z",
     "iopub.status.idle": "2024-10-03T10:54:11.453864Z",
     "shell.execute_reply": "2024-10-03T10:54:11.453864Z"
    }
   },
   "outputs": [],
   "source": [
    "# Importing Common Utility Function\n",
    "import json\n",
    "import pandas as pd\n",
    "from StockETL import DateTimeUtil, GlobalPath"
   ]
  },
  {
   "cell_type": "code",
   "execution_count": 93,
   "metadata": {
    "execution": {
     "iopub.execute_input": "2024-10-03T10:54:11.453864Z",
     "iopub.status.busy": "2024-10-03T10:54:11.453864Z",
     "iopub.status.idle": "2024-10-03T10:54:11.608339Z",
     "shell.execute_reply": "2024-10-03T10:54:11.608339Z"
    }
   },
   "outputs": [],
   "source": [
    "# Import necessary libraries and utility functions\n",
    "%run ../COMMON/common_utility.ipynb"
   ]
  },
  {
   "cell_type": "code",
   "execution_count": 94,
   "metadata": {
    "execution": {
     "iopub.execute_input": "2024-10-03T10:54:11.608339Z",
     "iopub.status.busy": "2024-10-03T10:54:11.608339Z",
     "iopub.status.idle": "2024-10-03T10:54:11.617645Z",
     "shell.execute_reply": "2024-10-03T10:54:11.617645Z"
    }
   },
   "outputs": [],
   "source": [
    "# Define file paths using GlobalPath\n",
    "current_holding_records_file_path = GlobalPath(\n",
    "    \"DATA/GOLD/Holding/CurrentHolding_data.csv\"\n",
    ")\n",
    "stockprice_silver_file_path = GlobalPath(\"DATA/SILVER/StockPrice/StockPrice_data.csv\")\n",
    "holding_gold_file_path = GlobalPath(\"DATA/GOLD/Holding/Holding_data.csv\")\n",
    "profitloss_gold_file_path = GlobalPath(\"DATA/GOLD/ProfitLoss/ProfitLoss_data.csv\")\n",
    "dividend_gold_file_path = GlobalPath(\"DATA/GOLD/Dividend/Dividend_data.csv\")"
   ]
  },
  {
   "cell_type": "code",
   "execution_count": 95,
   "metadata": {
    "execution": {
     "iopub.execute_input": "2024-10-03T10:54:11.617645Z",
     "iopub.status.busy": "2024-10-03T10:54:11.617645Z",
     "iopub.status.idle": "2024-10-03T10:54:11.624572Z",
     "shell.execute_reply": "2024-10-03T10:54:11.624572Z"
    }
   },
   "outputs": [],
   "source": [
    "def group_holding_data(df_current_holding):\n",
    "    \"\"\"Groups holding data by scrip_name, symbol, exchange, and segment to calculate totals and min datetime.\"\"\"\n",
    "    df_current_holding[\"datetime\"] = pd.to_datetime(df_current_holding[\"datetime\"])\n",
    "    df_current_holding = (\n",
    "        df_current_holding.groupby([\"scrip_name\", \"symbol\", \"exchange\", \"segment\"])\n",
    "        .agg(\n",
    "            total_quantity=(\"quantity\", \"sum\"),\n",
    "            total_amount=(\"amount\", \"sum\"),\n",
    "            min_datetime=(\"datetime\", \"min\"),\n",
    "        )\n",
    "        .reset_index()\n",
    "    )\n",
    "    df_current_holding[\"avg_price\"] = (\n",
    "        df_current_holding[\"total_amount\"] / df_current_holding[\"total_quantity\"]\n",
    "    )\n",
    "    return df_current_holding"
   ]
  },
  {
   "cell_type": "code",
   "execution_count": 96,
   "metadata": {
    "execution": {
     "iopub.execute_input": "2024-10-03T10:54:11.624572Z",
     "iopub.status.busy": "2024-10-03T10:54:11.624572Z",
     "iopub.status.idle": "2024-10-03T10:54:11.631100Z",
     "shell.execute_reply": "2024-10-03T10:54:11.631100Z"
    }
   },
   "outputs": [],
   "source": [
    "def process_stock_prices(df_stockprice):\n",
    "    \"\"\"Processes stock prices to extract the latest closing price for each symbol.\"\"\"\n",
    "    df_stockprice[\"date\"] = pd.to_datetime(df_stockprice[\"date\"])\n",
    "    df_stockprice[\"close_price\"] = df_stockprice[\"close\"]\n",
    "    idx = df_stockprice.groupby(\"symbol\")[\"date\"].idxmax()\n",
    "    return df_stockprice.loc[idx].reset_index(drop=True)"
   ]
  },
  {
   "cell_type": "code",
   "execution_count": 97,
   "metadata": {
    "execution": {
     "iopub.execute_input": "2024-10-03T10:54:11.631100Z",
     "iopub.status.busy": "2024-10-03T10:54:11.631100Z",
     "iopub.status.idle": "2024-10-03T10:54:11.637511Z",
     "shell.execute_reply": "2024-10-03T10:54:11.637511Z"
    }
   },
   "outputs": [],
   "source": [
    "def merge_and_calculate_pnl(df_current_holding, df_stockprice):\n",
    "    \"\"\"Merges holding data with stock prices and calculates PnL.\"\"\"\n",
    "    df_current_holding = pd.merge(\n",
    "        df_current_holding,\n",
    "        df_stockprice[[\"symbol\", \"close_price\"]],\n",
    "        on=\"symbol\",\n",
    "        how=\"left\",\n",
    "    )\n",
    "    df_current_holding[\"close_amount\"] = (\n",
    "        df_current_holding[\"close_price\"] * df_current_holding[\"total_quantity\"]\n",
    "    )\n",
    "    df_current_holding[\"pnl_amount\"] = (\n",
    "        df_current_holding[\"close_amount\"] - df_current_holding[\"total_amount\"]\n",
    "    )\n",
    "    return df_current_holding.round(2)"
   ]
  },
  {
   "cell_type": "code",
   "execution_count": 98,
   "metadata": {
    "execution": {
     "iopub.execute_input": "2024-10-03T10:54:11.637511Z",
     "iopub.status.busy": "2024-10-03T10:54:11.637511Z",
     "iopub.status.idle": "2024-10-03T10:54:11.645472Z",
     "shell.execute_reply": "2024-10-03T10:54:11.644452Z"
    }
   },
   "outputs": [],
   "source": [
    "def prepare_current_holding_data(df_current_holding_grouped, df_current_holding):\n",
    "    \"\"\"Prepares the current holding data with historical records.\"\"\"\n",
    "    current_holding = []\n",
    "    for _, row in df_current_holding_grouped.iterrows():\n",
    "        row = row.to_dict()\n",
    "        df_filtered = df_current_holding[\n",
    "            (df_current_holding[\"scrip_name\"] == row[\"scrip_name\"])\n",
    "            & (df_current_holding[\"symbol\"] == row[\"symbol\"])\n",
    "            & (df_current_holding[\"exchange\"] == row[\"exchange\"])\n",
    "            & (df_current_holding[\"segment\"] == row[\"segment\"])\n",
    "        ]\n",
    "        row[\"history\"] = df_filtered.to_dict(orient=\"records\")\n",
    "        current_holding.append(row)\n",
    "    return current_holding"
   ]
  },
  {
   "cell_type": "code",
   "execution_count": 99,
   "metadata": {
    "execution": {
     "iopub.execute_input": "2024-10-03T10:54:11.662690Z",
     "iopub.status.busy": "2024-10-03T10:54:11.662690Z",
     "iopub.status.idle": "2024-10-03T10:54:11.718106Z",
     "shell.execute_reply": "2024-10-03T10:54:11.718106Z"
    }
   },
   "outputs": [
    {
     "name": "stdout",
     "output_type": "stream",
     "text": [
      "Processing Data : C:\\Users\\prashant.tripathi\\Code\\PortfolioTracker\\DATA\\GOLD\\Holding\\CurrentHolding_data.csv\n",
      "Processing Data : C:\\Users\\prashant.tripathi\\Code\\PortfolioTracker\\DATA\\SILVER\\StockPrice\\StockPrice_data.csv\n"
     ]
    }
   ],
   "source": [
    "# Main flow\n",
    "df_current_holding = pd.read_csv(current_holding_records_file_path)\n",
    "print(f\"Processing Data : {current_holding_records_file_path}\")\n",
    "\n",
    "df_stockprice = pd.read_csv(stockprice_silver_file_path)\n",
    "print(f\"Processing Data : {stockprice_silver_file_path}\")\n",
    "\n",
    "df_stockprice = process_stock_prices(df_stockprice)\n",
    "df_current_holding_grouped = group_holding_data(df_current_holding)\n",
    "df_current_holding_grouped = merge_and_calculate_pnl(\n",
    "    df_current_holding_grouped, df_stockprice\n",
    ")\n",
    "current_holding = prepare_current_holding_data(\n",
    "    df_current_holding_grouped, df_current_holding\n",
    ")"
   ]
  },
  {
   "cell_type": "code",
   "execution_count": 100,
   "metadata": {
    "execution": {
     "iopub.execute_input": "2024-10-03T10:54:11.741250Z",
     "iopub.status.busy": "2024-10-03T10:54:11.741250Z",
     "iopub.status.idle": "2024-10-03T10:54:11.764404Z",
     "shell.execute_reply": "2024-10-03T10:54:11.764404Z"
    }
   },
   "outputs": [
    {
     "name": "stdout",
     "output_type": "stream",
     "text": [
      "Processing Data : C:\\Users\\prashant.tripathi\\Code\\PortfolioTracker\\DATA\\GOLD\\Holding\\Holding_data.csv\n"
     ]
    }
   ],
   "source": [
    "df_holding = pd.read_csv(holding_gold_file_path)\n",
    "print(f\"Processing Data : {holding_gold_file_path}\")\n",
    "\n",
    "# Processes holding history data to calculate trends\n",
    "df_holding[\"date\"] = pd.to_datetime(df_holding[\"date\"]).dt.date\n",
    "df_holding = (\n",
    "    df_holding.groupby(\"date\")[\n",
    "        [\n",
    "            \"holding_amount\",\n",
    "            \"open_amount\",\n",
    "            \"high_amount\",\n",
    "            \"low_amount\",\n",
    "            \"close_amount\",\n",
    "        ]\n",
    "    ]\n",
    "    .sum()\n",
    "    .reset_index()\n",
    ")\n",
    "\n",
    "df_holding = df_holding.round(2).rename(\n",
    "    columns={col: col.replace(\"_amount\", \"\") for col in df_holding.columns}\n",
    ")\n",
    "\n",
    "df_holding = (\n",
    "    df_holding[[\"date\", \"open\", \"high\", \"low\", \"close\", \"holding\"]]\n",
    "    .sort_values(by=[\"date\"])\n",
    "    .reset_index(drop=True)\n",
    ")"
   ]
  },
  {
   "cell_type": "code",
   "execution_count": 101,
   "metadata": {
    "execution": {
     "iopub.execute_input": "2024-10-03T10:54:11.764404Z",
     "iopub.status.busy": "2024-10-03T10:54:11.764404Z",
     "iopub.status.idle": "2024-10-03T10:54:11.794654Z",
     "shell.execute_reply": "2024-10-03T10:54:11.794654Z"
    }
   },
   "outputs": [
    {
     "name": "stdout",
     "output_type": "stream",
     "text": [
      "Processing Data : C:\\Users\\prashant.tripathi\\Code\\PortfolioTracker\\DATA\\GOLD\\ProfitLoss\\ProfitLoss_data.csv\n"
     ]
    }
   ],
   "source": [
    "df_pnl = pd.read_csv(profitloss_gold_file_path)\n",
    "print(f\"Processing Data : {profitloss_gold_file_path}\")"
   ]
  },
  {
   "cell_type": "code",
   "execution_count": 102,
   "metadata": {},
   "outputs": [
    {
     "name": "stdout",
     "output_type": "stream",
     "text": [
      "Processing Data : C:\\Users\\prashant.tripathi\\Code\\PortfolioTracker\\DATA\\GOLD\\Dividend\\Dividend_data.csv\n"
     ]
    }
   ],
   "source": [
    "df_dividend = pd.read_csv(dividend_gold_file_path)\n",
    "print(f\"Processing Data : {dividend_gold_file_path}\")"
   ]
  },
  {
   "cell_type": "code",
   "execution_count": 103,
   "metadata": {
    "execution": {
     "iopub.execute_input": "2024-10-03T10:54:11.814243Z",
     "iopub.status.busy": "2024-10-03T10:54:11.814243Z",
     "iopub.status.idle": "2024-10-03T10:54:11.880637Z",
     "shell.execute_reply": "2024-10-03T10:54:11.880637Z"
    }
   },
   "outputs": [
    {
     "name": "stdout",
     "output_type": "stream",
     "text": [
      "Data written to C:\\Users\\prashant.tripathi\\Code\\PortfolioTracker\\DATA\\API\\current_holding_data.json\n",
      "Data written to C:\\Users\\prashant.tripathi\\Code\\PortfolioTracker\\DATA\\API\\holding_trands_data.json\n",
      "Data written to C:\\Users\\prashant.tripathi\\Code\\PortfolioTracker\\DATA\\API\\profit_loss_data.json\n",
      "Data written to C:\\Users\\prashant.tripathi\\Code\\PortfolioTracker\\DATA\\API\\dividend_data.json\n"
     ]
    }
   ],
   "source": [
    "# Create the final output dictionary for the API\n",
    "load_timestamp = DateTimeUtil.today()\n",
    "api_outputs = {\n",
    "    \"current_holding_data\": current_holding,\n",
    "    \"holding_trands_data\": df_holding.to_dict(orient=\"records\"),\n",
    "    \"profit_loss_data\": df_pnl.to_dict(orient=\"records\"),\n",
    "    \"dividend_data\": df_dividend.to_dict(orient=\"records\"),\n",
    "}\n",
    "\n",
    "# CLEAN UP EXISTING DATA BEFORE RELOAD\n",
    "GlobalPath.del_dir(GlobalPath(\"DATA/API/\"))\n",
    "\n",
    "for api_name, output in api_outputs.items():\n",
    "    api_file_path = GlobalPath(f\"DATA/API/{api_name}.json\")\n",
    "    # Clean the output\n",
    "    cleaned_output = replace_nan_with_empty(output)\n",
    "\n",
    "    # Write the result to a JSON file\n",
    "    with open(api_file_path, \"w\", encoding=\"utf-8\") as json_file:\n",
    "        json.dump(\n",
    "            {\"load_timestamp\": load_timestamp, \"data\": cleaned_output},\n",
    "            json_file,\n",
    "            indent=4,\n",
    "            default=str,\n",
    "        )\n",
    "\n",
    "    print(f\"Data written to {api_file_path}\")"
   ]
  }
 ],
 "metadata": {
  "kernelspec": {
   "display_name": "Python 3 (ipykernel)",
   "language": "python",
   "name": "python3"
  },
  "language_debug": {
   "codemirror_mode": {
    "name": "ipython",
    "version": 3
   },
   "file_extension": ".py",
   "mimetype": "text/x-python",
   "name": "python",
   "nbconvert_exporter": "python",
   "pygments_lexer": "ipython3",
   "version": "3.11.4"
  },
  "language_info": {
   "codemirror_mode": {
    "name": "ipython",
    "version": 3
   },
   "file_extension": ".py",
   "mimetype": "text/x-python",
   "name": "python",
   "nbconvert_exporter": "python",
   "pygments_lexer": "ipython3",
   "version": "3.11.4"
  }
 },
 "nbformat": 4,
 "nbformat_minor": 4
}
