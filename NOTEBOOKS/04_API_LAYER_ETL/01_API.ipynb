{
 "cells": [
  {
   "cell_type": "markdown",
   "metadata": {},
   "source": [
    "## GOLD TO API LAYER\n",
    "\n",
    "### API Layer\n"
   ]
  },
  {
   "cell_type": "code",
   "execution_count": 9,
   "metadata": {
    "execution": {
     "iopub.execute_input": "2024-12-05T12:41:13.205131Z",
     "iopub.status.busy": "2024-12-05T12:41:13.205131Z",
     "iopub.status.idle": "2024-12-05T12:41:13.637646Z",
     "shell.execute_reply": "2024-12-05T12:41:13.637646Z"
    }
   },
   "outputs": [],
   "source": [
    "# Importing Common Utility Function\n",
    "import json\n",
    "\n",
    "import pandas as pd\n",
    "\n",
    "from StockETL import GlobalPath"
   ]
  },
  {
   "cell_type": "code",
   "execution_count": 10,
   "metadata": {
    "execution": {
     "iopub.execute_input": "2024-12-05T12:41:13.637646Z",
     "iopub.status.busy": "2024-12-05T12:41:13.637646Z",
     "iopub.status.idle": "2024-12-05T12:41:13.924451Z",
     "shell.execute_reply": "2024-12-05T12:41:13.924451Z"
    }
   },
   "outputs": [
    {
     "name": "stdout",
     "output_type": "stream",
     "text": [
      "USERNAME = 'deepshikhapatel'\n"
     ]
    }
   ],
   "source": [
    "# Import necessary libraries and utility functions\n",
    "%run ../COMMON/common_utility.ipynb"
   ]
  },
  {
   "cell_type": "code",
   "execution_count": 11,
   "metadata": {
    "execution": {
     "iopub.execute_input": "2024-12-05T12:41:13.963289Z",
     "iopub.status.busy": "2024-12-05T12:41:13.963289Z",
     "iopub.status.idle": "2024-12-05T12:41:13.979252Z",
     "shell.execute_reply": "2024-12-05T12:41:13.978134Z"
    }
   },
   "outputs": [],
   "source": [
    "# Define file paths using GlobalPath\n",
    "current_holding_records_file_path = GlobalPath(\n",
    "    f\"DATA/GOLD/Holding/{USERNAME}/CurrentHolding_data.csv\"\n",
    ")\n",
    "stockprice_silver_file_path = GlobalPath(\"DATA/SILVER/StockPrice/StockPrice_data.csv\")\n",
    "holding_gold_file_path = GlobalPath(f\"DATA/GOLD/Holding/{USERNAME}/Holding_data.csv\")\n",
    "profitloss_gold_file_path = GlobalPath(\n",
    "    f\"DATA/GOLD/ProfitLoss/{USERNAME}/ProfitLoss_data.csv\"\n",
    ")\n",
    "dividend_gold_file_path = GlobalPath(f\"DATA/GOLD/Dividend/{USERNAME}/Dividend_data.csv\")"
   ]
  },
  {
   "cell_type": "code",
   "execution_count": 12,
   "metadata": {
    "execution": {
     "iopub.execute_input": "2024-12-05T12:41:13.984262Z",
     "iopub.status.busy": "2024-12-05T12:41:13.984262Z",
     "iopub.status.idle": "2024-12-05T12:41:14.063435Z",
     "shell.execute_reply": "2024-12-05T12:41:14.062424Z"
    }
   },
   "outputs": [
    {
     "name": "stdout",
     "output_type": "stream",
     "text": [
      "Processing Data => C:\\Users\\prashant.tripathi\\Code\\PortfolioTracker\\DATA\\GOLD\\Holding\\deepshikhapatel\\CurrentHolding_data.csv\n",
      "Processing Data => C:\\Users\\prashant.tripathi\\Code\\PortfolioTracker\\DATA\\SILVER\\StockPrice\\StockPrice_data.csv\n"
     ]
    }
   ],
   "source": [
    "# Main flow\n",
    "df_current_holding = pd.read_csv(current_holding_records_file_path)\n",
    "print(f\"Processing Data => {current_holding_records_file_path}\")\n",
    "\n",
    "# Processes stock prices to extract the latest closing price for each symbol\n",
    "df_stockprice = pd.read_csv(stockprice_silver_file_path)\n",
    "print(f\"Processing Data => {stockprice_silver_file_path}\")\n",
    "\n",
    "df_stockprice[\"date\"] = pd.to_datetime(df_stockprice[\"date\"])\n",
    "df_stockprice[\"close_price\"] = df_stockprice[\"close\"]\n",
    "idx = df_stockprice.groupby(\"symbol\")[\"date\"].idxmax()\n",
    "df_stockprice = df_stockprice.loc[idx].reset_index(drop=True)\n",
    "\n",
    "# Merges holding data with stock prices and calculates PnL\n",
    "df_current_holding = pd.merge(\n",
    "    df_current_holding,\n",
    "    df_stockprice[[\"symbol\", \"close_price\"]],\n",
    "    on=\"symbol\",\n",
    "    how=\"left\",\n",
    ")\n",
    "df_current_holding[\"close_amount\"] = (\n",
    "    df_current_holding[\"close_price\"] * df_current_holding[\"quantity\"]\n",
    ")\n",
    "df_current_holding[\"pnl_amount\"] = (\n",
    "    df_current_holding[\"close_amount\"] - df_current_holding[\"amount\"]\n",
    ")\n",
    "df_current_holding = df_current_holding.round(2)"
   ]
  },
  {
   "cell_type": "code",
   "execution_count": 13,
   "metadata": {
    "execution": {
     "iopub.execute_input": "2024-12-05T12:41:14.066658Z",
     "iopub.status.busy": "2024-12-05T12:41:14.066211Z",
     "iopub.status.idle": "2024-12-05T12:41:14.114663Z",
     "shell.execute_reply": "2024-12-05T12:41:14.113880Z"
    }
   },
   "outputs": [
    {
     "name": "stdout",
     "output_type": "stream",
     "text": [
      "Processing Data => C:\\Users\\prashant.tripathi\\Code\\PortfolioTracker\\DATA\\GOLD\\Holding\\deepshikhapatel\\Holding_data.csv\n"
     ]
    }
   ],
   "source": [
    "df_holding = pd.read_csv(holding_gold_file_path)\n",
    "print(f\"Processing Data => {holding_gold_file_path}\")\n",
    "\n",
    "# Processes holding history data to calculate trends\n",
    "df_holding[\"date\"] = pd.to_datetime(df_holding[\"date\"]).dt.date\n",
    "df_holding = (\n",
    "    df_holding.groupby(\"date\")[\n",
    "        [\n",
    "            \"holding_amount\",\n",
    "            \"open_amount\",\n",
    "            \"high_amount\",\n",
    "            \"low_amount\",\n",
    "            \"close_amount\",\n",
    "        ]\n",
    "    ]\n",
    "    .sum()\n",
    "    .reset_index()\n",
    ")\n",
    "\n",
    "df_holding = df_holding.round(2).rename(\n",
    "    columns={col: col.replace(\"_amount\", \"\") for col in df_holding.columns}\n",
    ")\n",
    "\n",
    "df_holding = (\n",
    "    df_holding[[\"date\", \"open\", \"high\", \"low\", \"close\", \"holding\"]]\n",
    "    .sort_values(by=[\"date\"])\n",
    "    .reset_index(drop=True)\n",
    ")"
   ]
  },
  {
   "cell_type": "code",
   "execution_count": 14,
   "metadata": {
    "execution": {
     "iopub.execute_input": "2024-12-05T12:41:14.117812Z",
     "iopub.status.busy": "2024-12-05T12:41:14.117812Z",
     "iopub.status.idle": "2024-12-05T12:41:14.123580Z",
     "shell.execute_reply": "2024-12-05T12:41:14.123580Z"
    }
   },
   "outputs": [
    {
     "name": "stdout",
     "output_type": "stream",
     "text": [
      "Processing Data => C:\\Users\\prashant.tripathi\\Code\\PortfolioTracker\\DATA\\GOLD\\ProfitLoss\\deepshikhapatel\\ProfitLoss_data.csv\n"
     ]
    }
   ],
   "source": [
    "df_pnl = pd.read_csv(profitloss_gold_file_path)\n",
    "print(f\"Processing Data => {profitloss_gold_file_path}\")"
   ]
  },
  {
   "cell_type": "code",
   "execution_count": 15,
   "metadata": {
    "execution": {
     "iopub.execute_input": "2024-12-05T12:41:14.123580Z",
     "iopub.status.busy": "2024-12-05T12:41:14.123580Z",
     "iopub.status.idle": "2024-12-05T12:41:14.132890Z",
     "shell.execute_reply": "2024-12-05T12:41:14.132691Z"
    }
   },
   "outputs": [
    {
     "name": "stdout",
     "output_type": "stream",
     "text": [
      "Processing Data => C:\\Users\\prashant.tripathi\\Code\\PortfolioTracker\\DATA\\GOLD\\Dividend\\deepshikhapatel\\Dividend_data.csv\n"
     ]
    }
   ],
   "source": [
    "df_dividend = pd.read_csv(dividend_gold_file_path)\n",
    "print(f\"Processing Data => {dividend_gold_file_path}\")"
   ]
  },
  {
   "cell_type": "code",
   "execution_count": 16,
   "metadata": {
    "execution": {
     "iopub.execute_input": "2024-12-05T12:41:14.132890Z",
     "iopub.status.busy": "2024-12-05T12:41:14.132890Z",
     "iopub.status.idle": "2024-12-05T12:41:14.199300Z",
     "shell.execute_reply": "2024-12-05T12:41:14.199300Z"
    }
   },
   "outputs": [
    {
     "name": "stdout",
     "output_type": "stream",
     "text": [
      "Data written to => C:\\Users\\prashant.tripathi\\Code\\PortfolioTracker\\DATA\\API\\deepshikhapatel\\current_holding_data.json\n",
      "Data written to => C:\\Users\\prashant.tripathi\\Code\\PortfolioTracker\\DATA\\API\\deepshikhapatel\\holding_trands_data.json\n",
      "Data written to => C:\\Users\\prashant.tripathi\\Code\\PortfolioTracker\\DATA\\API\\deepshikhapatel\\profit_loss_data.json\n",
      "Data written to => C:\\Users\\prashant.tripathi\\Code\\PortfolioTracker\\DATA\\API\\deepshikhapatel\\dividend_data.json\n"
     ]
    }
   ],
   "source": [
    "# Create the final output dictionary for the API\n",
    "load_timestamp = \"2024-10-04 11:30:06.114242\"  # DateTimeUtil.today()\n",
    "api_outputs = {\n",
    "    \"current_holding_data\": df_current_holding.to_dict(orient=\"records\"),\n",
    "    \"holding_trands_data\": df_holding.to_dict(orient=\"records\"),\n",
    "    \"profit_loss_data\": df_pnl.to_dict(orient=\"records\"),\n",
    "    \"dividend_data\": df_dividend.to_dict(orient=\"records\"),\n",
    "}\n",
    "\n",
    "for api_name, output in api_outputs.items():\n",
    "    api_file_path = GlobalPath(f\"DATA/API/{USERNAME}/{api_name}.json\")\n",
    "    output = {\"data\": output, \"load_timestamp\": load_timestamp}\n",
    "    # Clean the output\n",
    "    # output = replace_nan_with_empty(output)\n",
    "\n",
    "    # Write the result to a JSON file\n",
    "    with open(api_file_path, \"w\", encoding=\"utf-8\") as json_file:\n",
    "        json.dump(\n",
    "            output,\n",
    "            json_file,\n",
    "            indent=4,\n",
    "            allow_nan=False,\n",
    "            ensure_ascii=True,\n",
    "            default=str,\n",
    "            # sort_keys=True,\n",
    "        )\n",
    "        json_file.write(\"\\n\")  # Add newline at the end of the file for clean formatting\n",
    "    print(f\"Data written to => {api_file_path}\")"
   ]
  }
 ],
 "metadata": {
  "kernelspec": {
   "display_name": "Python 3",
   "language": "python",
   "name": "python3"
  },
  "language_debug": {
   "codemirror_mode": {
    "name": "ipython",
    "version": 3
   },
   "file_extension": ".py",
   "mimetype": "text/x-python",
   "name": "python",
   "nbconvert_exporter": "python",
   "pygments_lexer": "ipython3",
   "version": "3.11.4"
  },
  "language_info": {
   "codemirror_mode": {
    "name": "ipython",
    "version": 3
   },
   "file_extension": ".py",
   "mimetype": "text/x-python",
   "name": "python",
   "nbconvert_exporter": "python",
   "pygments_lexer": "ipython3",
   "version": "3.11.4"
  }
 },
 "nbformat": 4,
 "nbformat_minor": 4
}
