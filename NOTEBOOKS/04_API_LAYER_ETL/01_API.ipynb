{
 "cells": [
  {
   "cell_type": "markdown",
   "metadata": {},
   "source": [
    "## GOLD TO API LAYER\n",
    "### API Layer\n"
   ]
  },
  {
   "cell_type": "code",
   "execution_count": 34,
   "metadata": {
    "execution": {
     "iopub.execute_input": "2024-09-24T11:32:51.986352Z",
     "iopub.status.busy": "2024-09-24T11:32:51.986352Z",
     "iopub.status.idle": "2024-09-24T11:32:52.403377Z",
     "shell.execute_reply": "2024-09-24T11:32:52.403377Z"
    }
   },
   "outputs": [],
   "source": [
    "# Importing Common Utility Funcation\n",
    "import json\n",
    "\n",
    "import pandas as pd\n",
    "from ETLTools import GlobalPath"
   ]
  },
  {
   "cell_type": "code",
   "execution_count": 35,
   "metadata": {
    "execution": {
     "iopub.execute_input": "2024-09-24T11:32:52.403377Z",
     "iopub.status.busy": "2024-09-24T11:32:52.403377Z",
     "iopub.status.idle": "2024-09-24T11:32:52.586447Z",
     "shell.execute_reply": "2024-09-24T11:32:52.586447Z"
    }
   },
   "outputs": [],
   "source": [
    "# Import necessary libraries and utility functions\n",
    "%run ../COMMON/common_utility.ipynb"
   ]
  },
  {
   "cell_type": "code",
   "execution_count": 36,
   "metadata": {
    "execution": {
     "iopub.execute_input": "2024-09-24T11:32:52.586447Z",
     "iopub.status.busy": "2024-09-24T11:32:52.586447Z",
     "iopub.status.idle": "2024-09-24T11:32:52.595636Z",
     "shell.execute_reply": "2024-09-24T11:32:52.595636Z"
    }
   },
   "outputs": [],
   "source": [
    "# Define file paths using GlobalPath\n",
    "current_holding_records_file_path = GlobalPath(\n",
    "    \"DATA/GOLD/Holdings/CurrentHoldings_data.csv\"\n",
    ")\n",
    "stockprice_silver_file_path = GlobalPath(\n",
    "    \"DATA/SILVER/StockPrice/StockPrice_data.csv\"\n",
    ")\n",
    "holdingshistory_gold_file_path = GlobalPath(\n",
    "    \"DATA/GOLD/Holdings/HoldingsHistory_data.csv\"\n",
    ")\n",
    "profitloss_gold_file_path = GlobalPath(\n",
    "    \"DATA/GOLD/ProfitLoss/ProfitLoss_data.csv\"\n",
    ")\n",
    "dividend_gold_file_path = GlobalPath(\"DATA/GOLD/Dividend/Dividend_data.csv\")\n",
    "api_file_path = GlobalPath(\"DATA/API/API_data.json\")"
   ]
  },
  {
   "cell_type": "code",
   "execution_count": 37,
   "metadata": {
    "execution": {
     "iopub.execute_input": "2024-09-24T11:32:52.595636Z",
     "iopub.status.busy": "2024-09-24T11:32:52.595636Z",
     "iopub.status.idle": "2024-09-24T11:32:52.602654Z",
     "shell.execute_reply": "2024-09-24T11:32:52.602654Z"
    }
   },
   "outputs": [],
   "source": [
    "def group_holdings_data(df_current_holding):\n",
    "    \"\"\"Groups holding data by scrip_name, symbol, exchange, and segment to calculate totals and min datetime.\"\"\"\n",
    "    df_current_holding[\"datetime\"] = pd.to_datetime(\n",
    "        df_current_holding[\"datetime\"]\n",
    "    )\n",
    "    df_current_holding = (\n",
    "        df_current_holding.groupby(\n",
    "            [\"scrip_name\", \"symbol\", \"exchange\", \"segment\"]\n",
    "        )\n",
    "        .agg(\n",
    "            total_quantity=(\"quantity\", \"sum\"),\n",
    "            total_amount=(\"amount\", \"sum\"),\n",
    "            min_datetime=(\"datetime\", \"min\"),\n",
    "        )\n",
    "        .reset_index()\n",
    "    )\n",
    "    df_current_holding[\"avg_price\"] = (\n",
    "        df_current_holding[\"total_amount\"]\n",
    "        / df_current_holding[\"total_quantity\"]\n",
    "    )\n",
    "    return df_current_holding"
   ]
  },
  {
   "cell_type": "code",
   "execution_count": 38,
   "metadata": {
    "execution": {
     "iopub.execute_input": "2024-09-24T11:32:52.605668Z",
     "iopub.status.busy": "2024-09-24T11:32:52.602654Z",
     "iopub.status.idle": "2024-09-24T11:32:52.608872Z",
     "shell.execute_reply": "2024-09-24T11:32:52.608872Z"
    }
   },
   "outputs": [],
   "source": [
    "def process_stock_prices(df_stockprice):\n",
    "    \"\"\"Processes stock prices to extract the latest closing price for each symbol.\"\"\"\n",
    "    df_stockprice[\"date\"] = pd.to_datetime(df_stockprice[\"date\"])\n",
    "    df_stockprice[\"close_price\"] = df_stockprice[\"close\"]\n",
    "    idx = df_stockprice.groupby(\"symbol\")[\"date\"].idxmax()\n",
    "    return df_stockprice.loc[idx].reset_index(drop=True)"
   ]
  },
  {
   "cell_type": "code",
   "execution_count": 39,
   "metadata": {
    "execution": {
     "iopub.execute_input": "2024-09-24T11:32:52.608872Z",
     "iopub.status.busy": "2024-09-24T11:32:52.608872Z",
     "iopub.status.idle": "2024-09-24T11:32:52.615348Z",
     "shell.execute_reply": "2024-09-24T11:32:52.615348Z"
    }
   },
   "outputs": [],
   "source": [
    "def merge_and_calculate_pnl(df_current_holding, df_stockprice):\n",
    "    \"\"\"Merges holdings data with stock prices and calculates PnL.\"\"\"\n",
    "    df_current_holding = pd.merge(\n",
    "        df_current_holding,\n",
    "        df_stockprice[[\"symbol\", \"close_price\"]],\n",
    "        on=\"symbol\",\n",
    "        how=\"left\",\n",
    "    )\n",
    "    df_current_holding[\"close_amount\"] = (\n",
    "        df_current_holding[\"close_price\"] * df_current_holding[\"total_quantity\"]\n",
    "    )\n",
    "    df_current_holding[\"pnl_amount\"] = (\n",
    "        df_current_holding[\"close_amount\"] - df_current_holding[\"total_amount\"]\n",
    "    )\n",
    "    return df_current_holding.round(2)"
   ]
  },
  {
   "cell_type": "code",
   "execution_count": 40,
   "metadata": {
    "execution": {
     "iopub.execute_input": "2024-09-24T11:32:52.615348Z",
     "iopub.status.busy": "2024-09-24T11:32:52.615348Z",
     "iopub.status.idle": "2024-09-24T11:32:52.622427Z",
     "shell.execute_reply": "2024-09-24T11:32:52.622427Z"
    }
   },
   "outputs": [],
   "source": [
    "def prepare_current_holding_data(df_current_holding, df_holding):\n",
    "    \"\"\"Prepares the current holding data with historical records.\"\"\"\n",
    "    current_holding = []\n",
    "    for _, row in df_current_holding.iterrows():\n",
    "        df_filtered = df_holding[\n",
    "            (df_holding[\"scrip_name\"] == row[\"scrip_name\"])\n",
    "            & (df_holding[\"symbol\"] == row[\"symbol\"])\n",
    "            & (df_holding[\"exchange\"] == row[\"exchange\"])\n",
    "            & (df_holding[\"segment\"] == row[\"segment\"])\n",
    "        ]\n",
    "        row = row.to_dict()\n",
    "        row[\"history\"] = df_filtered.to_dict(orient=\"records\")\n",
    "        current_holding.append(row)\n",
    "    return current_holding"
   ]
  },
  {
   "cell_type": "code",
   "execution_count": 41,
   "metadata": {
    "execution": {
     "iopub.execute_input": "2024-09-24T11:32:52.622427Z",
     "iopub.status.busy": "2024-09-24T11:32:52.622427Z",
     "iopub.status.idle": "2024-09-24T11:32:52.629584Z",
     "shell.execute_reply": "2024-09-24T11:32:52.629584Z"
    }
   },
   "outputs": [],
   "source": [
    "def process_holdings_history(df_holdings):\n",
    "    \"\"\"Processes holdings history data to calculate trends.\"\"\"\n",
    "    df_holdings[\"date\"] = pd.to_datetime(df_holdings[\"date\"]).dt.date\n",
    "    df_holdings_trands = (\n",
    "        df_holdings.groupby(\"date\")[\n",
    "            [\n",
    "                \"holding_amount\",\n",
    "                \"open_amount\",\n",
    "                \"high_amount\",\n",
    "                \"low_amount\",\n",
    "                \"close_amount\",\n",
    "            ]\n",
    "        ]\n",
    "        .sum()\n",
    "        .reset_index()\n",
    "    )\n",
    "    df_holdings_trands = df_holdings_trands.round(2).rename(\n",
    "        columns={\n",
    "            col: col.replace(\"_amount\", \"\")\n",
    "            for col in df_holdings_trands.columns\n",
    "        }\n",
    "    )\n",
    "    return (\n",
    "        df_holdings_trands[[\"date\", \"open\", \"high\", \"low\", \"close\", \"holding\"]]\n",
    "        .sort_values(by=[\"date\"])\n",
    "        .reset_index(drop=True)\n",
    "    )"
   ]
  },
  {
   "cell_type": "code",
   "execution_count": 42,
   "metadata": {
    "execution": {
     "iopub.execute_input": "2024-09-24T11:32:52.629584Z",
     "iopub.status.busy": "2024-09-24T11:32:52.629584Z",
     "iopub.status.idle": "2024-09-24T11:32:52.637788Z",
     "shell.execute_reply": "2024-09-24T11:32:52.637788Z"
    }
   },
   "outputs": [],
   "source": [
    "def process_profit_loss_data(df_profitloss):\n",
    "    \"\"\"Processes profit and loss data to calculate days and grouping by segment, exchange, symbol, and stock_name.\"\"\"\n",
    "    df_profitloss[\"stock_name\"] = df_profitloss.apply(\n",
    "        lambda row: (\n",
    "            row[\"symbol\"] if row[\"symbol\"] == \"NIFTY\" else row[\"scrip_name\"]\n",
    "        ),\n",
    "        axis=1,\n",
    "    )\n",
    "    df_profitloss[\"open_datetime\"] = pd.to_datetime(\n",
    "        df_profitloss[\"open_datetime\"]\n",
    "    )\n",
    "    df_profitloss[\"close_datetime\"] = pd.to_datetime(\n",
    "        df_profitloss[\"close_datetime\"]\n",
    "    )\n",
    "    df_profitloss[\"days\"] = (\n",
    "        df_profitloss[\"close_datetime\"] - df_profitloss[\"open_datetime\"]\n",
    "    ).dt.days\n",
    "    df_profitloss = df_profitloss.sort_values(\n",
    "        by=[\"segment\", \"symbol\"]\n",
    "    ).reset_index(drop=True)\n",
    "\n",
    "    profit_loss_data = []\n",
    "    grouped = df_profitloss.groupby(\n",
    "        [\"segment\", \"exchange\", \"symbol\", \"stock_name\"]\n",
    "    )\n",
    "\n",
    "    for (segment, exchange, symbol, stock_name), group in grouped:\n",
    "        group_dict = {\n",
    "            \"segment\": segment,\n",
    "            \"exchange\": exchange,\n",
    "            \"symbol\": symbol,\n",
    "            \"stock_name\": stock_name,\n",
    "            \"days\": (\n",
    "                group[\"close_datetime\"].max() - group[\"open_datetime\"].min()\n",
    "            ).days,\n",
    "            \"quantity\": group[\"quantity\"].sum(),\n",
    "            \"avg_price\": round(\n",
    "                group[\"open_amount\"].sum() / group[\"quantity\"].sum(), 2\n",
    "            ),\n",
    "            \"sell_price\": round(\n",
    "                group[\"close_amount\"].sum() / group[\"quantity\"].sum(), 2\n",
    "            ),\n",
    "            \"pnl\": group[\"pnl_amount\"].sum(),\n",
    "            \"history\": group[\n",
    "                [\n",
    "                    \"scrip_name\",\n",
    "                    \"position\",\n",
    "                    \"quantity\",\n",
    "                    \"days\",\n",
    "                    \"open_datetime\",\n",
    "                    \"open_price\",\n",
    "                    \"open_amount\",\n",
    "                    \"close_datetime\",\n",
    "                    \"close_price\",\n",
    "                    \"close_amount\",\n",
    "                    \"pnl_amount\",\n",
    "                    \"pnl_percentage\",\n",
    "                ]\n",
    "            ].to_dict(orient=\"records\"),\n",
    "        }\n",
    "        profit_loss_data.append(group_dict)\n",
    "    return profit_loss_data"
   ]
  },
  {
   "cell_type": "code",
   "execution_count": 43,
   "metadata": {
    "execution": {
     "iopub.execute_input": "2024-09-24T11:32:52.637788Z",
     "iopub.status.busy": "2024-09-24T11:32:52.637788Z",
     "iopub.status.idle": "2024-09-24T11:32:52.717283Z",
     "shell.execute_reply": "2024-09-24T11:32:52.717283Z"
    }
   },
   "outputs": [
    {
     "name": "stdout",
     "output_type": "stream",
     "text": [
      "Proccessing Data : D:\\Study_Material\\Anudip_foundation\\Main_Projects\\PortfolioTracker\\DATA\\GOLD\\Holdings\\CurrentHoldings_data.csv\n",
      "Proccessing Data : D:\\Study_Material\\Anudip_foundation\\Main_Projects\\PortfolioTracker\\DATA\\SILVER\\StockPrice\\StockPrice_data.csv\n"
     ]
    }
   ],
   "source": [
    "# Main flow\n",
    "df_current_holding = pd.read_csv(current_holding_records_file_path)\n",
    "print(f\"Proccessing Data : {current_holding_records_file_path}\")\n",
    "\n",
    "df_stockprice = pd.read_csv(stockprice_silver_file_path)\n",
    "print(f\"Proccessing Data : {stockprice_silver_file_path}\")\n",
    "\n",
    "\n",
    "df_current_holding = group_holdings_data(df_current_holding)\n",
    "df_stockprice = process_stock_prices(df_stockprice)\n",
    "df_current_holding = merge_and_calculate_pnl(df_current_holding, df_stockprice)\n",
    "current_holding = prepare_current_holding_data(\n",
    "    df_current_holding, df_current_holding\n",
    ")"
   ]
  },
  {
   "cell_type": "code",
   "execution_count": 44,
   "metadata": {
    "execution": {
     "iopub.execute_input": "2024-09-24T11:32:52.747714Z",
     "iopub.status.busy": "2024-09-24T11:32:52.747714Z",
     "iopub.status.idle": "2024-09-24T11:32:52.831729Z",
     "shell.execute_reply": "2024-09-24T11:32:52.831729Z"
    }
   },
   "outputs": [
    {
     "name": "stdout",
     "output_type": "stream",
     "text": [
      "Proccessing Data : D:\\Study_Material\\Anudip_foundation\\Main_Projects\\PortfolioTracker\\DATA\\GOLD\\Holdings\\HoldingsHistory_data.csv\n"
     ]
    }
   ],
   "source": [
    "df_holdings = pd.read_csv(holdingshistory_gold_file_path)\n",
    "print(f\"Proccessing Data : {holdingshistory_gold_file_path}\")\n",
    "\n",
    "holdings_trands = process_holdings_history(df_holdings).to_dict(\n",
    "    orient=\"records\"\n",
    ")"
   ]
  },
  {
   "cell_type": "code",
   "execution_count": 45,
   "metadata": {
    "execution": {
     "iopub.execute_input": "2024-09-24T11:32:52.831729Z",
     "iopub.status.busy": "2024-09-24T11:32:52.831729Z",
     "iopub.status.idle": "2024-09-24T11:32:52.912307Z",
     "shell.execute_reply": "2024-09-24T11:32:52.912307Z"
    }
   },
   "outputs": [
    {
     "name": "stdout",
     "output_type": "stream",
     "text": [
      "Proccessing Data : D:\\Study_Material\\Anudip_foundation\\Main_Projects\\PortfolioTracker\\DATA\\GOLD\\ProfitLoss\\ProfitLoss_data.csv\n"
     ]
    }
   ],
   "source": [
    "df_profitloss = pd.read_csv(profitloss_gold_file_path)\n",
    "print(f\"Proccessing Data : {profitloss_gold_file_path}\")\n",
    "profit_loss_data = process_profit_loss_data(df_profitloss)"
   ]
  },
  {
   "cell_type": "code",
   "execution_count": 46,
   "metadata": {
    "execution": {
     "iopub.execute_input": "2024-09-24T11:32:52.912307Z",
     "iopub.status.busy": "2024-09-24T11:32:52.912307Z",
     "iopub.status.idle": "2024-09-24T11:32:52.945667Z",
     "shell.execute_reply": "2024-09-24T11:32:52.945667Z"
    }
   },
   "outputs": [
    {
     "name": "stdout",
     "output_type": "stream",
     "text": [
      "Proccessing Data : D:\\Study_Material\\Anudip_foundation\\Main_Projects\\PortfolioTracker\\DATA\\GOLD\\Dividend\\Dividend_data.csv\n"
     ]
    }
   ],
   "source": [
    "df_dividend = pd.read_csv(dividend_gold_file_path)\n",
    "print(f\"Proccessing Data : {dividend_gold_file_path}\")\n",
    "\n",
    "# Apply the function to create the 'financial_year' column\n",
    "df_dividend[\"financial_year\"] = pd.to_datetime(df_dividend[\"date\"]).apply(\n",
    "    get_financial_year\n",
    ")\n",
    "\n",
    "stock_wise_dividend_data = [\n",
    "    {\n",
    "        \"segment\": segment,\n",
    "        \"symbol\": symbol,\n",
    "        \"dividend_amount\": round(symbol_group[\"dividend_amount\"].sum(), 2),\n",
    "        \"data\": [\n",
    "            {\n",
    "                \"financial_year\": financial_year,\n",
    "                \"dividend_amount\": round(fy_group[\"dividend_amount\"].sum(), 2),\n",
    "                \"data\": fy_group[[\"date\", \"dividend_amount\"]].to_dict(\n",
    "                    orient=\"records\"\n",
    "                ),\n",
    "            }\n",
    "            for (financial_year), fy_group in symbol_group.groupby(\n",
    "                \"financial_year\"\n",
    "            )\n",
    "        ],\n",
    "    }\n",
    "    for (segment, symbol), symbol_group in df_dividend.groupby(\n",
    "        [\"segment\", \"symbol\"]\n",
    "    )\n",
    "]\n",
    "\n",
    "year_wise_dividend_data = (\n",
    "    df_dividend.groupby(\"financial_year\")\n",
    "    .agg({\"dividend_amount\": \"sum\"})\n",
    "    .round(2)\n",
    "    .sort_values(by=\"financial_year\")\n",
    "    .reset_index(drop=False)\n",
    "    .to_dict(orient=\"records\")\n",
    ")"
   ]
  },
  {
   "cell_type": "code",
   "execution_count": 48,
   "metadata": {
    "execution": {
     "iopub.execute_input": "2024-09-24T11:32:52.945667Z",
     "iopub.status.busy": "2024-09-24T11:32:52.945667Z",
     "iopub.status.idle": "2024-09-24T11:32:52.976037Z",
     "shell.execute_reply": "2024-09-24T11:32:52.976037Z"
    }
   },
   "outputs": [
    {
     "name": "stdout",
     "output_type": "stream",
     "text": [
      "Data written to D:\\Study_Material\\Anudip_foundation\\Main_Projects\\PortfolioTracker\\DATA\\API\\API_data.json\n"
     ]
    }
   ],
   "source": [
    "# Create the final output dictionary for the API\n",
    "output = {\n",
    "    \"financial_summary\": {\n",
    "        \"invested_value\": round(df_current_holding[\"total_amount\"].sum(), 2),\n",
    "        \"current_value\": round(df_current_holding[\"close_amount\"].sum(), 2),\n",
    "        \"pnl_value\": round(df_current_holding[\"pnl_amount\"].sum(), 2),\n",
    "    },\n",
    "    \"current_holding_data\": current_holding,\n",
    "    \"holdings_trands_data\": holdings_trands,\n",
    "    \"profitloss_summary\": {\n",
    "        \"invested_value\": round(df_profitloss[\"open_amount\"].sum(), 2),\n",
    "        \"sold_value\": round(df_profitloss[\"close_amount\"].sum(), 2),\n",
    "        \"pnl_value\": round(df_profitloss[\"pnl_amount\"].sum(), 2),\n",
    "    },\n",
    "    \"profit_loss_data\": profit_loss_data,\n",
    "    \"dividend_data\": {\n",
    "        \"stock_wise\": stock_wise_dividend_data,\n",
    "        \"year_wise\": year_wise_dividend_data,\n",
    "    },\n",
    "}\n",
    "\n",
    "# Clean the output\n",
    "cleaned_output = replace_nan_with_empty(output)\n",
    "\n",
    "# Write the result to a JSON file\n",
    "with open(api_file_path, \"w\", encoding=\"utf-8\") as json_file:\n",
    "    json.dump(cleaned_output, json_file, indent=4, default=str)\n",
    "\n",
    "print(f\"Data written to {api_file_path}\")"
   ]
  },
  {
   "cell_type": "code",
   "execution_count": null,
   "metadata": {},
   "outputs": [],
   "source": []
  }
 ],
 "metadata": {
  "kernelspec": {
   "display_name": "Python 3 (ipykernel)",
   "language": "python",
   "name": "python3"
  },
  "language_debug": {
   "codemirror_mode": {
    "name": "ipython",
    "version": 3
   },
   "file_extension": ".py",
   "mimetype": "text/x-python",
   "name": "python",
   "nbconvert_exporter": "python",
   "pygments_lexer": "ipython3",
   "version": "3.11.4"
  },
  "language_info": {
   "codemirror_mode": {
    "name": "ipython",
    "version": 3
   },
   "file_extension": ".py",
   "mimetype": "text/x-python",
   "name": "python",
   "nbconvert_exporter": "python",
   "pygments_lexer": "ipython3",
   "version": "3.12.6"
  }
 },
 "nbformat": 4,
 "nbformat_minor": 4
}
