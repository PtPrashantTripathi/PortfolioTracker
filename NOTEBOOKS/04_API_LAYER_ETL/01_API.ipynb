{
 "cells": [
  {
   "cell_type": "markdown",
   "metadata": {},
   "source": [
    "## GOLD TO API LAYER\n",
    "### API Layer\n"
   ]
  },
  {
   "cell_type": "code",
   "execution_count": 1,
   "metadata": {
    "execution": {
     "iopub.execute_input": "2024-09-06T10:52:56.389885Z",
     "iopub.status.busy": "2024-09-06T10:52:56.389885Z",
     "iopub.status.idle": "2024-09-06T10:52:58.070179Z",
     "shell.execute_reply": "2024-09-06T10:52:58.068896Z"
    }
   },
   "outputs": [],
   "source": [
    "import json\n",
    "import pandas as pd\n",
    "from ETLTools import GlobalPath, utils"
   ]
  },
  {
   "cell_type": "code",
   "execution_count": 2,
   "metadata": {
    "execution": {
     "iopub.execute_input": "2024-09-06T10:52:58.077719Z",
     "iopub.status.busy": "2024-09-06T10:52:58.077333Z",
     "iopub.status.idle": "2024-09-06T10:52:58.097899Z",
     "shell.execute_reply": "2024-09-06T10:52:58.097899Z"
    }
   },
   "outputs": [],
   "source": [
    "# Define file paths using GlobalPath\n",
    "current_holding_records_file_path = GlobalPath(\n",
    "    \"DATA/GOLD/Holdings/CurrentHoldings_data.csv\"\n",
    ")\n",
    "stockprice_silver_file_path = GlobalPath(\n",
    "    \"DATA/SILVER/StockPrice/StockPrice_data.csv\"\n",
    ")\n",
    "holdingshistory_gold_file_path = GlobalPath(\n",
    "    \"DATA/GOLD/Holdings/HoldingsHistory_data.csv\"\n",
    ")\n",
    "profitloss_gold_file_path = GlobalPath(\n",
    "    \"DATA/GOLD/ProfitLoss/ProfitLoss_data.csv\"\n",
    ")\n",
    "dividend_gold_file_path = GlobalPath(\"DATA/GOLD/Dividend/Dividend_data.csv\")\n",
    "api_file_path = GlobalPath(\"DATA/API/API_data.json\")"
   ]
  },
  {
   "cell_type": "code",
   "execution_count": 3,
   "metadata": {
    "execution": {
     "iopub.execute_input": "2024-09-06T10:52:58.099725Z",
     "iopub.status.busy": "2024-09-06T10:52:58.099725Z",
     "iopub.status.idle": "2024-09-06T10:52:58.115663Z",
     "shell.execute_reply": "2024-09-06T10:52:58.115663Z"
    }
   },
   "outputs": [],
   "source": [
    "def group_holdings_data(df_current_holding):\n",
    "    \"\"\"Groups holding data by scrip_name, symbol, exchange, and segment to calculate totals and min datetime.\"\"\"\n",
    "    df_current_holding[\"datetime\"] = pd.to_datetime(df_current_holding[\"datetime\"])\n",
    "    df_current_holding = (\n",
    "        df_current_holding.groupby([\"scrip_name\", \"symbol\", \"exchange\", \"segment\"])\n",
    "        .agg(\n",
    "            total_quantity=(\"quantity\", \"sum\"),\n",
    "            total_amount=(\"amount\", \"sum\"),\n",
    "            min_datetime=(\"datetime\", \"min\"),\n",
    "        )\n",
    "        .reset_index()\n",
    "    )\n",
    "    df_current_holding[\"avg_price\"] = (\n",
    "        df_current_holding[\"total_amount\"]\n",
    "        / df_current_holding[\"total_quantity\"]\n",
    "    )\n",
    "    return df_current_holding"
   ]
  },
  {
   "cell_type": "code",
   "execution_count": 4,
   "metadata": {
    "execution": {
     "iopub.execute_input": "2024-09-06T10:52:58.124612Z",
     "iopub.status.busy": "2024-09-06T10:52:58.115663Z",
     "iopub.status.idle": "2024-09-06T10:52:58.132765Z",
     "shell.execute_reply": "2024-09-06T10:52:58.132765Z"
    }
   },
   "outputs": [],
   "source": [
    "def process_stock_prices(df_stockprice):\n",
    "    \"\"\"Processes stock prices to extract the latest closing price for each symbol.\"\"\"\n",
    "    df_stockprice[\"date\"] = pd.to_datetime(df_stockprice[\"date\"])\n",
    "    df_stockprice[\"close_price\"] = df_stockprice[\"close\"]\n",
    "    idx = df_stockprice.groupby(\"symbol\")[\"date\"].idxmax()\n",
    "    return df_stockprice.loc[idx].reset_index(drop=True)"
   ]
  },
  {
   "cell_type": "code",
   "execution_count": 5,
   "metadata": {
    "execution": {
     "iopub.execute_input": "2024-09-06T10:52:58.139781Z",
     "iopub.status.busy": "2024-09-06T10:52:58.139781Z",
     "iopub.status.idle": "2024-09-06T10:52:58.150259Z",
     "shell.execute_reply": "2024-09-06T10:52:58.150259Z"
    }
   },
   "outputs": [],
   "source": [
    "def merge_and_calculate_pnl(df_current_holding, df_stockprice):\n",
    "    \"\"\"Merges holdings data with stock prices and calculates PnL.\"\"\"\n",
    "    df_current_holding = pd.merge(\n",
    "        df_current_holding,\n",
    "        df_stockprice[[\"symbol\", \"close_price\"]],\n",
    "        on=\"symbol\",\n",
    "        how=\"left\",\n",
    "    )\n",
    "    df_current_holding[\"close_amount\"] = (\n",
    "        df_current_holding[\"close_price\"] * df_current_holding[\"total_quantity\"]\n",
    "    )\n",
    "    df_current_holding[\"pnl_amount\"] = (\n",
    "        df_current_holding[\"close_amount\"] - df_current_holding[\"total_amount\"]\n",
    "    )\n",
    "    return df_current_holding.round(2)"
   ]
  },
  {
   "cell_type": "code",
   "execution_count": 6,
   "metadata": {
    "execution": {
     "iopub.execute_input": "2024-09-06T10:52:58.158166Z",
     "iopub.status.busy": "2024-09-06T10:52:58.158166Z",
     "iopub.status.idle": "2024-09-06T10:52:58.168953Z",
     "shell.execute_reply": "2024-09-06T10:52:58.168953Z"
    }
   },
   "outputs": [],
   "source": [
    "def prepare_current_holding_data(df_current_holding, df_holding):\n",
    "    \"\"\"Prepares the current holding data with historical records.\"\"\"\n",
    "    current_holding = []\n",
    "    for _, row in df_current_holding.iterrows():\n",
    "        df_filtered = df_holding[\n",
    "            (df_holding[\"scrip_name\"] == row[\"scrip_name\"])\n",
    "            & (df_holding[\"symbol\"] == row[\"symbol\"])\n",
    "            & (df_holding[\"exchange\"] == row[\"exchange\"])\n",
    "            & (df_holding[\"segment\"] == row[\"segment\"])\n",
    "        ]\n",
    "        row = row.to_dict()\n",
    "        row[\"history\"] = df_filtered.to_dict(orient=\"records\")\n",
    "        current_holding.append(row)\n",
    "    return current_holding"
   ]
  },
  {
   "cell_type": "code",
   "execution_count": 7,
   "metadata": {
    "execution": {
     "iopub.execute_input": "2024-09-06T10:52:58.171473Z",
     "iopub.status.busy": "2024-09-06T10:52:58.171473Z",
     "iopub.status.idle": "2024-09-06T10:52:58.190798Z",
     "shell.execute_reply": "2024-09-06T10:52:58.190798Z"
    }
   },
   "outputs": [],
   "source": [
    "def process_holdings_history(df_holdings):\n",
    "    \"\"\"Processes holdings history data to calculate trends.\"\"\"\n",
    "    df_holdings[\"date\"] = pd.to_datetime(df_holdings[\"date\"]).dt.date\n",
    "    df_holdings_trands = (\n",
    "        df_holdings.groupby(\"date\")[\n",
    "            [\n",
    "                \"holding_amount\",\n",
    "                \"open_amount\",\n",
    "                \"high_amount\",\n",
    "                \"low_amount\",\n",
    "                \"close_amount\",\n",
    "            ]\n",
    "        ]\n",
    "        .sum()\n",
    "        .reset_index()\n",
    "    )\n",
    "    df_holdings_trands = df_holdings_trands.round(2).rename(\n",
    "        columns={\n",
    "            col: col.replace(\"_amount\", \"\")\n",
    "            for col in df_holdings_trands.columns\n",
    "        }\n",
    "    )\n",
    "    return (\n",
    "        df_holdings_trands[[\"date\", \"open\", \"high\", \"low\", \"close\", \"holding\"]]\n",
    "        .sort_values(by=[\"date\"])\n",
    "        .reset_index(drop=True)\n",
    "    )"
   ]
  },
  {
   "cell_type": "code",
   "execution_count": 8,
   "metadata": {
    "execution": {
     "iopub.execute_input": "2024-09-06T10:52:58.190798Z",
     "iopub.status.busy": "2024-09-06T10:52:58.190798Z",
     "iopub.status.idle": "2024-09-06T10:52:58.212488Z",
     "shell.execute_reply": "2024-09-06T10:52:58.212488Z"
    }
   },
   "outputs": [],
   "source": [
    "def process_profit_loss_data(df_profitloss):\n",
    "    \"\"\"Processes profit and loss data to calculate days and grouping by segment, exchange, symbol, and stock_name.\"\"\"\n",
    "    df_profitloss[\"stock_name\"] = df_profitloss.apply(\n",
    "        lambda row: (\n",
    "            row[\"symbol\"] if row[\"symbol\"] == \"NIFTY\" else row[\"scrip_name\"]\n",
    "        ),\n",
    "        axis=1,\n",
    "    )\n",
    "    df_profitloss[\"open_datetime\"] = pd.to_datetime(\n",
    "        df_profitloss[\"open_datetime\"]\n",
    "    )\n",
    "    df_profitloss[\"close_datetime\"] = pd.to_datetime(\n",
    "        df_profitloss[\"close_datetime\"]\n",
    "    )\n",
    "    df_profitloss[\"days\"] = (\n",
    "        df_profitloss[\"close_datetime\"] - df_profitloss[\"open_datetime\"]\n",
    "    ).dt.days\n",
    "    df_profitloss = df_profitloss.sort_values(\n",
    "        by=[\"segment\", \"symbol\"]\n",
    "    ).reset_index(drop=True)\n",
    "\n",
    "    profit_loss_data = []\n",
    "    grouped = df_profitloss.groupby(\n",
    "        [\"segment\", \"exchange\", \"symbol\", \"stock_name\"]\n",
    "    )\n",
    "\n",
    "    for (segment, exchange, symbol, stock_name), group in grouped:\n",
    "        group_dict = {\n",
    "            \"segment\": segment,\n",
    "            \"exchange\": exchange,\n",
    "            \"symbol\": symbol,\n",
    "            \"stock_name\": stock_name,\n",
    "            \"days\": (\n",
    "                group[\"close_datetime\"].max() - group[\"open_datetime\"].min()\n",
    "            ).days,\n",
    "            \"quantity\": group[\"quantity\"].sum(),\n",
    "            \"avg_price\": round(\n",
    "                group[\"open_amount\"].sum() / group[\"quantity\"].sum(), 2\n",
    "            ),\n",
    "            \"sell_price\": round(\n",
    "                group[\"close_amount\"].sum() / group[\"quantity\"].sum(), 2\n",
    "            ),\n",
    "            \"pnl\": group[\"pnl_amount\"].sum(),\n",
    "            \"history\": group[\n",
    "                [\n",
    "                    \"scrip_name\",\n",
    "                    \"position\",\n",
    "                    \"quantity\",\n",
    "                    \"days\",\n",
    "                    \"open_datetime\",\n",
    "                    \"open_price\",\n",
    "                    \"open_amount\",\n",
    "                    \"close_datetime\",\n",
    "                    \"close_price\",\n",
    "                    \"close_amount\",\n",
    "                    \"pnl_amount\",\n",
    "                    \"pnl_percentage\",\n",
    "                ]\n",
    "            ].to_dict(orient=\"records\"),\n",
    "        }\n",
    "        profit_loss_data.append(group_dict)\n",
    "    return profit_loss_data"
   ]
  },
  {
   "cell_type": "code",
   "execution_count": 9,
   "metadata": {
    "execution": {
     "iopub.execute_input": "2024-09-06T10:52:58.218498Z",
     "iopub.status.busy": "2024-09-06T10:52:58.218498Z",
     "iopub.status.idle": "2024-09-06T10:52:58.229024Z",
     "shell.execute_reply": "2024-09-06T10:52:58.229024Z"
    }
   },
   "outputs": [],
   "source": [
    "def process_dividend_data(df_dividend):\n",
    "    # Convert 'date' to datetime and extract year\n",
    "    df_dividend[\"year\"] = pd.to_datetime(df_dividend[\"date\"]).dt.year\n",
    "\n",
    "    # Group the data and sum 'dividend_amount'\n",
    "    stock_wise = (\n",
    "        df_dividend.groupby([\"segment\", \"symbol\"], as_index=False)\n",
    "        .agg({\"dividend_amount\": \"sum\"})\n",
    "        .round(2)\n",
    "        .sort_values(by=[\"segment\", \"symbol\"])\n",
    "        .reset_index(drop=True)\n",
    "        .to_dict(orient=\"records\")\n",
    "    )\n",
    "\n",
    "    year_wise = (\n",
    "        df_dividend.groupby([\"year\"], as_index=False)\n",
    "        .agg({\"dividend_amount\": \"sum\"})\n",
    "        .round(2)\n",
    "        .sort_values(by=[\"year\"])\n",
    "        .reset_index(drop=True)\n",
    "        .to_dict(orient=\"records\")\n",
    "    )\n",
    "    return {\"stock_wise\": stock_wise, \"year_wise\": year_wise}"
   ]
  },
  {
   "cell_type": "code",
   "execution_count": 10,
   "metadata": {
    "execution": {
     "iopub.execute_input": "2024-09-06T10:52:58.234542Z",
     "iopub.status.busy": "2024-09-06T10:52:58.234542Z",
     "iopub.status.idle": "2024-09-06T10:52:58.357034Z",
     "shell.execute_reply": "2024-09-06T10:52:58.357034Z"
    }
   },
   "outputs": [
    {
     "name": "stdout",
     "output_type": "stream",
     "text": [
      "Proccessing Data : C:\\Users\\prashant.tripathi\\Code\\PortfolioTracker\\DATA\\GOLD\\Holdings\\CurrentHoldings_data.csv\n",
      "Proccessing Data : C:\\Users\\prashant.tripathi\\Code\\PortfolioTracker\\DATA\\SILVER\\StockPrice\\StockPrice_data.csv\n"
     ]
    }
   ],
   "source": [
    "# Main flow\n",
    "df_current_holding = pd.read_csv(current_holding_records_file_path)\n",
    "print(f\"Proccessing Data : {current_holding_records_file_path}\")\n",
    "\n",
    "df_stockprice = pd.read_csv(stockprice_silver_file_path)\n",
    "print(f\"Proccessing Data : {stockprice_silver_file_path}\")\n",
    "\n",
    "\n",
    "df_current_holding = group_holdings_data(df_current_holding)\n",
    "df_stockprice = process_stock_prices(df_stockprice)\n",
    "df_current_holding = merge_and_calculate_pnl(df_current_holding, df_stockprice)\n",
    "current_holding = prepare_current_holding_data(df_current_holding, df_current_holding)"
   ]
  },
  {
   "cell_type": "code",
   "execution_count": 11,
   "metadata": {
    "execution": {
     "iopub.execute_input": "2024-09-06T10:52:58.368257Z",
     "iopub.status.busy": "2024-09-06T10:52:58.366186Z",
     "iopub.status.idle": "2024-09-06T10:52:58.429602Z",
     "shell.execute_reply": "2024-09-06T10:52:58.428288Z"
    }
   },
   "outputs": [
    {
     "name": "stdout",
     "output_type": "stream",
     "text": [
      "Proccessing Data : C:\\Users\\prashant.tripathi\\Code\\PortfolioTracker\\DATA\\GOLD\\Holdings\\HoldingsHistory_data.csv\n"
     ]
    }
   ],
   "source": [
    "df_holdings = pd.read_csv(holdingshistory_gold_file_path)\n",
    "print(f\"Proccessing Data : {holdingshistory_gold_file_path}\")\n",
    "\n",
    "holdings_trands = process_holdings_history(df_holdings).to_dict(\n",
    "    orient=\"records\"\n",
    ")"
   ]
  },
  {
   "cell_type": "code",
   "execution_count": 12,
   "metadata": {
    "execution": {
     "iopub.execute_input": "2024-09-06T10:52:58.429602Z",
     "iopub.status.busy": "2024-09-06T10:52:58.429602Z",
     "iopub.status.idle": "2024-09-06T10:52:58.543898Z",
     "shell.execute_reply": "2024-09-06T10:52:58.543898Z"
    }
   },
   "outputs": [
    {
     "name": "stdout",
     "output_type": "stream",
     "text": [
      "Proccessing Data : C:\\Users\\prashant.tripathi\\Code\\PortfolioTracker\\DATA\\GOLD\\ProfitLoss\\ProfitLoss_data.csv\n"
     ]
    }
   ],
   "source": [
    "\n",
    "df_profitloss = pd.read_csv(profitloss_gold_file_path)\n",
    "print(f\"Proccessing Data : {profitloss_gold_file_path}\")\n",
    "profit_loss_data = process_profit_loss_data(df_profitloss)"
   ]
  },
  {
   "cell_type": "code",
   "execution_count": 13,
   "metadata": {
    "execution": {
     "iopub.execute_input": "2024-09-06T10:52:58.549433Z",
     "iopub.status.busy": "2024-09-06T10:52:58.549433Z",
     "iopub.status.idle": "2024-09-06T10:52:58.581274Z",
     "shell.execute_reply": "2024-09-06T10:52:58.580248Z"
    }
   },
   "outputs": [
    {
     "name": "stdout",
     "output_type": "stream",
     "text": [
      "Proccessing Data : C:\\Users\\prashant.tripathi\\Code\\PortfolioTracker\\DATA\\GOLD\\Dividend\\Dividend_data.csv\n"
     ]
    }
   ],
   "source": [
    "df_dividend = pd.read_csv(dividend_gold_file_path)\n",
    "print(f\"Proccessing Data : {dividend_gold_file_path}\")\n",
    "dividend_data = process_dividend_data(df_dividend)"
   ]
  },
  {
   "cell_type": "code",
   "execution_count": 14,
   "metadata": {
    "execution": {
     "iopub.execute_input": "2024-09-06T10:52:58.589044Z",
     "iopub.status.busy": "2024-09-06T10:52:58.587854Z",
     "iopub.status.idle": "2024-09-06T10:52:58.746617Z",
     "shell.execute_reply": "2024-09-06T10:52:58.744770Z"
    }
   },
   "outputs": [
    {
     "name": "stdout",
     "output_type": "stream",
     "text": [
      "Data written to C:\\Users\\prashant.tripathi\\Code\\PortfolioTracker\\DATA\\API\\API_data.json"
     ]
    },
    {
     "name": "stdout",
     "output_type": "stream",
     "text": [
      "\n"
     ]
    }
   ],
   "source": [
    "# Create the final output dictionary for the API\n",
    "output = {\n",
    "    \"financial_summary\": {\n",
    "        \"invested_value\": round(df_current_holding[\"total_amount\"].sum(), 2),\n",
    "        \"current_value\": round(df_current_holding[\"close_amount\"].sum(), 2),\n",
    "        \"pnl_value\": round(df_current_holding[\"pnl_amount\"].sum(), 2),\n",
    "    },\n",
    "    \"current_holding_data\": current_holding,\n",
    "    \"holdings_trands_data\": holdings_trands,\n",
    "    \"profitloss_summary\": {\n",
    "        \"invested_value\": round(df_profitloss[\"open_amount\"].sum(), 2),\n",
    "        \"sold_value\": round(df_profitloss[\"close_amount\"].sum(), 2),\n",
    "        \"pnl_value\": round(df_profitloss[\"pnl_amount\"].sum(), 2),\n",
    "    },\n",
    "    \"profit_loss_data\": profit_loss_data,\n",
    "    \"dividend_data\": dividend_data,\n",
    "}\n",
    "\n",
    "# Write the result to a JSON file\n",
    "with open(api_file_path, \"w\", encoding=\"utf-8\") as json_file:\n",
    "    json.dump(output, json_file, indent=4, default=str)\n",
    "\n",
    "print(f\"Data written to {api_file_path}\")"
   ]
  },
  {
   "cell_type": "code",
   "execution_count": null,
   "metadata": {},
   "outputs": [],
   "source": []
  }
 ],
 "metadata": {
  "kernelspec": {
   "display_name": "Python 3 (ipykernel)",
   "language": "python",
   "name": "python3"
  },
  "language_debug": {
   "codemirror_mode": {
    "name": "ipython",
    "version": 3
   },
   "file_extension": ".py",
   "mimetype": "text/x-python",
   "name": "python",
   "nbconvert_exporter": "python",
   "pygments_lexer": "ipython3",
   "version": "3.11.4"
  },
  "language_info": {
   "codemirror_mode": {
    "name": "ipython",
    "version": 3
   },
   "file_extension": ".py",
   "mimetype": "text/x-python",
   "name": "python",
   "nbconvert_exporter": "python",
   "pygments_lexer": "ipython3",
   "version": "3.11.4"
  }
 },
 "nbformat": 4,
 "nbformat_minor": 4
}
