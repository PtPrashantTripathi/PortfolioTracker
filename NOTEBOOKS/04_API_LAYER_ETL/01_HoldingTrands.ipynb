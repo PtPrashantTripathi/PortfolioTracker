{
 "cells": [
  {
   "cell_type": "markdown",
   "metadata": {},
   "source": [
    "## SILVER TO GOLD LAYER\n",
    "\n",
    "### Gold Layer - Holdings History\n"
   ]
  },
  {
   "cell_type": "code",
   "execution_count": 7,
   "metadata": {
    "execution": {
     "iopub.execute_input": "2024-08-27T14:22:14.251289Z",
     "iopub.status.busy": "2024-08-27T14:22:14.251289Z",
     "iopub.status.idle": "2024-08-27T14:22:15.554067Z",
     "shell.execute_reply": "2024-08-27T14:22:15.553294Z"
    }
   },
   "outputs": [],
   "source": [
    "## Import necessary libraries and utility functions\n",
    "import pandas as pd\n",
    "import json\n",
    "from ETLTools import GlobalPath"
   ]
  },
  {
   "cell_type": "code",
   "execution_count": 8,
   "metadata": {
    "execution": {
     "iopub.execute_input": "2024-08-27T14:22:15.554067Z",
     "iopub.status.busy": "2024-08-27T14:22:15.554067Z",
     "iopub.status.idle": "2024-08-27T14:22:15.571411Z",
     "shell.execute_reply": "2024-08-27T14:22:15.571411Z"
    }
   },
   "outputs": [],
   "source": [
    "# Instantiate GlobalPath\n",
    "holdingshistory_gold_file_path = GlobalPath(\n",
    "    \"DATA/GOLD/Holdings/HoldingsHistory_data.csv\"\n",
    ")\n",
    "holdingstrands_gold_file_path = GlobalPath(\"DATA/API/HoldingsTrands_data.json\")"
   ]
  },
  {
   "cell_type": "code",
   "execution_count": 9,
   "metadata": {
    "execution": {
     "iopub.execute_input": "2024-08-27T14:22:15.571411Z",
     "iopub.status.busy": "2024-08-27T14:22:15.571411Z",
     "iopub.status.idle": "2024-08-27T14:22:15.634531Z",
     "shell.execute_reply": "2024-08-27T14:22:15.634531Z"
    }
   },
   "outputs": [
    {
     "name": "stdout",
     "output_type": "stream",
     "text": [
      "Loaded GOLD Layer holdings data from: DATA/GOLD/Holdings/HoldingsHistory_data.csv\n"
     ]
    }
   ],
   "source": [
    "# Load holdings data from the GOLD layer\n",
    "df_holdings = pd.read_csv(holdingshistory_gold_file_path)\n",
    "df_holdings[\"date\"] = pd.to_datetime(df_holdings[\"date\"])\n",
    "print(\n",
    "    f\"Loaded GOLD Layer holdings data from: {holdingshistory_gold_file_path.relative_path()}\"\n",
    ")"
   ]
  },
  {
   "cell_type": "code",
   "execution_count": 10,
   "metadata": {
    "execution": {
     "iopub.execute_input": "2024-08-27T14:22:15.641082Z",
     "iopub.status.busy": "2024-08-27T14:22:15.641082Z",
     "iopub.status.idle": "2024-08-27T14:22:15.653393Z",
     "shell.execute_reply": "2024-08-27T14:22:15.653393Z"
    }
   },
   "outputs": [],
   "source": [
    "# Group by the 'date' column and calculate the sum for each date\n",
    "df_holdings_trands = (\n",
    "    df_holdings.groupby(\"date\")[\n",
    "        [\n",
    "            \"holding_amount\",\n",
    "            \"open_amount\",\n",
    "            \"high_amount\",\n",
    "            \"low_amount\",\n",
    "            \"close_amount\",\n",
    "        ]\n",
    "    ]\n",
    "    .sum()\n",
    "    .reset_index()\n",
    ")"
   ]
  },
  {
   "cell_type": "code",
   "execution_count": 11,
   "metadata": {
    "execution": {
     "iopub.execute_input": "2024-08-27T14:22:15.657560Z",
     "iopub.status.busy": "2024-08-27T14:22:15.657560Z",
     "iopub.status.idle": "2024-08-27T14:22:15.668642Z",
     "shell.execute_reply": "2024-08-27T14:22:15.668642Z"
    }
   },
   "outputs": [],
   "source": [
    "# Round the numeric columns to two decimal places for precision\n",
    "df_holdings_trands = df_holdings_trands.round(2)\n",
    "\n",
    "# Remove '_amount' suffix from column names for clarity\n",
    "df_holdings_trands = df_holdings_trands.rename(\n",
    "    columns={\n",
    "        col: col.replace(\"_amount\", \"\") for col in df_holdings_trands.columns\n",
    "    }\n",
    ")"
   ]
  },
  {
   "cell_type": "code",
   "execution_count": 12,
   "metadata": {
    "execution": {
     "iopub.execute_input": "2024-08-27T14:22:15.673264Z",
     "iopub.status.busy": "2024-08-27T14:22:15.673264Z",
     "iopub.status.idle": "2024-08-27T14:22:15.712677Z",
     "shell.execute_reply": "2024-08-27T14:22:15.712677Z"
    }
   },
   "outputs": [
    {
     "name": "stdout",
     "output_type": "stream",
     "text": [
      "API Layer json file for Holdings successfully created at: DATA/API/HoldingsTrands_data.json\n"
     ]
    }
   ],
   "source": [
    "# Select and reorder columns for the final output format\n",
    "df_holdings_trands = df_holdings_trands[\n",
    "    [\n",
    "        \"date\",\n",
    "        \"open\",\n",
    "        \"high\",\n",
    "        \"low\",\n",
    "        \"close\",\n",
    "        \"holding\",\n",
    "    ]\n",
    "]\n",
    "\n",
    "# Sort the DataFrame by 'date' and reset the index for organized output\n",
    "df_holdings_trands = df_holdings_trands.sort_values(by=[\"date\"]).reset_index(\n",
    "    drop=True\n",
    ")\n",
    "\n",
    "output = df_holdings_trands.to_dict(orient=\"records\")\n",
    "\n",
    "with open(holdingstrands_gold_file_path, \"w\") as json_file:\n",
    "    json.dump(output, json_file, indent=4, default=str)\n",
    "\n",
    "print(\n",
    "    f\"API Layer json file for Holdings successfully created at: {holdingstrands_gold_file_path.relative_path()}\"\n",
    ")"
   ]
  }
 ],
 "metadata": {
  "kernelspec": {
   "display_name": "Python 3",
   "language": "python",
   "name": "python3"
  },
  "language_debug": {
   "codemirror_mode": {
    "name": "ipython",
    "version": 3
   },
   "file_extension": ".py",
   "mimetype": "text/x-python",
   "name": "python",
   "nbconvert_exporter": "python",
   "pygments_lexer": "ipython3",
   "version": "3.11.4"
  },
  "language_info": {
   "codemirror_mode": {
    "name": "ipython",
    "version": 3
   },
   "file_extension": ".py",
   "mimetype": "text/x-python",
   "name": "python",
   "nbconvert_exporter": "python",
   "pygments_lexer": "ipython3",
   "version": "3.11.4"
  }
 },
 "nbformat": 4,
 "nbformat_minor": 2
}
