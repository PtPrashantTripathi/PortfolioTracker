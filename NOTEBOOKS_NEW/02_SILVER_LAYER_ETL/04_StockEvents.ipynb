{
 "cells": [
  {
   "cell_type": "markdown",
   "metadata": {},
   "source": [
    "## BRONZE TO SILVER LAYER\n",
    "\n",
    "### Silver Layer - Stock Events History\n"
   ]
  },
  {
   "cell_type": "code",
   "execution_count": null,
   "metadata": {},
   "outputs": [],
   "source": [
    "# Importing Common Utility Function\n",
    "import re\n",
    "\n",
    "import pandas as pd\n",
    "\n",
    "from StockETL import GlobalPath"
   ]
  },
  {
   "cell_type": "code",
   "execution_count": null,
   "metadata": {},
   "outputs": [],
   "source": [
    "# Import necessary libraries and utility functions\n",
    "%run ../COMMON/common_utility.ipynb"
   ]
  },
  {
   "cell_type": "code",
   "execution_count": null,
   "metadata": {},
   "outputs": [],
   "source": [
    "# Instantiate GlobalPath\n",
    "stockdata_bronze_layer_path = GlobalPath(\"DATA/BRONZE/StockData\")\n",
    "stockevents_silver_file_path = GlobalPath(\n",
    "    \"DATA/SILVER/StockEvents/StockEvents_data.csv\"\n",
    ")\n",
    "stockevents_silver_schema_file_path = GlobalPath(\n",
    "    \"CONFIG/DATA_CONTRACTS/SILVER/StockEvents.json\"\n",
    ")"
   ]
  },
  {
   "cell_type": "markdown",
   "metadata": {},
   "source": [
    "### Data Processing\n",
    "\n",
    "This section handles the collection of data from the Bronze layer.\n",
    "\n",
    "- Files are checked for availability.\n",
    "- Data is read from each file, processed, and stored in a list of DataFrames.\n",
    "- Process stock event data from the Bronze layer and transform it for the Silver layer.\n"
   ]
  },
  {
   "cell_type": "code",
   "execution_count": null,
   "metadata": {},
   "outputs": [],
   "source": [
    "# Initialize an empty list to store DataFrames\n",
    "df_stock_events_list = []\n",
    "\n",
    "# Generate file paths for available CSV files in the Bronze layer\n",
    "file_paths = check_files_availability(stockdata_bronze_layer_path, file_pattern=\"*.csv\")\n",
    "\n",
    "# Process each CSV file found in the Bronze layer\n",
    "for file_path in file_paths:\n",
    "    print(f\"Processing file => {file_path}\")\n",
    "\n",
    "    # Read the CSV file into a DataFrame\n",
    "    df = pd.read_csv(file_path)\n",
    "\n",
    "    # Extract the stock symbol by removing the date pattern from the file name\n",
    "    df[\"symbol\"] = re.sub(r\"_\\d{4}_\\d{2}\\.csv\", \"\", file_path.name)\n",
    "\n",
    "    # Append the DataFrame to the list\n",
    "    df_stock_events_list.append(df)\n",
    "\n",
    "# Concatenate all DataFrames into a single DataFrame\n",
    "df = pd.concat(df_stock_events_list, ignore_index=True)\n",
    "\n",
    "# Harmonize column names to ensure consistency\n",
    "df = replace_punctuation_from_columns(df)\n",
    "\n",
    "# Remove columns that contain only NA values\n",
    "df.dropna(how=\"all\", axis=1, inplace=True)"
   ]
  },
  {
   "cell_type": "code",
   "execution_count": null,
   "metadata": {},
   "outputs": [],
   "source": [
    "# Convert datetime strings to date objects for consistency\n",
    "df[\"date\"] = pd.to_datetime(df[\"date\"]).dt.date\n",
    "\n",
    "# Pivot the DataFrame: columns become rows\n",
    "df = df.melt(\n",
    "    id_vars=[\"date\", \"symbol\"],\n",
    "    value_vars=[\"dividends\", \"stock_splits\", \"capital_gains\"],\n",
    "    var_name=\"event\",\n",
    "    value_name=\"value\",\n",
    ")\n",
    "\n",
    "# Convert event names to uppercase for uniformity\n",
    "df[\"event\"] = df[\"event\"].str.upper()\n",
    "\n",
    "# Round numerical values to 2 decimal places\n",
    "df[\"value\"] = df[\"value\"].fillna(0).round(2)\n",
    "\n",
    "# Filter out rows where the value is zero or less than a threshold\n",
    "df = df[df[\"value\"] > 0]\n",
    "\n",
    "# Align Datafame with DataContract\n",
    "df = align_with_datacontract(df, stockevents_silver_schema_file_path)\n",
    "\n",
    "# Save the cleaned and transformed DataFrame as a CSV file in the Silver layer\n",
    "df.to_csv(stockevents_silver_file_path, index=False)\n",
    "print(\"SILVER Layer CSV file for Stock Events history successfully created at =>\")\n",
    "print(stockevents_silver_file_path)\n",
    "\n",
    "# Log the DataFrame debug for verification\n",
    "df.info()"
   ]
  }
 ],
 "metadata": {
  "kernelspec": {
   "display_name": "Python 3",
   "language": "python",
   "name": "python3"
  },
  "language_debug": {
   "codemirror_mode": {
    "name": "ipython",
    "version": 3
   },
   "file_extension": ".py",
   "mimetype": "text/x-python",
   "name": "python",
   "nbconvert_exporter": "python",
   "pygments_lexer": "ipython3",
   "version": "3.11.4"
  },
  "language_info": {
   "codemirror_mode": {
    "name": "ipython",
    "version": 3
   },
   "file_extension": ".py",
   "mimetype": "text/x-python",
   "name": "python",
   "nbconvert_exporter": "python",
   "pygments_lexer": "ipython3",
   "version": "3.11.11"
  }
 },
 "nbformat": 4,
 "nbformat_minor": 2
}
