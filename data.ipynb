{
 "cells": [
  {
   "cell_type": "code",
   "execution_count": null,
   "id": "0",
   "metadata": {},
   "outputs": [],
   "source": [
    "# Import\n",
    "from pyspark.sql import SparkSession\n",
    "from pyspark.sql import functions as F\n",
    "from pyspark.sql.window import Window\n",
    "\n",
    "# Create SparkSession\n",
    "spark = SparkSession.builder.appName(\"Local\").master(\"local[*]\").getOrCreate()"
   ]
  },
  {
   "cell_type": "code",
   "execution_count": null,
   "id": "1",
   "metadata": {},
   "outputs": [],
   "source": [
    "# Read CSV File\n",
    "df = (\n",
    "    spark.read.option(\"inferSchema\", True)\n",
    "    .option(\"delimiter\", \",\")\n",
    "    .option(\"header\", True)\n",
    "    .csv(\"DATA/GOLD/Holding/Holding_data.csv\")\n",
    ")\n",
    "for each in df.schema:\n",
    "    print(each.name, str(each.dataType).replace(\"Type()\", \"\"))"
   ]
  },
  {
   "cell_type": "code",
   "execution_count": null,
   "id": "2",
   "metadata": {},
   "outputs": [],
   "source": [
    "scrip_window = Window.partitionBy([\"username\", \"symbol\"])"
   ]
  },
  {
   "cell_type": "code",
   "execution_count": null,
   "id": "3",
   "metadata": {},
   "outputs": [],
   "source": [
    "df_max_price_diff = (\n",
    "    df.withColumn(\"price_diff\", F.round(F.col(\"high_price\") - F.col(\"avg_price\"), 2))\n",
    "    .withColumn(\n",
    "        \"rank_price_diff\",\n",
    "        F.row_number().over(scrip_window.orderBy(F.col(\"price_diff\").desc())),\n",
    "    )\n",
    "    .filter(F.col(\"rank_price_diff\") == 1)\n",
    "    .select(\n",
    "        \"username\",\n",
    "        \"symbol\",\n",
    "        \"date\",\n",
    "        \"avg_price\",\n",
    "        \"high_price\",\n",
    "        \"price_diff\",\n",
    "    )\n",
    "    .orderBy(F.col(\"price_diff\").desc())\n",
    ")\n",
    "df_max_price_diff.write.partitionBy(\"username\").option(\"header\", True).mode(\n",
    "    \"overwrite\"\n",
    ").csv(\"output/price_diff\")"
   ]
  },
  {
   "cell_type": "code",
   "execution_count": null,
   "id": "4",
   "metadata": {},
   "outputs": [],
   "source": [
    "df_max_profit = (\n",
    "    df.withColumn(\"profit\", F.round(F.col(\"high_amount\") - F.col(\"holding_amount\"), 2))\n",
    "    .withColumn(\n",
    "        \"rank_profit\", F.row_number().over(scrip_window.orderBy(F.col(\"profit\").desc()))\n",
    "    )\n",
    "    .filter(F.col(\"rank_profit\") == 1)\n",
    "    .select(\n",
    "        \"username\",\n",
    "        \"symbol\",\n",
    "        \"date\",\n",
    "        \"holding_amount\",\n",
    "        \"high_amount\",\n",
    "        \"profit\",\n",
    "    )\n",
    "    .orderBy(F.col(\"profit\").desc())\n",
    ")\n",
    "df_max_profit.write.partitionBy(\"username\").option(\"header\", True).mode(\n",
    "    \"overwrite\"\n",
    ").csv(\"output/profit\")"
   ]
  }
 ],
 "metadata": {
  "kernelspec": {
   "display_name": "Python 3",
   "language": "python",
   "name": "python3"
  },
  "language_info": {
   "codemirror_mode": {
    "name": "ipython",
    "version": 3
   },
   "file_extension": ".py",
   "mimetype": "text/x-python",
   "name": "python",
   "nbconvert_exporter": "python",
   "pygments_lexer": "ipython3",
   "version": "3.11.11"
  }
 },
 "nbformat": 4,
 "nbformat_minor": 5
}
